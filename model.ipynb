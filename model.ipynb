{
 "cells": [
  {
   "cell_type": "markdown",
   "metadata": {
    "id": "bYHi6aX0H1Af"
   },
   "source": [
    "# Classification of text data\n",
    "\n",
    "One popular application of Natural Language processing is to classify text data. Classification can be done in various form: we can classify if a tweet is related to a particular topic or not, or we can classify if a particular review leans towards positive or negative. \n",
    "\n",
    "Today, we will hone our skills in classifying NLP data using NLP! \n",
    "Firstly, we will collect, analyze and process our data. We will be using bag of words and tf-idf (remember the activity that we have done in the acquire stage?). These processes turn texts into numbers. \n",
    "We will then take the word vectors we have created and use a machine learning algorithm to learn from the data and come up with a model to do our classification task. \n",
    "\n",
    "Let's start!\n",
    "\n",
    "For our first task, we will use a collection of tweet data to predict if the tweets are referring to natural disasters, or just regular tweets.\n",
    "\n",
    "Let's first import the required libraries!\n",
    "\n",
    "## Import Libraries"
   ]
  },
  {
   "cell_type": "code",
   "execution_count": 1,
   "metadata": {
    "id": "RaOcsLSfH1Ak"
   },
   "outputs": [],
   "source": [
    "import pandas as pd\n",
    "import numpy as np\n",
    "import nltk\n",
    "import re"
   ]
  },
  {
   "cell_type": "markdown",
   "metadata": {
    "id": "sEe75vF1H1Am"
   },
   "source": [
    "## Open csv file\n",
    "Do you have the tweet data file with you? If not, refer to Experience module 1 to see how you can download the dataset"
   ]
  },
  {
   "cell_type": "code",
   "execution_count": 3,
   "metadata": {
    "id": "srE42aqvH1Am"
   },
   "outputs": [],
   "source": [
    "df_raw = pd.read_csv('./[Dataset] (socialmedia disaster tweets DFE).csv', encoding='ISO-8859-1')"
   ]
  },
  {
   "cell_type": "code",
   "execution_count": null,
   "metadata": {
    "colab": {
     "base_uri": "https://localhost:8080/"
    },
    "executionInfo": {
     "elapsed": 32548,
     "status": "ok",
     "timestamp": 1654166242712,
     "user": {
      "displayName": "Mohit Ahuja",
      "userId": "05773503373517638884"
     },
     "user_tz": -330
    },
    "id": "cJyfVVpp6PmB",
    "outputId": "9e726cd8-0517-4824-ad0b-c0f90e8172b8"
   },
   "outputs": [
    {
     "name": "stdout",
     "output_type": "stream",
     "text": [
      "Mounted at /content/drive\n"
     ]
    }
   ],
   "source": [
    "from google.colab import drive\n",
    "drive.mount('/content/drive')"
   ]
  },
  {
   "cell_type": "markdown",
   "metadata": {
    "id": "CxsuBeVpH1An"
   },
   "source": [
    "### Analyzing our data for classification\n",
    "Before we begin working with the data, let us first look at some of the data's features. You should have an idea of the data structure from the data analysis in Experience 1."
   ]
  },
  {
   "cell_type": "code",
   "execution_count": null,
   "metadata": {
    "colab": {
     "base_uri": "https://localhost:8080/",
     "height": 600
    },
    "executionInfo": {
     "elapsed": 37,
     "status": "ok",
     "timestamp": 1654166242712,
     "user": {
      "displayName": "Mohit Ahuja",
      "userId": "05773503373517638884"
     },
     "user_tz": -330
    },
    "id": "P6ImKz0QH1Ao",
    "outputId": "4b468c42-3c28-4e4b-ff86-8783b1c0ceb7"
   },
   "outputs": [
    {
     "data": {
      "text/html": [
       "\n",
       "  <div id=\"df-da3f3237-0ba5-4a4b-b512-120bfbff4614\">\n",
       "    <div class=\"colab-df-container\">\n",
       "      <div>\n",
       "<style scoped>\n",
       "    .dataframe tbody tr th:only-of-type {\n",
       "        vertical-align: middle;\n",
       "    }\n",
       "\n",
       "    .dataframe tbody tr th {\n",
       "        vertical-align: top;\n",
       "    }\n",
       "\n",
       "    .dataframe thead th {\n",
       "        text-align: right;\n",
       "    }\n",
       "</style>\n",
       "<table border=\"1\" class=\"dataframe\">\n",
       "  <thead>\n",
       "    <tr style=\"text-align: right;\">\n",
       "      <th></th>\n",
       "      <th>Unnamed: 0</th>\n",
       "      <th>_unit_id</th>\n",
       "      <th>_golden</th>\n",
       "      <th>_unit_state</th>\n",
       "      <th>_trusted_judgments</th>\n",
       "      <th>_last_judgment_at</th>\n",
       "      <th>choose_one</th>\n",
       "      <th>choose_one:confidence</th>\n",
       "      <th>choose_one_gold</th>\n",
       "      <th>keyword</th>\n",
       "      <th>location</th>\n",
       "      <th>text</th>\n",
       "      <th>tweetid</th>\n",
       "      <th>userid</th>\n",
       "    </tr>\n",
       "  </thead>\n",
       "  <tbody>\n",
       "    <tr>\n",
       "      <th>0</th>\n",
       "      <td>0</td>\n",
       "      <td>778243823</td>\n",
       "      <td>True</td>\n",
       "      <td>golden</td>\n",
       "      <td>156</td>\n",
       "      <td>NaN</td>\n",
       "      <td>Relevant</td>\n",
       "      <td>1.0000</td>\n",
       "      <td>Relevant</td>\n",
       "      <td>NaN</td>\n",
       "      <td>NaN</td>\n",
       "      <td>Just happened a terrible car crash</td>\n",
       "      <td>1.0</td>\n",
       "      <td>NaN</td>\n",
       "    </tr>\n",
       "    <tr>\n",
       "      <th>1</th>\n",
       "      <td>1</td>\n",
       "      <td>778243824</td>\n",
       "      <td>True</td>\n",
       "      <td>golden</td>\n",
       "      <td>152</td>\n",
       "      <td>NaN</td>\n",
       "      <td>Relevant</td>\n",
       "      <td>1.0000</td>\n",
       "      <td>Relevant</td>\n",
       "      <td>NaN</td>\n",
       "      <td>NaN</td>\n",
       "      <td>Our Deeds are the Reason of this #earthquake M...</td>\n",
       "      <td>13.0</td>\n",
       "      <td>NaN</td>\n",
       "    </tr>\n",
       "    <tr>\n",
       "      <th>2</th>\n",
       "      <td>2</td>\n",
       "      <td>778243825</td>\n",
       "      <td>True</td>\n",
       "      <td>golden</td>\n",
       "      <td>137</td>\n",
       "      <td>NaN</td>\n",
       "      <td>Relevant</td>\n",
       "      <td>1.0000</td>\n",
       "      <td>Relevant</td>\n",
       "      <td>NaN</td>\n",
       "      <td>NaN</td>\n",
       "      <td>Heard about #earthquake is different cities, s...</td>\n",
       "      <td>14.0</td>\n",
       "      <td>NaN</td>\n",
       "    </tr>\n",
       "    <tr>\n",
       "      <th>3</th>\n",
       "      <td>3</td>\n",
       "      <td>778243826</td>\n",
       "      <td>True</td>\n",
       "      <td>golden</td>\n",
       "      <td>136</td>\n",
       "      <td>NaN</td>\n",
       "      <td>Relevant</td>\n",
       "      <td>0.9603</td>\n",
       "      <td>Relevant</td>\n",
       "      <td>NaN</td>\n",
       "      <td>NaN</td>\n",
       "      <td>there is a forest fire at spot pond, geese are...</td>\n",
       "      <td>15.0</td>\n",
       "      <td>NaN</td>\n",
       "    </tr>\n",
       "    <tr>\n",
       "      <th>4</th>\n",
       "      <td>4</td>\n",
       "      <td>778243827</td>\n",
       "      <td>True</td>\n",
       "      <td>golden</td>\n",
       "      <td>138</td>\n",
       "      <td>NaN</td>\n",
       "      <td>Relevant</td>\n",
       "      <td>1.0000</td>\n",
       "      <td>Relevant</td>\n",
       "      <td>NaN</td>\n",
       "      <td>NaN</td>\n",
       "      <td>Forest fire near La Ronge Sask. Canada</td>\n",
       "      <td>16.0</td>\n",
       "      <td>NaN</td>\n",
       "    </tr>\n",
       "  </tbody>\n",
       "</table>\n",
       "</div>\n",
       "      <button class=\"colab-df-convert\" onclick=\"convertToInteractive('df-da3f3237-0ba5-4a4b-b512-120bfbff4614')\"\n",
       "              title=\"Convert this dataframe to an interactive table.\"\n",
       "              style=\"display:none;\">\n",
       "        \n",
       "  <svg xmlns=\"http://www.w3.org/2000/svg\" height=\"24px\"viewBox=\"0 0 24 24\"\n",
       "       width=\"24px\">\n",
       "    <path d=\"M0 0h24v24H0V0z\" fill=\"none\"/>\n",
       "    <path d=\"M18.56 5.44l.94 2.06.94-2.06 2.06-.94-2.06-.94-.94-2.06-.94 2.06-2.06.94zm-11 1L8.5 8.5l.94-2.06 2.06-.94-2.06-.94L8.5 2.5l-.94 2.06-2.06.94zm10 10l.94 2.06.94-2.06 2.06-.94-2.06-.94-.94-2.06-.94 2.06-2.06.94z\"/><path d=\"M17.41 7.96l-1.37-1.37c-.4-.4-.92-.59-1.43-.59-.52 0-1.04.2-1.43.59L10.3 9.45l-7.72 7.72c-.78.78-.78 2.05 0 2.83L4 21.41c.39.39.9.59 1.41.59.51 0 1.02-.2 1.41-.59l7.78-7.78 2.81-2.81c.8-.78.8-2.07 0-2.86zM5.41 20L4 18.59l7.72-7.72 1.47 1.35L5.41 20z\"/>\n",
       "  </svg>\n",
       "      </button>\n",
       "      \n",
       "  <style>\n",
       "    .colab-df-container {\n",
       "      display:flex;\n",
       "      flex-wrap:wrap;\n",
       "      gap: 12px;\n",
       "    }\n",
       "\n",
       "    .colab-df-convert {\n",
       "      background-color: #E8F0FE;\n",
       "      border: none;\n",
       "      border-radius: 50%;\n",
       "      cursor: pointer;\n",
       "      display: none;\n",
       "      fill: #1967D2;\n",
       "      height: 32px;\n",
       "      padding: 0 0 0 0;\n",
       "      width: 32px;\n",
       "    }\n",
       "\n",
       "    .colab-df-convert:hover {\n",
       "      background-color: #E2EBFA;\n",
       "      box-shadow: 0px 1px 2px rgba(60, 64, 67, 0.3), 0px 1px 3px 1px rgba(60, 64, 67, 0.15);\n",
       "      fill: #174EA6;\n",
       "    }\n",
       "\n",
       "    [theme=dark] .colab-df-convert {\n",
       "      background-color: #3B4455;\n",
       "      fill: #D2E3FC;\n",
       "    }\n",
       "\n",
       "    [theme=dark] .colab-df-convert:hover {\n",
       "      background-color: #434B5C;\n",
       "      box-shadow: 0px 1px 3px 1px rgba(0, 0, 0, 0.15);\n",
       "      filter: drop-shadow(0px 1px 2px rgba(0, 0, 0, 0.3));\n",
       "      fill: #FFFFFF;\n",
       "    }\n",
       "  </style>\n",
       "\n",
       "      <script>\n",
       "        const buttonEl =\n",
       "          document.querySelector('#df-da3f3237-0ba5-4a4b-b512-120bfbff4614 button.colab-df-convert');\n",
       "        buttonEl.style.display =\n",
       "          google.colab.kernel.accessAllowed ? 'block' : 'none';\n",
       "\n",
       "        async function convertToInteractive(key) {\n",
       "          const element = document.querySelector('#df-da3f3237-0ba5-4a4b-b512-120bfbff4614');\n",
       "          const dataTable =\n",
       "            await google.colab.kernel.invokeFunction('convertToInteractive',\n",
       "                                                     [key], {});\n",
       "          if (!dataTable) return;\n",
       "\n",
       "          const docLinkHtml = 'Like what you see? Visit the ' +\n",
       "            '<a target=\"_blank\" href=https://colab.research.google.com/notebooks/data_table.ipynb>data table notebook</a>'\n",
       "            + ' to learn more about interactive tables.';\n",
       "          element.innerHTML = '';\n",
       "          dataTable['output_type'] = 'display_data';\n",
       "          await google.colab.output.renderOutput(dataTable, element);\n",
       "          const docLink = document.createElement('div');\n",
       "          docLink.innerHTML = docLinkHtml;\n",
       "          element.appendChild(docLink);\n",
       "        }\n",
       "      </script>\n",
       "    </div>\n",
       "  </div>\n",
       "  "
      ],
      "text/plain": [
       "   Unnamed: 0   _unit_id  _golden _unit_state  _trusted_judgments  \\\n",
       "0           0  778243823     True      golden                 156   \n",
       "1           1  778243824     True      golden                 152   \n",
       "2           2  778243825     True      golden                 137   \n",
       "3           3  778243826     True      golden                 136   \n",
       "4           4  778243827     True      golden                 138   \n",
       "\n",
       "  _last_judgment_at choose_one  choose_one:confidence choose_one_gold keyword  \\\n",
       "0               NaN   Relevant                 1.0000        Relevant     NaN   \n",
       "1               NaN   Relevant                 1.0000        Relevant     NaN   \n",
       "2               NaN   Relevant                 1.0000        Relevant     NaN   \n",
       "3               NaN   Relevant                 0.9603        Relevant     NaN   \n",
       "4               NaN   Relevant                 1.0000        Relevant     NaN   \n",
       "\n",
       "  location                                               text  tweetid  userid  \n",
       "0      NaN                 Just happened a terrible car crash      1.0     NaN  \n",
       "1      NaN  Our Deeds are the Reason of this #earthquake M...     13.0     NaN  \n",
       "2      NaN  Heard about #earthquake is different cities, s...     14.0     NaN  \n",
       "3      NaN  there is a forest fire at spot pond, geese are...     15.0     NaN  \n",
       "4      NaN             Forest fire near La Ronge Sask. Canada     16.0     NaN  "
      ]
     },
     "execution_count": 7,
     "metadata": {},
     "output_type": "execute_result"
    }
   ],
   "source": [
    "df_raw.head(5)"
   ]
  },
  {
   "cell_type": "markdown",
   "metadata": {
    "id": "RURwvEuPH1Ap"
   },
   "source": [
    "The head() function allows us to see the first few rows from the dataset. Do you wonder how many rows do we have here?\n",
    "\n",
    "### Task: print out the length of the dataframe"
   ]
  },
  {
   "cell_type": "code",
   "execution_count": null,
   "metadata": {
    "colab": {
     "base_uri": "https://localhost:8080/"
    },
    "executionInfo": {
     "elapsed": 35,
     "status": "ok",
     "timestamp": 1654166242713,
     "user": {
      "displayName": "Mohit Ahuja",
      "userId": "05773503373517638884"
     },
     "user_tz": -330
    },
    "id": "YpChZsD7H1Ap",
    "outputId": "3deddc7f-a1c2-48ac-8af7-fe8da520507f"
   },
   "outputs": [
    {
     "data": {
      "text/plain": [
       "10876"
      ]
     },
     "execution_count": 8,
     "metadata": {},
     "output_type": "execute_result"
    }
   ],
   "source": [
    "# your code here\n",
    "len(df_raw)"
   ]
  },
  {
   "cell_type": "markdown",
   "metadata": {
    "id": "ujO6-NUMH1Aq"
   },
   "source": [
    "What headings do you see above? Which headings do you think are important?\n",
    "\n",
    "### What is a 'target'?\n",
    "We call the field we are trying to predict the 'target'. In this case, the target is whether the tweet is relevant to a natural disaster or irrelevant. These values are reflected in the `['choose_one']` column (See it above NOW!). "
   ]
  },
  {
   "cell_type": "markdown",
   "metadata": {
    "id": "VPZXv9ZoH1Ar"
   },
   "source": [
    "### Remember the 'labels'?\n",
    "In this dataset, the labels of the target has been filled out by human volunteers. When you are working on your own datasets in the future, you may have to label them manually, or find volunteers to do so.\n",
    "\n",
    "This is usually an expensive task to do in terms of effort and time. There are even [online platforms](https://www.mturk.com/) where you can find workers for this job!"
   ]
  },
  {
   "cell_type": "markdown",
   "metadata": {
    "id": "BHe-q1JhH1Ar"
   },
   "source": [
    "### Check labels\n",
    "\n",
    "Let's look at the the categories that the tweets have been classified into. To do that, we can look for the number of unique values within that column. The python's built-in function `set()` takes in a list of values and outputs the total unique values. Let us see how it works! "
   ]
  },
  {
   "cell_type": "code",
   "execution_count": null,
   "metadata": {
    "colab": {
     "base_uri": "https://localhost:8080/"
    },
    "executionInfo": {
     "elapsed": 33,
     "status": "ok",
     "timestamp": 1654166242713,
     "user": {
      "displayName": "Mohit Ahuja",
      "userId": "05773503373517638884"
     },
     "user_tz": -330
    },
    "id": "a7a4nN-WH1As",
    "outputId": "292b54f9-c1b6-4e93-a820-d3a16b8dc9b7"
   },
   "outputs": [
    {
     "data": {
      "text/plain": [
       "{'apple', 'orange', 'pears'}"
      ]
     },
     "execution_count": 9,
     "metadata": {},
     "output_type": "execute_result"
    }
   ],
   "source": [
    "set(['apple', 'orange', 'apple', 'orange', 'pears'])"
   ]
  },
  {
   "cell_type": "markdown",
   "metadata": {
    "id": "ClCqGrfxH1As"
   },
   "source": [
    "Can you make sense of the code above? You have only 3 unique values in a list of 5, and only the unit values are printed out. \n",
    "\n",
    "### Task: Change the function such that you have 2 unique values and 6 values in the list!"
   ]
  },
  {
   "cell_type": "code",
   "execution_count": null,
   "metadata": {
    "colab": {
     "base_uri": "https://localhost:8080/"
    },
    "executionInfo": {
     "elapsed": 31,
     "status": "ok",
     "timestamp": 1654166242713,
     "user": {
      "displayName": "Mohit Ahuja",
      "userId": "05773503373517638884"
     },
     "user_tz": -330
    },
    "id": "ugPAs3HrH1At",
    "outputId": "e63b5e1a-34c2-4e7e-a8d7-b6b6c2836f6e"
   },
   "outputs": [
    {
     "data": {
      "text/plain": [
       "{'apple', 'orange'}"
      ]
     },
     "execution_count": 10,
     "metadata": {},
     "output_type": "execute_result"
    }
   ],
   "source": [
    "set(['apple', 'orange', 'apple', 'orange', 'orange','apple'])"
   ]
  },
  {
   "cell_type": "markdown",
   "metadata": {
    "id": "GB1vGpyYH1At"
   },
   "source": [
    "The piece of code below list down the values of the column 'choose_one', which is a measure of relevance of a particular tweet to natural disaster. "
   ]
  },
  {
   "cell_type": "code",
   "execution_count": null,
   "metadata": {
    "colab": {
     "base_uri": "https://localhost:8080/"
    },
    "executionInfo": {
     "elapsed": 31,
     "status": "ok",
     "timestamp": 1654166242714,
     "user": {
      "displayName": "Mohit Ahuja",
      "userId": "05773503373517638884"
     },
     "user_tz": -330
    },
    "id": "4II43jb7H1At",
    "outputId": "81d82c6e-7575-4085-b534-a7b876d9f8dc"
   },
   "outputs": [
    {
     "data": {
      "text/plain": [
       "array(['Relevant', 'Relevant', 'Relevant', ..., 'Relevant', 'Relevant',\n",
       "       'Relevant'], dtype=object)"
      ]
     },
     "execution_count": 11,
     "metadata": {},
     "output_type": "execute_result"
    }
   ],
   "source": [
    "df_raw.choose_one.values"
   ]
  },
  {
   "cell_type": "markdown",
   "metadata": {
    "id": "p2FKeE6dH1Au"
   },
   "source": [
    "Without using the set() funciton, can you guess how many potential values might this column have? \n",
    "\n",
    "### Task: find out the number of unique relevance values on the 'choose_one' column using the set() function."
   ]
  },
  {
   "cell_type": "code",
   "execution_count": null,
   "metadata": {
    "colab": {
     "base_uri": "https://localhost:8080/"
    },
    "executionInfo": {
     "elapsed": 29,
     "status": "ok",
     "timestamp": 1654166242714,
     "user": {
      "displayName": "Mohit Ahuja",
      "userId": "05773503373517638884"
     },
     "user_tz": -330
    },
    "id": "BBXTt3ORH1Au",
    "outputId": "d31713f5-b2ef-43fb-f977-7523a45e6295"
   },
   "outputs": [
    {
     "data": {
      "text/plain": [
       "{\"Can't Decide\", 'Not Relevant', 'Relevant'}"
      ]
     },
     "execution_count": 12,
     "metadata": {},
     "output_type": "execute_result"
    }
   ],
   "source": [
    "#your code here\n",
    "set(df_raw.choose_one.values)"
   ]
  },
  {
   "cell_type": "markdown",
   "metadata": {
    "id": "MOuikwvSH1Au"
   },
   "source": [
    "Makes sense? A tweet can either be related to a natural disaster, not related to a natural disaster, and there are cases when the people who labelled the data cannot decide if the tweet is related to natural disaster or not. "
   ]
  },
  {
   "cell_type": "markdown",
   "metadata": {
    "id": "ccubcnZ2H1Av"
   },
   "source": [
    "For now, we only care about predicting in a binary fashion (relevant vs not relevant), so we discard the 'Can't decide' class. Remember how we [subset data using criteria](http://chris.friedline.net/2015-12-15-rutgers/lessons/python2/02-index-slice-subset.html) on pandas dataframe?  \n",
    "\n",
    "### Task: Subset the dataframe and only take rows that does not have 'Can't Decide' in the choose_one column"
   ]
  },
  {
   "cell_type": "code",
   "execution_count": null,
   "metadata": {
    "id": "5Rc1_PyKH1Av"
   },
   "outputs": [],
   "source": [
    "# your code here\n",
    "df = df_raw[df_raw.choose_one != \"Can't Decide\"] # only take rows that does not have 'Can't Decide' in the choose_one column"
   ]
  },
  {
   "cell_type": "markdown",
   "metadata": {
    "id": "J003o6JEH1Av"
   },
   "source": [
    "Print out your dataframe and see what you have done"
   ]
  },
  {
   "cell_type": "code",
   "execution_count": null,
   "metadata": {
    "colab": {
     "base_uri": "https://localhost:8080/"
    },
    "executionInfo": {
     "elapsed": 28,
     "status": "ok",
     "timestamp": 1654166242715,
     "user": {
      "displayName": "Mohit Ahuja",
      "userId": "05773503373517638884"
     },
     "user_tz": -330
    },
    "id": "WIfCS8EMH1Av",
    "outputId": "5a62ef19-a392-4cd4-efbb-9aaa1f6d9246"
   },
   "outputs": [
    {
     "data": {
      "text/html": [
       "\n",
       "  <div id=\"df-571ebc0c-bfc5-4025-8af0-b528f0db1cfc\">\n",
       "    <div class=\"colab-df-container\">\n",
       "      <div>\n",
       "<style scoped>\n",
       "    .dataframe tbody tr th:only-of-type {\n",
       "        vertical-align: middle;\n",
       "    }\n",
       "\n",
       "    .dataframe tbody tr th {\n",
       "        vertical-align: top;\n",
       "    }\n",
       "\n",
       "    .dataframe thead th {\n",
       "        text-align: right;\n",
       "    }\n",
       "</style>\n",
       "<table border=\"1\" class=\"dataframe\">\n",
       "  <thead>\n",
       "    <tr style=\"text-align: right;\">\n",
       "      <th></th>\n",
       "      <th>Unnamed: 0</th>\n",
       "      <th>_unit_id</th>\n",
       "      <th>_golden</th>\n",
       "      <th>_unit_state</th>\n",
       "      <th>_trusted_judgments</th>\n",
       "      <th>_last_judgment_at</th>\n",
       "      <th>choose_one</th>\n",
       "      <th>choose_one:confidence</th>\n",
       "      <th>choose_one_gold</th>\n",
       "      <th>keyword</th>\n",
       "      <th>location</th>\n",
       "      <th>text</th>\n",
       "      <th>tweetid</th>\n",
       "      <th>userid</th>\n",
       "    </tr>\n",
       "  </thead>\n",
       "  <tbody>\n",
       "    <tr>\n",
       "      <th>0</th>\n",
       "      <td>0</td>\n",
       "      <td>778243823</td>\n",
       "      <td>True</td>\n",
       "      <td>golden</td>\n",
       "      <td>156</td>\n",
       "      <td>NaN</td>\n",
       "      <td>Relevant</td>\n",
       "      <td>1.0000</td>\n",
       "      <td>Relevant</td>\n",
       "      <td>NaN</td>\n",
       "      <td>NaN</td>\n",
       "      <td>Just happened a terrible car crash</td>\n",
       "      <td>1.0</td>\n",
       "      <td>NaN</td>\n",
       "    </tr>\n",
       "    <tr>\n",
       "      <th>1</th>\n",
       "      <td>1</td>\n",
       "      <td>778243824</td>\n",
       "      <td>True</td>\n",
       "      <td>golden</td>\n",
       "      <td>152</td>\n",
       "      <td>NaN</td>\n",
       "      <td>Relevant</td>\n",
       "      <td>1.0000</td>\n",
       "      <td>Relevant</td>\n",
       "      <td>NaN</td>\n",
       "      <td>NaN</td>\n",
       "      <td>Our Deeds are the Reason of this #earthquake M...</td>\n",
       "      <td>13.0</td>\n",
       "      <td>NaN</td>\n",
       "    </tr>\n",
       "    <tr>\n",
       "      <th>2</th>\n",
       "      <td>2</td>\n",
       "      <td>778243825</td>\n",
       "      <td>True</td>\n",
       "      <td>golden</td>\n",
       "      <td>137</td>\n",
       "      <td>NaN</td>\n",
       "      <td>Relevant</td>\n",
       "      <td>1.0000</td>\n",
       "      <td>Relevant</td>\n",
       "      <td>NaN</td>\n",
       "      <td>NaN</td>\n",
       "      <td>Heard about #earthquake is different cities, s...</td>\n",
       "      <td>14.0</td>\n",
       "      <td>NaN</td>\n",
       "    </tr>\n",
       "    <tr>\n",
       "      <th>3</th>\n",
       "      <td>3</td>\n",
       "      <td>778243826</td>\n",
       "      <td>True</td>\n",
       "      <td>golden</td>\n",
       "      <td>136</td>\n",
       "      <td>NaN</td>\n",
       "      <td>Relevant</td>\n",
       "      <td>0.9603</td>\n",
       "      <td>Relevant</td>\n",
       "      <td>NaN</td>\n",
       "      <td>NaN</td>\n",
       "      <td>there is a forest fire at spot pond, geese are...</td>\n",
       "      <td>15.0</td>\n",
       "      <td>NaN</td>\n",
       "    </tr>\n",
       "    <tr>\n",
       "      <th>4</th>\n",
       "      <td>4</td>\n",
       "      <td>778243827</td>\n",
       "      <td>True</td>\n",
       "      <td>golden</td>\n",
       "      <td>138</td>\n",
       "      <td>NaN</td>\n",
       "      <td>Relevant</td>\n",
       "      <td>1.0000</td>\n",
       "      <td>Relevant</td>\n",
       "      <td>NaN</td>\n",
       "      <td>NaN</td>\n",
       "      <td>Forest fire near La Ronge Sask. Canada</td>\n",
       "      <td>16.0</td>\n",
       "      <td>NaN</td>\n",
       "    </tr>\n",
       "    <tr>\n",
       "      <th>...</th>\n",
       "      <td>...</td>\n",
       "      <td>...</td>\n",
       "      <td>...</td>\n",
       "      <td>...</td>\n",
       "      <td>...</td>\n",
       "      <td>...</td>\n",
       "      <td>...</td>\n",
       "      <td>...</td>\n",
       "      <td>...</td>\n",
       "      <td>...</td>\n",
       "      <td>...</td>\n",
       "      <td>...</td>\n",
       "      <td>...</td>\n",
       "      <td>...</td>\n",
       "    </tr>\n",
       "    <tr>\n",
       "      <th>10871</th>\n",
       "      <td>10871</td>\n",
       "      <td>778261105</td>\n",
       "      <td>True</td>\n",
       "      <td>golden</td>\n",
       "      <td>100</td>\n",
       "      <td>NaN</td>\n",
       "      <td>Relevant</td>\n",
       "      <td>0.7629</td>\n",
       "      <td>Relevant</td>\n",
       "      <td>NaN</td>\n",
       "      <td>NaN</td>\n",
       "      <td>M1.94 [01:04 UTC]?5km S of Volcano Hawaii. htt...</td>\n",
       "      <td>5675678.0</td>\n",
       "      <td>NaN</td>\n",
       "    </tr>\n",
       "    <tr>\n",
       "      <th>10872</th>\n",
       "      <td>10872</td>\n",
       "      <td>778261106</td>\n",
       "      <td>True</td>\n",
       "      <td>golden</td>\n",
       "      <td>90</td>\n",
       "      <td>NaN</td>\n",
       "      <td>Relevant</td>\n",
       "      <td>0.9203</td>\n",
       "      <td>Relevant</td>\n",
       "      <td>NaN</td>\n",
       "      <td>NaN</td>\n",
       "      <td>Police investigating after an e-bike collided ...</td>\n",
       "      <td>4234.0</td>\n",
       "      <td>NaN</td>\n",
       "    </tr>\n",
       "    <tr>\n",
       "      <th>10873</th>\n",
       "      <td>10873</td>\n",
       "      <td>778261107</td>\n",
       "      <td>True</td>\n",
       "      <td>golden</td>\n",
       "      <td>102</td>\n",
       "      <td>NaN</td>\n",
       "      <td>Relevant</td>\n",
       "      <td>1.0000</td>\n",
       "      <td>Relevant</td>\n",
       "      <td>NaN</td>\n",
       "      <td>NaN</td>\n",
       "      <td>The Latest: More Homes Razed by Northern Calif...</td>\n",
       "      <td>3242.0</td>\n",
       "      <td>NaN</td>\n",
       "    </tr>\n",
       "    <tr>\n",
       "      <th>10874</th>\n",
       "      <td>10874</td>\n",
       "      <td>778261108</td>\n",
       "      <td>True</td>\n",
       "      <td>golden</td>\n",
       "      <td>96</td>\n",
       "      <td>NaN</td>\n",
       "      <td>Relevant</td>\n",
       "      <td>0.8419</td>\n",
       "      <td>Relevant</td>\n",
       "      <td>NaN</td>\n",
       "      <td>NaN</td>\n",
       "      <td>MEG issues Hazardous Weather Outlook (HWO) htt...</td>\n",
       "      <td>457.0</td>\n",
       "      <td>NaN</td>\n",
       "    </tr>\n",
       "    <tr>\n",
       "      <th>10875</th>\n",
       "      <td>10875</td>\n",
       "      <td>778261109</td>\n",
       "      <td>True</td>\n",
       "      <td>golden</td>\n",
       "      <td>97</td>\n",
       "      <td>NaN</td>\n",
       "      <td>Relevant</td>\n",
       "      <td>0.8812</td>\n",
       "      <td>Relevant</td>\n",
       "      <td>NaN</td>\n",
       "      <td>NaN</td>\n",
       "      <td>#CityofCalgary has activated its Municipal Eme...</td>\n",
       "      <td>6585.0</td>\n",
       "      <td>NaN</td>\n",
       "    </tr>\n",
       "  </tbody>\n",
       "</table>\n",
       "<p>10860 rows × 14 columns</p>\n",
       "</div>\n",
       "      <button class=\"colab-df-convert\" onclick=\"convertToInteractive('df-571ebc0c-bfc5-4025-8af0-b528f0db1cfc')\"\n",
       "              title=\"Convert this dataframe to an interactive table.\"\n",
       "              style=\"display:none;\">\n",
       "        \n",
       "  <svg xmlns=\"http://www.w3.org/2000/svg\" height=\"24px\"viewBox=\"0 0 24 24\"\n",
       "       width=\"24px\">\n",
       "    <path d=\"M0 0h24v24H0V0z\" fill=\"none\"/>\n",
       "    <path d=\"M18.56 5.44l.94 2.06.94-2.06 2.06-.94-2.06-.94-.94-2.06-.94 2.06-2.06.94zm-11 1L8.5 8.5l.94-2.06 2.06-.94-2.06-.94L8.5 2.5l-.94 2.06-2.06.94zm10 10l.94 2.06.94-2.06 2.06-.94-2.06-.94-.94-2.06-.94 2.06-2.06.94z\"/><path d=\"M17.41 7.96l-1.37-1.37c-.4-.4-.92-.59-1.43-.59-.52 0-1.04.2-1.43.59L10.3 9.45l-7.72 7.72c-.78.78-.78 2.05 0 2.83L4 21.41c.39.39.9.59 1.41.59.51 0 1.02-.2 1.41-.59l7.78-7.78 2.81-2.81c.8-.78.8-2.07 0-2.86zM5.41 20L4 18.59l7.72-7.72 1.47 1.35L5.41 20z\"/>\n",
       "  </svg>\n",
       "      </button>\n",
       "      \n",
       "  <style>\n",
       "    .colab-df-container {\n",
       "      display:flex;\n",
       "      flex-wrap:wrap;\n",
       "      gap: 12px;\n",
       "    }\n",
       "\n",
       "    .colab-df-convert {\n",
       "      background-color: #E8F0FE;\n",
       "      border: none;\n",
       "      border-radius: 50%;\n",
       "      cursor: pointer;\n",
       "      display: none;\n",
       "      fill: #1967D2;\n",
       "      height: 32px;\n",
       "      padding: 0 0 0 0;\n",
       "      width: 32px;\n",
       "    }\n",
       "\n",
       "    .colab-df-convert:hover {\n",
       "      background-color: #E2EBFA;\n",
       "      box-shadow: 0px 1px 2px rgba(60, 64, 67, 0.3), 0px 1px 3px 1px rgba(60, 64, 67, 0.15);\n",
       "      fill: #174EA6;\n",
       "    }\n",
       "\n",
       "    [theme=dark] .colab-df-convert {\n",
       "      background-color: #3B4455;\n",
       "      fill: #D2E3FC;\n",
       "    }\n",
       "\n",
       "    [theme=dark] .colab-df-convert:hover {\n",
       "      background-color: #434B5C;\n",
       "      box-shadow: 0px 1px 3px 1px rgba(0, 0, 0, 0.15);\n",
       "      filter: drop-shadow(0px 1px 2px rgba(0, 0, 0, 0.3));\n",
       "      fill: #FFFFFF;\n",
       "    }\n",
       "  </style>\n",
       "\n",
       "      <script>\n",
       "        const buttonEl =\n",
       "          document.querySelector('#df-571ebc0c-bfc5-4025-8af0-b528f0db1cfc button.colab-df-convert');\n",
       "        buttonEl.style.display =\n",
       "          google.colab.kernel.accessAllowed ? 'block' : 'none';\n",
       "\n",
       "        async function convertToInteractive(key) {\n",
       "          const element = document.querySelector('#df-571ebc0c-bfc5-4025-8af0-b528f0db1cfc');\n",
       "          const dataTable =\n",
       "            await google.colab.kernel.invokeFunction('convertToInteractive',\n",
       "                                                     [key], {});\n",
       "          if (!dataTable) return;\n",
       "\n",
       "          const docLinkHtml = 'Like what you see? Visit the ' +\n",
       "            '<a target=\"_blank\" href=https://colab.research.google.com/notebooks/data_table.ipynb>data table notebook</a>'\n",
       "            + ' to learn more about interactive tables.';\n",
       "          element.innerHTML = '';\n",
       "          dataTable['output_type'] = 'display_data';\n",
       "          await google.colab.output.renderOutput(dataTable, element);\n",
       "          const docLink = document.createElement('div');\n",
       "          docLink.innerHTML = docLinkHtml;\n",
       "          element.appendChild(docLink);\n",
       "        }\n",
       "      </script>\n",
       "    </div>\n",
       "  </div>\n",
       "  "
      ],
      "text/plain": [
       "       Unnamed: 0   _unit_id  _golden _unit_state  _trusted_judgments  \\\n",
       "0               0  778243823     True      golden                 156   \n",
       "1               1  778243824     True      golden                 152   \n",
       "2               2  778243825     True      golden                 137   \n",
       "3               3  778243826     True      golden                 136   \n",
       "4               4  778243827     True      golden                 138   \n",
       "...           ...        ...      ...         ...                 ...   \n",
       "10871       10871  778261105     True      golden                 100   \n",
       "10872       10872  778261106     True      golden                  90   \n",
       "10873       10873  778261107     True      golden                 102   \n",
       "10874       10874  778261108     True      golden                  96   \n",
       "10875       10875  778261109     True      golden                  97   \n",
       "\n",
       "      _last_judgment_at choose_one  choose_one:confidence choose_one_gold  \\\n",
       "0                   NaN   Relevant                 1.0000        Relevant   \n",
       "1                   NaN   Relevant                 1.0000        Relevant   \n",
       "2                   NaN   Relevant                 1.0000        Relevant   \n",
       "3                   NaN   Relevant                 0.9603        Relevant   \n",
       "4                   NaN   Relevant                 1.0000        Relevant   \n",
       "...                 ...        ...                    ...             ...   \n",
       "10871               NaN   Relevant                 0.7629        Relevant   \n",
       "10872               NaN   Relevant                 0.9203        Relevant   \n",
       "10873               NaN   Relevant                 1.0000        Relevant   \n",
       "10874               NaN   Relevant                 0.8419        Relevant   \n",
       "10875               NaN   Relevant                 0.8812        Relevant   \n",
       "\n",
       "      keyword location                                               text  \\\n",
       "0         NaN      NaN                 Just happened a terrible car crash   \n",
       "1         NaN      NaN  Our Deeds are the Reason of this #earthquake M...   \n",
       "2         NaN      NaN  Heard about #earthquake is different cities, s...   \n",
       "3         NaN      NaN  there is a forest fire at spot pond, geese are...   \n",
       "4         NaN      NaN             Forest fire near La Ronge Sask. Canada   \n",
       "...       ...      ...                                                ...   \n",
       "10871     NaN      NaN  M1.94 [01:04 UTC]?5km S of Volcano Hawaii. htt...   \n",
       "10872     NaN      NaN  Police investigating after an e-bike collided ...   \n",
       "10873     NaN      NaN  The Latest: More Homes Razed by Northern Calif...   \n",
       "10874     NaN      NaN  MEG issues Hazardous Weather Outlook (HWO) htt...   \n",
       "10875     NaN      NaN  #CityofCalgary has activated its Municipal Eme...   \n",
       "\n",
       "         tweetid  userid  \n",
       "0            1.0     NaN  \n",
       "1           13.0     NaN  \n",
       "2           14.0     NaN  \n",
       "3           15.0     NaN  \n",
       "4           16.0     NaN  \n",
       "...          ...     ...  \n",
       "10871  5675678.0     NaN  \n",
       "10872     4234.0     NaN  \n",
       "10873     3242.0     NaN  \n",
       "10874      457.0     NaN  \n",
       "10875     6585.0     NaN  \n",
       "\n",
       "[10860 rows x 14 columns]"
      ]
     },
     "execution_count": 14,
     "metadata": {},
     "output_type": "execute_result"
    }
   ],
   "source": [
    "df"
   ]
  },
  {
   "cell_type": "markdown",
   "metadata": {
    "id": "RXEIxGXkH1Aw"
   },
   "source": [
    "Check out the length of your dataframe now. Does it decreases or stay the same?\n",
    "\n",
    "### Print out the lengthe of the dataframe"
   ]
  },
  {
   "cell_type": "code",
   "execution_count": null,
   "metadata": {
    "colab": {
     "base_uri": "https://localhost:8080/"
    },
    "executionInfo": {
     "elapsed": 28,
     "status": "ok",
     "timestamp": 1654166242716,
     "user": {
      "displayName": "Mohit Ahuja",
      "userId": "05773503373517638884"
     },
     "user_tz": -330
    },
    "id": "jlXQczd0H1Aw",
    "outputId": "9ba393a1-d006-41c9-beb3-c00df4332b46"
   },
   "outputs": [
    {
     "data": {
      "text/plain": [
       "10860"
      ]
     },
     "execution_count": 15,
     "metadata": {},
     "output_type": "execute_result"
    }
   ],
   "source": [
    "# your code here\n",
    "len(df)"
   ]
  },
  {
   "cell_type": "markdown",
   "metadata": {
    "id": "DHpSwrD4H1Ax"
   },
   "source": [
    "Now, we want to focus on only columns 'text' and 'choose_one'\n",
    "\n",
    "### Task: Subset the dataframe to only take the columns 'text' and 'choose_one'\n",
    "See Selecting Data Using Labels (Column Headings) from this [article](http://chris.friedline.net/2015-12-15-rutgers/lessons/python2/02-index-slice-subset.html)!"
   ]
  },
  {
   "cell_type": "code",
   "execution_count": null,
   "metadata": {
    "id": "EzgsLfC2H1Ax"
   },
   "outputs": [],
   "source": [
    "# your code here\n",
    "df = df[['text','choose_one']] # Only take the columns 'text' and 'choose_one'"
   ]
  },
  {
   "cell_type": "code",
   "execution_count": null,
   "metadata": {
    "colab": {
     "base_uri": "https://localhost:8080/"
    },
    "executionInfo": {
     "elapsed": 28,
     "status": "ok",
     "timestamp": 1654166242717,
     "user": {
      "displayName": "Mohit Ahuja",
      "userId": "05773503373517638884"
     },
     "user_tz": -330
    },
    "id": "Z7hB64HzH1Ax",
    "outputId": "976f1964-696f-4254-fadc-3d6bed666d5a"
   },
   "outputs": [
    {
     "data": {
      "text/html": [
       "\n",
       "  <div id=\"df-ab1663ea-31de-4c30-9c8b-2eced33f2343\">\n",
       "    <div class=\"colab-df-container\">\n",
       "      <div>\n",
       "<style scoped>\n",
       "    .dataframe tbody tr th:only-of-type {\n",
       "        vertical-align: middle;\n",
       "    }\n",
       "\n",
       "    .dataframe tbody tr th {\n",
       "        vertical-align: top;\n",
       "    }\n",
       "\n",
       "    .dataframe thead th {\n",
       "        text-align: right;\n",
       "    }\n",
       "</style>\n",
       "<table border=\"1\" class=\"dataframe\">\n",
       "  <thead>\n",
       "    <tr style=\"text-align: right;\">\n",
       "      <th></th>\n",
       "      <th>text</th>\n",
       "      <th>choose_one</th>\n",
       "    </tr>\n",
       "  </thead>\n",
       "  <tbody>\n",
       "    <tr>\n",
       "      <th>0</th>\n",
       "      <td>Just happened a terrible car crash</td>\n",
       "      <td>Relevant</td>\n",
       "    </tr>\n",
       "    <tr>\n",
       "      <th>1</th>\n",
       "      <td>Our Deeds are the Reason of this #earthquake M...</td>\n",
       "      <td>Relevant</td>\n",
       "    </tr>\n",
       "    <tr>\n",
       "      <th>2</th>\n",
       "      <td>Heard about #earthquake is different cities, s...</td>\n",
       "      <td>Relevant</td>\n",
       "    </tr>\n",
       "    <tr>\n",
       "      <th>3</th>\n",
       "      <td>there is a forest fire at spot pond, geese are...</td>\n",
       "      <td>Relevant</td>\n",
       "    </tr>\n",
       "    <tr>\n",
       "      <th>4</th>\n",
       "      <td>Forest fire near La Ronge Sask. Canada</td>\n",
       "      <td>Relevant</td>\n",
       "    </tr>\n",
       "    <tr>\n",
       "      <th>...</th>\n",
       "      <td>...</td>\n",
       "      <td>...</td>\n",
       "    </tr>\n",
       "    <tr>\n",
       "      <th>10871</th>\n",
       "      <td>M1.94 [01:04 UTC]?5km S of Volcano Hawaii. htt...</td>\n",
       "      <td>Relevant</td>\n",
       "    </tr>\n",
       "    <tr>\n",
       "      <th>10872</th>\n",
       "      <td>Police investigating after an e-bike collided ...</td>\n",
       "      <td>Relevant</td>\n",
       "    </tr>\n",
       "    <tr>\n",
       "      <th>10873</th>\n",
       "      <td>The Latest: More Homes Razed by Northern Calif...</td>\n",
       "      <td>Relevant</td>\n",
       "    </tr>\n",
       "    <tr>\n",
       "      <th>10874</th>\n",
       "      <td>MEG issues Hazardous Weather Outlook (HWO) htt...</td>\n",
       "      <td>Relevant</td>\n",
       "    </tr>\n",
       "    <tr>\n",
       "      <th>10875</th>\n",
       "      <td>#CityofCalgary has activated its Municipal Eme...</td>\n",
       "      <td>Relevant</td>\n",
       "    </tr>\n",
       "  </tbody>\n",
       "</table>\n",
       "<p>10860 rows × 2 columns</p>\n",
       "</div>\n",
       "      <button class=\"colab-df-convert\" onclick=\"convertToInteractive('df-ab1663ea-31de-4c30-9c8b-2eced33f2343')\"\n",
       "              title=\"Convert this dataframe to an interactive table.\"\n",
       "              style=\"display:none;\">\n",
       "        \n",
       "  <svg xmlns=\"http://www.w3.org/2000/svg\" height=\"24px\"viewBox=\"0 0 24 24\"\n",
       "       width=\"24px\">\n",
       "    <path d=\"M0 0h24v24H0V0z\" fill=\"none\"/>\n",
       "    <path d=\"M18.56 5.44l.94 2.06.94-2.06 2.06-.94-2.06-.94-.94-2.06-.94 2.06-2.06.94zm-11 1L8.5 8.5l.94-2.06 2.06-.94-2.06-.94L8.5 2.5l-.94 2.06-2.06.94zm10 10l.94 2.06.94-2.06 2.06-.94-2.06-.94-.94-2.06-.94 2.06-2.06.94z\"/><path d=\"M17.41 7.96l-1.37-1.37c-.4-.4-.92-.59-1.43-.59-.52 0-1.04.2-1.43.59L10.3 9.45l-7.72 7.72c-.78.78-.78 2.05 0 2.83L4 21.41c.39.39.9.59 1.41.59.51 0 1.02-.2 1.41-.59l7.78-7.78 2.81-2.81c.8-.78.8-2.07 0-2.86zM5.41 20L4 18.59l7.72-7.72 1.47 1.35L5.41 20z\"/>\n",
       "  </svg>\n",
       "      </button>\n",
       "      \n",
       "  <style>\n",
       "    .colab-df-container {\n",
       "      display:flex;\n",
       "      flex-wrap:wrap;\n",
       "      gap: 12px;\n",
       "    }\n",
       "\n",
       "    .colab-df-convert {\n",
       "      background-color: #E8F0FE;\n",
       "      border: none;\n",
       "      border-radius: 50%;\n",
       "      cursor: pointer;\n",
       "      display: none;\n",
       "      fill: #1967D2;\n",
       "      height: 32px;\n",
       "      padding: 0 0 0 0;\n",
       "      width: 32px;\n",
       "    }\n",
       "\n",
       "    .colab-df-convert:hover {\n",
       "      background-color: #E2EBFA;\n",
       "      box-shadow: 0px 1px 2px rgba(60, 64, 67, 0.3), 0px 1px 3px 1px rgba(60, 64, 67, 0.15);\n",
       "      fill: #174EA6;\n",
       "    }\n",
       "\n",
       "    [theme=dark] .colab-df-convert {\n",
       "      background-color: #3B4455;\n",
       "      fill: #D2E3FC;\n",
       "    }\n",
       "\n",
       "    [theme=dark] .colab-df-convert:hover {\n",
       "      background-color: #434B5C;\n",
       "      box-shadow: 0px 1px 3px 1px rgba(0, 0, 0, 0.15);\n",
       "      filter: drop-shadow(0px 1px 2px rgba(0, 0, 0, 0.3));\n",
       "      fill: #FFFFFF;\n",
       "    }\n",
       "  </style>\n",
       "\n",
       "      <script>\n",
       "        const buttonEl =\n",
       "          document.querySelector('#df-ab1663ea-31de-4c30-9c8b-2eced33f2343 button.colab-df-convert');\n",
       "        buttonEl.style.display =\n",
       "          google.colab.kernel.accessAllowed ? 'block' : 'none';\n",
       "\n",
       "        async function convertToInteractive(key) {\n",
       "          const element = document.querySelector('#df-ab1663ea-31de-4c30-9c8b-2eced33f2343');\n",
       "          const dataTable =\n",
       "            await google.colab.kernel.invokeFunction('convertToInteractive',\n",
       "                                                     [key], {});\n",
       "          if (!dataTable) return;\n",
       "\n",
       "          const docLinkHtml = 'Like what you see? Visit the ' +\n",
       "            '<a target=\"_blank\" href=https://colab.research.google.com/notebooks/data_table.ipynb>data table notebook</a>'\n",
       "            + ' to learn more about interactive tables.';\n",
       "          element.innerHTML = '';\n",
       "          dataTable['output_type'] = 'display_data';\n",
       "          await google.colab.output.renderOutput(dataTable, element);\n",
       "          const docLink = document.createElement('div');\n",
       "          docLink.innerHTML = docLinkHtml;\n",
       "          element.appendChild(docLink);\n",
       "        }\n",
       "      </script>\n",
       "    </div>\n",
       "  </div>\n",
       "  "
      ],
      "text/plain": [
       "                                                    text choose_one\n",
       "0                     Just happened a terrible car crash   Relevant\n",
       "1      Our Deeds are the Reason of this #earthquake M...   Relevant\n",
       "2      Heard about #earthquake is different cities, s...   Relevant\n",
       "3      there is a forest fire at spot pond, geese are...   Relevant\n",
       "4                 Forest fire near La Ronge Sask. Canada   Relevant\n",
       "...                                                  ...        ...\n",
       "10871  M1.94 [01:04 UTC]?5km S of Volcano Hawaii. htt...   Relevant\n",
       "10872  Police investigating after an e-bike collided ...   Relevant\n",
       "10873  The Latest: More Homes Razed by Northern Calif...   Relevant\n",
       "10874  MEG issues Hazardous Weather Outlook (HWO) htt...   Relevant\n",
       "10875  #CityofCalgary has activated its Municipal Eme...   Relevant\n",
       "\n",
       "[10860 rows x 2 columns]"
      ]
     },
     "execution_count": 17,
     "metadata": {},
     "output_type": "execute_result"
    }
   ],
   "source": [
    "df"
   ]
  },
  {
   "cell_type": "markdown",
   "metadata": {
    "id": "buCS30fhH1Ax"
   },
   "source": [
    "We also [map](https://chrisalbon.com/python/data_wrangling/pandas_map_values_to_values/) these values on to numbers 1 for relevant tweets, and 0 for irrelevant tweets. \n",
    "\n",
    "### Task: Map 'Relevant' into 1 and 'Irrelevant' into 0 and put it into a new column called 'relevance'"
   ]
  },
  {
   "cell_type": "code",
   "execution_count": null,
   "metadata": {
    "colab": {
     "base_uri": "https://localhost:8080/"
    },
    "executionInfo": {
     "elapsed": 29,
     "status": "ok",
     "timestamp": 1654166242718,
     "user": {
      "displayName": "Mohit Ahuja",
      "userId": "05773503373517638884"
     },
     "user_tz": -330
    },
    "id": "zMI_K_EEH1Ax",
    "outputId": "dc1e391e-6d29-430c-eb84-2a46a9760e63"
   },
   "outputs": [
    {
     "name": "stderr",
     "output_type": "stream",
     "text": [
      "/usr/local/lib/python3.7/dist-packages/ipykernel_launcher.py:2: SettingWithCopyWarning: \n",
      "A value is trying to be set on a copy of a slice from a DataFrame.\n",
      "Try using .loc[row_indexer,col_indexer] = value instead\n",
      "\n",
      "See the caveats in the documentation: https://pandas.pydata.org/pandas-docs/stable/user_guide/indexing.html#returning-a-view-versus-a-copy\n",
      "  \n"
     ]
    }
   ],
   "source": [
    "relevance = {'Relevant':1,'Not Relevant':0}\n",
    "df['relevance'] = df.choose_one.map(relevance) # map relevant values to the number 1, and not relevant to the value 0"
   ]
  },
  {
   "cell_type": "code",
   "execution_count": null,
   "metadata": {
    "colab": {
     "base_uri": "https://localhost:8080/"
    },
    "executionInfo": {
     "elapsed": 29,
     "status": "ok",
     "timestamp": 1654166242719,
     "user": {
      "displayName": "Mohit Ahuja",
      "userId": "05773503373517638884"
     },
     "user_tz": -330
    },
    "id": "8IyI7SZxH1Ay",
    "outputId": "c745fa0a-8939-4cb7-a64b-69c5cabd1458"
   },
   "outputs": [
    {
     "data": {
      "text/html": [
       "\n",
       "  <div id=\"df-ef5bb55e-971c-44e5-a62c-e299c1c8b481\">\n",
       "    <div class=\"colab-df-container\">\n",
       "      <div>\n",
       "<style scoped>\n",
       "    .dataframe tbody tr th:only-of-type {\n",
       "        vertical-align: middle;\n",
       "    }\n",
       "\n",
       "    .dataframe tbody tr th {\n",
       "        vertical-align: top;\n",
       "    }\n",
       "\n",
       "    .dataframe thead th {\n",
       "        text-align: right;\n",
       "    }\n",
       "</style>\n",
       "<table border=\"1\" class=\"dataframe\">\n",
       "  <thead>\n",
       "    <tr style=\"text-align: right;\">\n",
       "      <th></th>\n",
       "      <th>text</th>\n",
       "      <th>choose_one</th>\n",
       "      <th>relevance</th>\n",
       "    </tr>\n",
       "  </thead>\n",
       "  <tbody>\n",
       "    <tr>\n",
       "      <th>0</th>\n",
       "      <td>Just happened a terrible car crash</td>\n",
       "      <td>Relevant</td>\n",
       "      <td>1</td>\n",
       "    </tr>\n",
       "    <tr>\n",
       "      <th>1</th>\n",
       "      <td>Our Deeds are the Reason of this #earthquake M...</td>\n",
       "      <td>Relevant</td>\n",
       "      <td>1</td>\n",
       "    </tr>\n",
       "    <tr>\n",
       "      <th>2</th>\n",
       "      <td>Heard about #earthquake is different cities, s...</td>\n",
       "      <td>Relevant</td>\n",
       "      <td>1</td>\n",
       "    </tr>\n",
       "    <tr>\n",
       "      <th>3</th>\n",
       "      <td>there is a forest fire at spot pond, geese are...</td>\n",
       "      <td>Relevant</td>\n",
       "      <td>1</td>\n",
       "    </tr>\n",
       "    <tr>\n",
       "      <th>4</th>\n",
       "      <td>Forest fire near La Ronge Sask. Canada</td>\n",
       "      <td>Relevant</td>\n",
       "      <td>1</td>\n",
       "    </tr>\n",
       "    <tr>\n",
       "      <th>...</th>\n",
       "      <td>...</td>\n",
       "      <td>...</td>\n",
       "      <td>...</td>\n",
       "    </tr>\n",
       "    <tr>\n",
       "      <th>10871</th>\n",
       "      <td>M1.94 [01:04 UTC]?5km S of Volcano Hawaii. htt...</td>\n",
       "      <td>Relevant</td>\n",
       "      <td>1</td>\n",
       "    </tr>\n",
       "    <tr>\n",
       "      <th>10872</th>\n",
       "      <td>Police investigating after an e-bike collided ...</td>\n",
       "      <td>Relevant</td>\n",
       "      <td>1</td>\n",
       "    </tr>\n",
       "    <tr>\n",
       "      <th>10873</th>\n",
       "      <td>The Latest: More Homes Razed by Northern Calif...</td>\n",
       "      <td>Relevant</td>\n",
       "      <td>1</td>\n",
       "    </tr>\n",
       "    <tr>\n",
       "      <th>10874</th>\n",
       "      <td>MEG issues Hazardous Weather Outlook (HWO) htt...</td>\n",
       "      <td>Relevant</td>\n",
       "      <td>1</td>\n",
       "    </tr>\n",
       "    <tr>\n",
       "      <th>10875</th>\n",
       "      <td>#CityofCalgary has activated its Municipal Eme...</td>\n",
       "      <td>Relevant</td>\n",
       "      <td>1</td>\n",
       "    </tr>\n",
       "  </tbody>\n",
       "</table>\n",
       "<p>10860 rows × 3 columns</p>\n",
       "</div>\n",
       "      <button class=\"colab-df-convert\" onclick=\"convertToInteractive('df-ef5bb55e-971c-44e5-a62c-e299c1c8b481')\"\n",
       "              title=\"Convert this dataframe to an interactive table.\"\n",
       "              style=\"display:none;\">\n",
       "        \n",
       "  <svg xmlns=\"http://www.w3.org/2000/svg\" height=\"24px\"viewBox=\"0 0 24 24\"\n",
       "       width=\"24px\">\n",
       "    <path d=\"M0 0h24v24H0V0z\" fill=\"none\"/>\n",
       "    <path d=\"M18.56 5.44l.94 2.06.94-2.06 2.06-.94-2.06-.94-.94-2.06-.94 2.06-2.06.94zm-11 1L8.5 8.5l.94-2.06 2.06-.94-2.06-.94L8.5 2.5l-.94 2.06-2.06.94zm10 10l.94 2.06.94-2.06 2.06-.94-2.06-.94-.94-2.06-.94 2.06-2.06.94z\"/><path d=\"M17.41 7.96l-1.37-1.37c-.4-.4-.92-.59-1.43-.59-.52 0-1.04.2-1.43.59L10.3 9.45l-7.72 7.72c-.78.78-.78 2.05 0 2.83L4 21.41c.39.39.9.59 1.41.59.51 0 1.02-.2 1.41-.59l7.78-7.78 2.81-2.81c.8-.78.8-2.07 0-2.86zM5.41 20L4 18.59l7.72-7.72 1.47 1.35L5.41 20z\"/>\n",
       "  </svg>\n",
       "      </button>\n",
       "      \n",
       "  <style>\n",
       "    .colab-df-container {\n",
       "      display:flex;\n",
       "      flex-wrap:wrap;\n",
       "      gap: 12px;\n",
       "    }\n",
       "\n",
       "    .colab-df-convert {\n",
       "      background-color: #E8F0FE;\n",
       "      border: none;\n",
       "      border-radius: 50%;\n",
       "      cursor: pointer;\n",
       "      display: none;\n",
       "      fill: #1967D2;\n",
       "      height: 32px;\n",
       "      padding: 0 0 0 0;\n",
       "      width: 32px;\n",
       "    }\n",
       "\n",
       "    .colab-df-convert:hover {\n",
       "      background-color: #E2EBFA;\n",
       "      box-shadow: 0px 1px 2px rgba(60, 64, 67, 0.3), 0px 1px 3px 1px rgba(60, 64, 67, 0.15);\n",
       "      fill: #174EA6;\n",
       "    }\n",
       "\n",
       "    [theme=dark] .colab-df-convert {\n",
       "      background-color: #3B4455;\n",
       "      fill: #D2E3FC;\n",
       "    }\n",
       "\n",
       "    [theme=dark] .colab-df-convert:hover {\n",
       "      background-color: #434B5C;\n",
       "      box-shadow: 0px 1px 3px 1px rgba(0, 0, 0, 0.15);\n",
       "      filter: drop-shadow(0px 1px 2px rgba(0, 0, 0, 0.3));\n",
       "      fill: #FFFFFF;\n",
       "    }\n",
       "  </style>\n",
       "\n",
       "      <script>\n",
       "        const buttonEl =\n",
       "          document.querySelector('#df-ef5bb55e-971c-44e5-a62c-e299c1c8b481 button.colab-df-convert');\n",
       "        buttonEl.style.display =\n",
       "          google.colab.kernel.accessAllowed ? 'block' : 'none';\n",
       "\n",
       "        async function convertToInteractive(key) {\n",
       "          const element = document.querySelector('#df-ef5bb55e-971c-44e5-a62c-e299c1c8b481');\n",
       "          const dataTable =\n",
       "            await google.colab.kernel.invokeFunction('convertToInteractive',\n",
       "                                                     [key], {});\n",
       "          if (!dataTable) return;\n",
       "\n",
       "          const docLinkHtml = 'Like what you see? Visit the ' +\n",
       "            '<a target=\"_blank\" href=https://colab.research.google.com/notebooks/data_table.ipynb>data table notebook</a>'\n",
       "            + ' to learn more about interactive tables.';\n",
       "          element.innerHTML = '';\n",
       "          dataTable['output_type'] = 'display_data';\n",
       "          await google.colab.output.renderOutput(dataTable, element);\n",
       "          const docLink = document.createElement('div');\n",
       "          docLink.innerHTML = docLinkHtml;\n",
       "          element.appendChild(docLink);\n",
       "        }\n",
       "      </script>\n",
       "    </div>\n",
       "  </div>\n",
       "  "
      ],
      "text/plain": [
       "                                                    text choose_one  relevance\n",
       "0                     Just happened a terrible car crash   Relevant          1\n",
       "1      Our Deeds are the Reason of this #earthquake M...   Relevant          1\n",
       "2      Heard about #earthquake is different cities, s...   Relevant          1\n",
       "3      there is a forest fire at spot pond, geese are...   Relevant          1\n",
       "4                 Forest fire near La Ronge Sask. Canada   Relevant          1\n",
       "...                                                  ...        ...        ...\n",
       "10871  M1.94 [01:04 UTC]?5km S of Volcano Hawaii. htt...   Relevant          1\n",
       "10872  Police investigating after an e-bike collided ...   Relevant          1\n",
       "10873  The Latest: More Homes Razed by Northern Calif...   Relevant          1\n",
       "10874  MEG issues Hazardous Weather Outlook (HWO) htt...   Relevant          1\n",
       "10875  #CityofCalgary has activated its Municipal Eme...   Relevant          1\n",
       "\n",
       "[10860 rows x 3 columns]"
      ]
     },
     "execution_count": 19,
     "metadata": {},
     "output_type": "execute_result"
    }
   ],
   "source": [
    "df"
   ]
  },
  {
   "cell_type": "markdown",
   "metadata": {
    "id": "OPDGhwbPH1Ay"
   },
   "source": [
    "Look at what we have done!\n",
    "- We've chosen only the column we are interested in, reducing the columns from 13 to just 3!\n",
    "- We've mapped 'Relevant' to 1 and 'Not Relevant' to 0\n",
    "\n",
    "Now, we will proceed with text processing, followed with bag of words and tf-idf!"
   ]
  },
  {
   "cell_type": "markdown",
   "metadata": {
    "id": "1_D3WQBGH1Ay"
   },
   "source": [
    "### Tokenization\n",
    "\n",
    "The first step is to write functions to normalize and tokenize the tweets (We covered this in Experience 1). An example is given below, but you can and should improve it by utilizing the skills you have learnt previously. For example, by adding additional ignore-words, or by lemming or stemming the dataset. The more you pre-process the data, the better your model can be!  \n",
    "  \n",
    "Why do you think we choose to ignore those words in the ignore list?"
   ]
  },
  {
   "cell_type": "code",
   "execution_count": null,
   "metadata": {
    "colab": {
     "base_uri": "https://localhost:8080/"
    },
    "executionInfo": {
     "elapsed": 28,
     "status": "ok",
     "timestamp": 1654166242719,
     "user": {
      "displayName": "Mohit Ahuja",
      "userId": "05773503373517638884"
     },
     "user_tz": -330
    },
    "id": "4ybx4vT4H1Ay",
    "outputId": "e66d71a7-0678-4731-b049-988bb1c40a39"
   },
   "outputs": [
    {
     "name": "stdout",
     "output_type": "stream",
     "text": [
      "['good', 'morning', 'how', 'are', 'you', 'today', 'it', 'good', 'day']\n"
     ]
    }
   ],
   "source": [
    "def extract_words(sentence):\n",
    "    '''This is to clean and tokenize words'''\n",
    "    ignore_words = ['a', 'the', 'if', 'br', 'and', 'of', 'to', 'is']\n",
    "    words = re.sub(\"[^\\w]\", \" \",  sentence).split() # this replaces all special chars with ' '\n",
    "    words_cleaned = [w.lower() for w in words if w not in ignore_words]\n",
    "    return words_cleaned \n",
    "\n",
    "# let us test this out!\n",
    "test_sentence = 'Good morning, how are you today? It is a good day.'\n",
    "print(extract_words(test_sentence))"
   ]
  },
  {
   "cell_type": "markdown",
   "metadata": {
    "id": "qghAROEWH1Ay"
   },
   "source": [
    "### Task: Add at least 5 more stop words into the extract_words function"
   ]
  },
  {
   "cell_type": "code",
   "execution_count": null,
   "metadata": {
    "id": "Z0efdW9rH1Az"
   },
   "outputs": [],
   "source": [
    "def extract_words(sentence):\n",
    "    '''This is to clean and tokenize words'''\n",
    "    ignore_words = ['a', 'the', 'if', 'br', 'and', 'of', 'to', 'is', 'are', 'he', 'she', 'my', 'you', 'it','how']\n",
    "    words = re.sub(\"[^\\w]\", \" \",  sentence).split() # this replaces all special chars with ' '\n",
    "    words_cleaned = [w.lower() for w in words if w not in ignore_words]\n",
    "    return words_cleaned "
   ]
  },
  {
   "cell_type": "markdown",
   "metadata": {
    "id": "nv6BqCM5H1Az"
   },
   "source": [
    "### Task: Test your new stop words on the same sentence!"
   ]
  },
  {
   "cell_type": "code",
   "execution_count": null,
   "metadata": {
    "colab": {
     "base_uri": "https://localhost:8080/"
    },
    "executionInfo": {
     "elapsed": 12,
     "status": "ok",
     "timestamp": 1654166243871,
     "user": {
      "displayName": "Mohit Ahuja",
      "userId": "05773503373517638884"
     },
     "user_tz": -330
    },
    "id": "c1kdf7EYH1Az",
    "outputId": "4b82d27d-8b55-4ea5-83c7-023e1a0c232a"
   },
   "outputs": [
    {
     "name": "stdout",
     "output_type": "stream",
     "text": [
      "['good', 'morning', 'today', 'it', 'good', 'day']\n"
     ]
    }
   ],
   "source": [
    "# let us test this out!\n",
    "test_sentence = 'Good morning, how are you today? It is a good day.'\n",
    "print(extract_words(test_sentence))"
   ]
  },
  {
   "cell_type": "markdown",
   "metadata": {
    "id": "9EyCc14HH1Az"
   },
   "source": [
    "do you notice that the word 'it' is still present? do you know why?\n",
    "\n",
    "### Task: add a function to lower the case in extract_words function\n",
    "See [here](https://machinelearningmastery.com/clean-text-machine-learning-python/) on how to do it. "
   ]
  },
  {
   "cell_type": "code",
   "execution_count": null,
   "metadata": {
    "id": "YfztR26EH1A0"
   },
   "outputs": [],
   "source": [
    "def extract_words(sentence):\n",
    "    '''This is to clean and tokenize words'''\n",
    "    ignore_words = ['a', 'the', 'if', 'br', 'and', 'of', 'to', 'is', 'are', 'he', 'she', 'my', 'you', 'it','how']\n",
    "    words = re.sub(\"[^\\w]\", \" \",  sentence).split() # this replaces all special chars with ' '\n",
    "    words = [word.lower() for word in words]\n",
    "    words_cleaned = [w.lower() for w in words if w not in ignore_words]\n",
    "    return words_cleaned "
   ]
  },
  {
   "cell_type": "markdown",
   "metadata": {
    "id": "71yJAL0HH1A0"
   },
   "source": [
    "Try again with the same sentence!"
   ]
  },
  {
   "cell_type": "code",
   "execution_count": null,
   "metadata": {
    "colab": {
     "base_uri": "https://localhost:8080/"
    },
    "executionInfo": {
     "elapsed": 10,
     "status": "ok",
     "timestamp": 1654166243872,
     "user": {
      "displayName": "Mohit Ahuja",
      "userId": "05773503373517638884"
     },
     "user_tz": -330
    },
    "id": "UUJvbj7LH1A0",
    "outputId": "8ea6640f-e58b-439b-b67e-c569efd2a129"
   },
   "outputs": [
    {
     "name": "stdout",
     "output_type": "stream",
     "text": [
      "['good', 'morning', 'today', 'good', 'day']\n"
     ]
    }
   ],
   "source": [
    "# let us test this out!\n",
    "test_sentence = 'Good morning, how are you today? It is a good day.'\n",
    "print(extract_words(test_sentence))"
   ]
  },
  {
   "cell_type": "markdown",
   "metadata": {
    "id": "5QrNxw74H1A0"
   },
   "source": [
    "Great! Feel free to add your own processing into the pipeline e.g. stemming or lemmatization. "
   ]
  },
  {
   "cell_type": "markdown",
   "metadata": {
    "id": "XRvUIBkwH1A0"
   },
   "source": [
    "## 1. Bag of words\n",
    "Now that we have a function to pre-process our textual data, we can proceed with converting our textual data into numbers. The simplest way to do this is using the bag of words algorithm. \n",
    "\n",
    "In a bag of words, we count the number of times each word appears for each tweet and use those counts as our input data. This is accomplished in the following steps:\n",
    "1. Create a vocabulary of all words that appear in your corpus (a corpus is a collection of all your text data, i.e. all tweets)\n",
    "2. Turn that vocabulary into a vector. i.e. if there are 500 unique words in your corpus, the vector will have a length of 500, with each position corresponding to a word in the corpus.\n",
    "3. For each document (tweet), count the number of times every word appears and add those numbers into the vector. This will result in each document having its own vector of length 500, that represents all the words appearing in the document.\n",
    "\n",
    "### Example \n",
    "consider a corpus consisting of two documents: \n",
    "1. 'I love NLP', \n",
    "2. 'I love machine learning'. \n",
    "\n",
    "#### Vocbulary\n",
    "The vocabulary will be a vector of length 5, consisting of the words: \n",
    "\n",
    "'I', 'love', 'NLP', 'machine', 'learning'.  \n",
    "\n",
    "#### Vector\n",
    "The vector for the first sentence (number 1) will be: \n",
    "[1, 1, 1, 0, 0] since it contains 'I', 'love', 'NLP', but not 'machine', and 'learning'.  \n",
    "\n",
    "Can you construct the vector for 2?  \n",
    "\n",
    "Combining vectors for 1 and 2, the bag of words will be an array with vector 1 in the first row, and vector 2 in the second row. \n",
    "\n",
    "Now let us implement this algorithm!  "
   ]
  },
  {
   "cell_type": "markdown",
   "metadata": {
    "id": "CxAN3SqHH1A0"
   },
   "source": [
    "### Building the bag of words\n",
    "\n",
    "First, we would like to know how often each individual word appears in our dataset. \n",
    "\n",
    "We can represent this in the form of a dictionary, which has the format {'word':frequency}, where each key is a word, and the frequencies are the number of times the words appears in our dataset. \n",
    "\n",
    "If you would like to learn more about dictionaries, visit [python dictionaries](https://www.w3schools.com/python/python_dictionaries.asp).  \n",
    "\n",
    "### Hash map\n",
    "\n",
    "This dictionary is known as a hash map, and it can be built progressively by looping through each token in the document. \n",
    "\n",
    "If the token can not be found in the hash map, add the token to the hash map, and set it's frequency as 1. If the token already exists, increment the frequency by 1.  \n",
    "  \n",
    "We will do this in two functions. \n",
    "1. First, build a function called map_book that takes in a dictionary called the hash_map, as well as the tokens from a tweet, and updates the hash_map with each word in the tokens. \n",
    "2. Next, build a function (you can call it make_hash_map) that can loop through all the tweets, and calls the first function to update the hash_map.  \n",
    "  \n",
    "*Hint: You can loop through your tokens by using `for word in tokens:`.  \n",
    "You can check if the word exists in your hash_map by using `if word in hash_map:`  \n",
    "you can assess the counts of your hash map by using `hash_map[word]`. Increment this by 1 to increase the count."
   ]
  },
  {
   "cell_type": "markdown",
   "metadata": {
    "id": "_mN_2fFVH1A1"
   },
   "source": [
    "This is the function map_book. Can you make sense of it?"
   ]
  },
  {
   "cell_type": "code",
   "execution_count": null,
   "metadata": {
    "id": "kvy5cVA3H1A1"
   },
   "outputs": [],
   "source": [
    "# calculate frequency of words\n",
    "def map_book(hash_map, tokens):\n",
    "    if tokens is not None:\n",
    "        for word in tokens:\n",
    "            # Word Exist?\n",
    "            if word in hash_map:\n",
    "                hash_map[word] = hash_map[word] + 1\n",
    "            else:\n",
    "                hash_map[word] = 1\n",
    "\n",
    "        return hash_map\n",
    "    else:\n",
    "        return None"
   ]
  },
  {
   "cell_type": "markdown",
   "metadata": {
    "id": "dX6_qSmMH1A1"
   },
   "source": [
    "This is the function make_hash_map. Can you make sense of it?"
   ]
  },
  {
   "cell_type": "code",
   "execution_count": null,
   "metadata": {
    "id": "0jBMWkz7H1A1"
   },
   "outputs": [],
   "source": [
    "def make_hash_map(df):\n",
    "    hash_map = {}\n",
    "    for index, row in df.iterrows():\n",
    "        hash_map = map_book(hash_map, extract_words(row['text']))\n",
    "    return hash_map"
   ]
  },
  {
   "cell_type": "markdown",
   "metadata": {
    "id": "uIn_lLHZH1A2"
   },
   "source": [
    "### Redefining our dictionary\n",
    "\n",
    "While you can construct your bag of words using all words in all tweets, it can become too much for your computer very quickly. A good solution is to take just a few hundred or thousand of the most common words. We will redefine our dictionary to consist of just the 500 most popular tokens.  \n",
    "  \n",
    "How can we do this? Remember that we have just constructed a hash map which is a dictionary with each token as a key, and the number of times the token has appeared as the value. Build a function called frequent_vocab that takes in the hash_map and the maximum vocabulary, and returns a list of the most popular tokens as defined by the maximum vocabulary (set this to 500 for now)."
   ]
  },
  {
   "cell_type": "markdown",
   "metadata": {
    "id": "s95xtlN5H1A2"
   },
   "source": [
    "This is the function frequent_vocab. Can you make sense of it?"
   ]
  },
  {
   "cell_type": "code",
   "execution_count": null,
   "metadata": {
    "id": "dpNF7qK9H1A2"
   },
   "outputs": [],
   "source": [
    "# define a function frequent_vocab with the following input: word_freq and max_features\n",
    "def frequent_vocab(word_freq, max_features): \n",
    "    counter = 0  #initialize counter with the value zero\n",
    "    vocab = []   # create an empty list called vocab\n",
    "    # list words in the dictionary in descending order of frequency\n",
    "    for key, value in sorted(word_freq.items(), key=lambda item: (item[1], item[0]), reverse=True): \n",
    "       #loop function to get the top (max_features) number of words\n",
    "        if counter<max_features: \n",
    "            vocab.append(key)\n",
    "            counter+=1\n",
    "        else: break\n",
    "    return vocab"
   ]
  },
  {
   "cell_type": "markdown",
   "metadata": {
    "id": "Cug-Z6QXH1A2"
   },
   "source": [
    "### Experiment! What happens if you change the above function to (reverse = False)?"
   ]
  },
  {
   "cell_type": "code",
   "execution_count": null,
   "metadata": {
    "colab": {
     "base_uri": "https://localhost:8080/"
    },
    "executionInfo": {
     "elapsed": 1402,
     "status": "ok",
     "timestamp": 1654166245267,
     "user": {
      "displayName": "Mohit Ahuja",
      "userId": "05773503373517638884"
     },
     "user_tz": -330
    },
    "id": "ajSesBNPH1A2",
    "outputId": "e7b4bc9c-4415-46c5-afea-ea69a7ab9769"
   },
   "outputs": [
    {
     "name": "stdout",
     "output_type": "stream",
     "text": [
      "{'just': 453, 'happened': 31, 'terrible': 14, 'car': 133, 'crash': 166, 'our': 150, 'deeds': 2, 'reason': 29, 'this': 702, 'earthquake': 72, 'may': 113, 'allah': 11, 'forgive': 4, 'us': 176, 'all': 381, 'heard': 56, 'about': 312, 'different': 17, 'cities': 11, 'stay': 40, 'safe': 15, 'everyone': 73, 'there': 264, 'forest': 105, 'fire': 363, 'at': 745, 'spot': 30, 'pond': 7, 'geese': 1, 'fleeing': 3, 'across': 27, 'street': 37, 'i': 2486, 'cannot': 15, 'save': 57, 'them': 165, 'near': 84, 'la': 25, 'ronge': 1, 'sask': 1, 'canada': 17, 'residents': 13, 'asked': 14, 'shelter': 9, 'in': 2805, 'place': 34, 'being': 121, 'notified': 1, 'by': 768, 'officers': 11, 'no': 400, 'other': 66, 'evacuation': 67, 'or': 294, 'orders': 12, 'expected': 18, '13': 33, '000': 6, 'people': 282, 'receive': 3, 'wildfires': 16, 'california': 159, 'got': 160, 'sent': 14, 'photo': 64, 'from': 613, 'ruby': 2, 'alaska': 9, 'as': 485, 'smoke': 66, 'pours': 1, 'into': 239, 'school': 86, 'rockyfire': 5, 'update': 52, 'hwy': 10, '20': 31, 'closed': 27, 'both': 31, 'directions': 1, 'due': 53, 'lake': 18, 'county': 53, 'cafire': 2, 'apocalypse': 56, 'lighting': 5, 'spokane': 2, 'flood': 85, 'disaster': 219, 'heavy': 26, 'rain': 62, 'causes': 21, 'flash': 27, 'flooding': 64, 'streets': 11, 'manitou': 1, 'colorado': 21, 'springs': 6, 'areas': 12, 'typhoon': 79, 'soudelor': 36, 'kills': 58, '28': 7, 'china': 52, 'taiwan': 18, 'we': 445, 're': 196, 'shaking': 4, 's': 1272, 'an': 356, 'm': 531, 'on': 1236, 'top': 80, 'hill': 8, 'can': 354, 'see': 149, 'woods': 3, 'emergency': 229, 'happening': 18, 'now': 308, 'building': 44, 'afraid': 8, 'that': 844, 'tornado': 43, 'coming': 71, 'area': 60, 'three': 50, 'died': 47, 'heat': 70, 'wave': 52, 'so': 429, 'far': 43, 'haha': 26, 'south': 44, 'tampa': 6, 'getting': 75, 'flooded': 6, 'hah': 3, 'wait': 37, 'second': 37, 'live': 90, 'what': 310, 'am': 92, 'gonna': 67, 'do': 246, 'raining': 4, 'florida': 10, 'tampabay': 1, '18': 26, '19': 10, 'days': 41, 've': 109, 'lost': 32, 'count': 4, 'bago': 2, 'myanmar': 24, 'arrived': 13, 'damage': 72, 'bus': 49, '80': 5, 'multi': 5, 'breaking': 57, 'they': 323, 'd': 104, 'probably': 33, 'still': 180, 'show': 62, 'more': 323, 'life': 136, 'than': 188, 'arsenal': 8, 'did': 108, 'yesterday': 23, 'eh': 7, 'hey': 32, 'up': 468, 'man': 152, 'love': 146, 'fruits': 2, 'summer': 71, 'lovely': 12, 'fast': 28, 'nice': 19, 'hat': 37, 'goooooooaaaaaal': 1, 'don': 231, 't': 7442, 'like': 492, 'cold': 22, 'ridiculous': 4, 'london': 21, 'cool': 41, 'skiing': 1, 'wonderful': 7, 'day': 158, 'nooooooooo': 1, 'looooool': 1, 'way': 113, 'eat': 19, 'was': 554, 'nyc': 15, 'last': 126, 'week': 60, 'girlfriend': 6, 'cooool': 1, 'pasta': 3, 'tell': 41, 'me': 444, 'end': 54, 'awesome': 23, 'birmingham': 6, 'wholesale': 6, 'market': 52, 'ablaze': 42, 'bbc': 32, 'news': 289, 'breaks': 6, 'out': 409, 'http': 6153, 'co': 6799, 'irwqcezweu': 1, 'sunkxssedharry': 1, 'will': 372, 'wear': 6, 'shorts': 2, 'for': 1243, 'race': 5, 'bbcmtd': 1, 'markets': 9, 'lhyxeohy6c': 1, 'always': 67, 'try': 37, 'bring': 28, 'metal': 18, 'rt': 165, 'yao1e0xngw': 1, 'africanbaze': 1, 'nigeria': 12, 'flag': 29, 'set': 66, 'aba': 21, '2nndbgwyei': 1, 'previouslyondoyintv': 1, 'makinwaâ': 1, 'ã': 1633, 'âªs': 125, 'marriage': 2, 'crisis': 33, 'sets': 10, 'nigerian': 23, 'twitter': 48, 'cmghxba2xi': 1, 'crying': 12, 'plus': 9, 'side': 32, 'look': 95, 'sky': 20, 'night': 82, 'qqsmshaj3n': 1, 'phdsquares': 1, 'mufc': 2, 'built': 10, 'much': 86, 'hype': 4, 'around': 61, 'new': 327, 'acquisitions': 2, 'but': 436, 'doubt': 6, 'epl': 1, 'season': 24, 'inec': 2, 'office': 16, 'abia': 2, '3imaomknna': 1, 'barbados': 1, 'bridgetown': 1, 'jamaica': 5, 'â': 535, 'two': 152, 'cars': 26, 'santa': 6, 'cruz': 10, 'head': 59, 'st': 41, 'elizabeth': 2, 'police': 198, 'superintende': 1, 'wdueaj8q4j': 1, 'lord': 27, 'check': 64, 'these': 70, 'roi2nsmejj': 3, '3tj8zjin21': 3, 'yduixefipe': 3, 'lxtjc87kls': 3, 'nsfw': 6, 'psa': 5, 'iâ': 23, 'âªm': 11, 'splitting': 1, 'personalities': 1, 'techies': 1, 'follow': 30, 'ablaze_co': 1, 'burners': 1, 'outside': 31, 'alive': 19, 'dead': 137, 'inside': 35, 'had': 162, 'time': 166, 'visiting': 2, 'cfc': 2, 'ancop': 1, 'site': 40, 'thanks': 42, 'tita': 2, 'vida': 2, 'taking': 25, 'care': 40, 'soooo': 2, 'pumped': 1, 'southridgelife': 1, 'wanted': 23, 'chicago': 27, 'with': 798, 'preaching': 2, 'not': 430, 'hotel': 11, 'o9qknbfofx': 1, 'gained': 6, '3': 201, 'followers': 8, 'know': 157, 'your': 429, 'stats': 3, 'grow': 9, 'tiyulif5c6': 1, 'west': 42, 'burned': 57, 'thousands': 26, 'alone': 24, 'vl5tbr3wbr': 1, 'perfect': 13, 'tracklist': 1, 'leave': 31, 'beware': 6, 'world': 147, 'sierra': 1, 'leone': 1, 'amp': 510, 'guap': 1, 'burning': 168, 'turban': 1, 'diva': 2, 'hodwosamws': 1, 'via': 325, 'etsy': 1, 'first': 167, 'retainers': 1, 'quite': 12, 'weird': 13, 'better': 50, 'get': 335, 'used': 43, 'have': 511, 'every': 73, 'single': 18, 'next': 67, 'year': 143, 'least': 51, 'diss': 6, 'song': 46, 'take': 103, '1': 176, 'thing': 56, 'run': 63, 'smh': 19, 'eye': 27, 'opener': 2, 'though': 41, '2': 310, 'game': 61, 'cyhitheprynce': 2, 'deputies': 4, 'shot': 33, 'before': 81, 'brighton': 3, 'home': 106, 'gwnrhmso8k': 1, 'wife': 22, 'six': 12, 'years': 110, 'jail': 5, 'setting': 15, 'niece': 3, 'ev1ahoucza': 1, 'victim': 19, 'dies': 21, 'herself': 5, '16': 41, 'old': 133, 'girl': 60, 'burn': 20, 'injuries': 63, 'ablazeâ': 1, '_': 529, 'uk8hnrboob': 1, 'superintendent': 1, 'lanford': 1, 'salmon': 3, 'has': 341, 'r': 38, 'vplr5hka2u': 1, 'sxhw2tnnlf': 1, 'arsonist': 28, 'deliberately': 1, 'black': 100, 'church': 11, 'north': 37, 'carolinaã': 1, 'pcxarbh9an': 1, 'noches': 1, 'el': 16, 'bestia': 1, 'alexis_sanchez': 1, 'happy': 35, 'teammates': 1, 'training': 19, 'hard': 27, 'goodnight': 1, 'gunners': 1, 'uc4j4jhvgr': 1, 'kurds': 1, 'trampling': 1, 'turkmen': 2, 'later': 18, 'while': 75, 'others': 25, 'vandalized': 2, 'offices': 3, 'front': 25, 'diyala': 1, '4izfdyc3cg': 1, 'truck': 75, 'r21': 1, 'voortrekker': 1, 'ave': 21, 'tambo': 1, 'intl': 2, 'cargo': 4, 'section': 5, '8kscqkfkkf': 1, 'hearts': 6, 'city': 85, 'gift': 6, 'skyline': 2, 'kiss': 4, 'upon': 22, 'lips': 1, 'https': 618, 'cyompz1a0z': 1, 'tonight': 60, 'los': 6, 'angeles': 6, 'expecting': 4, 'ig': 6, 'fb': 5, 'be': 587, 'filled': 4, 'sunset': 8, 'shots': 20, 'peeps': 3, 'icsjgz9te1': 1, 'climate': 28, 'energy': 10, '9fxmn0l0bd': 1, 'myself': 34, '6vme7p5xhc': 1, 'revel': 1, 'yours': 32, 'wmv': 2, 'videos': 10, 'means': 20, 'mac': 10, 'farewell': 1, 'en': 5, 'route': 13, 'dvd': 7, 'gtxrwm': 1, 'progressive': 1, 'greetings': 1, 'month': 20, 'students': 16, 'would': 214, 'their': 129, 'pens': 2, 'torch': 5, 'publications': 1, '9fxpixqujt': 1, 'ctvtoronto': 1, 'bins': 1, 'field': 12, 'house': 76, 'wer': 1, 'flames': 76, 'went': 48, 'rite': 2, 'hydro': 1, 'pole': 4, 'wonder': 24, 'him': 106, 'nowplaying': 29, 'alfons': 1, '2015': 118, 'puls': 1, 'radio': 27, 'pulsradio': 1, 'aa5bjgwfdv': 1, 'rene': 2, 'jacinta': 1, 'secret': 20, '2k13': 1, 'fallen': 5, 'skies': 3, 'edit': 3, 'mar': 2, '30': 60, '2013': 17, '7mlmsuzv1z': 1, 'rahm': 1, 'let': 116, 'hope': 78, 'hall': 4, 'builds': 4, 'giant': 29, 'wooden': 2, 'mayoral': 1, 'effigy': 1, '100': 31, 'feet': 18, 'tall': 2, 'kfo2mksn6y': 1, 'john_k': 1, 'navista7': 1, 'steve': 12, 'fires': 156, 'here': 119, 'something': 49, 'else': 30, 'tinderbox': 1, 'clown': 1, 'hood': 2, 'news24680': 1, 'ian': 4, 'buff': 1, 'magnitude': 4, 'av2jsjfftc': 1, 'edm': 15, 'nxwestmidlands': 1, 'huge': 32, 'rwzbfvnxer': 1, 'philippaeilhart': 1, 'dhublath': 1, 'hurt': 9, 'her': 196, 'eyes': 35, 'insulted': 1, 'anger': 7, 'does': 66, 'talk': 29, 'go': 140, 'until': 62, 'make': 122, 'work': 100, 'kids': 45, 'cuz': 8, 'bicycle': 3, 'accident': 125, 'split': 4, 'testicles': 1, 'impossible': 5, 'michael': 21, 'father': 9, '24': 22, 'w': 115, 'nashvilletraffic': 1, 'traffic': 35, 'moving': 13, '8m': 1, 'slower': 4, 'usual': 5, '0ghk693egj': 1, 'center': 30, 'lane': 10, 'blocked': 16, 'santaclara': 1, '101': 8, 'nb': 3, 'great': 83, 'america': 37, 'pkwy': 2, 'bayarea': 1, 'pmlohzurwr': 1, 'cleared': 8, 'paturnpike': 1, 'patp': 1, 'eb': 5, 'between': 23, 'pa': 5, 'cranberry': 1, 'slow': 7, 'back': 160, 'sl0oqn0vyr': 1, 'gkye6gjtk5': 1, 'personalinjury': 1, 'read': 84, 'advice': 5, 'solicitor': 2, 'help': 93, 'otleyhour': 1, 'self': 54, 'curling': 1, 'wand': 1, 'swear': 9, 'someone': 63, 'needs': 27, 'away': 52, 'cuase': 1, 'prone': 4, 'stlouis': 1, 'caraccidentlawyer': 1, 'speeding': 1, 'among': 17, 'teen': 17, 'accidents': 8, 'k4zomof319': 1, 's2kxvm0cba': 1, 'teeâ': 1, 'hate': 31, 'badging': 1, 'reported': 21, 'motor': 5, 'vehicle': 27, 'curry': 1, 'herman': 1, 'rd': 29, 'stephenson': 1, 'involving': 18, 'overturned': 2, 'please': 99, 'use': 53, 'ybjezkurw1': 1, 'bigrigradio': 1, 'awareness': 2, 'recorder': 2, 'zeroedgeã': 1, 'dual': 4, 'lens': 1, 'camera': 8, 'driving': 26, 'history': 37, 'camcorder': 1, 'large': 25, 'kkfasjv6cj': 1, '77': 6, 'mile': 13, 'marker': 4, '31': 11, 'mooresville': 2, 'iredell': 2, 'ramp': 1, '8': 88, '6': 81, 'pm': 87, 'coincidence': 1, 'curse': 2, 'unresolved': 1, 'secrets': 10, 'past': 56, '7vg8df9ple': 1, 'sleepjunkies': 1, 'sleeping': 22, 'pills': 1, 'double': 21, 'risk': 21, '7s9nm1fict': 1, 'knew': 13, 'gon': 4, 'happen': 22, 'ysxun5vceh': 1, 'traffic_southe': 1, 'roadpol_east': 1, 'a27': 1, 'lewes': 1, 'kingston': 1, 'roundabout': 1, 'rather': 15, 'a283': 1, 'n': 49, 'cabrillo': 1, 'magellan': 1, 'av': 5, 'mir': 1, '08': 62, '06': 34, '15': 74, '11': 87, '03': 8, '58': 3, '40': 56, 'congestion': 1, 'pastor': 1, 'scene': 23, 'who': 270, 'owner': 15, 'range': 4, 'rover': 2, 'sakuma_en': 1, 'pretend': 4, 'feel': 86, 'certain': 11, 'feeling': 28, 'become': 29, 'genuine': 5, 'hei': 1, 'darker': 1, 'manga': 2, 'anime': 2, 'legal': 7, 'medical': 14, 'referral': 1, 'service': 63, '1800_injured': 1, 'call': 61, '800': 3, '465': 1, '87332': 1, 'slipandfall': 1, 'dogbite': 1, 'mom': 32, 'didn': 36, 'wished': 1, 'why': 175, 'some': 179, 'spilt': 1, 'mayonnaise': 1, 'over': 257, 'horrible': 49, 'sunday': 18, 'finally': 34, 'able': 12, 'thank': 38, 'donnie': 2, 'when': 364, 'another': 100, 'truckcrash': 1, 'overturns': 1, 'fortworth': 1, 'interstate': 2, 'rs22lj4qfp': 1, 'click': 9, 'been': 248, 'gt': 120, 'ld0uniyw4k': 1, 'ashville': 1, '23': 12, 'sb': 6, 'sr': 4, '752': 1, 'hylmo0wgfi': 1, 'construction': 6, 'guy': 34, 'working': 19, 'disney': 21, 'store': 11, 'gauges': 1, 'his': 190, 'ears': 9, 'bloody': 64, 'waiting': 19, 'robynjilllian': 1, 'wlsdomteeths': 1, 'going': 150, 'teesha': 1, 'come': 78, 'm42': 1, 'northbound': 2, 'junctions': 1, 'j3': 1, 'j3a': 1, 'currently': 17, 'delays': 8, '10': 75, 'mins': 8, 'c': 41, 'lwi3prba31': 1, 'daveoshry': 1, 'soembie': 1, 'say': 119, 'met': 5, 'super': 26, 'jelly': 1, 'dave': 2, 'p': 74, 'carolina': 2, 'motorcyclist': 12, '540': 2, 'crossed': 6, 'median': 1, 'motorcycle': 6, 'rider': 5, 'traveling': 2, 'p18lzrlmy6': 1, 'hit': 66, '500': 10, 'block': 19, 'se': 11, 'vista': 2, 'ter': 1, 'gresham': 5, 'pg15000044357': 1, '35': 13, 'pdx911': 5, 'fyi': 6, 'cad': 3, 'property': 32, 'nhs': 4, '999': 1, 'piner': 2, 'horndale': 2, 'dr': 16, 'naayf': 1, 'turning': 5, 'onto': 11, 'chandanee': 1, 'magu': 1, 'mma': 7, 'taxi': 3, 'rammed': 2, 'halfway': 2, 'turned': 18, 'confâ': 1, 'left': 42, 'manchester': 11, '293': 1, 'eddy': 1, 'stop': 83, 'nh': 3, '3a': 1, 'delay': 6, '4': 128, 'oia5fxi4gm': 1, 'wpd': 1, '1600': 2, '17th': 1, '09': 9, 'injury': 59, '2781': 1, 'willis': 1, 'foreman': 1, 'vckit6edev': 1, 'aashiqui': 1, 'actress': 2, 'anu': 1, 'aggarwal': 1, 'fatal': 92, '6otfp31lqw': 1, 'suffield': 1, 'alberta': 8, 'bptmlf4p10': 1, '9': 84, 'backup': 2, 'blocking': 6, 'right': 106, 'lanes': 8, 'exit': 12, 'langtree': 1, 'consider': 10, 'nc': 14, '115': 2, '150': 10, 'alternate': 2, 'changed': 5, 'determine': 3, 'options': 6, 'financially': 1, 'support': 37, 'plans': 37, 'treatment': 8, 'deadly': 12, 'hagerstown': 1, 'today': 147, 'll': 108, 'details': 13, '5': 138, 'your4state': 1, 'whag': 1, 'calum5sos': 4, 'qhmxuljsx9': 1, 'flowri': 1, 'were': 182, 'marinading': 1, 'donate': 7, 'spread': 3, 'word': 16, 'vaulter': 1, 'kira': 1, 'grã': 1, '_nberg': 1, 'paraplegic': 1, '6mpnycl8pk': 1, 'only': 127, 'even': 112, 'mfs': 4, 'drive': 24, 'norwaymfa': 1, 'bahrain': 1, 'previously': 4, 'road': 48, 'killed': 129, 'explosion': 58, 'gfjfgtodad': 1, 'leaders': 5, 'kenya': 5, 'forward': 7, 'comment': 19, 'issue': 14, 'disciplinary': 1, 'measures': 1, 'arrestpastornganga': 2, 'aftershock_delo': 2, 'scuf': 2, 'ps': 6, 'cya': 1, 'share': 23, 'page': 9, 'indoor': 1, 'trampoline': 1, 'park': 38, 'aftershock': 33, 'opening': 13, 'fall': 62, 'ugxhherrxs': 1, 'bxckylynch': 1, 'foi': 1, 'roh': 1, 'las': 5, 'vegas': 8, 'procura': 1, 'pirate': 2, 'bay': 16, 'que': 4, 'tem': 1, 'himself': 14, 'further': 5, 'once': 27, 'effort': 7, 'gets': 45, 'painful': 2, 'win': 25, 'roger': 2, 'bannister': 1, 'schoolboy': 1, 'original': 12, 'mix': 15, 'excision': 1, 'skism': 1, 'sexism': 1, 'too': 107, 'loud': 62, 'remix': 4, 'firebeatz': 1, 'schella': 1, 'dear': 10, 'jqlzua6yzq': 1, '320': 10, 'ir': 11, 'icemoon': 10, 'ynxnvvkcda': 1, 'djicemoon': 10, 'dubstep': 11, 'trapmusic': 10, 'dnb': 11, 'dance': 18, 'icesâ': 10, 'weqpesenku': 1, 'thyzomvwu0': 4, '83joo0xk29': 4, 'victory': 8, 'bargain': 8, 'basement': 6, 'prices': 6, 'dwight': 2, 'david': 13, 'eisenhower': 2, 'nepal': 11, 'int': 3, 'l': 18, 'team': 31, '1st': 16, 'responders': 55, 'chief': 16, 'collins': 6, 'laco_fd': 1, 'grpef7yawg': 1, 'ggmvzt58ve': 1, 'vam5podgyw': 2, 'zevakjapcz': 2, 'nobody': 8, 'remembers': 2, 'came': 46, 'charles': 5, 'schulz': 1, 'im': 76, 'speaking': 6, 'using': 19, 'xb1': 2, 'most': 67, 'also': 67, 'harder': 1, 'conflict': 5, 'glorious': 3, 'triumph': 1, 'thomas': 8, 'paine': 1, 'growingupspoiled': 1, 'clay': 3, 'pigeon': 1, 'shooting': 43, 'because': 110, 'guess': 21, 'one': 283, 'actually': 40, 'wants': 18, 'any': 91, 'free': 65, 'tc': 2, 'terrifying': 5, 'best': 110, 'roller': 3, 'coaster': 2, 'ever': 78, 'disclaimer': 1, 'very': 52, 'few': 36, 'xmwodfmtui': 1, 'm4jdzmgjow': 1, 'n0uhasfkbv': 1, 'saying': 23, 'wish': 18, 'start': 41, 'unknown': 5, 'want': 110, 'october': 1, 'bands': 5, 'listen': 35, 'nxt': 1, 'afford': 2, 'yet': 44, 'gradschoolapps': 1, 'e14epzhoth': 1, '22a9d5do6q': 1, 'living': 24, 'hiroshima': 143, 'scars': 4, 'edward': 3, 'bond': 1, 'engtl5wrgp': 1, 'kjfordays': 1, 'seeing': 24, 'issues': 41, 'wisdomwed': 1, 'bonus': 1, 'minute': 48, 'daily': 25, 'habits': 2, 'could': 117, 'really': 99, 'improve': 2, 'many': 113, 'already': 40, 'lifehacks': 1, 'tbm9fqb8cw': 1, 'protect': 11, 'yourself': 31, 'profit': 6, 'global': 24, 'financial': 16, 'meltdown': 51, 'wiedemer': 1, 'wztz4hgmvq': 1, 'moment': 25, 'scary': 10, 'behind': 24, 'screaming': 58, 'silverwood': 1, '2010': 4, 'fullâ': 1, 'streaming': 3, 'youtube': 135, 'vve3usesgf': 1, 'book': 32, 'f6ntuc734z': 1, 'esquireattire': 1, 'ecy4u623no': 1, 'sometimes': 17, 'face': 65, 'difficulties': 1, 'doing': 40, 'wrong': 28, 'joel': 5, 'osteen': 1, 'stands': 6, 'dream': 12, 'belief': 2, 'possible': 42, 'brown': 41, 'praise': 1, 'ministry': 2, 'tells': 7, 'wdyouth': 1, 'biblestudy': 1, 'ujk0e5gbcc': 1, 'remembering': 8, 'die': 39, 'avoid': 13, 'trap': 7, 'thinking': 24, 'lose': 11, 'jobs': 24, 'tried': 24, 'orange': 5, 'never': 98, 'same': 43, 'bo2': 1, 'competitive': 2, 'maps': 5, 'imo': 2, 'bo3': 2, 'invahnwetrust': 1, 'onfireanders': 1, 'bb': 1, 'copper': 2, 'cataclysm': 1, 'uxyzyaygty': 1, 'jadeformkx': 1, 'should': 104, 'variation': 1, 'counters': 1, 'play': 42, 'style': 11, 'jv8ppkhjy7': 1, 'kick': 9, 'off': 167, 'making': 37, '38nhq9moef': 1, 'done': 41, 'interrupt': 1, 'those': 88, 'george': 7, 'bernard': 1, 'shaw': 2, 'oyster': 1, 'shell': 7, 'andrew': 2, 'carnegie': 1, 'anyone': 34, 'need': 111, 'u': 187, 'hybrid': 3, 'slayer': 7, 'ps4': 3, 'eu': 4, 'hmu': 2, 'cod8sandscrims': 1, 'empirikgaming': 1, 'codawscrims': 1, '4tp_kotc': 1, '4tpfa': 1, 'aftershock_org': 1, 'experts': 24, 'france': 22, 'begin': 16, 'examining': 13, 'airplane': 50, 'debris': 69, 'found': 70, 'reunion': 41, 'island': 55, 'french': 15, 'air': 60, 'o': 60, 'yvvpznzmxg': 1, 'strict': 3, 'liability': 2, 'context': 5, 'pilot': 15, 'error': 6, 'common': 15, 'component': 1, 'aviation': 3, 'cr': 4, '6cz3bohrd4': 1, 'crobscarla': 1, 'lifetime': 3, 'odds': 4, 'dying': 12, '8015': 1, 'wedn': 4, 'bkpfpogysi': 1, 'carelessness': 1, 'leads': 11, 'seek': 15, 'compensation': 2, 'damages': 8, 'eqag6rz1vo': 1, 'alexalltimelow': 1, 'awwww': 2, 'cuties': 1, 'good': 122, 'job': 32, 'rewind_music': 1, 'guys': 33, 'regarding': 5, 'lol': 99, 'became': 7, 'fan': 45, 'sending': 9, 'cali': 6, 'family': 69, 'members': 23, 'osama': 1, 'bin': 12, 'laden': 11, 'ironic': 2, 'mhmmm': 1, 'gov': 12, 'suspect': 50, 'goes': 44, 'engine': 5, 'tyjxrfd3st': 1, 'wings': 8, '29': 21, '07': 16, 'i7kztevb2v': 1, 'fifteen': 3, 'ago': 39, 'mintechan': 1, 'hihow': 1, 'keio': 1, 'line': 47, 'stationright': 1, 'btw': 5, 'chofu': 1, 'airport': 46, 'cessna': 1, 'ocampo': 2, 'coahuila': 4, 'mexico': 8, 'july': 14, 'four': 25, 'men': 42, 'including': 11, 'state': 74, 'government': 44, 'official': 25, 'watchthevideo': 1, 'p64xrvgjik': 1, 'lsmx2vwr3j': 1, 'wednesdayâ': 1, 'wednesday': 22, 'began': 10, 'kca': 5, 'votejkt48id': 5, 'mbataweel': 1, 'rip': 13, 'binladen': 1, 'almost': 35, 'coworker': 3, 'mode': 19, 'mexican': 4, 'mx': 2, '7': 72, '25': 34, 'subsecretariat': 1, 'francisco': 3, 'garcia': 1, 'castells': 1, 'age': 9, '42': 4, 'mickinyman': 1, 'theatlantic': 1, 'might': 34, 'wreck': 74, 'politics': 15, 'tagzbcxfj0': 1, 'mlb': 7, 'airplaneã': 2, '5zrkzdhode': 1, 'unbelievably': 1, 'insane': 6, 'aircraft': 29, 'aeroplane': 1, 'runway': 9, 'freakyâ': 1, 'cezhq7czll': 1, 'wq3wjsgphl': 1, 'tfcdronra6': 1, 'usama': 1, 'ladins': 1, 'naturally': 1, 'plane': 42, 'festival': 12, 'kq9ae6ap2b': 1, 'death': 105, 'carfest': 1, 'god': 7, 'idc': 5, 'rest': 9, 'luggage': 1, 'completely': 13, 'destroyed': 65, 'makeup': 3, 'hg8u2kr1rq': 1, 'gibyqhhkpk': 1, 'dtn': 4, 'brazil': 7, 'exp': 6, 'm9ig3wq8lq': 1, 'picture': 17, 'penn': 4, 'twp': 1, '6jfgdnzrlc': 1, 'judge': 9, 'ruled': 5, '2009': 5, 'jfk': 1, 'korean': 2, 'yh1cgln3rl': 1, '6f5shpkjob': 1, 'v4smaeslk5': 1, 'thugiauren': 1, 'airplaneâ': 1, 'canâ': 7, 'âªt': 44, 'believe': 41, '6ffylajwps': 1, 'nicole': 1, 'fletcher': 1, 'crashed': 54, 'times': 65, 'little': 69, 'bit': 20, 'trauma': 55, 'although': 6, '36': 7, 'baseball': 13, 'its': 102, 'greats': 1, 'captain': 6, 'yankees': 5, 'inku28vjjj': 1, 'miw2i0pqxz': 1, 'xdxdprcpns': 1, 'breakingnews': 9, 'e': 43, '3xicuvlvlj': 1, 'bro': 14, 'jetengine': 1, 'turbojet': 1, 'boing': 1, 'g90': 1, 'kxxnszp6nk': 1, 'kubsm16oud': 1, 'phone': 47, 'looks': 65, 'ship': 23, 'statistically': 1, 'cop': 13, 'crashes': 5, 'colombia': 1, '12': 32, 'zhjlflbhzl': 1, 'iecc1jdoub': 1, 'drone': 9, 'cause': 67, 'pilots': 7, 'worried': 6, 'drones': 6, 'esp': 5, 'close': 23, 'vicinity': 2, 'airports': 1, 'kz35rgngjf': 1, 'early': 23, 'wake': 37, 'sister': 13, 'begging': 2, 'ride': 8, 'ambulance': 52, 'hospital': 17, 'rodkiai': 1, 'ay6zzcupnz': 1, 'twelve': 16, 'feared': 34, 'pakistani': 20, 'helicopter': 33, 'sc9dns41mc': 1, 'ambulances': 3, 'serious': 18, 'lorry': 1, '9pfeaqeski': 1, 'fntg70rnkx': 1, 'emsneâ': 1, 'reuters': 35, 'mdnugvubwn': 1, 'yugvani': 3, 'zdsug0ujs7': 1, 'leading': 12, 'services': 79, 'boss': 8, 'welcomes': 2, 'charity': 11, 'mj2jq2psv6': 1, 'travelling': 2, 'aberystwyth': 1, 'shrewsbury': 1, 'incident': 17, 'halt': 3, 'shrews': 1, 'xum8ylcb4q': 1, 'sprinter': 5, 'automatic': 8, 'frontline': 5, 'choice': 10, '14': 16, 'compliant': 8, 'ebay': 45, '4evttqpeia': 1, 'q5xtkakm08': 1, 'send': 48, 'm__belly': 1, 'brightasastar_': 1, 'nanotech': 2, 'device': 6, 'target': 15, 'destroy': 58, 'blood': 58, 'clots': 2, 'hfy5v3slbb': 1, '7x3pddbt0z': 1, '20skyhawkmm20': 1, 'traplord_29': 1, 'fredosantana300': 1, 'lilreese300': 1, 'hella': 3, 'crazy': 34, 'fights': 7, 'couple': 22, 'mosh': 1, 'pits': 3, 'disneyxrowbrina': 1, 'isn': 32, 'parked': 3, 'well': 66, 'nearly': 28, 'laughing': 7, 'lucky': 16, 'justsaying': 1, 'randomthought': 1, 'bfes5twbzt': 1, 'til_now': 3, 'dna': 1, '7xglah10zl': 1, 'thmblaatzp': 1, 'tanslash': 1, 'fouseytube': 3, 'ok': 55, 'hahahah': 2, 'zsberqnn9n': 1, 'q8ivrzojzv': 1, 'pakistan': 32, 'nine': 13, '8e7ry8ebmf': 1, 'thenissonian': 1, 'rejectdcartoons': 1, 'nissan': 1, 'istance': 5, 'ems1': 1, 'ny': 10, 'emts': 1, 'petition': 17, '17': 27, 'per': 7, 'hour': 16, 'minimum': 3, 'wageâ': 1, 'âª': 61, '4oa6swlxmr': 1, 'ems': 8, 'paramedics': 1, 'fcqmkffflw': 1, 'vayaymbngu': 1, '3brme6sn4t': 1, 'ujrx9kgawp': 1, 'kp2lf4aute': 1, 'kiwi_karyn': 1, 'parking': 6, 'lot': 41, 'said': 81, 'johns': 2, 'hpvodud7ip': 1, 'which': 63, 'lt': 35, 'cuffs': 2, 'after': 369, 'involved': 7, 'told': 26, 'treat': 8, 'meudjwaang': 1, 'shzpyiqok5': 1, 'pwwpum6rbj': 1, 'yspon4d6qo': 1, 'margaretcho': 1, 'rainbowpower': 1, 'leoblakecarter': 1, 'dog': 28, 'thinks': 3, 'mg1lpgr0rmâ': 1, 'natasha_rideout': 1, 'hatzolah': 1, 'responding': 4, 'sirens': 48, 'andâ': 3, 'sek6mq6njf': 1, 'mnmyjxq9go': 1, 'science': 15, 'fuerk0gwui': 1, 'mv7ggglmvc': 1, 'vballplaya2296': 1, 'medic': 2, 'supplies': 2, 'dad': 23, 'x5yeuylt1x': 1, '2ugrmd1z1n': 1, 'held': 15, 'd9sowi1g21': 1, 'opxmdpiwau': 1, 'th9ywbbeet': 1, 'worldnews': 13, 'b2fasrt1tn': 1, 'o8bjxnepqm': 1, 'x2qsjod40u': 1, 'number': 15, 'lesotho': 1, 'body': 177, 'medic914': 1, 'aace_org': 1, 'surprised': 6, 'standardised': 1, 'clinical': 1, 'practice': 10, 'trust': 22, 'transfer': 7, '21': 14, 'miles': 11, 'cost': 12, '29800': 1, '7zqirey7te': 1, '9qp3pqpwzv': 1, 'j8tyt1xrrk': 1, '9d4nazoi94': 1, 'j': 13, 'walk': 19, 'ping': 10, 'privileged': 2, 'proud': 7, 'uniform': 6, 'gayuk': 1, 'whatsyouremergency': 1, '0bkmuhysfx': 1, 'episode': 20, 'where': 89, 'trunks': 1, 'annihilated': 45, 'freiza': 1, 'cleanest': 1, 'showed': 3, 'mercy': 5, 'shall': 12, 'petebests': 1, 'dessicated': 1, 'laid': 3, 'bare': 4, 'then': 108, 'kneel': 1, 'uribe': 6, 'mets': 10, 'marksmaponyane': 1, 'sundowns': 1, 'previous': 5, 'meeting': 14, 'celtic': 2, 'indeed': 10, 'improvement': 1, 'bartender': 2, 'described': 2, 'kdunning1919': 1, 'hsnowberger': 1, 'gabrielasmith29': 1, 'volfan326': 1, 'tneazzy': 1, 'mizzou': 1, 'seasons': 5, 'ended': 10, 'muschamp': 1, 'career': 19, 'compete': 2, 'bama': 1, 'abs': 2, '1xpw292tje': 1, 'status': 6, 'education': 7, 'mba': 1, 'behalf': 3, 'easy': 10, 'careen': 1, 'eovm': 1, 'e0pi0c54ff': 1, 'pulls': 7, 'driver': 22, 'safety': 27, 'seconds': 18, 'train': 128, 'ctl5xzihxaã': 1, '1kdoztd9mv': 1, 'viralspell': 9, 'cssc8hcsxnã': 1, 'jblgylcsay': 1, 'rosiegray': 1, 'sincerety': 1, 'think': 128, 'un': 12, 'move': 34, 'israel': 37, 'fraction': 4, 'chance': 23, 'luka': 2, 'everything': 34, 'alois': 2, 'trancy': 2, 'johnboywest': 1, 'stage': 16, 'drama': 4, 'queen': 13, 'stand': 42, 'certainly': 6, 'acarewornheart': 1, 'fella': 2, 'sorry': 33, 'won': 38, 'thrhkhogcuã': 1, 'tzszmf2qxe': 1, '_drodrolagi': 1, 'handplacementgoals': 1, 'hashtag': 9, 'must': 52, 'c0nkgp6w03ã': 1, 'imwmfdjssn': 1, 'boom': 5, 'country': 30, 'entirely': 2, 'hâ': 3, 'britain': 5, 'irfcn71szv': 1, 'amirkingkhan': 1, 'floydmayweather': 1, 'sure': 48, 'promised': 1, 'horror': 38, 'iran': 47, 'nukes': 3, 'xn09mx6sxy': 1, 'step': 7, 'mosquitoes': 2, 'violentfeminazi': 1, 'armenians': 1, 'since': 71, 'spent': 9, 'jacksfilms': 1, 'yiayplan': 2, 'strike': 18, 'dreamworks': 1, 'minions': 3, '70': 62, '100000': 1, 'instantly': 4, 'aware': 6, 'ability': 5, 'annihilate': 1, 'whole': 57, 'humanity': 11, 'tryouts': 2, 'minus': 1, 'fact': 22, 'stopped': 14, 'quickly': 11, 'short': 20, 'ball': 29, 'toenail': 1, 'during': 78, '1960s': 1, 'oryx': 1, 'symbol': 1, 'arabian': 7, 'peninsula': 1, 'hunters': 8, 'yangeqbuqw': 1, 'jq2eh5kglt': 1, 'nature': 11, 'appropriates': 1, 'beloved': 2, 'smlwjund09': 1, 'ninahoag': 1, 'shred': 2, 'psych': 1, 'friendship': 5, 'thehill': 2, 'example': 6, 'y': 18, 'conservatives': 2, 'burton': 2, 'v': 20, 'wiimington': 1, 'prkng': 1, 'auth': 10, 'liberals': 1, 'stood': 4, 'nothing': 41, 'aug': 40, '1915â': 2, 'kaiserjaegers': 1, 'wiped': 2, 'francis': 4, 'joseph': 2, 'crack': 6, 'regiment': 1, 'carso': 1, 'plateau': 1, 'd1spswl66h': 1, 'ready': 21, 'bucs': 1, 'philipduncan': 1, 'breakfastone': 1, 'nights': 3, 'weather': 71, 'philip': 2, 'thought': 49, 'forecast': 11, 'domain': 1, 'sophistication': 1, 'closely': 1, 'feat': 16, 'zrnf': 1, 'stormbeard': 1, 'steel_lord': 1, 'seen': 33, 'judas': 1, 'priest': 1, '2005': 3, 'rob': 6, 'scorpions': 2, 'astonishing': 1, 'gig': 3, 'officially': 8, 'skipping': 2, 'fantasticfour': 2, 'fant4stic': 1, 'whatever': 4, 'reviews': 5, 'bummer': 2, 'tomcatarts': 2, 'thus': 9, 'explaining': 1, 'case': 39, 'survivor': 3, 'evolved': 1, 'godlike': 1, 'cech': 1, 'paul': 14, 'keegan': 1, 'legion': 8, 'itself': 10, 'survivors': 58, 'imperfect': 2, 'project': 12, 'formed': 3, 'cell': 5, 'sirbrandonknt': 1, 'exactly': 9, 'lesnar': 1, 'cena': 1, 'match': 16, 'summerslam': 1, 'brock': 2, 'f1bakpnyn6ã': 1, 'lzxwoaye4x': 1, 'brooo': 2, 'ur7qkqg1wf': 1, 'damascus': 1, 'syrian': 15, 'army': 105, 'grinds': 1, 'alloosh': 1, 'gang': 9, 'manure': 1, 'pile': 23, '7rakhp3bwm': 1, 'thatdes': 1, 'wasn': 22, 'forthright': 1, 'food': 70, 'coma': 1, 'bc': 32, 'kebab': 1, 'tahini': 1, 'pickles': 1, 'fries': 1, 'albertbreer': 1, 'needed': 11, 'dd': 1, 'gmcr': 2, 'longe': 1, 'rgreen': 1, 'mountain': 17, 'red': 72, 'stock': 53, 'hours': 39, 'fun': 40, 'simmons': 1, 'bar': 33, 'camden': 1, 'handsome': 1, 'apart': 3, '4jno677zkv': 1, 'juanny': 1, 'beisbol': 1, 'lgm': 1, 'rvfriedmann': 1, 'total': 22, 'annihilation': 42, 'destruction': 56, 'usa': 23, 'lodisilverado': 1, 'ritzy_jewels': 1, 'potus': 23, 'maybe': 34, 'pres': 14, 'sold': 2, 'down': 125, 'river': 53, 'evildead': 1, 'civilization': 2, 'spfke5kqu4': 1, 'national': 65, 'tonto': 19, 'salt': 30, 'wild': 85, 'horse': 28, '6lojoorouk': 1, 'change': 73, 'sign': 26, 'saltriverwildhorses': 2, 'gb8ispiarp': 1, 'bx0l87inc8': 1, 'allied': 2, 'german': 9, 'ruhxglo18q': 1, 'hbupkzwdwq': 1, 'louis': 17, 'nizer': 1, 'interesting': 21, 'annihilating': 1, 'quarterstaff': 1, 'vs': 21, 'transformation': 3, 'pyehwodwun': 2, 'aliens': 2, 'attack': 164, 'exterminate': 2, 'humans': 5, 'pb2n77nskz': 1, 'starmade': 1, 'stardate': 1, 'planetary': 1, 'i2hhviumtm': 1, 'm8mvdspjp7': 1, 'sw1sbua3mn': 1, 'horses': 9, 'arizona': 5, '3tssxphufe': 2, 'kimkardashian': 1, 'latvr8rzck': 1, 'kpqk0c4g0m': 1, 'theellenshow': 1, 'without': 68, '54000': 1, 'signatures': 1, 'org': 9, 'thx': 9, 'souls': 5, 'punished': 3, 'cmnv6vyfcq': 1, 'withã': 1, 'c1qxjweqqu': 1, 'zhp0sowxry': 1, 'calfreedommom': 1, 'steph93065': 1, 'mention': 12, 'major': 29, 'contributor': 1, 'willienelson': 1, 'voice': 13, 'gilbert23': 3, 'e8dl1lncvu': 3, 'latest': 81, 'updates': 16, 'round': 12, 'wjscdvcevh': 1, 'w5rhtuey90': 1, 'reject': 2, 'laws': 6, 'misguided': 1, 'false': 16, 'prophets': 1, 'imprison': 1, 'nations': 4, 'fueling': 4, 'zhxua8kmae': 1, 'matijwkzbh': 1, 'jeb': 10, 'christie': 4, 'kasich': 1, 'less': 15, 'allow': 8, 'full': 142, 'barbi_twins': 1, 'bosteenauthfest': 1, 'silent': 7, 'planet': 8, 'print': 7, 'audio': 10, 'urgent': 5, 'savewildhorses': 1, 'saltriverhorses': 1, '8azjff8esi': 1, 'whippenz': 1, 'jackienatalydlt': 1, 'iced': 1, 'd82wlcp49s': 1, 'kaldyctc4h': 1, 'incindia': 1, 'under': 78, 'sonia': 3, 'gandhi': 1, 'defeat': 2, 'treated': 4, 'answer': 16, 'kttyitow64': 1, 'az': 2, 'wildhorses': 2, 'tantonationalforest': 1, 'rollingstones': 1, 'sing': 9, 'long': 51, 'order': 41, 'wm5l8pj2iy': 1, 'wvobvvtxkg': 1, 'trkg2tpwjm': 1, 'sonofbaldwin': 1, 'current': 5, 'nova': 3, 'bookslast': 1, 'checked': 7, 'tied': 4, 'books': 13, '2011': 10, 'x2wn7o2a3w': 1, 'k0q4fnbzss': 1, 'ikuayuseqt': 1, 'bqbhuyfme9': 1, '546uttxzam': 1, 'flcqqeznvw': 1, 'dante': 3, 'join': 22, 'following': 24, 'zone': 46, 'johnny': 3, '8jxql8cv8z': 1, 'faxdzi90dy': 1, 'n6veojw3s8': 1, '0fekgyby5f': 1, 'sb5r7shccj': 1, 'i0z3k0chgg': 1, 'fight': 43, 'taylor': 3, 'soon': 44, 'ohh': 2, 'fukurodani': 1, 'survive': 65, 'bokuto': 1, 'feels': 16, 'poor': 23, 'boy': 65, 'ppor': 1, 'child': 28, 'jocelyn': 1, 'birthday': 13, 'spherulitic': 1, 'si': 3, 'signs': 30, 'liked': 63, 'video': 227, 'teamtwiistz': 1, 'ocurjydrcn': 2, 'futuristic': 2, 'minecraft': 14, 'janenelson097': 1, 'stephenscifi': 1, 'adaptation': 1, 'watch': 135, 'charlie': 6, 'human': 27, 'optioned': 1, 'film': 24, 'sciencefiction': 1, 'jrfjgaac9f': 1, 'mod': 20, 'bob': 9, 'wither': 7, '0': 54, 'showcase': 6, 'august': 52, '05': 51, '02pm': 2, 'zombie': 10, '2014': 19, 'cf9e6tu3g7': 1, 'internetradio': 1, 'collegeradiâ': 1, 'thomasa56': 1, 'reasons': 15, 'big': 58, 'rr': 2, 'miss': 26, 'meals': 6, 'comes': 27, 'cue': 4, 'script': 2, 'honeybunzgem': 1, 'primalkitchen': 1, 'pull': 4, 'stages': 2, 'kinda': 14, 'hot': 96, 'played': 15, 'disease': 21, 'started': 21, 'careful': 12, 'askconnor': 3, 'item': 4, 'weapon': 60, 'either': 21, 'gf': 3, 'm8': 1, 'question': 14, 'interpretation': 1, 'called': 32, 'my8q1uwijn': 1, 'julie': 4, 'version': 12, 'romeo': 1, 'juliet': 1, 'warmbodies': 1, 'itskingriffyall': 1, 'excited': 10, 'dig': 2, 'x': 34, 'franchise': 1, 'event': 21, 'theme': 2, 'fittscott': 1, 'popularmmos': 2, 'mul1j9aeux': 1, 'viâ': 1, 'tmfk_co': 1, 'sounds': 24, 'artists': 4, 'fukushima': 33, 'exclusion': 1, '3zql0qbluw': 1, 'nuclear': 148, 'ura': 1, 'begins': 11, 'snow': 11, 'our_mother_mary': 1, 'reading': 15, '1023': 2, 'spirit': 8, 'angel': 12, 'took': 23, 'enormous': 3, 'high': 54, 'candylit': 1, 'imagine': 16, 'sarumi': 1, 'fighting': 18, 'heart': 47, 'conversations': 3, 'xizkjfff29': 1, 'zonewolf123': 1, 'u66kyg11zd': 1, 'moâ': 1, 'southern': 14, 'prepper': 5, 'fiction': 3, 'sharecropping': 1, 'hsleabs1yr': 1, 'apocalyptic': 8, 'doomsday': 2, 'lone': 4, 'audience': 3, 'bought': 12, 'doc': 4, 'impending': 3, 'biblical': 1, '5sostag': 1, 'honestly': 11, 'exited': 4, 'hes': 6, 'enthusiastic': 1, 'alexandrapullin': 1, 'grizzly': 1, 'peak': 2, 'beginning': 9, 'dystopian': 2, 'movie': 61, 'nephew': 3, 'proof': 12, 'babies': 12, 'n5vimoqhbg': 1, 'scared': 19, '2umsxrzot3': 1, 'rescue': 60, 'added': 24, 'playlist': 21, 'storm': 170, 'cairo': 3, 'fs012trudg': 1, 'yahootv': 1, 'princes': 1, 'encounters': 2, 'meerkat': 2, 'oy9es9fvlt': 1, 'e89gpnepzt': 1, 'tngye2fklv': 1, 'through': 67, 'xv': 2, 'totally': 20, 'give': 35, 'bad': 66, 'name': 31, 'pierc': 1, 'xpfmr368uf': 2, 'ejdhvlkxaf': 1, 'geek_apocalypse': 1, '4pm': 2, 'gmt': 3, 'hesse': 1, 'plays': 5, 'dark': 12, 'tngpshnl87': 1, 'imzlnzltf5': 1, 'etcpb': 1, 'zombies': 2, 'huthxlkyxy': 1, '___': 1, 'bryansinger': 1, 'reveals': 4, 'rupaul': 1, 'alexshipppp': 1, 'oqw8jx6rts': 1, 'ujriaivqln': 1, 'shadow': 10, 'boxing': 2, 'v8aftd9zez': 1, 'enjoyed': 4, 'action': 27, 'titan': 3, 'posters': 5, 'reminded': 2, 'freshly': 1, 'clean': 5, 'coiffed': 1, 'ki1ykrs9fi': 1, 'pbban': 4, 'temporary': 5, '300': 9, 'avysss': 1, 'armageddon': 45, 'flags': 5, 'xp': 4, 'russaky89': 1, 'vid': 5, 'doublecups': 2, 'lfkmtzaekk': 2, 'trubgme': 3, 'prod': 2, 'thisizbwright': 2, 'universal': 2, '3ty4mgm': 1, 'ouvindo': 2, 'peace': 34, 'qouxigdtbz': 1, 'bed': 18, 'unless': 9, 'revolution': 7, 'faction': 1, 'microsoft': 5, 'xbox': 8, '360': 4, 'ypbvs1ijya': 1, '9dflv6ynqr': 1, 'katiekatcubs': 1, 'series': 20, 'ophiuchus2613': 1, 'truelove': 2, 'romance': 6, 'lith': 2, 'voodoo': 2, 'seduction': 2, 'astrology': 2, 'rtrrt': 2, 'lotz': 2, '1008plaâ': 1, 'beat': 20, 'hsu': 1, 'hao': 1, 'flawless': 2, 'enews': 1, 'ben': 10, 'affleck': 2, 'girls': 16, 'loved': 17, 'eonlinechat': 1, 'patent': 2, 'pending': 2, 'stream': 11, 'ep': 9, 'bouajqi3lf': 1, 'coat': 2, 'hand': 25, 'worn': 2, 'certainty': 2, 'bears': 6, 'sense': 16, 'occasion': 5, 'culu2owiuc': 1, 'spying': 1, 'hidden': 3, 'door': 16, 'nsa': 2, 'data': 37, 'mining': 10, 'software': 2, 'blog': 11, 'qycw5jjaj1': 1, 'hyider_ghost2': 1, 'rtrrtcoach': 1, '1008planetâ': 1, 'hitchbot': 3, 'rise': 38, 'ashes': 20, 'true': 25, 'superstar': 1, 'fighterdena': 1, 'sketch': 2, 'based': 16, 'taste': 6, 'startrek': 1, 'tos': 1, 'a2e6dcsk88': 1, 'ucsudk3q1d': 1, 'aberdeenfc': 1, 'aberdeenfanpage': 1, 'luck': 8, 'tomorrow': 45, 'coefficient': 1, 'points': 10, 'plz': 2, 'paddytomlinson1': 1, 'rohnertparkdps': 2, 'justice': 8, 'department': 19, 'haven': 19, 'paid': 5, 'income': 2, 'tax': 13, '20yrs': 1, 'vladimir': 5, 'putin': 10, 'warning': 57, 'late': 15, 'escape': 22, 'gbxafy1m1c': 1, 'kingdom': 5, 'heavenly': 13, 'rule': 12, 'earth': 25, '8hgcbxukz0': 1, '4kopkcyvtt': 1, 'turkey': 44, 'invades': 1, 'xuoh3sjnxf': 1, 'b': 51, 'entertainment': 6, 'brucewillis': 1, 'movies': 8, 'monkeys': 2, 'sixth': 4, 'auction': 2, 'cxdjapzxmp': 1, 'letâ': 8, 'goof': 1, 'guild': 1, 'saunders': 1, 'hkbxxvd9iw': 1, 'karnythia': 2, 'gaining': 3, 'prepared': 8, 'toddler': 24, 'preppers': 1, 'library': 8, 'collection': 7, 'cd': 4, 'shtf': 1, 'preppertalk': 1, 'survival': 11, '2a': 2, 'vpqtgeqlma': 1, 'erker': 1, 'again': 71, 'eep': 1, 'saw': 54, 'hail': 58, 'ahamedis': 1, 'messiah': 1, '125': 2, 'dajaal': 1, 'gog': 1, 'magog': 1, 'sadly': 10, 'windows': 7, 'ethics': 2, 'stftjcrjea': 1, 'averted': 7, 'patron': 1, 'ultimalucha': 4, 'samihonkonen': 1, 'ww1': 7, 'blueprint': 2, 'extremely': 12, 'impressive': 3, 'european': 3, 'fitba': 1, 'till': 21, 'christmas': 8, 'christians': 6, 'united': 25, 'cufi': 1, 'jews': 1, 'convert': 1, '4arwwrzpsr': 1, 'mkjq9yfmp8': 1, 'preseasonworkouts': 1, 'lee': 2, 'comedy': 4, 'leejasper': 1, 'cl': 26, 'tories': 2, 'prepare': 18, 'interestrateriseâ': 1, 'remember': 44, 'crowd': 6, 'baggage': 2, 'carousel': 1, 'bags': 54, 'remaining': 3, 'items': 4, 'animals': 9, 'charts': 4, 'prove': 1, 'part': 50, 'begun': 1, 'economic': 13, 'collapse': 107, 'tracks': 13, 'tren': 1, 'vhcxtvcinr': 1, 'craig': 1, 'roberts': 3, 'nvfkzv5fex': 1, 'brics': 1, 'russia': 22, 'compromise': 1, 'watchmen': 1, 'lights': 8, 'funny': 18, 'goofballs': 1, 'staff': 7, 'pd': 1, 'thereal': 1, '4i0rjc9rqu': 1, 'comin': 1, 'mustread': 1, 'pcraigroberts': 1, 'rus': 1, '5gfhfcijrf': 1, 'fingers': 8, 'aberdeen': 1, 'beyonce': 11, 'pick': 36, 'nnmqlz91o9': 5, 'beyhive': 10, 'o91f3cyy0r': 5, 'da': 11, 'mtvsummerstar': 2, 'videoveranomtv': 3, 'mtvhottest': 13, 'britney': 4, 'spears': 5, 'lana': 2, 'del': 4, 'rey': 3, 'direction': 21, 'q2eblokeve': 11, 'directioners': 14, 'encmhz6y34': 11, 'x1402': 1, 'j6wseptxga': 1, '5sosfam': 4, 'qwgiwc9w7z': 1, 'build': 19, 'lions': 4, 'leader': 12, '22': 16, 'thoyhrhkfj': 5, 'wvj39a3bgm': 5, 'x1411': 1, 'whitewalkers': 1, 'slightly': 7, 'intrigued': 1, 'x1421': 1, 'own': 37, 'lead': 12, 'youtu': 1, 'g': 14, 'friend': 22, 'code': 5, 'lzktjnox': 1, 'zz0cewew64': 1, 'shark': 5, 'date': 24, 'stainless': 2, 'steel': 9, 'quartz': 3, 'sport': 11, 'k6ozc4wfqd': 1, 'h2zc4ntdzn': 1, 'salvation': 5, 'hosts': 1, 'rally': 5, 'reconnect': 1, 'fathers': 2, 'children': 36, 'hosting': 7, 'rallyâ': 1, 'rdjpor3azg': 1, 'efc3896qgr': 1, 'aspwke1ynk': 1, '67': 3, 'vote': 14, 'queens': 3, '5th': 10, 'billboard': 3, 'fanarmyfaceoff': 1, 'kgtxnnbj7y': 1, 'dogs': 14, 'lion': 7, 'hero': 15, 'tv': 35, 'review': 12, 'kaccpk85wf': 1, 'nnixodhigc': 1, 'victorinox': 2, 'swiss': 5, 'women': 61, 'rubber': 11, 'mop': 3, '241487': 2, 'q6vcjatfjx': 1, 'm1cpew7kbh': 1, 'x1392': 1, 'infantry': 1, 'mens': 2, 'lume': 1, 'dial': 2, 'analog': 1, 'wrist': 2, 'blue': 23, 'nylon': 2, 'fabric': 3, 'reaâ': 14, 'hep9k0xghb': 1, '80ebvglmra': 1, 'x1441': 1, 'yfy3nkkcoh': 1, 'knehvvohvk': 1, 'drayesha4': 1, 'indiakomuntorjawabdo': 1, 'indian': 18, 'kiâ': 1, 'wjljq3ya4g': 1, 'qchv3jqovk': 2, 'gc0udfnfgg': 2, '78': 3, 'x1386': 1, 'gave': 21, 'receipt': 1, 'ir9c545rzy': 1, 'y9wvqkgbbi': 1, 's5f9fcomp8': 1, 'stony': 1, 'jackson': 12, 'felons': 1, 'rejects': 3, 'against': 56, 'satan': 5, '0wbecdmhqo': 1, 'wwi': 3, 'wwii': 16, 'japanese': 20, 'navy': 15, 'military': 70, 'japan': 87, 'leather': 28, 'war': 122, 'mido': 5, 'f9j3l2yjl4': 1, 'mwwwowcayo': 1, 'x1431': 1, '72': 1, 'x1435': 1, '66': 1, 'x1415': 1, 'appoints': 1, 'brig': 1, 'gen': 1, 'richard': 6, 'kaiser': 1, 'member': 10, 'mississippi': 1, 'commission': 2, 'learn': 25, 'mrc': 1, 'vdukcv7yjy': 1, 'upper': 7, 'wabash': 1, 'reservoirs': 1, 'louisvilleusace': 1, 'hqqlquqzmd': 1, 'ap': 19, 'violent': 55, 'control': 30, 'killings': 2, 'therefore': 3, 'sixteenth': 1, 'forth': 3, 'uuaasb394n': 1, 'qumce7w2ty': 1, 'ktkg2sdhhl': 1, 'x1424': 1, 'obfd7e4qcp': 1, 'yazje5owvk': 1, 'x1434': 1, 'imhfdaowrd': 1, '4ftzjk94dt': 1, 'jewish': 5, 'terrorists': 11, 'charged': 52, 'historic': 6, 'arson': 49, 'truth': 30, 'ieksnfsby7': 1, 'vwcf3slkrw': 1, 'cheesehead': 1, 'report': 58, 'charges': 7, 'filed': 2, 'i3y1zwjbzo': 1, 'linked': 15, 'caught': 40, 'northern': 89, 'z8tlcadkow': 1, 'israeli': 40, 'unable': 2, 'solve': 5, 'duma': 1, 'wtzgxzaf7z': 1, 'authorities': 12, 'struggling': 3, 'cases': 11, 'hamilton': 3, 'qbs2k01wzk': 1, 'mvlziysgll': 1, 'attend': 2, 'organized': 1, 'protesting': 2, 'bvckd9pdti': 1, 'add': 10, 'familia': 2, 'squad': 13, 'shock': 5, 'muslims': 31, 'american': 37, 'jihad': 2, '92f4nkxjiu': 1, 'pnuts_mama': 1, 'strong': 26, 'happens': 17, 'push': 3, 'thru': 8, 'felony': 1, 'mourning': 8, 'notices': 10, 'stabbing': 10, 'victims': 23, 'stir': 9, 'griefâ': 8, 'f': 23, 'ktkdrgvhgx': 1, 'rome': 11, 'fake': 9, 'crime': 11, '66obqmximb': 1, 'shira': 4, 'banki': 3, 'wbctkggty9': 1, 'xwms1aww8m': 1, 'newsintweets': 3, 'te2yerugsi': 1, 'eug6zhciun': 1, 'kkbxiblah7': 1, 'sound': 45, 'an_opus': 1, 'elliott': 5, 'probation': 1, 'pay': 36, 'fines': 1, '1179': 1, '72bcyfbtj3': 1, 'admits': 9, 'scheme': 9, 'myhohvrhil': 1, 'lgbt': 7, 'tm5hthfdo0': 1, 'uavfrtlfs4': 1, '85g1pcccxg': 1, 'ej2ghnafhy': 1, 'saginaw': 2, 'sketches': 1, 'persons': 6, 'interest': 9, 'a2tzj07nid': 1, 'lvtp5mhjag': 1, 'trial': 6, 'burglary': 3, 'wftcrlz32p': 1, 'palestinian': 16, 'cracks': 2, 'amid': 30, 'protests': 3, 'okvsimogic': 1, 'kisii': 6, 'hunt': 11, 'failed': 8, 'plot': 10, 'm5sbfrrsn7': 1, 'countynews': 2, 'mariah': 2, 'thick': 4, 'shoulders': 3, 'charlton': 1, 'winery': 1, '4a9l0jrmyb': 1, 'wehtwtvwlocal': 1, 'euk7lks11r': 1, '3gz5zqqthe': 1, 'relaxinpr': 1, 'miprv': 1, 'latimes': 3, 'ylhayfaoou': 1, 'prayed': 1, 'wf8itk2kvx': 1, 'huffpostrelig': 1, '0tslqjokvh': 1, 'theadvocatemag': 4, 'sayn_ae': 1, '5bdrfu1duo': 1, 'q4l7dg56jm': 1, '2y9dnp5vtg': 1, '6xul6dcosh': 1, 'connection': 4, 'shawnee': 1, 'olathe': 1, 'kan': 1, 'court': 18, 'accused': 7, 'ofâ': 6, 'zcxmqoktz1': 1, 'ubfr1urafc': 1, 'alnv51d95x': 1, 'gbluhrrlto': 1, 'zpxe3fmyng': 1, '960kzim': 1, 'steele': 1, 'arrest': 7, 'investigation': 8, 'w6zbwryqjc': 1, 'vixuhn': 1, 'wnuqqatttp': 1, 'tennessee': 7, 'lesbian': 4, 'faked': 1, 'arsonâ': 1, '10muey8pxj': 1, 'hkfpynb4ps': 1, 'whtmwtgroj': 1, 'p2': 3, 'prrb4fhxtv': 1, 'lgbtq': 1, 'frank': 5, 'pleaded': 3, 'sgb9vnwqux': 1, 'u1fuwrgk5u': 1, '6o92wdfclu': 1, 'contra': 1, 'costa': 3, 'suspected': 24, 'serial': 9, 'thatâ': 9, 'bzcmzm7bi5': 1, 'lbqldykgdp': 1, 'guilty': 4, 'hiring': 24, 'l82mryxfnk': 1, '_301dc': 1, 'cloudy_goldrush': 2, 'white': 53, 'mo': 8, 'mc': 3, 'impressed': 6, 'arsonistmusic': 2, '1elreh1jlj': 1, 'alleged': 6, 'east': 25, 'arrested': 17, 'wr48aqtum7': 1, 'local_arsonist': 5, 'says': 63, 'carry': 12, 'vqzruthrnu': 1, 'safyuan': 2, 'minor': 7, 'citation': 2, 'possesion': 1, 'decriminalized': 1, 'substance': 1, 'facing': 3, 'calif': 7, 'pzotpdgaki': 1, 'vegetarian': 4, 'restaurant': 5, 'newyork': 6, 'agn4cl4usk': 1, 'mmgsyahdzb': 1, 'diamorfiend': 2, 'system': 11, 'forgets': 1, 'casper_rmg': 2, 'bloor': 1, 'ossington': 1, 'mattress': 1, 'northumberland': 1, 'cbcto': 1, 'wpdvt31sne': 1, 'torches': 1, 'getaway': 1, 'surrey': 1, 'q0j5ltvd6k': 1, 'richardgearl': 1, 'anything': 34, 'sit': 11, 'vegan': 1, 'shows': 23, 'torching': 2, 'popular': 7, 'bk': 2, 'strictly': 2, 'kxplyom9rr': 1, 'govegan': 1, 'uniteblue': 1, 'tonightâ': 2, 'headlines': 4, 'sqgogj3s5r': 1, 'nightbeat': 1, 'veronicadlcruz': 2, '2minutemix': 1, 'captures': 17, 'removing': 3, 'beach': 23, 'ca': 30, 'sought': 1, 'jp2qlrunjj': 1, 'jbpgkgowsi': 1, 'threw': 8, 'letter': 4, 'tho': 15, '58hif': 1, 'trick': 4, 'nasty': 4, 'things': 47, 'caused': 50, '70000': 2, 'helpâ': 2, 'jailed': 3, 'hear': 37, 'hngddbhewa': 1, 'spotlight': 1, 'paradise': 1, 'wniagospel': 1, '1he4ufawzm': 1, 'bnhtxaezmm': 1, 'christinkpix5': 1, 'nightbeattv': 1, '10pm': 3, 'kbcwtv': 1, 'makes': 34, '28t3nwhdky': 1, 'town': 30, 'salem': 8, 'melted': 1, 'ice': 16, 'cube': 1, 'arsonists': 1, 'blamed': 6, 'blaze': 30, 'plastics': 1, 'recycling': 4, 'business': 33, 'adelaide': 1, 'pcaldicott7': 1, 'reports': 27, '7newsadl': 1, 'r1xwdnvb0g': 1, 'hotboy': 1, 'zodiac': 1, 'trey': 1, 'dupree': 1, 'produced': 4, 'sparkz': 1, 'beatz': 1, 'chuck': 2, 'hdkd9j2lw0': 1, 'christ': 4, 'd8lqhigjt0': 1, 'toronto': 8, 'columbus': 4, 'gospel': 2, 'gay4bb': 1, 'dont': 33, 'slapped': 1, 'trap_': 1, 'fave': 2, 'vine': 12, 'sanfrancisco': 1, 'ojuhfkhvb2': 1, 'jokin': 1, 'cant': 20, 'moves': 6, 'norcal': 2, 'dty4t75cgu': 1, 'mjxbygejyl': 1, 'surveillance': 1, 'ktla': 1, 'g0o9wiaghu': 1, 'nr7ust3uh8': 1, 'slimebeast': 1, 'ulr6myklnh': 1, 'bestcomedyvine': 1, 'whats': 6, 'cracking': 2, 'drink': 15, 'green': 29, 'mink': 1, 'bail': 3, 'release': 16, 'rozs6aumss': 1, 'earl': 1, 'real': 54, 'jcfehrhlq8': 1, 'trusting': 3, 'terrorism': 60, 'inviting': 1, 'brigade': 4, 'telegraph': 5, '2z2htdjqzd': 1, 'story': 64, 'missing': 57, 'qxh1h61cwd': 1, 'emsxywp5s5': 1, 'vigilent': 1, 'civil': 6, 'liberties': 1, 'constant': 3, 'nativehuman': 1, 'myreligion': 1, 'wwu070tjej': 1, 'delhi': 2, 'provide': 5, 'acid': 7, 'private': 6, 'hospitals': 3, 'aapatwork': 1, 'xjtp8sbpt3': 1, 'panic': 58, 'credit': 5, 'pfannebeckers': 1, 'inspiring': 2, 'rediscover': 1, 'fantabulous': 1, 'tbt': 8, 'wmhy47xkil': 1, 'innovation': 4, 'catch': 13, 'reduce': 12, 'surface': 5, 'gj4ssehk1d': 1, 'industryinsights': 1, 'mcgsecure': 2, 'ptkrxtzjtv': 1, 'nashville': 8, 'theater': 22, 'gun': 22, 'grabbers': 3, 'demand': 5, 'hatchet': 9, 'terror': 23, 'post': 75, 'udhampur': 21, 'demi': 3, 'stans': 2, 'million': 18, 'copies': 1, 'scares': 2, 'versions': 2, 'warnings': 16, 'knowing': 5, 'governments': 2, 'isil': 4, 'claims': 26, 'suicide': 177, 'bombing': 108, 'saudi': 61, 'mosque': 57, 'y8icf89h6w': 1, 't9msnzv1kb': 1, 'dattomm': 1, 'funniest': 2, 'feminists': 11, '4head': 1, 'horrific': 4, 'muslim': 8, 'italy': 9, 'ny3l1orzqb': 1, 'liveleak': 1, 'âª93': 1, 'blasts': 4, 'yeda': 1, 'yakub': 2, 'karachi': 4, 'mfkqyxd8xg': 1, 'mumbai': 9, 'etribune': 1, 'militants': 26, 'waziristan': 1, 'acebreakingnews': 1, 'jb038rdfak': 1, 'psychological': 4, '3huhzxliig': 1, 'spos': 14, 'injured': 80, 'livemint': 1, 'rptouz2ijs': 1, '69mlhfefhr': 1, 'allthenews': 1, 'obama': 88, 'officials': 40, 'terrorist': 64, 'texas': 28, 'qi8qdw5dfg': 1, 'realtwanbrown': 1, 'relationship': 7, 'snapchat': 4, 'h6pm1w7ell': 1, 'darkreading': 1, '8eijdxapnp': 1, 'smb': 1, 'relay': 1, 'steals': 1, 'user': 10, 'credentials': 1, 'internet': 19, 'texasâ': 1, 'gratuitously': 1, 'cruel': 1, 'gayã': 1, 'retdjqycub': 1, 'forces': 13, 'raid': 6, '3gvus8nppy': 1, 'palestine': 6, 'cooper': 3, 'pooper': 1, 'saved': 32, 'drowning': 55, 'detected': 1, 'theâ': 6, 'hzzadcnhff': 1, 'goat': 2, 'worry': 16, 'rocket': 5, 'okay': 26, 'ebony': 1, '33v0rllrkf': 1, 'haired': 2, 't7tg3nrbje': 1, 'lie': 13, 'senior': 8, 'diamond': 8, 'graveyard': 2, 'shift': 27, 'defend': 8, 'handside': 1, 'idiot': 3, 'theatre': 8, 'tvsvjuavif': 1, 'npovfr4rgo': 1, 'volleyball': 2, 'ii': 15, 'machine': 9, 'simulation': 3, 'dcdecfv934': 1, 'dwbc1duvdk': 1, 'notley': 2, 'tactful': 1, 'direct': 1, 'response': 16, 'harper': 6, 'yeah': 36, 'premier': 2, 'rzsulzmokx': 1, 'ableg': 1, 'cdnpoli': 2, 'tilly': 1, 'confused': 4, 'cat': 15, 'overcomes': 1, 'qtrsyxfzo3': 1, 'ailant': 1, 'homeless': 8, 'zdcvlyq6qk': 1, 'mive': 16, 'hd': 7, '9tw34gffox': 1, 'vã': 2, '_a': 1, 'caixxum5sos': 1, 'onpnbx0zex': 1, 'um5icn5et2': 1, 'india': 42, 'shud': 1, 'evidence': 9, 'pak': 9, 'oth': 2, 'contries': 1, 'qiopbtiuvu': 1, 'illegal': 12, 'alien': 2, 'released': 58, 'dhs': 2, 'maria': 6, 'woman': 46, 'prior': 5, 'offenses': 1, 'mqp4hf9gpo': 1, 'strongly': 2, 'condemn': 2, 'ary': 1, 'cowardly': 1, 'act': 18, 'simply': 5, 'trying': 45, 'oyogii97yh': 1, 'atomic': 77, 'bombs': 21, 'fat': 1, 'mentality': 1, 'blazerfan': 1, 'ignoranceshe': 1, 'latinoand': 1, 'benothing': 1, 'morebut': 1, 'group': 50, 'gop': 22, 'prevention': 3, 'secondhand': 1, 'ydgmgbryl2': 1, 'dayton': 1, 'cyber': 2, '7lhkjz0ivo': 1, 'vita': 1, 'yay': 7, '2016': 6, 'infowars': 1, 'n3yjb8tcpm': 1, 'nwo': 2, 'anxiety': 6, 'sunnyclaribel': 1, 'dpjhodges': 1, 'articles': 12, 'labour': 4, 'shaaijo2zc': 1, 'rt_com': 2, 'tory': 3, 'freedom': 8, 'information': 21, 'ault': 4, 'govt': 19, 'accountabilityâ': 1, 'liberty': 3, 'unmtonz5c5': 1, 'gtsbvvef': 1, 'write': 9, 'herâ': 1, 'walked': 6, 'bathroom': 14, 'cried': 6, 'dreadfully': 1, 'blacks': 3, 'married': 9, 'zrngkh5d8h': 1, 'gunfight': 2, 'attacked': 57, 'erw7fdxncr': 1, 'pugprobs': 1, 'newcastle': 2, 'schoolgirl': 1, 'seaton': 1, 'delaval': 1, 'pack': 7, 'led': 29, 'former': 22, '4xbrvnib9t': 1, '2h0dpmv2ef': 1, 'envw98': 2, 'nickcocofree': 2, 'juliedicaro': 2, 'jdabe80': 2, 'frail': 1, 'aus': 4, 'davidwarner31': 1, 'along': 17, 'smith': 4, 'competing': 2, 'sura': 1, 'virus': 8, 'australia': 35, 'brutally': 7, 'messeymetoo': 1, 'christian': 27, 'temple': 26, 'mount': 25, 'waving': 21, 'pamela': 22, 'geller': 21, 'ajmtu7ehy2': 1, 'cvkqigr1az': 1, 'chkp0gfynj': 1, 'cis': 1, 'female': 8, 'somehow': 8, 'claim': 7, 'offended': 1, 'transgendered': 1, 'media': 40, 'ogoyzoljk5': 1, '911ã': 1, 'pwiw9q30dt': 1, 'helicopters': 2, 'civilians': 11, 'gaza': 12, 'completed': 2, 'exercises': 1, 'greece': 8, '5qyczywkgg': 1, 'ricbduiacc': 1, 'u0keoe5fmt': 1, 'f5miuhqaby': 1, 'pt': 2, 'unit': 7, 'responsible': 8, 'targeting': 7, 'scholars': 3, 'imprisoning': 1, 'youth': 25, 'f4lhfmehzh': 1, 'zb8vvbisy4': 1, 'telnet': 1, '124': 2, '172': 1, 'streamyx': 1, 'wgwiqmicl1': 1, 'robot': 3, 'lvl': 3, 'earned': 3, '16000': 2, 'satoshis': 2, '2pzcxskncg': 1, 'robotcoingame': 2, 'bitcoin': 3, 'freebitcoin': 2, 'patrick': 5, 'kane': 1, 'cab': 2, '91jvycxxvi': 1, 'ik': 3, 'troll': 2, 'pol': 2, 'rivals': 1, 'literally': 33, 'abused': 6, 'families': 112, 'abuse': 6, 'loosers': 1, 'attitude': 5, 'problem': 24, 'result': 11, 'constantly': 5, 'belittled': 1, 'bashed': 1, 'demoralized': 1, 'hot97': 1, 'forgot': 5, 'memo': 1, 'resident': 1, 'receiving': 3, 'concussion': 2, 'nhxse3rthx': 1, 'lhbzhwq4b9': 1, 'worst': 27, 'person': 40, 'questioning': 2, 'empathy': 1, 'kelly': 2, 'osbourne': 1, 'racist': 5, 'donald': 4, 'trump': 16, 'remark': 1, 'latinos': 1, 'view': 23, '7nagdsadwp': 1, 'eunice_njoki': 1, 'aiii': 1, 'chill': 4, 'calmly': 1, 'mxz7yx8ld1': 1, 'e4ydbm4dx6': 1, 't1aa5ov7eg': 1, '6615434': 1, 'dmlj1agotw': 1, 'puvozi3pa3': 1, 'emdjnnltp0': 1, 'christinalavv': 1, 'lindsay_wynn3': 1, 'tweets': 12, 'a6wmbnr51s': 1, 'etg0prbp4g': 1, 'yubkhf9iyh': 1, 'program': 18, 'flew': 6, 'uranium': 2, 'mine': 17, 'student': 8, 'digging': 2, 'e4wk8uri8a': 1, 'logitechg': 1, 'nation': 10, '7kxgs7vdfy': 1, 'metro': 20, 'protecting': 3, '911': 6, 'zwig51qecf': 1, 'aol': 1, 'mageavexis': 1, '1pdjoq4jc1': 1, 'welovela': 1, 'nhlducks': 1, 'avalanche': 44, 'defense': 8, 'blues': 2, '9v1rvcomh2': 1, 'sportsroadhouse': 1, 'having': 35, 'such': 41, 'peaceful': 6, 'experience': 12, 'idiocy': 1, 'iir1v39the': 1, 'tnxquor1wb': 1, 'kalle': 5, 'mattson': 5, 'tube': 12, 'installation': 4, 'output': 1, 'hhw': 1, 'decapitated': 1, 'throw': 10, '4cw6nmmw1o': 1, 'reebok': 1, 'shirt': 6, 'xl': 3, 'cotton': 4, 'znsvstgwx3': 1, 'nhl': 2, 'hockey': 3, 'tix': 4, 'frozen': 4, 'fury': 3, 'xvii': 2, 'kings': 4, '103': 3, 'row': 9, 'aa': 3, 'mgm': 3, 'grand': 4, 'kbtzzzg2tp': 1, 'bet': 8, 'didnt': 10, 'box': 12, 'rbrw8pwipj': 1, 'piece': 25, 'wrote': 2, 'designs': 4, 'appreciate': 5, 'greatly': 1, 'rfvjh58ef2': 1, 'glance': 1, 'drops': 2, 'heartbeat': 2, 'stops': 11, 'oh': 62, 'moon': 11, 'couldn': 10, 'repost': 1, 'gregskazphotography': 1, 'repostapp': 1, 'rainierarms': 1, 'ambi': 1, 'charging': 9, 'handle': 7, 't3dk3oov7e': 1, 'roy': 1, '1998': 3, '99': 5, 'deck': 4, 'spx': 1, '171': 1, 'finite': 1, '1620': 3, 'made': 56, 'mint': 1, 'uhfm1r3tq5': 1, 'qulgakebhb': 1, 'musician': 5, 'recreates': 4, '34': 7, 'clic': 7, 'album': 20, 'covers': 9, 'clever': 5, 'music': 40, 'ydjpoph1dw': 1, 'cierranb5678': 1, 'beautiful': 32, 'sweet': 8, 'faith': 4, 'akito': 1, 'roses': 1, 'lots': 12, 'frothy': 1, 'gyp': 1, 'raqupzfkjy': 1, 'weddinghour': 1, 'qunxocxcga': 1, 'calgary': 51, 'col': 4, 'preseason': 4, 'scotiabank': 1, 'saddledome': 1, '5g8qa6mpxm': 1, 'catechize': 1, 'inner': 10, 'confidential': 1, 'communication': 4, 'respects': 1, 'creating': 3, 'worth': 16, 'plenty': 3, 'maths': 1, 'teacher': 6, 'liverpool': 3, 'similar': 5, 'p5pnsrph5g': 1, 'rare': 13, 'vintage': 7, 'collectable': 1, 'windriver': 1, 'edt': 13, '60ml': 1, 'spray': 3, 'deals_uk': 2, 'wkziynyyry': 1, 'performance': 4, 'chip': 3, 'fuel': 8, 'saver': 2, 'chevy': 4, 'silverado': 1, 'blazer': 2, 'tahoe': 5, 'eockbeogm0': 1, 'cvjcidgez7': 1, 'leaves': 6, 'poplar': 2, 'fully': 12, 'ordained': 1, 'tumbling': 2, 'spurgeon': 1, 'dorion': 1, 'sens': 2, 'looking': 25, 'consistency': 1, 'hoffman': 3, 'coloradoavalanche': 2, 'msk68xoy7t': 1, 'ykwkx0qktx': 1, 'bag': 59, 'punk': 2, 'em': 18, 'ghostoftheav': 1, 'montroseband': 1, 'wdvxjsqwic': 1, '97eweuwybf': 1, '216': 1, 'qycwho8gun': 1, 'gas': 18, 'icrzi5tqc5': 1, 'onxhkfhn2a': 1, 'avalancheâ': 1, 'vbswhz4s2v': 1, 'tank': 10, 'fc': 1, 'maid': 2, 'agency': 5, 'presents': 2, 'bobrp2qwcb': 1, 'sniping': 3, 'rqipgqslt6': 1, 'chevrolet': 2, 'ltz': 1, 'lifted': 10, '4x4': 10, 'favorite': 26, '02': 9, '04': 21, '1500': 2, 'rear': 9, 'axle': 1, 'assembly': 1, '2055271': 1, 'vxzhzsalra': 1, 'hmxwrkbls0': 1, 'chion': 1, 'deal': 38, '2bk7lagma9': 1, 'bkdgcfsuiq': 1, 'senators': 2, 'coloradoavs': 1, 'nhlavalanche': 1, 'cizzoc6f0d': 1, 'pemyhd3nfz': 1, 'rudd': 2, 'emile': 1, 'hirsch': 1, 'gordon': 2, 'prince': 4, 'q': 5, 'filmmakers': 1, 'google': 13, 'e4qonkzndz': 1, 'entretenimento': 1, 'purchase': 6, 'neal': 1, 'rigga': 1, '4virxkgmpc': 1, 'bigperm28': 1, 'drafted': 1, 'overall': 2, 'utahgrizz': 1, 'gpgtafmkt0': 1, 'rappers': 4, 'songs': 3, 'pblvpm6c27': 1, 'mano_twits': 1, 'kolaveriboy': 1, 'avast': 1, 'andals': 1, 'funkflex': 1, 'yo': 13, 'flex': 1, '2azxdlcxga': 1, 'believing': 4, 'wide': 3, 'awake': 1, 'jerseys': 1, 'nruzhr5xqu': 1, 'anaheim': 1, 'ducks': 6, 'tickets': 11, 'xru1wowzyg': 1, 'bts': 3, 'kallemattson': 1, 'incredible': 9, '3w6sea9tuv': 1, '48h3tlvlxr': 1, 'nowplay': 1, '90sangelicmalik': 1, 'wtm': 1, 'deep': 17, 'breath': 2, 'lunatics': 1, 'livingontheedge': 1, 'wd': 2, 'pickup': 3, 'premium': 3, 'bâ': 2, 'obky8pc89h': 1, 'dxirntdsrd': 1, 'snowflake': 1, 'star': 25, 'wars': 11, 'power': 48, 'jedi': 2, 'battle': 51, 'droid': 3, 'hasbro': 2, 'xfguklrltf': 1, 'fegu8hwmc4': 1, 'general': 19, 'bull': 2, 'colonel': 1, '2nd': 16, 'hampshire': 7, 'signed': 16, 'ot0tffpbyb': 1, 'zarbwep9ld': 1, 'dragon': 6, 'z': 4, 'gods': 5, 'rotten': 2, 'tomatoes': 2, 'jddnhmrmmj': 1, 'rottentomatoes': 1, 'wedwyn9kfs': 1, 'tanks': 3, 'istant': 2, 'bat': 7, 'chat': 4, 'arti': 1, 'kaboom': 1, 'ya': 14, 'clip': 5, '4kus': 1, '15moferadio': 1, 'heavybag201': 1, 'battle_dom': 1, 'qotring': 1, 'battlerapchris': 1, 'hughes1128': 1, '7spydy1csc': 1, 'mctjnzx4h8': 1, 'baaaack': 1, 'petersen': 1, 'bowhunting': 1, 'bows': 1, 'cast': 6, 'fj73gdvg2n': 1, 'tb': 3, 'throwback': 4, 'b0zjwgmaiw': 1, 'kelby': 1, 'tomlinson': 1, 'mild': 2, 'mannered': 1, 'baseman': 1, 'metropolitan': 1, 'ending': 5, 'hits': 14, 'rbi': 1, 'sfgiants': 1, 'space': 26, 'occurred': 19, 'm27329': 1, 'fleets': 11, 'totaling': 11, '1236': 1, 'ships': 13, 'taken': 30, 'king': 25, 'trailer': 9, 'ripped': 3, 'hole': 4, 'saturn': 3, 'eytay': 1, 'neur0sis': 1, 'zyrzx6dfki': 1, 'animations': 1, 'cbsbigbrother': 2, 'du19': 1, 'rap': 3, 'internal': 5, 'external': 6, 'motivation': 2, 'w9p3hauhei': 1, 'environment': 6, 'pine': 2, 'trees': 14, 'growing': 4, 'remembrance': 2, 'gallipoli': 4, 'gjcaanfcyk': 1, 'phantasmal': 1, 'cummerbund': 1, 'qrhjei7grq': 1, 'warcraft': 9, 'jackisheaffer': 1, 'young': 24, 'stormtrooper': 1, 'engaged': 1, 'somme': 1, '1916': 2, '582': 2, 'yxvmiflvc4': 1, '9vw0uqqi1y': 1, 'marvel': 4, 'dc': 9, 'avengers': 2, 'exoticengram': 1, 'therasputin': 1, 'raspy': 1, 'figured': 3, 'ttk': 1, 'utahcanary': 1, 'sigh': 1, 'sexydragonmagic': 1, 'realization': 1, 'attention': 11, 'span': 1, 'games': 17, 'painting': 4, 'playing': 29, 'detroitpls': 1, 'interested': 5, 'goats': 2, 'ofecs6tcvc': 1, 'sharpino1990': 1, 'lu7dgowtyl': 1, 'pokã': 1, 'mon': 2, 'omega': 3, 'alpha': 3, 'sapphire': 1, 'wi': 4, 'fi': 4, 'cjs064': 1, 'yi30zgizsw': 1, '2jgvhw7yzs': 1, 'o784': 10, '4103': 1, '50': 33, 'spurs': 3, 'matt': 3, 'bonner': 1, 'brian': 6, 'scalabrine': 1, 'knockout': 2, 'nba': 5, 'q3mgyrdhsf': 1, 'screwattack': 1, 'w5dllv48cs': 1, 'knuckles': 1, 'punches': 1, 'lonepine': 2, 'remembered': 6, 'descendants': 2, '666canberra': 2, 't4fvvnrpc5': 1, '0zznbvfuvo': 1, 'bwadx8ywqn': 1, 'upfjy88kvi': 1, 'gary': 2, 'busey': 1, 'son': 17, 'dixie': 2, 'electronic': 10, 'fiddle': 1, 'celebration': 1, 'sequence': 1, 'fedex': 48, 'longer': 46, 'transport': 33, 'bioterror': 43, 'germs': 26, 'anthrax': 29, 'lab': 34, 'mishaps': 26, 'xtezgjfs8a': 1, 'ka0syahqvw': 1, 'usatoday': 14, 'qfjjdxes7g': 1, 'pathogens': 12, 'iadlslqdpd': 1, 'o8y1sul4ow': 1, 'hqsu8lwlth': 1, 'jacksonville': 6, 'busines': 1, 'shipping': 8, 'potential': 13, 'shzsymausi': 1, 'lhpgxc4b8j': 1, 'aphl': 1, 'responds': 7, 'cgdj3drso9': 1, 'k0y7xfxmxa': 1, 'tcot': 9, '1csebhplfh': 1, 'transporting': 3, 'research': 22, 'y3dm9ulqxg': 1, 'chorr2xovp': 1, 'atlbizchron': 1, 'frontpage': 3, 'faced': 5, 'sanctions': 5, 'rickperry': 3, 'doesn': 41, 'cut': 24, 'foxnews': 15, 'gopdebate': 5, 'fzujg7sxjg': 1, 'qzqc8wwwcn': 1, 'unsurprising': 1, 'dismaying': 1, 'consequences': 5, 'securing': 2, 'pathogen': 4, 'access': 11, 'd8efmgyr2d': 1, 'commerce': 3, 'subcommittee': 1, 'hold': 17, 'hearing': 10, 'cdc': 5, 'oversight': 1, 'labs': 3, 'httâ': 1, 'willing': 6, 'specimens': 5, 'cm8uni1mrg': 1, 'sjnkpj8lee': 1, 'watchcbs19': 1, 'jirxfok46c': 1, 'wvexjjrg6e': 1, 'p96rgbbayl': 1, 'apple': 6, 'mobile': 3, 'fallout': 2, 'biolab': 2, 'lapses': 1, 'select': 2, 'agent': 3, '4iooyibxyo': 1, 'alisonannyoung': 1, 'exclusive': 2, 'hmm': 7, 'researchers': 2, 'agents': 3, '9viibxgjav': 1, '5zdbtktww7': 1, 'ziw1rwpjkk': 1, 'corp': 3, 'nyse': 2, 'fdx': 2, 'deliver': 5, 'packages': 2, 'crd6tgizhg': 1, 'pwamg8ozj4': 1, '2kdq56xtws': 1, 'citizens': 7, 'acted': 3, 'watchdog': 1, 'dugway': 1, 'proving': 1, 'grounds': 4, 'nzhxyaplm0': 1, 'atlanta': 4, 'chronicle': 2, 'yllqjljiiq': 1, 'microbes': 1, 'zahnewjri8': 1, 'l04q4dkvue': 1, 'z5voujeus4': 1, '9lam19n5i5': 1, 'orchardalley': 1, 'les': 2, 'manufactured': 2, 'fear': 78, 'repression': 1, 'abcnorio': 1, 'gardens': 2, 'ba2rrxugsg': 1, 'shrhkfj1bc': 1, 'offbeat': 1, 'gvxxidholf': 1, 'jax': 4, 'biz': 1, 'journal': 5, 'r33ncvjovc': 1, 'foxnewâ': 2, '5ukohk7sob': 1, 'gan14pw9tg': 1, 'bioterâ': 1, '5n4husewly': 1, 'rghhkwtklr': 1, 'newsdict': 2, 'c0p3sesqwm': 1, 'tkeoaedqkq': 1, 'trucking': 1, 'mqbyravk6h': 1, 's4sicmyrmh': 1, 'wxia': 1, 'scoopit': 3, 'zqqjrqsbjm': 1, 'hrqcjdovjz': 1, 'xfhh2xf9ga': 1, '4m5uheyfdo': 1, 'concerns': 5, 'facilities': 4, 'dumbfounded': 1, 'rujv4vpnbv': 1, 'bioterrorism': 48, 'ebola': 22, 'oriovftlk4': 1, 'stopislam': 1, 'ccot': 4, 'makedclisten': 1, 'teaparty': 1, 'largest': 9, 'soil': 2, 'tacos': 2, 'atlasobscura': 1, '1n9crhwmgl': 1, 'sir': 14, 'xo2zbpbjb3': 1, 'fema': 2, 'region': 12, 'iii': 5, 'targeted': 2, 'nasa': 6, 'launch': 4, 'lithium': 1, 'extensive': 2, 'handling': 2, 'procedures': 3, 'bclqpwfdod': 1, 'firepower': 1, 'resource': 1, 'automation': 3, 'infectious': 2, 'diseases': 1, 'kvpbybglsr': 1, 'cagov': 1, '90blks': 6, '8whts': 6, 'colluded': 6, 'wht': 8, 'usagov': 8, 'hostage': 58, 'blk': 11, 'lgl': 7, 'idis': 6, 'id': 12, 'hers': 6, 'vp': 1, 'darrellissa': 1, 'cover': 21, 'keep': 54, 'hedge': 1, 'catastrophic': 54, 'risks': 3, 'asteroid': 2, 'impacts': 1, 'hq6wqsgsjx': 1, 'tale': 2, 'pox': 1, 'horrors': 3, 'w2ixt1k0ab': 1, 'infectiousdiseases': 1, 'uscourt': 1, 'public': 31, 'health': 42, 'superbug': 1, 'biolabs': 1, 'epidemics': 1, 'biosurveillance': 1, 'outbreaks': 1, 'homeland': 3, 'security': 48, 'wire': 7, 'cvhygwcbzv': 1, 'creation': 1, 'ai': 1, 'workforce': 1, 'contact': 4, 'wealth': 7, 'inequality': 1, 'yea': 6, 'lies': 20, 'cia': 5, 'hollywood': 30, 'horowitz': 1, 'vaccines': 1, '6pagjqfbzk': 1, 'qzizelxbyr': 1, 'o_magazine': 1, 'daughter': 9, 'warrior': 4, '50ft': 1, 'aka': 9, 'transgender': 2, 'fold': 2, 'extra': 7, 'drrichardbesser': 1, 'yes': 40, 'college': 5, '88': 2, '92': 2, 'difficult': 2, 'dispersed': 1, 'volunteers': 2, 'participate': 1, 'preparedness': 10, 'drill': 10, 'simulating': 1, 'nwv2rvghf3': 1, 'hvnewsnetwork': 1, 'meyerbjoern': 1, 'thelonevirologi': 1, 'mackayim': 1, 'newspaper': 1, 'running': 29, 'guidelines': 2, 'management': 10, '2002': 2, 'zkuxhnobag': 1, 'fhgkyxffu5': 1, 'pretty': 36, 'list': 11, 'bbcworld': 1, 'reach': 7, 'populated': 1, 'erea': 1, 'bishoyragheb': 1, 'fair': 8, 'mean': 19, 'bsc': 1, 'irrelevant': 2, 'concerned': 8, 'gm': 14, 'organisms': 1, 'scientists': 5, 'sume5pro0f': 1, 'hhs': 1, 'selects': 1, 'regional': 4, 'special': 15, 'centers': 2, 'qmo1txxdkj': 1, 'debtin': 1, 'forget': 13, 'threat': 17, 'stationcdrkelly': 1, 'sys': 1, 'clergyforced': 1, 'exist': 6, 'younger': 2, 'grossly': 1, 'disfigured': 1, 'possibility': 2, 'mysteries': 1, 'sucks': 5, 'hst': 2, 'anthony': 3, 'kimery': 2, 'discusses': 4, 'syfy': 2, 'channel': 10, 'joe': 15, 'rogan': 2, 'questions': 9, '0fdsc3f2iw': 1, 'zckjwacrcs': 1, 'harvardu': 2, 'describing': 3, 'future': 19, 'therapies': 2, 'technologies': 2, 'sexuality': 1, 'diagnosis': 1, 'digitalhealth': 1, 'hcsm': 1, 'aphiabeta1907': 1, 'ugliness': 1, 'ugly': 1, 'amesocialaction': 1, 'frat': 1, 'bioterrorismi': 1, 'fbi': 4, 'tolewant': 1, 'abc': 40, 'uganda': 7, 'ppl': 25, 'aggravated': 1, 'low': 42, 'transmission': 3, 'hivisnotacrime': 1, 'howardu': 1, 'studying': 2, 'carpediem': 1, 'gacourts': 1, 'cspanwj': 1, 'hen': 1, 'tdg0bsmd6c': 1, 'iirwfzmkho': 1, 'onu_france': 1, '74': 2, '75': 10, 'rockefeller_chi': 1, 'rockefelleruniv': 1, 'heiress': 1, 'evade': 1, 'efforts': 8, 'prosecute': 1, 'blks': 1, 'kidnap': 2, 'afp': 4, 'irandeal': 11, 'activity': 6, 'broken': 19, '27': 8, 'agreements': 1, 'prsnvns': 1, 'manage': 4, 'alright': 7, 'q6oxzq45ve': 1, 'cdcgov': 2, 'mariashriver': 1, 'fultoninfo': 1, 'trip': 11, 'strangers': 4, 'ssapress': 1, 'forfeit': 1, 'allay': 1, 'glanders': 1, 'fears': 14, 'ahead': 21, 'rio': 3, 'olympic': 5, 'equestrian': 1, 'test': 15, 'uotpnsqpz5': 1, 'horsetalknz': 1, 'kaotix_blaze': 1, 'craving': 3, 'pool': 17, 'raisinfingers': 1, 'hammond': 1, 'listing': 1, '3xn1soh4bb': 1, 'amazin': 1, 'dey': 2, 'wanna': 42, 'dedication': 1, '_afrojazz': 1, 'talking': 15, 'udkesj01ml': 1, 'shayoly': 1, 'virtual': 1, 'tour': 7, 'listings': 1, '547': 1, 'fir': 2, 'cannon': 2, 'listed': 4, 'dorrie': 1, 'caruana': 1, 'nf46paytvw': 1, 'pendleton': 2, 'base': 5, 'horno': 1, 'welcome': 16, 'djryanwolf': 1, 'djcoreygrand': 1, 'djknyce': 1, 'djoneplustwo': 1, 'officialcoredjs': 1, 'cleveland': 5, 'standup': 1, 'iamtonyneal': 1, 'p6gqmctglj': 1, 'apt': 2, 'balcony': 2, 'bellalinn': 1, 'alrighty': 1, 'jays': 4, 'dutch': 10, 'trade': 3, 'junesnowpaw': 1, 'gimme': 2, 'dat': 7, 'creamy': 1, 'stuff': 13, 'hair': 18, 'poverty': 6, 'fade': 1, 'weekend': 16, 'losses': 6, 'wildfire': 98, 'rages': 2, 'e0uusnpsq5': 1, 'firefighters': 24, 'battling': 6, 'cary': 2, 'condo': 1, 'mim8hh2ce6': 1, 'hating': 4, 'audacityjamesta': 1, 'babes': 3, 'lan': 1, 'reaction': 2, 'determines': 1, 'port': 8, 'coquitlam': 3, 'crews': 31, 'electric': 6, 'towel': 8, 'warmer': 1, 'alarm': 25, 'several': 10, 'businesses': 30, 'iamrrsb': 1, 'pdehd1tcpk': 1, 'skywars': 1, 'hack': 3, 'flechadas': 1, 'sinistras': 1, 'dems': 3, 'covered': 7, 'months': 17, 'detained': 3, 'americans': 7, 'interrogation': 1, 'facility': 2, 'uwitvbsbnc': 1, 'bars': 4, 'rapper': 2, 'ashens': 2, 'yc9tywuzqm': 1, 'atgames': 1, 'handheld': 1, 'mega': 7, 'drives': 5, 'ugh': 7, 'put': 59, 'calories': 7, 'pizzas': 1, 'thisispublichealth': 1, 'pic': 41, 'fort': 8, 'stuffin': 1, 'ae9cpiexak': 1, 'writing': 11, 'computers': 29, 'cyxbrzxwq4': 1, 'beautiful_juic1': 1, 'letting': 6, 'babysweet420': 1, 'mad': 29, '420': 1, 'guiltygearxxacp': 1, 'drew': 2, 'weeks': 11, 'sk3l74flzz': 1, 'socialmedia': 2, 'facebook': 14, 'features': 3, 'personalize': 1, 'customer': 1, 'nbizatlsmv': 1, 'djjohnblaze': 1, 'shout': 4, 'hottest': 4, 'dj': 5, 'sothwest': 1, 'n95igskd3p': 1, 'farm': 5, 'beginnings': 1, 'fireâ': 2, 'msdizftz2g': 1, 'christycroley': 1, 'works': 5, 'vela': 1, 'q8reoevlue': 1, 'slurpees': 1, '3op6g7ovzo': 1, 'uabstephenlong': 1, 'courtlizcamp': 1, 'tweet': 22, 'fail': 8, 'ovoizic': 1, 'baddiemoneysign': 1, 'lithgow': 1, 'portland': 13, 'cht5w3znik': 1, 'mixtape': 2, 'promise': 7, 'goin': 1, 'uungrqougn': 1, '_itzsteven': 1, 'xdojjjj': 1, 'whopper_jr_760': 1, 'huh': 7, 'leo': 3, 'blizzard_draco': 4, 'blazinsmasher': 1, 'bedrooms': 1, 'baths': 1, 'sale': 12, 'palms': 5, 'qms8rressd': 1, 'zla30jcssq': 1, 'buzzy': 1, 'john': 13, 'jus': 3, 'kame': 1, 'bid': 6, 'lovethyfamily': 1, 'xreuonzzbi': 1, 'guns': 11, 'a__cee': 1, 'daem': 1, 'smooth': 2, 'asf': 2, 'wkv8vqvkt6': 1, 'artisteoftheweekfact': 1, 'coast2coastdjs': 1, 'agree': 17, 'crystal_blaz': 1, 'jiwonle': 1, 'hiphop': 3, 'clubbanger': 1, 'bright': 2, 'blazing': 46, 'fireman': 3, 'party': 22, '9rfo9gy3ne': 1, 'weddings': 3, 'cruisingblazing': 1, 'banging': 1, 'vibez': 2, 'emvohm9m6j': 1, 'listenlive': 3, 'montgomery': 2, 'stds': 1, 'rejected': 3, 'slogan': 1, 'transcend': 2, 'trail': 3, 'diversified': 2, 'marketing': 6, 'nr1i8qnao1': 1, 'morgan': 5, 'silver': 22, 'dollar': 9, '1880': 2, 'gem': 3, 'bu': 3, 'dmpl': 2, 'cameo': 2, 'rev': 2, 'ms': 6, 'grade': 5, 'iu9bafdxey': 1, 'aphqu5svet': 1, 'm96kbqwior': 1, 'wrjr846fks': 1, 'bowl': 8, 'danryckert': 1, 'drewscanlon': 1, 'stealth': 1, 'skills': 4, 'beats': 5, 'silenced': 2, 'm4': 3, 'bryanvsbracey': 1, 'ustadium': 1, 'speed': 6, 'watt': 1, 'obj': 1, 'quick': 13, 'pacquiao': 1, 'marquez': 1, 'unfilled': 1, 'swarm': 3, 'online': 26, 'durvod': 1, '6vja8r4yxa': 1, 'turn': 22, 'radios': 1, 'stoponesounds': 1, 'airwaves': 1, 'g7s34sw2am': 1, '107': 2, 'fm': 3, 'stickynyc': 1, '95roots': 1, 'baseballquotes1': 1, '32': 7, 'inch': 1, 'dynasty': 1, 'weapons': 58, 'master': 2, 'hinatobot': 1, 'blazing_ben': 1, 'pattyds50': 1, 'gwfrazee': 1, 'joshuaaraf': 1, 'expect': 16, 'tattoo': 3, 'yelp': 2, 'z8nxwmymwa': 1, 'shouout': 1, 'kasad1lla': 1, 'vocals': 1, 'shes': 2, 's3xleak': 3, 'ph0tos': 3, '19yrs': 3, 'ash': 6, 'wo': 6, 'lady': 23, 'festac': 3, 'delta': 5, 'exp0sed': 3, 'bbm': 3, 'leaked': 4, 'pictures': 6, 'ixrehm05yq': 1, 'racing': 4, 'temperature': 4, 'roof': 9, 'fifth': 5, 'harmony': 1, 'omgbethersss': 1, 'bethanymota': 1, 'midnight': 3, 'cry': 8, 'reality': 12, 'lonely': 5, 'erased': 2, 'sun': 21, 'dmac1043': 1, 'spanish': 6, 'latin': 4, 'origin': 3, 'meaning': 3, 'reddish': 1, 'colored': 1, 'dummies': 1, 'pronouncing': 1, 'freezing': 3, 'c8b6ddiqig': 1, 'le': 2, 'enough': 24, '95': 8, 'degree': 5, 'mid': 9, 'notâ': 1, 'osuoivnigo': 1, 'rn': 17, 'packed': 4, 'meet': 14, 'kkarmstrongg': 1, 'portugal': 3, 'sunshine': 3, 'bestie': 2, 'bekah__w': 1, 'sweat': 4, 'bullets': 4, 'beating': 6, 'acousticmaloley': 1, 'officialtjonez': 1, 'words': 35, 'fam': 4, 'beyond': 13, 'blessed': 6, 'dude': 22, 'respect': 10, 'lum4l65alz': 1, 'enjoying': 5, 'shade': 2, 'tree': 21, 'breeze': 1, '2wzhj0lna6': 1, 'fdny': 3, 'blasting': 2, 'hornâ': 1, 'bx6cwrt8m7': 1, 'insomnia': 3, 'fantasy': 12, 'escorts': 1, 'gfe': 1, 'dubai': 1, 'n6ahgfmudt': 1, 'satelite': 1, 'continue': 19, 'five': 17, 'compl': 1, 'bmguhqy7w4': 1, '__srajapakse__': 1, 'missy': 1, 'suited': 1, 'summertime': 2, 'yee': 1, 'haw': 1, 'asukager': 1, 'magical': 1, 'website': 6, 'speeds': 1, 'professional': 3, 'unlimited': 1, 'nyndesigns': 1, 'd1f7wi7fmr': 1, 'elwoods': 1, 'blazingelwoods': 1, 'bother': 3, 'doug': 2, 'tune': 6, 'qyzpb1gkmr': 1, '1921': 1, 'ch': 2, 'pl': 2, 'satin': 1, 'reâ': 37, '99mbyfl3id': 1, '4ddmtguzzs': 1, 'etisalat': 2, 'mb': 3, 'complete': 13, 'giving': 21, '100mb': 1, 'tecno': 1, 'q1': 1, 'ime': 1, 'avzsyie1nt': 1, 'funkylilshack': 1, 'mariaf30': 1, 'slapping': 1, 'cake': 22, 'throwing': 11, 'showdown': 1, 'edwelchmusic': 1, 'unpacked': 1, 'fd5od5pfcf': 1, 'physical': 5, '2wupsdttvi': 1, 'blazingroselia': 1, 'rocky': 15, 'ways': 11, 'archetype': 1, 'bleeding': 51, 'grounded': 1, 'readiness': 1, 'fpoj': 1, 'wxbrarc7p3': 1, 'understand': 14, 'timedoes': 1, 'ignoring': 2, 'hardly': 4, 'chicken': 5, 'nugget': 1, 'sisters': 5, 'lip': 4, 'slit': 1, 'throat': 6, 'apologize': 1, 'tia': 1, 'intâ': 1, 'âªl': 1, 'airline': 1, 'companies': 11, 'dry': 9, 'li8wi1kumy': 1, 'battlehork': 1, 'gif': 3, 'lu': 2, 'account': 20, 'posted': 7, 'mundo': 1, 'jesus': 9, 'landolina': 1, 'gel': 4, '0btniwagt1': 1, 'realestate': 1, 'hhzy3oqela': 1, 'nose': 7, 'typewriter': 1, 'written': 6, 'bunch': 5, 'gunk': 1, 'jaydennotjared': 1, 'text': 22, 'hugs': 1, 'allowed': 5, 'leona': 1, 'lewis': 2, 'dinah': 1, 'singing': 9, 'stab': 6, 'apparently': 9, 'fine': 15, 'walking': 16, 'eating': 6, 'takis': 1, 'rubbing': 1, 'hands': 11, 'tears': 15, 'darrylb1979': 1, '2017': 1, '2019': 1, 'vampiro': 3, 'coreyashe': 1, 'foot': 10, 'toe': 3, 'tombrevoort': 1, 'tom': 7, 'brevoort': 1, 'open': 26, 'bleedinglove': 1, 'leonalewis': 2, 'acapella': 1, 'singer': 1, 'canadiansingerâ': 1, '51pfeilpnk': 1, 'king_naruto_': 1, 'madara': 1, 'stepped': 3, 'gl': 16, 'pun': 4, 'tak': 2, 'sedar': 1, 'pain': 24, 'k5knnwugwt': 1, 'waited': 1, 'cute': 14, 'dinner': 7, 'til': 6, 'cams': 1, 'starts': 12, 'd5rrrwhjpn': 1, 'uptown_jorge': 1, 'kriszellner': 1, 'triplemania': 1, 'villano': 1, 'whooping': 1, 'myztiziziziziz': 1, 'reynolds': 2, 'montano': 1, 'silence': 5, 'safer': 4, 'violence': 9, 'jannet2208': 1, 'fell': 7, 'concrete': 2, 'imkanomate': 1, 'affect': 4, 'wounds': 51, 'skarlet': 1, 'pushed': 1, 'backwards': 1, 'cats': 6, 'pet': 2, 'bite': 4, 'marks': 30, 'scratch': 1, 'dogsarebetterthancats': 1, 'katramsland': 1, 'liberal': 2, 'deadpool': 1, 'favourite': 5, 'characters': 6, 'wears': 3, 'suit': 5, 'aichmomanic': 1, 'wraps': 1, 'cloth': 1, 'wound': 5, 'falls': 12, 'ground': 16, 'eevqj37ndg': 1, 'beckyfeigin': 1, 'defs': 1, 'sodamntrue': 1, 'wannabe': 2, 'artist': 3, 'chaosmagician97': 1, 'dudeandpal': 1, 'burberryant': 1, 'brain': 18, 'lets': 16, 'soccer': 5, 'tammy_w1997': 1, 'elijahmallari': 1, 'apartment': 10, 'coloiccarnality': 1, 'instincts': 1, 'kicked': 5, 'scratches': 1, 'stefano': 1, 'ear': 4, 'benjm1': 1, 'tourofutah': 1, 'b1grego': 1, 'pileup': 2, 'wouldn': 13, 'quit': 2, 'rave': 1, 'wedding': 16, 'wise': 2, 'te': 2, 'damnaarielle': 1, 'timeline': 4, 'blew': 51, 'mfalcon21': 1, 'bomb': 147, 'oomf': 2, 'instagrams': 1, 'active': 5, 'follower': 2, 'b24fowler': 1, 'instagram': 5, 'featured': 2, 'jazz': 4, 'usagi': 1, 'entire': 26, 'solar': 6, 'airhead': 1, 'misstep': 1, 'benkin97': 1, 'mili_5499': 1, 'probs': 2, 'cup': 7, 'idkimnotfunny': 1, 'snap': 9, 'receipts': 1, 'wont': 12, 'desperate': 3, 'abbss_13': 1, 'hopeinhearts': 1, 'notifications': 4, 'encouraging': 1, 'hw18': 1, '90': 13, 'keeping': 4, 'pulled': 8, 'lolol': 3, '2fast2furious': 1, 'atlwtmgc': 1, 'universe': 11, 'defj7xekgx': 1, 'max': 13, 'tf': 6, 'fired': 7, 'catfishmtv': 1, 'wow': 36, 'social': 23, 'shania': 3, 'twain': 2, 'concert': 12, 'cieistea': 1, 'idk': 11, 'chances': 3, 'rick': 3, 'morty': 1, 'uqkx5vbium': 1, 'codythompson25': 1, 'ty': 5, 'realized': 7, '_onlyftf': 1, 'tusky': 1, 'robsimss': 1, 'cantmisskid': 1, 'rq': 1, 'gambit': 3, 'anakin': 1, 'wbc2015': 1, 'iphooey': 1, 'ironically': 3, 'michele': 2, 'bachmann': 1, 'brought': 16, 'ron': 3, 'hoax': 5, 'funnychubbyguy': 1, 'pizza': 5, 'cheese': 12, 'sad': 26, 'djihn95ynb': 1, 'catfish': 2, 'retweeted': 2, 'whistled': 1, 'wind': 59, 'skirt': 3, 'tokyodotcom': 1, 'mentions': 8, 'imawesome7986': 1, 'boise': 3, 'minds': 4, 'idaho': 2, 'stadium': 17, 'freyas': 1, 'everywhere': 13, 'yahooschwab': 1, 'ray': 7, 'rice': 3, 'fiasco': 2, 'light': 52, 'skin': 8, 'kid': 13, 'watched': 16, 'honey': 3, 'economy': 8, 'recommend': 6, 'conservative': 2, 'shoppe': 1, 'harperanetflixshow': 2, 'elxn42': 1, 'stopharper': 1, 'balloon': 3, 'rude': 2, 'popped': 1, 'whoever': 4, 'fireball': 1, 'falling': 17, 'ye': 3, 'sean': 5, 'zayn': 5, 'thefierygrave': 1, 'exposed': 4, 'mlg': 2, 'player': 14, 'ego': 5, 'mw3': 1, 'cod': 4, 'champs': 1, 'esports': 2, 'orgs': 1, 'weloverobdyrdek': 1, 'adrian_peel': 1, 'clue': 2, 'clicks': 2, 'daorcey': 1, 'nsit_': 1, 'pair': 4, 'graywardens': 1, 'blight': 43, 'damidnighter': 1, 'theres': 9, 'theory': 4, 'magisters': 2, 'arent': 2, 'dwarves': 2, 'ones': 13, 'thda': 2, 'kicks': 4, 'anti': 15, 'loan': 7, 'memphis': 5, '7gf7cpyl0r': 1, 'cycling': 3, 'athletics': 1, 'doping': 1, 'exacerbated': 2, 'monetary': 1, 'reward': 5, 'soul': 21, 'searching': 32, 'required': 3, 'westmdcountypa': 1, 'land': 43, 'bank': 15, 'targets': 6, 'latrobe': 1, '20th': 1, 'acquisition': 3, 'regdv873aj': 1, 'kynespeace': 1, 'susceptible': 1, 'ny2': 1, 'shoot': 5, 'trama': 1, 'wcfgt2015': 1, 'jack': 8, 'corn': 2, 'leaf': 2, 'headline': 3, 'lvoqpgkli7': 1, 'realhotcullen': 1, 'roads': 10, 'lyrium': 1, 'ain': 26, 'load': 6, 'welfare': 3, 'loving': 23, 'sponge': 3, 'society': 10, 'rrzbzgo48n': 1, 'colemcfadyean': 1, 'cole': 3, 'prysmian': 1, 'secures': 1, 'contract': 2, 'olg09kb6ha': 1, 'heights': 10, 'shaker': 3, 'wyokt0ftrw': 1, 'todd_calfee': 1, 'mattburgener': 1, 'info': 22, 'awakened': 1, 'biomarkdarrah': 1, 'mike_laidlaw': 1, 'carl': 3, 'everest': 1, 'cobes': 1, 'whitt': 1, 'frost': 1, 'godly': 1, 'beer': 6, 'someday': 2, 'xzlrwc0pik': 1, 'o5xlxmkoyq': 1, 'stamford': 2, 'tightens': 1, 'law': 10, 'dilapitated': 1, 'barn': 6, 'sits': 1, 'half': 49, 'hickory': 1, 'qp65io4avc': 1, 'topix': 1, 'qrnyme33tc': 1, 'clevelanddotcom': 1, 'greenspace': 1, 'housing': 7, 'developmentâ': 1, 'zzcbbqyj1q': 1, 'kksghsblfh': 1, 'councilman': 1, 'neill': 1, 'ues3ihsyiq': 1, 'demetae12': 1, 'releases': 10, 'planing': 1, 'level': 30, 'constellation': 1, 'gaia': 1, 'iclown': 2, 'drumstep': 1, 'infinity': 2, '7le5gq2psx': 1, 'etkd58un8n': 1, 'lrelvrm06w': 1, 'achieve': 1, 'excellence': 1, 'develop': 2, 'habit': 1, 'matters': 4, 'author': 6, 'hendy_21': 1, 'purdies': 1, 'tracy': 1, 'apperception': 1, 'bridgework': 1, 'xxhjesc': 1, 'ybhbarajxp': 1, 'michelgrabowy': 1, 'vegetablefarmer': 1, 'loser': 1, 'snide': 1, 'remarks': 1, 'dotish': 1, 'important': 9, 'inquisition': 1, 'darkspawn': 1, 't8sv2ai7sw': 1, 'stories': 16, 'acebabes': 1, 'healthweekly1': 1, 'amateurnester': 1, 'norwalk': 1, 'ordinance': 1, 'success': 7, 'properties': 3, 'zdwmkqeybn': 1, 'uncover': 1, 'slumber': 1, 'ripe': 1, 'banana': 5, 'appeal': 2, 'slipping': 2, 'bananas': 2, 'inâ': 3, 'stps5mruxw': 1, 'willhillbet': 1, 'app': 13, 'parksboardfacts': 1, 'zippoline': 1, 'community': 13, 'moveit': 1, 'policy': 36, 'ohio': 4, 'cle': 1, 'cuyahoga': 1, 'greening': 1, 'vacant': 7, 'lands': 6, 'if62sdxvp7': 1, 'crossing': 2, 'ocean': 16, 'peeling': 1, 'potatoes': 2, 'servile': 1, 'devotion': 2, 'anellatulip': 2, 'taint': 1, 'gates': 3, 'detroit': 4, 'progress': 10, 'shells': 2, 'houses': 33, 'remain': 8, 'justin_fenton': 1, 'opposite': 5, 'urban': 2, 'monumentalized': 1, 'actual': 8, 'refugee': 4, 'tragedy': 52, 'shame': 9, 'gaae0no5du': 1, 'article': 7, 'jackman': 1, 'downgraded': 1, 'estimate': 11, '37': 3, 'square': 4, 'h31mmuduqt': 1, 'renewable': 1, 'windfarms': 1, 'abbott': 4, 'landscape': 3, 'ujyfrt77ej': 1, 'locksmithing': 1, 'art': 20, 'respecting': 1, 'elaboration': 1, 'locks': 2, 'lpdkl': 1, 'jake_blight': 1, 'wealilknowa': 1, '5000': 6, 'wins': 6, 'ranked': 1, 'card': 7, 'teâ': 1, 'vq3yab2j8n': 1, 'buying': 4, 'tl7o6zsqzy': 1, 'amazon': 17, 'buy': 25, '0t8vqkeari': 1, 'available': 3, 'ucy5fea9yu': 1, 'blizzard': 30, 'dnwwo1ybrk': 1, 'kamon': 1, 'lonewolffur': 5, 'slaps': 1, 'stevenontwatter': 1, 'xdestroyer': 1, 'nuts': 2, 'flavored': 1, 'cream': 10, 'lunch': 10, 'curds': 1, 'pls': 11, 'pray': 30, 'auz': 1, 'cst': 1, 'radioriffrocks': 1, 'pjlda9hd5v': 1, 'hrs': 3, 'rock': 25, '3wnjauar7w': 1, 'rolo': 2, 'dq': 4, 'ashayo': 2, 'msmiggi': 1, 'hi': 13, 'vods': 2, 'presentation': 1, 'u7vavyrgv9': 1, 'ebook': 1, 'timzak': 1, 'lizard': 3, 'stuck': 8, 'rhyming': 1, 'kidsbook': 1, 'kvzuxdl4ij': 1, 'inny1antam': 1, 'eddietrunk': 1, 'ozz': 1, 'tweet4taiji': 1, 'dolphin': 2, 'worship': 1, 'superstitions': 1, 'blizzard_fans': 1, 'lucio': 1, 'overwatch': 1, 'rolling': 8, 'caution': 4, 'aren': 18, 'gunnar': 1, 'optiks': 1, 'heroes': 11, 'siege': 1, 'gaming': 4, 'gles': 3, 'onyx': 1, 'yeuqp0vkwu': 1, 'ougm0yxqmo': 1, 'blizzard_gamin': 1, 'ight': 2, 'peanut': 5, 'butter': 6, 'cookie': 1, 'dough': 1, 'drove': 8, 'mini': 13, 'mic': 3, 'controllers': 2, 'announcement': 5, 'cubze5mizm': 1, 'updated': 11, 'khsbzkfd6o': 1, 'expansion': 1, 'ideas': 12, 'bard': 1, 'holy': 14, 'trinity': 2, 'egioxbaboe': 1, 'dryer': 3, 'snowy': 2, 'paper': 8, 'jeans': 7, 'pocket': 4, 'daborsch': 1, 'shocking': 4, 'lured': 1, 'fanbase': 1, 'wod': 2, 'disappointed': 2, 'hardcore': 2, 'everyones': 1, 'leaving': 14, 'candy': 5, 'wizard': 1, 'lwb': 1, 'mgr809yc5a': 1, 'sub': 8, 'expo': 2, 'probaly': 1, 'knock': 31, 'fairx818x': 1, 'playoverwatch': 1, 'blizzardcs': 2, 'clutch': 8, 'link': 29, 'bubblycuteone': 1, 'okayyyyyy': 1, 'ima': 5, 'bout': 10, 'tora': 1, 'subliminal': 1, 'messages': 5, 'hearthstone': 2, 'pc': 7, 'thoughts': 10, 'abolxmh1vy': 1, 'tcgreno': 1, 'reset': 1, 'whoa': 4, 'legend': 2, 'hu5cmoupum': 1, 'brownie': 2, 'batter': 1, 'activision': 1, 'cognizant': 1, 'technology': 14, 'gknrp0e8qs': 1, 'sg': 1, 'nyv51681ue': 1, 'biggest': 22, 'regret': 3, 'vcirn1md8v': 1, 'butterfinger': 2, 'bruh': 11, 'chief__cg': 1, 'nah': 12, 'cook': 12, 'gone': 19, 'louis_tomlinson': 2, 'relate': 1, 'billie': 1, 'jean': 1, 'ur': 46, 'enjoy': 15, 'floor': 13, 'buybloodonthedanceflooronitunes': 1, 'wall': 20, 'invincible': 1, 'zntg2wndmj': 1, 'xoxoxxxooo': 1, 'rutinaofficial': 1, 'nbchannibal': 1, 'hannibal': 1, 'asks': 3, 'tâ': 5, 't7ldlcyc9g': 1, 'jlrw0oi9ee': 1, 'broke': 19, 'nail': 3, 'morning': 32, 'ah': 11, 'hurts': 7, 'stars': 14, '290': 1, 'reviewers': 1, 'boxset': 1, 'lindsay': 1, 'buroker': 1, '4yu5sy1cui': 1, 'kindle': 11, 'mzmxmyklxv': 1, 'ociated': 6, 'gastric': 1, 'carcinoma': 1, 'fragile': 2, 'gene': 1, 'beside': 1, 'wounded': 66, 'dialyses': 1, 'grandpa': 3, 'headed': 9, 'setzorah': 1, 'omron': 1, 'hem': 1, '712c': 1, 'pressure': 10, 'monitor': 3, 'standard': 15, 'bp': 5, 'gjbainqwn9': 1, 'jphgpl1c5x': 1, 'chambered_blood': 1, 'speakingfromexperience': 1, 'stressful': 3, 'decisionsondecisions': 1, 'horizon': 4, 'stained': 1, 'panel': 5, 'poster': 3, 'nor0603': 1, 'u5elkca4cw': 1, 'tsgklzzs0c': 1, 'crip': 1, 'doin': 1, 'monster': 7, 'sucker': 1, 'imouto': 1, 'related': 18, 'ugliest': 1, 'shoes': 8, 'tight': 1, 'excellent': 4, '_dangerousbeans': 1, 'porridge': 2, 'seriously': 14, 'phenomenal': 2, 'scotto519': 1, 'shii': 1, 'intended': 1, 'criess': 1, 'golden': 2, 'wook': 1, 'fhb99cicet': 1, 'loyalty': 2, 'sirbeezalot': 1, 'youngthug': 1, 'remind': 3, 'sosa': 1, 'belly': 5, 'homework': 1, 'medicine': 3, 'hoe': 2, 'v2etl8p9eq': 1, 'nlnyzeljbw': 1, 'mashup': 2, 'shaylen_carroll': 1, 'zb6gzjlgkl': 1, 'hastle': 1, 'drug': 5, 'tested': 4, 'drown': 52, 'document': 2, 'filling': 1, 'somebody': 12, 'gotta': 15, 'sbee': 1, 'winds': 19, 'gypsy': 1, '66yvulizbk': 1, '1860': 1, 'penny': 4, 'philly': 6, 'octagonal': 1, 'cds': 1, '1ã': 1, '15l18': 1, 'grid': 3, 'cancel': 5, '26': 14, 'rpv4mqscqa': 1, 'jrjeibugse': 1, 'surgery': 3, 'regular': 8, 'gp': 1, 'desk': 5, 'dentists': 2, 'doctors': 3, 'lobo_paranoico': 1, 'thicker': 1, 'water': 104, 'quicker': 2, 'thirsty': 2, 'roll': 5, 'rolandonabeats': 1, 'ellie': 1, 'goulding': 1, 'acesse': 1, 'nosso': 1, 'para': 1, 'ouvir': 1, 'zk69ugxmt8': 1, 'olrules': 1, 'chapter': 3, '6qx7arf4ag': 1, 'anthxvy': 1, 'runs': 17, 'sethalphaeus': 1, 'personal': 5, 'favorites': 2, 'include': 6, 'paramore': 1, 'muse': 1, 'royal': 3, '5sos': 8, 'chizu': 1, 'gender': 1, 'male': 4, 'pink': 5, 'dere': 2, 'type': 12, 'pasokon': 1, 'coypf9actd': 1, 'shed': 5, 'innocent': 6, 'sons': 4, 'daughters': 4, 'polluted': 1, 'psalms': 3, '106': 2, '38': 3, 'sin': 5, 'abortion': 3, 'pone': 1, 'cantar': 1, 'lightning': 67, 'wasnt': 2, 'everwhe': 1, 'everyday': 8, 'bloodâ': 2, 'lnpscadaxr': 1, 'looooooooooool': 1, 'jrkgyl7te5': 1, 'infected': 1, 'piercings': 1, 'zealand': 2, 'shouting': 4, 'marvellous': 2, 'campbell': 2, 'nz': 3, 'f88fclivzh': 1, 'radionz': 1, 'aggressif': 1, 'aggressive': 2, 'entered': 6, 'butterlondon': 1, 'crayons': 1, 'be_ram0s': 1, 'enter': 5, 'bbloggers': 1, 'dsb3ldfuxu': 1, 'slsandpet': 1, 'sally': 2, 'emailed': 1, 'awol': 1, 'argh': 1, 'resigninshame': 1, 'prediction': 4, 'zvgrm5pgza': 1, 'ashwilliams1': 1, 'continues': 14, 'guest': 3, 'iloveggletters': 1, 'outrageous': 1, 'listening': 10, 'jay': 4, 'ciyty0fgpr': 1, 'lauradeholanda': 1, 'forrest': 1, '83': 2, 'awful': 9, 'nightmare': 4, 'elm': 2, 'remade': 1, 'hvwkjqxxyt': 1, 'sony': 3, 'stephen': 6, 'kingâ': 1, 'towerâ': 1, 'stephenking': 1, 'thedarktower': 1, 'j9lpdrxcde': 1, 'bdisgusting': 2, 'room': 30, 'maisy': 1, 'martha': 1, 'tradcatknight': 1, 'bs': 3, 'okanowa': 1, 'mainline': 1, 'invasion': 4, 'looked': 7, 'jeremyclarkson': 1, 'ell': 2, 'grrrr': 2, 'zhenghxn': 1, 'akame': 1, 'ga': 3, 'tokyo': 4, 'ghoul': 1, 'dare': 5, 'fantosex': 1, 'amends': 2, 'tomm3h': 1, '2008': 7, 'veteran': 4, 'weekends': 2, 'mary': 10, 'newâ': 2, 'vnni3zzuz6': 1, 'tired': 12, 'vaca': 1, 'mrtophypup': 1, 'sexy': 4, 'drools': 1, 'effects': 15, 'product': 3, 'acne': 1, 'diarrhea': 2, 'ronda': 2, 'rousey': 3, 'floyd': 9, 'mayweather': 1, 'money': 35, 'elbow': 2, 'ijzcytbffo': 1, 'refereeing': 1, 'ruined': 5, 'balance': 4, 'mess': 9, 'imfc': 1, 'a3': 1, 'oils': 1, 'paints': 2, '_itsmegss_': 1, 'barking': 1, 'precious': 3, 'issit': 1, 'x5dwkelreo': 1, 'amazing': 17, 'hello': 13, 'thighs': 2, 'cleav': 1, 'expose': 1, 'cleavage': 1, 'kv5l4ppxfg': 1, 'shtballplayrsdo': 1, 'anyway': 8, 'mouth': 5, 'pree': 1, 'bigger': 34, 'calm': 12, 'nurses': 3, 'waking': 3, 'eventually': 5, 'asleep': 5, 'mariasherwood2': 1, 'johnjcampbell': 1, 'sink': 5, 'beet': 1, 'juice': 2, 'luigmhma1i': 1, 'melrises': 1, 'gayler1969': 1, 'wwwbigbaldhead': 1, 'jessienojoke': 1, 'melissaross9847': 1, 'monty': 1, 'python': 1, 'rs5': 1, 'rvczmimfvx': 1, 'friday': 18, 'supposed': 11, 'zzzz': 1, 'chxrmingprince': 1, 'jones_luna': 1, 'folding': 1, 'arms': 8, 'sitting': 14, 'chair': 3, 'reafs': 1, 'halfpeachh': 1, 'caitlincavanah': 1, 'streetâ': 1, 'remadeâ': 1, 'qaygdzi9jq': 1, 'indians': 1, 'smirking': 1, 'remorseless': 1, 'killer': 17, 'boasting': 1, 'fpjlwoxklg': 1, 'wolf': 3, 'hayden': 2, 'liam': 1, 'stiles': 1, 'jeep': 4, 'pleeease': 1, 'mtvteenwolf': 1, 's01e09': 1, 'monday': 3, 'vrpthvpymt': 1, 'bloodymonday': 1, 'tvshowtime': 1, 'nkkvknbvoz': 1, 'marlon': 2, 'williams': 5, 'elvis': 1, 'presley': 1, 'panther': 1, 'shuffle': 2, 'turns': 4, 'shopping': 1, 'l0pmmtzlwp': 1, 'mystery': 6, 'luckily': 1, 'mexicans': 1, 'gr': 9, 'sleep': 16, 'woulda': 1, 'blown': 53, 'bored': 6, 'busy': 4, 'ezralevant': 1, 'moms': 3, 'bedroom': 6, 'walls': 5, 'papcrdoll': 1, 's2g': 2, 'deactivate': 1, 'choices': 4, 'adultress': 1, 'killary': 1, 'emails': 4, 'azz': 1, 'pnhetk8a0f': 1, 'manutd': 2, 'emilymcfcheslop': 1, 'club': 9, 'pilloried': 1, 'greinke': 1, 'inning': 4, 'synreal': 1, 'agreed': 6, 'faces': 3, 'indifferent': 1, 'relentless': 3, 'opinion': 6, 'woke': 12, 'aunt': 3, 'marge': 1, 'eheks': 1, 'iverson': 1, 'malone': 1, 'hasn': 15, 'troylercraft': 1, 'spammers': 1, 'supposedly': 1, 'representing': 1, 'values': 4, 'cgi': 1, 'lmfaoooo': 2, 'kaylag_baby1': 1, 'jaykpurdy': 1, 'shush': 1, 'size': 12, 'machinegunkelly': 1, 'underground': 1, 'license': 3, 'absolutely': 22, '0nvdzxq2hf': 1, 'thisdayinhistory': 1, '1862': 1, 'confederate': 2, 'crew': 8, 'iw7elszifz': 1, 'uhc': 1, 'creeper': 1, 'flying': 7, 'salty': 2, 'libraryeliza': 1, 'taylorswift13': 2, 'bump': 2, 'approval': 2, 'kolmzbz1pz': 1, 'musicadvisory': 1, 'truckload': 1, 'soldiers': 16, 'panics': 1, 'loses': 3, 'mind': 18, 'wjntaokdhf': 1, 'kash': 1, 'foundation': 1, 'magazine': 1, 'todd': 4, 'blake': 4, '2fenu1syu6': 1, 'kaylak369': 1, 'ee': 3, 'shop': 10, 'glad': 17, 'pgb2bmcfx8': 1, '1buf0xm53d': 1, 'weâ': 3, 'âªre': 6, 'extension': 3, 'âªve': 14, '0yzgw9zbhr': 1, 'rhtaqjvqn2': 1, 'theboyofmasks': 1, 'manor': 1, 'anyways': 2, 'buddy': 3, 'arabia': 10, 'bomber': 95, 'rkvu3xjazh': 1, 'loner': 1, 'diaries': 1, 'patterns': 2, 'sand': 4, 'photos': 33, 'twos': 1, 'choked': 1, 'ekfaz6wvbz': 1, 'dodgersnation': 1, 'winnable': 1, 'lock': 4, 'manhood': 2, 'accept': 3, 'youâ': 16, 'zn17ic99hb': 1, 'feâ': 1, 'u42luy3sls': 1, 'bsg': 1, 'sufficiently': 1, 'hyped': 1, 'delayed': 3, 'watching': 36, 'utterly': 5, 'vanessa': 3, 'ladies': 26, 'gentlemen': 1, 'bb17': 7, 'guaranteed': 2, 'bitten': 1, 'mutant': 2, 'mosquito': 2, 'ankle': 7, 'tozlet': 1, 'seat': 9, 'butt': 4, 'leprosy': 1, 'jerkface': 1, 'syndrome': 2, 'lateral': 1, 'lisp': 1, 'toilet': 7, 'rickets': 1, 'delicious': 2, 'flavor': 1, 'blowvape': 1, 'strawberry': 1, 'cherry': 4, 'pop': 11, '15â': 1, 'it8rditjfv': 1, 'kalinandmyles': 1, 'kalinwhite': 1, 'hackers': 2, 'givebackkalinwhiteaccount': 1, 'singles': 4, 'lastwitchhunter': 1, 'feed': 11, 'luke_winkie': 1, 'directing': 1, 'grab': 4, 'nicki': 4, 'minaj': 3, 'recognition': 1, 'princessduck': 1, '6th': 5, 'james': 6, 'malikchaimaa': 1, 'whilst': 1, 'orbette': 1, 'amirite': 3, 'dogâ': 1, 'kennel': 1, 'yorkshire': 1, 'coldwood': 1, 'hung': 2, 'uqwlnbjeye': 1, 'mtowvqksxc': 1, 'espn2': 1, 'hopefulbatgirl': 1, 'beaten': 1, 'ra': 1, 'al': 12, 'ghul': 1, 'escaped': 2, 'thebriankrause': 1, 'leos': 1, 'metaphorically': 1, 'piperwearsthepants': 1, 'charmed': 1, 'bmrow': 1, 'mortem': 1, 'anarchic_teapot': 1, 'boironusa': 1, 'zeno001': 1, 'glononium': 1, '6c': 1, 'helps': 8, 'bashing': 1, 'bottle': 6, 'nitroglycerin': 1, 'shoulder': 43, 'tote': 20, 'handbag': 20, 'cross': 72, 'faux': 17, 'fashion': 22, 'purse': 17, 'y87gi3brlv': 1, '1zbhvdcxzs': 1, 'blaawhysct': 1, 'ddr0zjxvqn': 1, 'republicans': 9, 'questergirl': 1, 'ditto': 1, 'drank': 1, 'handbags': 12, 'mulberry': 1, 'antony': 1, 'messenger': 7, 'oak': 5, 'soft': 3, 'buffalo': 6, '279': 1, '00end': 1, 'ftm4rkl8mn': 1, 'vuitton': 9, 'monogram': 8, 'sophie': 5, 'limited': 14, 'edition': 8, 'jrxgolnpqw': 1, 'lin16kvzbn': 1, 'gggfvo5pb4': 1, 'nlfr8t3xqm': 1, 'hobo': 13, 'womens': 23, 'readâ': 11, 'rpn6pxlpib': 1, 'l6aylvvdz0': 1, 'washed': 6, 'camouflage': 3, 'outdoor': 5, 'purple': 6, 'bxvfqqsihc': 1, 'cultsierre': 1, 'muf5czqjrl': 1, 'sslt8esmhy': 1, 'ameribag': 1, 'healthy': 3, 'backpack': 3, 'khaki': 1, 'tan': 2, 'beige': 1, 'r4k7tylofj': 1, 'bath': 8, 'cosmetic': 1, 'periwinkle': 1, 'piping': 1, 'corners': 3, 'a9bnlse6qb': 1, '3pcntczoxv': 1, 'n0akjm1e4b': 1, 'zippers': 2, 'camo': 2, 'wallet': 2, 'wallets': 1, 'cq6xyhr3lv': 1, 'thin': 6, 'hip': 6, 'lvkoemsq8m': 1, 'cjirhhh4vj': 1, 'uoozxaus26': 2, '6mgbizjfgd': 1, 'enâ': 2, 'tr_jdavis': 1, 'cage': 3, 'find': 35, 'dealing': 3, '4fxfllrien': 1, 'i12nlsr8fk': 1, 'yc2fyxikba': 1, 'pv8wravnzq': 1, '3682': 1, 'nikon': 2, 'd50': 2, 'mp': 35, 'digital': 7, 'slr': 2, 'batteries': 4, 'charger': 9, 'tet9q0kxvl': 1, '200': 8, '00': 51, 'h3xgoxtffi': 1, 'saumur': 2, '419': 2, 'hcdiwe5flc': 1, 'zlvebeoavg': 1, '8azzjkbxnm': 1, 'xnghnetdvv': 1, 'longaberger': 1, 'floral': 1, 'strap': 1, 'fb8snrg4hu': 1, 'zujwuiomb3': 6, 'gbctmhx7pw': 1, 'dracula': 1, 'vampire': 1, 'small': 21, 'xphte7sb4x': 1, '3d2h2woqwa': 1, 'diesel': 2, 'willyt': 1, 'printed': 3, 'ksl': 1, '126': 1, '8jymd9ypsj': 1, '57pkmmcadg': 1, 'ã¼': 1, 'pw78nbljky': 1, 'i4aogcsoy5': 1, 'djiwg9pxv4': 1, 'satchel': 8, 'ncjpgf6znv': 1, 'gerjau74ey': 1, 'iap4lwvqsw': 1, 'crqvl68aox': 1, 'oflvmmbfmk': 1, 'zipped': 1, 'ipxpi3me16': 1, 'authentic': 2, 'pochette': 1, 'bosphore': 1, 'bagâ': 1, 'rv0fk7q4y5': 1, '7294': 1, 'sl7phqsgkv': 1, 't4qh2om8op': 1, 'ykltfj1fnc': 1, 'hpd3snm6oy': 1, 'coach': 7, '9973': 1, 'bids': 1, 'gsmddmu9pu': 1, 'â¼': 1, 'sdvnakzek4': 1, 'suze': 1, 'beauty': 6, 'giveaway': 6, 'contents': 1, 'occitane': 1, 'lavera': 1, 'hejjvvrsty': 1, 'fit': 8, 'ipad': 4, 'tablet': 14, 'jp': 3, 'rcburzsb2b': 1, 'ehsfklgri3': 1, 'vjgr6liaxh': 1, '55jr66plov': 1, 'cjqq6cgohg': 1, 'nuu': 1, 'fwt': 1, 'ur7fexszg4': 1, 'wb8awoblcl': 1, 'parenthood': 13, 'employee': 4, 'laughs': 3, 'aborted': 1, 'baby': 49, 'parts': 11, 'mixed': 3, 'together': 18, 'aidgzpqfll': 1, 'edhjujiuob': 1, 'rhee1975': 1, 'deliciousvomit': 1, 'bonesymcbones': 1, 'beartooth': 1, 'knh4hlfuma': 1, 'tone': 4, 'smartphone': 1, 'shipped': 1, 'dian': 1, 'deals': 10, '91lazl2crv': 1, 'vl26hsrq4e': 1, 'ryl0y88fkm': 1, 'matt_bez': 1, 'bagging': 48, 'bangin': 1, 'rose': 7, 'meekmill': 6, 'consulted': 1, 'kendricklamar': 1, 'drake': 30, 'ohmyloz': 1, 'rondarousey': 3, 'smoking': 9, 'meek': 26, 'yeahcarey': 1, 'bornverified': 1, 'killing': 20, 'point': 19, 'ridiculing': 1, 'dudes': 4, 'skinny': 6, 'getin': 1, 'traintuesday': 1, 'lesmills': 1, 'rec': 3, 'k': 6, 'league': 8, 'trollingtilmeekdiss': 1, 'twice': 11, 'amen': 4, 'dpbz1pyvff': 1, 'cameron13131313': 1, 'otooledalton': 1, 'averywelch23': 1, 'otoole1055': 1, 'stick': 5, 'sight': 5, 'idgaf': 3, 'tough': 7, 'acting': 6, 'broseidonrex': 1, 'dapurplesharpie': 1, 'skimmed': 1, 'missed': 11, 'atm': 4, 'dodxi41y1cã': 1, 'lyrically': 1, 'hlmyaanrc9': 1, 'bomairinge': 1, 'elutranscendent': 1, 'straight': 14, 'afssgpnzwi': 1, 'halo': 1, 'interview': 11, 'pamanian': 1, 'devil': 4, 'fools': 4, 'cpk7300rqg': 1, 'friendships': 1, 'mics': 2, 'mopheme': 1, 'bigstar': 1, 'johnson': 4, 'vuzuhustle': 1, '4got': 1, 'score': 4, '81g18wsauk': 1, 'editaxohaze': 1, 'cuffed': 2, 'shouldn': 11, 'jersey': 3, 'wolfgangjoc': 1, 'pays': 6, 'homage': 1, 'biggie': 2, 'smalls': 1, 'hypnotize': 1, 'x0jknoxjha': 1, 'ovofest': 2, 'ovo': 2, 'ziphimup': 1, 'amaramin3': 1, 'definitely': 9, 'capable': 2, 'track': 11, 'wwe': 3, '2k15': 3, 'mycareer': 1, 'ep18': 1, 'tyrone': 1, 'mr5bi4kd82': 1, 'mill': 10, 'sensitive': 1, 'ghostwriter': 2, '2jhtlwuey0': 1, 'flow': 2, 'mark': 9, 'patient': 7, 'zvch4': 1, 'local': 21, 'jokal': 1, 'photographers': 1, 'hslenz4kgu': 1, 'meanwhile': 3, 'hush': 2, 'mzgraciebaby': 1, 'record': 21, 'jumpin': 1, 'window': 10, 'officialrealrap': 1, 'file': 2, 'bagged': 1, 'd_lac': 1, 'kept': 9, 'hop': 6, 'beef': 2, 'paying': 2, 'drizzy': 1, 'sandrabland': 1, 'spit': 2, 'lay': 3, '6craekc9wb': 1, 'spitters': 1, 'xtoiogtk2w': 1, 'im2ad': 1, 'macdaddy_leo': 1, 'caption': 1, 'freshman': 2, 'k8ughv2aifâ': 1, 'stacey': 4, 'aubrey': 2, 'groceries': 1, 'aching': 1, 'eish': 2, 'watered': 1, 'slikrickdarula': 1, 'esm_campy': 1, 'werewolf': 1, 'idiota': 1, 'minutes': 19, 'jengriffinfnc': 1, 'dangerous': 14, 'arrival': 1, 'micom': 2, 'contrast': 2, 'color': 4, 'bowknot': 1, 'womengirls': 1, 'zip': 1, 'po': 3, 'sqmtkkjimj': 1, '1993': 1, 'e1tdatsucc': 1, 'convertible': 1, '238': 1, 'bestseller': 3, '0llwuqn8vg': 1, 'pvc': 1, 'cartoon': 2, '7l9qazljvg': 1, 'q0hsyfrwec': 1, 'buckle': 5, 'casual': 3, 'stylish': 4, 'pockets': 4, 'pyee94nure': 1, 'trunk': 2, 'fossil': 3, 'dawson': 1, 'esâ': 1, '98': 2, 'hhhvkxfaih': 1, 'boomerangtime': 1, 'rskarim1': 1, 'sopameer': 1, 'watta3': 1, 'appears': 29, 'arriving': 4, 'ridah': 1, 'tremont': 1, 'charlotte': 3, 'fpkiqbus9r': 1, 'lenngonewin': 1, 'defenseless': 1, 'thugs': 2, 'cops': 14, 'complexmag': 2, 'asking': 10, 'pusha_t': 1, '0mcxc68gzd': 1, 'hamosh84': 1, 'yemen': 7, 'looâ': 1, 'ljlkwgxgjy': 1, 'chips': 1, 'variety': 5, 'fruit': 9, 'snacks': 7, 'redbull': 1, 'snack': 1, 'fairfax': 3, 'firefighter': 12, 'placed': 3, 'admin': 3, 'probe': 5, 'putting': 8, 'dept': 3, 'mwzqcjhzpb': 1, 'c7xbjrhnbi': 1, '1dmolajv1z': 1, 'rchs': 1, 'football': 15, 'players': 8, 'coffins': 1, 'locker': 3, 'rooms': 2, 'tommorow': 1, 'flower': 4, 'chain': 5, 'rjzw6c8asx': 1, 'wtdiav11ua': 1, 'messengers': 1, 'epiqdbxvzo': 1, 'bhfoylqljp': 1, 'deeeznvtzzz': 1, 'institute': 3, 'peaceâ': 1, 'chairman': 2, 'russian': 29, 'owbujez3q4': 1, 'va': 8, 'administrative': 1, 'calls': 15, 'mt029qj4ig': 1, 'scottwalker': 3, 'middle': 21, 'typical': 2, 'baskgod': 1, 'sized': 6, 'garbage': 6, 'moving2k15': 1, 'expertwhiner': 1, 'shopâ': 1, 'cutekitten': 1, 'catsofinstagram': 1, 'summerinsweden': 1, 'katt': 1, 'katterpã': 1, 'dumle': 1, 'dagensâ': 1, 'p4zfxdnbch': 1, 'gyzpisbi1u': 1, 'msdntkwyaf': 1, 'lattice': 1, 'studded': 1, 'colour': 20, 'qj2kbltcxz': 1, 'xqpn2zykct': 1, 'takin': 1, 'pics': 11, 'jqso4fyzp4': 1, 'f4xnplio5s': 1, 'investigating': 19, 'khalil': 1, 'abdul': 1, 'rasheed': 1, 'shld': 2, 'vpvskciyro': 1, 'congress': 8, 'parties': 2, 'drinking': 11, 'limpar33': 1, 'sweeping': 1, 'legs': 5, 'mistakes': 2, 'vuca': 1, 'armed': 7, 'raghu': 1, 'vjfslizmii': 1, 'pearls': 1, 'solid': 6, 'hanbags': 1, 'or0jzb9cfh': 1, '6byul0id4l': 1, 'heal': 7, 'âªll': 3, 'smile': 7, 'wukcalnqms': 1, 'geometric': 2, 'pattern': 4, 'totes': 2, 'qvsp6b2qsu': 1, '0s6ydfrwdq': 1, 'gasparcâ': 1, 'designer': 1, 'qualit': 1, 'zgjgghdurf': 1, 'l1gfxgozvx': 1, 'tkjybjjskl': 1, 'asymbina': 1, 'tithenai': 1, 'hampered': 1, 'liking': 1, 'ella': 1, 'vickers': 1, 'washable': 1, 'ysfyeahpvg': 1, 'zicac': 1, 'briefcase': 1, 'a3xv6ff8dn': 1, 'bagsâ': 1, 'washington': 24, 'jaxhzjccd4': 1, 'canvas': 2, 'waist': 3, 'packs': 5, 'sports': 10, 'zipper': 1, 'coffee': 13, 'scxfc5wi9t': 1, 'gx1otoh8sj': 1, 'vbzqwznxh7': 1, 'nxihhep1ea': 1, 'ed': 5, 'screenshot': 2, 'claiming': 2, '70th': 28, 'anniversary': 50, 'positive': 4, '2liwkjybe9': 1, 'norge2040': 1, 'beforeitsnews': 5, 'derivatives': 1, 'quadrillion': 1, 'ghmmuj7gbe': 1, 'vâ': 1, 'u9lvvlzhye': 1, 'lyj57pq3yx': 1, 'the_af': 1, 'comments': 5, 'atom': 3, 'hctxghr2yf': 1, 'firework': 1, 'lr4btvueom': 1, 'prepares': 3, 'dropped': 13, 'ojhcgzxlst': 1, 'guardian': 12, 'legacy': 13, 'editorial': 2, 'longs': 3, 'cas': 2, 'rhxmghspd7': 1, 'dropping': 4, 'inrgs4z0ac': 1, 'namjoon': 1, 'fantastic': 5, 'bye': 2, 'halsey': 1, 'troye': 1, 'collab': 2, 'joanna_bomb': 1, 'eventchase': 1, 'mtv': 1, 'mtvnews': 1, 'atw': 1, 'platinum': 2, 'weneeda5hvmaperformance': 1, 'aaronthefm': 1, 'knows': 10, 'peytonlaynec': 1, 'ohhh': 1, 'final': 14, 'bestfriends': 2, 'cranboonitz': 1, 'threats': 5, 'hereticofethics': 1, 'dylanmcclure55': 1, 'zumiez': 1, 'zw5jp46v5kâ': 1, 'location': 4, 'documents': 9, 'pointing': 2, 'iucpcsfbmt': 1, 'jen': 1, 'czqr3ci9xw': 1, 'daniglasgow45': 1, 'cfouwpbrcg': 1, 'ajenews': 1, '1945': 13, 'worldâ': 1, '6q5cs9mcdw': 1, '7ogfoqr0mg': 1, 'smallforestelf': 1, 'umm': 1, 'gunman': 13, 'carrying': 15, 'joshrogin': 1, 'slwsew379': 1, 'jimsciutto': 1, 'natseccnn': 1, 'kerry': 3, 'barry': 3, 'talks': 8, 'jonathanshainin': 1, 'raises': 1, 'sorts': 1, 'censors': 1, 'supressed': 1, 'accounts': 6, 'suffering': 8, 'nagasaki': 24, 'kzbeas50ke': 1, 'yqgpasx3mg': 1, 'danielsahyounie': 1, 'm9mowcmvnj': 1, '3u6mdlk7di': 1, 'enolagay': 1, 'board': 17, 'disarmed': 1, 'arm': 5, 'jb25fhke6q': 1, 'hometown': 2, 'xuwn4mcgyp': 1, 'safemode': 1, 'dopeitsval': 1, 'ahh': 3, 'mail': 7, 'praiz8': 1, 'known': 7, 'idea': 18, 'fragrance': 1, 'concept': 4, 'enemies': 3, 'bathe': 1, 'carajdeievingnc': 1, 'impact': 13, 'ratio': 2, 'kyle': 5, 'js': 1, 'johncusack': 1, '1946': 1, 'bojcx32qcz': 1, 'hansel': 1, 'gretel': 1, 'witch': 2, 'yeh': 1, 'kno': 2, 'kyodonews': 1, 'update1': 1, 'anniv': 1, 'eroded': 1, 'pacifism': 1, 'vpgu8z1lhb': 1, 'followme': 3, 'swellyjetevo': 1, 'disneyland': 1, 'flat': 12, 'flavafraz21': 1, 'whatcanthedo': 1, 'thursday': 27, '6sy44kyysd': 1, 'mattielbreaux': 1, 'appropriate': 1, 'jamaicans': 1, 'wielding': 2, 'pepper': 5, 'oops': 7, 'h': 16, 'okinawan': 1, 'coast': 17, '1965': 3, 'yvsjyzwxjr': 1, 'ct2jutvytg': 1, 'mf': 3, 'vocal': 2, 'lyrical': 1, 'vocalist': 1, 'themale_madonna': 1, 'melanie': 1, 'fiona': 1, 'slept': 2, 'hutch': 2, 'aqmpxzo3v1': 1, 'shhhh': 1, 'vsfs7zr1gi': 1, 'rocking': 1, 'joeybats19': 1, 'bombed': 51, 'rogers': 1, 'centre': 23, 'offs': 1, 'bluejays': 6, 'bell': 7, 'moseby': 1, 'barfield': 1, 'stankyboy88': 1, 'shinichi': 1, 'kudo': 1, 'moriya': 1, 'teiji': 1, 'famous': 5, 'architect': 4, 'skyscraper': 1, 'sweetiebirks': 1, 'mirrorlady2': 1, 'slatukip': 1, 'countries': 6, 'invaded': 2, 'aside': 1, 'libya': 24, 'africa': 13, 'princess': 2, 'i4pthsuyq9': 1, 'uqnj6nk9y3': 1, 'qlnnmxzfqk': 1, 'yrs': 10, 'greatest': 11, 'acts': 6, '2qjl5mfkzv': 1, '2racaivffq': 1, 'arts': 5, 'myfriendmina': 1, 'nowish': 1, 'justified': 4, 'nomorehiroshimas': 1, 'vjday70': 1, 'fepow': 1, 'syadsa6qes': 1, 'islamic': 25, 'syria': 10, 'targe': 1, 'm0dap5xlwo': 1, 'kanye': 3, 'elephantintheroom': 1, 'steamroller': 1, 'ped': 6, 'squashed': 1, 'existence': 5, 'majority': 6, 'jet': 7, 'main': 11, 'dramatically': 1, 'plummeted': 3, 'therein': 1, '200000': 1, 'repeat': 3, 'turkish': 15, 'jets': 2, 'village': 27, 'zergele': 1, 'qendil': 1, 'nicklee8': 1, 'london3': 1, 'loo': 1, 'yr': 8, 'artumhmbhh': 1, '_bomb': 1, 'named': 9, 'carried': 5, 'enola': 1, 'qpr1980': 1, 'rorington95': 1, 'nowt': 1, 'fergie': 1, 'drinkers': 1, 'within': 10, 'wenger': 1, 'third': 8, 'generation': 7, 'exhibition': 2, 'gvaipmlsl0': 1, 'oooureli': 1, 'abu_baraa1': 2, 'tolerance': 1, 'sharing': 3, 'democracy': 7, 'iraqis': 2, 'mutilated': 1, 'brodyfrieling': 1, 'hanna_brooksie': 1, 'shadowflame': 1, 'wraith': 1, 'ldbao0rsuz': 1, 'whitehouse': 2, 'cos': 5, 'germany': 7, 'poland': 3, 'pearl': 1, 'harbor': 4, 'pre': 8, 'emptive': 1, 'i2aag6lp6w': 1, 'cheetosarabia': 1, 'crudes': 1, 'cheetos': 1, 'allenpeacock': 1, 'clear': 8, 'agrees': 5, 'abandons': 1, 'wing': 6, 'christopherszen': 1, 'hunterlove1995': 1, 'tblack': 1, 'raniakhalek': 1, 'uncle': 2, 'hopefully': 9, 'afghanistan': 10, 'kurtschlichter': 6, 'falphil': 1, 'compion': 2, 'specific': 3, 'feminist': 5, 'traditional': 7, 'sexist': 1, 'wmnonhxeir': 1, 'forever': 18, 'bannukes': 1, 'recover': 10, 'according': 14, 'c5ggszugw1': 1, '2pimg9bice': 1, 'puppy': 3, 'demon': 3, 'lpryzstk4u': 1, 'r_lauren83199': 1, 'xojademarie124': 1, 'batista': 1, 'lauren': 3, 'vagersedolla': 1, 'visits': 2, 'villages': 6, 'recently': 5, 'finds': 5, 'fed': 5, 'pkk': 47, 'uuweikd7sp': 1, 'antpips67': 1, 'johnejefferson': 2, 'obviously': 2, 'davej798': 1, 'somaliaeritrea': 1, 'uk': 24, 'asylum': 3, 'applicants': 1, 'redskins': 2, 'wr': 2, 'teamstream': 2, 'gbcvvevdty': 1, 'lax': 1, 'ends': 11, 'fx7uzzxte4': 1, 'benedict': 1, 'cumberbatch': 1, 'sitctips': 1, 'vlog': 1, '120000': 1, 'fcixk23xqh': 1, 'africansinsf': 1, 'beyondgps': 1, 'etdgpiwxti': 1, 'notice': 6, 'background': 4, 'floatin': 1, 'ja0wgp8spe': 1, 'bolt': 4, 'states': 16, 'ri': 2, 'worse': 19, 'hurricane': 58, '3others': 2, 'hardest': 3, 'yard': 5, '20000k': 2, 'wasp': 1, 'dive': 3, '4uhq9jkcvq': 1, 'campaigns': 1, 'jsgwny6kdj': 1, 'daesh': 3, 'voltaire': 1, 'network': 4, 'zyssobxntc': 1, 'cryptic': 3, 'guided': 3, 'mission': 8, 'fce0k1ihti': 1, 'scheduleâ': 2, 'nhk': 1, 'qgwoynjly8': 1, 'visited': 3, 'humbled': 1, 'november': 2, 'acc1z5q9zw': 1, 'moscow_ghost': 1, 'sayed_ridha': 1, 'amin_akh': 1, 'congratulations': 2, 'capturing': 2, 'besieged': 1, 'indiscriminate': 2, 'moral': 3, 'banthebomb': 1, '6g49ywwsqj': 1, 'nss5l64cvr': 1, 'ruqpvtdbzt': 1, 'asia': 7, 'e5demdsceh': 1, '0cvxs2e1er': 1, 'setting4success': 1, 'bells': 7, 'toll': 10, 'smallbusiness': 1, 'entrepreneur': 3, '7ad0l7cgee': 1, 'hhzql9tznp': 1, 'nbcnews': 3, 'pearlharbor': 1, '39iabcc5pk': 1, 'marked': 6, '1mgvd4x5oe': 1, '93vqkdfgnr': 1, 'cqlm9jojop': 1, '3ev07ppapn': 1, 'juwvomhgpd': 1, 'jzgxwrgfqg': 1, 'rinkydnk2': 1, 'zaibatsunews': 1, 'neoprogressive1': 1, 'push2left': 1, 'ecology': 1, 'rts': 1, 'afghetc': 1, 'humanitarian': 1, 'hindustan': 1, 'cc9z5asvzh': 1, 'ymkn1iwpvf': 1, 'mmmj8bo9y3': 1, 'associated': 6, 'press': 23, 'nyt': 9, 'kkulqgb9e3': 1, 'snapharmony': 2, 'ypvvqz8jzt': 1, 'a2ss7pr4gw': 1, 'sanitised': 2, 'narrative': 3, 'hiroshima70': 3, 'zsyj6sqycn': 1, 'qreinwg0gs': 1, 'gkpanz7vg0': 1, 'lgrocbxpqo': 1, 'kinder': 1, 'gvm70u2bpm': 1, 'tolled': 2, 'marke': 1, 'iqairpdihg': 1, 'bill': 5, 'clinton': 7, 'nato': 4, 'mlzxmgvuih': 1, '70â': 1, 'nbzikcjphp': 1, 'generalnews': 2, 'm9o08gurt4': 1, 'marshall': 3, 'plan': 71, 'dambisa': 2, 'moyo': 2, 'prosyn': 3, 'oped': 2, 'gnpstnvi5g': 1, 'po_st': 4, 'ameenshaikh3': 2, 'logic': 5, 'bridge': 56, 'sanjaynirupam': 1, 'sureshprabhu': 1, 'unfolded': 3, 'trent': 18, 'dq3ddgvgbf': 1, 'cricket': 5, 'hapless': 1, '60': 35, 'o2cfwdzzld': 1, 'sioux': 1, 'cement': 2, 'siouxland': 1, 'siouxlan': 1, 'sztgmbkohg': 1, 'australiaâ': 4, 'england': 13, 'bundled': 3, '985dwwpdet': 1, 'central': 21, 'khf0ih05a9': 1, 'syndicate': 1, 'lz8xmyi75x': 1, 'btwn': 3, 'kansas': 1, 'hyatt': 1, 'aia': 1, 'cote': 1, 'ths9iqswp3': 1, 'huffpostarts': 1, 'cranes': 14, 'holding': 22, 'nearby': 39, 'homes': 80, 'acirpv8hn4': 1, 'akinwunmiambode': 1, 'urgentthere': 2, 'storey': 2, 'oworoshoki': 2, 'mainland': 3, 'likely': 31, 'citizen': 4, 'minneapolis': 2, 'gududaz4fx': 1, 'reminds': 6, 'caribbean': 2, '90s': 1, 'kosher': 2, 'injures': 4, 'txiestox5n': 1, 'jewishpress': 1, 'l5ulcx4mom': 1, 'natural': 67, 'calamity': 5, 'mpp': 1, 'lambasts': 1, 'kanglaonline': 1, 'jp9xyla3c5': 1, 'oqpsvrgbjc': 1, 'icymi': 3, 'reacted': 2, 'gl6eejyjky': 1, 'wqtdnp3w5a': 1, 'warne': 5, 'shocked': 6, 'epic': 9, 'johannesburg': 3, 'ani': 2, 'legendary': 4, 'australian': 9, 'lwwojxttiv': 2, 'umanaahwmi': 1, 'bloopandablast': 1, 'parade': 4, 'fox': 12, 'latino': 1, 'l0unafly0y': 1, '5t69ev0xti': 1, 'nyp8oq2z9t': 1, 'traintragedy': 1, 'distance': 7, 'jthusynjah': 1, 'mqm46h6g8b': 1, 'journalism': 3, 'bxv3vlmbbp': 1, 'ibmqvwrvyz': 1, 'berggrueninst': 1, 'berggruen': 1, 'dambisamoyo': 1, 'problems': 13, 'infrastructure': 2, 't96o158yxv': 1, 'blowers': 1, 'tuffers': 1, 'aussie': 5, 'batting': 4, 'bbctms': 1, 'engvaus': 2, 'jbjrg3ep1q': 1, 'gskjqwyi2d': 1, 'gadgets': 5, 'uziwgzryny': 1, 'slingnews': 1, '6fynermusg': 1, 'followlasg': 1, 'fourth': 3, 'watjhzula8': 1, 'lsqe7nu6kl': 1, 'q5q1x5vcqk': 1, 't5trhjuau0': 1, 'shane': 3, 'ricky': 2, 'ponting': 3, 'b5zpfw7vo0': 1, 'ik7mgidvbm': 1, 'af1yzus8ln': 1, 'killsã': 1, 'i2c00fcowb': 1, 'jaagcfartw': 1, 'scda8evwr6': 1, 'restoring': 1, 'alphen': 1, 'aan': 1, 'den': 1, 'rijn': 1, 'buildings': 149, 'rescuers': 55, 'uqeteeltvu': 1, 'grea': 1, 'c41iumknis': 1, 'leicester_merc': 1, 'hqewmreyso': 1, 'y4y8fcljed': 1, '9asc1hhfnj': 1, 'tuesday': 7, 'metropol': 1, 'sigezlynj9': 1, 'upgrade': 1, 'ngehhg9yga': 1, 'situation': 11, 'sustainability': 2, 'l5g2zj3kgg': 1, 'sureshpprabhu': 1, 'lying': 5, 'sonofliberty357': 1, 'illuminated': 1, 'brightly': 1, 'gemini': 1, 'mmmmmm': 2, 'oooooohhhh': 2, 'oooh': 2, 'ooh': 4, 'dougmartin17': 1, 'deserves': 4, 'themagickidraps': 2, 'upset': 10, 'executing': 2, 'etc': 20, 'kou': 2, 'cash': 4, 'register': 6, '_minimehh': 2, 'cjoyner': 2, 'overlooking': 2, 'blacklivesmatter': 4, 'fewmoretweets': 2, 'lives': 53, 'matter': 15, 'stealing': 11, 'neighbors': 4, 'protest': 8, 'teenagers': 4, 'selfies': 7, 'boxer': 4, 'outta': 3, 'whatevs': 1, 'ctvkathyle': 1, 'mentally': 4, 'preparing': 2, 'forestservice': 2, 'dhsscitech': 2, 'buildingsâ': 2, 'tech': 14, 'kybqcsvrza': 2, 'ih49kymsmp': 2, 'threatening': 10, '7000': 2, '9newsmornings': 2, 'folks': 8, 'doesnâ': 3, 'workâ': 1, '_onlyâ': 1, '_it': 1, 'asap': 7, 'prevent': 13, 'uvq41i3kx2': 1, 'originally': 2, 'created': 10, 'messi': 2, 'tattoos': 1, 'ronaldo': 4, 'skip': 1, 'basic': 3, 'maintenance': 9, '1acd4900c1424d1': 1, 'rioting': 49, 'looting': 6, 'chistate33': 1, 'crimes': 5, 'looney': 2, 'libs': 2, 'vandalzing': 1, 'joshcorman': 1, 'infosec': 3, 'often': 7, 'rules': 21, '1â': 1, 'donâ': 23, '2â': 1, 'jump': 4, 'perfectly': 3, 'airplanes': 1, '3â': 1, 'awaken': 1, 'giants': 5, 'dreams': 7, 'q5fzylbvtk': 1, 'speechgirlam': 1, 'par': 1, 'caring': 2, 'sick': 18, 'helping': 15, 'rescuing': 2, 'schools': 7, 'western': 17, 'strikes': 9, 'lit': 4, 'travdave': 1, 'kornbread_icu': 1, 'especially': 10, 'tear': 3, 'saves': 6, 'pledge': 4, 'allegiance': 2, 'doctorfluxx': 1, 'stefanejones': 1, 'spinnellii': 1, 'themermacorn': 1, 'riot': 50, 'embarring': 1, 'ruining': 2, 'losing': 7, 'disgusting': 5, 'bradford': 1, 'weep': 1, 'leeds': 2, 'olnfzb86zb': 1, 'epcotexplorer': 1, 'jealous': 2, 'thousand': 5, 'ransacked': 1, 'awesomeeeeeeee': 1, 'zourryart': 1, 'sinking': 55, 'objects': 2, 'chases': 3, 'weak': 5, 'winston': 5, 'outrage': 21, 'phixznv1yn': 2, '8sp8xlbbdr': 1, 'antioch': 14, 'pinesâ': 1, 'gqgf2ygpx2': 1, 'denisleary': 2, 'rush': 5, 'grateful': 7, 'trueheroes': 2, 'saving': 11, 'soaking': 2, 'tonne': 1, 'alcohol': 5, 'mat': 1, 'gbbo': 23, 'ppfa': 1, 'stores': 1, 'witness': 2, 'explode': 53, 'afternoon': 11, 'cgmjlseylo': 1, 'mikecroninwmur': 1, 'xela': 1, 'struggle': 5, 'equipment': 10, 'dcfd': 1, 'chr3lyc': 1, 'iaff36': 1, 'wrb7xd8w5y': 1, 'croydon': 1, 'riots': 7, 'crowds': 1, 'reeves': 1, 'corner': 3, 'croydonization': 1, 'hazard': 56, 'non': 15, 'cladding': 4, 'btpqdehl3p': 1, 'www': 6, 'cbplawyers': 2, 'greenbuildermag': 1, 'nfpa': 1, 'webinar': 2, 'mitigation': 4, '2pm': 5, 'et': 2, 'xmsvohkccp': 1, 'firewise': 1, 'michele_nfpa': 1, '4i0kz2akly': 1, 'burns': 10, 'blows': 6, '5bgcw3ezb5': 1, 'destroys': 12, 'tqh5amoknd': 1, 'multiple': 13, 'downtown': 21, 'hinton': 5, 'p6kdh0p0sp': 1, 'waetkgsza9': 1, 'jane': 1, 'kelsey': 1, '30â': 2, '30pm': 9, 'wgton': 1, 'tpp': 1, 'tradeinservicesagreement': 1, 'failure': 62, 'itâ': 14, 'alejandro': 1, 'jodorowsky': 1, 'bymvemw4xf': 1, 'thestrain': 1, 'ton': 3, '160': 2, 'ross': 22, 'auburn': 2, 'trucks': 5, 'ahvymsqhqc': 1, 'shooter': 5, 'blainescronuts': 1, 'thats': 8, 'apartments': 5, 'firetrucks': 1, 'booty': 1, 'testimony': 3, 'detectors': 3, 'shevlin': 1, 'hixon': 1, 'z6ee1jvhni': 1, 'gansey': 1, 'busting': 3, 'brick': 2, 'seven': 11, '8nn': 2, 'pevtsf7cyt': 1, 'architecture': 2, 'routes': 1, 'newyorkâ': 1, 'fw1ptaelgv': 1, 'tweetlikeitsseptember11th2001': 2, 'dam': 4, 'estate': 4, 'langata': 1, '22pm': 2, 'evacuating': 2, 'confirmation': 2, 'dnr': 1, 'res': 2, 'shelled': 1, 'gorlovka': 1, 'civilian': 15, 'casualties': 49, 'jan': 6, '164': 1, 'incl': 2, '501': 2, 'gilsimmons': 1, 'lightening': 5, 'struck': 12, 'units': 12, 'development': 2, 'groton': 1, 'ct': 2, 'recent': 12, 'taiz': 1, 'houthi': 1, 'saleh': 1, 'shelling': 1, 'castle': 4, 'tahreer': 1, 'qsli2iviog': 1, 'shootings': 1, 'explosions': 2, 'grenades': 2, 'thrown': 2, 'vehicles': 8, 'baffles': 1, 'sweden': 3, 'tisa': 1, 'niceville': 1, 'tristapnwfdn': 1, 'acl1babacr': 1, 'prohibits': 1, 'grills': 2, 'decks': 1, 'condos': 2, 'ke1zs6naml': 1, 'insurance': 26, 'aust': 2, 'wfseaobato': 1, 'wmur9': 3, 'wmur': 1, 'bceugsoi2r': 1, 'agricultural': 1, 'aldwark': 1, 'nyorks': 1, 'grim': 1, 'fewer': 1, 'piglets': 1, '0kjcwg6pn9': 1, 'displaces': 1, 'troy': 2, '6hkw5qlppt': 1, 'albany': 2, 'ppsellsbabyparts': 1, 'wzc5r4xoqz': 1, 'band': 4, 'bbcintroducing': 1, 'purpleturtlerdg': 1, 'giantgiantsound': 1, 'ofan6dkoez': 1, 'rdg': 1, 'hospitalized': 2, '7news': 4, 'x1oyu5y6bi': 1, 'gxdklhxu22': 1, '3sth9lrbun': 1, 'rage': 8, 'jqxm4gcqz3': 1, 'nh1news': 1, 'bigsim50': 1, 'pundits': 1, 'mafireems': 1, 'qufwxrjiql': 1, 'kcarosawmur': 1, 'wsls': 1, 'tips': 10, 'childcare': 1, 'expensive': 3, 'jennasjems': 1, 'patrickwsls': 1, 'towns': 1, 'charred': 1, 'remains': 8, 'rips': 1, 'damaging': 3, 'neighboring': 1, 'ja3w1s3tmr': 1, 'residential': 8, 'rvkyj3yuvk': 1, '1943': 2, 'prisoners': 2, 'camp': 21, 'treblinka': 1, 'rebelled': 1, 'seizing': 1, 'displaced': 52, 'tore': 2, 'nzqwtcyidv': 1, 'mht': 1, 'confirm': 6, 'okcfox': 1, 'pensioner': 1, 'unsafe': 6, 'catching': 5, 'melbourne': 2, 'cnoxjb8xoq': 1, 'kalispell': 1, '1iythvshgf': 1, 'straighten': 1, 'brother': 24, 'swooping': 2, 'finger': 7, 'acres': 10, 'drifting': 2, 'temecula': 1, 'zr5rgbgh03': 1, 'glue': 2, 'ages': 6, 'content': 76, 'sigmund': 1, 'freud': 1, 'heartbroken': 3, 'nellis': 1, 'cheyenne': 5, 'news3lv': 3, 'vaf1raiyqb': 1, 'hgf52611': 1, 'uh': 3, 'robbie': 1, 'derby': 5, 'redsox': 1, 'popcorn': 2, 'gs2w38csjn': 1, 'stake': 1, 'ypezipy2ny': 1, 'brandace': 1, 'ntc': 1, 'survived': 59, '500â': 1, 'ilfd6wcgqg': 1, 'wild_lionx3': 1, 'shower': 11, 'flushes': 1, 'lining': 1, 'mizuta': 1, 'gl4mcax0ny': 1, 'calorie': 2, 'klondike': 1, 'alton': 1, 'livestream': 1, 'touched': 2, 'plate': 5, 'nut': 1, 'joke': 4, 'gvd7fcx8iz': 1, 'couches': 1, 'fr': 6, 'p1amginsys': 1, 'runkeeper': 1, 'loseit': 2, 'stevie': 1, 'crusty': 2, 'op': 3, 'epex4axg4b': 1, 'irsolichin': 1, '9tawan99': 1, '178kakapo': 1, '68': 2, 'grandest': 1, 'scales': 1, '129': 1, 'mph': 25, 'brisk': 2, 'pace': 6, 'myfitnesspal': 3, 'flame': 1, 'pqrjvgvgxg': 1, 'kyra_elizabethh': 1, 'break': 24, 'realdonaldtrump': 5, 'shelia1965a': 1, 'tounge': 1, 'pepperoni': 1, '163': 3, 'cardio': 2, '21dayfix': 1, 'lifting': 4, 'weights': 1, '43': 7, 'qvc': 1, 'corey': 3, 'curlin': 1, 'irons': 2, 'necks': 1, 'blackhatwriter': 1, 'computer': 10, 'mcdonald': 1, 'coolest': 1, '202': 1, 'rl': 1, 'boyfriend': 6, 'clothes': 9, 'recorded': 3, 'alfred00dle': 1, 'pdleague': 1, 'crit': 1, 'prob': 2, 'rhymes': 2, 'bible': 5, 'prodigal': 1, 'returned': 6, 'stepping': 2, 'kennethbauer_': 1, 'noodles': 1, 'grilled': 2, 'sandwich': 1, 'widougl': 1, 'kurrrlyw': 1, 'adamrubinespn': 3, 'nationals': 2, 'welp': 2, 'dunce': 1, 'accidentally': 7, 'cigarette': 8, 'joked': 1, 'wood': 5, 'innings': 1, 'cubstalk': 1, 'complex': 10, '14028': 1, 'contained': 8, 'lfnippnoto': 1, 'mattharvey33': 1, 'pitches': 1, 'inn': 1, 'thomasvissman22': 1, 'keithyyl': 1, 'keithyy': 1, 'gettin': 2, 'blocks': 3, 'dlkuftlqnf': 1, 'oven': 1, 'degrees': 5, 'fool': 2, 'coverage': 2, 'pro': 8, 'material': 2, 'nuggets': 3, 'microwave': 1, 'intead': 1, 'calling': 13, 'learned': 5, 'burnedâ': 1, 'zsaegjqq1z': 1, 'stabbed': 1, 'cheated': 2, 'dirt': 5, 'bike': 8, 'cutting': 3, 'sparks': 5, 'brush': 4, 'sparked': 12, 'landowner': 1, '10â': 1, 'rj7m42atws': 1, 'hermancranston': 3, 'wired': 13, 'budgets': 1, 'fsganfrgjh': 1, 'ju9zzu9tioâ': 1, 'chopped': 2, 'jalapenos': 1, 'lava': 53, 'gloves': 1, 'peppers': 1, 'geoengineering': 1, 'fuels': 4, 'unstable': 3, 'temps': 2, '165ã': 1, 'yall': 6, 'bugs': 2, 'sar_giuliani': 1, 'candle': 2, 'cocoa': 1, 'sip': 1, 'nap': 4, 'awesomesauce': 1, 'atk': 3, 'letsfootball': 3, 'skanndtyagi': 2, 'dmtab6g7j7': 1, 'janellebrown117': 1, 'comrades': 1, 'seeking': 3, 'torture': 4, 'nod': 1, 'mandem': 1, 'totteham': 1, 'maddddd': 1, 'dem': 3, 'ting': 1, 'aubilenon': 1, 'markkriegsman': 1, 'routine': 1, 'g2h7xnecd8': 1, 'weightless': 1, 'fatburning': 1, 'burnfat': 1, 'workout': 5, 'bulletproof': 1, 'funeral': 1, 'uqssnaattu': 1, 'slouching': 1, 'towards': 6, 'isles': 1, 'warlords': 1, 'draenor': 1, 'wasnâ': 2, 'crusad': 1, 'rkpmomqmui': 1, 'stacdemon': 1, 'chris': 6, 'mullin': 1, 'johnâ': 1, 'nmrvthkvah': 1, 'sjubb': 1, 'johnsontionne': 1, 'except': 9, 'zionism': 3, '6xysdn2xz0': 1, 'kanger': 1, 'coils': 1, 'vaping101': 1, 'cykr4xaluh': 1, 'huffpostcomedy': 1, 'keeps': 11, 'attendees': 2, 'xwvw1sft4i': 1, 'j7hukhwmal': 1, 'visible': 2, 'tucson': 2, 'mountains': 5, 'steep': 1, 'terrain': 1, 'mountainsâ': 1, 'zrtrpl77qv': 1, 'thevenskus': 1, 'thesweatshoppe': 1, 'core': 3, 'gymtime': 2, 'worktime': 1, 'auditiontime': 1, 'roccotime': 1, 'nobs': 1, 'neon': 1, 'modest': 1, 'sniff': 1, 'sniiiiiiff': 1, 'er': 6, 'donny': 1, 'peddle': 1, 'floorboard': 1, 'backroad': 1, 'outâ': 1, 'nowâ': 1, 'hksbmijqz1': 1, 'bridges': 4, 'forte': 1, 'method': 4, 'integrates': 1, 'format': 1, 'interval': 2, 'muscle': 4, 'shaping': 2, 'techniqu': 1, 'xuzee2budv': 1, 'desire': 5, 'goals': 6, 'lou': 3, 'holtz': 1, 'uhhhhh': 1, 'crusade': 1, 'optps1lgkc': 1, 'boat': 61, 'memories': 34, 'web': 1, 'umtnnimtbm': 1, 'entry': 1, 'fever': 2, 'belo': 1, 'ooow': 1, 'swallow': 1, 'ooo': 1, 'ole': 1, 'justin': 6, 'bieber': 4, 'nagel_ashley': 1, 'vicken52': 1, 'basedlarock': 1, 'goonc1ty': 1, 'arab': 2, 'autocracies': 1, 'xcjramgq22': 1, 'theeconomist': 2, 'tarekfatah': 1, 'enemity': 2, 'rubi_': 1, 'stacks': 1, 'apply': 12, 'parents': 19, 'wp6v1bhhoq': 1, 'michael5sos': 4, 'balls': 3, '8goingon80': 1, 'sunscreen': 1, 'dungeons': 2, 'raids': 1, 'legionâ': 1, '8ibat5loqn': 1, 'counter': 8, 'alexandrian': 1, 'jerry': 3, 'reporters': 1, 'conference': 12, 'experiencing': 4, 'arzemsr7fq': 1, 'influencers': 1, 'socialtimes': 1, 'ptc0xcragy': 1, 'minsuwoongs': 1, 'ika': 1, 'tuning': 2, 'soup': 4, 'diet': 6, 'recipes': 4, '8r5vpaoo5z': 1, 'recip': 1, 'jvcxb75drj': 1, 'b0es3ziork': 1, 'juiit2yfvo': 1, 'lighter': 1, 'planned': 20, 'demonstrations': 1, 'pp': 3, 'accomplishing': 1, 'ti5quotes': 1, 'ti5': 2, 'mv': 1, 'strutting': 1, 'bg': 2, '120v': 1, 'breaker': 1, 'threshold': 1, 'awg': 1, 'commonly': 1, '1800w': 1, 'outlets': 1, 'results': 11, 'dancing': 2, 'kron4news': 1, 'ih7ctorgrh': 1, 'rockbottomradfm': 2, 'challenges': 2, 'stone': 8, 'atleast': 2, 'individuals': 6, 'mrjamesob': 1, 'rid': 6, 'drop': 10, 'crawl': 1, 'jakey': 1, 'brave': 4, 'clare': 1, 'salute': 2, 'foxnewsvideo': 1, 'aiiamericangiri': 1, 'anhqdc': 1, 'rioters': 2, 'looters': 2, 'duckvillelol': 1, 'flips': 1, 'table': 5, 'screw': 1, 'grabs': 1, '03l7nwqdje': 1, 'be4': 1, 'magic': 8, '7k': 2, 'dozen': 5, 'eyma5crlhk': 1, 'zx': 1, 'ost': 1, 'ogre': 1, 'claw': 1, 'attempting': 3, 'delany': 1, 'dhalgren': 1, 'beastly': 1, 'downing': 1, 'amongst': 5, 'descriptions': 2, 'ruin': 51, 'mofanon': 1, 'retweet': 5, 'monsters': 1, 'pulling': 5, 'causing': 13, 'evacuations': 4, 'mtmkimwiyy': 1, 'ali': 1, 'planes': 2, 'ran': 12, 'booradleyvancullen': 1, 'pouring': 1, 'geqkdao4cv': 1, 'dg0bgzecgm': 1, 'storen': 1, 'curing': 1, 'cancer': 15, 'puppies': 3, 'contemplating': 3, 'deserve': 4, 'disrespect': 1, 'destroying': 3, 'meteors': 1, 'crashing': 5, 'trubeque': 1, 'strikers': 3, 'phalaborwa': 1, 'striking': 3, 'chinese': 6, 'attacking': 4, '08lngclzsj': 1, 'flamethrower': 1, 'rendered': 1, 'kitten': 2, '9cpwiecegv': 1, 'rzlytnez2u': 1, 'kshllcenterpri1': 1, 'progress4ohio': 1, 'burnt': 4, 'churches': 1, 'understood': 1, 'chase': 3, 'murderers': 1, 'thoroughly': 1, 'express': 14, 'brutality': 1, 'nvr': 1, 'mistreated': 2, 'streetlight': 1, '1qochspybw': 1, 'bush': 41, 'jslxtq3nqs': 1, 'explain': 3, 'volcanoes': 2, 'spouting': 1, 'co2': 3, 'marcoarment': 1, 'winter': 9, 'sydney': 5, 'toes': 2, 'hxdg24mcqg': 1, 'ted': 6, 'mitt': 4, 'bfthahlcr0': 1, 'omfg': 6, 'tiny': 4, 'freaking': 3, 'soaring': 2, 'pity': 3, 'scotgov': 1, 'scotland': 5, 'tweetlikekez': 1, 'villa': 2, 'slash': 1, '5dj6chjfzp': 1, 'drought': 59, 'zdtdqqbahc': 1, 'psqcnsvfgp': 1, 'jamaicaobserver': 2, 'cnewslive': 2, '6zgef8j8bm': 1, 'bftiapf35f': 1, 'bushfire': 3, 'albania': 4, 'vict': 2, 'yuba6xmblq': 2, 'doricreates': 1, 'alhanda': 1, 'seems': 15, 'moonbeam': 1, 'tokes': 1, 'blames': 4, 'sn3dhuynfe': 1, 'traumatised': 52, 'appreciativeinquiry': 1, 'soea1ggbkj': 1, 'hillary': 3, 'standwithpp': 4, 'hxdg254dho': 1, 'holiday': 5, 'relax': 5, 'sunbathe': 1, 'spain': 6, 'drno7okm21': 1, 'q1y8lm7us9': 1, 'toflxodyrx': 1, 'californian': 1, 'rjdx29wosp': 1, 'oct': 1, '1895': 1, 'zckxtfc9pt': 1, 'dacherryontop13': 1, 'swimming': 6, 'scarier': 1, 'mother': 11, 'halts': 1, 'xxa4rmfz01': 1, 'wet': 8, '0ymf6txfch': 1, '3i3d2ngent': 1, 'jyiekeo2he': 1, 'johnfromcranber': 1, 'pleas': 1, 'warming': 4, 'jiminswang': 1, 'fgdeh56plo': 1, 'photographer': 5, 'wolter': 1, 'peeters': 1, 'nsw': 2, 'rural': 1, 'laâ': 1, 'gxe7nhwz3e': 1, 'srbqlmuwbv': 1, 'oblivious': 1, 'dislike': 2, '93vacqm4b1': 1, 'evacuate': 53, 'affected': 45, 'govts': 1, 'advised': 2, 'ubvevuuach': 1, 'pamelamueller': 1, 'honour': 2, 'privlege': 1, 'witnessed': 2, 'therealpbarry': 1, 'erupting': 3, 'volcano': 46, 'raging': 3, 'atmosphere': 5, 'none': 11, 'believers': 1, 'kcoff6bmie': 1, 'eugene': 1, 'conspiracies': 1, 'population': 16, 'triumphant': 1, 'eggs': 3, 'yolk': 1, 'fqj5aga1pd': 1, 'warfighting': 6, 'robots': 8, 'ban': 17, 'premature': 6, 'ieee': 1, 'spectrum': 1, 'tzr58b86qz': 1, 'yvygtcaz7k': 1, 'thankful': 3, 'evil': 15, 'zero': 6, 'afghan': 7, 'intensifies': 4, 'nnylxhinpx': 1, 'sees': 8, 'sharp': 5, '4hcywrwn6l': 1, '2twxz6vxbx': 1, '9dvu1ridz3': 1, 'libertarianluke': 1, 'honest': 4, 'rampage': 1, 'zblu4xxo44': 1, 'levels': 7, 'ymczyvkfme': 1, 'bottling': 1, 'explodes': 4, 'higher': 5, 'ostkza1qax': 1, 'countless': 2, 'globe': 2, 'orchestrated': 1, 'g1bwl3dqqk': 1, 'disinfo': 1, 'yuinmerq2s': 1, 'criticalmedia': 1, 'poignant': 1, 'reminder': 5, 'mwmt3bdr5l': 1, 'gtiso': 1, 'unfortunate': 1, 'nzmorningreport': 1, 'utilises': 1, 'welly': 1, 'aucklnd': 1, 'lasvegaslocally': 1, 'vitalvegas': 1, 'reined': 1, 'drinks': 4, 'each': 16, 'stool': 1, 'albums': 1, 'memorial': 11, '69': 4, 'wth': 2, 'trngqopbdl': 1, '7ageakvn2x': 1, 'esksf': 1, 'sorrow': 1, 'throwin': 1, 'catwoman1775': 1, 'crazier': 1, 'sutherland': 1, 'd50orfxofb': 1, 'theleadernews': 1, '0cxm5tkz8y': 1, 'v5amdovhot': 1, 'josh_daniel_': 1, 'mikegiarrusso': 1, 'untrained': 1, 'firing': 4, 'flyopinemonkey': 1, 'honshu': 2, 'operation': 7, 'coronet': 1, '1m': 3, '30m': 1, 'alcoholandmetal': 1, 'fix': 12, 'trusted': 1, 'r8ptvfuh5x': 1, 'npckk0tleq': 1, 'lambasted': 1, 'respected': 3, 'jokeâ': 1, 'prefer': 6, 'gxqmdmza1u': 1, 'maddow': 1, 'countermoonbat': 1, 'voodoo_ben': 1, 'thankfully': 2, 'command': 3, 'confirmed': 60, 'mfsw0tysta': 1, 'jimw_in_nm': 1, 'predicting': 1, 'wrap': 3, 'warns': 8, 'vsvy1qe69t': 1, 'pbs': 2, 'iraq': 10, 'paved': 2, 'hypocrisy': 2, 'francisunderwood': 1, 'hoc': 1, 'zqo6nuvytu': 1, 'revise': 1, 'scenario': 1, 'iranian': 5, 'drlkebeypi': 1, 'f7zcqaocy7': 1, 'ldywd4ydt9': 1, 'tuned': 4, 'nssjpr6pdd': 1, 'highest': 5, 'washingtonpost': 3, 'xtf5dvgrvh': 1, 'hates': 4, 'prevented': 1, 'dontestallworth': 1, 'stevesgoddard': 1, 'iwo': 1, 'jima': 1, 'okinawa': 4, 'numbers': 7, 'sides': 3, 'cameron_surname': 1, 'chrisg0000': 1, 'allies': 3, 'lzff4pt4az': 1, 'ftsn': 1, 'ftsnnewsdesk': 1, 'irishspy': 1, '3sqsergni2': 1, 'whimsy': 1, 'pertains': 2, 'derailment': 52, 'patna': 2, 'casualty': 44, 'yg697fcqgr': 1, 'branch': 2, 'surety': 1, 'underwriter': 2, 'pramklrmhz': 1, 'courses': 1, 'stateâ': 2, 'jmd7zwksdm': 1, 'rx_casualty': 1, 'vpzedd': 2, 'daintt_m': 1, 'rates': 4, 'movement': 6, 'commercial': 8, 'casu': 1, 'kclkokqi8a': 1, '80s': 2, 'aids': 3, 'theyâ': 2, 'âªd': 3, 'grown': 3, 'davidâ': 1, 'qbecjli7cx': 1, 'legaljobs': 1, 'litigation': 1, 'attorney': 1, 'scottsdale': 1, 'specialist': 4, 'bodily': 1, 'zqrqeg3cxl': 1, '5sosfamupdater': 2, 'sanity': 1, 'brings': 8, 'cord': 4, 'gray': 6, 'whale': 4, 'pacific': 8, 'critically': 1, 'endangered': 2, 'vwz3vzpmfb': 1, 'thomashcrown': 1, 'grandfather': 1, 'groups': 5, 'marines': 2, 'rate': 15, 'predictions': 1, 'quality': 6, 'licensed': 1, 'produc': 1, 'vmjrtuvmh4': 1, 'denver': 20, 'maccocktail': 1, 'hiram': 1, 'tony': 4, 'blairs': 1, 'benzema': 1, 'increasingly': 2, 'benitez': 1, 'bound': 5, 'gritty': 1, 'thursdays': 1, 'amico': 1, 'tag': 6, 'amicospizzato': 1, 'seeyouatamicos': 1, 'mz8vqxbkts': 1, 'recall': 6, 'sends': 3, 'industry': 14, '6gsamy6mts': 1, 'unpredictable': 1, 'disconnected': 2, 'northbayhealth': 1, 'shines': 1, '21b6skpdur': 1, 'wbcb3sytj7': 1, 'scriptettesar': 2, 'katiecool447': 1, '30th': 1, 'september': 9, '1986': 2, 'georgian': 1, 'wines': 1, 'political': 10, 'campaign': 8, 'ukraine': 13, 'wco724ampl': 1, 'bruminthecity': 1, 'espresso': 1, 'poss': 3, 'busiest': 1, 'thurs': 3, 'avbronstein': 1, 'popehat': 1, 'instapundit': 1, 'estimates': 2, 'islands': 5, 'telling': 5, 'homealone2': 1, 'film4': 1, 'metrics': 3, 'correlate': 1, 'marketwatch': 1, 'mvrsyu2ppk': 1, 'agencies': 2, 'inc': 3, 'manager': 8, 'z6mqrufldl': 1, 'rollingmeadows': 1, 'independence': 1, 'rowyso': 1, 'setlist': 2, 's_casualty': 1, 'documenting': 2, '5qmvewdgis': 1, 'greenharvard': 3, 'nmtwi59mu4': 1, '4q4zd7ou34': 1, 'canceling': 2, 'warships': 4, 'repay': 4, 'nytimes': 8, 'j7vbskhaxn': 1, 'jdlymguhww': 1, 'intensity': 8, 'catering': 1, 'auditory': 1, 'effect': 34, 'hcxvneoav': 1, 'f2gwxeprak': 1, 'conning': 1, 'portfolio': 1, 'diversification': 1, 'insurers': 4, '33fbr25t1o': 1, 'reriellechan': 1, 'lich': 1, '0gidg9u45j': 1, 'roleplay': 1, 'willinghearted': 1, 'rpn': 1, 'pbya7uv3v5': 1, 'nuke': 6, 'albeit': 1, 'unsuccessful': 1, 'tens': 3, 'millions': 12, 'mackinnon08': 1, '5sosglobalsquad': 1, '5sosâ': 1, 'buck': 2, 'hardstyle': 1, 'messy': 2, 'recording': 3, 'mixify': 1, 'm203ul6o7p': 2, 'hdvmhsqxhm': 1, 'skype': 2, 'fans': 20, 'retweeting': 1, 'dm': 3, 'hdrbtjrohb': 1, 'datshemmings_': 1, 'moi': 1, 'est': 2, 'plutot': 1, 'heartbreak': 4, 'ufhguhfidt': 1, 'stavernise': 1, 'delivered': 2, 'k4h8cq7puo': 1, 'robdelaney': 2, 'catastrophe': 52, 'appleofficlal': 1, 'migrating': 1, 'iphoto': 1, 'wasted': 1, 'hrsto': 1, 'cultivating': 1, 'joy': 6, 'o0ltqdjbqe': 1, 'pjnet': 3, 'tcotã': 1, 'mo9wptyqkp': 1, 'borrowers': 1, 'sbhhkkz01y': 1, 'uriminzok': 1, 'puppet': 1, 'republic': 4, 'naemolgo': 1, 'firmly': 1, 'yiraneuni': 1, 'misfortunebut': 1, 'deb117': 1, 'opens': 11, 'athlete': 2, 'principle': 1, 'fulfilling': 2, 'clerical': 1, 'duties': 1, 'iphone': 7, 'twist': 2, 'ultimate': 8, 'ksgmy0d0mx': 1, 'ov': 1, 'mzk0pfogi7': 1, 'gemmahentsch': 1, 'megynkelly': 3, 'dloesch': 1, 'envision': 1, 'placing': 2, 'adoption': 2, 'peterjukes': 3, 'committed': 5, 'stylist': 1, 'prime': 8, 'o207jyabyz': 1, 'cjctb2ocxg': 1, 'bless': 6, 'maatmhi': 1, 'diff': 4, 'solo': 3, 'generally': 4, 'kx1fgsqeb6': 1, '7gyghog2ds': 1, 'pros': 1, 'company': 15, 'failures': 1, 'requiring': 2, 'repair': 14, 'pisces': 1, 'emotional': 17, 'buzzfeed': 3, 'stannis': 1, 'cara': 1, 'chucker': 2, 'scenes': 4, 'tf2bkq0olx': 1, 'vmas': 1, '3fqq7pfjvx': 1, 'pixelsmovie': 1, 'nor': 4, 'lvbuw01yoh': 1, 'shaneryanhere': 1, 'burford': 1, 'lorries': 6, 'council': 2, 'thomasistrash': 2, '7bclazafih': 1, 'adjuster': 1, 'safeco': 1, 'mutual': 3, '3k42mjvqca': 1, 'spark': 1, 'vsgqolr32g': 1, 'p7uhcb13qx': 1, 'quietly': 1, 'personality': 1, 'seem': 6, 'modern': 1, 'payday': 2, 'loans': 4, 'promote': 2, 'finance': 1, 'liqd': 1, 'gm3yi1d1dv': 1, 'bds': 1, 'rated': 2, 'imdb': 2, 'hilarious': 12, 'cjrssry1rt': 1, 'aiginsurance': 1, 'ceo': 12, 'divestitures': 1, 'temper': 4, 'q2': 1, '2y2wzk1frm': 1, 'caradelevingne': 1, 'hotness': 1, 'cope': 3, 'swifties': 1, 'evolve': 2, 'vanilla': 1, 'anymore': 14, 'twlldun': 1, 'planning': 6, 'nar': 1, 'phuket': 1, 'qyaendvdgc': 1, '3zp6ahnsxn': 1, 'controlled': 10, 'masochisticmage': 1, 'reckless': 2, 'bottom': 9, 'friends': 25, 'kylie': 1, 'ate': 3, 'bruce': 1, 'tr6om9yn2c': 1, 'coffees': 1, 'rockstar': 2, 'wolves': 3, 'denali': 2, '48': 9, 'savedenaliwolves': 1, 'tweetstorm': 1, 'sywuel7yyx': 1, 'mark_argent': 1, 'finished': 2, 'barackobama': 4, 'mr': 11, 'president': 16, 'puerto': 2, 'rico': 2, 'r5live': 1, 'studio': 3, 'discussion': 2, 'sheer': 3, 'herring': 1, 'scraptrident': 1, 'becomes': 6, 'alexander': 1, 'archipelagowolves': 2, 'vcpkdbnsfp': 1, 'unreal': 4, 'frustration': 1, 'pieceofme': 1, '4mjyw7p7cf': 1, 'learning': 11, 'eruption': 10, 'rbmucurs2f': 1, 'benefits': 5, 'weathernetwork': 3, 'ibx3cragtt': 1, 'acute': 3, 'takes': 36, 'precedent': 1, 'ptsd': 6, 'follows': 4, 'undetected': 1, 'bzkqpl6r0a': 1, 'vaunwilmott': 1, 'paystara': 1, 'loss': 9, 'shirtless': 1, 'dominion': 1, 'reveillertm': 1, 'macabrelolita': 1, 'amino': 1, 'acidsâ': 1, 'diobzghfju': 1, 'bombings': 9, 'felt': 17, 'ou1m9chznq': 1, 'itkcrpqgn0': 1, 'wp': 2, 'decimated': 1, 'apocalyâ': 1, '6ecmrxuyr6': 1, 'johngreen': 2, 'wages': 2, 'wage': 1, 'structure': 8, 'tzxeg4gokd': 1, 'unitednyblogs': 1, 'insidecityhall': 1, 'nycl': 1, 'ouch': 2, 'nyclass': 1, '500k': 1, 'mailer': 1, '1krpz3j1eu': 1, 'invading': 2, 'mistake': 4, 'diplomacy': 2, 'replace': 8, 'yqjpn3quux': 1, '25sy9y295l': 1, 'newyorker': 2, 'wc8aqxedf7': 1, 'marginoferror': 1, 'custom': 2, 'rom': 1, 'weren': 5, 'managers': 1, 'wearing': 6, 'uniforms': 2, 'implication': 1, 'glove': 1, 'destructive': 2, 'volcanic': 1, 'thirty': 2, 'kkjp9ksbst': 1, 'w1iff7ddvy': 1, 'tgcr5vofj3': 1, 'respond': 8, 'looming': 1, 'uncertain': 2, 'timing': 2, 'proportions': 2, 'riiestp9zy': 1, 'myvintagesoul': 1, 'british': 21, 'manservant': 1, 'pampered': 1, 'wealthy': 2, 'brit': 1, 'reversal': 2, 'carlyfiorina': 1, '2040': 3, 'climatechange': 4, 'j7q2ysomvr': 2, 'feelthebern': 1, 'apano55': 1, 'jamesmelville': 2, 'deluded': 1, 'jim': 4, 'rickards': 1, 'outcomes': 2, 'faster': 6, 'expecte': 1, 'czegzbnj4x': 1, 'b53yr0ccmx': 1, 'senschumer': 1, 'netanyahu': 2, 'religious': 2, 'extreme': 15, 'regulations': 1, 'atp5apyxrr': 1, 'yorker': 5, 'y8yqpbe4t9': 2, 'pgxfocghqg': 1, 'qvlxpyyycd': 1, 'ourâ': 1, '5yrbegzafx': 1, 'rnqebaycvm': 1, 't344phnpy9': 1, 'a8jz5a26wi': 1, 'kessler': 1, 'exponential': 1, 'proliferation': 1, 'satellites': 1, 'gravitymovie': 1, '_laladeviluke': 1, 'informed': 1, 'mute': 2, 'primarily': 4, 'plume': 1, 'wh': 2, 'sv5kbp1fmo': 1, 'vmwtouyohm': 1, 'sell': 4, 'blissfully': 1, 'unaware': 3, 'bathed': 1, 'cared': 3, 'zmvrjljoog': 1, 'suffered': 6, 'pants': 5, 'resorted': 1, 'tying': 1, 'jacket': 3, 'thrift': 1, 'trustory': 1, 'shortages': 1, 'study': 7, '2wwzbw5lid': 1, 'ensuing': 1, 'debt': 10, 'ume': 2, 'defendant': 2, 'gz27audyha': 1, 'p4ekgc9sig': 1, 'sentedcruz': 2, 'syringetoanger': 1, 'disagreements': 1, 'occurrence': 2, 'ftrdbbakqv': 1, 'hazardous': 53, 'chemical': 48, 'principles': 1, 'practices': 1, '4ssuyhkgrb': 1, 'tderbtgz2k': 1, 'brothers': 7, 'armory': 4, 'sf': 6, 'chem': 3, '3ln8trhw6x': 1, 'illinois': 4, 'simulate': 5, 'nu': 5, 'rd10ex6hvt': 1, 'sharethis': 3, 'hazmat': 2, 'weeklong': 1, 'biological': 6, 'radioactive': 3, 'nbc': 3, 'exercise': 4, 'md': 12, 'ul5xdblmbk': 1, 'vjhpvlnbaw': 1, 'david_cameron': 2, 'upsetting': 1, 'bee': 4, 'savebees': 3, 'ndjja4d5o8': 1, 'l7bjsq0y2o': 1, 'krefeld': 2, 'operations': 5, 'underway': 6, 'reportly': 1, 'collapsed': 54, 'cnnbrk': 3, 'ntvde': 1, 'wbogs8ejsj': 1, 'bees': 5, 'instead': 21, 'toxic': 5, 'harm': 50, 'db7ft3yi6d': 1, 'uhgx7uqobd': 1, 'spill': 63, '007npen6lg': 1, 'seattle': 15, 'dependency': 4, 'counselor': 4, 'intern': 4, 'bnrdkgxavr': 1, 'beaumont': 1, 'benews': 1, 'pme0hojvya': 1, 'ijetalerts': 1, 'drills': 1, 'pope': 2, 'visit': 9, 'sept': 5, 'ajvfjd3qni': 1, 'spohn': 1, 'shoreline': 2, 'loot': 1, 'pipe': 9, 'ricin': 1, 'leak': 2, 'drugs': 4, 'cartel': 1, 'cocaine': 2, 'marijuana': 5, 'heroine': 3, 'bust': 1, 'behavior': 2, 'mixers': 1, 'purposes': 2, 'jyb': 1, 'alert': 9, 'ndgpwyxu6h': 1, 'bacup': 3, 'smells': 6, '4gajhspfwl': 1, 'skqpwsnoin': 2, 'ueppjwvlcb': 1, 'watersafety': 1, 'pjcoyle': 1, 'included': 1, 'plants': 5, 'oamqqbnice': 1, 'rossendale': 2, 'hudtl2hdsv': 1, 'suppose': 4, 'northwesternâ': 2, '0nr4dpjgyl': 1, 'hammondville': 2, 'jewell': 1, 'jqcy5nwbug': 1, 'snpmalngvd': 1, 'term': 7, 'obsessed': 3, 'anutoopkf4': 1, 'nueva': 1, 'favorita': 1, 'bits': 2, 'met4ytzmfb': 1, 'deezercolombia': 1, 'exitlxgisj': 1, 'cleanup': 6, 'umqbyrupbd': 1, 'hhtwayt4yo': 1, 'liquidation': 1, 'object': 3, 'usar2015': 1, 'usar15': 1, 'ruor': 1, 'ggtmdquddo': 1, 'evanston': 2, 'kfyebhb3di': 1, 'attending': 2, 'bq94mjygfe': 1, 'hungry': 7, '4zsxjgv7it': 1, 'laevantine': 1, 'fortunately': 4, 'reworked': 1, 'plumbing': 3, 'draw': 3, 'glitter': 1, 'chemical_babe': 1, 'bendwavy': 1, 'rinse': 1, 'v4': 1, 'ulupxyzjwv': 1, 'hjj7eftj7o': 1, 'q9zixci8e6': 1, 'lindenow': 1, '15pm': 4, 'pmbreedlove': 1, 'qyot2b59ig': 1, 'prompted': 4, 'factory': 7, 'redruthã': 1, 'oictacbwsr': 1, '46lsianjmc': 1, 'ibiza': 1, 'pill': 2, 'cliff': 49, 'dannyjohnjules': 1, 'spencer_fearon': 1, 'christielinford': 1, 'd33munni': 1, 'jeannamibian': 1, 'noooooooo': 1, 'proceeds': 4, 'neil': 2, 'crossfit': 1, 'qamwojyahq': 1, 'decent': 2, 'billers': 1, 'promoted': 1, 'billings': 6, 'humble': 2, 'pushes': 1, 'edge': 4, 'teach': 1, 'fly': 9, '2leezy': 1, 'grabbing': 1, 'sweaty': 2, 'grwdr4kuf3': 1, 'ruebs': 3, 'endures': 3, '4500': 3, 'climb': 4, 'capture': 5, 'bride': 7, 'groom': 4, 'gft2lr0lsi': 1, 'rarasathie_': 1, 'regress': 1, 'slip': 5, 'dignity': 2, 'void': 3, 'mate': 3, 'faved': 1, 'funnynews': 1, 'collapses': 8, 'chunks': 4, 'lci3pljx25': 1, 'spencer_vh': 1, 'usetheiight': 1, 'youre': 2, 'trash': 6, 'bmwmpoydig': 1, 'alex': 4, 'facts': 8, 'favor': 3, 'alexjacobsonpfs': 1, 'andre': 1, 'gore': 1, 'elite': 3, '4vwsl2gfp0': 1, 'landslide': 61, 'lkdo0momtw': 1, 'thinkpink': 1, 'magichairbump': 1, 'adding': 4, 'nmhztb1ewm': 1, '87': 3, 'streak': 5, 'fall_off_cliff': 1, 'rumor': 2, 'de': 19, 'punkblunts': 1, 'sincerelyevelnn': 1, 'jxhazebnqk': 1, 'szmnextdoor': 1, 'lil': 12, 'rescued': 56, '80ft': 1, 'shaldon': 1, 'efqcltevlr': 1, '4gqy7zimfc': 1, '3hoikdmocb': 1, 'gabd0cjmag': 1, 'mattbuek': 1, 'pitchers': 2, 'gracefully': 1, 'johnnieguilbert': 1, 'cheering': 1, 'flip': 5, 'sake': 3, 'neck': 3, 'eeewo207mx': 1, 'camping': 5, 'happily': 3, 'ferry': 2, 'knocking': 2, 'keen': 3, 'hiking': 1, 'fitness': 5, 'excitedmuch': 1, 'gulfport': 1, 'realizations': 1, 'cjuighbxyn': 1, 'jumps': 1, 'tea': 7, 'cliffs': 2, '627': 1, 'lower': 7, 'striked': 1, 'otm': 1, 'yoenis': 1, 'production': 3, 'ha': 14, 'kidding': 4, 'io9ry1akon': 1, 'esn': 1, 'cilla': 2, 'revealed': 7, 'nextâ': 1, 'f7a66diiyk': 1, 'ntsouthwest': 1, 'tasty': 1, 'sea': 21, 'coastal': 8, 'erosion': 1, 'crumbly': 1, 'easily': 6, 'shadows': 1, 'nieuws': 1, '8lkmwp9qzw': 1, 'runaway': 3, 'minion': 1, 'dublin': 4, 'u2kwof3wtj': 1, 'materialism': 3, 'talkradio': 4, 'ncmbnrsk5q': 1, 'technique': 2, 'uplfsqmr0c': 1, 'paramedic': 3, 'blow': 10, 'halloikbenwill': 1, 'geoffrickly': 1, 'option': 5, 'vinyl': 6, 'tee': 1, 'bundle': 2, 'yahoo': 5, 'hsgktezucn': 1, 'revenues': 6, 'v5yyzngrbz': 1, 'g38y8h1tjt': 1, 'basildudin': 1, 'barbaric': 1, 'saudies': 1, 'relive': 2, 'austrian': 1, 'dog9bw1ecw': 1, 'correction': 8, 'tent': 16, 'hnlnow': 1, 'sdxzhjco0x': 1, 'investing': 2, 'actions': 8, 'strategies': 1, 'lasting': 3, 'blowout': 3, 'jzwrisxepf': 1, 'cmbnmvvdkl': 1, 'trapped': 63, 'circus': 5, 'clowns': 1, '6hkca1dsna': 1, 'implode': 1, 'dccomics': 1, 'imagecomics': 1, 'darkhorsecomics': 1, 'idwpublishing': 1, 'enabling': 1, 'cain': 5, 'val': 9, 'emmerdale': 35, 'summerfate': 10, 'eurocrisis': 1, 'proposed': 4, 'bbm9sr1wow': 1, 'qn8vtxzjzb': 1, 'paso': 1, 'up9twymjlv': 1, 'commodity': 1, '4hngtkdqmv': 1, 'loves': 5, 'afzqvotutj': 1, 'zaynmalik': 3, 'bm0qec7pja': 1, 'eminem': 1, 'nate': 1, 'dogg': 1, 'freshâ': 1, 'l0arql2q2o': 1, 'timestack': 1, 'sunsets': 1, 'mesmerizing': 1, 'images': 6, 'cas8xc2dfe': 1, 'spike': 1, '30min': 1, 'ckec': 1, 'uubovy9gqi': 1, 'oikawa': 1, 'karasuno': 1, 'overwhelming': 3, 'happiness': 4, 's7vygenjuv': 1, 'behindashield': 1, 'wars_goddess': 1, 'knees': 2, '4th': 2, 'reactions': 1, '6dznejuvd3': 1, 'absolut_sumya15': 1, 'tribute': 2, 'thane': 1, 'unfortun': 1, 'zt6wanhxuj': 1, 'sa': 8, 'ferrochrome': 1, 'verge': 1, 'jxs50fkvik': 1, 'technical': 3, 'bfjb5h4tuw': 1, 'wlb': 1, 'csxekredug': 1, 'fixing': 4, 'sl': 2, 'rsa': 1, 'bd': 1, 'sham': 2, 'exhaustion': 1, 'bailout': 2, 'cjvbqxw83s': 1, 'reacts': 1, 'i6zqlk2puz': 1, 'arnejungjohann': 1, 'energiewende': 1, 'directly': 3, 'value': 4, 'nxvjpj610w': 1, 'roh3': 4, 'jfb': 2, 'tfb': 2, 'alrasyid448iturasya': 2, 'xsnji8ejrl': 1, 'smantibatam': 2, 'roh3smantibatam': 2, 'rampant': 1, 'humiliate': 1, 'rival': 1, 'kmbs7bxkqn': 1, 'theashes': 1, 'growth': 4, 'dries': 1, 'bhp': 1, 'billiton': 1, 'oil': 71, 'price': 10, 'bites': 3, 'hqod6v6dnc': 1, 'izjtoojzkp': 1, 'uxp6poqjlb': 1, 'mgn': 1, 'africaã': 1, 'pin': 7, '263789f4': 1, 'fdjuyvzmrv': 1, 'wizkidayo': 1, '86bn': 1, '7w2wiefjuq': 1, 'thehighfessions': 1, 'blasted': 1, 'pancakes': 2, 'iowa': 1, 'highâ': 1, 'ppact': 3, 'testament': 1, 'thedemocrats': 1, 'lockstep': 1, 'sholt87': 1, 'mtgrotto': 1, 'eco11c': 1, 'carlsbadbugkil1': 1, 'lowered': 1, '401ks': 1, 'sheriffclarke': 1, 'freeamerican100': 1, 'carpenter': 2, 'ask': 15, 'rebuild': 1, 'entrances': 2, 'gut': 1, 'deutsch': 1, 'musik': 2, 'monarchy': 1, 'rjju70rhyu': 1, '35w': 1, 'honoring': 1, 'qib5fyalgs': 1, 'bake': 6, 'dorret': 6, 'chocolate': 8, 'gateau': 3, 'janâ': 1, '53lorsrgqf': 1, 'organicallyrude': 1, '1rockstar62': 1, 'mattingly': 1, 'bundy': 1, 'mcgwire': 1, 'standing': 5, 'bowling': 3, 'alley': 2, 'kezi9': 1, 'sahbhlxssh': 1, 'june': 4, '10th': 6, 'phil': 2, 'gravel': 2, 'sobbing': 1, 'endlessly': 1, 'angry': 23, 'oneheartonemindonecss': 1, 'burst': 8, 'lungs': 5, 'pit': 4, 'opened': 6, 'district': 3, 'coaches': 24, 'cpr': 2, 'course': 27, 'panama': 1, 'kfkaosh0kh': 1, 'ceiling': 1, 'darkness': 4, 'gorpuazikinak': 1, 'tongue': 11, 'puddle': 1, 'indiepopmom': 1, 'breathe': 5, 'zimbabwe': 2, 'dictator': 1, 'below': 6, 'durrellb': 1, 'punishing': 1, 'exhausted': 2, 'entity': 2, 'forced': 8, 'montego': 1, 'sewer': 2, 'tvjnews': 1, 'bcuz': 2, 'heartless': 3, 'whipped': 4, 'animal': 13, 'njrjxqbjr4': 1, 'billowing': 1, 'southtowne': 1, 'yrrhqzlkor': 1, 'dxk4suxmkv': 1, '_lasha_k': 1, 'diamond6612': 1, 'quin_lo': 1, 'lsedig': 1, 'yemmely': 1, 'holly16252': 1, 'inmianajones': 1, 'twisted': 2, 'tut': 1, 'officer': 42, 'influential': 1, 'betrayed': 5, 'severing': 1, '3d': 4, 'developed': 3, 'albertville': 1, 'evening': 16, 'valleywx': 2, '2wj1mnz3me': 1, 'michaelgbaron': 2, 'swing': 4, 'ym3cww28dj': 1, 'portable': 1, 'closet': 2, '3x': 2, 'rokiieee_': 1, 'moir': 1, '2sgdofsmrq': 1, 'xlegc6uora': 1, 'mortified': 1, 'heels': 2, 'planted': 5, 'fav': 8, 'greek': 3, 'tsipras': 1, 'costâ': 1, 'wallybaiter': 1, 'gbrnulp3fh': 1, 'quora': 1, 'answers': 6, 'ikfmektpcx': 1, 'jessicalauraxo': 1, 'grandma': 5, 'pronged': 1, 'inquiry': 2, 'launched': 3, 'hongkong': 1, 'furniture': 2, 'retailer': 1, 'dsc': 1, 'tg3ukisgen': 1, 'scmp_news': 2, 'an5lpimnfa': 1, 'moderately': 1, 'flickershowell': 1, 'munch': 1, 'species': 3, 'xdescry': 1, 'trusty': 2, 'considering': 7, 'spontaneously': 2, '87efcbiczm': 1, 'lancaster': 2, 'workers': 11, 'spectatorsâ': 1, 'yrqgasn0jg': 1, 'jemmaswans': 1, 'breather': 1, 'sack': 1, 'bones': 4, 'collide': 48, 'prayer': 1, '645dynamy8': 1, 'sqwizzix': 1, 'ggqcz9ab6u': 1, 'duty': 7, 'piano': 1, 'entertainerâ': 1, 'musicians': 2, 'freak': 13, 'getâ': 1, 'qok1bsyzeu': 1, 'waves': 34, 'ripple': 1, 'tide': 3, 'lesleychappelle': 1, 'ee8rpoahpk': 1, 'c2k7hdolph': 1, 'howie': 1, 'immediately': 4, 'locked': 3, 'jogger': 1, 'worlds': 13, 'awkward': 2, 'qqc0gkbegs': 1, 'efs300': 1, 'zstuvsbqq0': 1, 'trek': 2, 'pluto': 2, 'charon': 1, 'gucci': 1, 'chosen': 3, 'shanghaiâ': 1, 'avenue': 3, 'mkrxqzehmy': 1, 'thunderstorm': 69, 'mes': 1, '2rtq9qmgpb': 1, 'untill': 1, 'fill': 5, 'fri': 2, 'sat': 10, 'pwjjimrfly': 1, 'nlccollide': 1, '3w0pxfyyri': 1, 'touchdown': 1, 'madisonpa_': 1, 'pierce': 3, 'veil': 3, 'bracelet': 4, 'wristband': 2, '6qc8whdizy': 1, 'inezzaes5d': 1, 'soultech': 1, '8xixbspot8': 1, 'gymexican': 1, 'lpgfqnpjd3': 1, 'realities': 1, 'strange': 7, 'glitch': 1, 'gateway': 1, 'chairs': 3, 'tables': 1, '10x': 2, 'collidenlc': 1, 'mattcohen4fake': 1, 'gamma': 1, 'january': 1, 'waits': 3, 'witches': 1, 'supernatural': 3, 'sibling': 2, 'rivalry': 2, 'wogc': 1, 'izaknpjeqw': 1, 'align': 1, 'bowery': 1, 'mesgcngaz0': 1, 'perez': 1, 'hilton': 2, 'niley': 1, 'shipper': 1, 'qq1pijk2da': 1, 'tackettdc': 1, 'hide': 4, 'justine': 1, '4e2gjmvrvi': 1, 'vamos': 1, 'newells': 1, 'tidalhifi': 1, 'mzqq5pai8g': 1, 'vancouver': 4, 'host': 4, '100s': 2, 'events': 4, 'mutek_montreal': 1, 'vjbhxn9x1o': 1, 'isea2015': 1, 'funfact': 1, 'e1ao9a7rw9': 1, 'isle': 1, 'tlc': 2, 'suddenly': 6, 'omb3os54tn': 1, 'houston': 5, 'pageparkescorp': 1, 'chloeunguyen': 1, 'laurensicle': 1, 'charstevens97': 1, 'tiara_marei': 1, 'gemma': 1, 'boweâ': 1, '9wowps78vd': 1, 'collideworship_': 1, 'powerful': 11, 'vnzybfgzcm': 1, 'thedoolinggroup': 1, 'buses': 13, 'slams': 1, 'bordento': 1, 'yqhfio9xqm': 1, 'sam': 5, 'lizzie': 1, 'explore': 1, 'unjust': 1, 'boundaries': 3, 'uel': 1, 'coincide': 2, 'finer': 1, 'subatomic': 1, 'spells': 1, '2wcbrgn62j': 1, 'devia': 1, 'ler': 1, 'wattys2015': 1, 'wattpad': 2, 'teenfiction': 1, 'g891m9gh4r': 1, 'xq92x4bvg3': 1, 'd0bnm1zzak': 1, 'conspiracy': 5, 'abkhbhnloz': 1, 'motherjones': 1, 'democratic': 2, 'plant': 12, 'lastword': 1, 'h4wuppat6k': 1, 'wisjhdh58n': 1, 'vhh7lboatz': 1, 'qdhxto57em': 1, 'simple': 10, 'cyclist': 5, 'collided': 52, 'runner': 4, 'roanoke': 3, 'greenway': 2, '300000': 4, 'verdict': 3, 'wgasoencwc': 1, 'roanoketimes': 1, 'lennonparham': 1, 'jessica_stclair': 1, 'gilmoreguysshow': 1, 'podcast': 3, 'ihave44episodesofgg': 1, 'nojoke': 1, 'redcoatjackpot': 1, 'managed': 4, 'selfie': 6, 'knomg9pfiz': 1, 'newswatch': 2, 'lansdowne': 2, 'sts': 2, 'ptbo': 2, 'emerg': 2, 'lanjut': 1, 'dirumah': 1, 'yagitudeh': 1, 'jake': 2, 'rumah': 1, 'cipinang': 1, 'yilt1bb68k': 1, 'farhankvirk': 1, 'ptisalarkhan': 1, 'promoting': 1, 'femalegilgamesh': 1, 'useless': 1, 'force': 14, 'however': 6, 'scored': 1, '111020': 1, 'punch': 2, 'quest': 5, 'squeaky': 1, 'skull': 2, 'aetgbxm1pl': 1, 'pleasure': 2, 'huzzah': 1, 'molly_the_tanz': 1, 'vermilion': 1, '83bmprwh7w': 1, 'glanimals': 1, 'slithering': 1, 'viscous': 1, 'gold': 15, 'yeahs': 1, 'erykah': 1, 'badu': 1, '7zb9gm5z0h': 1, 'monsoon': 6, 'rains': 14, 'trains': 27, 'a7zf6n7vrl': 1, 'eau': 1, 'claire': 1, 'suv': 4, 'sentenced': 1, 'chippewa': 1, 'kqpky7dthj': 1, 'arc': 1, 'emery': 1, 'thestartofemandyou': 1, 'qcu4xo54wt': 1, 'shotgun': 1, 'denton': 1, '0r03c6njli': 1, 'closes': 3, 'highway': 11, 'wheeler': 2, 'thenâ': 1, 'ajtxuafoem': 1, 'mollywood': 1, 'moved': 10, 'marketplace': 1, 'bol': 1, 'apm': 1, 'imaginator1dx': 1, 'dresser': 1, 'qwrasz6lho': 1, 'edsheeran': 3, 'innit': 2, '688': 1, 'anna': 3, 'y7peto0dx2': 1, 'harwich': 2, 'happenâ': 1, 'ljxce1qw2p': 1, 'stairs': 1, 'hadnt': 1, 'butgod': 1, 'ijustine': 1, 'alaskaseafood': 1, 'askforalaska': 1, '2snyghaivs': 1, 'jmbvpanxr3': 1, 'maritime': 1, 'carrier': 2, 'shinto': 1, 'maru': 2, 'tanker': 4, 'hoshin': 1, 'nautical': 1, '2bnfoagpzd': 1, 'junction': 1, 'beep': 1, 'horn': 3, 'ssp': 1, 'aeg': 1, '061': 1, 'driven': 6, 'akram': 1, 'carhot': 1, 'exchanged': 1, 'air1bullet': 1, 'tyre': 4, 'sastars': 1, 'dan': 17, 'hughes': 9, 'stretcher': 47, 'danielle': 5, 'robinson': 5, 'monkey': 3, 'heads': 9, 'ninja': 1, 'commence': 1, 'pple': 1, 'fishing': 4, 'drob': 1, 'intersection': 4, 'crashingâ': 1, 'tpuu3eatb3': 1, 'san': 14, 'antonio': 3, 'carted': 2, 'guards': 1, '4dbhono3rk': 1, 'mesick': 1, 'bicyclist': 11, 'a9gtopyzk8': 1, 'constitutional': 1, 'politicâ': 1, 'gfa3sow9zn': 1, 'alyssaspencer28': 1, 'beau': 1, 'slide': 5, 'justinbieber': 9, 'harrystyles': 1, 'cern': 1, 'oo': 2, 'harrybecareful': 3, 'p4huqundqi': 1, 'ybyp68ievn': 1, 'journey': 2, 'cows': 1, 'restore': 5, 'southwest': 1, 'omaha': 1, 'utility': 1, 'dan0gkx28l': 1, 'stepkans': 1, 'victoria': 2, 'ingu6ztyg4': 1, 'e2wfgp8jhk': 1, 'pvris': 1, 'ht': 1, 'literarycakes': 3, 'e2mey0akpu': 1, 'collision': 52, 'broadway': 10, 'localâ': 4, '2acrgdqhj0': 1, 'zojadelin': 1, 'sac': 6, 'elkhorn': 2, 'blvd': 9, 'walerga': 2, 'trfc': 10, '1141': 3, 'enrt': 3, 'w4ofcc99wq': 1, 'g3': 1, 'rainier': 2, '15000270653': 1, 'b2': 1, 'fremont': 1, '52': 7, '15000270364': 1, 'ex': 10, '118': 1, 'prayers': 5, 'florin': 2, 'franklin': 6, 'es1b3lyway': 1, 'eopwbtuyr9': 1, 'hwy401': 1, 'cambridge': 2, 'opp': 2, 'enroute': 3, 'ag': 2, 'fe': 1, 'studebaker': 1, 'inj': 8, '6uhih9pbru': 1, 'hk6nqrgedb': 1, 'wlmsq3mtho': 1, 'kenai': 1, 'spur': 1, 'hbbgy2vzyt': 1, 'ozk1qhjvfh': 1, 'pmv8zdfnmr': 1, 'baltimore': 4, '54': 6, 'mchenry': 2, 'tunnel': 3, 'bore': 3, 'nort': 1, 'dilawri': 1, 'vg7jnah0iw': 1, 'kshsgwghfj': 1, 'thisisfaz': 1, 'kefxtjtakb': 1, 'techesback': 2, 'dyel9nmq0a': 1, 'vpvj5hrc1i': 1, 'yjrii5mhii': 1, 'daaamn': 1, '405': 2, 'southbound': 3, 'coal': 4, 'creek': 2, 'i580': 2, 'flynn': 1, 'onr': 1, 'in8lys7v5l': 1, 'marin': 4, 'sr37': 2, 'sr121': 1, 'unkn': 3, 'yqjvevhszx': 1, 'westminister': 1, 'sr22': 1, 'knott': 1, 'eumlca1edw': 1, 'sxqtyduvul': 1, 'starting': 8, '4000': 11, 'riverside': 1, 'i15': 3, 'sr91': 2, 'con': 5, 'qqmlkvgpqk': 1, 'uppwxda4yd': 1, 'valley': 8, 'i405': 2, 'us101': 1, 'js9ehp88wq': 1, 'missjadebrown': 1, 'tragic': 4, 'claimed': 3, 'riding': 4, 'rpda60aoni': 1, 'fowlers': 1, 'occupants': 4, 'volunteer': 2, 'joining': 3, 'excite': 1, 'ij0wq490cs': 1, '2iafpmqjep': 1, 'sacramento': 2, '5qhqo6ejtu': 1, '13pm': 1, 'mapleridge': 1, 'lougheed': 1, '203rd': 1, 'dewdney': 1, 'eto': 1, 'division': 1, 'solano': 1, 'skaggs': 1, 'mylieruxk1': 1, 'i5': 7, '43rd': 3, 'offramp': 2, 'ct9ejxolpu': 2, 'qew': 1, 'erie': 1, 'approaching': 4, 'niagara': 2, 'removed': 3, 'zl7ojdaj3u': 1, '241cn8yxjq': 1, 'kierannicholson': 1, 'ofr': 1, 'gpxqbyzyu4': 1, 'techerit': 1, 'gadget': 2, 'v3a5zqarfg': 1, 'jtxji7ygrl': 1, 'yxd4c4xlgo': 1, 'celestial': 1, 'bodies': 30, 'separate': 1, 'trajectories': 1, 'intertwine': 1, 'themselves': 8, 'wallâ': 1, 'werenâ': 1, 'warnedâ': 1, '4pqcmqchng': 1, 'grtvnews': 1, 'rhett': 1, 'motogp': 1, 'indianapolis': 1, 'espargaro': 1, 'layout': 2, 'worries': 3, 'rny4l3sr7a': 1, 'igx8xfz8ko': 1, 'meinlcymbals': 2, 'medium': 3, 'endorsement': 1, 'html5': 1, 'beginners': 3, 'y32owbrovf': 1, 'vr2u4cerw8': 1, 'fiery': 2, '0uh26r2zfx': 1, 'slamming': 1, 'lesson': 3, 'lover': 5, 'sterlingknight': 2, 'crashsterling': 1, 'carmel': 1, 'joeysterling': 1, 'knight': 2, 'daewony0406': 1, 'broadwater': 1, 'aahyoeitzl': 1, 'ulz3ubqv5z': 1, 'banjo': 1, 'pilon': 1, 'skateboarding': 1, 'wamberal': 1, '5bcoqb6cff': 1, 'bestival': 1, 'molloy': 1, '21st': 1, 'bikr8zzbha': 1, 'mm': 1, '459': 1, 'source': 4, 'st5fgblsye': 1, '0uk0h9hozn': 1, 'whipping': 1, 'yellow': 4, 'mustang': 2, 'curb': 4, 'sns': 1, 'warned': 5, 'h7ldx29aba': 1, 'crash_______': 1, 'f5ylp7pfn7': 1, 'pikin': 1, 'pascoe': 1, 'vale': 1, 'outbound': 1, 'tullamarine': 1, 'fwy': 5, 'citylink': 1, 'moreland': 2, 'rant': 2, 'apparent': 3, '8000': 1, 'xoxo': 2, 'dozens': 9, '6oqazmqa3l': 1, 'jq2ib1ob1x': 1, 'cpanel': 3, 'birkbje23e': 1, 'buzwjmw49e': 1, 'crash_matrix': 1, 'themercedesxxx': 1, 'minivan': 1, 'destinythegame': 1, 'bungie': 1, 'playstation': 2, 'experiences': 3, 'playoff': 1, 'wj5emrnkyi': 1, 'hairity': 1, 'rainbow': 1, 'spitty': 1, 'pie': 1, 'spikebot': 1, '_chelsdelong12': 1, 'kendra_leigh13': 1, 'thieves': 1, 'dealership': 1, 'gate': 4, 'steal': 5, 'killeen': 1, 'aa47axc6sr': 1, 'fz5axahpvr': 1, 'cles': 2, 'josh': 1, 'salyers': 1, 'blair': 1, 'jenna': 1, 'bdn2fdpdaz': 1, 'portmoody': 1, 'clarke': 1, 'seaview': 1, 'kemsley': 1, 'como': 3, 'gatensbury': 1, 'invited': 2, 'feelin': 2, 'soâ': 2, '9hkxxbb82o': 1, 'd2i9bl89zo': 1, 'natethewolf': 1, 'fairport': 1, 'skuqmjq7g2': 1, 'bgc14': 1, 'photoshop': 4, 'tools': 5, 'tool': 4, 'guide': 19, 'dunmvj7itl': 1, 'rgdrjv63hf': 1, 'cs6': 1, 'cvgjfpbtrn': 1, 'ugyegkfs4x': 1, 'heroin': 1, 'ojoecw29qa': 1, 'liable': 2, 'tlty2mumco': 1, 'emily_noel95': 1, 'joeylawrence': 1, 'abcfmelissajoey': 1, 'melissaandjoeychat': 1, 'akilah': 1, 'vn2fnmy7li': 1, 'barrington': 1, 'hills': 6, 'estates': 1, 'afte': 1, 'b6nphxorzg': 1, 'helmet': 1, 'silvery': 1, 'floors': 1, 'karnal': 1, 'sampling': 3, '33': 11, 'pbcanpcx': 1, 'bordentown': 1, '672by6oojn': 1, 'n5ihofdpd4': 1, 'depression': 3, 'seeds': 4, 'sown': 1, 'isn9hdz4cp': 1, 'scheer': 1, 'huebel': 1, 'flsa8mldsn': 1, 'spicybreads': 1, 'coxytown': 1, 'downloading': 1, 'tutorial': 5, 'maj': 4, 'muzzamil': 2, 'offr': 2, 'mi': 6, 'mansehra': 7, 'kl4r1ccwct': 1, 'igxrqpotm7': 1, 'avoiding': 10, 'microlight': 9, 'landi': 1, '3kpbu6hgt5': 1, 'peritoengrafoscopia': 1, '4am': 1, 'husband': 5, 'edinburgh': 6, 'adult': 9, 'neil_eastwood77': 1, 'landing': 22, 'duvuzhmvut': 1, 'mfjxh4p51u': 1, 'whoevers': 1, 'helped': 2, 'brianroemmele': 1, 'ux': 2, 'emv': 1, 'insert': 1, 'remove': 18, 'pump': 5, 'stripe': 1, 'reader': 1, 'pos': 2, 'hamayun': 1, 'shaheed': 1, 'heli': 1, '2z8ubsy5m8': 1, 'fqj0squ3lg': 1, 'ol': 3, 'hopped': 2, 'damnnnn': 2, 'rookie': 1, '_rosewell': 1, 'tu9cglmgvr': 1, 'rochdale': 1, 'heywood': 1, 'thomicks': 1, 'showing': 6, 'ipod': 2, 'weloveyoulouis': 1, 'rosannebarr': 1, 'suggest': 1, 'email': 7, 'server': 5, 'qatar': 1, 'johndcgow': 1, 'olliebailey11': 1, 'havnt': 1, 'zlboemxo2t': 1, 'windows10': 1, '3fzidhqrk3': 1, 'intact': 4, 'mh370': 95, 'lifts': 2, 'glided': 2, 'mjtn3qbgos': 1, 'yahoofinance': 1, 'bug': 8, 'euro': 5, 'kgkz50q8tk': 1, 'restive': 3, 'northwest': 5, 'qv1rmzi3j1': 1, 'pahandabear': 1, 'nethaera': 1, 'yup': 2, 'x9mdhocpda': 1, 'knocked': 2, 'yday': 1, '2day': 2, 'log': 5, 'almighty': 1, 'strength': 2, 'bear': 8, 'ei1k01zab3': 1, 'hhsn0vnyks': 1, 'thief': 2, 'hicksville': 1, 'stole': 2, 'phones': 5, 'fled': 2, '6odnbttpsq': 1, 'aqgco': 1, 'mhtw4fnet': 11, 'sources': 5, 'ticket': 4, 'departed': 1, 'xclnbvvfsi': 1, 'smusx16475': 1, 'overtook': 1, 'tru': 1, 'luv': 1, 'typing': 1, 'ants': 1, 'notes': 2, 'nightmarish': 1, 'places': 8, 'modestmouseremix': 1, 'truestory': 1, 'malfunctioning': 1, 'php': 2, 'scripts': 1, 'database': 1, 'unique': 4, 'ladh9oo086': 1, 'f496d': 1, 'ttw': 1, 'bumzvmwam3': 1, 'skh': 1, 'ashton5sos': 1, 'luke5sos': 1, 'personnel': 3, 'majors': 1, 'martyred': 1, 'corps': 1, 'wymrtwszhu': 1, '8pdnhh6tzh': 1, 'proven': 3, '9m': 1, 'iplayer': 1, 'commentary': 1, 'pkadlik': 1, 'jojowizphilipp': 1, 'crush': 54, 'viptickets': 1, 'imgunnashakeitallnight': 1, 'uagsszmu9w': 1, 'kuualohax': 1, 'posting': 3, 'womem': 1, 'mommyisbomb': 1, 'jorrynja': 1, 'bf': 1, 'ter_ell': 1, 'wce': 2, '_explicitpretty': 1, 'cfxhqhvbvb': 1, 'wedneday': 1, 'taykreidler': 1, 'loveyouuuu': 1, 'aintsheperty': 1, 'wemwdtfwic': 1, '7fqjvtd4gn': 1, 'yourboy_shawn': 1, 'ina': 2, 'buted': 1, 'samel_samel': 1, 'tbstk5vqu0': 1, 'aramis': 1, 'pitch': 5, 'strop': 1, 'overrated': 1, 'pydisney': 1, 'master0fsloths': 1, 'szx6v0bbjf': 1, 'secretly': 1, 'lmk': 1, 'fez': 2, 'an3w16c8f6': 1, 'gorgeous': 2, 'ycwaulqz3u': 1, 'moe': 1, 'bouta': 2, 'wrestling': 2, 'mmx': 1, 'featuring': 3, 'appadviceâ': 1, '5xvp1ifpmy': 1, 'designgeeks': 1, 'mrrobinson': 1, 'thesteveharveyshow': 1, 'vibe': 1, 'freakingg': 1, 'lively': 1, 'khadidon': 1, 'asoopcygwn': 1, 'yhngsjlg': 1, 'tweeted': 1, 'ioqm5bm1dg': 1, 'sandy0013': 1, 'butterflies': 2, 'starflame_girl': 1, 'wen': 3, 'z87zmi3ozs': 1, 'marketingã': 1, 'mediocrity': 1, 'ilq0wqj0xs': 1, 'aw1nytpwjr': 1, 'realize': 5, 'sevenfigz': 1, '20b3pnqxmd': 1, 'fs4y1c9mnf': 1, 'tiffanyfrizzell': 1, 'raf732vrtt': 1, 'nykaed_': 1, 'mkjo8x2dko': 1, 'jaureguiswisdom': 1, 'ive': 2, 'sooo': 2, 'team_barrowman': 1, 'fitz': 1, 'tantrums': 1, 'pwd5l0glkv': 1, 'necessarily': 1, 'xqmati4gi6': 1, 'cristianinspire': 1, 'ixjqg1sx6u': 1, 'playa': 1, 'kenny': 1, 'holland': 4, 'crushed': 50, 'nike': 6, 'sportwatch': 3, 'gps': 7, 'nikeplus': 4, 'ljiiuuatrc': 1, 'neptunia': 1, 'rank': 2, 'colosseum': 1, 'grinding': 1, 'popeyes': 1, 'bhavana': 1, 'ewnunp8hdo': 1, 'amyramponi': 1, 'negative': 8, 'prophecy': 2, 'psychat': 1, 'kg5plkedhr': 1, 'wrapup': 3, 'cable': 18, 'shares': 9, 'disappoints': 3, 'qeihvn3dnq': 1, 'shuffled': 2, 'slowly': 5, 'parlor': 1, 'ordered': 6, 'waitress': 1, 'arthritis': 1, 'dancingonhwy': 1, 'hopes': 4, 'jimmyfallon': 4, 'squirrel': 2, 'mortar': 1, 'pestle': 1, 'bio': 5, 'worstsummerjob': 4, 'edwin': 1, 'undo': 2, 'kai': 2, 'joins': 1, 'ff': 1, 'ren': 2, 'aichi': 1, 'psy': 1, 'misaki': 1, 'avril': 1, 'curtainpanel': 1, 'curtains': 1, 'decor': 3, 'blinds': 1, 'shades': 2, 'tbhbux6dc0': 1, 'mwcahill5': 1, 'mcutchen': 1, 'mango': 1, 'crpo9dkw9v': 1, 'charcoal': 1, 'handled': 1, 'stress': 5, 'exceptionally': 1, 'pressed': 3, 'cor4': 1, 'edwing': 1, 'gym': 3, 'flurry': 1, 'clearly': 8, 'priorities': 2, 'wwfacu6nft': 1, 'jmastrodonato': 1, 'ortiz': 2, 'bunting': 1, 'forefathers': 1, 'clelli': 1, 'km': 4, '41': 4, 'a3dsmbqkwu': 1, 'papi': 3, 'jfjlbf40to': 1, 'drivers': 3, 'reap': 5, 'qltwhojqya': 1, '46': 5, '7d7vweq3es': 1, 'gameofthrones': 1, 'cantstoplaughing': 1, 'zadh87pwml': 1, 'nick': 2, 'moly': 1, 'ayekoradio': 1, 'brwork': 1, 'shaken': 1, 'qh5axvhwh5': 1, 'netlabel': 1, 'electronicmusic': 1, 'ccmusic': 1, 'loraccee': 1, 'joenbc': 2, 'msnbc': 4, 'viewers': 1, 'dumb': 6, 'sells': 1, 'commenters': 1, 'dothraki': 2, 'westeros': 2, 'underestimate': 1, 'disillusioned': 1, 'character': 15, 'crowe': 1, 'tropes': 1, 'brandon_warne': 1, '462': 1, 'nora': 1, 'jones': 3, 'empire': 4, 'x9ofv1kmv7': 1, 'markwschaefer': 1, 'achbbifqrq': 1, 'welcoming': 1, 'crushedâ': 1, 'cebfbonchd': 1, 'muncapuddc': 1, 'spicenthingsup': 1, 'chapoutier': 1, 'crozes': 1, 'hermitage': 1, 'violets': 1, 'slate': 3, 'yum': 1, 'wine': 2, 'skvwn38hz7': 1, 'thecomedyquote': 1, '50shadezofgrey': 1, 'thirst': 2, 'curfew': 50, 'p45perez': 1, 'ghazalabaji': 1, 'ara': 1, 'reporting': 5, 'fighters': 5, 'infiltrated': 1, 'ashrafiyah': 1, 'afrin': 1, 'aim': 8, 'attacks': 15, 'ypg': 2, 'imposed': 1, 'keampurley': 1, 'michelleellle': 1, 'shut': 12, 'spend': 6, 'campus': 5, 'y8orqapwrk': 1, 'ejrme49rkd': 1, 'violations': 2, 'stolen': 3, 'bicycles': 2, 'cus': 2, 'overtime': 2, 'kodak': 2, 'african': 3, 'refugees': 60, 'kenye': 1, 's0usjqyije': 1, 'bobbyxfisher': 1, 'bedtime': 1, 'gotten': 7, 'btsprep': 1, 'parenting': 1, 'exofficio': 1, 'brief': 4, 'acb0ryenuo': 1, 'wnd': 3, '030': 2, 'cld': 2, 'sct014': 1, 'bkn032': 1, 'inst': 3, 'apch': 3, 'rwy': 3, 'oper': 3, '2030': 3, 'taxiways': 3, 'foxtrot': 6, 'navbl': 3, 'tmp': 3, 'emaaalay': 1, 'nope': 3, 'tutor': 2, 'preferably': 1, 'aptly_engineerd': 1, 'karli_knox': 1, 'texting': 2, 'grove': 7, 'emmychappy': 1, 'clock': 2, 'curfewbeagle': 1, 'beaglefreedom': 1, 'reddakushgodd': 1, 'smfh': 1, 'sg1ftkaegq': 1, 'everybody': 7, 'scotrail': 1, 'blind': 6, 'bloke': 2, 'hle': 1, 'benznibeadel_': 1, 'hehe': 3, 'hahaha': 5, 'na': 2, 'obligations': 1, 'daviskawalya': 1, 'mauryn143': 1, 'goodbyes': 1, 'graduated': 1, 'stupid_niggr': 1, 'doctor': 5, 'appointment': 3, 'decided': 6, '060': 1, 'damp': 1, 'qnh': 1, '1028': 2, 'oldest': 1, 'donthate': 1, 'annaesterly': 1, 'hanging': 2, 'jhdqhfatlj': 1, 'dometufnellpark': 1, 'havoc': 1, 'fest': 3, 'sct012': 1, 'bkn025': 1, 'tlk': 1, 'widout': 1, 'nuh': 1, 'di': 9, 'itz': 1, 'rubbery': 1, 'knw': 2, 'bc19': 1, 'bark': 1, 'unlocking': 5, 'dis': 5, '5pm': 4, 'themed': 3, 'given': 10, '7nlencph8x': 1, 'wonders': 1, 'lim': 1, '9pm': 4, 'leh': 1, 'oi6cmagasi': 1, 'walter': 2, 'rewatchingthepilot': 1, 'teamscorpion': 1, 'cyclone': 49, 'tropics': 1, 'cbsmiami': 1, 'miamiherald': 1, 'vi5ovsahql': 1, 'scorpion': 1, 'scorpioncbs': 2, 'revival': 1, 'ten': 10, 'annual': 7, 'hoops': 1, 'recruiting': 1, 'photography': 10, 'tjgxdc3d5p': 1, '0215': 1, 'boltã': 1, '400dr': 1, 'outlet': 2, 'packã': 1, 'cardinal': 1, 'bo': 1, 'sdb': 1, 'cnua': 1, 'blgh5btv8t': 1, 'skye': 2, 'qzyermrqtw': 1, 'n5ai9pqnjg': 1, 'mccauleysdesign': 1, 'abysmaljoiner': 1, 'dyamiplotke': 1, 'purpose': 1, '4k': 1, 'orochinagicom': 1, 'gigatech': 1, 'tropical': 12, 'forming': 1, 'guam': 2, 'molave': 1, 'severe': 71, 'bulletin': 6, 'hannaphâ': 3, 'issued': 27, 'fkojd0yqk0': 1, 'jhaustin': 2, 'ames': 2, 'tribune': 6, 'onâ': 2, 'stw3pg3t0o': 1, 'coney': 1, 'sdnt3dhs3w': 1, 'xhnews': 1, 'aliyeskii': 1, 'wquddin': 1, 'tunkhin80': 1, 'maungkyawnu': 1, 'drkhubybe': 1, 'nslwin': 1, 'ibrahimdubashi': 1, 'mdskar': 1, 'zarnikyaw': 1, 'kyawthu043': 1, 'retract': 2, 'pam': 5, 'tbbobvcotj': 1, 'wordpressdotcom': 2, 'condition': 3, 'easton': 1, 'softball': 1, 'fastpitch': 1, 'sk398': 1, 'ra2majpkq2': 1, 'y7ghhyk05b': 1, 'qhwe5k7xuw': 1, 'derives': 1, 'powers': 4, 'norman': 2, 'vincent': 1, 'peale': 1, 'erpestar': 1, 'aint': 2, 'popobawa': 1, 'revolves': 1, 'tropicalweather': 1, 'tracking': 7, '1245z': 1, 'd79laflys9': 1, 'tropicalupdate': 1, 'roughdeal1': 1, 'ante': 2, 'hudhud': 1, 'chandrababu': 1, 'valle': 1, 'ne': 5, 'komen': 3, 'devastates': 1, 'fcujsioyqo': 1, 'hanna': 2, 'fqv47ob8ge': 1, 'vanuatu': 2, 'encouraged': 2, 'afmkcfn1tl': 2, '6qzxfk2lfs': 1, 'xqv6gzzmmn': 1, 'cihc8nrc9h': 1, 'talent': 3, 'misdirection': 1, 'ignite': 1, 'vanishing': 1, 'phantom': 2, 'kurokobot': 1, 'comdev': 1, 'stations': 1, 'bangladesh': 3, 'broadcasting': 2, 'programs': 1, 'address': 7, 'upcoming': 3, 'iovr4ymlkp': 1, 'c5kjatjgzn': 1, 'imperialism': 1, 'spins': 1, 'militarism': 1, 'crushes': 1, 'peoples': 1, 'n3vbtc6nca': 1, '1970': 2, 'mercury': 3, 'moulding': 2, 'cobra': 3, '429cj': 2, 'jobvbvkfnz': 1, 'c8zpmzhtde': 1, 'waige': 1, 'scorpionpilot': 1, 'pion': 3, 'overblown': 1, 'mmzgphnknp': 1, 'majesty': 1, 'emperor': 2, 'salman': 1, 'khan': 2, 'unstoppable': 1, 'bajrangi': 1, 'bhaijaan': 1, 'crosed': 1, 'raleigh': 3, 'gear': 6, '4lppmad80g': 1, 'sportinggoods': 2, 'llefhhggrl': 1, 'quarter': 4, 'trim': 2, 'wqul8pg5px': 1, '4ykxt3kd62': 1, '945hpa': 1, 'maximum': 8, '45m': 1, 'gust': 2, '60m': 1, 'nbd5ot9iew': 1, 'cyclone_reizei': 1, 'sama': 1, 'fate': 7, 'rindou': 1, 'vroman': 1, '5oqhq8quqv': 1, 'byy4dhrqyh': 1, 'blending': 1, 'emergencies': 3, '8qqzyziaqf': 1, 'mariana': 1, 'utc': 11, 'dmnr5nkfo7': 1, 'localeventcountdown': 1, 'curtain': 1, 'shelby': 4, 'v7dcz5djdj': 1, 'rstoday': 1, 'wfp': 2, 'delivers': 20, '165000': 1, 'dhaka': 1, 'fukbbedfgx': 1, 'rodder': 1, 'keeling': 1, '427': 1, 'barracuda': 1, 'riviera': 1, 'ha3i0etk5w': 1, 'id2vgz6qew': 1, 'rohingya': 7, 'kyee': 1, 'nockthie': 1, 'hamlet': 1, 'taungbazar': 1, 'buthidaung': 1, 'severely': 1, 'damaged': 14, 'kasitaroch': 1, 'vivianunhcr': 1, 'outfit': 3, 'ootd': 1, 'doubleghats': 1, 'jsuhupz6vp': 1, 'n5vrffrbo3': 1, 'thelegendblue': 1, 'cozmo23': 1, 'ascend': 1, 'unions': 3, 'supportive': 1, 'economically': 1, '300m': 1, 'lw2fglrgxb': 1, 'tbx8cakdrw': 1, 'gta': 7, 'collateral': 1, '3460': 1, 'limestone': 1, 'ln': 1, 'yellowstone': 3, 'fieldstone': 1, 'knee': 7, 'solution': 6, 'pumbrnebje': 1, 'w2wtjys599': 1, 'smexaminer': 1, 'complaining': 1, 'phoenix': 12, 'emblem': 1, 'gigant': 1, 'difficulty': 1, 'capicapricapri': 1, 'brento_bento': 1, 'wha': 1, 'fooled': 4, 'perps': 1, 'ny35': 1, 'writebothfists': 1, 'windy': 2, 'reusing': 1, 'advanced': 3, 'equipments': 1, 'transit': 5, 'drumming': 1, 'champaign': 1, 'fdbdp': 1, 'indigo6e': 1, 'carful': 1, 'spotting': 1, 'wy': 4, 'lmâ': 1, 'frauncestavern': 1, 'granted': 2, 'nygovcuomo': 1, 'sandy': 5, 'ocadc8vfyf': 1, '90l2lb5wmr': 1, 'royals': 2, 'outs': 1, 'drothvader': 1, 'cm_nevalistis': 1, 'arachys': 1, 'pieces': 8, '2500': 3, 'mages': 1, 'fairy': 2, 'tail': 2, 'specialize': 1, 'natsu': 1, 'dragneel': 1, 'bradleybrad47': 2, 'globepolitics': 1, 'positions': 1, 'lack': 15, 'debate': 10, 'pandering': 1, 'increase': 5, 'divides': 1, 'corrodes': 1, 'goodwill': 1, 'af': 10, 'upgraded': 2, 'exclusively': 1, 'playthrough': 2, 'nyy': 1, 'fence': 1, 'homeowners': 4, 'vlaiuvtomm': 1, 'ajpnebg803': 1, 'joedawg42': 1, 'tor': 2, 'enhanced': 2, 'wording': 1, 'key': 8, 'hfxstanfield': 1, 'beelievedc': 1, 'discoverycntr': 1, 'contractor': 2, 'swb1192': 1, 'nda': 2, 'offer': 6, 'prolly': 1, 'trillion': 3, 'crosses': 3, '3rd': 5, 'instant': 3, 'np': 8, 'metallica': 1, 'inmates': 1, 'remand': 1, '1osmiuxkhw': 1, 'sectarian': 1, 'shia': 1, 'cleric': 2, 'militias': 1, 'withdraw': 1, 'fightin': 1, 'isis': 42, 'uve': 1, '0usdi5jcho': 1, 'xyg7jhrjof': 1, 'wonderousallure': 1, 'avu9b4k2rv': 1, 'thesensualeye': 1, 'model': 5, 'cam': 3, 'apr': 1, 'asian': 5, 'roadway': 1, '15901': 1, 'statesville': 1, 'vergil': 1, 'agnus': 1, 'dmd': 1, 'leedstraif': 1, 'zhrtcvu0ff': 1, 'glaucoma': 1, 'occurs': 5, 'fluid': 2, 'optic': 2, 'nerve': 2, 'eyefacts': 1, 'f_body95': 1, 'gaymaro': 1, 'reputation': 4, 'jsunnews': 1, 'madison': 3, 'ar': 12, 's7nbowa7tp': 1, '3f7owdecy7': 1, 'alpine': 1, 'fwk8pub2wf': 1, 's61': 1, '231a': 1, 'puncture': 3, 'foreign': 3, 'index': 1, 'initial': 4, 'encounter': 3, 'icd10': 1, 'richarkkirkarch': 1, 'ausinstarchitect': 1, 'queenswharf': 1, 'brisbane': 1, 'jmkywhv7mp': 1, 'financialreview': 1, 'kkkkk': 1, 'pseudojuuzo': 1, 'michaelwestbiz': 1, 'vzwsupport': 2, 'gettinglost': 1, 'jennellensbb': 1, 'muncle_jim': 1, 'superficial': 1, 'gatorgmuzik': 1, 'fettilootch': 5, 'slanglucci': 5, 'oppressions': 5, 'danger': 49, 'moll5vd8yd': 5, 'blizzheroes': 2, 'dustinbrowder': 1, 'frequently': 1, 'distraction': 1, 'realistic': 3, 'scully': 1, 'sfe': 1, 'hipsbeforehands': 1, 'changes': 14, 'wildlife': 3, 'union': 14, 'lhdcpnzx6a': 1, 'blast': 50, 'hbdo22nqpz': 1, 'dyannbridges': 1, 'yeshayad': 1, 'rockin': 4, 'preview': 5, 'claytonbryant': 3, 'ipgmf4ttdx': 1, 'artistsunited': 3, 'thunderstorms': 10, 'ugzu9iqprw': 1, 'cawx': 2, 'nwsbayarea': 1, 'carsonrex': 1, 'spaceangelseven': 1, 'p0fizxmn5r': 1, 'onceaho': 1, 'abella': 1, 'emp': 2, 'xc5rj36yv2': 1, 'alwaysaho': 1, 'fish': 11, 'eaten': 3, 'poisoned': 1, 'hskl0vq2d2': 1, 'preservation': 3, 'parks': 1, 'imposition': 1, 'imagined': 4, 'gi2p9tuvbi': 1, 'concern': 4, 'yx1ukbmtqb': 1, 'mindâ': 1, '_â': 2, 'suspense': 3, 'importantly': 1, 'nzn5ntpn75': 1, 'dangers': 1, 'interruptions': 1, 'annoy': 1, 'zh6ausfbwh': 1, 'grains': 2, 'wheat': 1, 'tresp': 1, 'lest': 1, 'therealrittz': 1, 'morehouse64': 1, 'ethical': 1, 'relevance': 1, 'theelmagoo': 1, 'gopteens': 1, 'pattonoswalt': 3, 'poisoning': 2, 'slides': 2, 'permits': 3, 'hunting': 3, 'outnumbering': 1, 'licenses': 1, 'fp64yosjwx': 1, 'petersburg': 2, 'pukesmoothie': 1, 'riverroaming': 1, 'mlp_delrim': 1, 'bluebirddenver': 1, 'prada': 1, 'films': 3, 'uber': 4, 'nonprofit': 1, 'partnerships': 2, 'h1xch54kd3': 1, 'turnedonfetaboo': 1, 'hsjb215': 1, 'e1wrvyzfkv': 1, 'thetxi': 1, 'gunnersfan89': 1, 'ham': 2, 'relegation': 1, 'afc': 2, 'remainontop': 1, 'excitement': 3, 'underwater': 2, 'cave': 5, 'diving': 11, '8c3fploxcr': 1, 'cbgz9xun2k': 1, 'allen': 1, 'present': 8, 'gh2vkb1zu5': 1, '0smhjxwcbo': 1, 'fresenius': 1, 'patients': 2, 'violation': 2, 'ppe': 1, 'protection': 2, 'dehydration': 1, 'a5gnzbusqq': 1, 'spider': 5, 'someones': 1, 'smth': 1, 'critical': 6, 'pundit': 1, 'grave': 1, 'rails': 2, 'skyler': 1, 'yl67dkf4tb': 1, 'investigate': 4, 'robert': 4, 'mueller': 1, 'complaints': 2, 'nov': 1, 'pe2d3hcsni': 1, 'james_may_not': 1, 'amusicvideoaday': 1, 'knelligan12': 1, 'king_ruckus': 1, 'operate': 1, 'outskirts': 3, 'modibo': 1, 'maiga': 1, 'coyi': 1, 'unitedutilities': 1, 'received': 3, 'parasite': 1, 'transplantee': 1, 'kidney': 1, '9aassfrdp1': 1, 'courage': 3, 'engage': 2, 'rgpem2tqej': 1, 'remote': 1, 'ki9ehjhl8y': 1, 'silent0siris': 1, 'norse': 1, 'landscapes': 1, 'loads': 4, 'boring': 3, 'snotgreen': 1, 'wastelands': 1, 'cjbanning': 1, '4sake': 1, 'argsuppose': 1, 'born': 7, 'attained': 2, 'individl': 1, 'rights': 10, 'courtof': 1, 'forbids': 1, 'goku': 2, 'birb': 1, 'naaa': 1, 'legit': 5, 'sore': 2, 'j4fsdpfa63': 1, 'considered': 1, 'makers': 1, 'essxzdtcqj': 1, 'possum': 1, 'x6mzdbntrp': 1, 'luis': 3, 'hhahaha': 1, 'iw1sdopmvr': 1, 'intense': 3, 'nd': 9, 'attractive': 2, 'soapscoop': 1, 'yh': 1, 'gailsimone': 1, 'iwasdisappointedby': 1, 'telltale': 1, 'gameplay': 6, 'mikeparractor': 11, 'unconscious': 2, 'dramatic': 11, 'teases': 3, 'hundreds': 54, 'libyan': 1, 'migrant': 13, 'capsizes': 14, 'mjoeebdlxn': 1, 'fven1ex0ps': 1, 'waved': 1, 'misled': 2, 'jones94kyle': 2, 'askcharley': 2, 'nooooo': 1, 'hotty': 1, 'lvolntswdz': 1, 'flaming': 4, 'stark': 1, 'perspectives': 2, 'writings': 1, 'contributions': 1, 'fmu0fnumxf': 1, 'aggryhvxkr': 1, 'hlportal': 1, 'download': 21, 'kg4vaal': 1, 'lmaov': 1, 'trend': 4, 'babalmao': 1, 'nyozi': 1, 'kwaaaaa': 1, 'reckon': 2, 'pete': 2, 'noooooooooooo': 1, '411naija': 1, 'kaduna': 8, 'yavl49doof': 1, 'bailed': 1, 'nite': 1, 'b4': 7, 'bhsuxvq6nf': 1, 'moore': 3, 'octnpyueei': 1, 'feelings': 7, 'suing': 1, 'prater': 1, 'pronounced': 1, '_tonedidit': 1, 'atchisonsean': 1, 'wyrmwood': 1, 'ripross': 1, 'lgqmdnavdf': 1, 'bff': 4, 'boys': 17, 'otp': 1, 'ssshhheeesshh': 1, 'rep': 5, 'vibrator': 1, 'shaped': 3, 'vape': 1, 'busted': 1, 'baeffee': 1, 'randompelar': 1, 'whoo': 1, 'evedsu5pb0': 1, 'bunk': 1, 'plague': 6, 'yohvuwumzs': 1, 'console': 3, 'ring': 8, '5gktshiorr': 1, '9jeuu86koi': 1, 'gainesville': 1, 'ferguson': 11, 'h9vmmdebdx': 1, 'papiichampoo': 1, 'era': 3, 'civility': 1, 'prez': 2, 'supports': 3, 'jpu3es746i': 1, 'jeromekem': 1, 'nq89drydbu': 1, 'iranians': 3, 'chants': 1, 'cousins': 1, 'hang': 4, 'rss': 2, 'recognize': 11, 'spouse': 1, 'certificate': 2, 'tziolfte5i': 1, 'rrod': 1, 'byâ': 9, 'ipqcct5hgc': 1, 'oofpefrh3r': 1, 'involves': 1, 'kicking': 1, 'nobleman': 1, 'elven': 1, 'lma39zrwoy': 1, 'seemeth': 1, 'unto': 2, 'thereof': 2, 'kellkane': 1, 'narrowly': 1, 'headache': 1, 'ecmujkkqx1': 1, 'arianagrande': 12, 'screamqueens': 2, 'katherine': 2, 'allahsfinest12': 1, 'starve': 1, 'itristontyler': 1, 'confession': 2, 'hamster': 1, 'froze': 2, 'bashes': 2, 'comparison': 3, 'cufgvupkzi': 1, 'oifn28hpcs': 1, 'leaks': 3, 'maintenanceâ': 1, 'pvd2fyba0q': 1, 'revolt': 3, 'xrg0facl6t': 1, 'swearyg': 1, 'punishable': 1, 'uploading': 2, 'smoochy': 1, 'awakenings': 1, 'clips': 1, 'bicentennial': 1, 'txetcysm1h': 1, 'cyprus': 2, 'analysis': 6, 'mullah': 3, 'omar': 3, 'taliban': 2, 'ranks': 1, 'demise': 1, 'ajkmcuswho': 1, 'molys': 1, 'tradery': 1, 'deaths': 53, 'statistics': 2, 'spirituality': 1, 'spiritual': 1, 'awakening': 1, 'z0ugkqi6km': 1, 'charlesfrize': 1, 'frizemedia': 1, 'dynamicfrize': 1, 'slain': 2, 'journalist': 6, 'unknowingly': 1, 'predicted': 7, 'qxhowcv16r': 1, 'breitbartnews': 1, 'sedan': 1, 'pusssssssssy': 1, 'shoook': 1, 'kaay_paat': 1, 'cecilthelion': 5, 'postponed': 1, 'fnmje8gf7m': 1, 'nye8ae2ifr': 1, '53': 5, 'marilyn': 1, 'monroe': 1, 'ripriprip': 1, 'ari': 2, 'hints': 1, 'snippets': 1, 'chick': 3, 'fil': 2, 'legionnaires': 77, 'rises': 5, 'nql21ajmiv': 1, '18xq3fmuge': 1, 'vaxshill': 1, 'measles': 2, 'complications': 2, 'looses': 2, 'crickets': 2, 'bigamist': 6, 'firstâ': 2, 'secondâ': 2, 'pregnant': 7, 'uâ': 2, 'i77': 1, 'airlift': 1, 'lolgop': 1, 'voter': 3, 'fraud': 1, 'vra50â': 1, 'palermo': 2, 'shipwreck': 3, 'tm9zbhjcyf': 1, 'bsf': 1, 'jawans': 1, 'fidayeen': 1, 'aks': 1, 'insas': 2, 'rifles': 2, 'blame': 6, '1lk1eqwyuw': 1, 'breast': 1, 'milk': 3, 'superfood': 1, 'worldwide': 2, 'stalled': 3, 'contributing': 2, '800000': 2, 'pedestrians': 2, 'bicyclists': 1, 'runners': 1, 'truediagnosis': 1, '250k': 1, 'physician': 1, 'dutyzqr2p7ã': 1, 'oznsxxvxâ': 1, 'cdcwhistleblower': 1, '4a1fsweppg': 1, 'dlaub2nvtn': 1, 'betrayedhunter': 1, 'paused': 1, 'deeper': 1, 'foodborne': 1, 'illness': 2, 'frackfreelancs': 1, 'dears': 2, 'deccgovuk': 1, 'frackfree_eu': 1, 'tarleton_sophie': 1, 'jsccx8k0ja': 1, 'drfriedencdc': 1, 'resistant': 9, 'infections': 2, 'niv8x5tbe0': 1, 'adiossuperbacterias': 1, 'motherâ': 1, 't5hwunjk7g': 1, 'irony': 2, 'dbu30obdxz': 1, 'strickskin': 1, 'nickscomics': 1, 'usually': 11, 'objective': 1, 'older': 3, 'p8yr2po6jn': 1, 'nghlth': 1, 'xrja0xpl40': 1, 'eazzy_p': 1, 'seemed': 4, 'beliefs': 2, 'warranted': 1, 'focus': 8, '6m0ynjwbc9': 1, '39': 6, 'fsx2h9xaki': 1, 'constitute': 1, 'epidemic': 1, 'jblrrnmdsm': 1, 'publichealth': 2, '1outside': 1, 'liz': 1, 'napviygkyk': 1, 'stewart': 5, 'julian': 2, 'earlier': 16, 'anp9g6njfd': 1, 'tim55081': 1, 'bootlegalbano': 1, 'shaunking': 3, 'profits': 1, 'weyburn': 1, 'warn': 4, 'fentanyl': 1, 'province': 3, '8bqjtp6id5': 1, '8kjs7zqajs': 1, 'annoying': 3, 'iladqebxpn': 1, 'gregorysanders': 1, 'usdot': 1, 'stat': 1, 'auto': 6, 'applies': 2, 'lightrail': 1, 'cancers': 3, 'equate': 2, 'blackpool': 2, 'kowing': 2, '5lnidvobff': 1, 'beclearoncancer': 2, 'mohammedzismail': 1, 'gunsmissilesbombs': 1, 'warfare': 5, 'neonatal': 1, 'minister': 9, 'guyana': 1, 'imugnxrebn': 1, 'highqualitybird': 1, 'reverse': 2, 'specifically': 1, 'utilized': 1, 'chrissie': 1, 'adam': 3, 'finn': 1, 'mathew_is_angry': 1, 'z3ke_sk1': 1, 'saladinahmed': 1, 'fco': 1, 'tobias_ellwood': 1, 'condemns': 1, 'resulted': 6, 'c3w95h0ozz': 1, '11dvqjvxpo': 1, 'critters': 1, 'dxkt2shuj2': 1, 'msha': 1, 'enforcement': 2, '4hm34lruer': 1, 'elkodaily': 1, '1940': 1, 'angela': 1, 'sanders': 1, 'roundhouse': 1, 'increased': 5, '13000': 4, 'percent': 12, 'mothe': 2, 'rh15ggsgqg': 1, 'walmart': 5, 'steps': 9, 'innovative': 1, 'z3nevglufm': 1, 'beluga': 1, 'seaworld': 1, 'average': 4, 'opseaworld': 1, 'mzk5ujlfcv': 1, 'rteugb5tnv': 1, 'mayoroflondon': 1, 'compulsory': 1, 'uses': 6, 'notrocketscience': 1, 'ys2bveklxk': 1, 'aerospace': 1, 'exec': 1, 'th': 13, 's2wm8lh7oo': 1, 'malaysia': 64, 'airlines': 15, 'flight': 28, '370': 7, 'disappeared': 2, '17months': 1, 'nrhurysypd': 1, 'mrvxbzywd4': 1, 'discovered': 10, '7fsn1gewux': 1, 'q1glk8plud': 1, 'vuojprkuax': 1, 'confirms': 12, 'bmxsndx14g': 1, 'hhwv0eudfv': 1, 'bze47fzkud': 1, 'jetâ': 1, 'floated': 6, 'rã': 9, 'york': 23, 'pnnunrnqja': 1, 'surely': 4, 'gyqlaoz3l2': 1, 'vfbw3nyo9l': 1, 'disappearance': 3, 'novel': 4, 'otsm38xmas': 1, 'relatives': 7, 'discovery': 5, 'dfyasvj7nf': 1, 'nbcnightlynews': 1, 'malaysian': 12, 'billneelynbc': 2, 'foutpwgfwy': 1, 'wreckage': 52, 'krvummtvy2': 1, 'najib': 3, 'razak': 1, 'isla': 2, 'fk1l4nozig': 1, 'exznmxbinj': 1, 'r6kzsqdghz': 1, 'zxcorq0a3a': 1, 'closure': 4, '2963y36ldf': 1, 'hj1bx8bgu1': 1, '1zfgk9et5v': 1, 'f75qwyeeec': 1, 'x3rcchkago': 1, 'c5jutfxbm9': 1, '6ime8kjacv': 1, 'yklruimisd': 1, 'ba4pusvjln': 1, 'ys3walzvjg': 1, 'kamindoz': 1, 'xrdwr8cdvm': 1, 'fxtffl4axy': 1, 'belongs': 3, 'jkc0diqvxc': 1, 'breakth': 1, 'mgyvglenks': 1, 'onlinemh370': 1, 'onlinea': 1, '1beegwrsis': 1, 'drculiyp0t': 1, 'confident': 1, 'recovered': 3, 'rlftjmhhvt': 1, 'kxy56fr8vm': 1, 'investigators': 50, 'conclusively': 35, 'ukozwid5k3': 1, 'onlin': 1, 'n3lndjkyo3': 1, 'jaswg2mwii': 1, 'qgk64ypn13': 1, 'bd3ik4oz2r': 1, '950xijhnvh': 1, 'q0ojwny4kc': 1, 'hes0bpu60y': 1, 'dustpiggies': 1, 'awash': 1, 'abstract': 1, 'dustpig': 1, 'explains': 4, 'deluge': 44, 'xeni': 1, 'joshsternberg': 1, 'rmt': 1, 'browne': 1, 'listeners': 1, 'requests': 3, 'romeocrow': 1, 'organizing': 1, 'package': 1, 'tours': 1, 'yyeso': 1, 'apologise': 1, 'sincerely': 1, 'inevitable': 3, 'grudges': 1, 'decide': 6, 'unfollow': 1, 'baking': 1, 'cakes': 5, 'liquidslap': 1, 'ja': 3, 'possibly': 6, 'candidate': 2, 'nlm_dimrc': 1, 'resources': 4, 'floods': 79, 'providers': 1, 'auoeyirqe6': 1, 'towboat': 1, 'sympathy': 3, 'vtc': 1, 'eaaqumkkc9': 1, 'eulogies': 1, 'whatsapp': 2, 'tormented': 1, 'matias': 1, 'xavier': 1, 'we3fordemocracy': 1, 'rowers': 1, 'tweeting': 3, 'nats': 2, 'celeb': 1, 'endorsements': 1, 'wa': 10, 'smiles': 2, '4yi4nuovbv': 1, 'yahoo7': 1, 'delaying': 1, 'fundamentals': 1, 'valuations': 1, 'fwikyurc18': 1, 'despite': 5, 'cuana': 1, 'minded': 6, 'forrestmankins': 1, 's0vgtkhw7v': 1, 'ciostrategyau': 1, 'applicable': 1, 'battles': 3, 'ciqskwgdjj': 1, 'trois': 1, 'rivieres': 1, 'legionstrackandfield': 1, 'pue5xnznqb': 1, 'normally': 1, 'embrace': 2, 'odd': 5, 'torso': 3, 'scale': 3, 'unprecedented': 2, 'theburnageblue': 1, 'favs': 2, 'torrent': 1, 'client': 5, 'recommended': 2, 'java': 1, 'dynastic': 1, 'period': 4, 'yr8knephgu': 1, 'dumuzid': 1, 'shepherd': 6, 'theghostparty': 1, 'vines': 1, 'encaustic': 1, 'cerography': 1, 'portion': 3, 'byityf': 1, 'i7ap1mes8m': 1, 'surf': 5, 'motion': 2, 'therapy': 5, 'programme': 2, 'vjsaqpxngn': 1, 'ensembles': 1, 'optimistic': 2, 'operational': 1, 'counterpart': 1, 'stephaniemarija': 1, 'dressing': 1, 'incessant': 2, 'perhaps': 4, 'applied': 2, 'childsexabuse': 1, 'truly': 7, 'backs': 2, 'unloads': 1, 'descriptive': 1, 'indecency': 1, 'chuckswindoll': 1, 'iflcanada': 1, 'owners': 7, 'differently': 2, 'pt1': 1, '9utqe9zfde': 1, 'slew': 1, 'posts': 13, 'fixed': 4, 'unfml': 1, 'boyhaus': 1, 'heaven': 9, 'jakeã': 1, 'warm': 4, 'montanaâ': 1, 'fid3z4x3s5': 1, 'ing': 1, 'gishwhes': 1, 'soaked': 1, 'pads': 1, 'tampons': 1, 'mishacollins': 2, 'fiendnikki': 1, 'havin': 2, 'flashbacks': 3, 'lived': 5, 'weimar': 1, 'berlin': 2, 'hustlin': 1, 'unter': 1, 'der': 2, 'linden': 3, 'wrinkled': 1, 'decayed': 1, 'schelbertgeorg': 1, 'teaching': 3, 'shadowman': 1, 'monstrosities': 1, 'tbpqlyfyot': 1, 'hdckeposqc': 1, 'hough_jeff': 1, 'dougkessler': 1, 'b2b': 1, 'b2bagency': 1, 'enqgtbaxuj': 1, 'slideshare': 1, 'contentmarketing': 1, 'healing': 3, 'translated': 1, 'dmrsyeiqz3': 1, 'vince': 2, 'mcmahon': 2, 'billionaire': 2, '350': 1, 'ko0oz3ryfg': 1, 'bigdata': 1, 'khatzh7agz': 1, 'nfl': 5, 'deflategate': 1, 'incremental': 1, 'wanting': 5, 'search': 17, 'frustrated': 1, 'quantitâ': 1, '_https': 1, '64cymg1ltg': 1, 'asae15': 1, 'exhibitor': 1, 'r8ceprqxle': 1, 'nchat': 1, 'meditationbymsg': 1, '45600': 1, 'meditation': 1, 'divine': 1, 'blessing': 1, 'vmf5lnxvzc': 1, 'canadian': 2, 'tops': 3, 'downright': 1, 'novalismi': 1, 'mallord': 1, 'william': 3, 'turner': 1, '1843': 1, 'clicca': 1, 'sul': 1, 'titolo': 1, '458dtr3ulx': 1, 'decade': 1, 'billion': 5, 'harperslegacy': 1, 'deluged': 50, 'unhappiness': 6, 'quiz': 29, 'blbvvpbw2z': 1, '05qooc9cbr': 1, 'image': 27, 'jcagecqfh2': 1, 'nh313adkz4': 1, 'tons': 5, 'telemarketing': 1, 'floodwater': 1, 'persistent': 2, '4wedzrswbn': 1, 'invoices': 16, 'shape': 23, 'anq': 1, 'likkly': 1, 'os': 4, 'mud': 4, 'tetovoâ': 1, 'xphz3gouhr': 1, 'deutsche': 1, 'sprache': 1, 'thewesterngaz': 1, 'susinesses': 1, 'stlnd': 1, 'glimpses': 3, 'hyderabad': 4, 'rainfall': 4, 'dctv1ujlhc': 1, 'qox1jnqsau': 1, 'cre': 1, 'cile': 1, 'doczone': 1, 'cbc': 6, 'che': 2, 'colo': 1, 'lzkely': 1, 'poorly': 2, 'indie': 2, 'teens': 2, 'escaping': 2, 'farms': 1, 'ris': 2, 'togthe': 1, 'abe': 5, 'xspqdoriqj': 1, 'cqyvfr4ucy': 1, 'invokces': 1, 'xuyfzkz4k0': 1, 'yupkvdih8m': 1, 'standwout': 1, 'lisatoddsutton': 1, 'bcz': 1, 'senate': 6, 'murphy': 1, 'republican': 6, 'junk': 3, 'invoicesx': 1, 'ou': 1, '1pflm532mg': 1, '58qrugzvg0': 1, 'thesewphist': 1, 'holds': 3, 'wineisdumb': 1, 'com': 4, 'spam': 3, 'meant': 5, 'olour': 1, 'tarp': 1, 'outfield': 1, 'infield': 1, 'invoicew': 1, 'colouj': 1, 'ikely': 1, 'kickstarter': 1, 'inroices': 1, 'squabble': 1, 'immigration': 1, 'eurotunnel': 2, 'migrants': 56, 'vf6cklmcsx': 1, 'oup': 1, 'ivoices': 1, 'invzices': 1, 'sllikely': 1, 'pileq': 1, 'accionempresa': 4, 'v1sfllowgh': 1, 'gerenciatodos': 4, 'qn4zyisspo': 1, '3vwp7wd56w': 1, 'ogt': 1, 'colomr': 1, 'urs': 2, 'valdes1978': 1, 'testy': 1, 'hatred': 3, 'patience': 22, 'friending': 1, 'waters': 4, 'headingâ': 1, 'twfwtxz2ds': 1, 'alerts': 2, 'afterwards': 1, 'savour': 1, 'prolong': 1, 'sigue': 1, 'dismay': 1, 'surrendered': 1, 'descending': 1, 'disturbed': 1, 'sunrise': 1, 'haiku': 1, 'poetry': 3, 'wimberley': 1, 'atx': 1, 'smtx': 1, 'z9fdebg5fm': 1, 'cruddy': 1, 'ostensibly': 1, 'macabre': 1, 'contribute': 2, 'pandemic': 2, 'ant': 2, 'capital': 3, 'winged': 1, 'insects': 1, 'mnkoyz76cp': 1, 'rand': 2, 'strategy': 12, 'demolish': 48, 'qzdqrbr4lh': 1, 'barton': 2, 'inxvexrsyv': 1, 'enugu': 19, 'structures': 9, 'international': 20, 'daqszzubub': 1, 'mskn6d3ekh': 1, 'abbswinston': 7, 'zionist': 8, 'tire': 4, 'bethlehem': 4, 'om3ntqih2m': 1, '6sas3fuaha': 1, 'cottages': 1, '3kuxonochl': 1, 'southend': 1, 'enqascgfyw': 1, 'doone': 1, 'architects': 1, 'permission': 1, 'natwest': 1, 'tower': 3, 'cityâ': 1, 'tallest': 1, 'createdunique23': 1, 'keren_serpa': 1, 'arianareed11': 1, 'pcinc8ytfh': 1, '9hq5miwxfu': 1, 'ce': 1, 'w56cf75mxe': 1, 'badotweet': 1, 'kirkmin': 1, 'barthubbuch': 1, 'weei': 1, 'bait': 1, 'patriot': 2, 'hater': 1, 'brady': 3, 'etoffe': 1, 'charmeuse': 1, 'clothesless': 1, 'precisionistic': 1, 'vestment': 1, 'psfda': 1, '7k5shaiqiw': 1, 'hired': 2, 'goodrich': 1, 'miami': 5, 'files': 5, 'bankruptcy': 1, 'tulsa': 1, 'manufacturing': 1, 'uk7ywsvmga': 1, 'bzinn2wxhu': 1, 'corrupt': 1, 'vandalise': 1, 'aliyu': 1, 'mani': 1, 'secschoolinnigeria': 1, 'ouylwuixcs': 1, 'anakasparian': 1, 'whiny': 1, 'aboooooortiooooonnnnns': 1, 'defundpp': 2, 'buys': 1, 'napa': 1, '2zev1zyttg': 1, 'ashton': 2, 'irwin': 2, '5sosquotes': 1, 'xgn_infinity': 1, 'ronin_carbon': 1, 'hahah': 2, 'preset': 1, 'bal': 2, 'nades': 1, 'radar': 6, 'unconsciously': 1, 'midget': 2, 'inspiration': 3, 'pen': 1, 'jordan': 6, 'rg3bndkxjx': 1, 'bq90pfzmrp': 1, 'mariomaraczi': 1, 'freaked': 1, 'akwa': 1, 'ibom': 1, 'uruan': 1, 'embly': 7, 'udom': 1, 'emmanuel': 1, '1cnw6nska5': 1, 'laundry': 2, '6supthaece': 1, 'kp': 2, 'root': 10, 'absurdly': 1, 'menâ': 1, 'vtp8i8qlen': 1, 'avigdorliberman': 1, 'susiya': 1, 'beheadings': 1, 'li8otxt8hh': 1, 'sks5jccrj2': 1, 'postal': 1, '7mepkbf9e8': 1, 'xcgzc45gys': 1, 'demolished': 54, 'knlzfc8qsl': 1, 'bq67udctjc': 1, 'murlo': 1, 'android': 3, 'tribez': 1, 'pbclfsxrld': 1, 'androidgames': 1, 'gameinsight': 1, 'wisdom': 4, 'economists': 1, 'establishment': 2, 'nonsense': 3, 'h8nktqu5o9': 1, 'propagating': 1, 'jolly_jinu': 1, 'babri': 1, 'todayhave': 1, 'revenge': 1, 'businessman': 1, 'foiled': 1, 'troupe': 1, 'racial': 2, 'breakdancers': 1, 'orianna': 1, 'xd': 6, 'winningwhit': 1, 'emble': 1, 'rn2mdghfo1': 1, 'ghostwriting': 1, 'rihanna': 2, 'k2bzuatuks': 1, 'arin': 1, 'gummy': 1, 'grumpout': 1, 'srsly': 1, 'partner': 3, 'dribbling': 1, 'nostrils': 2, 'urself': 1, 'whether': 5, 'embarrment': 1, 'charminar': 1, 'engineers': 2, 'telangana': 1, 'beastin': 1, 'tapas': 1, 'folk': 2, 'funtimes': 1, 'jxuepkmkrh': 1, 'jsf5ofb3m6': 1, 'wagingnv': 1, 'hskd5muosm': 1, 'historical': 3, 'bigfoot': 1, 'landmark': 1, 'bluff': 3, 'resort': 3, 'pictured': 2, 'above': 7, '1976': 4, 'tw0sev1n6c': 1, 'bosvsnyy': 1, '64oz': 1, 'jar': 2, 'colts': 3, 'patriots': 1, 'whine': 1, 'integrity': 6, 'cantmakeitup': 1, 'patriotsnation': 1, 'tpw5gpmhq4': 1, 'spring': 21, 'justâ': 6, 'saddlebrooke': 6, '7fonhqtlyv': 1, 'flunkie': 1, 'angusmacneilsnp': 1, 'embarred': 1, 'indy': 2, 'bananalivesmatter': 1, 'hoteplivesmatter': 1, 'hotepina': 1, 'mdkv7c3el4': 1, 'teeth': 3, 'alfredo': 1, '_stiiilo': 1, 'gamer': 1, 'backtoback': 1, 'chargedup': 1, 'media420': 1, 'papicongress': 1, 'journo': 1, 'pragnik': 1, 'ramdog1980': 1, 'beit': 2, 'kahel': 1, 'hebron': 3, 'kbstrxnhup': 1, 'sounders': 1, 'finish': 3, 'periscope': 2, 'gofundme': 4, 'rims': 1, 'helpabrotherout': 1, 'restaurants': 3, 'chik': 1, 'snowball': 2, 'b8n6e4ryvz': 1, 'palestinians': 6, 'kidnapped': 11, 'j9uziiq3px': 1, 'uttarakhand': 1, 'corruption': 2, 'oneindia': 1, 'ro1awwudye': 1, 'ilovenuiharime': 1, 'underconstruction': 1, 'builder': 2, 'luxuryhomes': 1, 'townhouses': 1, '6id7czvmed': 1, 'splottdave': 1, 'teampalestina': 1, '28700': 1, '1967': 1, 'home2': 1, 'suites': 1, 'salvi': 2, 'bistro': 2, 'makeâ': 1, 'paobghv3c7': 1, 'bbsnews': 1, 'gne1fw0xhe': 1, 'david5fernandez': 1, 'theblaze': 1, 'election': 6, 'vcjcykq8b8': 1, 'stallion150': 1, 'kbeastx': 1, 'genisys': 1, 'hibdw7d7ja': 1, 'imullbvued': 1, 'optic_dkarma': 1, 'danisnotonfire': 3, '528472': 1, 'chargers': 2, '1pxpoqktjo': 1, 'jackmulholland1': 1, 'marquis': 1, 'carlos': 2, '9lpf4v4hmq': 1, 'bd5b5yffyb': 1, 'who_mikejoness': 1, 'unrecognized': 1, 'ik8m4yi9t4': 1, 'fridge': 1, 'demolition': 46, 'rdd5fe1qyj': 1, 'aaffndcdnq': 1, 'selection': 4, 'consis': 1, 'wmu2vuncke': 1, '7k9rczd2o6': 1, 'epa': 1, 'norkxbrs6g': 1, 'davidvonderhaar': 3, 'youd': 1, 'consistently': 2, 'yoâ': 1, '637rc3qc8d': 1, 'tegajmr8il': 1, 'watering': 1, 'defends': 1, 'dto0uljxn3': 1, 'freestyles': 1, 'cemetery': 1, 'infuriates': 1, 'cultural': 3, 'vplzkuidz2': 1, 'maxsys': 1, 'halifax': 3, 'qtizcbww7g': 1, 'metrotown': 1, 'resulting': 2, 'maintained': 1, 'burnaby': 1, 'changefortheworse': 1, 'factors': 3, 'noxdv': 1, 'sections': 2, 'greystone': 1, 'psychiatric': 4, '85885473': 1, 'lzljzzkcfa': 1, 'carthage': 1, 'celebrity': 1, 'celebrities': 3, '159': 1, 'fjddx43ewj': 1, 'messnermatthew': 1, 'newcity': 1, 'frog': 3, '81neizeknm': 1, 'flint': 2, 'michigan': 6, 'metropolis': 2, 'highsmith': 2, 'zvobmdxhgp': 1, 'canberra': 2, 'currong': 1, 'zyrr8dzjx6': 1, 'd3ctni8qit': 1, 'abbruchsimulator': 1, 'waterways': 4, 'achimota': 3, '233liveonline': 5, 'io7kuug1uq': 3, 'buzzing': 1, 'billy': 2, 'yorkâ': 1, 'nau': 1, 'coliseumâ': 1, 'xj3asw5okj': 1, 'epca4oxaq2': 1, 'delmont': 1, 'onion': 1, 'purchased': 2, 'yojkfqej6s': 1, 'czallstarwes': 1, 'fj7p8a1hvm': 1, 'nmgp7imeii': 1, 'demolition_d': 1, 'grill': 11, 'fkn': 3, 'pleb': 1, 'ffa': 1, 'foodstand': 1, 'fairgrounds': 1, 'finishing': 3, '9am': 2, 'appreciated': 2, 'dodging': 2, 'affordable': 2, 'krgnnxj2sa': 1, 'demo': 1, 'kenosha': 1, 'johnny_detroit': 1, 'intro': 2, 'opponents': 2, 'motel': 1, 'nears': 3, 'fkx4ih7km1': 1, 'n8vcxgyhq8': 1, 'flesh': 3, 'personally': 4, 'inthespiritwebuild': 1, '2gether': 1, 'mentalhealthgov': 1, 'ahhhhh': 1, 'alec': 1, 'med': 14, 'tort': 1, 'comp': 2, 'injustice': 2, 'mh': 1, 'qejedwsfdg': 1, 'samajp32': 1, 'weight': 5, 'soonersportstv': 1, 'cont': 4, '2o7eva1coe': 1, 'kit': 17, 'dren': 1, 'fhkhcqpl7j': 1, '77ciwxabvaâ': 1, '_t': 1, 'mothernaturenetwork': 2, 'seattleâ': 1, 'upâ': 1, 'szg0hsnjew': 1, 'paint': 4, 'treyarch': 1, 'quarters': 2, 'detains': 1, 'xuub2hbli5': 1, 'h5epx2d1ga': 1, '4cpnbbzkzg': 1, 'orcas': 1, 'widespread': 3, '65xr1p9soo': 1, 'zhejiang': 1, 'removal': 3, '1200': 3, '8picbkdjm0': 1, 'ou_football': 1, 'throughout': 5, 'ju09z2y7g0': 1, 'up0hocggrj': 1, 'jose': 2, 'willow': 1, 'glen': 1, 'trestle': 1, 't4axz7kc3s': 1, 'fluffy': 1, 'schedule': 5, 'b77t2qxdcs': 1, 'intriguing': 1, 'dominant': 2, 'jobbing': 1, '1xssvgimvb': 1, 'shantaeskyy': 1, 'enemy': 11, 'derail': 48, 'destiny': 11, 'blessings': 10, 'hereâ': 6, 'imtygds5qo': 1, 'wmata': 12, 'morn': 2, 'uhl0akfvsm': 1, 'sms': 3, 'modelbubbles': 1, 'hajirah_': 1, 'emiiliexirwin': 1, 'birth': 5, 'blaming': 2, 'aleshabell': 1, 'bv': 1, 'bloomberg': 4, 'publish': 1, 'activities': 2, 'unite': 1, 'freesikhpoliticalprisnors': 1, 'bapusuratsingh': 1, 'rail': 11, 'madhya': 22, 'pradesh': 22, 'wgmzmj5imd': 1, 'gridlock': 2, 'pm2tnnfdww': 1, 'temecafreeman': 1, 'simultaneous': 2, '4kbwpcmmbm': 1, 'ijdepwuyny': 1, 'fu1btuq1et': 1, 'alllivesmatter': 2, 'incredibly': 3, 'necessary': 3, 'intentions': 2, 'pitfalls': 1, '48vg4rksqt': 1, 'thejenmorillo': 1, '9ufemkfiiv': 1, 'dallas': 4, 'ao4ju9vmmf': 1, 'queenbrittani_': 1, 'gloriavelez': 1, '8217': 2, '4aonq9vnhs': 1, 'pumpkinmari_bot': 2, 'lemme': 3, 'quivk': 2, 'tubestrike': 9, 'mood': 7, 'pisco': 1, 'coya': 1, 'ppekbqdcnc': 1, 'smithsonian': 9, 'wsjthinktank': 1, 'colleenmnelson': 1, 'xyxtuaczvb': 1, 'wmutcdg36b': 1, 'kamayani': 1, 'janata': 1, 'gratia': 1, 'announced': 2, '6sdtzsgelq': 1, 'various': 2, 'zhsll7swbh': 1, 'hollyclegg': 1, 'carb': 2, 'treats': 1, 'diabetes': 1, 'meal': 1, '2c66dctrg0': 1, 'thedx': 1, 'a6g0arsztp': 1, 'buyout': 2, '6bn': 1, 'worldpay': 1, 'ipo': 1, 'skyã': 1, '94gjskur0r': 1, 'zkkn6mse1n': 1, 'fzhjf8bxld': 1, 'b0zwi0qptu': 1, 'ashleydniece': 1, '2fs649qdwx': 1, 'renamed': 1, 'italian': 12, 'goonda': 1, 'motley': 1, 'hooligans': 1, 'selfavowed': 1, 'crooks': 1, 'determined': 2, 'hillaryâ': 1, 'eruptions': 1, 'questionable': 1, 'dealings': 2, 'kal1s5mg2z': 1, 'politicsisdirty': 1, 'bcc': 1, 'increases': 1, 'recovery': 8, 'commentating': 1, 'todayâ': 2, 'decis': 1, 'aftpebikbo': 1, 'vivigraubard': 1, 'sideness': 1, 'graf': 1, 'obvious': 3, 'backtracking': 1, 'nb8yzeci6i': 1, 'whywebike': 1, 'bikecommute': 1, 'dysfunctionalredline': 1, 'mzmandilynn': 1, 'indiahttp': 1, 'informationng': 1, '309943': 1, 'donzilla': 1, 'trump2016': 1, 'xvaoqo4egr': 1, 'rushlimbaugh': 1, 'democrats': 2, 'clintons': 1, 'meddling': 1, 'meisnkv5tb': 1, 'judgement': 1, 'mpc': 1, 'fvlgu1nayr': 1, 'coolbreezet': 1, 'derailed': 48, 'penger': 10, 'disabled': 1, 'fh': 1, 'bethesda': 1, 'janeannmorrison': 1, 'mm5z32vkpc': 1, 'ohmygoshi': 1, 'unsuckdcmetro': 4, 'metrobus': 1, 'note': 4, 'interlocking': 2, 'lines': 3, 'fixwmata': 1, 'adamtuss': 2, 'path': 8, 'sidewalks': 1, 'enfant': 1, 'mobbed': 1, 'nightmarecommute': 1, '7cehnv3dky': 1, 'fox5newsdc': 1, 'adani': 2, 'modi': 3, 'backed': 1, 'sje59u2nnm': 1, 'yahoonews': 4, 'lizkhalifa': 1, 'tip': 2, 'subject': 7, 'jozerphine': 1, 'everythign': 1, 'federal': 4, 'sw': 7, 'mcpherson': 1, 'worthless': 1, 'trustymclusty': 1, 'pengers': 21, 'commute': 3, 'fcked': 1, 'crocodile': 1, 'wash': 9, 'gravy': 1, 'kidscompany': 1, 'bcpmvylsih': 1, 'cbcnorth': 1, 'sacred': 1, 'talston': 1, 'mines': 5, 'sxlfsnsph0': 1, 'epic_insanity': 1, 'grimrail': 1, 'depot': 1, 'derails': 6, 'blcbabm7a1': 1, 'stury': 1, 'illustration': 2, 'qyn6kxjstl': 1, 'subway': 3, 'freeing': 1, 'newidea': 1, 'title': 5, 'requa': 1, '1000': 6, '2000': 3, 'identitytheft': 2, 'taxreturn': 1, 'cleaning': 1, 'cri': 1, 'gxqwd1qzbd': 1, 'reopen': 2, 'empty': 4, 'cqnow': 2, 'breakfast': 2, 'links': 4, 'suspending': 1, 'ser': 1, 'id4qgqdnjq': 1, 'eve': 1, 'jon': 4, 'honored': 1, 'crippling': 3, 'kristnmalea': 1, 'derailingdistractions': 1, 'starbs': 1, 'ls': 1, 'barely': 7, 'wheel': 2, 'climbing': 1, '2007': 3, 'mt': 9, 'vern': 1, 'sq': 1, 'episodes': 1, 'nigh': 1, 'bobbyofhomewood': 1, 'joxroundtable': 1, 'top25': 1, 'relief': 14, 'janta': 1, 'reaches': 3, 'firstpostin': 1, 'cznxhutasx': 1, 'shuttle': 1, 'closest': 2, 'qyx5thkrbh': 1, 'joelsherman1': 1, 'dw': 3, 'chipper': 1, 'kind': 7, 'unsurprised': 1, 'cools': 1, 'durban': 1, 'abnzqwlig1': 1, 'robertwelch': 1, 'cutlery': 1, 'offers': 5, 'bq8kyi7gng': 1, 'gnzwxqktam': 1, 'railed': 1, 'deepthoughts': 1, 'biker': 5, 'beatdown': 1, 'nypdnews': 1, 'undercover': 3, 'ihhrkg4v1s': 1, 'aryu5qngjj': 1, 'station': 8, 'disrupting': 1, 'noon': 1, 'wusa9': 2, 'itsqueenbaby': 1, 'cnn': 28, 'mmiye1k8zz': 1, 'derailed_benchmark': 1, 'paths': 1, 'resque': 1, 'gerryconnolly': 1, 'repdonbeyer': 1, 'timkaine': 2, 'debacle': 1, 'mgr': 1, 'ohyayyyyay': 1, 'wsj': 2, 'groupâ': 1, 'dknpk6fbe4': 1, 'bivshy4q1b': 1, 'resumed': 3, 'garfield': 4, 'residual': 1, 'railway': 4, 'jdkqc12tid': 1, 'twin': 6, 'yf56ok7pgp': 1, 'fctrawjcyl': 1, 'ndtv': 3, 'freakiest': 7, 'accidentsâ': 1, 'uhxodsc7wi': 1, 'teamfollowback': 1, 'followback': 2, 'ctafails': 2, 'y8xfvjallr': 1, 'quuun88czw': 1, 'modiministry': 4, 'yvmphd0z9x': 1, '61st': 2, 'calumet': 2, 'chicagoscanner': 1, 'consent': 2, 'csx': 3, 'knoxville': 3, 'sentinel': 5, 'giesomgwtr': 1, 'nmfsgkf1za': 2, 'villagers': 6, 'cta': 6, 'evacuated': 45, 'cottage': 2, 'qepj0hwpay': 1, 'ltyefjdm3a': 1, 'indiatv': 1, '0la1aw9uud': 1, 'greateranglia': 1, 'cow': 3, 'fault': 2, 'fd': 3, 'cins': 1, 'tg': 1, 'raishimi33': 1, 'applaud': 2, 'prabhu': 5, 'ocxbwgyft8': 1, 'indi': 2, 'ildbeje225': 1, 'indiannews': 3, 'alvinnelson07': 1, 'withstand': 1, 'collisions': 1, 'immediate': 2, '4y4ytwhd74': 1, 'suresh': 2, 'harda': 3, 'ignored': 2, 'regr': 1, 'q5mlbodvm4': 1, 'dnu5hwsxo2': 1, 'mumbai24x7': 1, 'ttes': 2, 'charge': 6, 'helpline': 2, 'anxious': 3, 'ind': 1, 'tuaryijpqu': 1, 'cedcugeuws': 3, 'topstories': 3, 'sjxllzosw7': 1, 'bagef9lfgt': 1, 'bvxqa3kfrx': 1, 'cuvkf5ykax': 1, '4d9cd4mnvh': 1, 'unhqcq6bex': 1, 'terrence': 1, 'yfavm641os': 1, 'ti': 1, '6bcivdaea0': 1, 'tl41olpakz': 1, 'wbbmnewsradio': 1, 'yh5vetm0yz': 1, '17wgug8z0m': 1, '1udz0nvoeh': 1, 'deepest': 1, 'condolences': 1, 'mishap': 1, 'officeofrg': 1, 'resume': 1, 'djztc7apf1': 1, 'amtrak': 1, 'h6ol73kzjg': 1, 'qfydu4pvgk': 1, '63rd': 1, 'prairie': 2, 'zz5udilrea': 1, 'xszx9mwxyp': 1, 'b9kuylcxg4': 1, 'mumbaitimes': 1, 'gambling': 1, 'desolate': 41, 'roadworks': 1, 'disruptive': 2, 'tottenham': 1, 'perceive': 1, 'faintly': 1, 'sputtering': 1, 'vast': 1, 'glacier': 2, 'eternity': 1, 'gyrsi': 1, 'behold': 2, 'matthew': 3, 'nasb': 1, 'danielkemp6': 1, 'likened': 1, 'producer': 4, 'garden': 7, 'fel4qhwyfd': 1, 'sank': 1, 'submarine': 1, 'bickfordâ': 1, 'stale': 1, 'fugazziâ': 1, 'appalled': 1, 'heavens': 1, 'evils': 1, 'ib': 1, 'sauldale305': 1, 'naturalexample': 1, 'tl29lnu44o': 1, 'gprrzdpe4v': 1, 'multimillion': 1, 'chop': 1, 'billet': 1, 'frugal': 1, 'companionate': 1, 'anacrusis': 1, 'vacantldn': 1, 'peculiar': 1, 'compliment': 1, 'incapable': 3, 'headspace': 1, 'provides': 1, 'transformed': 2, 'thriving': 1, 'hub': 1, 'hiâ': 1, 'onthisday': 1, 'mayflower': 1, 'sail': 3, 'laphamsquart': 1, 'ssn1mxsfoa': 1, 'fw8elbnap7': 1, 'jusreign': 1, 'hxm8c8e33d': 1, 'hav': 2, 'sht': 1, 'atl': 1, 'fran': 3, 'r3do': 1, 'hdv3zirbci': 1, 'soundcloud': 10, 'uneducated': 1, 'educated': 2, 'productive': 4, 'swells': 3, 'twcds433yi': 1, 'daniel': 3, 'sacrifice': 3, 'abomination': 4, 'maketh': 2, 'steviede83': 1, 'roathboy': 1, 'badgeofhonour': 1, 'corleonedaboss': 2, 'significance': 1, 'mx3huxnxgx': 1, 'horns': 1, 'beast': 2, 'harlet': 1, 'unexercised': 1, 'honda': 1, 'neighborhood': 4, 'psqd': 1, 'williamtcooper': 1, 'l9mb2j5pxg': 2, 'mum': 6, 'mtnredneck': 1, 'mallelis': 1, 'mason': 1, 'dixon': 3, 'electro': 2, 'violin': 1, 'binellithresa': 1, 'uan05tnksw': 1, 'psalm34': 1, 'redeemeth': 2, 'servants': 2, 'joshacagan': 1, 'stack': 1, 'dvds': 1, 'j4lm2ovoos': 1, 'banrvjotlf': 1, 'fotofill': 1, 'booksbyroger': 1, 'peregrinekiwi': 1, 'boymonster': 1, 'cp2020': 1, 'blighted': 1, 'corporate': 1, 'bill_roose': 1, 'depressing': 2, 'hundred': 4, 'pilgrims': 1, 'unimpressed': 1, 'pw5dst9roz': 1, 'mirad': 1, 'c6lgtotvsf': 1, 'antichrist': 1, 'desecrates': 1, 'jerusalem': 3, 'risky': 1, 'costly': 2, 'e9yfe3p7p1': 1, '8gzbgmmaa1': 1, 'm9yda5k6jf': 1, 'spyro': 1, 'texture': 1, 'hacks': 1, 'stockholm': 1, 'copperfields': 1, '6un7xc9sve': 1, 'desolation': 49, 'wilderness': 1, 'graph': 2, 'iglxenix': 1, 'dcxjijtyyj': 1, 'pvp': 1, 'beacon': 2, 'bombardment': 1, 'ep03': 1, 'finalise': 1, 'alt': 1, 'comingsoon': 2, 'photoset': 3, 'littlebitofb': 1, 'silinski': 1, 'sheeran': 3, 'onã': 2, 'hobbit': 13, 'smaug': 17, 'premiere': 2, 'iosthxlcyv': 1, 'thranduil': 1, 'figure': 4, 'loose': 13, 'mirkwood': 1, 'nyel2buaro': 1, '2zgiupn06t': 1, 'il4ulhrgtp': 1, 'thriller': 7, 'jamessnyder22': 2, 'pfyh4tzvk9': 1, 'theconspiracytheory': 1, 'newep': 1, 'tangled': 1, 'djdewd13wr': 1, 'isai': 1, 'psm': 1, '138': 1, 'scattered': 1, 'freediscountbks': 1, 'axvqldtehc': 1, 'amreading': 1, 'disc': 1, 'copy': 1, '000sijjl3t': 1, 'jlujshcvoa': 1, 'kurtkamka': 1, 'coyotes': 2, 'lizards': 2, 'arizâ': 1, '0z1pvjvdpf': 2, 'despair': 3, 'cameos': 1, 'colbert': 1, 'uv': 1, 'gin': 1, 'mjfdcrjs8j': 1, 'listia': 1, 'josephus': 1, 'antiochus': 1, 'epiphanes': 1, 'fwj9ccyw6k': 1, 'amidst': 1, 'aftermath': 7, 'olympusâ': 1, 'pqds20yrjs': 1, 'interestud': 1, 'sgxb6e5yda': 1, 'lamb': 2, 'muywttedl6': 1, 'redo': 1, 'nails': 2, 'ayyy': 1, '57': 5, 'lem5z1nfk3': 1, 'trouble': 52, 'fastings': 1, 'wox3vprixq': 1, 'nikostar': 1, 'lakes': 2, 'abject': 1, 'letters': 4, 'a2aedak7r0': 1, 'theatres': 1, 'sudden': 2, 'neither': 4, 'wicked': 5, 'cometh': 1, 'thy': 2, 'bp597yds2b': 1, 'oxrwrjzmnu': 1, 'k2tbes65oa': 1, 'fotoset': 2, 'elanorofrohan': 1, 'december': 3, 'carpet': 2, 'zurich': 1, 'bq3p7n7w06': 1, 'alcoholism': 2, 'addiction': 4, '31tgtlz3ya': 2, 'forgiving': 2, 'c7rco2emwf': 1, 'ghe': 1, 'orshow': 1, 'loop': 8, 'n2ucnzh38p': 1, 'vu8fwymw5r': 1, 'kaiseiw': 1, 'desperation': 1, 'dislocation': 1, 'separation': 1, 'condemnation': 2, 'revelation': 2, 'temptation': 2, 'isolation': 2, 'bilingual': 1, 'g5do2x6226': 1, 'tumblr': 4, '93dm6gnwwc': 1, 'necro': 1, 'interviews': 4, 'agalloch': 1, '1labi2sg2b': 1, 'imagini': 1, 'noi': 1, 'clipuri': 1, 'j6cfwukofe': 1, 'cliptv': 1, 'desolationofsmaug': 1, 'poze': 1, 'thehobbit': 1, 'sow': 1, 'ixw2cutk1c': 1, 'backlash': 1, 'fajbxz5kar': 1, 'thrusting': 1, 'enslave': 1, 'fandom': 3, 'adz77': 1, 'spelled': 1, 'futurea': 1, 'totalitarian': 1, 'employs': 1, 'firemen': 2, 'literature': 1, 'drfkarlz1d': 1, 'rebahe': 1, 'zenande_mcfen': 1, 'ndzedze': 1, 'ashes2ashes': 1, 'english': 8, 'lads': 1, '400': 3, 'ginga': 1, 'drago': 1, 'ops': 5, 'hunted': 1, 'snd': 2, 'multiplayer': 7, 'ss1zl36y9v': 1, 'dilutional': 1, 'institutionalize': 1, 'sued': 1, 'slander': 2, 'z9zj3kxwyu': 1, 'shantae': 2, 'smash': 5, 'wii': 1, 'shantaeforsmash': 1, 'shantaehalfgeniehero': 1, 'nintendo': 1, 'zztbvjypn1': 1, 'ng2x5': 1, 'meme': 3, 'baiting': 1, 'camper': 1, 'foxsportscom': 1, 'anthonys': 1, 'everytime': 2, 'raidersreporter': 1, '957thegame': 1, 'galaxy': 1, 'flatliners': 1, 'creativity': 3, 'longevity': 1, 'lucifer': 1, 'wcfpznsn9u': 1, 'magnets': 1, 'btus5jejuy': 1, 'zrtfxluk6r': 1, 'nicolekidman': 1, 'oprah': 1, 'grubbing': 1, 'cluei': 1, 'telekinesis': 1, 'thereâ': 1, 'algae': 3, 'ponds': 1, 'momtherbot': 1, 'amiibos': 1, 'bets': 2, 'boylesports': 1, 'casino': 3, 'zildpvknxp': 1, '5ydb4s13pf': 1, 'petchary': 1, 'displeased': 2, 'spots': 2, 'congrats': 2, 'reggaeboyz': 1, 'cameronciletti': 1, 'tigersjostun': 1, 'define': 3, 'strengthen': 1, 'pure': 1, 'wst2twqs8d': 1, 'kisses': 5, 'crackdown': 11, 'servers': 5, 'copped': 1, 'eur': 1, 'bwin': 1, 'sikkg0fphr': 1, 'jfyfzddlrn': 1, 'sarniamakchris': 1, 'hromadske': 1, 'kasiadear33': 1, 'silly': 2, 'alexhern': 1, 'vr': 1, 'skate': 2, 'taguatinga': 1, 'campeonatos': 1, 'xww9doplk9': 1, 'reg': 1, 'competitiveness': 1, 'saturated': 2, 'brockton': 1, '12m': 1, 'regc': 1, 'commonwealth': 2, 'ppc': 1, 'beconfident': 1, 'weaknesses': 1, 'brbrs': 1, 'fousey': 1, '2hours': 1, 'wactt18gda': 1, 'tryna': 8, 'sj': 3, 'gist': 2, '148': 3, 'produce': 3, 'dkrgs2awex': 1, 'streetjamzdotnet': 1, 'mr9kcgpiwm': 1, 'childhood': 6, 'pride': 2, 'shoe': 4, 'dwarfs': 1, 'villain': 1, 'msmigot': 1, 'convincing': 1, 'compelling': 1, 'deniers': 1, 'tend': 1, 'preschool': 1, 'hunger': 3, 'riches': 1, 'decrease': 1, 'moth': 4, 'sapphirescallop': 1, 'oppa': 1, 'haaaaaa': 1, 'nbcthewiz': 1, 'dazzle': 1, 'monwabisi': 1, 'hlongwane': 1, 'ryt': 1, 'twins': 5, 'ashestoashes': 1, 'engineermatarai': 1, 'mataas': 1, 'kc': 1, 'rating': 3, 'ratings': 2, 'elgeotaofeeq': 1, 'ambition': 2, 'voted': 2, 'stocks': 4, 'foxa': 2, 'cmcsa': 2, 'sni': 2, 'amcx': 2, 'viab': 2, 'twx': 2, 'dqd3ytazfg': 1, 'musketeiro': 1, 'nusrah': 1, 'ahrar': 2, 'justicemalala': 1, 'nkeajresq': 1, 'nkea': 1, 'gambia': 1, 'mercenary': 1, 'thesun': 1, 'reportedly': 7, 'aawmx5w9sh': 1, 'aqinavl1b6': 1, '3946': 1, '3941': 1, 'swim': 6, 'lifeguard': 1, 'hated': 4, 'paztdblgyk': 1, 'evdaikoku': 1, 'zjwhitman': 1, 'carp': 1, 'leftside': 1, 'valerie': 1, 'otp_destroyed': 1, 'kiki': 1, 'fixitjesus': 1, 'gh': 2, 'alanhahn': 1, 'hdumpty39': 1, 'daughtery': 1, 'emotionally': 5, 'rants': 1, 'factual': 1, 'basis': 2, 'sokoto': 1, 'saturday': 12, 'vqu1y31hku': 1, 'soo': 3, 'repentance': 1, 'en3hkxqdd9': 1, '_reddevil4life_': 1, 'donã': 2, 'illusions': 1, 'fn': 1, 'everydaynaija': 1, 'nonm8c6l8p': 1, '3936': 1, 'ut': 3, 'bdsgf1cfax': 1, '3967': 1, '3942': 2, '8h2sp6ze3o': 1, 'customs': 2, '319': 1, 'phew': 2, 'meats': 1, 'incinerator': 1, 'pulkovo': 1, 'grenade': 5, 'hoes': 2, 'careers': 2, 'freemurphy': 1, 'hitchhiking': 1, 'bot': 4, 'sorely': 1, 'kee1tytz15': 1, 'semasirtalks': 1, 'namekians': 1, 'highly': 4, 'recur': 1, 'mb3mjevbb0': 1, 'ryanoss123': 1, 'hitters': 1, 'ethereal': 1, 'travels': 1, 'europe': 7, 'greeted': 1, 'm1tchell1987': 1, 'mee': 1, '19000': 1, 'rebuilt': 1, 'blockade': 1, 'opengaza': 1, 'wf9gmhjh2m': 1, 'kaytlinmartinez': 1, 'blizzards': 1, 'abomb': 1, 'destroyd': 1, 'hiroshimaâ': 1, 'dlgnuuuuyn': 1, 'cnv': 1, 'vigils': 1, 'jvkyzndtja': 1, 'jixscpmdud': 1, 'davidvitter': 1, '2003': 1, '3945': 1, 'zaire2005': 1, 'mulruifnn1': 1, 'specialguest': 1, 'crapgamer': 1, 'recap': 4, 'gamescom': 3, 'ally': 3, 'lyk': 1, 'anncoulter': 1, 'declaring': 3, 'immigrants': 2, 'defeated': 1, 'clarion': 1, 'oiled': 1, 'closeup': 1, 'faogxkwdpg': 1, '3934': 1, 'silas': 1, 'sliced': 1, 'headlinelike': 1, 'cabbage': 1, 'harbhajan_singh': 1, 'stuartbroad8': 1, 'stuart': 11, 'broad': 10, 'yuvi': 1, 'ford': 4, 'ixjjlp1lvo': 1, 'getu7sfbj1': 1, '3939': 1, 'frontlines': 4, 'abuses': 3, 'tydxauuenq': 1, 'ontario': 3, 'developer': 1, 'hld5xlywbn': 1, 'returns': 5, 'azeroth': 1, 'onc': 1, '7n9qqkqil3': 1, 'restricted': 6, 'demonstratio': 4, 'lmwkjsycgj': 1, 'danhrothschild': 1, 'greed': 2, 'takecare': 1, 'cinla1964': 1, 'windowgatribble': 1, 'contrasts': 1, 'foreboding': 1, 'expansive': 1, 'divisions': 1, 'saturation': 1, 'hue': 1, 'peterarnottglas': 1, 'rae': 1, 'commissioned': 1, 'mull': 1, 'sanctioned': 3, 'qbmcsjavt0': 1, 'airportwatch': 1, 'motorways': 1, '2reduce': 1, 'fumes': 1, 'noise': 4, 'usqz0otfne': 1, 'homebuyer': 1, 'miscalculation': 1, 'mwjcdk': 1, 'workspace': 1, 'forsee': 1, 'badkitty': 1, 'thisiswhywecanthavenicethings': 2, 'lt3dave': 1, 'specs': 1, 'lore': 1, 'salvages': 1, 'banned': 28, 'border': 9, '7b2wf6ovfk': 1, 'ompzuyasle': 1, 'styled': 1, 'undergroundbestsellers': 1, 'dili5jhmur': 1, 'decree': 1, 'imported': 3, 'independent': 4, 'k3pnnktlxh': 1, 'divided': 2, 'iam_destruction': 1, 'megadeth': 2, 'symphony': 3, 'xzfxrglalp': 1, 'planners': 1, 'singled': 2, 'b5okgpspbh': 1, 'thingsihate': 1, 'hanrouhani': 1, 'doomed': 1, 'invest': 2, 'gwesgeszxv': 1, 'blossominglilac': 1, 'arrogant': 1, 'ecd7hizja1': 1, 'n08qluornx': 1, 'tux0ypwzur': 1, 'ma9llikcjk': 1, 'appetite': 1, 'guvsvpeszu': 1, 'cheap': 3, 'abounds': 1, 'hillaryclinton': 2, 'h5rzmay8lp': 1, 'chaos': 10, '60000': 3, '80000': 2, 'sometime': 1, 'otsuka': 1, 'alexeivolkov1': 1, 'mcfaul': 1, 'equal': 4, 'roskomnadzor': 1, 'ridiculously': 1, 'politicized': 1, 'ztyzhbvzqp': 1, 'bonn1egreer': 1, 'propelled': 2, 'piles': 2, 'wb': 2, 'marquei': 2, 'visto': 2, '1x1': 1, 'vjlnskbg86': 1, 'bancodeseries': 2, 'potentially': 3, 'wrought': 15, 'noble': 2, 'snoo8lqtad': 1, '5xye2rkuri': 1, 'bureaucrats': 1, 'atlantic': 4, 'tnex4husnp': 1, 'sumo': 2, 'o4b1kiyx1p': 1, 'illegally': 2, 'r6jdj9kigm': 1, 'imaginable': 1, 'gs50ddg1jy': 1, 'tinyjecht': 4, 'detonate': 46, 'hjudeboudreaux': 1, 'henchman': 1, 'tenn': 1, 'tennessean': 1, 'eb74iieiwn': 1, 'apollo': 25, 'ft': 17, 'apollobrown': 6, 'billdanzemop': 2, 'famemop': 2, 'gr9q1wvi2n': 1, 'k3reb7irlc': 1, 'omfgv9ma1w': 1, '4bcqzqjrzn': 1, 'jnoe2r2ein': 1, 'furiosoxv': 1, 'stuns': 2, 'aw': 3, 'spinningbot': 4, 's5mu04l2rl': 1, 'grandeur': 3, 'pfa0s9zcub': 1, 'fllabzgcrc': 1, 'moments': 10, 'eopbxwozbm': 1, 'boulder': 1, 'stearns': 2, '7cadm3lnko': 1, 'h1xigcen7f': 1, 'jtw': 1, 'ceiao1texr': 1, '6zswtoksif': 1, 'nickkristof': 1, 'contradictory': 1, 'uninhabited': 1, 'alternatives': 5, 'categoricallyâ': 1, 'bldrcosheriff': 1, 'cbsdenver': 1, 'heavyweight': 1, 'rapping': 2, 'lemon': 2, 'y217ceeemd': 1, 'no_periferico': 1, 'm7na4skfwr': 1, 'orapinforma': 1, 'mello': 2, 'c0fex1xalg': 1, '214904': 1, '139055': 1, 'hilversum': 1, 'meters': 1, 'optic_scumper': 1, 'channelstv': 1, 'intel': 1, 'jn8s0drwbp': 1, 'hhbu': 1, 'projeavg8t': 1, 'h9fsiaxv3q': 1, 'woundedpigeon': 1, 's9soaevcvo': 1, 'mwnhappy': 1, 'message': 12, 'gfdhfmpcel': 1, 'nottingham': 1, 'autumn': 4, 'km8ucihrrn': 1, 'autoames': 1, 'hoped': 2, 'ventilated': 1, 'bandolier': 1, 'dix': 1, 'nljvp3vfyz': 1, 'fiya': 1, 'sourmashnumber7': 1, 'tomfromireland': 1, 'rfcgeom66': 1, 'bbctalkback': 1, 'succeed': 1, 'zdtz3rbs6w': 1, 'jd7rik7fx0': 1, 'h6ngsw9a5b': 1, 'detonateâ': 1, 'href': 1, 'wnowfvcbms': 1, 'jxwojxqndc': 1, 'someone92883220': 1, 'comfortable': 2, 't9i3pwvjoy': 1, '76anr2iocl': 1, 'm1xykecrzr': 1, '3chxb8qbdd': 1, 'zmh7nebmwy': 1, 'newer': 1, 'qpptq6otat': 1, 'ignition': 28, 'detonation': 49, 'sensor': 31, 'senso': 17, 'fits': 6, 'mazda': 1, '0l': 2, 'v6': 2, 'c8uxkizwm6': 1, 'snxgh9r16u': 1, 'connector': 7, 'connecto': 4, 'motorcraft': 2, 'wpt': 2, '994': 1, 'h2ahxpch0y': 1, 'vq3vwxj8yu': 1, 'ks161': 1, 'wadpp69lwj': 1, 'yjth2nabv5': 1, 'ks57': 1, 'bzzdedcthl': 1, 'oqjnuyibxm': 1, 'beck': 5, 'arnley': 5, '93': 2, 'audi': 2, '8l': 1, 'goxvnzouj3': 1, 'yb3geetfbt': 1, 'ks94': 2, 'ihphzckm41': 1, 'wuicdttuhf': 1, 'fashionable': 7, 'mountaineering': 7, 'couples': 8, 'leisure': 7, 'tabâ': 7, 'ky9v0pajy1': 1, 'qjqpxixmxz': 1, 'dorman': 3, '917': 3, '033': 1, 'wxces39zte': 1, 'pygkssscfr': 1, 'forex': 3, 'indicator': 1, 'irretrievable': 1, 'airborne': 1, 'controls': 1, 'sjfeb': 1, 'rzqkzm7rb8': 1, 'quotes': 3, 'esteemed': 3, 'belt': 3, 'esevu': 1, 'emzn4spwnk': 1, 'sqfp6ecz0i': 1, 'googlemaps': 1, 'calculates': 1, 'methods': 1, 'touching': 3, 'obtaing': 1, 'electrical': 6, 'transcription': 1, 'butiqob': 1, '01': 36, 'bmw': 2, '325ci': 1, '5l': 1, 'l6': 1, 'gbvdnczjou': 1, 'c211hise0r': 1, 'dy1ersdcrh': 1, 'm4cpmxmurk': 1, 'delphi': 2, 'as10004': 1, 'lmrkgporcf': 1, '6wadnmstov': 1, 'as10012': 1, 'larrnhobsn': 1, '6ywzwmxfdp': 1, '410': 1, 'bsmj2hvgwd': 1, 'bxalnedy49': 1, 'jcenters': 1, '158': 4, '0853': 1, 'odmx36wdhm': 1, 'gaheujruju': 1, '0992': 1, 'tk9hnxznsl': 1, 'uhbuwbeq0o': 1, 'ets': 1, 'entering': 3, 'koz': 1, '9zrqmd8ngz': 1, 'smp': 1, 'ks315': 1, 'apvlh7hj1o': 1, '1ljntejgmb': 1, 'ks100': 1, '7o4lnfbe7k': 1, 'fvzsgjtbew': 1, 'gh48b54ris': 1, '2pqtm06lid': 1, 'g6hjtj3sdy': 1, 'yydeghgp64': 1, 'waterproof': 1, 'weiqin': 1, 'brand': 4, 'michel': 1, 'lujo': 1, 'caâ': 2, '1jgsioujas': 1, '719tzeyhfn': 1, '1017': 1, 'ryobyqjfce': 1, 'lw9o2kdk18': 1, 'acdelco': 3, '213': 3, '924': 1, 'hpzhe0cjvf': 1, 'saohvjktqc': 1, 'trivium': 1, 'rrusa': 1, 'cubdnsnuvt': 1, 'appy': 1, 'myths': 1, 'obscuring': 1, 'salon': 1, 'dlp8kpkt2k': 1, 'rqovpljpse': 1, 'uhkwvsowst': 1, '7dyoglhmre': 1, 'hkm3rtd4zf': 1, '96': 4, 'subaru': 1, '2l': 1, 'h4': 1, 'pccksm1tvm': 1, 'ywzngj7uow': 1, 'yszibvj3cs': 1, 'c9t0cgtjfw': 1, 'jerusalempost': 1, 'performs': 3, 'golan': 3, '01hux8y9gi': 1, '296': 1, 'dbwspghhsa': 1, '1calqdwvhw': 1, 'rfb2ft4wx0': 1, 'ks225': 1, 'iwrcpmjoah': 1, 'zzmm9xeccw': 1, '032': 1, 'kh973ylmpj': 1, 'n9x3ngu0am': 1, '4678': 1, 'o2jd4tbrwa': 1, 'jfx6qiyivf': 1, 'acura': 1, 'rsx': 1, 'l4': 1, 'vzaiqamdcp': 1, 'ycecn44c8p': 1, 'ucawg59ulj': 1, 'enqdfbjump': 1, 'altitude': 1, 'ace': 2, 'wmw1wqvbr8': 1, '0y07oa5uex': 1, 'israelnews': 1, '141': 1, 'rfjzexqgxt': 1, 'wqgsmioimx': 1, 'e61x9y65qd': 1, 'ovlet0gdqm': 1, 'icrc': 1, 'bkh7z6cwwl': 1, '97': 9, '250': 3, '6l': 1, 'v8': 1, 'cudkryuuan': 1, 'dkozymvy5l': 1, 'ks111': 1, 'nxleiijfgs': 1, 'xsgwm5zxpd': 1, 'declares': 36, 'devastated': 66, 'saipan': 35, 'meganbee92': 1, 'kadiegrr': 1, 'tyler': 3, 'blackburns': 1, 'pll': 1, 'currensy': 1, 'talkin': 2, 'anybody': 5, 'richmond': 18, 'sittingâ': 3, 'jam': 7, 'y5yhbb0hkf': 1, 'malik': 2, 'perrie': 2, 'edwards': 1, 'engagement': 1, 'sheâ': 1, 'devastatedâ': 1, 'gedoxsppl9': 1, 'aczruorytd': 1, 'gujaratriot': 1, 'mumbairiot92': 1, 'indianperpetrated': 1, 'chawalchorbjp': 1, 'un_women': 1, 'unnewsteam': 1, 'losdelsonido': 2, 'declaration': 25, 'ma': 4, 'ivanberroa': 2, 'barack': 4, 'declared': 3, '4k8olzv9bv': 1, '9nyxjndora': 1, 'marians': 20, 'jcszcjihlh': 1, 'polishedstone': 1, 'shkimonmlw': 1, 'yeetrpan': 1, '1i19cuov7l': 1, 'dialta6t69': 1, 'aslufekoxn': 1, 'u8ykr63b1g': 1, 'k9cd0efvut': 1, 'martinbarrow': 1, 'affects': 5, 'a1moejxqya': 2, '9i6crcrq2m': 2, 'foto': 1, 'isnâ': 1, 't5agps7t2b': 1, 'isnt': 2, 'realised': 3, 'actor': 2, 'rossbarton': 1, 'aaron': 1, 'dannybmiller': 1, 'goodbye': 3, 'gobsmacked': 1, 'perla': 2, 'hunter': 1, 'hayes': 1, 'antebellum': 1, 'perform': 2, 'leyjwnnah8': 2, 'fresh': 6, 'tagliatelle': 1, 'meatballs': 1, 'sauce': 2, 'draining': 1, 'bairstow': 1, 'buffet': 1, 'lad': 1, 'abcnews': 7, 'mg5eajelul': 2, 'humblethepoet': 1, 'lilly': 1, 'hacked': 3, 'indoors': 2, 'arfur': 1, 'georgecole': 1, 'argentings': 1, 'aaaaaaallll': 1, 'm6lvkxl9ii': 1, 'allegations': 4, 'superbactor': 1, 'keegan172': 1, '_gags_': 1, 'mommy': 2, 'nomorepod': 1, 'coleenlisa': 1, '3p6xakt7rh': 1, 'aussies': 6, 'winner': 3, 'otrabaltimore': 1, 'xdt4vhfn7b': 1, 'wesleylowery': 1, 'devastation': 48, 'utter': 5, 'zwvyisyp2b': 1, 'kalmikya': 1, 'astrakhan': 1, 'volgagrad': 1, 'dagestan': 1, 'locusts': 1, '79fw9zwxtp': 1, 'timeworld': 1, 'struggles': 14, 'pms4pmur0q': 1, 'obsolete': 1, 'ashes2015': 1, 'a7tjawwtj7': 1, 'iqowzgvznl': 1, 'latestnews': 3, 'cnbc': 6, 'câ': 1, 'ohndh2ri0v': 1, 'itbj6dkrzi': 1, 'cllrraymogford': 1, 'comprehensive': 1, 'wartime': 2, 'wroug': 2, 'efsa6pbemc': 1, 'ssssnell': 1, 'factor': 2, 'ropes': 1, 'angers': 1, 'ag65u29sgo': 1, 'decades': 3, 'plo2qkrwhu': 1, 'ltvvpflsg8': 1, 'hungerarticles': 1, 'rebuilding': 1, 'livelihoods': 1, 'quake': 4, 'lrouwjmbix': 1, 'cnnhotd': 1, 'handcuffed': 1, 'hookup': 1, 'showers': 3, 'piggy': 2, 'xg9s40aftz': 1, 'dones': 1, 'grief': 2, 'bordering': 1, 'communities': 8, 'packard': 1, 'r2pqqpfqct': 1, '5wfxbaqmbk': 1, '1erd2fpryp': 1, 'breaches': 1, 'ek6kyhxpe9': 1, 'yn6nxoucr1': 1, 'pam_palmater': 1, 'perrybellegarde': 1, 'pmharper': 2, 'firstnations': 1, 'idlenomore': 1, 'cndpoli': 1, 'yyj': 1, 'refuses': 4, 'speak': 8, 'ofu6danjzc': 1, 'forgiveness': 2, 'emerged': 1, 'argentina': 2, 'm2y9ym3if6': 1, 'midst': 3, 'hqhed': 1, 'bs6xaqhsim': 1, 'walkthrough': 2, 'bojdbyb9ya': 1, 'przez': 1, 'thorium': 3, 'scandals': 1, 'murders': 2, 'environmental': 3, 'mly7sdn6ev': 1, 'gxgm1t3w0j': 1, 'elation': 1, 'pumxlvlsgm': 1, 'hid': 1, 'mandatory': 3, 'shown': 1, 'preserved': 1, 'o6aa0nwlha': 1, 'targ56igbz': 1, 'hint': 3, 'beyondthebomb': 1, '3nkculgvmw': 1, 'j3rcofldya': 1, 'nikkihaley': 1, 'profile': 8, 'attempt': 7, 'reince': 2, '5ccrnwirfn': 1, 'gilgit': 2, 'baltistan': 1, 'hsjcr45sis': 1, 'dq931ea6pr': 1, 'jesossdjjh': 1, 'fascinating': 1, 'korea': 3, 'propaganda': 1, 'e2dbcpwd9u': 1, '10m': 1, 'settlement': 4, 'illustrations': 1, 'jurors': 2, '2baxg1wdpp': 1, 'au6sm5famq': 1, 'vfctrzaok2': 1, 'newyear': 1, 'yuo7jdnijx': 1, '2006': 2, 'gid6jqn8ug': 1, 'starbucks': 2, 'momneedscoffee': 1, 'iwontmakeit': 1, 'terms': 3, 'devastationâ': 1, 'nbcvbso9nm': 1, 'benediction': 1, 'sanelesstheory': 1, 'sigeeq42cz': 1, 'irin': 2, 'tape': 7, 'tangles': 2, 'reconstruction': 2, 'reduction': 2, 'disasters': 6, 'q7lg6ncf7g': 2, '5cm0lfzhxn': 2, 'jakartapost': 2, 'quinhii': 1, 'responsibility': 6, 'otl': 1, 'lafayette': 3, 'suggested': 1, 'crawfordsville': 1, 'vcv73buacz': 1, 'privatisation': 1, 'ksxznpy5gt': 1, 'lovelylikelaura': 1, 'msf_sea': 1, 'mediterranean': 14, 'mgrave': 1, 'm0utldif77': 1, 'reade': 1, 'politicians': 5, 'greedyrich': 1, '2bflibd2sh': 1, 'mclaughlin': 1, 'paladins': 1, 'tim_a_roberts': 1, 'nana': 1, 'restlessness': 1, 'strengthening': 2, 'afterhaiyan': 1, 'ga14egplw9': 1, 'haiyan': 3, 'yolandaph': 1, 'philippines': 13, 'livelihood': 1, 'disasterrecovery': 1, 'qm5sz0fyu8': 1, 'microsoftâ': 2, 'nokia': 2, 'cv0mrisft3': 1, 'staining': 1, 'budmke3nnf': 1, 'overpopulation': 1, 'endless': 2, 'brats': 1, 'sed': 1, 'albertans': 2, 'ndp': 1, 'vsmojyfzdg': 1, 'huffpostalberta': 1, 'harperblamesalbertans': 1, 'cw500': 1, 'jq9nj6gko3': 1, 'return': 14, 'listeria': 1, 'theneeds': 1, 'f56v61ampt': 1, 'jeff': 10, 'locke': 3, 'pirates': 1, 'acquired': 1, 'starter': 5, 'blowltan': 1, 'metepec': 1, 'oficial': 1, 'nitclub': 1, 'mã': 2, 'â¼sica': 2, 'wtfjf9jjzs': 1, 'cinema': 9, 'tdhn9zy0er': 1, 'vitaly': 1, 'churkin': 1, 'briliantly': 1, 'exposes': 1, 'klimkin': 1, 'mh17': 1, 'tt4kvmvujq': 1, 'slipped': 3, 'zhgu8ye1bj': 1, 'insurer': 14, 'sdgoutwntb': 2, 'disasterâ': 1, 'hollyorange8': 1, 'emotions': 5, 'iron': 1, 'fist': 3, 'easxt3y84r': 1, 'cjufunsdkg': 1, 'gurmeetramrahim': 1, 'msgdoing111welfareworks': 1, 'ke': 3, 'appx': 1, '65000': 1, 'har': 1, 'ki': 1, 'liye': 1, 'tyar': 1, 'hai': 1, 'cncpts': 1, 'solelinks': 1, 'amznfavorites': 1, 'devereaux': 1, 'exciting': 2, 'scifi': 3, 'mw9ambgafq': 1, 'deepwater': 3, 'gains': 4, '735m': 1, 'transocean': 1, 'recoversâ': 1, '4mnetingxl': 1, 'debut': 1, 'severino': 1, 'adjustments': 1, 'askin': 1, '4rtpjrhsqe': 1, 'ct5v3lcnkd': 1, 'rbcinsurance': 1, 'quote': 9, 'browsers': 2, 'machines': 1, 'existant': 1, 'photogenic': 1, 'gosh': 2, 'deviceâ': 1, 'atã': 1, '5ng0fzpvds': 1, '94sxki7kvx': 1, 'playoffs': 5, 'positively': 1, 'van': 10, 'nuys': 1, 'fxux987vzx': 1, 'vannuyscouncil': 1, 'youssefyamani': 1, 'equation': 1, 'recipe': 1, 'misery': 3, 'internally': 23, 'gazans': 2, 'jw3hn9ewft': 2, 'presstv': 2, 'nywrkrq7kn': 2, 'sittwe': 6, 'cgf61fpmr0': 2, 'prison': 8, 'conditions': 9, 'genocide': 14, 'ihhen': 4, 'msf': 5, 'boarding': 1, 'galleria': 1, 'apts': 1, '55': 5, 'nmpn2mqzge': 1, 'strategicpatience': 8, 'idp': 8, '8owc41fmbr': 2, '1200000': 1, '11000000': 1, 'prci76howu': 1, 'rtcufag0au': 1, 'rqwuoy1fm4': 6, 'gsa4o1mjnm': 1, 'conditionsprivation': 1, 'i5ma6ewuwc': 1, 'lizhphoto': 1, 'outburst': 1, 'aggression': 1, 'sux': 1, '12news': 2, 'housed': 2, '90th': 2, 'osborn': 2, 'extinguished': 2, 'openly': 4, 'accuses': 5, 'nema': 6, 'materials': 8, 'idps': 4, 'wom': 3, 'khd99oz7u3': 1, 'disadvantaged': 1, 'tinder': 2, 'ynvz1wrgtn': 1, 'i_amtalia': 1, 'sgc72': 1, 'opportunity': 1, '2065': 1, 'museum': 6, 'memes': 4, 'origins': 1, 'expert': 5, 'xlzwtzgqtc': 1, '180': 2, 'reliefweb': 1, '0abgfglh7x': 1, '9000': 2, 'photographs': 2, '1800': 1, 'mandate': 2, 'trace': 4, 'x8i0mhyrmn': 1, 'mightyworld': 1, 'displac': 1, 'hksdk89c6c': 1, 'c1vzjor2qz': 1, 'oof': 1, 'vikings': 2, 'vals': 1, 'employees': 4, '2sjaadrydc': 1, 'rovta5euqo': 1, 'advance': 6, '3s8nhapvch': 1, 'f1nu18card': 1, 'circular': 1, 'ruins': 3, 'od2ratxrqs': 1, '4roisyxjlw': 1, '3r8qozjt7t': 1, 'teq7sri57p': 1, 'qegmrhsms2': 1, 'diplomat': 1, 'v0yrfh9dkc': 1, 'township': 9, 'uelz59wvom': 1, 'pennlive': 1, 'mechanicsburg': 1, 'ohyd7hhcpe': 1, 'systematic': 1, 'grahamwp': 1, 'ineedja_kadeeja': 1, 'phelimkine': 1, '8go68kje4b': 1, '0krw1zyahm': 1, '6ysbcsszys': 1, 'chart': 1, 'wvlah8jrxe': 1, 'refugeesmatter': 1, 'oez7o9ab2c': 1, 'cityofhummus': 1, 'ilnewsflash': 1, 'diasporas': 1, 'elem': 4, 'pomo': 2, 'dydfvz7amj': 2, 'label': 2, 'kjmgteeklp': 1, 'nevada': 1, 'exceptionalâ': 1, 'steady': 1, 'nv': 3, 'nyo1xuebfa': 1, 'droughtgov': 1, 'w0a1mjorhy': 1, 'nratkzyu5e': 1, 'justing': 1, 'jatvpat0mo': 1, '8jvqi9uspl': 1, 'fe9hivfmxq': 1, 'lists': 1, 'abnormally': 1, 'wboxpyozj0': 1, 'setxnews': 1, 'dampen': 1, 'fdzzumyw8i': 1, 'llf': 2, 'oqeq4uegf8': 1, 'vymnrnsthg': 1, '1mvsqg0xke': 1, 'tolerant': 1, 'perennials': 1, 'adzonc7olv': 1, 'ih9itmhfjz': 1, 'nigerians': 1, '5uoophsqu3': 1, 'makewaterwork': 1, 'okanagan': 4, 'maxed': 1, 'txrbdaubnn': 1, 'ue78c7egox': 1, 'westerncanadadrought': 1, 'monte': 1, 'attempts': 1, 'delinquency': 1, 'pasadena': 1, '2wgoucohou': 1, 'marcvegan': 1, 'nondairykerry': 1, 'lb': 1, 'hamburger': 1, 'midwest': 3, 'jevrcwudpm': 1, '91ã': 1, 'humidity': 4, 'dominicana': 1, 'treasures': 1, 'drains': 1, 'kah1kmtrj7': 1, 'columbia': 5, 'trib': 1, 'suspended': 1, 'sep': 2, 'r4yzhxk7lw': 1, 'cloud': 8, 'iot': 1, 'conserve': 1, 'nnv3zwvant': 1, 'gfrost1985': 1, 'jeffpalmer16': 1, 'jxomdltj73': 1, 'finding': 3, 'customers': 3, 'dqsvyusy': 1, 'spreads': 2, 'etx': 1, 'marion': 1, 'harrison': 1, 'counties': 2, 'kltv7': 1, 'v8eg2ksloh': 1, 'worsen': 1, 'surrounding': 2, 'haveâ': 2, 'olzavtjfkh': 1, '2sz7okjrxi': 1, 'droughtmonitor': 1, 'moderate': 2, 'contig': 1, '80m': 1, 'ybe9jqoznr': 1, '328szfletz': 1, 'neat': 1, 'uaodoquda1': 1, 'conservation': 2, 'urged': 2, 'thompson': 1, 'dj4qw8yfw5': 1, 'karinagarciaxo_': 1, 'bud': 2, 'californians': 1, 'sahel': 1, 'desert': 5, 'chore': 1, 'ysg9vsrt4g': 1, 'kondobyjaymoni': 1, 'fqlskejwxh': 1, 'anticipate': 1, 'jonbuda': 1, 'tattooine': 1, 'wd4udsxacq': 1, 'meets': 2, 'fueled': 3, 'rkdzb0tgc3': 1, 'spreading': 3, 'rapidly': 6, 'macon': 1, 'warnerrobins': 1, 'milledgeville': 1, 'gawx': 2, 'phnez60cwe': 1, '_ashj': 1, 'v4br5gjmiy': 1, '_gaabyx': 1, 'activist': 1, 'mydrought': 1, 'bringing': 11, 'waterâ': 1, '2zvhx41i9v': 1, 'mkqsvp8e0g': 1, 'ml8irhwg7o': 1, 'eerie': 2, 'revealing': 1, 'cadrought': 1, 'lakeisabella': 1, 'jpanzar': 1, 'pvexbiiqsk': 1, 'mane': 1, 'raiders': 2, 'sorrows': 3, 'yqiz2p1rsm': 1, 'karijobe': 1, 'tambourine': 1, 'codycarnes': 1, 'ag_usa': 1, 'gecko': 1, 'chillin': 1, 'wxela91juh': 1, 'anchors': 1, 'closing': 4, 'porcupine': 1, 'iylvzy3cob': 1, 'lowkey': 1, 'acmrm833zq': 1, 'chromsucks': 1, 'choke': 1, 'tube4nbqnz': 1, 'sjoeing76t': 1, 'cameronhigdon34': 1, 'demons': 2, 'graysondolan': 4, 'dolphfan36': 1, 'lwilliams_13': 1, 'ev': 2, 'cortneymo_': 1, 'buffs': 1, 'oaqtjawgxg': 1, 'jasminehuerta24': 1, 'mustard': 1, 'ladytraining': 1, 'craft': 1, 'spoiled': 2, 'native': 2, 'australians': 1, 'oceans': 1, 'insults': 1, 'devote': 1, 'reprocussions': 1, 'retroactive': 1, 'memory': 5, 'whiskey': 1, 'nathan': 2, 'jonesboro': 1, 'leftover': 2, 'chilis': 2, 'wishing': 3, 'mall': 5, 'clementines': 1, 'genuinely': 1, 'reallyyy': 1, 'affection': 1, 'utp': 1, '7vsqqsvgni': 1, 'fr5z9wklmz': 1, 'brb': 1, 'absolute': 7, 'wagyu': 1, 'steak': 3, 'heaping': 1, 'moist': 2, 'smuckers': 1, 'grape': 1, 'vanquiishher': 1, 'kessily': 1, 'allthekidneybeansandsorbet4misha': 1, '_dmerida': 1, 'drowned': 44, 'nataly': 1, 'cheer': 2, 'clev': 4, 'cleverbot': 1, '7s1gfnebgt': 1, 'ursula': 1, 'drool': 1, 'protoshoggoth': 1, 'sort': 4, 'kiddie': 2, 'ploppy': 1, 'moa0q0aufa': 1, 'floridaâ': 2, 'nkou7zwwrt': 1, 'gamergate': 3, 'uhf7nyabsw': 1, 'stephen_georg': 1, 'yellows': 1, '0sa6xx1oq7': 1, 'bf3ohacb1r': 1, '700': 1, 'squeeze': 3, 'lsyptk18se': 1, 'abcnews24': 1, 'peterdutton_mp': 3, 'labor': 1, 'fnaf': 1, 'fanfiction': 1, 'trixie_drowned': 1, 'pageshi': 1, 'proxies': 1, '366nhtg3tz': 1, 'promo': 1, 'areâ': 2, 'vox99fwkcx': 1, 'dw_english': 2, 'cubc0nq6fd': 1, 'ufo4ublogeurope': 1, 'ashley': 2, 'cbhe0exira': 1, 'riwup1rbhu': 1, '86pknkchmr': 1, 'rtx4o0siyh': 1, 'tlot': 1, 'waar': 1, 'ctot': 1, 't4pv0nroov': 1, 'pseylyzck4': 1, 'visting': 1, 'georgina': 1, 'rat': 4, 'cafe': 4, 'pylfb3ti9u': 1, 'emotion': 1, 'u8h5s8ops5': 1, 'nlu': 1, '_itsdanie_': 1, 'noooo': 1, 'fetch': 1, 'pyjamas': 1, 'k9asktwxfl': 1, 'oilersjaysfan': 1, 'swam': 1, 'bounced': 1, 'suffice': 1, 'bullied': 1, 'hoodie': 1, 'lj': 1, 'abandoned': 16, 'ej': 1, 'mfl7jzspou': 1, 'beastburger': 1, 'beyondmeat': 1, 'nowhere': 4, 'ketchup': 1, 'dijon': 1, 'uplifting': 1, 'anchor': 1, 'i9hw0qzovy': 1, 'austinpearcy22': 1, 'tilgurkv7z': 1, 'abrianna': 1, 'seeker': 1, 'zsykzj2bzg': 1, 'benwunsch': 1, 'dollars': 3, 'alameda': 1, 'coke': 1, 'hadn': 1, 'qyu8grorq1': 1, 'ppji1tcnml': 1, 'scraped': 1, 'summer2k15': 1, 'calaisâ': 1, 'py4mtw5xpm': 1, 'eeasterling_2': 1, 'dinosaurdracula': 1, 'remorse': 2, 'jason': 1, 'vi': 2, 'irhh2gvsed': 1, 'coalition': 1, 'fondness': 1, 'backing': 1, '1984': 1, 'totalitarianism': 1, 'surprise': 6, 'copied': 1, '58wvchg1m9': 1, 'janiethekillr': 1, 'sketchbook': 1, 'biting': 1, 'mask': 1, 'caitlin': 7, 'kiernan': 7, 'centipede': 7, 'numbered': 7, 'mwcnvtcxvu': 1, 'clolmorpld': 1, 'm2yuxnqlqy': 1, 'v8gkkfmfxt': 1, 'grace': 5, 'fences': 1, 'idiots': 2, 'swollen': 1, 'rivers': 3, 'iiii': 1, 'riveeeeeer': 1, 'autistic': 10, 'maine': 4, 'dove': 4, 'broth': 1, 'pihuiaor5o': 1, 'mourns': 3, 'superhero': 4, 'epilepsy': 5, 'bradley': 2, 'diebold': 2, 'epilepticâ': 1, 'unsayjdtu7': 1, 'z8r6r3nbtb': 1, 'namffldh5h': 1, 'explanation': 1, 'request': 2, 'provided': 3, 'epilept': 1, 'asan4ygd48': 1, 'lend': 1, 'acrylic': 1, 'x17fubqbgg': 1, 'tcjfckxdzl': 1, 'emtxtgo4ce': 1, 'annoucement': 1, '7bevuje5ep': 1, 'mouse': 2, 'septic': 2, '_jeesss_': 1, 'ethereal_7': 1, '7giglwdmhy': 1, 'jlabuz': 1, 'heyimbeeyt': 1, 'fcking': 1, 'nashsnewvideo': 1, 'epzwaseyky': 1, 'cfevtrsc1u': 1, 'sometimesi': 1, 'anxietyproblems': 1, '9y0paj8sxd': 1, 'oldjsowky5': 1, 'nigeltanner1': 1, 'newly': 1, 'maple': 1, 'challenge': 4, 'dravet': 1, 'drowns': 1, 'vbo1tjndps': 1, 'performing': 3, 'cbaxj72lvc': 1, 's9wxiditjh': 1, 'spirits': 3, '2zjcfazs2n': 1, 'jaavvwdoz6': 1, 'mcsek4hx5s': 1, 'iifgaz0fil': 1, 'brochure': 1, 'downside': 1, 'costs': 10, 'dã': 1, 'jã': 1, 'vuuuuu': 1, 'befoooooooore': 1, 'jarmusch': 1, 'vampires': 1, 'eomdghralg': 1, 'i4sg3nvgp8': 1, 'blank': 1, 'expression': 1, 'cheeks': 1, 'clapping': 1, 'marvins': 1, 'subtlety': 1, 'erecting': 1, 'monuments': 1, 'actavis': 1, 'yzzxxknism': 1, 'zzsee5hipm': 1, 'newsvideos': 1, '8nzt51ew14': 1, 'homukami': 1, 'srs': 1, 'rs': 4, 'ns': 3, 'hw': 1, 'ohlordy': 1, 'nwspocatello': 1, 'brunt': 1, 'grayed': 1, 'dust': 54, 'interspersed': 1, 'clouds': 4, 'sods': 1, 'amman': 1, 'diverted': 1, 'gurion': 1, 'jkpjpch9i6': 1, 'disappear': 3, 'atmospheric': 3, '0mnpcer9no': 1, 'newz_sacramento': 3, 'modis': 2, 'morocco': 2, 'straits': 2, 'gibraltar': 2, 'qwqnni7vmz': 1, 'duststorm': 2, 'fidget': 1, 'bullet': 4, 'ricochet': 1, 'totoooooo': 1, 'totoooooooooo': 1, 'historicalmages': 1, 'stratford': 1, '18th': 1, 'april': 3, '1935': 1, '4awc16uuwb': 1, 'weakening': 2, 'lubbock': 2, 'outflow': 3, 'boundary': 2, 'create': 11, 'gusts': 8, 'pw3tzu0tay': 1, 'blowing': 5, 'yelling': 2, '9nwajli9cr': 3, 'tkmotaeaco': 1, 'tpoaprjudp': 1, '0yl3yt4ylh': 1, 'ghostprotocol': 1, 'alice': 1, 'uluru': 1, '4ilt6fxu45': 1, 'screenshots': 7, 'combat': 7, 'qq1yw0brsr': 1, 'jmj9izvvzo': 1, 'sneezing': 1, 'smack': 1, 'trailed': 1, 'colin': 1, 'goodness': 1, 'fee': 3, 'rotary': 1, 'guard': 4, 'uvopwz': 1, 'susfu': 1, 'cptesco': 1, '39pm': 1, 'ekkrudqzbv': 1, 'magnum': 5, 'opus': 5, 'beenâ': 1, 'l8dh8klrkr': 1, 'retiredfilth': 1, 'brewing': 4, 'thunder': 61, 'christinaperri': 1, 'askceeps': 1, 'colinodonoghue1': 1, 'vantage': 2, 'backups': 1, 'eastbound': 3, 'visibility': 2, 'geyser': 1, 'l5vaklr59m': 1, 'riyadh': 2, '45cmaqf8ns': 1, 'qhbzkerott': 1, 'cogxbox': 1, 'xboxone': 1, 'lbmekyphm5': 1, 'watches': 1, '500th': 1, 'duststormfilm': 1, 'idwx': 1, '0cr74m1uxm': 1, 'sruj5zljgl': 1, 'economics': 1, 'dakota': 2, 'hubert': 1, 'humphrey': 1, 'hookier': 1, 'stills': 1, 'h8yjcfg8hv': 1, 'challenging': 1, 'jf5ft5cq9j': 1, 'raw': 3, 'rolls': 2, 'qllkofdyzx': 1, 'rgjjumnnah': 1, 'legacyofthesith': 1, 'sagacioussaber': 1, 'lordofbetrayal': 1, 'crescent': 1, 'formation': 2, 'trails': 1, '82ndabndiv': 1, 'paratroopers': 1, 'loading': 2, 'ugesklcn8m': 1, '60mph': 2, 'j4ni4n0yfz': 1, 'vrpmplczcy': 1, 'whatupdave': 1, '2075': 1, 'mars': 2, 'supply': 7, 'pickathon': 1, 'sunsetballard': 1, 'tomonakayama': 1, 'rtggzwcaix': 1, 'ir7vaxehew': 1, 'deadlydemi': 1, 'staying': 1, 'barrier': 2, 'tã': 1, 'ã¼p': 1, 'goggles': 1, 'circle': 4, 'ka1hbjlqvw': 1, 'lasts': 1, 'settle': 3, 'prevail': 2, '1cjyfy8ixj': 1, 'mudgu1puns': 1, 'aqxwolbcfq': 1, 'pheonix': 1, 'amgfonzusd': 1, 'q1jbreesxv': 1, 'sismo': 13, '4km': 2, 'interlaken': 2, 'time2015': 18, 'utc2015': 18, 'wa5c77f8vq': 1, 'helens': 1, '2xmdidgpnr': 1, 'contruction': 2, 'upgrading': 2, 'ferries': 2, 'standards': 2, 'vashon': 2, 'mukilteo': 2, 'q13': 1, 'e981dgskab': 1, 'earthquakenews': 1, '3novices': 1, 'renison': 2, 'seismic': 49, '2i4eoggo5j': 1, 'tasmania': 4, 'tin': 2, 'temâ': 1, 'shelli': 4, 'entitlement': 1, 'sicily': 7, 'users': 7, 'v3azwoamzk': 4, 'usgs': 14, 'eq': 5, '23km': 2, 'twentynine': 2, 't97jmbzobo': 1, 'rftyyz4gwj': 1, 'lau0ay7ahv': 1, 'aftershocks': 1, 'hkbpqdncba': 1, 'ml': 4, 'magnitudeã': 1, '4regionã': 1, '0wdazlcm90': 1, 'cs': 3, '8km': 1, 'ssw': 2, 'anza': 2, '3bwwnlsxhb': 1, '15km': 4, 'anchorage': 9, 'qfyy5azifx': 1, '5km': 14, 'hawaii': 14, '3rrght4ewp': 2, 'raffi_rc': 1, 'sustainourearth': 1, 'oklahoma': 19, 'limit': 6, 'wells': 1, 'yru4nphdrf': 1, 'thiâ': 2, 'epicenter': 3, 'mbo6oaniqi': 1, 'earthtwerk': 1, 'scseestapreparando': 1, 'mag': 1, '73km': 1, 'khuzdar': 1, 'wednes': 1, 'i6lmccclv5': 1, 'volcanodiscover': 1, '140km': 1, 'ferndale': 1, '8t8oscs4w7': 1, 'kf0qybkzol': 1, 'sm': 6, 'ageekyfangirl14': 1, 'significant': 4, 'humor': 1, 'farts': 1, 'creates': 2, 'lizxy_': 1, 'icttz0divr': 1, 'loupascale': 1, 'coping': 4, 'mechanisms': 1, 'ubwdbydk1a': 1, 'manuscript': 1, 'suspiciously': 1, '6vbqewsl1j': 1, 'viayoutube': 1, 'greenlacey': 2, 'godslove': 5, 'thanku': 5, 'cybksxhf7d': 8, 'tsunami': 45, 'z6hxx6d2pm': 1, 'euroquake': 1, 'm1': 5, '94': 6, 'njd28pg9xv': 2, 'gns': 1, 'unnecessary': 2, 'legislation': 3, '4ryzmzsgdw': 1, 'emily': 1, 'rossum': 2, 'difficultpeople': 1, 'ojq0kfg5ub': 1, 'z0ver1hvm9': 1, 'upgrades': 1, 'vulnera': 1, 'au5jwgt0ar': 1, 'gpv': 1, '06jst': 2, '6aug': 4, 'wnw': 1, '12jst': 1, '18jst': 1, 'l6jbjaj8dm': 1, 'fiji': 1, '3km': 1, 'nnw': 3, 'henshaw': 1, 'f9kqksosw3': 1, 'zqrcptlrum': 1, '1km': 1, 'nne': 1, 'geysers': 1, 'x6el3ysycn': 1, 'epicen': 1, 'hkiipyx5jl': 1, 'darchambau': 2, 'encouragement': 4, 'ramona': 1, 'unitedstates': 2, 'ztolvgkduk': 1, 'ak': 6, 'wvu08yjgok': 1, 'emsc': 2, '6aimd1uway': 1, '9cgbjwmhii': 1, 'emmy': 1, 'vswivodckl': 1, 'megaquake': 1, '9f3rdn9n3d': 1, '96km': 1, 'brenas': 1, 'atâ': 3, 'sdzrrfzhmy': 1, 'adanne___': 1, 'kindly': 2, 'maeisdumb': 1, 'whoahahahahhdjs': 1, 'electrocute': 45, 'dnt': 1, 'devon_breneman': 1, 'heated': 2, 'blanket': 5, 'ds': 2, 'elecman': 1, 'extends': 3, 'tub': 1, 'niall': 3, 'jinx': 1, 'edison': 1, 'lightbulb': 1, 'teslas': 2, 'achievement': 1, 'unlocked': 8, 'replaced': 1, 'socket': 2, 'unhealthy': 1, 'i_electrocute': 1, 'zxathetis': 1, 'badly': 2, 'weallheartonedirection': 4, 'wouldnâ': 4, 'nc2d6irm2u': 1, '26oo0fcl53': 1, 'baa': 1, 'x7p1xabwtz': 1, 'fgkpytikti': 1, 'pepsi': 1, 'headphones': 5, 'mmchale13': 1, 'tries': 5, 'spoilers': 1, 'erally': 1, 'unplug': 1, 'ac': 2, 'myelf': 1, 'delete': 2, '9zmwt9xydz': 1, 'lightseraphs': 1, 'pikachu': 1, 'doors': 6, 'omar_molina036': 1, 'milioooo_': 1, 'emilio': 1, 'macy': 1, 'thanksgiving': 1, 'kayla': 1, 'touch': 5, 'bangtan': 1, 'uwijmegl4e': 1, 'policies': 1, 'buckley': 1, 'jr': 3, 'joelheyman': 1, 'understanding': 5, '750k': 1, 'subs': 7, 'influence': 3, 'anythinâ': 1, 'oer5hh41ew': 1, 'beard': 3, 'any1': 3, 'hideous': 1, 'uglypeople': 1, 'el_torro_loco': 1, 'conversation': 3, 'senator': 6, 'electricity': 6, 'golf': 8, 'hooked': 1, 'wiabcyparm': 1, 'cooking': 2, 'electrocuted': 51, 'crucial': 2, 'psychic': 1, 'pakpattan': 2, 'correspondent': 2, 'frpbnhvpyi': 1, 'backyard': 2, 'wrapped': 5, 'fb3do910fc': 1, 'cactus': 1, 'borderlands': 1, 'borderlands2': 1, 'oocvg': 1, 'ftw': 1, 'redblood': 1, 'videoclip': 1, '9pymm2ruwf': 1, 'that_': 1, '_guy': 1, 'elephant': 5, 'cables': 2, 'nwq6wjqk1z': 1, 'khulna': 1, '3enyndxppm': 1, 'gqpi7jmkan': 1, 'worker': 7, '17000': 3, 'penalty': 4, 'nsgwicyxft': 1, 'grabbed': 2, 'rjrozmjf2n': 1, 'n8ezfctfce': 1, 'rowysolouisville': 1, 'hxvfmouhdm': 1, 'steveycheese99': 1, 'mapmyrun': 1, 'map': 14, 'stung': 1, 'x6asgrjswc': 1, 'sharks': 2, 'whales': 5, 'flicks': 1, 'penjhc4zcx': 1, 'bbcnews': 3, 'mwlippert': 1, 'southkorea': 1, 'electrocutedboiling': 1, 'waterfur': 1, '3a50dhz7yi': 1, 'plug': 8, 'hairdryer': 1, 'earths_voice': 1, 'tigers': 2, 'appalling': 1, 'businessmen': 1, 'jlwhaowfqa': 1, 'saveti': 1, 'boomshunga': 1, 'ellaemusic_': 1, 'plugging': 1, 'drying': 1, 'philadper2014': 1, 'sweated': 1, 'earbuds': 2, 'sockets': 1, 'wondering': 6, 'earphones': 1, 'sultry': 1, 'rosenbergs': 1, 'bedhair': 1, 'vagrant': 1, 'hairdryer180': 1, 'shgames': 1, 'disable': 1, 'eco': 2, 'magically': 1, 'zotar': 1, 'skeleton': 1, 'alchemist': 1, 'atamathon': 1, 'golem': 2, 'gpwrc1kz5i': 1, 'nankana': 2, 'sahib': 2, 'electr': 1, 'werk9qibvv': 1, 'mumbailocals': 1, 'lessonforlife': 1, 'marinelines': 1, 'worked': 8, 'pressing': 1, 'shirts': 2, 'faulty': 2, 'docked': 1, 'elsa': 2, 'vacation': 5, 'penneys': 1, 'ryah8fni5q': 1, 'iwouldntgetelectedbecause': 1, 'wires': 1, 'elected': 1, 'whistleblower': 1, 'lawsuit': 4, 'supervisor': 4, 'ipwysnik0g': 1, 'whistle': 3, 'cree': 24, 'knife': 5, 'cm7hqwwulz': 1, 'kdwazhqtov': 1, 'garage': 3, 'repairing': 1, '11211': 1, 'offerings': 1, 'uac': 1, 'brooklyn': 21, 'wmqoz81r43': 1, 'motors': 2, '452': 2, 'vcaptrnmie': 1, 'manual': 2, 'boot': 6, 'brake': 2, '5â': 2, 's2ltphtgtj': 1, '11000': 3, 'vegetable': 4, 'mre': 3, 've78djgha5': 1, 'ugubwrpqfp': 1, 'lh9mrypdrj': 1, 'mp3': 1, 'pqhuthss3i': 1, 'rar': 1, '0iw6drf5x9': 1, 'dispatchers': 1, 'boone': 1, '5fhkxtrhyu': 1, 'nashnewvideo': 1, 'twdnnaions': 1, 'nashgrier': 1, 'dilemma': 1, 'righteousness': 1, 'jah': 1, 'n0tiy7su1c': 1, '2oroyunym2': 1, 'c9jnxz3dxc': 1, 'ddhwori5w1': 1, '37592': 1, 'tooth': 3, 'replacement': 1, 'dental': 4, 'cosmeâ': 1, 'zcvfc500yy': 1, 'oh4ysttyco': 1, 'x8kv8tzze8': 1, 'forbid': 2, 'contacts': 1, '8pfmsypg5b': 1, 'netydvtlnb': 1, 'registered': 7, 'nurse': 9, 'supplemental': 1, 'modesto': 1, 'yiyspjlkzo': 1, 'nursing': 13, 'alaskaâ': 1, 'wales': 1, 'nearing': 1, 'extinction': 1, 'standforwolves': 1, 'hbwoivjqkd': 1, 'importance': 1, 'exits': 1, 'sounding': 2, 'familiar': 1, 'newyorkcity': 1, 'lennox': 1, 'drjustinmazur': 1, 'kuwait': 3, 'diverts': 1, '5aiexcbkfq': 1, 'radychildrens': 1, 'specialists': 2, 'igwstttkwk': 1, 'stl': 2, 'grille': 1, 'mounts': 1, 'speedtech': 1, 'amber': 1, '544': 1, 't6seku4yvm': 1, 'tjoz4u4txl': 1, 'x2': 1, 'designed': 4, 'quests': 1, 'dchfpxgy2m': 1, 'ughptzjulk': 1, 'indiana': 3, 'reopening': 3, '65': 2, 'repairs': 4, '415': 1, '751': 1, '0880': 1, 'canal': 1, 'tookitlikeaman': 1, 'lovemydentist': 1, 'runner_joy': 1, 'clients': 1, 'wart': 1, 'childfund': 1, 'pqhq4jnztt': 1, 'fx0w2sq05f': 1, 'careemergencies': 1, 'appeals': 1, 'practitioner': 1, 'healthcare': 3, 'recruitment': 1, 'counselors': 1, 'wasilla': 1, 'lkz5cnynxx': 1, 'fund': 5, 'expense': 1, 'iz17klelzc': 1, 'broader': 1, 'akgovbillwalker': 1, 'reinstate': 2, 'buffer': 3, 'protectdenaliwolves': 2, 'aul': 1, 'excuse': 3, 'advances': 1, 'treasure': 1, 'outbreed': 1, 'akx': 1, 'peacetime': 1, 'leandotorg': 1, 'lean': 1, 'suzbkyw5tt': 1, 'stephghinojosa': 1, 'addict': 1, 'teams': 5, 'responded': 3, 'gzxipmoknb': 1, 'blonde': 5, 'natalia': 1, 'starr': 1, 'qew4c5m1xd': 10, 'firetruck': 2, 'sirensâ': 1, 'hcyajsacfj': 1, 'jk': 1, 'mkbq2ye4wq': 1, 'batfanuk': 2, 'declined': 3, '143': 1, 'adndotcom': 1, 'chowtaxis': 1, 'newport': 1, 'jackie': 1, 'bristol': 1, 'kits': 1, 'alertness': 1, 'gmanews': 1, '3galbowitn': 1, 'install': 2, 'frp': 1, 'tunas': 1, 'kijangbank': 1, 'negara': 1, 'zpqwkhfhnf': 1, 'odai': 1, 'bucharest': 1, 'romania': 1, '600': 17, 'pjigxpvpl0': 1, 'printable': 1, 'templates': 1, 'naex0q1ax0': 1, 'dec': 1, 'dywwnbbyvj': 1, 'h20': 1, 'deploy': 1, 'troops': 11, 'poconorecord': 1, 'emergencymgtmag': 1, 'households': 1, '7zlsumiess': 1, 'tdcch01n7q': 1, 'blackmail': 1, 'municipal': 14, 'deactivated': 3, '37l4quaavu': 1, 'activated': 7, 'ha5boppejy': 1, 'storms': 15, 'activates': 9, '4oi9hmo7om': 1, '119': 1, 'sri': 1, 'lanka': 1, 'f7ljwxj5jp': 1, 'reddit': 83, 'devise': 1, 'nieces': 1, 'megan': 1, 'swanger': 1, 'ruthann': 1, 'mccormick': 1, 'daisy': 1, 'henley': 1, 'dl60ja06tw': 1, '240zliebrk': 1, 'go2markfranco': 1, 'spoke': 4, 'caleen': 1, 'sisk': 1, 'shastadam': 1, 'funded': 1, 'wfocus': 1, 'winnemem': 1, 'eu21n1g1zx': 1, 'r5bgvlqpjt': 1, 'mehwkzwtxd': 1, 'cityofcalgary': 4, 'pc7s8nxj6q': 1, 'yyc': 16, 'abstorm': 13, '9xohmmlmdy': 1, 'iys9xwpvmk': 1, 'rs40000cr': 1, 'lifeline': 1, 'fci': 1, 'waste': 17, '3_6_12': 1, 'capacity': 4, 'nw': 8, 'workplace': 3, 'retail': 4, 'txqzn6gtha': 1, 'businsmagazine': 1, 'announces': 2, '0x2bieqxpv': 1, '311': 1, 'ch6e7vtatr': 1, '660': 1, 'kfbjvjivqb': 1, 'bn7xpzqdm0': 1, '660news': 1, 'nenshi': 1, 'activate': 2, 'arktj9qn4s': 1, 'arabic': 2, 'vietnamese': 3, 's0ktiliskq': 2, 'counterstrike': 1, 'z5y4xr14w6': 1, 'prosyndicate': 1, 'mlvbg6seka': 1, 'vfbbchwrfd': 1, 'based_georgie': 1, 'forreal': 2, 'incase': 2, 'presidentâ': 1, 'whipe': 1, 'rebeccaforreal': 1, 'accepts': 1, 'wisconsin': 1, 'govwalker': 1, 'nbc15': 1, 'pis0aivrbr': 1, 'cruise': 2, 'h3dch6fyaw': 1, 'biztip': 1, 'alternative': 1, 'u59dmrnltk': 1, 'sami': 1, 'iqixjtuewh': 1, 'rdovqauax5': 1, 'autism': 1, 'specialneeds': 1, 'feinstein': 2, 'vets': 4, 'gm80x3vutf': 1, 'airdrie': 1, 'okotoks': 1, 'i7qx4haz6r': 1, 'cochrane': 1, 'enacted': 1, 'cbccalgary': 1, 'underpes': 1, 'enacts': 1, 'undone': 1, 'adverse': 1, 'gotriangle': 1, 's7xdxuudcy': 1, 'prompts': 7, 'activation': 1, 'aâ': 4, '7jcr8reguv': 1, 'approach': 4, '8ihuco4glw': 1, '14cicptkna': 1, 'kimacheson': 1, 'refuse': 3, 'payment': 2, 'concludes': 1, '93iaeec26t': 1, 'overload': 2, 'celebrations': 2, 'hxtupra5bc': 1, 'dqxkjibbky': 1, 'chrisroth98': 1, 'chaselabsports': 1, 'chillimik': 1, 'hushlegs': 1, 'comparing': 2, 'yourselves': 3, 'brilliant': 1, 'tflbusalerts': 3, 'ilford': 1, 'glenstannard': 1, 'essexweather': 1, 'abouts': 1, 'providence': 6, 'i3hzemldpu': 1, 'torrance': 1, 'task': 2, 'levy': 1, 'wdtv': 1, '2fibe2haxc': 1, 'trained': 3, 'rescues': 3, 'q9oxqfdgwx': 1, 'fte': 4, 'olympia': 1, 'yu6nue7gfb': 1, 't71ekcpmwl': 1, 'served': 7, 'pl2vzlrkvk': 1, 'committee': 4, 'drbcrypj4p': 1, '7p': 2, '7a': 2, 'nv3uxv9imx': 1, 'tx': 3, 'ej30ihrea9': 1, 'snubza6ksc': 1, 'veterans': 9, 'vet': 4, 'ensure': 1, 'proper': 3, 'treatmen': 1, 'unsure': 1, 'paging': 1, 'uxqkieqdyf': 1, 'ballina': 1, 'sighting': 1, 'eu5tktptpw': 1, 'zvqwlpscsc': 1, 'locksmith': 3, 'domesticate': 1, 'mechanic': 1, 'circa': 2, 'gba': 1, '1q6ccffzv6': 1, 'genefmyburgh': 1, 'crimeairnetwork': 1, 'delivery': 1, 'thisisafrica': 1, 'suny_orange': 1, 'budget': 13, 'ctr': 1, 'goshen': 1, '80dzgco6vc': 1, '30p': 1, 'siena': 1, 'henderson': 1, 'fdiu44jldj': 1, 'processes': 1, 'streamlined': 1, 'insofar': 1, 'organization': 1, 'abbog': 1, 'missionhills': 2, 'zsnsar1tw1': 1, 'karen': 1, 'enviromental': 1, '1meeo3wjco': 1, 'jinxy1888': 1, 'genius': 3, 'economist': 1, 'teachers': 5, 'payforithow': 1, 'tfl': 1, 'downtime': 1, 'icsfdsifqb': 1, 'mended': 1, 'bodyâ': 1, 'uwmprv0ud5': 1, 'urjwsvr311': 1, '7jfreteii4': 1, '3p': 1, '30a': 2, 'lima': 1, 'xqrlewia4x': 1, 'dials': 1, 'awesomejobsiri': 1, 'shutdown': 2, 'systems': 4, 'edmonton': 5, 'f8gvwkfqox': 1, 'kodiak': 3, '8kj1wdaigj': 1, 'plumber': 2, 'localplumber': 1, 'v3lzwkqso7': 1, '9lyx7zmthe': 1, '5pbc96rtmj': 1, 'swedish': 1, '4kdthctemv': 1, 'goulburn': 2, 'henry': 3, 'bilsen': 1, 'hisâ': 1, 'z99pkjztrp': 1, 'mickbland27': 1, 'disturbing': 1, 'zoepzsoky1': 1, 'aqcsusqbdy': 1, 'peds': 2, 'fellowship': 2, 'amcmcltkkc': 1, 'tarzana': 1, 'hkyfkug5zw': 1, 'gph5vgayiy': 1, 'stressed': 3, 'hysteria': 2, 'grey': 6, 'misty': 1, 'indifference': 3, 'vz4rpcftrm': 1, 'returning': 2, 'normal': 6, 'southline': 1, 'yennora': 1, 'cabramatta': 1, 'swayoung01': 1, 'recognised': 1, 'simon': 2, 'xxwm544ygf': 1, 'careerarc': 1, 'pediatric': 2, 'specialized': 1, 'k1tmlwvjmj': 1, 'hhiuzieltr': 1, 'issaquah': 1, 'z5grlrey6v': 1, 'bodminmoor1': 1, 'experienced': 4, 'expertise': 1, 'cornwalls': 1, 'finest': 1, 'snackwave_julie': 1, 'engulfed': 50, 'parley': 8, 'canyon': 10, 'p6cylz5lpt': 1, 'jpu9gips9f': 1, 'jajfxaoemp': 1, 'fujvf6foar': 1, 'tribal': 10, 'madinah': 7, 'prophetmuhammad': 7, 'islam': 30, 'travel': 20, 'wrmspcpml3': 1, 'nwolqktxaf': 1, 'cyzlshlqhg': 1, 'ndis8f1vzt': 1, 'trafficalert': 1, '210': 1, 'freeway': 2, 'citrus': 1, 'azusa': 1, 'motorcycles': 1, 'ldgwsyowss': 1, 'cnyvvy4wat': 1, 'kcpgay4flj': 1, 'bzqc6juaix': 1, 'accepte': 1, 'vg8hrbebda': 1, '2wfqctn62v': 1, 'j4pmcec4xh': 1, 'um6weiujyw': 1, 'fm92uk6yp2': 1, 'induced': 1, 'tidal': 3, 'flamecored': 1, 'colliding': 1, 'projectile': 1, 'fnaf_talkmc': 1, 'smiling': 2, 'inã': 3, 'xkonkz0zl6': 1, 'dxvtgi1bvo': 1, 'intimate': 2, 'ykvsttvdwo': 1, 'ifqqpur99x': 1, 'tfan6qq2ys': 1, 'rakwwritpo': 1, 'jumper': 2, 'cimubweyib': 1, '9r5fsts7bd': 1, 'godsfirstson1': 1, 'practically': 1, 'raheelsharif': 1, 'manifesting': 1, 'helm': 1, 'stormy': 1, 'disdain': 1, 'yzdmouxqbo': 1, 'pexfgawrg1': 1, 'equally': 2, 'nothingness': 1, 'emerges': 2, 'blaise': 1, 'pascal': 1, 'propane': 1, 'sunnymeade': 1, '1tvffba95l': 1, 'aljwawkxpj': 1, 'afzjamlfe6': 1, '7v7ytejl3j': 1, 'xjju7men8f': 1, 'suelinflower': 1, 'describe': 1, 'painthey': 1, 'screamed': 52, 'lifeits': 1, 'zachzaidman': 1, '670thescore': 1, 'wld': 1, 'cart': 3, 'boycottbears': 1, 'parleyâ': 1, 'summit': 3, 'rmucfjcazr': 1, 'i9dspdkruk': 1, 'nep5azwkna': 1, 'zevan9kjzl': 1, 'uuzfs1l5kt': 1, 'yfavsuogvl': 1, 'isi1rllct0': 1, 'fxdh3u8bq3': 1, 'yzhvobgocq': 1, 'wplrhbfhee': 1, 'eelex4ssvf': 1, 'baffling': 1, 'lucas': 1, 'duda': 1, 'ghost': 2, 'nic': 1, 'carneross': 1, 'remarkably': 1, 'puny': 2, 'epicentre': 10, 'capitalism': 3, 'epoch': 1, 'dspws6hj8w': 1, 'aliveafter5': 1, 'sc4twjkxr1': 1, 'yn6duotimr': 1, 'u2fuk072f9': 1, 'elisagxrcia': 1, 'vault': 2, '7nu7prxeul': 1, 'tanzania': 2, 'census': 3, 'yxtzbtvmhm': 1, '7jggqwbv6s': 1, 'specials': 1, 'calestous': 1, '8zy9n6fx9t': 1, 'itz9masbvz': 1, 'defeater': 1, 'yeaahh': 1, 'becoming': 3, 'icrgseagya': 1, 'kpvymhm2ub': 1, 'cydia': 1, 'tweak': 1, 'wkmfdig3nt': 1, 'phillipten': 1, 'jailbreak': 1, '48tpnmbjvg': 1, 'mkayla': 1, 'cee': 1, 'petty': 2, 'childish': 1, 'organizers': 1, 'lollapalooza': 2, 'bgerljamte': 1, 'spuhuvgasy': 1, '900037': 1, 'zehrs': 1, '039': 4, 'aptap6yx1r': 1, 'walks': 2, 'fishiest': 1, 'smelling': 2, 'firefigthers': 1, 'northampton': 1, 'hppld1jhtz': 1, 'crown_769': 1, 'heartburn': 1, 'sticks': 3, 'poem': 2, 'tram': 10, 'powerlines': 8, 'carriage': 1, 'tennews': 1, 'hfyrloqy8q': 1, 'cascada': 1, 'dancefloor': 1, 'ohcx3y8l4s': 1, 'disregard': 2, 'fwd': 1, 'jumped': 2, 'salha': 1, 'harry': 8, 'styles': 1, 'p_eople': 1, 'hurry': 4, 'shahada': 1, 'class_sick': 1, 'upddvr6jva': 1, 'deploying': 1, 'hence': 1, 'fronts': 1, 'ad': 5, 'alllll': 1, 'nittys': 1, 'stockwell': 1, 'metlife': 2, 'skq8oucm3r': 1, 'replacing': 4, 'aimlessly': 1, 'detersion': 1, 'hlg': 1, 'efak': 3, 'sites': 8, 'catalinas': 3, 'alexis': 1, 'joonma_': 1, 'dealbreaker': 2, 'abandon': 3, 'alarms': 3, 'omg': 1, 'dungeon': 1, 'mygc': 1, 'suspend': 1, '6e7hhferz4': 1, 'farted': 1, 'broom': 1, 'lookin': 1, 'dispatch': 1, 'rutherford': 2, '1000s': 1, 'wqy3jokumh': 1, 'yourgirlhaileyy': 1, 'leaveevacuateexitbe': 1, 'banished': 1, 'ahhtheenikki': 1, 'gfsl2kwt5h': 1, 'pantalonesfuego': 1, 'grew': 4, 'oaks': 2, 'regal': 1, 'terrified': 2, 'mthe': 1, 'premises': 1, 'meetkakarotto': 1, 'offline': 1, 'hinata': 1, 'roosevelt': 18, 'worsens': 1, 'xkh5s1dr8d': 1, 'emilee': 1, 'milkshake': 3, 'fifa16': 2, 'tournaments': 1, 'whocares': 1, 'criminal': 4, 'murderous': 8, 'nazis': 2, 'misschaela_': 1, 'shops': 2, 'panda': 2, 'murfreesboro': 2, 'dnj_com': 1, 'evaucation': 1, '2nv0whdlut': 1, 'kocomcaboy': 1, 'fhplkex3ok': 1, 'disrupted': 1, '6ezkoof2xt': 1, 'facm78eg7k': 1, 'gc': 1, '9newsbrisbane': 1, '9newsgoldcoast': 2, 'kd3qsakbi5': 1, 'orakei': 1, 'felled': 1, 'auckland': 3, 'ucucmkypdn': 1, 'bickleton': 1, 'liveonk2': 3, 'sqsyueh4yi': 2, 'koin6news': 3, '199t7nd0pm': 2, 'campers': 1, 'blazes': 1, 'wwgadpffkw': 1, 'chesterfield': 1, 'miq39iok3u': 1, 'trafford': 5, 'odeon': 5, 'dzlense1gw': 1, 'tb52o146tx': 1, 'tsbtigdsdt': 1, 'pfmn63vnam': 1, 'vkwqbojfjc': 1, 'hjqba42iy9': 1, 'newsbrokenemergency': 1, 'servicesgold': 1, 'coastpowerlinetramtr': 1, '12000': 20, '42gw2i2q41': 1, 'casper': 3, 'pzeixi4xk7': 1, 'bukidnon': 1, 'z0hsckvysn': 1, 'fortitudevalley': 1, '7am': 1, '8izgxcelcc': 1, 'missleylaha': 1, 'hahahaha': 2, 'tr': 4, 'eysvvza7qm': 2, 'zzweeezjug': 1, 'hook': 2, 'elementary': 1, 'threatâ': 2, 'lwlexxjus8': 1, '6gldwx71da': 1, 'e2hltyyfak': 1, 'pmxezuo4ay': 1, 'x3g2ox6k8r': 1, 'twi': 1, 'ryeqmxirj8': 1, 'manchesterlite': 1, 'safely': 4, 'kzbsohtwb4': 1, '2a4z8pmvve': 1, 'shore': 4, 'norfolk': 1, '6x0xhlbxji': 1, '115film': 1, 'kue48nmjxh': 2, 'bsudxcprsg': 1, 'wxhmp5ppjq': 1, 'negotiations': 1, 'zabadani': 2, 'sunnis': 2, 'cmweiojj55': 1, 'katunews': 2, 'sr14': 2, '1700': 1, 'qposkp3mwj': 1, 'mtqjsvupwy': 1, 'w6f7zis3ka': 1, 't7l8jcjyq3': 1, 'seclusion': 1, 'compliance': 1, 'morevoices': 1, 'bunker': 1, 'cheney': 1, 'catered': 1, 'ktchn': 1, 'nyqf8gqmzg': 1, 'queensland': 2, 'clearlake': 1, 'lik': 1, 'xwbyeaowmw': 1, 'mtfnbhryzq': 1, 'xppqnyhiwc': 1, 'travellers': 1, 'surfers': 2, 'qsheu3yf0w': 1, 'pelling': 1, 'hotels': 1, 'strings': 1, 'concealment': 1, 'rejuvenati': 1, 'ng': 1, 'pqhaxp': 1, 'faan': 9, 'noted': 3, 'zuqgvjneqa': 1, 'devybnvxgq': 1, 'todayng': 1, 'anatomic': 1, 'remodeling': 1, 'iaavroiv': 1, '5rxi47gcaj': 1, 'todayngr': 2, 'veld': 2, 'nothin': 2, 'dvbbs': 2, 'hardwell': 2, 'aboveandbeyond': 1, 'stillnotoverit': 1, 'fijapxykrq': 1, 'humboldt': 1, 'cty': 1, 'sheriff': 3, 'advisory': 12, 'residence': 1, 'lics': 1, 'eruzbuqzyu': 1, 'gsomtdpmoj': 1, 'neediness': 1, 'ulcerated': 1, 'waggon': 1, 'cornwall': 1, 'bnvfdag': 1, 'vietnam': 7, 'patch': 3, '71st': 1, 'highland': 1, 'medics': 1, 'kif7m3fqlx': 1, 'oz6vlwwtnr': 1, 'mwmvicdw9o': 1, 'veldfest': 1, 'refunds': 1, 'pp05etlk7t': 1, '3ol8mhhpma': 1, 'markoturner': 1, 'annaciclismo': 1, '5kfovovjso': 1, 'bend': 3, 'roofing': 1, 'hr': 4, 'swayback': 2, 'ridge': 11, 'voluntary': 3, 'inciweb': 2, 'vn73o4sgzj': 1, 'calfires': 1, 'indexing': 1, 'remedial': 1, 'angioplasty': 1, 'dissertation': 1, 'dismayed': 1, 'vgvjgr8zoo': 1, 'ifak': 2, 'individual': 3, 'aid': 8, 'roofers': 1, 'prompt': 2, '6mf7eyzoaw': 1, 'neces': 1, 'tls40nqipn': 1, 'eric_bulak': 1, 'jaclynsonne': 1, '_oliviaann_': 1, 'guessing': 3, 'gives': 5, 'ultimatum': 1, 'zzpojgngaj': 1, 'dailytimesngr': 1, 'feelingmanly': 2, 'kcem': 1, 'whitner': 1, 'hale': 1, 'madrivercomplex': 1, 'casrf': 1, 'hjwldclie4': 1, 'evac': 1, 'gzegjoakkw': 1, 'calfire_pio': 1, 'robbed': 2, 'willowfire': 1, 'gnwt': 1, 'cabin': 3, 'pickerel': 2, 'reid': 5, 'rvsyxwj9cp': 1, 'na0ptn0dtr': 1, 'accidently': 1, 'exams': 1, 'lolla': 1, 'yrfz5wj7r2': 1, 'ink': 5, 'addresses': 1, 'refund': 1, 'vku3rtoz1j': 1, 'trc': 1, 'torontorc': 1, 'timeâ': 1, 'cabins': 1, 'reidlake': 1, 'maca': 1, 'nwt': 1, 'yzf': 1, 'ibrahimmisau': 1, '5zcje7arci': 1, 'havxobcsvu': 1, 'edyfo6e2pu': 2, 'm5kxlpkfa1': 2, 'survey': 5, 'vlmmcdpkro': 1, 'wmmkirj0hw': 1, 'campground': 1, 'jbodkm6rbu': 1, 'ariabrisard': 1, 'leiaorganasolo': 1, 'misses': 2, 'komo': 1, 'qcpmktgllr': 1, 'saint': 5, 'e1vkc2efst': 1, 'beua507iug': 1, 'wyattmccab': 1, 'copenhagen': 1, 'wintergreen': 1, 'ryan': 3, 'alliance': 2, 'bblf': 1, 'rypgkschng': 1, 'earners': 5, 'sgxp1u5ol1': 1, 'noahcrothman': 1, 'minutiae': 1, 'serve': 2, 'champagne': 1, 'upwards': 2, 'modm8x1ot9': 1, 'ossc7q12ir': 1, 'newã': 1, 'iglnqpgbnw': 1, 'aoesbvns45': 1, 'annealiz1': 1, 'o_o': 1, 'attjcdemos': 1, 'folieacat': 1, 'timebomb': 1, 'destined': 1, 'reaching': 4, 'spinning': 3, 'hitting': 5, '6vei1mhea4': 1, 'ks': 2, 'shizune': 2, 'joys': 1, 'schwarber': 2, 'lthmwtl5fp': 1, 'magicallester': 1, 'chest': 7, 'swea': 1, 'kendall': 2, 'jenner': 2, 'jonas': 1, 'dating': 6, 'pfvzvpxqgr': 1, 'cans': 2, 'kaldi': 1, 'stout': 2, 'u6isxv2f3v': 1, 'moreâ': 2, 'rwprtmibhl': 1, 'sooooooo': 1, 'stomach': 5, 'uclvihwoec': 1, 'rin': 1, 'misha': 1, 'emi': 1, 'kenji': 1, 'yuuko': 1, 'nomiya': 1, 'hisao': 1, 'philadelphia': 3, 'eaglesâ': 1, 'matthews': 1, 'rrq1ildkil': 1, 'hotnewscake': 1, '8rabhqrth5': 1, 'deniseromano': 1, 'cervelli': 1, 'puff': 1, 'allen_enbot': 1, 'brains': 1, 'ill': 8, 'cnxxmffrae': 1, 'tagged': 1, 'attackonstiles': 1, 'doll': 1, 'latssuo4ws': 1, 'e84ifmcczn': 1, 'duck': 3, 'greasy': 1, 'dhambp54ya': 1, 'hourâ': 1, 'zdzj5krbzr': 1, 'anonchimp': 1, 'tie': 3, 'realmandyrain': 6, 'owje3i6ygn': 1, 'deldryden': 1, 'twitch': 1, 'leafs': 1, 'masturbates': 1, 'exploded': 52, '5qhoehe9hf': 1, 'crimsoningv': 1, 'l0vecannon': 1, 'admit': 2, 'seras': 1, 'sasha': 1, 'peice': 1, 'sidewalk': 1, 'kakeru': 1, 'teduka': 1, 'bfore': 1, '70years': 1, 'bomd': 1, '8vzl1ns2io': 1, 'tesco': 2, 'complaint': 1, 'chelsea_dogs': 1, 'pets': 3, 'qzvkpahsq7': 1, 'kopiteluke1892': 1, 'checking': 2, 'speech': 2, 'brandonskeie': 1, 'samsmithworld': 1, 'yetagc2d8a': 1, 'dress': 6, '3drsmxw3cr': 1, 'medinah': 1, '105': 2, '49': 2, '56': 2, 'imkeepingmydayjob': 1, 'kcmbbwwp8g': 1, 'chaning': 1, 'screen': 11, 'aphid': 1, 'northiowa': 1, 'cw6jxyvbnj': 1, 'fromthefield': 1, 'yg32yb2jdy': 1, 'otrametlife': 5, 'pqslug4jk5': 1, 'junko': 1, 'lspnycvolo': 1, 'nh5pkfbfqm': 1, 'alltheway80s': 1, 'carpenters': 1, 'whose': 2, 'drako': 1, 'zarharzar': 1, 'bleach': 1, 'thong': 1, 'shudder': 1, 'boudoir': 1, 'outfits': 1, 'eyeballs': 1, '649': 1, 'metrolink': 1, 'noticed': 3, 'matches': 5, 'mentioned': 5, 'versethe': 4, 'ibsvy2r3ph': 1, 'bluewestlo': 1, '38745': 1, 'upgd2cy9il': 1, 'warship': 6, '1665': 2, 'sailors': 3, 'artillery': 2, 'cartridges': 2, 'r4wgxra59m': 2, 'luke': 1, 'microphone': 2, 'ovaries': 1, 'kingmyth1999': 1, 'advantage': 1, 'micro': 1, 'shironu_akaineko': 1, 'qbctxpwhyp': 1, 'tap': 1, 'itsnasb': 1, 'sarcasm': 2, 'meter': 4, '__': 2, 'forbath': 1, 'goal': 7, 'merycormier': 1, 'cosima': 1, 'shay': 1, 'rickoshea': 1, 'anthonyshead': 1, 'nicholasbrendon': 1, 'dublincomiccon': 1, 'rte2fm': 1, 'whattt': 1, 'fangirl': 1, 'yumiko': 1, 'woah': 1, 'lenkaiswaifu': 1, 'sparking': 1, 'akxbskdn': 1, 'lunasagalle': 1, 'synapsenkotze': 1, 'bean': 2, 'bastard': 1, 'x39jwsyrqr': 1, 'marymc21': 1, 'ahhhh': 2, 'sorta': 1, 'okgooner': 1, 'loaded': 2, 'liver': 1, 'joint': 2, 'poured': 3, 'fallontonight': 1, 'hobby': 2, 'lobby': 2, 'tt5l40sjai': 1, 'tempered': 7, 'protector': 7, 'blackberry': 7, 'z10': 7, 'modqnalwsb': 1, '4c58ooavhy': 1, 'recalls': 7, 'lhtvkcoiso': 1, 'hp': 3, 'lto': 1, 'lump': 1, 'warehouse': 1, 'divestment': 1, 'pmngiqy': 1, 'mechanical': 4, 'pharaoh': 2, 'o82yvxbztv': 1, 'n5kmxuverg': 1, 'gaelite': 2, 'greg': 4, 'orchard': 3, 'brewer': 1, '51': 2, 'hhllqckcep': 1, 'dancer': 1, 'attendance': 5, 'gmmbc': 2, 'tmmorvxswz': 1, 'xbznu0qkvs': 1, 'bgaj2oax1p': 1, '2500fps': 1, 'rocks': 10, 'aluminum': 1, 'southeast': 5, 'missouri': 1, 'naomi': 1, 'logo': 5, '0wdseihyqu': 1, 'mental': 7, 'dye': 2, 'exploring': 1, 'miã': 1, 'ville': 1, 'otrwz1t9sp': 1, 'xvlkfcvfx5': 1, 'osha': 2, 'siteinvestigating': 1, 'noranda': 1, 'kfvs12': 1, 'cape': 6, 'girardeau': 1, 'carbondale': 1, 'pxyh7zo7vt': 1, 'lgbhdfyrwq': 1, '9qv8glzswv': 1, 'u1rkpj3cbc': 1, 'sjtxhtx71q': 1, 'lapse': 2, 'isao': 1, 'hashimoto': 1, 'atomicbomb': 1, 'v0t8h4iecc': 1, 'kircut1': 1, 'dope': 2, 'dopest': 1, 'hua': 1, 'aspiring': 1, 'writer': 5, 'omjmtu9kfg': 1, 'colinhoffman29': 1, 'pyrotechnic': 2, 'artwork': 4, 'cai': 1, 'guo': 1, 'qiang': 1, 'blossom': 2, 'orovzfsku2': 1, 'aminespn': 1, 'mencius': 1, 'correct': 2, 'lordrsbiscuits': 1, 'toyu16mxbo': 1, 'p10hndc0mm': 1, 'replied': 2, 'battery': 4, 'ekwtihlwuf': 1, 'begforcum': 1, 'allday_cumshots': 1, 'cumcovered': 1, 'sexycumshots': 1, 'cumtown': 1, 'bj_nutt': 1, 'cumslut_2': 1, 'girlslovecum': 1, '2cx1yjjoz9': 1, 'saddle': 1, 'accountable': 1, 'preferable': 1, 'tawfmcaw': 1, 'paradigm': 1, 'function': 3, 'tqqc3yxbor': 1, 'z4ilb9y9nu': 1, 'j295md1sow': 1, 'sd7loww9nu': 1, '7hkavtvx81': 1, 'shawlarmedeai': 1, 'nn4fy1wbxf': 1, 'abh': 1, 'hangout': 1, 'qkahxwlwxa': 1, 'kindermorgan': 1, 'freestyle': 2, 'amalie': 1, 'arena': 2, 'oogoto76uz': 1, 'sunflower': 1, 'vlnmklwwby': 1, 'p769eo49fj': 1, 'mrbrianorl': 1, 'straw': 2, 'liquid': 1, 'elevator': 1, 'noses': 1, 'button': 6, 'checkout': 1, 'nurgle': 1, 'snuck': 1, 'khrone': 1, 'he7q7h3nzf': 1, 'rpvzbesuqj': 1, 'hqzfcxxrsb': 1, '0vwpdizcko': 1, 'naples': 1, '89lcth3sx1': 1, '14th': 2, 'keith': 1, 'yh4r7ug21a': 1, 'gusto': 1, 'persist': 1, 'pated': 1, 'hpssjd': 1, 'theblacklink': 1, 'ac8p9hjh2q': 1, 'informer': 1, 'insides': 1, 'customized': 1, 'dcubecrafts': 1, 'greetingcardsâ': 1, 't07qxp5cbe': 1, 'powder': 1, 'discussed': 1, 'introduction': 1, 'theological': 2, 'aesthetic': 2, 'bz3ir4gmwj': 1, 'rasaudauthor': 1, 'caiguoqiang': 1, 'philadelphiamuseuâ': 1, 'pje607uxlp': 1, 'sprint': 2, 'promotes': 1, 'eyewitness': 45, 'dtrphctmjx': 1, 'sbip9g52yq': 1, 'mankind': 2, 'invention': 1, 'pittsburgh': 1, 'barcousky': 1, 'pb': 1, 'dhgavw8bsw': 1, '0lmheaex9k': 1, 'dk': 8, 'agqgrowj7y': 1, 'squibby_': 1, 'identification': 1, 'bqv3qttuxr': 1, '0drqlrsgy5': 1, 'wpri': 2, 'rhode': 1, 'modernize': 1, 'voting': 3, 'eyewitnessâ': 1, 'ap9jbrpmqg': 1, 'gleaned': 1, 'projects': 5, 'yrqgnblkac': 1, 'crane': 6, 'demolishes': 3, 'hoisting': 3, 'dyy7ml2nzj': 1, 'wilson': 2, 'karaman': 1, 'brendan': 1, 'gawlowski': 1, 'h4zozqlpe7': 1, 'qkp30b4ag2': 1, 'eyewitnesswv': 1, 'n3hgjsyvo2': 1, 'actively': 1, 'embraced': 1, 'audiences': 1, 'emhub': 1, 'ugc': 1, '6mbpvwitxf': 1, 'fracking': 3, 'ecocide': 1, 'deddh8rme8': 1, 'njaffyjarz': 1, '1xhsuewqn4': 1, 'vecsosrler': 1, 'fiuogj6hef': 1, 'edmundadamus': 1, 'campionjoanne': 1, 'carter': 1, '79': 2, 'jpii': 1, '7nt13hirtk': 1, '4gcmq4owen': 1, 'czpdn9obit': 1, 'anarchy': 1, 'kaputt21': 1, 'hamburg': 2, 'gregory': 1, 'wickett': 1, 'deny': 2, 'ydgiuydqgb': 1, 'pony': 2, 'cbs3': 1, 'sterling': 3, 'oeokd4kiqh': 1, 'testimonials': 2, '5x5hsv5sko': 1, 'redwing': 1, 'seal': 2, 'teamâ': 1, 'nxtwxjcavh': 1, 'ol8esfrgle': 1, 'wexler': 1, 'sanford': 1, 'hardcover': 1, 'kk0qfkgqcy': 1, 'smc1ro09fs': 1, 'boyâ': 1, 'muanfwcrw9': 1, 'schoolboyâ': 1, 'pq0d7mh3qr': 1, 'newsthousands': 1, 'nao6ewcpk2': 1, 'quedv2xxxx': 1, 'wftv': 2, 'tn': 2, 'psychologist': 1, 'lgglf5yrme': 1, 'kern': 1, 'mornings': 2, 'airing': 1, 'kbak': 1, 'cbs29': 1, 'rorktmpqns': 1, 'liveonkbak': 1, 'edznx6goud': 1, 'illustrated': 1, 'particularly': 6, 'horrifying': 1, 'gzib0mawmn': 1, 'harvesting': 1, '49izkbohri': 1, 'repmikerogersal': 1, 'benghazi': 1, 'werenotgrubervoters': 1, 'denmark': 4, 'auctions': 5, 'qpur3vd7hl': 1, 'l9ekhnkbar': 1, '8ppzngyaqe': 1, 'patrickjbutler': 1, 'damiengayle': 1, 'expectâ': 1, 'phh1vmlfoo': 1, 'notorious': 1, 'laboratory': 1, 'dealer': 1, 'peta': 1, 'qgqlpmrfjd': 1, 'ajhkfh4e7g': 1, 'wbre': 1, 'wyou': 1, 'jhvigsx5jg': 1, 'dorling': 1, 'kindersley': 1, 'publishing': 1, 'staffâ': 1, 'tj3ltpzfw1': 1, 'b7iu2lpfxs': 1, 'extremeã': 1, 'dyx2jr6ckp': 1, 'shedding': 3, 'vxvfaeey0q': 2, 'approved': 1, 'administration': 4, 'jg6b0vfl5r': 1, 'busta': 1, 'splashed': 1, 'goxwt8pg0b': 1, 'xpwkodpqto': 1, 'honduran': 1, 'minors': 1, 'ndwep6izdq': 1, '7tcs1eporq': 1, 'reliable': 1, '2i4brtsh93': 1, 'freed': 1, 'bokoharam': 1, 'captives': 1, 'pk8dgvripw': 1, 'rz0adzursw': 1, 'macia': 1, 'testified': 1, 'maciaâ': 1, 'crematoria': 17, 'provoke': 17, 'famine': 47, 'moscow': 2, 'mphog0qddn': 1, 'oct336': 1, 'fabvlvn5ms': 1, 'soviet': 3, 'vymouzjzre': 1, 'enrjh5qkve': 1, 'zones': 3, 'tcxrtfapza': 1, 'et9xxfdjnm': 1, 'gallup': 1, 'poll': 7, 'suffer': 5, 'ariâ': 1, 'qdmvtj4lzj': 1, 'unu': 1, 'feast': 4, 'redeem': 1, 'serene': 1, 'jbyjbqeoik': 1, 'o4xljnav8f': 1, 'robertmeyer9': 1, 'farmers': 1, 'perished': 2, 'holodomor': 1, 'erected': 4, 'dj1lwznieh': 1, 'i9mxxkzhbl': 1, 'exporting': 1, 'africans': 2, 'solving': 1, 'uttanbigrx': 1, 'resxavgpyj': 1, '9hieifhsmc': 1, 'td7vieoodi': 1, 'feeding': 6, 'lue3waegpi': 1, 'bluebell': 1, 'p9rymfjcux': 1, 'tasted': 1, 'starving': 2, 'writes4coffee': 1, 'sto58qa94c': 1, 'iartg': 1, 'rwa': 1, 'tw4rw': 1, 'rrbc': 1, 'intldevelopment': 1, 'monument': 2, 'nupy6epawn': 1, 'gyh00mrkjm': 1, 'zonnqgsxyw': 1, 'wuckforld': 1, 'lioniskingrtac': 1, 'heroic': 1, 'financialtimes': 1, 'ethiopian': 2, 'regimes': 1, 'eastern': 8, 'ethiopia': 2, '2fggzqn1v4': 1, 'shameful': 1, '5p1e40qkgv': 1, 'si02qrguka': 1, '0c1y8g7e9p': 1, '0840728': 1, 'pdiit0af3q': 1, 'dynamix': 1, 'zq5kdox7by': 1, 'crematoriaâ': 1, 'famineã': 1, 'sgecnkfthu': 1, 'kyiv': 1, 'me5u1yqh4i': 1, 'kiev': 3, 'ukrainian': 2, 'ua': 1, 'exaggeration': 1, 'msm': 2, 'ddotd7w2o8': 1, 'bolshevik': 1, 'monopolized': 1, 'seize': 1, 'hunhry': 1, 'artificial': 2, '0xouv7dhwz': 1, 'dwell': 1, 'confines': 1, 'egypt': 8, 'p14oepcrw0': 1, 'h6z7hxuqtu': 1, 'smell': 5, 'rotting': 1, 'smelled': 1, 'x1x6d5enef': 1, 'xhehjfft7g': 1, 'savagenation': 1, 'peasants': 1, 'stalin': 2, 'redistribute': 1, 'recal': 1, 'j2erzbmjqd': 1, 'miners': 26, 'botha': 1, 'apartheid': 1, 'tutu': 1, 'nobel': 1, 'prize': 1, 'ira': 1, '84': 1, 'uzkssvj9cw': 1, 'adventures': 3, 'mineness': 1, 'spymiqnecj': 1, 'felr5a1hbp': 1, 'conquest': 4, 'guidofawkes': 1, 'mediaguido': 1, 'we40iux7ib': 1, 'provokes': 1, 'fjeafgbzfj': 1, 'presence': 2, 'stronger': 3, 'maratha': 1, 'scorched': 1, 'punjab': 3, 'refused': 3, 'bengalis': 1, '9bliddngtf': 1, 'hopeinchrist': 1, 'lifelettercafe': 1, 'kzyvmnqhy7': 1, 'surf_photo': 1, 'squeezed': 1, 'lego': 3, 'blubber': 1, '6siirlnv6z': 1, 'protesters': 2, 'wal': 1, 'mart': 2, '3kbejgmj0d': 1, '71': 2, '0kjjdaojhi': 1, 'manslaughter': 30, 'sh': 14, 'goodell': 1, 'ucnckrnlow': 1, 'elijah': 2, 'walker': 4, 'appeared': 1, 'gtcffacvam': 1, 'attraction': 2, 'apd': 1, 'qyccvuubkr': 1, 'counts': 2, 'grthlaacfv': 1, 'waimate': 5, 'c9dvdssofn': 1, '_asianshawtyy': 1, '30s': 1, 'vermont': 4, 'htez4z48od': 1, 'eq4rxc9bb3': 1, 'j3rtf2dt3x': 1, 'khqa': 1, 'winnipeg': 1, 'witnesses': 2, 'arlington': 1, 'n2bcf4m64v': 1, 'chrisdanielshow': 1, '1tvlfrhm1m': 1, 'remaster': 1, 'frame': 1, 'windwaker': 1, 'yhsahlkqo4': 1, 'dubbo': 1, 'hdbmfovutz': 1, 'dailyliberal': 1, '1vz3rmjhy4': 1, 'xevueefqbz': 1, 'mediaâ': 1, '_the': 1, 'ezxtoval4l': 1, 'flaws': 1, 'ztfead8gid': 1, 'stockton': 5, 'j3x0doy7r3': 1, 'dispute': 1, 'oazghozgya': 1, 'gunfail': 1, 'nra': 2, 'immigrant': 1, 'arrests': 1, 'bl59fw4sys': 1, 'spookyfob': 1, 'feelslikefob': 1, 'kindness': 2, 'stump': 1, 'permanent': 3, 'a6ro9bmxcy': 1, 'ladyshaxx': 1, 'adopt': 1, 'overlooked': 2, 'whyor': 1, 'seatbelts': 1, 'alot': 3, 'recks': 1, 'intrusion': 1, 'interior': 1, 'huriivfdkc': 1, 'ballew': 1, 'statements': 2, 'ej0mewoups': 1, '9h0ym9ofsv': 1, 'courts': 4, 'adsvdpnp3r': 1, 'fj7kcrlir7': 1, 'daacj5hfmq': 1, 'goetjgihop': 1, 'noobde': 2, 'comingsoonnet': 1, 'yeeessss': 1, 'kp2': 1, 'kombatants': 1, 'kostumes': 1, 'fatalities': 45, '179': 1, 'nypd': 1, '3ã': 1, 'cn1jommugh': 1, 'ret82mdqng': 1, 'eight': 6, 'adults': 3, 'iqj1z3jxx8': 1, 'vital': 2, 'econom': 1, 'zsqm8ihe1k': 1, 'exdbcx4gcr': 1, 'patrol': 3, 'uptick': 1, 'statewide': 1, 'pedestrian': 4, 'courier': 1, 'xccv3d9icr': 1, 'unprepared': 2, 'possess': 1, 'pushing': 2, 'implores': 1, 'motorists': 1, 'reserves': 1, 'hikf8mkjsn': 1, 'kyrikoni': 1, 'expressandstar': 1, 'veg': 1, 'engines': 1, '662': 1, '114': 1, 'reoz7h3em8': 1, 'pcdub1gqoc': 1, 'figureskate': 1, 'toshikazukatayama': 1, 'onlyquakenews': 1, 'hse': 1, 'h4usheekxm': 1, 'jnhnx3oisn': 1, 'deadliest': 3, 'intersections': 2, 'ghk9xup6e0': 1, 'mortal': 9, 'kombat': 9, 'stretched': 1, 'itsâ': 1, 'igz7v24ge9': 1, 'm75dnf2xyg': 1, '82': 1, 'illnesses': 1, '1uo1atrbbj': 1, 'jwiv6wyw6f': 1, 'osage': 1, 'mkx': 5, 'skinless': 1, 'predator': 2, 'abha': 1, '1xw0z8zeqw': 1, 'wisely': 1, 'carnage': 1, 'continuing': 2, 'ggindependencmessage': 1, 'gross': 1, 'rays': 2, 'dwilliams313': 1, 'ieansquad': 1, 'nu6wrp716d': 1, 'kitana': 1, 'slay': 1, 'kody': 1, 'kombatfans33': 1, 'umajwsnluf': 1, 'osp': 1, 'mounting': 1, 'ymp0ginwza': 1, 'fyioqvioif': 1, 'meat': 14, 'iggfnbixt5': 1, 'estimated': 6, 'bsrerjby0i': 1, 'rcmp': 2, 'tch': 2, 'whitbourne': 2, 'allocating': 1, 'bn': 2, 'veneto': 1, 'w3esx6ud8t': 1, '1979': 2, '43sxg9z6xh': 1, 'tremor': 3, 'dlc': 2, 'motordom': 1, 'lobbied': 1, 'language': 3, 'visionzero': 1, 'cavb7pgepv': 1, 'cousin': 5, 'lsjowgyvqh': 1, 'failing': 1, 'yield': 1, 'dgul7ffjt2': 1, 'sega': 1, 'flo8fgy35a': 1, 'reduces': 1, 'jvivt6zrv7': 1, 'kevinedwardsjr': 1, 'ncjlkqasuk': 1, 'kc8o81bchg': 1, '0rokdutyun': 1, '400000â': 1, 'txzxcnudr8': 1, '8th': 3, 'journeys': 1, 'suilzs2s95': 1, 'healthandsafety': 1, 'immensely': 1, 'wsea': 1, 'king5seattle': 1, 'zqusy2k4ws': 1, 'ox6dhxeuwe': 1, 'policylab': 1, 'cecanf': 1, 'neglect': 1, 'n2cy3z4tpb': 1, 'yep': 3, 'projected': 29, 'downfall': 2, '_freemarketeer': 1, 'dibang': 1, 'logistics': 2, 'enca': 1, 'onboard': 1, 'capsized': 4, 'dno7qxcffh': 1, 'boards': 1, 'display': 3, '616': 1, 'irish': 4, 'cyclists': 3, 'e7ojhpdfg2': 1, 'ebrointheam': 1, 'fatality': 44, 'y33qckq7qd': 1, 'jake_adavis': 1, 'fatality_us': 2, 'cuddling': 1, 'truly_stings': 1, 'zcctzm9f0o': 1, 'martinsymiguel': 1, 'filipecoelho92': 1, 'flourishing': 1, 'sleigh': 1, 'toothsome': 1, 'onrhpz': 1, 'gb4w3t7b3t': 1, 'savages': 1, 'gangstermail': 1, 'samsung': 1, 'vgbootcamp': 2, 'yi3oivk2x4': 1, '109': 3, 'sn': 2, 'vabengal': 2, 'zss': 2, 'sws': 3, 'falcon': 5, 'hibernating': 1, 'pbx': 1, 'irrespective': 1, 'careerism': 1, 'pan': 2, 'crbzfz': 1, 'lyme': 1, 'rgt9ghodpw': 1, 'hrips_k': 1, 'corpse': 1, 'jittering': 1, 'blawnndee': 1, 'rig': 2, 'tellyfckngo': 1, 'jaycootchi': 1, 'homie': 2, 'wit': 6, 'babality': 1, 'kosciusko': 2, 'jilfbr0ufp': 1, '407v1y4hhg': 1, 'bardissimo': 1, 'baskets': 1, 'charming': 1, 'tonyakappes11': 1, 'xyav4t5n0o': 1, 'paranormal': 1, 'soldier': 3, 'ranking': 2, 'sihqpluidw': 1, 'babybackreeve': 1, 'mortalkombat': 1, 'mortalkombatx': 1, 'fanart': 1, 'youtubeâ': 1, 'lqcqjunwir': 1, 'utica': 1, 'pleasant': 1, 'paws': 1, 'asher': 1, 'lotm': 1, 'weekly': 1, 'thrive': 1, 'vvul9egpe8': 1, 'pxnatosil': 1, 'renunciedilma': 1, 'mk2': 1, 'uud': 1, 'lk': 1, 'mileena': 1, 'chrisman528': 1, 'ojt5axp1og': 1, 'm5djllxozp': 1, 'gf5qjgoyci': 1, 'paulrogers002': 1, 'oncology': 1, 'achieved': 1, '7lvgcmyiyj': 1, '40w': 1, 'us70': 1, 'lebanon': 2, 'godhunt_sltv': 1, 'lindasocvat': 1, 'deathmule': 1, 'sxhgfithjw': 1, 'mk': 1, 'tremors': 1, 'stalag': 1, 'ermac': 1, 'tournament': 1, 'o7qogmoegu': 1, 'ssb4': 1, 'losers': 1, 'loretta': 2, 'fuddy': 1, 'authenticating': 1, 'sole': 1, 'mzrhfojt2j': 1, 'glynizsnak': 1, 'dat_vi': 1, 'combined': 6, 'isbtzujfbm': 1, 'picked': 8, 'overcome': 1, 'tcc': 1, 'eerkh8ljws': 1, 'phnotf': 1, 'cheekiness': 1, 'bleeds': 1, 'recoil': 1, 'keeper': 1, 'runnin': 1, 'disappointing': 1, 'mlaxoj1kcj': 1, 'ygfgndibpo': 1, 'pive': 1, 'aggressively': 2, 'coerced': 1, 'commitment': 1, 'organizations': 3, 'fluctuations': 1, 'disturbances': 1, 'imbalances': 1, 'primary': 4, 'margaret': 1, 'wheatley': 1, 'musicvideo': 1, 'uuzaumdobc': 1, 'luzukokoti': 1, 'umntu': 1, 'wakho': 1, 'referencereference': 1, 'xekstrin': 1, 'partake': 1, 'o7yyjlukfj': 1, 'fleshgod': 1, 'blinded': 1, 'drum': 4, '2pxafihtf7': 1, 'baileysmsteach': 1, 'doingâ': 1, '_ahhhâ': 1, '_that': 1, 'perrychat': 1, 'jeremycorbyn': 1, 'spade': 2, 'savvy': 1, 'owenjones84': 1, 'fabsyxqlqi': 1, 'r5bxzzhxkm': 1, 'conquer': 2, 'simulator': 1, 'oculusrift': 1, 'virtualreality': 1, 'rhfjkuq7zw': 1, 'prmtxjjdue': 1, '9eh2lcqkxl': 1, 'blackinamerica': 1, 'growingupblack': 2, 'cowgirllawyer': 1, 'unawares': 3, 'intoxicated': 1, 'creative': 1, 'interviewed': 1, 'depth': 7, 'anatomy': 1, 'j6mpdsx9lk': 1, 'loathing': 1, 'solitude': 3, 'mas': 2, 'ih8udz8mq3': 1, 'shakjn': 1, 'c7': 1, 'magnums': 1, 'q5qcoao8jp': 1, 'choosegod': 1, 'restoringpaths': 1, 'skydragonforce': 1, 'opinions': 1, 'curiosity': 2, 'ourselves': 2, 'toâ': 2, 'qrhng6kj1c': 1, 'scottdpierce': 1, 'billharris_tv': 1, 'harrisgle': 1, 'beezersun': 1, 'forfeiting': 1, 'nazir': 1, 'crackdownsâ': 1, 'bqt9bjdujg': 1, 'waynerooney_ina': 1, 'thexfiles201days': 1, 'balanced': 1, 'ought': 1, 'pâ': 2, 'c1xhizprad': 1, 'untangle': 1, 'besttalkradio': 1, '8j09zutxwt': 1, 'spin': 1, '23rd': 1, 'mcnabbychic': 1, '3nach9': 1, 'tatort': 1, 'hbwahl': 1, 'weser_kurier': 1, 'hbbuergerschaft': 1, 'jerusalem_post': 1, 'knowledge': 1, 'foolish': 1, 'amsal': 1, 'denying': 1, 'polar': 1, 'sensanders': 1, 'gd': 2, 'wrked': 1, 'reed': 1, '8437150124': 1, 'chp': 3, 'titled': 1, 'emmeryn': 1, 'achieving': 1, 'deltachildren': 1, 'instaquote': 1, 'quoteoftheday': 1, 'waltdisney': 1, 'blzt5zwose': 1, 'motivator': 1, 'reflections': 1, 'forms': 1, 'delusion': 1, 'dxfqou4kt2': 1, 'gxnvqcgjq2': 1, 'pinky': 1, 'freaky': 1, 'morganite': 1, 'gemstone': 1, 'opal': 1, '925': 1, 'r1354': 1, 'hhpvsatqxn': 1, 'd12r8xpshy': 1, '21joseph': 1, 'thrones': 3, '3x5': 1, 'kissed': 2, 'cjhh17duli': 1, 'salisbury': 1, '325': 2, 'cypress': 1, '10am': 1, 'oa6b0z2h6y': 1, 'hotdogs': 1, 'miss_homasttopa': 1, 'nowwwwww': 1, 'avi': 2, 'header': 1, 'combo': 15, 'inkuv5dntx': 1, 'retro': 2, '1cvegtizog': 1, 'y3fo0ghg8t': 1, 'i2el5acrrw': 1, 'usb': 1, '2whegygs3k': 1, '5b0bh8vpm6': 1, 'p5jpjgiipw': 1, 'chromebook': 1, 'ubywqhoawr': 1, 'watsmxytva': 1, 'politifiact': 3, 'amymwwcpym': 1, 'canonusaimaging': 1, 'canonbringit': 1, 'canontattoo': 1, 'mn': 1, 'theresmorewherethatcamefrom': 1, 'tcxxhdjas6': 1, 'bogged': 1, 'cpu': 2, 'gunsense': 4, 'minutemaniac': 1, 'shieldmaidn': 1, 'bigfatdave': 1, '2x10': 1, 'jcpxorv3au': 1, 'trakt': 1, 'seanhannity': 1, 'drf3mmrbyx': 1, 'gasoline': 2, 'wcw': 3, 'catsandsyrup': 1, 'tha': 2, '_nicksimboli_': 1, 'equivalent': 1, 'strawberries': 2, 'icy': 1, 'bmsedzofsv': 1, 'itfbbz9xyc': 1, 'daughterofnai': 1, 'tenshi': 1, 'yuki': 1, 'overcharging': 1, 'rent': 2, 'n0tawgezjx': 1, 'overwork': 2, 'traplordthings': 1, 'din': 1, 'memez': 1, 'justin_ling': 1, 'rainbows': 1, 'cyhi': 1, 'daniels': 1, 'fz1haej255': 1, 'zomatoaus': 1, 'lovefood': 1, '9l5kqykrbg': 1, 'obstacles': 1, 'dontexpectnothing': 1, 'bon': 1, 'mores': 1, 'wy4xu1a9j4': 1, 'likes': 3, 'tractor': 4, 'trailers': 2, 'nj': 6, 'turnpike': 5, 'otexyh79j8': 1, 'mlzg4l0xnl': 1, 'brant': 1, 'drummond': 1, 'eudwnfyuem': 1, 'hallett': 2, 'twqvkzy6dn': 2, 'eeyvetlahw': 1, 'kampers': 1, 'sprays': 1, 'hose': 1, 'if0biyubc4': 1, 'rfp': 1, '450': 1, 'transporta': 1, '8gtrvece1n': 1, 'reno': 6, 'catches': 4, 'k5fijankjb': 1, 'pugwash': 1, 'irvine': 4, 'sigalert': 4, '133': 7, 'knx1070': 2, 'ltd': 1, 'toy': 3, 'stamp': 6, 'tonka': 1, 'tfd': 1, 'pumper': 2, 'htvyenxcbs': 1, 'xsvpzxyre3': 1, 'kmpfhglhoo': 1, 'ufn': 1, 'brooktekle_': 1, 'qoinq6gc9m': 1, 'langley': 3, 'l90dcpv9zu': 1, 'njturnpike': 3, 'reopens': 2, '8srt9rgax7': 1, 'pat': 1, 'spen': 1, 'r6yjw4xcky': 1, 'kapokekito': 1, 'northgate': 1, 'taco': 5, 'wompppp': 1, 'k3': 1, 'phase': 2, 'prayforsaipan': 1, 'detouring': 2, 'eeenice221': 1, 'justinejayyy': 1, 'ohgod': 1, 'v5gtunwohy': 1, 'reopened': 1, 'dmon2112': 1, 'c_t_morgan': 1, 'rings': 1, 'appealing': 1, '1952': 1, 'dodge': 1, 'wayne': 4, 'bodied': 1, 'libby': 1, 'oriâ': 1, 'mcejzzxgh8': 1, 'atop': 1, 'latter': 1, 'nno2015': 1, '0ktxo7hlne': 1, 'trident': 1, '90225': 1, 'ims': 1, 'ho': 1, 'plastic': 2, 'faqnfupegn': 1, 'mqfofkxtyh': 1, 'bedding': 1, 'sticker': 1, 'decals': 1, 'ykuauov9jo': 1, 'shuts': 2, 'uzeatfzaya': 1, 'ejrgk69aeq': 1, 'calendars': 1, 'qgcaqdfekf': 1, 'e7drpquw4g': 1, 'racer': 1, 'clogs': 1, 'jrdwyy0ax4': 1, 'warwick': 3, 'nadavcq9va': 1, 'driscoll': 1, 'snags': 1, 'parkway': 1, 'q5yu2tzgte': 1, 'rgj': 1, 'kaf3wdrmtn': 1, 'langhorne': 1, 'middletown': 1, 'krpjo9zmsx': 1, 'ttmjgq6aym': 1, 'njdotcom': 1, 'cebu': 1, 'philippi': 1, 'al28rvkqpq': 1, 'xshanemichaelsx': 1, 'instaxbooty': 1, 'johnnyxphixxle': 1, 'tumbleon': 1, 'wz809l8zp5': 1, 'nno': 1, '7cmf3noync': 1, 'choose': 4, 'tamrcwfygd': 1, 'jaymcleanauthor': 1, 'imilsfxntf': 1, 'filipino': 1, 'jade': 1, 'fl': 4, 'ybdsljw7c1': 1, 'oabjztbvyz': 1, 'gpbxrrdc07': 1, 'lukebox': 2, 'besides': 3, 'mnpdnashville': 3, 'nashvillefd': 1, 'swiftly': 1, 'praying': 1, 'educate': 1, 'adapt': 1, 'jieb3lszqc': 1, 'providing': 2, 'feedback': 1, 'firstnet': 1, 'pehh7whz0g': 1, '10k': 1, 'doningtondash': 1, '11am': 1, 'donington': 1, 'g1nw99yj8u': 1, 'detkenlang': 1, 'kcrnmjkj73': 1, 'smarttek': 1, 'mpers': 1, '3oionqlfql': 1, 'university': 7, 'lowers': 1, 'tuition': 1, 'vjrhkmhpu2': 1, 'responder': 2, 'wtafaepukz': 1, 'cfr': 1, 'hancock': 1, 'mmsooooa70': 1, 'jc16czn0nc': 1, 'sallie': 1, 'memorial_day': 1, 'memorialday': 1, 'qw3unfv8kb': 1, 'hgxmbmrda3': 1, 'carmike': 1, 'cinemas': 1, 'priority': 3, 'behfhsppud': 1, 'roadid': 1, 'hikdc1fm2f': 1, 'alarming': 2, 'raising': 2, 'departments': 2, 'iqr6v6dthr': 1, 'vip': 3, 'vimeo': 1, 'lkxi6uxjaq': 1, 'difference': 4, 'eufaula': 1, 'okwx': 10, 'tankerfire': 1, 'juneau': 1, '94uyt4ojyk': 1, 'educators': 1, '4urtbeace5': 1, 'relied': 1, 'yxoojnbr7m': 1, 'pnppro1': 1, 'trainees': 1, 'vdbj2o0iyx': 1, 'mlsudders': 1, 'reds': 1, 'lightly': 1, 'reserved': 1, 'spd': 1, 'shreveport': 1, 'kx1ynsme5t': 1, '1vi2rnbk2i': 1, 'canteen': 1, 'idy9kscavv': 1, 'mnh6fxhodb': 1, 'snaymldiun': 1, 'kirsten': 1, 'gillibrand': 1, 'amea3lamdj': 1, 'extend': 1, 'avv6hpnpch': 1, 'convene': 1, 'awards': 1, 'gis': 1, '0t9yd557ry': 1, 'gisuserpr': 1, 'geotech': 1, 'allergan': 1, 'refresh': 1, '0ojkulqo5i': 1, 'wkmcpmctgu': 1, 'badges': 1, 'e65v80fcus': 1, 'resilience': 1, 'factsheet': 1, 'fcfpijiqt5': 1, 'iafflocal4416': 1, 'myhometown': 1, 'livesmatter': 1, 'tdes8mear2': 1, 'bridgeportspeed': 1, 'dih1tgqhej': 1, 'sadness': 1, 'needless': 1, '999day': 1, 'dart': 2, 'participating': 1, 'intensive': 1, 'tl93aod3er': 1, 'aljavieera': 1, 'publicsafetyfirst': 1, 'cedar': 1, 'terri': 2, 'linford': 1, '435': 1, '327': 1, '1148': 1, 'heading': 4, 'antiochhickoryhollow': 1, 'lender': 1, 'fees': 2, 'linkedin': 1, '9pmbtxmoal': 1, 'pantofel': 1, '087809233445': 2, '23928835': 1, 'dthneezupe': 1, 'pnpizody': 1, 'cap': 6, 'embroidered': 4, 'mo7dbbdfvr': 1, '0scnwe8xbv': 1, 'cg9gakbpta': 1, 'u3wao8asfg': 1, 'hc6hzs4wsi': 1, 'luchaunderground': 3, 'elreynetwork': 1, 'ox6ouw3yut': 1, 'yxnagsqvbm': 1, 'summon': 1, 'chachi': 1, 'otblb9pj2i': 1, 'extant': 2, 'writers': 4, 'kelworldpeace': 1, 'taxstone': 1, 'yoga': 2, 'xodeemorgss': 1, 'tipped': 1, 'sbnation': 1, 'xyi5fdacxo': 1, 'sjtvzggcxu': 1, 'clockworkheart': 1, 'mrs': 1, 'gah': 1, 'f30f9v0asi': 1, '5b5a1hdzf6': 1, 'gilderoy': 1, '100nd': 1, 'htqvf44uqs': 1, 'pvxelxcjeu': 1, 'tadhgtgmtel': 1, 'maryland': 5, 'mansion': 6, 'ucudwiu3an': 1, 'manly': 1, '2327564d': 1, 't1mbw0ia3o': 1, 'clfa0py5lm': 1, 'benstracy': 1, 'rp': 1, 'silo': 1, '260th': 1, 'hartford': 1, 'chose': 2, 'bod': 1, 'portgdk': 1, 'bravery': 1, 'erinmariefishy': 1, 'flames_nation': 1, 'pivot': 2, 'p1wmkxa9d8': 1, 'pardon': 1, 'mindless': 1, 'awickedin': 1, 'hugged': 1, 'tightly': 1, 'selmoooooo': 1, '_edvinnn': 1, 'imtariik': 1, 'dzafic_haris': 1, 'selmo': 1, 'witnessing': 2, 'slaughter': 1, 'rubybot': 1, 'thh': 1, 'furst': 1, 'rising': 9, 'ulxf6dq3ns': 1, 'aisumage': 1, 'akumareisu': 1, 'ophelia': 1, 'soloquiero': 1, 'firefighte': 1, 'pjog1lcyyv': 1, 'lkjfabqzb3': 1, 'cw_hoops': 1, 'atcmrjzjtp': 1, 'zion': 1, 'pandora': 2, 'mp0tmdzyie': 1, 'aomq1rykmj': 1, 'advantages': 1, 'apropos': 1, 'favorable': 1, 'regard': 2, 'mississauga': 2, 'pwhvgwax': 1, 'kurt': 2, 'zouma': 7, 'flattened': 50, 'shin': 1, 'noodle': 1, 'iuem2g1nzp': 1, 'jackcarter22': 1, 'bricktop': 1, 'vavazouma': 1, 'cartoony': 1, 'papa': 1, '4zmcqrmois': 1, 'pennies': 1, 'unlike': 2, 'donaldson': 1, 'parker': 7, 'wrestler': 1, 'gain': 3, 'muaytai': 1, 'wantmyabsback': 1, 'qfrawln4ba': 1, '9jcibenckz': 1, 'johndavidblake': 1, 'whites': 1, 'curly': 1, 'impure': 1, 'outright': 1, 'bhufevagpu': 1, 'yosemite': 1, 'drumpf': 1, 'rabbit': 1, 'sayâ': 1, '6kgmvkbplr': 1, '80pcs': 1, 'tibetan': 1, 'spacer': 1, 'beads': 3, 'jewelry': 3, '5x1': 1, 'fa': 2, 'grabakahitman': 1, 'izi_garcia': 1, 'machida': 1, 'floored4': 1, 'birds': 4, 'cups': 1, 'lag': 1, 'dock': 2, 'drinkâ': 1, 'r5stv25zhq': 1, 'st3ph007': 1, 'pedagogy': 1, 'bfc630nz': 1, 'conklin': 1, '67tjn9egyk': 1, 'thee': 2, 'striker': 2, 'fiorentina': 1, 'picking': 26, 'hay': 2, 'masonite': 1, 'wahpeton': 1, 'kw3vq4nijq': 1, 'lustig': 1, 'stayed': 3, 'commons': 2, 'gms': 2, '76mins': 1, 'sided': 3, 'linerless': 3, 'caps': 3, '61falvocuk': 1, '1mutpfcgdl': 1, 'fylde': 1, 'prestonâ': 1, 'iconic': 2, 'disappearing': 1, 'pdkhbdg9ho': 1, 'iamhorsefly': 1, 'mbiwa': 1, 'jimmozel': 1, 'puck': 1, 'breh': 1, 'cheesecake': 1, 'orsmw5airj': 1, 'implicit': 1, 'statement': 7, '5hljucxi0s': 1, 'kainyusanagi': 1, 'grummz': 1, 'pixelcanuck': 1, 'raynor': 2, 'balding': 1, 'marine': 3, 'emo': 1, 'generic': 1, 'seanpeconi': 1, 'jason_floyd': 1, 'lynchonsports': 1, 'criscyborg': 1, 'bluetooth': 4, 'muppet': 1, 'followerofdole': 1, 'ner': 1, 'cyberman': 1, 'xmkvhw2rs0': 1, 'satisfaction': 1, 'reasoned': 1, 'argument': 3, 'tweetinglew': 1, 'tersestuff': 1, 'heartland': 1, 'tfw': 1, 'slaves': 2, 'twilightfairy': 1, 'fallacy': 3, 'steam': 5, 'robertcalifornia': 1, 'thereisonlysex': 1, 'earrings': 4, 'rjebpib5rz': 1, 'w00kjprfdr': 1, 'mixl1pfrje': 1, 'bigburgerboi55': 1, 'footballs': 1, 'spartans': 1, 'crushing': 1, 'satanaofhell': 1, 'dreamy': 1, 'toward': 8, 'wrnpywyalj': 1, 'qv7iydovx9': 1, 'fizzy': 1, 'seats': 1, '53inch': 9, '300w': 9, 'curved': 9, 'offroad': 21, 'fog': 10, 'lamp': 22, 'e6bnwxftkb': 1, 'ww2uvhry89': 1, 'jkl': 2, 'cancels': 2, 'harlan': 1, 'knox': 1, 'ky': 2, '4ry6zhcpoq': 1, 'wx': 8, 'xxkhjysn0p': 1, 'jevhknjgbx': 1, 'jcdd6sd6qn': 1, '9guckjghms': 1, 'flood_magazine': 1, 'hotchip': 1, 'hot_chip': 1, 'greektheatrela': 1, 'bigã': 1, 'cvpdvhxd1r': 1, 'fdmxp4fcmo': 1, '813': 1, '274': 1, '8811': 1, 'homecoming': 1, 'prom': 1, 'socialnews': 5, 'vmkexjtyg4': 1, '2pcs': 7, '18w': 7, '4wd': 12, 'beam': 8, 'vdefmulx43': 1, 'yqpaijsa5g': 1, 'hana': 2, 'maui': 2, 'waianapanapa': 1, '35pm': 1, 'nws': 22, 'fuz7y44p4i': 1, 'wxky': 2, 'fighter': 1, '0aiv5khzjv': 1, 'q6hhzbfxcv': 1, 'creationmin': 1, 'rwrabbit': 1, 'gooneratheist': 1, 'atheistic_1': 1, 'lolatjesus': 1, 'robertbenglund': 1, 'mtmoia0oo0': 1, 'nn4ztcmsru': 1, 'atlarnxx': 1, '72w': 5, 'alloy': 5, 'xwn7rgvkzc': 1, 'swpdq84boi': 1, 'apwxs5mm44': 1, 'ds76lozlsu': 1, 'hellotybeeren': 1, 'ed32pbvio7': 1, '27w': 2, '12v': 1, '24v': 1, 'utv': 2, 'ifm6v6480p': 1, 'o7x8odibqu': 1, 'jwqxkwsoll': 1, '85v': 1, '265v': 1, '10w': 1, 'pir': 1, 'auc': 1, 'njvpxzmj5v': 1, 'ijd7wzv5t9': 1, 'yo9q6wxweu': 1, 'n581wqqyas': 1, 'iembot_hfo': 1, 'gg0dzsvbz7': 1, 'kbe91arcdw': 1, 'atv': 1, 'd3p88xdlec': 1, 'j2ddvh7fy0': 1, 'o1smuh2unn': 1, 'xqj6wgiuqh': 1, 'basics': 1, 'defective': 1, 'intertissue': 1, 'trench': 34, 'guabxfv': 1, 'uzsqzycb8x': 1, 'bmx': 1, 'areal': 1, 'cdt': 19, '62oddekvli': 1, '1qt51r5h98': 1, 'oqh1jbuenl': 1, 'alwx': 2, 'gtqmgsgcsb': 1, 'grant_factory': 1, 'grants': 2, 'funds': 6, 'weymouth': 1, 'seawalls': 1, 'th2wlilbmo': 1, '5xmce6jufs': 1, '3zo7px3p1v': 1, 'yrd3npc9v0': 1, 'anrd0vifwk': 1, '8mk9td4rrl': 1, 'w20rh3ai9j': 1, 'o097vsotxk': 1, 'i23xy7iejj': 1, 'fdsaooiskj': 1, '2uvmq4vafq': 1, '28pm': 1, 'd02sbm0ojs': 1, 'regions': 1, 'dwindling': 1, 'suppl': 1, 'o5adxdnnii': 1, 'peeked': 1, 'immune': 1, 'deafening': 1, '6zcfhi7srw': 1, 'vwykdau1vm': 1, 'westchester': 1, 'eligible': 1, 'xsr2vujyiz': 1, 'arrives': 1, 'nosvu0zx4x': 1, 'sittway': 1, '5mjzjnkpfn': 1, '00am': 1, '00pm': 2, 'perry': 1, 'fs7vro5ses': 1, 'ebjz2mxlr3': 1, 'jvvd8smjmw': 1, 'semw5cq7dg': 1, 'mjmwa72er6': 1, 'adx9iyi246': 1, 'arr2cvbqjj': 1, 'nahmndn8x1': 1, 'elk': 1, 'mondayâ': 1, 'whileâ': 1, '8j19fvu7qa': 1, 'cuban': 3, 'xlq8g6vb2r': 1, 'docks': 2, '5pmikavykl': 1, 'warlord_queen': 1, 'thrusts': 1, 'jams': 2, 'schwarzenegger': 1, 'focused': 1, 'borders': 2, 'voters': 2, 'endofus': 1, 'unveiled': 9, 'travis': 3, 'deputy': 3, 'jessica': 1, 'hollis': 1, 'usin3m9kgi': 1, 'mo5lmvipw5': 1, 'uahicwpih4': 1, 'hunwx': 1, 'e3l1jqjh2u': 1, 'joints': 1, 'eliminate': 1, 'random': 3, 'homeimprovement': 1, 'kx8cu4s8t1': 1, 'wveo9ed10e': 1, 'adorableappple': 1, 'mmda': 3, '166': 4, 'displace': 3, '9mj8ouj3vt': 1, 'awh': 1, 'tl': 1, 'kkoovbkndp': 1, 'laos': 1, 'vision': 3, '8fvqrizoux': 1, 'ukfloods': 1, 'trekkers': 2, 'himalayas': 2, 'nsfzkfgznj': 1, 'slopeofhope': 1, 'dilute': 1, 'qcyxwr2rdv': 1, 'nycha': 2, 'repaired': 1, 'ecyui3290h': 1, '6s6syuyypl': 1, 'tdaktglu5p': 1, 'mold': 1, 'proudgreenhome': 1, 'kavaovjz2v': 1, 'xjkrxrnwnv': 1, 'insubcontinent': 2, 'jlwgshyy3n': 1, '9z9hsmiavd': 1, 'iraqi': 2, 'seekers': 1, 'ndetention': 1, 'unscreened': 1, 'b4k0r4gga8': 1, 'dcclothesline': 1, 'miveã': 1, 'cofh4khfsd': 1, 'm0flppxilg': 1, 'netkicorp': 1, 'guests': 1, 'eltne5v1qn': 1, 'caseyliss': 1, 'def': 3, 'fathom': 1, 'byebyeroad': 1, 'pasco': 2, 'goszra5bdd': 1, 'themaine': 1, 'furvres9ks': 1, 'drums': 3, 'janice': 1, 'bbcengland': 1, 'q4kgftc2am': 1, '6w6a2l4qaeâ': 1, 'hvxu1zcvau': 1, 'ijmccmhh5g': 1, 'crabbycale': 1, 'jokes': 1, 'feeds': 2, 'popmech': 1, 'duplicate': 1, 'ny1': 1, 'ny1burst': 1, 'w7siidujoh': 1, 'lrt': 6, 'isting': 2, 'pijg5w2l2u': 1, 'ocnj': 1, 'jzprciqa9d': 1, 'kwislo': 1, 'prompting': 1, 'r7vpaklhvi': 1, 'joinedâ': 1, 'eo2f96wxpz': 1, 'icfql7i9op': 1, 'lakhâ': 1, 'thankkk': 1, 'notificationsu': 1, 'parsholics': 1, 'superb': 1, 'awesomelove': 1, 'frvrgrateful': 1, 'sliding': 1, 'nester': 1, 'sonoranrattler': 1, 'writingtips': 1, 'slttorrlhs': 1, 'tornadoes': 6, 'plaguing': 5, 'farrakhan': 6, 'landsli': 1, '9tg7a5oqfp': 1, '119000': 1, '966': 1, 'camps': 3, 'eu8jypizsd': 2, 'tornados': 2, 'ofa': 2, 'net': 4, 'trolls': 1, 'automated': 1, 'netbots': 1, 'complimentary': 1, 'hnlsdlhmb9': 1, 'areasâ': 1, 'pruunedids': 1, 'ictyosaur': 1, 'madonnamking': 1, 'rspca': 2, 'density': 1, 'cyberdemon531': 1, 'dew': 1, 'erodes': 1, 'stunned': 2, 'jrgj17oamt': 1, 'dmt': 1, 'heared': 1, 'priceless': 2, 'fab': 1, 'albertsons': 1, 'cwhslmb8x9': 1, 'bengal': 3, 'cm': 3, 'mamata': 3, 'banerjee': 3, 'dvc': 3, 'bjp': 7, 'bozlwr716z': 1, 'naypyidaw': 1, 'prensa': 1, 'latina': 1, 'jods9a32pi': 1, 'asgharchohan86': 1, 'adilghumro': 1, 'kpk': 1, 'dams': 1, 'thar': 1, 'approaches': 8, 'njmidysxof': 1, 'abc7chicago': 2, 'copolitics': 1, '37rhlsobbn': 1, 'casewrites': 1, 'otherwise': 5, 'taxes': 1, 'itunes': 8, 'ocojppnrh1': 1, 'glory': 1, 'luiz': 1, 'santos': 1, 'contactenergy': 1, '1999': 2, 'clyde': 1, 'releasing': 1, 'speccy': 1, 'bamenda': 1, 'wnamtxlfmt': 1, '6coidv11qv': 1, 'portaloos': 1, 'sentient': 1, 'apc': 19, 'chieftain': 1, 'tasks': 1, 'n15b': 1, 'donation': 2, 'bayelsa': 21, 'lqgoe7psxp': 1, 'pagasa': 2, '12am': 1, 'panay': 1, 'guimaras': 1, 'negros': 2, 'landslides': 2, 'mountainous': 1, '40hourfamine': 1, 'worldvision': 2, 'mâ': 2, 'xqdvghz8g6': 1, 'persecution': 2, 'pastors': 1, 'asylumâ': 1, 'qrtuzfhodw': 1, 'xbnrps8xho': 1, 'paraguay': 1, 'aw23wxtyjb': 1, 'abgct9vfua': 1, 'etp': 1, 'hszjafxrvi': 1, 'dua': 1, '0jfnvaxfph': 1, 'haljnnwrwi': 1, 'draws': 1, 'tzwmseqphw': 1, 'news5': 1, 'ibalita': 1, 'sumn': 3, 'gaga': 1, 'dried': 2, 'laleh': 1, 'occur': 2, 'cruising': 1, 'pandaw': 1, 'expeditions': 1, 'operating': 1, 'cqttgrkwf6': 1, '250000': 1, 'lxjjgyv86a': 1, 'u9x3perxco': 1, 'philippinesâ': 1, '8rdxcfgqem': 1, 'a2myutpdiq': 1, 'xrskt0s9lz': 1, 'anew': 1, 'myanmarflood': 1, 'kolkata': 2, 'wfwwrcmi9t': 1, 'e1': 1, 'particulate': 1, 'combust': 2, 'voltaic': 1, 'voc': 1, 'petroleum': 1, 'ch4': 2, 'bacteria': 1, 'decomposition': 1, 'beaverton': 1, 'bcjylerryx': 1, 'ori': 1, 'bind': 1, 'careless': 2, 'campfire': 2, 'wardens': 1, 'aprensss3x': 1, 'pisgah': 4, 'grows': 19, '375': 5, 'd7zxz42qw1': 1, 'ashenforest': 1, 'floorburnt': 1, 'manzanita': 1, 'timber': 1, 'routecomplex': 2, 'fymp4i2wp5': 1, 'jackiekatu': 1, 'yr9mmis7jt': 1, 'sweet2young': 2, 'hornybigbadwolf': 1, 'jk7npdpwro': 1, 'column': 1, 'yqg5pvw5gx': 1, 'p5sodrkvw3': 1, '3stfmn26r9': 1, '5imxngsasa': 1, 'dao9azeucr': 1, 'inbetween': 1, 'krnv': 1, 'vhyjnvug6f': 1, '15p': 1, 'nuff': 2, 'socal': 1, 'ybtheprophet': 1, 'realhiphop': 1, 'zpsnx5iyaj': 1, 'chopper': 1, 'acre': 1, 'mostly': 2, 'slownewsday': 1, 'ruhl': 1, 'modoc': 1, 'temporarily': 1, 'reigned': 1, 'usfs': 1, 'acronym': 1, '8nadrgr4xc': 1, 'globalwarming': 3, 'spending': 7, 'agen': 1, 'mwie5ceeii': 1, 'rgyuakc0dr': 1, 'xlpgkguhkg': 1, 'cossacks': 1, 'hussars': 1, 'riggd': 1, 'rough': 1, 'shelters': 1, 'glade': 1, 'kindlng': 1, 'glowng': 1, 'hollow': 1, 'frnch': 1, 'naturaldisasters': 1, 'tqwrw3jqwo': 1, 'elephants': 2, 'gilmanrocks7': 2, 'nmwi5sm3uw': 1, 'sharply': 3, 'dfyrppzkpu': 1, 'iwsdbgd1zq': 1, 'nycdivorcelaw': 1, 'denier': 2, 'bloom': 1, 'alska': 1, 'seeweed': 1, 'caribean': 1, 'inhofe': 1, 'spends': 2, 'srslcxhc2t': 1, 'qave': 1, 'knowlddge': 1, 'lldubs': 1, 'vineyards': 1, 'd62zfzy0mi': 1, 'tft1bb4xaz': 1, 'utumvaabz6': 1, 'stormcoming': 1, 'palmoil': 1, 'indonesia': 3, '4zn0mdsrvp': 1, 'tbh': 2, 'lockdown': 2, 'stubborn': 1, 'provinces': 1, 'rz': 1, 'yzo948652k': 1, 'iranelection': 1, 'awxr24zsqh': 1, 'o9a26fn27y': 1, 'smokey': 1, 'wtggqs5geh': 1, 'nightmares': 1, 'rbzomwgjee': 1, 'bcpoli': 1, 'canpoli': 1, 'vanpoli': 1, 'tales': 2, 'xuhmj098lq': 1, '2lztomsauz': 1, 'deployed': 2, 'contain': 3, 'trrig5j1re': 1, '6o1mgmghgt': 1, 'wtpo6elrzd': 1, 'fwup9yurzy': 1, 'braves': 1, 'angels': 3, 'dumping': 1, 'fhqx7fiivj': 1, 'forests': 2, 'heartdisease': 1, 'kzfigkeeva': 1, 'bitterroot': 1, 'zva34qhu8m': 1, 'pharrell': 1, 'k0qtl8aodh': 1, 'zqbxe7x9y7': 1, 'mountaintop': 1, 'scented': 1, 'wildflowers': 1, 'distant': 1, 'fieldworksmells': 1, '1hlvrkwgip': 1, 'otfw5sekd7': 1, 'rogue': 2, 'siskiyou': 2, 'nf': 1, 'areaâ': 2, 'lkwxu8qv7n': 1, 'abbyairshow': 1, 'vxjcx8ukmd': 1, 'firefighting': 4, 'consumes': 2, 'clash': 10, 'arn8qfgnpm': 1, 'simpsonâ': 1, 'uyyyrkd6q3': 1, 'campsite': 1, 'recommendations': 1, 'toilets': 1, 'pub': 1, 'midges': 1, 'snakes': 1, 'rivercomplex': 1, 'cashf': 1, '37iyhppnr4': 1, 'straightfire': 1, 'cites': 2, 'increasing': 2, 'lswsitnkuk': 1, 'fellow': 1, 'eagles': 1, 'froilan_canin': 1, 'cacxadleb8': 1, 'delight': 1, 'bounce': 3, 'filmed': 3, '6zgkdpmmsk': 1, 'byz': 1, 'mdt': 3, 'hvy': 1, 'crest': 2, 'spann': 1, 'b1g': 1, 'bmurph1019': 1, 'hail_youtsey': 1, 'termn8r13': 1, 'goblue': 1, 'wrestleon': 1, 'oaskgki6qj': 1, 'avenged': 1, 'sevenfold': 1, 'mike': 4, 'szuter': 1, '9e2f7bivle': 1, 'tremblayeh': 1, 'sirmixalot': 1, 'lzk': 1, 'auxsmdg1un': 1, 'dawgs': 1, 'dak': 1, 'jak': 1, 'igyu2peiu3': 1, 'japton': 2, 'arwx': 3, 'tim8x9bi0f': 1, 'fahlo': 2, 'queenã': 2, 'zrhxy9ibno': 1, 'opjz8fgdiy': 1, 'rnk': 1, 'rockingham': 1, 'stokes': 1, 'chojo': 1, 'pumpkin': 1, 'outage': 2, 'wxii': 1, 'davidson': 1, 'heyseto': 1, 'magna': 1, '40s': 1, 'ogs6d0p3rb': 1, 'blppzaiboe': 1, 'cheryl': 2, 'kigy7m6bgj': 1, 'kmactwn': 1, 'meaganerd': 1, 'cereal': 1, 'kellogg': 1, 'sugar': 1, 'stays': 3, 'crunchy': 1, 'arcadia': 1, 'wed69e4krg': 1, 'thou': 2, 'idqcfjycym': 1, 'olpbmy9xw9': 1, 'on18cqgcoa': 1, 'crop': 1, 'shine': 1, 'sleet': 1, 'custer': 3, 'shannon': 1, 'sd': 3, 'modnao23': 1, 'migraine': 1, 'adolwyn': 1, 'jwagstaffe': 1, 'oldsfiredept': 1, 'hwy27': 1, 'olds': 2, 'approximately': 1, 'yg0pd73bpw': 1, 'faze_rain': 1, 'affecting': 5, 'sturgis': 3, 'kotaweather': 3, '1epiyenqyl': 1, 'hail_zel': 1, 'b7omj7u3ei': 1, 'overhead': 1, 'oakridge': 1, 'melt': 3, 'yycstorm': 6, 'heyitsepark': 1, '666': 2, 'flow397': 1, 'atcha': 1, 'boston': 9, 'golfball': 1, 'sunny': 2, 'parkchat': 1, 'vbffodtp6m': 1, 'qo3vwfelkp': 1, 'unr': 2, 'weston': 2, 'pennington': 2, 'kevin': 1, 'chefs': 1, 'pastures': 1, 'sustainable': 2, 'organic': 3, 'd9xvuvp9s6': 1, 'caesars': 1, 'gzmoblsjxu': 1, '5cgtqfk2ur': 1, 'pounded': 2, '2be7bwcmpl': 1, 'e8ouxvkute': 1, 'darkndtatted': 1, 'holmes': 2, 'doppler': 1, 'edmond': 1, 'lrx0sdsnhm': 1, 'lawrence': 2, 'meade': 1, 'sâ': 6, 'postering': 1, 'calgaryfringe': 1, 'mothernature': 1, 'hailstorm': 39, 'yycfringe': 1, 'killhard': 1, 'haley_whaley': 2, 'gems': 29, 'ofclans': 2, 'rgoguyt0lf': 1, 'siaklsbdip': 1, 'fm44zs93oa': 1, 'cnn1nxxnwc': 1, 'produces': 1, 'peterhowenecn': 1, 'necn': 1, 'nixon': 2, 'tricky': 1, 'hiding': 2, 'miusvpxqte': 1, 'summons': 1, 'pokemon': 2, 'qbdryxsglc': 1, 'vzod7qfflv': 1, 'then0mads0ul': 1, 'uxgtxcarq1': 1, 'adriasimon_': 1, 'round2': 1, 'fqqi8gvlq4': 1, 'f0a2iizx3a': 1, 'sxwjyr3k3l': 1, 'aewglvqreh': 1, 'crazyweather': 1, 'xqbwnlbbiu': 1, 'pummel': 1, 'jkym9edofc': 1, 'erws6ieldg': 1, 'hbgypruvo7': 1, 'swtghlibs2': 1, 'richie': 1, 'herald': 2, '1oh20qhk2l': 1, 'sworn': 1, 'rzagdnwtah': 1, 'uqettagscu': 1, 'bobcats': 2, 'backyards': 2, 'tmzxopvs94': 1, 'w192wkog1m': 1, 'errrr': 1, 'notgoingoutinthat': 1, 'hellonwheelsamc': 1, 'how_fans': 1, 'talkinghell': 1, '9giaxd6jty': 1, 'thebrokencity': 1, '2night': 1, 'screening': 2, 'thebanffcentre': 1, '2wbivkzjip': 1, 'hailing': 1, 'haildamage': 1, 'yycweather': 2, 'captureyyc': 1, 'stoâ': 1, 'bald': 1, 'slam': 2, 'knocks': 2, '20k': 2, 'snppqrwuxb': 1, 'kestuuyc4t': 1, 'pzfbb1p1mj': 1, 'jplocalfirst': 1, 'eliotschool': 1, 'artful': 1, 'ysve1seako': 1, 'zct5cchoj0': 1, 'cityporn': 1, '4608ã': 1, '2474': 1, '8e6xuhrbkh': 1, 'qo190n8udd': 1, 'yyctraffic': 1, 'caller': 1, 'stopping': 2, 'overpes': 1, 'crowchild': 1, 'yychail': 1, '5u5gakx2ch': 1, 'sky9eokggb': 1, '5iyzsda6xb': 1, 'carlilescanoelivery': 1, 'lovemyjob': 1, 'zo8rsqura2': 1, 'northeast': 3, 'logan': 2, 'cowx': 1, 'xk9owgv1o5': 1, 'commuters': 3, 'vmigkj0tkz': 1, 'olde': 1, 'fashioned': 1, 'calgaryweather': 2, 'hi1yoqflfm': 1, 'councilscc': 1, 'jamaicaplain': 2, 'hailstormâ': 1, 'mj8rezoxlj': 1, '45': 6, 'zagbmlsf4h': 1, 'hvyxehxbmq': 1, 'pots': 1, 'iamdowntown': 1, 'hbhx0dwkpc': 1, '25wiehmlz5': 1, 'dhh5jz2w49': 1, 'elzoyeqa3m': 1, 'avoids': 1, 'hlyhdfwsqb': 1, 'gwsnbmmcqf': 1, '1fhrrhcimh': 1, 'reviewing': 1, 'stranded': 5, 'hailâ': 1, 'ft7orfa52y': 1, 'dv4mmlso1i': 1, 'vgf41iupkn': 1, 'penalties': 4, 'pcps': 2, 'physicians': 2, 'tdwprvb04y': 1, 'tareksocal': 1, 'stones': 1, 'cupcake': 4, 'vanderbilt': 1, 'ccdx7cglqw': 1, 'leedsrouge': 1, '0wratka2jl': 3, 'treating': 4, 'dlizfkk30y': 1, 'annoyed': 1, 'audaciousspunk': 1, 'concur': 1, 'mmk': 1, 'dxwfx56pwh': 1, 'tagging': 1, 'harsh': 1, 'firearm': 3, 'felon': 1, 'intend': 2, 'dinallyhot': 1, 'rebooting': 1, 'improvements': 1, '198': 1, 'rqlpsaye3b': 1, 'wayward': 1, 'surveys': 2, 'qzloremft': 1, 'otratmetlife': 1, 'harms': 1, 'standardized': 1, 'tests': 3, 'id667rlets': 1, 'parentsacrossam': 1, 'cc': 2, 'billgates': 1, 'prosper': 1, 'cirtvml9vp': 1, 'lauren_miller_7': 1, 'angel_star39': 1, 'illegals': 2, 'protected': 1, 'vilelunar': 1, 'trickshot': 1, 'controller': 1, 'infinite': 2, 'fading': 2, 'vessel': 2, 'stored': 1, 'utigx9psry': 1, 'bans': 2, 'ads': 2, 'b9zx2xz6aw': 1, 'vgzgok5k3s': 1, 'plannedparenthood': 3, 'jhsegqlbyq': 1, 'warningâ': 1, 'gards': 1, 'altered': 1, 'l9cy29sb1t': 1, 'reblogged': 1, 'wowsavannah': 1, 'collectibles': 1, 'randy': 1, 'k14q8chwkp': 1, '5hvzlaradio': 1, 'bros': 1, 'wwexdreamer': 1, 'form': 4, 'norcinu': 1, 'thebodyshopaust': 1, 'thomaldo': 1, 'cosmetics': 1, 'scrubs': 1, 'toothpaste': 1, 'aquatic': 1, 'ecosystems': 1, 'malistkiss': 1, 'righteous': 2, 'continually': 2, 'shias': 1, 'defeats': 1, 'ideals': 1, 'bie5pfr2ac': 1, 'news4buffalo': 1, 'guardrails': 1, 'space_wolverine': 1, 'foul': 3, 'tastemycupcakee': 1, 'lmfaooo': 1, 'nawh': 1, 'triggered': 8, '2u': 1, 'lift': 1, '12k': 1, 'rjg0789': 1, 'sterotypical': 1, 'annddd': 1, 'colorism': 1, 'prevalent': 1, 'views': 2, '0w12pwpsfx': 1, 'eqdm2opybg': 1, 'clycolkett': 1, 'thorgan': 1, 'gladbach': 1, 'ibrahimovic': 1, 'mercurial': 1, 'vapor': 1, 'footballfreestyle24': 1, 'bzunepsulp': 1, 'lifestyle': 3, 'sickâ': 1, 'deemed': 1, 'hazardâ': 1, '0xrfvidxa2': 1, 'oihwgezdck': 1, 'longbreastyat': 1, 'choking': 5, 'kraft': 3, 'njlqrqcnl9': 1, 'compared': 1, 'faded': 1, 'kagawa': 1, 'januzaj': 1, 'ipfzwwnxxp': 1, 'chaboyyhd': 1, 'yr67ugesrm': 1, 'battlefield': 9, 'dukes': 2, 'mishavelgos': 1, 'mattbacal8': 1, 'accurate': 2, 'harden': 2, 'feroze17': 1, 'warandsetpiece': 1, 'depay': 2, 'overtake': 1, 'phiddleface': 1, 'nvidia': 2, 'shield': 2, 'tablets': 1, 'm3nsix073i': 1, 'cascade': 1, 'childress': 1, 'dilyvrowyj': 1, 'closures': 3, 'uphill': 1, 'oem': 2, '2001': 1, 'volvo': 1, 'xc70': 1, 'dashboard': 1, 'lamps': 2, 'switch': 2, 'vent': 3, 'vxixycbbth': 1, 'hsdonz49hd': 1, 'davis': 1, 'judith': 1, 'hopfer': 1, 'deglin': 1, 'vallerand': 1, 'iufs7uv1hk': 1, 'afrhnlly8d': 1, 'eden': 5, 'rbbnjkoqud': 1, 'sanchez': 1, 'bolasie': 1, '7ct01neptl': 1, 'thatpersianguy': 1, 'youngsafe': 1, 'flopping': 1, 'identical': 1, 'fanboys': 1, 'dannyraynard': 1, 'aguero': 2, 'berahino': 1, 'xgkyvf9t4f': 1, 'hector': 1, 'bellerin': 1, 'ecmj18azai': 1, 'leg': 6, 'dismissed': 1, 'occupational': 1, '528': 1, '530': 1, '740': 1, '20177': 1, '707d': 1, 'kvnahthuwz': 1, 'y8xknpqmnj': 1, 'chelsea': 4, 'talisman': 1, 'cristiano': 1, 'lionel': 4, 'mipasho': 1, 'lxvlqvbc8r': 1, 'xzvmzqus0x': 1, 'dead_dreamer15': 1, 'fplhints': 1, 'ozil': 1, 'ritchie': 1, 'midfielders': 1, 'fplboss': 1, 'household': 2, '91eithgvdb': 1, 'hazzel': 1, 'episcopal': 2, 'iq0iwypizd': 1, 'batman': 1, 'fsplv8inwr': 1, '98nosyzu58': 1, 'onesie': 1, 'recalled': 2, '0pamznyyuw': 1, 'terry': 1, 'sergio': 1, 'honourable': 1, 'nemanja': 1, 'matic': 1, '4nzj9qooay': 1, 'tomdean86': 1, 'willian': 2, 'shifted': 1, 'deans': 1, 'itzzkwfhg5': 1, 'hazard_vn': 1, 'accuracyesports': 1, 'superbobbypires': 1, 'cantona': 1, 'pepe': 1, 'lashed': 1, 'mav': 1, 'ju8nfpnedl': 1, 'londonfire': 2, 'tipster': 1, 'previews': 1, 'swansea': 7, 'pfsryjs1pc': 1, 'skdbot7tgf': 1, 'lickin': 2, 'donuts': 1, 'wingers': 1, 'prem': 1, 'basically': 4, 'wrightsboro': 1, 'dduxthvvnr': 1, 'tym6tymh4m': 1, 'wholeteam3': 1, 'wholesaleent': 1, 'jwnxh9q5ov': 1, 'ine': 1, 'instyle': 1, 'olap': 8, 'pjay74m2fi': 1, 'multidimensi': 3, 'vr3wlqxl0g': 1, 'offloading': 1, 'hilly': 1, 'dlh': 2, 'outlook': 12, 'hwo': 11, 'wozubxri2p': 1, 'fucoqhclad': 1, '7aze4iogme': 1, 'essment': 1, 'optimization': 1, 'routing': 1, 'u9fcb8dz3h': 1, 'disposal': 1, 'feeble': 1, 'yyt4kptfh8': 1, 'marketresearch': 1, 'alfa': 1, 'yifxkrqx0c': 1, 'multidimen': 1, 'ho4b3l0ki8': 1, 'igmpj': 1, 'dangling': 1, 'piercing': 1, 'crystals': 1, 'foodscare': 3, 'offers2go': 3, 'nestleindia': 3, 'slips': 3, 'magginoodle': 3, 'humanconsumption': 3, 'jw6fnnssxt': 1, '4zaztb19qe': 1, '92pk0hujd8': 1, 'chemicals': 1, 'strives': 1, 'maintain': 3, 'friendly': 3, 'micjnpuhg0': 1, 'multidimensional': 1, 'vddi5chktp': 1, 'quarrels': 1, 'dlvzaay7qr': 1, 'ed1vpitswy': 1, '6xsbddlziy': 1, '4e719w6m4v': 1, 'hearitfrompa': 1, 'keratin': 2, 'treatments': 2, 'brazilian': 2, 'copycats': 2, 'moneymaker32931': 1, 'chs': 1, 'lbkiyfwflu': 1, 'meg': 4, 'ggn39m60tl': 1, 'diablo': 3, 'dsp': 1, 'lfetnrxywt': 1, 'multidimensio': 1, 'pvnvqaxsa7': 1, 'hearitfrompatty': 1, 'tsa': 1, '7vlu8ni90q': 1, 'abide': 1, 'codes': 2, 'structur': 1, 'breathing': 3, 'sneak': 3, 'needle': 3, 'inject': 1, 'veins': 1, 'marie': 1, 'therese': 1, 'dominguez': 1, 'administrator': 1, 'pipelines': 2, 'phmsa': 1, 'theblackshag': 1, 'dannyoneil': 1, 'noxious': 1, 'fiat': 2, 'qddywtynvf': 1, 'multidimensiona': 1, 'dzqgotozna': 1, '50k': 1, 'delirious': 1, '3x6rbqjhn3': 2, 'bjzssw4tid': 1, 'triangle': 2, 'peter': 1, 'jehtqaqdfh': 1, 'multidime': 1, 'gwxdjd8ngu': 1, 'josh_lado': 1, 'joshua': 1, 'typos': 3, 'rodpt33xfm': 1, 'eversafe': 1, '0bvk5tub4j': 1, 'kaimai': 1, 'ranges': 1, 'breakdown': 2, '0cucmzcmao': 1, 'aa_traffic': 1, 'mtr': 1, 'tglk2uus2z': 1, 'terwilliger': 1, 'pp15000266858': 1, 'dumped': 2, 'zsnnrulawo': 1, 'alaskapublic': 1, 'tvdvp7vdas': 1, 'paqanences': 1, 'psd': 1, '9xo9mkqqsi': 1, 'bp03eafewr': 1, 'a0ad8z5vsr': 1, 'ltma9xqxpx': 1, 'cheaply': 1, 'jatxpafva9': 1, 'brokelyn': 1, 'brokelynati': 1, 'startelegram': 1, 'vulnerable': 9, 'k9airfq3ql': 1, 'jdbtlymehy': 1, 'rawfoodbliss': 1, 'humid': 2, 'forehead': 1, 'flared': 2, 'olive': 5, 'oli': 2, 'extract': 3, 'tbs': 1, 'lawx': 1, 'u0sykowvwv': 1, 'lightman': 1, '4wsva9wo0f': 1, 'durden': 1, 'jgjgr4o5k0': 1, 'dhhj': 1, '1w10ukvhoo': 1, 'apocalpytic': 1, 'y8wloctevc': 1, 'crawlieswithcri': 1, 'rob0sullivan': 1, '25c': 1, 'surges': 3, 'irpssresrq': 1, 'rash': 2, 'ingescott': 1, 'heebsterrr_': 1, 'cb2nwtgy47': 1, 'waseembadami': 1, 'condemning': 1, 'gv': 1, 'heirs': 1, 'itg84q7vii': 1, 'frightening': 1, 'bdotq8dsln': 1, 'creationsbykole': 1, 'cork': 1, 'ireland': 4, 'hollywarnexx': 1, 'apaz': 1, 'arnhem': 4, 'unrelenting': 2, 'expand': 2, 'statesâ': 1, 'yhaqa5wxok': 1, 'uae': 1, 'mideast': 1, 'ncms': 1, 'thundering': 1, 'tk65ske0zm': 1, 'activists': 1, 'aksypkjdpb': 1, 'camplogistics': 1, 'klarajoelsson': 1, 'revitup': 1, 'pizzarev': 1, 'bp8bm8xsxw': 1, 'longest': 4, 'triple': 9, 'digit': 4, 'ih0awv3l1o': 1, 'xxoupfy8nq': 1, 'a3bjabhqhe': 1, 'wfaaweather': 1, 'frisco': 1, 'scouts': 1, 'canoe': 2, 'okla': 1, 'cooler': 4, '7amdollela': 1, '3la': 1, 'kulli': 1, '7aal': 1, 'autopsy': 1, 'klinenberg': 1, 'eric': 3, 'fptqxvokjc': 1, '0gt63uqgcu': 1, 'sportguyshow': 1, 'nbc10': 1, 'rachelcaine': 1, 'weatherit': 1, 'chilli': 1, 'doritos': 1, 'f1h1mzvsnn': 1, 'extinctionp': 1, 'domeâ': 1, '41lcb9aepr': 1, 'compensations': 1, 'wmdihdiz1r': 1, 'palinfoen': 1, 'matching': 3, 'lipstick': 1, 'rediscovered': 1, 'narsâ': 1, 'waveâ': 2, 'emilyschuman': 1, '4egh1g1jk7': 1, 's4srgrmqcz': 1, 'startide': 1, 'hotter': 1, 'greatbritishbakeoff': 3, 'kristenkoin6': 1, 'pdx': 1, 'abq': 1, 'nm': 2, 'dances': 2, 'facilitydude': 1, 'eked6bulsz': 1, 'facilitiesmanagement': 1, 'xc96rwuszb': 1, 'xm9stfzcpv': 1, 'oymlnlheca': 1, 'hydrated': 1, 'exlqxsa0i8': 1, 'm3tinl4nux': 1, 'zwpodn3koh': 1, 'vol': 1, 'deejayempiresound': 1, 'rqiuqxnm2x': 1, 'founding': 1, 'tgtcru8jio': 1, 'orchid': 1, 'ytkxwpyihg': 1, 'hellfire': 37, 'plez': 1, 'prophet': 9, 'surrounded': 8, 'desires': 13, 'afterlife': 6, 'walpurgisnightz': 1, 'deedee_casey': 1, 'caves': 1, 'silentmind': 1, '_bookofdaniel': 1, 'fkqjy3ezyg': 1, 'describes': 4, 'piling': 7, 'description': 5, 'surah': 4, 'humaza': 4, 'reflect': 4, 'melting': 2, 'laptop': 1, 'ian_hellfire': 3, 'jyheffect': 1, 'hellfire_ev': 1, 'jackperu1': 1, 'sewing': 3, 'oversee': 1, 'spikepoint': 1, 'skie': 1, 'hunchback': 1, 'notre': 1, 'dame': 2, 'reply': 1, 'cocktail': 1, 'verde': 1, 'mezcal': 1, 'chartreuse': 1, 'cucumber': 1, 'bitters': 1, 'reuosjek4m': 1, 'lsmr4kvo6u': 1, 'gg_keeponrockin': 1, 'strawberrysoryu': 1, 'suspicious': 1, 'emmap645': 1, 'vickygeex': 1, 'zak_bagans': 4, 'nickgroff_': 1, 'aarongoodwin': 1, 'investigatin': 1, 'qelricdk': 1, 'bash': 2, 'citadel': 1, 'juqiun2mhg': 1, 'fel': 1, 'zakuun': 1, 'x1onv3d5ux': 1, 'gargoyle': 1, 'hoof': 1, 'coil': 1, '2ii3brc7nx': 1, 'mechamacgyver': 1, 'joann': 1, 'fadc': 1, 'usarmy': 1, 'jagm': 1, 'tow': 1, 'missiles': 2, '2mnqc73hfk': 1, 'tension': 14, 'jonathan': 19, 'hijack': 45, 'pdp': 15, 'comlg0vdbv': 1, 'defecting': 1, 'zzmwiebuci': 1, 'scam': 1, 'sarcastic': 1, '86rsyy2tng': 1, 'himika': 1, 'amase': 1, 'foresaw': 1, 'march': 4, 'jps': 1, 'feb': 1, 'malyasiaairlines': 1, 'dreamoforgonon': 1, 'teeess': 1, 'bona': 1, 'fide': 1, 'cislady': 1, 'incidental': 1, 'homosexuality': 3, 'bi': 1, 'patched': 3, 'exploit': 4, 'macs': 1, 'sbgirvqvzb': 1, 'patches': 2, 'stagefright': 2, 'bfozaptqco': 1, 'jle6afug3p': 1, 'formerâ': 1, 'qjprrobgtc': 1, 'xwogt4wbf7': 1, 'byp': 3, 'pword': 3, 'ars': 2, 'technica': 2, 'f7ogzrnpfv': 1, 'everton': 1, 'wonderkid': 1, 'nb1e7mnce5': 1, 'criminals': 7, '5ytiex55lh': 1, 'donjazzy': 1, 'policeng': 1, 'humanrights': 1, 'xyfl8wy62g': 1, 'ltid39bkbe': 1, 'lrtu8rwn2f': 1, 'epabinczmj': 1, '1sgzgtgfw9': 1, 'goodluck': 1, 'hashgqafic': 1, 'mockingpanems': 1, 'cuddlesforjen': 1, 'slammed': 2, 'rjac5sitep': 1, 'plqf1biks4': 1, 'vbiganirsj': 1, 'ffkcj8pfj2': 1, 'music212': 1, 'chrysler': 2, 'wirelessly': 1, 'steering': 1, 'brakes': 8, 'iso27001': 1, 'daehyvn': 1, 'segment': 2, 'bayelsaã': 1, 'vh8qtbypzt': 1, 'southampton': 9, 'virgil': 6, 'dijk': 4, 'nzrwddlntp': 1, 'uoq87sp5jp': 1, 'cherokee': 3, 'harman': 1, 'consumerist': 1, '2hocep41kh': 1, '53p4ooo1xn': 1, 'apcã': 1, 'w1ufeibala': 1, 'biulqprxke': 1, 'dijkâ': 2, 'pvmr38lnva': 2, 'welshninja87': 1, 'vuln': 1, 'oxxrnab8un': 1, 'b2yvlmpepr': 1, 'qxxn6rksp6': 1, 'b3x1wqzaor': 1, 'dnzjwwtaki': 1, 'cautious': 1, 'jejc9xctmp': 1, '3ejl9lzlch': 1, 'rickybonessxm': 1, 'u2': 1, 'specially': 14, 'sirius': 1, 'chan': 2, 'sayin': 1, 'pyl26nfen8': 1, 'graham': 1, 'phillips': 2, 'fundraiser': 2, 'canceled': 1, 'justgiving': 1, 'fundraise': 1, 'donbas': 1, 'hibef3cxox': 1, '9crfkqzd52': 1, 'nipzmflibd': 1, 'tickens': 1, 'eyn0e8pmjq': 1, '5cz7em9otr': 1, 'spencer_ellmore': 1, 'centretransfer': 1, 'norwich': 1, 'rtfirzcpoc': 1, 'jasoncundy05': 1, 'utd': 1, 'pedro': 1, 'oregon': 5, 'cmon': 3, 'governor': 18, 'allows': 15, 'parole': 20, 'hijacker': 48, 'jwfiilj8wr': 1, 'liveleakfun': 2, 'ionwarvrfy': 2, 'j2i27k6twt': 1, 'linkury': 11, 'browser': 14, 'd8tge45fnu': 1, 'grg1nsjzbk': 1, 'hdahlgrprl': 1, 'z1s3t77p3l': 1, 'chowchilla': 1, 'schoenfeld': 1, 'glwoakppjq': 1, 'wllflfndgg': 1, 'zmokzzf4qp': 1, 'pita': 1, 'hijacks': 1, 'shortcuts': 1, 'qwdkzti97g': 1, '77b2rnrtt7': 1, 'wff7x3b6kt': 1, 'vbqmz5apwj': 1, 'c2eyjnybfn': 1, 'gt7gf0fsex': 1, 'gpcecp9khv': 1, 'xxj2b4jxrt': 1, '9gtylgxroe': 1, 'yg6rj86bki': 1, '0aqbzmrvlq': 1, 'abc7newsbayarea': 1, 'evaded': 1, 'csxvwxuz6t': 1, 'dzlpnp399x': 1, 'likwqhshhx': 1, 'chills': 2, 'hmrt98oydj': 1, 'jab541hhk0': 1, 'je6zjwh5ub': 1, 'fdxgmiwaeh': 1, 'l4wjhz4aj6': 1, 'kmgdv7vsaz': 1, 'bytsfms7md': 1, 'u4bdy1w7d4': 1, 'hrsfa8zuji': 1, 'browserã': 1, 'vlnjnolnme': 1, 'if5rogfjri': 1, '9cntp3nq6o': 1, 'qdf6asaelm': 1, 'giveâ': 1, 'ch24hn74xh': 1, 'gycbuxfygp': 1, 'fuqh0yksdg': 1, '2ns5tfnxpa': 1, 'w2kvscbtlp': 1, 'tn8o00nrlp': 1, '9jxb3rx8mf': 1, 'b5s5epj7um': 1, 'hpa9gqrywa': 1, 'medieval': 4, 'testa': 1, 'earnings': 3, 'distinction': 1, 'divers': 1, 'htarvrgly': 1, 'coz': 1, 'laters': 1, 'op2nobtoul': 1, 'jjklf2plx7': 1, 't3oqgw0ce7': 1, 'fresno': 2, 'sww0qsmxvm': 1, 'bcdp4gkoka': 1, 'jagexsupport': 2, 'ykjl': 1, 'ign': 2, 'kpivxgjnqt': 1, '7mqh7fhxyl': 1, 'bnccwcsckt': 1, 'sahelnews': 1, 'tam6aoskoj': 1, 'el24mnfchw': 1, 'copsâ': 1, '9i5cczd5s0': 1, 'weatrrihe1': 1, 'weighs': 2, '7npbfrzejl': 1, 'y0kbyy8nce': 1, 'n71hmvervv': 1, 'yfppifdkqo': 1, 'ajyulmftif': 1, 'notexplained': 2, 'infamous': 2, 'jlzk2hdetg': 2, '24qekah893': 1, 'fz8ytwqkwv': 1, 'mauds99': 1, 'ush59uq30j': 1, 'i7pijk6xtm': 1, 'jagexhelpdibi': 1, 'jag': 1, 'enabled': 3, 'demco': 1, '8550013': 1, 'hitch': 1, '21k': 1, 'ultra': 1, 'hrdwgfbfyq': 1, 'nuohkmpzfj': 1, 'mch2601': 1, 'realdb4prez16': 1, 'ytao0lt144': 1, 'uxekjeuivp': 1, 'abvvrlfgdh': 1, 'casting': 1, 'deviating': 1, 'dyxtmrydu': 1, 'footage': 6, 'albert': 1, 'demanding': 1, 'publication': 1, 'fatima': 1, '7ieiz619h0': 1, 'tfeanwhh2h': 1, 'sjicbhzfo4': 1, 'softenza': 2, 'anthelmintic': 1, 'drawing': 1, 'taxuxp9qa2': 1, 'earnest': 2, 'pletchâ': 2, 'blooded': 2, 'bivens': 1, 'dnqn1owwf9': 1, 'xnepq5hbyd': 1, 'funtenna': 26, 'hijacking': 49, 'ez1tpczjzo': 1, 'prebreak': 41, 'americaâ': 7, 'vgbopxb6wg': 1, 'somgi7hwli': 1, 'eepuflxnvi': 1, 'cbps1gskvo': 1, 'ladyfleur': 1, 'cafã': 1, 'a0zgzd1fya': 1, 'gujnpljvvt': 1, 'j2aqs5loxu': 1, 's4pnihjqx7': 1, 'cx6aupnemu': 1, 'b9jaxx0vcf': 1, 'wvtpuryx63': 1, 'rapadcea1w': 1, 'chgipzwxsx': 1, 'gudteft5hp': 1, 'n3ddxcto2a': 1, 'qaoqtptgwh': 1, 'j5onxfwlao': 1, 'eyugk6byxr': 1, 'nqiobczkrt': 1, 'aatt5amnmd': 1, 'skateboards': 1, 'saferã': 1, 'ihinj3enqi': 1, 'samaritansâ': 2, 'mdash': 1, 'bronville': 1, '6jjvcdn4ti': 1, 'qj3pvgavn7': 1, 'csgpelmash': 1, '6aqrnankfd': 1, '8jcyxhq1az': 1, 'waiver': 1, 'sue': 35, 'momentsathill': 1, 'nunus': 1, 'timas': 1, 'bikes': 1, 'gexhzu1vk8': 1, 'dll': 2, '3vaig1ptyk': 1, 'bzdnkpory1': 1, 'mis0rjxuir': 1, 'koreans': 1, 'apksnplxzj': 1, 'vosloorus': 1, 'gauteng': 1, 'toyota': 1, 'bkb066gp': 1, 'odmp01eyzu': 1, 'reasonvsfear': 1, 'nonononono': 1, 'drsarwatzaib070': 1, 'mcourt': 1, 'parliment': 1, 'g62txymzbv': 1, 'whomever': 2, 'wifi': 1, 'hotspot': 1, 'skill': 2, 'comuiok3mp': 1, 'f6pczlwbwk': 1, 'xv3d9bpjhi': 1, 'jmawrlt7hb': 1, 'v5yuualoqw': 1, '263chat': 2, 'twimbos': 1, 'zimpapersviews': 1, 'blackhat': 1, 'elasticainc': 1, 'pqxryxvp14': 1, 'wt5wzwvput': 1, 'xu9u3nnxpk': 1, 'lk5uqkop1e': 1, 'earn': 2, 'mcr': 1, 'snort': 1, 'jst5hauk35': 1, 'flavorchargedtea': 1, 'umgd92wlja': 1, 'wg1rt0kb4g': 1, 'tomislav': 3, 'salopek': 3, 'put3lgsdnf': 1, 'aunft': 1, 'intruders': 1, 'i1fhb8qsz7': 1, '7c5bg48brj': 1, 'threatens': 13, 'dailygleaner': 1, 'tjprovincial': 1, 'tjgreatersj': 1, 'dfpliqjmk2': 1, 'captured': 6, 'c5x10jakge': 1, 'diane': 1, 'exchange': 11, 'randomactsofromance': 1, 'sinai': 1, 'execute': 1, 'croatian': 7, 'yvtcxrpt34': 1, 'egyptian': 1, 'threaten': 2, 'gtxndnjrrl': 1, '1717': 1, 'ransomwareâ': 1, 'manâ': 1, 'otherâ': 2, 'aqbljcomln': 1, 'concealed': 1, 'attacker': 1, 'uly5hm6pqr': 1, 'chilling': 2, 'windowsill': 1, 'womenâ': 1, 'arenâ': 1, '48zg5ynebn': 1, 'affiliate': 4, '48ã': 1, 'c0zrqik6ke': 1, 'quoted': 3, 'purported': 1, 'swvuzxi6gt': 1, 'wiqjeruktf': 1, 'susanj357': 1, 'allinwithchris': 1, 'croat': 3, 'nzifztcugl': 1, 'radical': 1, 'mugged': 1, 'excuses': 2, 'holdin': 1, '3lcgidrqpb': 1, 'chacos': 1, 'arrive': 8, '8pm': 1, 'ups': 1, 'crunchysensible': 1, 'footwear': 1, 'ykm6qfrh98': 1, 'wk6b5z803o': 1, 'evahanderek': 1, 'marleyknysh': 1, '1974': 2, 'xcq48ourvl': 1, 'defender': 2, 'antivirus': 1, 'vendor': 1, '2vc8cstwy5': 1, 'damballa': 1, 'vdgfxyx3bw': 1, 'eioqjwgeix': 1, 'trinna': 1, 'teamnyle': 1, 'adoptive': 1, 'thechive': 1, 'bidtime': 1, 'edbxyatmaq': 1, 'mylittlepwnies3': 1, 'early__may': 1, 'anathemazhiv': 1, 'tonysandos': 1, 'positivity': 1, 'bluecurls8': 1, 'worthfull1': 1, 'beta': 1, 'chapters': 1, 'pmarca': 2, 'affiliation': 2, 'tobias': 1, 'hankel': 1, 'behead': 1, 'tlvfaces': 2, 'auspol': 6, 'a6ppegelox': 1, 'airasia': 1, 'wut': 1, 'ditched': 1, 'hungrier': 1, 'captivity': 1, 'introduced': 1, 'compensate': 1, '53â': 1, 'ncjlxzfwaa': 1, 'gideonstrumpet': 1, '5oil': 1, 'gvpkrrdqnu': 1, 'dysfunctional': 2, 'mcconnell': 1, 'judicial': 1, 'nominations': 1, 'govern': 1, 'vt2aky5mgk': 1, 'hostages': 49, 'unharmed': 1, 'denied': 3, 'whoâ': 1, 'ex4fnjjl6h': 1, '130': 13, 'modified': 13, '1980': 15, 'wpgvayfkbq': 1, '6ioabsl6i7': 1, 'hannahkauthor': 1, 'freeamirnow': 1, 'freeallfour': 1, 'gwnlhneku9': 1, 'jkd7cti2iw': 1, 'lajn2n5e2d': 1, 'superiority': 1, 'unconditional': 1, 'surrender': 2, 'broadcast': 1, 'fortune': 3, 'quot': 2, 'television': 1, '3g': 10, 'superv': 1, 'sinjar': 10, 'macre': 52, 'yazidis': 10, 'overã': 1, 'carvv6gsrb': 1, 'lan76zqkxg': 1, 'holmgren': 2, 'zlco4ue5oq': 1, 'w0exzad5gc': 1, 'natalie': 1, 'stavola': 1, 'role': 4, 'lh_movie': 1, 'indiefilm': 1, '2dw23pmf4b': 1, 'render': 1, 'proxy': 1, 'ssu': 1, 'ks7ln8hq8s': 1, 'tni92fea3u': 1, 'czbamzq3gl': 1, 'deosl86': 2, 'xavier_marquis': 1, 'meaningless': 1, 'damsels': 1, 'distress': 2, 'peers': 1, '5xrc0a76vd': 1, 'militant': 7, 'overpowered': 2, 'xwnp8a1jon': 1, 'g601nbd7ws': 1, 'manorial': 1, 'gnocchi': 1, 'thine': 2, 'rbpk': 1, 'exil1bkzmp': 1, 'ts': 3, 'nri': 3, 'trs': 3, 'tdp': 3, 'ehomn68ojb': 1, 'texansdc': 1, 'kylekrenek': 1, 'zepp1978': 1, 'frobeus_ns': 1, 'teddy': 2, 'q4q8xsyzob': 1, 'ptai4zbpbi': 1, 'submitt': 1, 'nbugsmqlrg': 1, 'aviationaddicts': 1, 'snctions': 1, 'miltary': 1, '150bilno': 1, 'inspctkps': 1, 'hostagesthrosw': 1, 'gutrkps': 1, 'hlps': 1, 'ajmal': 1, 'kasab': 2, 'n1up959ofm': 1, 'referred': 1, 'barak': 1, 'depends': 1, 'minhazmerchant': 2, '3000': 1, 'enslaved': 1, 'vnsn284ovw': 1, 'fqwtsxlkrz': 1, 'zy3hpdjnwg': 1, 'indiatoday': 1, 'iamtssudhir': 1, 'nationfirst': 1, 'mkjszgbawr': 1, 'jhoahpbpq4': 1, 'favors': 1, 'miubkz77m6': 1, 'banditregina': 1, 'bang': 52, 'caroline': 1, 'bigsby': 1, 'supermarket': 2, 'bjjoifzuhl': 1, 'iywzallsn4': 1, 'languishing': 1, 'iranâ': 1, 'exsqijf4ny': 1, 'noirandeal': 1, 'tedcruz2016': 1, 'y7sipkb1kd': 1, '178': 1, 'boko': 4, 'haram': 5, 'florid': 1, 'kctigymahl': 1, 'k9fbtccu58': 1, 'xyj0rpsai2': 1, 'baqocmcjqc': 1, 'fdu8acnc2w': 2, 'rapidcity': 4, 'lasvegas': 2, 'nit': 1, 'extracting': 1, 'pointless': 2, 'flqxd3q5py': 1, 'watchmanis216': 1, '79iqdyzjbs': 1, 'onvd9d4nkg': 1, 'referring': 3, 'pg': 1, 'movt': 1, 'yazidi': 2, 'nervana_1': 1, 'behaviour': 1, 'aq': 2, 'pleasantly': 1, 'div': 1, 'fought': 2, 'messed': 3, 'zaynmaiikist': 1, 'grapes': 1, 'guillermo': 7, 'noaa': 4, 'looping': 4, 'wed': 8, 'rjopjkbydr': 1, 'nufdgw9yev': 1, '2okscwyohc': 1, 'eggalie': 1, 'angelriveralibâ': 2, 'snowden': 4, 'katrina': 4, 'jaawuiovdc': 2, 'ut7r2ixrjq': 1, 'v3z96ydmvd': 1, 'kxslftz2i5': 1, 'hurricane_dolce': 3, 'guy_reginald': 1, 'hurricane_dame': 1, 'bluedio': 3, 'turbine': 4, 'wireless': 4, 'stereo': 4, 'headset': 3, 'wwfqgcqyii': 1, 'gscswyuupa': 1, 'lavapixcom': 1, 'meteoearth': 2, 'mfckpvzfv8': 2, 'chubbysquirrel_': 1, 'hurricane_surge': 1, '33333': 1, 'hurricanes': 2, 'names': 2, 'shanaynay': 1, 'shootas': 1, 'burner': 1, '30stm': 1, 'quem': 1, 'lembra': 1, 'al_thegoon': 1, 'habor': 1, 'slix': 1, 'rides': 1, 'wavy': 1, 'hershey': 1, 'sbzwruwufh': 1, 'dancers': 1, 'margarita': 1, 'engle': 1, 'holt': 1, 'byr': 1, 'i7eskymoec': 1, 'coral': 3, 'mock': 2, 'gtycqyfuam': 1, 'qwd5pvgjbo': 1, 'bftou2nybw': 1, 'sunburned': 1, 'wdsu': 2, 'orleans': 1, 'orlean': 1, 'u6pavbzob3': 1, 'freegeezy17': 1, 'reinhardbonnke': 1, 'hs': 3, 'jrztpt8ijq': 1, 'mixxtail': 1, 'tastes': 3, 'watermelon': 1, 'loko': 1, 'brittsand9': 1, 'weudlkc4o4': 1, 'trl1dskf81': 1, 'vinustrip': 1, 'categories': 1, 'defined': 1, 'odydt9qpk1': 1, 'hwrf': 1, 'lashes': 1, 'taipei': 1, 'surge': 3, 'cnkvile7be': 1, 'fecal': 1, 'turdnado': 1, 'forgeting': 1, 'lately': 3, 'aurugjegiq': 1, 'l3w8mipvnt': 1, 'o85m1bjfrw': 1, 'entertain': 1, 'jans3fd4lf': 1, '2sdmichb2z': 1, 'qktrt2j1o8': 1, 'b0jxs5qkkh': 1, 'kp05towsfm': 1, 'leeranaldo': 1, 'expressing': 1, 'lcoutofdoors': 1, 'iwpr2qgysi': 1, 'websites': 1, 'x8w7tf6fhg': 1, '9nz9zfm93i': 1, 'bpgvii_goat': 1, 'chains': 3, 'insult': 2, 'sandyâ': 1, 'hukwd0re2a': 1, 'scefpfvaeu': 1, 'nzafokxx0h': 1, '1o0j9fcpbi': 1, '91': 1, 'edna': 1, 'jefferson': 1, 'doris': 1, 'sherfield72': 1, 'l6nslzl7mi': 1, 'leveled': 5, 'times4': 1, '7c2qhmwtv5': 1, 'unlicensed': 1, 'woc6akehyx': 1, 'xyiwr9jetl': 1, 'newsbreaker': 1, 'sothathappened': 1, 'wheres': 2, 'urogyn': 1, 'mesh': 1, 'offenders': 1, 'npoqlkqup9': 1, 'meshnewsdesk': 1, '1kxsglsta7': 1, 'bolsters': 1, 'investigative': 1, 'e8aegofdy2': 1, 'lxmdiseucn': 1, 'yug': 1, 'radcliff': 1, '3iyxooacw6': 1, 'suryaray': 2, 'ptq3zmgnck': 1, 'foster': 5, 'yeat': 1, 'wakeupflorida': 1, 'floridians': 1, 'trophyhunt': 1, 'j5in8mexaj': 1, 'rvacchianonydn': 2, 'chikislizeth08': 1, 'warâ': 1, 'p3o71dz992': 1, 'geeknwjjsz': 1, 'qr3ypekfoe': 1, 'policeman': 1, 'ronnie': 4, 'karjo': 1, 'macomb': 1, 'tuoticilbi': 1, 'desean': 1, 'gabecyzbzj': 1, 'skinson9': 1, 'zmwecbwvao': 1, 'hegot': 1, 'xx8ro94fbc': 1, 'blevins': 1, 'barcelona': 1, 'alba': 1, 'jyiegtnc6h': 1, 'scott': 5, 'lefties': 1, '184': 1, 'fphfesemyj': 1, 'paulista': 1, 'wilshere': 2, 'gl3c1vc88p': 1, '8392': 1, 'deluxe': 1, 'elderly': 2, 'vihdoksccc': 1, 'vjxa13n8ap': 1, 'loganmeadows11': 1, 'christianstec_': 1, 'sled': 1, 'ogun': 1, 'smugglers': 2, 'shootoutã': 1, 'allegedly': 2, 'puxbc2loyk': 1, 'christiec733': 1, 'cosponsor': 2, '928': 2, 'renew911health': 2, 'spo': 1, '7jmgwogqnh': 1, 'axxdcakzty': 1, 'l53oabeqc9': 1, 'q3izqdk1n0': 1, 'thehammers_': 1, 'tonycottee1986': 1, 'alsowhat': 1, 'bilic': 1, 'slated': 1, 'themhe': 1, 'braves_ninja': 1, 'david_brelsford': 1, 'freddie': 2, 'wn414hp9hz': 1, 'cekbxjmpbj': 1, 'mcilroy': 3, 'pga': 1, 'speculation': 1, 'rory': 2, 'speculatio': 1, 'dcyyjvmxhr': 1, 'toi_india': 1, 'ewckcfbi28': 1, 'eqccrtlnbd': 1, 'wearethenews': 1, 'welles_7': 1, 'neelum': 1, 'dud': 1, 'muzaffarabad': 1, 'teenage': 1, 'peer': 2, 'injuredâ': 1, 'gurdzepmhu': 1, 'cwm0ulqu3e': 1, 'forgiven': 3, 'forgotten': 4, 'aesop': 1, 'kinesiology': 1, 'ironmanã': 1, 'durability': 1, 'effectiveness': 1, 'ejymkzpeex': 1, '0iyuntxduv': 1, 'wral': 1, 'wellington': 1, 'lp': 2, 'edmontonesks': 1, 'adarius': 1, 'bowman': 1, 'leadership': 5, 'hcnmzsfnci': 1, 'yeg': 1, '26hwlpwmxr': 1, 'tayiorrmade': 1, 'megatronafc': 1, 'ankles': 1, 'regardless': 3, 'creeping': 1, 'inflicted': 2, 'derma': 1, 'brackets': 1, 'calum36chambers': 1, 'slating': 1, 'gpaulista5': 1, 'jackwilshere': 1, 'disgrace': 1, 'cramp': 1, 'wreak': 1, 'seatbelt': 1, 'njqv45nds2': 1, 'cardinals': 2, 'jaron': 1, 'qxkncvlrh1': 1, 'kjnhnpmxgr': 1, 'nydnsports': 1, 'rebirth': 1, 'jamienye': 1, 'coaching': 1, 'defence': 1, 'cursed': 2, 'riders': 2, 'attended': 1, 'romford': 1, 'iyjejop2wi': 1, 'peel': 1, 'southdown': 1, 'windsor': 1, 'nflnetwork': 1, 'azcardinals': 1, 'jaesmoothcyb': 1, 'rusher': 1, 'ly': 1, 'barring': 2, 'likeavillasboas': 1, 'rich_chandler': 1, 'nalathekoala': 1, 'sequalae': 1, 'suicides': 1, 'homicides': 1, 'nyack': 1, 'pineview': 1, 'railroad': 1, 'i80': 1, 'lp9tbu7kzh': 1, 'mva': 1, 'e7': 1, 'requesting': 1, 'r7': 1, 'sunstar': 1, 'injuriesâ': 1, '0xrysepqhl': 1, 'nj36': 1, '516': 1, 'leonardville': 1, '2xwihy2wsg': 1, 'fkhanage': 1, 'shad': 1, 'forsythe': 1, 'inevitably': 2, 'adhd': 1, 'i4fz75utnh': 1, 'imsushickoflove': 1, 'alekalicante': 1, 'gauze': 1, 'buffoonmike': 1, 'influenced': 1, 'forsure': 2, 'disabledveterans': 1, 'groin': 1, 'thepartyofmeanness': 1, 'gztolll5woâ': 1, 'ringsau': 1, 'elevated': 6, 'tb4': 1, 'tuzacdwfqd': 1, 'carterville': 1, 'kkimmbue04': 1, 'dallascowboys': 1, 'birdgang': 1, 'michiganautolaw': 1, 'stevegursten': 1, 'discuss': 2, 'autoaccidents': 1, 'tbis': 1, 'justicedotorg': 1, 'zum3mlucys': 1, 'strains': 1, 'sprains': 1, 'g0dn1chluo': 1, 'tyuler': 1, 'andy': 3, 'dirks': 1, 'uiseful': 1, 'zrzejpef5j': 1, 'pricing': 1, 'alredy': 1, 'terminated': 1, 'director': 4, '8ddijzynkf': 1, '52uus4tfn3': 1, 'judson1360': 1, 'xtra1360': 1, 'roster': 1, 'diego': 1, 'urg': 1, 'nm7huh3bjc': 1, 'e5cns6ufpa': 1, 'opposition': 4, 'f1r5isbvks': 1, 'nflexpertpicks': 1, 'devalue': 4, 'digits': 4, 'chinadotcom': 1, 'udtgwfsc3p': 1, 'v5wsx0lqn2': 1, '495': 7, 'georgia': 12, 'esteem': 2, 'xeloapzp6r': 1, 'joboozoso': 1, 'usat': 1, 'usatoday_nfl': 1, 'dgkmueoaxz': 1, 'recordand': 1, 'behaviors': 1, 'nepd_loyko': 1, 'texans': 2, 'sergiopiaggio': 1, 'volga': 4, 'dmtzmgyrik': 1, 'lawâ': 1, 'negligence': 1, 'fireworks': 1, 'incidents': 1, 'd5w2zynp7b': 1, 'garza': 1, 'atlas': 1, 'leones': 1, 'copa': 1, 'usmnt': 1, 'ergo': 2, 'rotator': 2, 'cuff': 2, 'zj3odgqhyp': 1, 'converting': 1, 'vzhtibe4jh': 1, 'domestic': 3, 'lamha': 2, 'ba': 1, 'icc_realckt': 1, 'infact': 1, 'zimmer': 1, 'dal': 1, 'rb': 2, 'lance': 3, 'dunbar': 3, 'eujgu1hvvx': 1, 'exum': 1, 'stem': 1, '8pifutrb5u': 1, 'stern': 1, 'yhh7x0maio': 1, 'asx100': 1, 'njiv1n6ryr': 1, 'spursâ': 1, 'marjanovic': 1, 'eurobasket': 1, 'ubcggehqyn': 1, 'alas': 1, 'tennis': 1, 'defending': 2, 'champ': 1, 'svetlana': 1, 'kuznetsova': 1, 'withdraws': 1, 'citi': 1, 'espn': 2, 'im2hdsklq5': 1, 'pft': 1, 'barkevious': 1, 'mingo': 1, 'browns': 1, 'd7m9kgmpji': 1, 'nflweek1picks': 1, 'cowboys': 3, 'xmcredfxat': 1, '_keypsters': 1, 'yyqws4so9j': 1, 'patricia_traina': 1, 'mcclain': 1, 'nyg': 1, 'follownflnews': 1, '5dujgypima': 1, 'mcfadden': 1, 'hamstring': 1, 'jwq4kvjh2j': 1, 'dom': 1, 'tdeqwm8zxn': 1, 'sport_en': 1, 'rkb7egkveb': 1, 'jj_dirty': 1, 'mlstransfers': 1, 'greggmair': 1, 'gio': 1, 'skc': 1, 'bwp': 2, 'nycfc': 1, 'gptysalfki': 1, '7adqv1grvr': 1, 'quirk': 1, 'hxvihdushp': 1, 'dantmatrafajlo': 1, 'woes': 1, 'claiborne': 1, '12giqbvlys': 1, 'qb': 1, 'unaffected': 1, 'igh2paahnk': 1, 'vz19vvgmnv': 1, 'climbed': 1, 'wheels': 1, 'io': 1, 'hawk': 1, 'srk': 1, 'punishment': 3, 'heenan': 1, 'ngata': 1, 'z16dtoqhhg': 1, 'bnmklpznip': 1, 'laois': 2, 'advertised': 2, 'inundated': 50, 'igm2fcmupm': 1, 'uxcfbj3mzx': 1, 'lenn_': 1, 'kzxv6dwq6e': 1, 'ddnt': 1, 'reign_coco': 1, 'ostentatious': 1, 'eliistender10': 1, 'splats': 1, 'jokethey': 1, 'thebrooklynlife': 1, 'hared': 2, 'wk': 1, 'seward': 1, 'seattledot': 1, 'seattletimes': 1, 'ryanair': 1, 'dented': 1, 'deductible': 1, 'wcvb': 1, 'fionagilbert_': 1, 'applications': 3, 'beaches': 1, 'kcm4sgrcer': 1, 'igm2fc4t0m': 1, 'yiltu7sxar': 1, 'presume': 1, 'soggy': 1, 'lashings': 1, 'texts': 1, 'acceptable': 1, 'typeed': 1, 'illustrative': 1, 'inkpg': 1, 'commercials': 1, 'frankly': 1, 'bentossell': 1, 'producthunt': 1, 'yahoocare': 1, 'waimea': 1, 'czdw8oowa2': 1, 'bushman': 1, 'safari': 2, 'palmer': 1, 'cecil': 1, 'commentes': 1, 'qwiihnmchr': 1, 'pb4vbv01ax': 1, 'deconstruct': 1, 'kerri': 1, 'sackville': 1, 'tms7': 1, 'mistresspip': 1, 'amazed': 1, 'mistress': 1, 'dictionarycom': 1, 'wordoftheday': 1, 'twitterpated': 1, 'pxoq1trxqr': 1, 'useyourwords': 1, 'allyinwondrland': 1, 'bread': 2, 'trader': 1, 'joes': 1, 'wknd': 1, 'grandad': 1, 'highlighted': 1, 'jshxfvllly': 1, 'sophieingle01': 1, 'angharadjames16': 1, 'gifts': 1, 'malt': 1, 'loaf': 1, 'worm': 1, 'bangladeshaffected': 1, 'bangladeshflood': 1, 'string': 1, 'replenish': 1, 'leaderâ': 1, 'weary': 1, 'notsorry': 1, 'gls15': 1, 'tonymcguinness': 1, 'creamfields': 1, 'mainstage': 1, 'bcfcticketlady': 1, 'mr_aamir_javaid': 1, 'kro': 1, 'swords': 1, 's5': 1, 'starks': 1, 'greyjoys': 1, 'rossifumibhai': 1, 'alexeeles': 1, 'counâ': 1, 'teahivetweets': 1, 'pornhub': 1, 'gghfx8pzmh': 1, 'paperwork': 1, 'hronlinetweets': 1, 'simplify': 1, 'staffing': 1, 'brace': 1, 'samaritans': 1, 'depressed': 1, 'hexpc77otn': 1, 'ledofficial1': 1, 'samples': 1, 'sweets': 1, 'mi_country_hick': 1, 'pfft': 1, '140': 2, 'unhinged': 1, 'machismo': 1, 's0ctcqjvjx': 1, 'withering': 1, 'undermine': 1, 'mustering': 1, 'bilsko': 1, 'humofthecity': 1, 'trad': 1, 'authors': 1, 'plummeting': 1, '38_degrees': 1, 'unilever': 1, 'legna989': 1, 'megalpolis': 1, 'petting': 1, 'shiver': 1, 'inundation': 12, 'overflow': 1, 'commencement': 1, 'zachlowe_nba': 1, 'boots': 1, 'jzwrwlvlsj': 1, 'ot3bjjhh8s': 1, 'epao': 1, 'marsac': 1, 'manipur': 3, 'causin': 1, 'rh7m7t9gd9': 1, 'womanxking': 1, 'platform': 3, 'bpg68gxi9k': 1, 'realtime': 3, 'c8t9thi7wd': 1, 'vulrclw7bd': 1, 'unfortunately': 2, 'apologies': 1, 'inundationâ': 1, 'u8hsrtrxmm': 1, 'kathrynschulz': 1, 'subtle': 2, 'sociologist': 1, 'relative': 1, 'doer': 1, 'mhl': 1, 'mousse': 1, 'tuai0zwgxu': 1, 'bounds': 2, 'sprinklers': 1, 'faq': 1, 'lawn': 1, 'answered': 1, 'ebb': 1, 'kemal_atlay': 1, 'r_o_m': 1, 'tommygshow': 1, 'burlington': 1, 'florence': 3, 'xgguelyxyi': 1, 'holes': 1, 'avalanches': 1, 'xrrlnhelap': 1, 'sinkhole': 54, 'martinmj22': 3, 'yougov': 3, 'hoodedu': 1, 'berlatsky': 1, 'fleetwood': 1, 'q99': 1, 'virtu': 1, 'dkhqgv': 1, 'dundee': 3, 'bulletsâ': 1, 'sxmlg3xdvx': 1, 'kdudakia': 1, 'electoral': 1, 'credits': 2, 'xy41z0o5ei': 1, 'pollster': 1, 'inbounds': 1, 'nl': 1, 'l0deocxu6o': 1, 'toddstarnes': 1, '30bst': 1, 'a10': 1, 'paris': 3, 'a40': 1, 'geneva': 2, 'a7': 1, 'mons': 1, 'a1': 2, 'a2': 2, 'hanover': 1, 'a5': 2, 'karlsruhe': 1, 'gotthard': 1, 'yoi9tocxiq': 1, 'lifelong': 1, 'rfb3jxbiej': 1, 'memorable': 1, 'debates': 1, 'ronald': 1, 'reagan': 3, 'romp': 1, '2xohtjqjwh': 1, 'bxiohtic5x': 1, 'awadgolf': 1, 'capitalist': 1, 'elect': 1, 'venice': 2, 'bccca4vy9r': 1, 'freebesieged': 1, 'wafer': 2, 'gâ': 1, '2q3fuerey5': 1, 'smashing': 1, 'pumpkins': 1, '7pqs4rshhb': 1, '89x': 1, 'preeti_chopra2': 1, 'chinmaykrvd': 1, 'nitish': 1, 'bihar': 2, 'castes': 1, 'votes': 2, 'winning': 2, 'artifacts': 1, 'horseshoe': 1, 'bdb0npgpkh': 1, 'jbcc0kshol': 1, 'y7rv0til1w': 1, 'garbanzobean23': 1, 'cutest': 1, 'indot': 1, 'bias': 1, 'g7k9tqvqbk': 1, 'seeiey': 1, 'd8nwqce3ew': 1, 'seeley': 1, 'crowtherjohn': 1, 'effiedeans': 1, 'lbr': 1, 'couldnt': 1, 'situ': 1, 'contemplation': 1, 'bridal': 1, 'wiwnpfxa': 1, 'xysnxum29t': 1, 'ge2015': 1, 'sleeper': 1, 'railing': 1, 'since1970the': 1, 'depreciations': 1, 'usd': 1, 'b4federal': 1, 'wgqkxmby3b': 1, 'flashflood': 1, 'farmland': 1, '365disasters': 1, '911f3ixrh0': 1, 'rakestrawjeff': 1, 'sums': 1, 'krag': 1, 'alps': 11, '42mawzb8t9': 1, 'skardu': 1, 'nqnwktrhsa': 1, 'sjkgjxff2r': 1, 'ronwyden': 1, 'lyndon': 1, 'dos': 1, 'administer': 1, 'apps': 1, 'qct': 1, 'chicks': 1, 'changing': 4, 'lides': 1, 'jrsgmtt3ai': 1, 'hubris': 1, 'req': 1, 'rigour': 1, 'nominates': 1, '_ohhsehuns': 1, 'rcvdrwowvo': 1, 'heavyã': 1, 'q3xq8r658r': 1, 'ceciltownship': 1, 'seeks': 15, 'southpointe': 1, 'boulevard': 1, 'zjjdt3so72': 1, 'morning_joe': 1, 'presssec': 1, 'smart': 2, 'statesmanlike': 1, 'cv': 1, 'draft': 1, 'inaugural': 1, 'jgisavq': 1, 'soak': 3, 'cyv2zg935g': 1, 'fond': 1, 'sz2rvwpwhj': 1, 'lajx578dru': 1, 'pixar': 3, 'g4schqfest': 2, 'animated': 1, '1vdxswdrp9': 1, 'iq4bzucvig': 1, 'miss_instiinctz': 1, 'youngheroesid': 7, 'pantherattack': 7, 'jamilazzaini': 1, 'alifaditha': 1, 'neighbor': 2, 'uke': 1, 'kidsthesedays': 1, 'eles_kaylee': 1, 'jannellix0': 1, 'puts': 1, 'nxttd9nrux': 1, 'irqj3zkcuz': 1, 'kherr122': 1, 'breeder': 1, 'bred': 1, 'dragonvale': 1, 'qgum9xheos': 1, 'wbaqdzmd6w': 1, 'kofapp': 1, 'bkdjksgtjj': 1, 'molten': 3, 'steaks': 1, 'yxns3iixjv': 1, 'lcm66dhn1l': 1, '724gq5ebqz': 1, 'h01j9pirie': 1, 'lavamobiles': 1, 'iris': 3, '402': 1, 'misti': 1, 'bestdayeva': 1, 'aez3ak1lrn': 1, 'dieanpink95': 1, 'yu_nita99': 1, 'skippy6gaming': 1, 'mxhrextrkh': 1, 'ps3': 1, '4i0rkcbk1d': 1, 'savior': 1, 'us0qqqhqvj': 1, 'dserialpcilp': 1, 'pci': 1, '16550': 1, 'eâ': 1, 'l0b14sj7jb': 1, 'bleachers': 1, 'cllwud4wsu': 1, 'mirnawan_13': 1, 'zakia_kiia': 1, 'to9viqoofv': 1, 'cunayyh': 1, 'taufikcj': 1, 'nether': 1, 'spawning': 1, 'gg': 3, 'alienateplays': 1, 'rgc1afqlmn': 1, 'bracelet10mm': 1, 'dkdmlzyrii': 1, 'etsymntt': 1, 'handmadejewelry': 1, 'wyg4ougqy3': 1, '17egmlni80': 1, 'oliver': 2, 'cries': 3, 'waterboarding': 1, 'dipping': 1, 'akq4rwjfvl': 1, '_souuul': 1, 'throws': 1, 'sinks': 1, 'niastewart3': 1, 'nrmawa': 1, 'dominos': 1, 'culinary': 1, 'cuisine': 1, 'uooygbb6az': 1, 'sivan': 1, 'basalt': 1, 'mage': 1, 'pieceâ': 1, 'jjxcnwbp15': 1, 'gracemccreave_': 1, 'jamisonevann': 1, 'jace_swain': 1, '_laneyslife': 1, 'jacksonlaurie1': 1, 'amumumux': 1, 'actin': 1, 'mirmanda11': 1, 'evaaasr': 1, 'shakeology': 1, 'protein': 1, 'shake': 1, 'apod4eivba': 1, 'pinpoint': 2, 'foothill': 1, 'ctijdpxabk': 1, 'closer': 4, 'tontitowngrape': 3, 'tgf2015': 3, 's53zvms5rf': 1, 'reshapes': 4, 'reshape': 2, 'mineral': 2, 'crystal': 2, '2wvmij5sa4': 1, 'jgf': 1, 'r5mwlzvvha': 1, 'autobiography': 4, 'lawton': 4, 'a7iqmhvlsm': 1, 'b9vtkdjj33': 1, 'z4jyharrew': 1, 'd9pqixatx6': 1, 'guthrie': 1, 'hcwrk81p71': 1, 'umes': 1, 'bytbz8s5ux': 1, '034': 1, '1a': 2, '5s': 2, '5c': 2, 'ipâ': 1, 'o3wvsclicx': 1, 'random_tourist': 1, 'rained': 2, 'jackholes': 1, 'gusty': 4, 'downpours': 2, 'jyxafd4knk': 1, 'rebeccafav': 1, 'q9q87mdezy': 1, 'tezltqeyw2': 1, 'icaseit': 2, 'mfi': 2, 'certified': 3, 'b32jmvsb1e': 2, 'xkmijgy59t': 1, 'blink': 1, 'd4c2iqirnu': 1, 'wolforth': 1, 'altamonte': 2, 'awhile': 1, 'benji_devos': 1, 'wnp8jkyesp': 1, 'trolleys': 1, 'ramify': 1, 'multitudinal': 1, 'disposed': 1, 'kwxggt': 1, 'vivid': 1, 'triad': 1, 'jmu5uyamdu': 1, 'vancouverã': 1, 'vdiliicyr5': 1, 'z5cfrwado6': 1, 'bzdfznkvog': 1, 'erhdh37rdh': 1, 'idasyjybro': 1, 'gdoaolpq91': 1, 'ihxkforg4i': 1, 'jd6lcruoha': 1, 'ltdalius': 1, 'dantwitty52': 1, 'eighth': 1, 'suns': 1, 'grzchkdf37': 1, 'villanova': 1, 'selected': 1, 'academy': 1, 'award': 1, 'finalists': 1, 'struckâ': 1, '4jyqfhhmxf': 1, 'lightning_ooc': 1, 'subjected': 1, 'unwarranted': 1, 'lightning_wolf_': 1, 'directory': 1, 'resting': 1, 'zmtop65kx2': 1, 'ioq051t5te': 1, '629': 1, 'klxaucnp5i': 1, 'r4kheh7iaf': 1, 'qszgjfuutu': 1, 'idmhswewqw': 2, '9dqhdei357': 1, 'reps': 1, 'dip': 1, 'wwxcob52zi': 1, 'aog5chjmvs': 1, 'cln2sxzy1z': 1, 'l1gh8064yv': 1, 'scichat': 1, 'followtheblonde': 1, 'reba': 1, 'leesburg': 1, 'scoreless': 1, 'seventh': 1, 'fcsl': 1, 'kabwandi_': 1, 'unconfirmed': 26, 'neighbour': 26, 'tkyonly1fmk': 1, 'actionmoviestaughtus': 1, 'laylovetournay': 1, 'ryrotheunaware': 1, 'groaning': 1, 'detonated': 46, 'ercjmnea': 1, 'ibliz140': 1, 'chibi877': 1, 'shouted': 1, 'kotolily_': 1, 'tarmineta3': 2, 'shawie17shawie': 1, 'unij1rvrrq': 1, 'bruv': 1, 'tksgs0810': 1, 'tianta_': 1, 'meâ': 1, '_turns': 1, 'resemblance': 1, 'k_matako_bot': 2, 'chews': 1, 'chewing': 4, 'gum': 2, 'kiilud': 1, 'nikoniko12022': 1, 'sw_trains': 1, 'noises': 2, 'epsom': 1, 'wimbledon': 1, 'kimanzi_': 1, 'jrowah': 1, 'shrnnclbautista': 1, 'matako_milk': 2, 'peacefully': 2, 'sun_ofgod': 1, 'kijima_matako': 1, 'matako_3': 1, 'downstairs': 2, 'telly': 2, 'ykelquiban': 1, 'toxicsavior_': 1, 'hears': 3, 'newborn': 1, 'dumpster': 1, 'w815ol0mbv': 1, 'ijreview': 1, 'daviesmutia': 1, 'ignorant': 3, 'aggravating': 1, 'bang_me_up_guk': 1, 'coworkers': 1, 'snickers': 1, 'art_brut_': 1, 'brut': 1, 'pops': 2, 'upstairs': 2, 'checks': 2, 'cafetiere': 1, 'crockery': 1, 'johnmtaita': 1, 'colnharun': 1, 'laugh': 4, 'samanthaturne19': 2, 'nagaski': 1, 'tanstaafl23': 2, 'impulse': 2, 'correlation': 3, 'imply': 1, 'causation': 1, 'amaas': 1, 'jd_marsh22': 1, 'coldmpress': 1, 'commiting': 1, 'candlelight': 1, 'vigil': 1, 'publicizing': 2, 'iit': 1, 'logically': 1, 'sanction': 1, 'alex_the_': 1, 'absol': 1, 'blankets': 1, 'sheets': 1, 'innocents': 2, 'explicitly': 1, 'endorses': 2, 'qadrkejz9t': 1, 'doctordryadma': 1, 'noah_anyname': 4, 'socialism': 5, 'houze': 2, 'owenrbroadhurst': 1, 'juanmthompson': 1, 'histâ': 1, 'odws0waw9q': 1, 'cannibalism': 1, 'concentration': 1, 'd1ff3r3nt1sg00d': 1, 'riceechrispies': 2, 'tuicruises': 1, 'aida_de': 1, 'faroe': 1, '3a3fgzfmzh': 1, 'perspective': 2, 'redscarebot': 1, 'examples': 2, 'tmogti6fb4': 1, 'atombomb': 1, 'bru7t5uzuy': 1, 'musim': 1, 'j3xfdg9cwf': 1, 'newscomauhq': 2, 'domination': 1, 'rawrheem': 1, 'verses': 1, 'qur': 1, 'c1h7jecfrv': 2, 'royalcarribean': 2, 'faroeislands': 4, 'utopian': 1, 'gulags': 1, '14wh0pjj2c': 1, 'attempted': 1, 'jbrk8zsry6': 1, 'comings': 1, 'labelled': 1, 'minority': 5, '37qpssnacv': 1, 'fhi4qbpwfh': 2, 'fredolsencruise': 2, 'itinerary': 2, 'dolphins': 2, 'flgovscott': 1, '10000': 3, 'males': 1, 'commit': 5, 'gv84wnhb7s': 2, 'qzlpfhpwdo': 1, 'yelllowheather': 1, 'undeserving': 1, 're_shrimplevy': 1, 'jakegint': 1, 'bothered': 1, 'traditionalist': 1, 'conservatexian': 1, 'cynicalreality': 1, 'letsbe_rational': 1, 'mishaweller': 1, 'llr517': 1, '140000': 1, 'ww2': 4, 'montalbanony': 1, 'campepperr': 1, 'billy_hodge': 1, 'aurora': 2, 'notoriety': 1, '1rpchru72c': 1, 'debatequestionswewanttohear': 3, 'wahhabism': 1, 'smug': 2, 'alttbjy8b9': 1, 'murder': 1, 'horrendous': 1, 'sb3rjqqzix': 1, 'blah': 3, 'jlu2j5qs8u': 1, 'greta': 1, 'impeach': 1, 'zuma': 1, 'murderer': 47, 'bashir': 1, 'sudan': 1, 'genoâ': 1, 'pnxhxlx9up': 1, 'carlachamorros': 1, 'mass': 3, 'asad': 1, 'dzorezpxvr': 1, 'emekagift': 1, 'vpsay': 1, 'muhammadu': 1, 'buhari': 1, 'kach': 1, 'belonged': 3, 'baruch': 2, 'goldstein': 2, '1994': 1, 'palestinianâ': 1, 'bxgnq57xvb': 1, 'sooooo': 1, 'theaters': 1, 'trillac_': 1, 'aparra210': 1, 'stereotyping': 1, 'guevara': 1, 'greeting': 1, 'gljbnsfgll': 1, 'creel': 1, 'brainless': 1, 'gfz': 1, 'minuscule': 1, 'qeopmcjbcz': 1, 'theatershooting': 1, 'testify': 1, 'exam': 1, 'jury': 2, 'atljw': 1, 'polit': 1, 'aspect': 2, 'tirelessly': 1, 'defendbutera': 1, 'libertygeek83': 1, 'kissing': 1, 'lej5onus9q': 1, 'conveniently': 1, 'zionists': 1, 'revere': 1, '3kob7xbea0': 1, 'movietheatre': 1, '615': 1, 'scvsupremecourt': 1, 'dismisses': 1, 'prisoner': 1, 'challenged': 3, 'quantum': 1, 'bettyfreedoms': 1, 'abninfvet': 1, 'supremacist': 1, 'anders': 1, 'breivik': 1, 'unsurprisingly': 1, '1lxnjvl8tr': 1, 'cheat': 3, 'itv2': 1, 'syvret': 1, 'c9uayjrxt9': 1, 'gojam_i_am': 1, 'tomb': 1, 'raider': 1, 'uncharted': 1, 'lara': 2, 'croft': 1, 'ruthless': 1, 'portrait': 1, 'yuan': 1, 'decisions': 5, 'disgusted': 1, 'libertarianism': 1, 'catoinstitute': 2, 'celebrating': 1, 'victoriagittins': 1, 'xpddwh5tem': 1, 'neanderrebel': 1, 'democrat': 1, 'dissuaded': 1, '4cog0otiwn': 1, 'telegraphworld': 1, 'mmmm': 1, 'fanatical': 1, 'hygiene': 1, 'rfewqrgzbs': 1, 'frautrapani': 1, 'benignovito': 1, 'libertybell1000': 1, 'hillarymass': 1, 'sensible': 1, 'qzzxfysiu1': 1, 'vaccine': 1, 'x713omh6ai': 1, 'owpd7vcfs6': 1, 'convicted': 1, 'theatertrial': 1, 'loki': 2, 'nicely': 1, 'blairmcdougall': 1, 'commenting': 1, 'arkan': 1, 'phoenix_blue': 1, 'rumors': 1, 'fame': 2, 'afk_10': 1, 'dr_johanfranzen': 1, 'orchs': 1, 'tyrant': 1, 'cameron_wate': 1, 'copycat': 5, 'lvlh3w3awo': 5, 'viwxy1xdyk': 5, 'fromthedesk': 1, 'kenyatta': 1, 'muumbo': 1, 'quantumdatainformatics': 1, 'l6eyfdxaax': 1, 'tunisian': 1, 'bardo': 1, '1fvootqnej': 1, 'surviving': 1, 'qzcut7bvkt': 1, 'abc3340': 1, 'massacre': 2, 'alamodc': 1, 'pmxlezjbrc': 1, 'staging': 1, 'qutzvk9xop': 1, 'palm': 1, 'grindhouse': 1, 'texaschainsawmacre': 1, '1wopsgbvvv': 1, 'morbidmovies': 1, 'animallogic': 1, 'lotg': 1, 'smoothed': 1, 'bird': 1, 'chalked': 1, 'sikh': 2, 'dviyer': 1, 'colorlines': 2, 'nlbltynv36': 1, 'bjrrqhhohl': 1, 'wuh1g2blp1': 1, 'yazidi_shingal_genocide': 1, 'ezidigenocide': 1, 'ijoorkagyj': 1, 'mitigating': 1, '75vlsw85gi': 1, 'txy3us2ejs': 1, 'uninvestigated': 1, 'incite': 2, 'ezbtg81trz': 1, 'kabarmesir': 1, 'badr58': 1, 'rabaa': 1, 'observed': 1, 'rememberrabaa': 1, 'eileenmfl': 1, 'stefsy14': 1, 'chainsaw': 1, 'medals': 2, '1890': 1, 'uilpg8i1ev': 1, 'm9pxto2kww': 1, 'xmissxanthippex': 1, 'kermit': 2, 'wcbd': 1, 'bloodbath_tv': 1, 'introducing': 1, 'nanking': 1, 'eyewitnesses': 1, 'tipndempuz': 1, 'cbs': 4, 'wpo': 1, 'qw8qk165sb': 1, 'daddy': 1, 'becarefulharry': 1, 'tunisia': 2, 'kurqlxfihl': 1, 'permanently': 2, 'freddiedeboer': 1, 'thucydiplease': 1, 'coates': 1, 'charleston': 1, 'broadly': 1, 'f0wqlobooy': 1, 'bromleythe': 1, 'thpbdpdj35': 1, 'gigagil': 1, 'iof': 1, 'murdered': 7, '513': 1, 'morality': 1, 'sousse': 1, 'tunis': 1, 'myhhthsli3': 1, 'iraqâ': 1, 'phqk28doni': 1, 'soap': 1, 'rescind': 1, 'honor': 3, 'u4r8driuac': 1, 'nataliealund': 1, 'serbs': 1, 'yougslavia': 1, 'lessons': 4, 'ubf3cfzfex': 1, 'timesnewsdesk': 1, 'g11rd44rgw': 1, 'n834untff1': 1, 'wkrn': 1, 'glencoe': 1, 'martynwaites': 1, 'valentine': 1, 'avoided': 3, 'oompah': 1, 'clam': 1, 'clambake': 1, 'showgirldayoff': 1, 'ptyujji67t': 1, 'martyrs': 1, 'youngâ': 1, 'nux5xfpv2d': 1, 'spsã': 1, 'tomlandry': 1, 'infamy': 1, 'mla71y7mmw': 1, 'creepiest': 1, 't8uqm7imir': 1, 'mayhem': 37, '4playthursdays': 6, '1716': 6, 'n8w252jovt': 1, 'reads': 2, 'stuckinbooks': 1, 'jp3oy0ouxq': 1, 'adventure': 1, 'terraria': 1, 'hijinks': 1, 'mzcddoyken': 1, 'cvinch_waow': 1, 'stacy': 1, 'reflects': 5, 'hanneman': 4, 'lfw4iymsak': 1, 'raynbowaffair': 6, 'editor': 6, 'diamondkesawn': 6, 'uh6mxi0uwz': 1, 'ramag': 6, 'models': 6, 'itsjustinstuart': 2, 'odv3rqs8ju': 1, 'e4hcbqsltu': 1, 'eswenrage': 1, 'halloween': 1, 'ge0yd3mkav': 1, 'alexbelloli': 2, 'pages': 1, 'fia': 1, 'tariq': 1, 'khosa': 1, 'xzsp5jhvfc': 1, '7mzycu2iho': 1, 'scu9qzp6nq': 1, 'avalon': 1, 'bdays': 1, '1oze4aw3ju': 1, 'txt': 2, '818': 1, '447': 1, '8427': 1, 'uzpkarbaqv': 1, 'mayhem_114': 1, 'masterchef': 2, 'dash': 1, 'newbie': 3, 'designers': 1, 'xvghljahrr': 1, 'nosurrender': 2, 'bully': 3, 'g6monvnpsu': 1, 'thedreaminggoat': 1, 'mayhem0407': 1, 'robertosaguedes': 1, 'followngain': 1, 'themgwvboss': 1, 'ynovak': 1, 'iammrcash': 1, 'frankies_style': 1, 'mamanyadana': 1, 'mayhem_4u': 1, 'panicked': 1, 'disco': 11, 'htpqvohtud': 1, 'concertphotography': 1, 'livemusic': 1, 'canonâ': 1, '5frwyszwrs': 1, 'kissimmee': 1, 'fpyru5golh': 1, 'wdefhbkf9g': 1, 'ganseyman': 1, 'rt_4_a_mention': 1, 'rpneaj6fod': 1, 'q9lxo4qkji': 1, 'ferrell': 2, 'zach': 1, 'galifianakis': 1, 'comic': 1, 'farce': 1, 'tq3j2qgtzq': 1, 'cq7jj6yjfz': 1, 'omywclpgef': 1, 'asbury': 1, 'dadz5zfo1g': 1, 'asburyparkpress': 1, 'jmcwrites': 1, 'pitchwars': 1, 'realism': 1, '64xr9ltnoh': 1, '6n6gcej9iy': 1, 'observations': 1, 'pccwsgcyma': 1, 'pnc': 1, 'holmdel': 1, 'nabbed': 2, 'tvmd14uiko': 1, 'nino': 2, 'elâ': 1, 'a9pofhbbjf': 1, 'shelly': 1, 'waffle': 2, 'madonna': 1, '1987': 1, 'nowyouknow': 1, 'ebbf1n7maj': 1, 'akcsl': 1, 'venture': 1, 'suitable': 1, 'yskadmfbbb': 1, 'h31knuwzz5': 1, 'iw2otzqfkh': 1, 'fa0jt1yqru': 1, 'featcha': 1, 'metztheband': 1, 'edkins': 1, 'subpop': 1, 'jarring': 1, 'd0rkcl61fb': 1, '7jwjtxqcas': 1, 'mnkaji2q1n': 1, 'xehwmsh7lv': 1, 'julescheff': 1, 'z_hoffman96': 1, 'zack': 1, 'madsummer': 1, 'commences': 1, 'dubloadz': 1, 'droppd': 1, 'meelllttting': 1, 'vxsqpfe9na': 1, 'deepak': 1, 'chopra': 1, 'ethgagpy5g': 1, 'collective': 3, 'sebastianstanisaliveandwell': 1, 'civilwar': 1, 'woc1tevvmp': 1, 'drdrewhln': 1, 'areva': 1, 'tinybaby': 1, 'adultblackmale': 1, 'mattytalks': 1, 'mwednesday': 1, 'kinkyconnors': 1, 'candidates': 1, 'grimes': 2, 'pbegof4740': 1, 'rymathieson': 1, 'mcc76xowli': 1, 'momentum': 1, 'investors': 2, 'hsecqcdc7p': 1, 'timcook': 1, 'investment': 2, 'nashhmu': 1, 'whenever': 2, 'becca_caitlyn99': 1, 'microsofts': 1, 'dfr': 1, 'ep016': 1, 'monthly': 1, 'dnbheaven': 1, 'ejkrf8n8a8': 1, 'sphwe6wfi5': 1, 'ronfunches': 1, 'meltdown_show': 2, 'funches': 1, 'dgatkrdyny': 1, 'seagull07': 1, 'aleisstokes': 1, 'intelligencebar': 1, '2000s': 1, 'mortgage': 1, 'justintrudeau': 1, 'g7': 1, 'g20': 1, 'kumailn': 1, 'irongiant': 1, 'crowdtappers': 1, 'joinvroom': 1, 'ohhhh': 1, 'tangletalk': 1, 'dmoneydemi': 1, 'dtb': 1, 'watchout': 1, 'nprfreshair': 1, 'gramzd': 1, 'dabs': 1, 'mpj2u4qsyi': 1, 'commoditiesã': 3, 'njd1n5txxe': 1, 'hfqlwo1kmy': 1, 'sp': 4, 'letdown': 1, 'equals': 1, 'lei9dwvllq': 1, 'conclusions': 1, 'padres': 1, 'em1cn7algk': 1, 'uncontrollable': 1, 'anomaly': 1, 'outcome': 1, 'chelseavperetti': 1, 'sbjohn12': 1, 'btm': 1, '9th': 1, '2out': 1, 'lemairelee': 1, 'danharmon': 1, 'comics': 1, 'representative': 1, 'sample': 1, 'oxcuuqpomr': 1, 'jpa6sajfe3': 1, 'byproduct': 2, 'kbc2ax8zl9': 1, 'czwjw4uv7i': 1, 'c0t7rvotkj': 1, 'examinercom': 1, 'warthen': 1, 'bullpen': 1, 'bubble': 2, 'flirt': 1, 'warriorcord': 1, '550': 1, 'paracord': 1, 'mil': 2, '5040': 1, 'strand': 1, 'eejrmktj0r': 1, 'inspectors': 1, 'sur3odwmka': 1, '2vsx1yo5ht': 2, 'furtrix': 1, 'cougars': 1, 'ushanka': 2, 'fur': 2, 'xl61': 1, '62': 1, 'badge': 3, '74yfqxvak0': 1, 'kxrehvt6hl': 1, 'admiral': 1, 'nationwide': 1, 'shortchanging': 1, 'g0q0bzbjli': 2, 'rbt3mlhlx7': 1, 'militarydotcom': 2, 'boonie': 1, 'usmc': 1, 'airsoft': 1, 'paintball': 1, 'woodland': 2, 'cp030': 1, 'egqe35i5pi': 1, 'uabrynhkn7': 1, 'texian': 1, 'iliad': 1, 'hardin': 1, 'rrids0mrj1': 1, 'wybtuk7lbg': 1, '951': 1, 'mechanics': 1, 'vols': 1, '1944': 1, 'ly6s5mh3vr': 1, 'c29v8ubxcq': 1, 'lulgzimbestpicts': 6, 'bcbfcstzxh': 1, 'vik72id8zu': 1, 'alarmed': 2, 'sbila2yqjq': 1, 'ymcglaun': 2, 'connects': 1, 'univsfoundation': 1, 'experiments': 5, '731': 5, 'vvplfqv58p': 5, 'rwaph6dauv': 1, 'eagle': 1, 'oiler': 1, 'gpw': 1, '9tpfrn725p': 1, 'hvh6b3wolg': 1, 'magner': 2, 'getbjip5rh': 1, 'kgb': 1, 'cossack': 1, 'bla42rdt1o': 1, 'einsqs8tfq': 1, 'trgpwouj6x': 1, 'gemnuzoceb': 1, 'kiranahmedd': 1, 'talibans': 1, 'deployments': 1, 'n6zflxigvr': 1, 'weakley00': 1, 'm151a1': 2, 'mutt': 2, 'm416': 2, '9rryaylgyy': 1, 'nm83johluu': 1, '578gunp8t9': 1, 'psbxl1hvu3': 1, 'suckers': 1, 'socialjerkblog': 1, 'shuffling': 1, 'stfxuniversity': 1, 'l5awtundhm': 1, 'xkmlq99sjy': 1, 'a3rgqucugo': 1, 'infantryman': 1, 'experimental': 1, 'tutorials': 1, 'ertative': 1, 'intelligence': 2, 'mindset': 2, 'prefers': 1, 'negotiationâ': 1, 'kls6uplw0t': 1, 'gatewaypundit': 1, '2for1lapdances': 1, 'yompxjpptv': 1, '2012': 3, 'l0hhwb9lsz': 1, 'rj83ye5c1s': 1, '2rwru0jp0u': 1, 'courageous': 1, 'vhmtytptgr': 1, 'n1tjct8hmc': 1, 'pytqm7rvp0': 1, '1pulaekxcq': 1, 'beth': 1, 'underwood': 1, 'gravity': 1, 'teamhendrick': 2, 'ririnsider': 1, 'hendricks': 1, 'hospitality': 1, 'neanea2724': 1, 'iapvtqxlht': 1, 'wamkre6ckd': 1, 'gm7qltrluw': 1, 'wtutmlhdmh': 1, 'uz1yiz7n6m': 1, 'ijwar15h16': 1, 'universityoflaw': 1, 'eg1fskqbv6': 1, 'clancy': 1, 'novels': 1, 'paperback': 1, 'obix79ncxn': 1, 'tomclancy': 1, 'cochisecollege': 1, 'ldx9ukngsk': 1, 'mcdonalds': 2, 'm9a1': 1, 'phrobis': 1, 'bayonet': 2, 'sheath': 1, 'nr': 1, 'dkxe44m8v9': 1, 'a4pfb5lt17': 1, 'supreme': 4, 'oks': 2, 'ruling': 2, 'empower': 1, 'milita': 1, 'v0nf1uc1ow': 1, 'bolstering': 1, 'cooperation': 1, 'sputnik': 2, '9q9rk3fof7': 1, 'sputnikint': 1, 'wider': 2, 'exyr6c5qpu': 1, 'gorillathumbz': 1, 'jonathanserrie': 1, 'rifle': 3, 'unarmed': 1, 'gunned': 1, 'worseits': 1, 'alexxpage': 1, 'mudslide': 50, 'stu': 2, 'belter': 1, 'oso': 2, 'ma4ra7atql': 1, 'cg579wldne': 1, 'beetroot': 1, 'pete_r_knox': 1, 'gemmasterful': 1, 'hipster': 1, 'tajikistan': 1, 'mudslides': 1, 'tajiks': 1, 'bd546mtcpn': 1, 'bakeofffriends': 3, 'britishbakeoff': 3, 'bbcone': 1, 'burrito': 1, 'lljzxy8pc2': 1, 'dorett': 1, 'dorrett': 1, 'marc_holl': 1, 'nennicook': 1, 'aitchkaycee': 1, 'vixstuart': 1, 'benjbeckwith': 1, 'paulhollywood': 1, 'blackforestgateau': 1, 'gbbo2015': 2, 'fjords': 1, 'iceland': 2, '534q3jg2ov': 1, 'icelandreview': 1, 'iceland_review': 1, 'gasping': 1, 'giggling': 1, 'stew': 1, 'sophiewisey': 1, 'dorette': 1, 'maker': 2, 'picniclester': 1, 'rabidmonkeys1': 1, 'zt5ofbiwtd': 1, 'ineedcake': 1, 'c743tlrywd': 1, 'brobread': 1, 'lolly_knickers': 1, 'vaginaorcake': 1, 'impressions': 1, 'lieu': 1, 'triumphs': 1, 'hazelannmac': 1, 'hatman': 1, 'urufusanragu': 1, 'curryspcworld': 1, 'new_hart2010': 1, 'sbfglqjzfs': 1, 'mariankeyes': 1, 'melindahaunton': 1, 'bottleowhite': 1, 'toopainful': 1, 'bae': 1, 'backroom': 1, 'kgxnwziuxd': 1, 'physically': 1, 'gasped': 1, 'invested': 1, 'nikistitz': 1, '35jyap0ul9': 1, 'doylech': 1, 'raã': 2, 'â¼l': 2, 'condolence': 2, 'bgytmqj3oo': 1, 'patrickandsam': 1, 'ghaccount': 1, 'cali74142290': 1, 'rationing': 1, 'q4gl3dvhu1': 1, 'tattooed': 1, 'arkansas': 1, 'nola': 1, 'emrzicb004': 1, 'inventories': 1, 'rnwvkbkhwu': 1, 'twoptwips': 1, 'sifting': 1, 'rattles': 1, 'dolakha': 1, '367': 3, 're1d5ffcsx': 1, 'avvsoino8z': 1, 'voyruxcrin': 1, 'colder': 2, 'mateo': 1, 'doesnt': 1, 'mirage': 4, 'addition': 2, 'newser': 1, 'tb8gzembxu': 1, '5tf4cv4kei': 1, 'kqycfkclr5': 1, 'bono': 1, 'rxg0bvbbus': 1, 'probononews': 1, 'v2yxurne2p': 1, 'hug': 2, 'roblox': 1, 'jaysen': 1, 'wormwood': 1, 'k8cgziirps': 1, 'd5sxgvp2pi': 1, 'unavoidable': 3, 'consequence': 3, 'bbdpnj8xsx': 3, 'suncorp': 1, 'cwz37lndvk': 1, 'washi': 1, 'professionally': 1, 'unsensibly': 1, 'outrun': 1, 'burma': 1, 'enduring': 1, 'unrest': 2, 'ay': 2, 'connorfranta': 1, 'overrun': 1, 'hazards': 1, 'hashtags': 1, 'ei5z52tohr': 1, '2079': 1, 'bacon': 1, 'booktubeathon': 1, 'savings': 2, 'guatemala': 2, 'seamstress': 1, 'elvia': 1, 'jdx9ox2kik': 1, 'qhtoerhdkm': 1, 'erasureisnotequality': 1, 'thailand': 2, 'focuses': 2, 'jonk': 1, 'jamucsb': 1, '6hrlbliico': 1, 'ws0nvduzqw': 1, '42lgdzxz62': 1, 'o9dzgzqemf': 1, 'design': 6, 'u2njpor39k': 1, 'j00wxmjrya': 1, 'chronicles': 1, 'yale': 1, 'archives': 1, 'xqiqgmi0op': 1, 'executives': 8, 'prosecuted': 8, 'fgvn2vcrrx': 1, 'kftvnu7nvf': 1, 'v6h97k688j': 1, 'tjw9bseipw': 1, 'confidence': 1, 'anonymousâ': 1, 'nonucleariran': 1, 'badirandeal': 1, 'jebbush': 1, 'z7phpjtqud': 1, 'chernobyl': 4, 'macob5xlsu': 1, 'tepco': 2, 'thyroid': 2, 'integrative': 1, '7y2gnva2ev': 1, 'japanjapan': 1, 'inferior': 1, 'anonymous': 2, 'preserve': 1, 'ajw': 1, 'x5jgkjv6ma': 1, 'jishin_e': 1, 'minamisoma': 1, 'gam7otgisw': 1, 'allowing': 1, 'dalailama': 1, 'archive': 3, 'fajnmjncxp': 1, 'consuming': 1, 'truthfrequencyradio': 1, 'fu': 2, '7ktvkw3ss0': 1, 'e0lugbl6pb': 1, 'upi': 1, 'irannucleardeal': 1, 'zsdvweglf5': 1, 'kpbtblrksb': 1, 'ongoing': 1, 'untyevxr4v': 1, 'gvj7slbelp': 1, 'ftunlh6ddg': 1, 'ignore': 3, 'zzxm74d7qv': 1, 'radiation': 15, 'damageâ': 1, 'y3zfqjsvpz': 1, 'nonukes': 1, 'amerikkka': 1, 'whiteterrorism': 1, '8twlakdabf': 1, 'wps': 1, 'emwu8xksdu': 1, 'umjprrwruu': 1, 'drvox': 1, 'agw': 1, 'denial': 2, 'offering': 1, 'm0kjdlwkfb': 1, 'sanitizing': 1, 'yrvgykdbm6': 1, '7ufnxxavqs': 1, 'fubiz': 1, 'n4b59iqm94': 1, 'impairs': 1, 'zisuwlqrhf': 1, 'sweep': 1, 'psi35au3pc': 1, 'mailonline': 2, 'regulatory': 2, 'weakened': 1, 'authoritarian': 1, 'wdr': 1, 'whack': 1, 'mole': 2, '6exs23muy3': 1, 'l9idherotj': 1, 'ikpngs3dti': 1, 'ljhgsdraez': 1, 'kennedy': 1, 'avert': 1, 'bolster': 1, '573': 1, 'deathsâ': 1, 'jssmmlnaq7': 1, 'ow4gexynbh': 1, 'annonymous': 1, 'respondents': 1, 'consciousness': 1, 'ytnnnd631z': 1, 'lacci': 1, 'renewables': 1, 'wikipedia': 1, 'encyclopedia': 1, 'ghucazjsxb': 1, 'err': 1, '509': 1, 'ge': 1, 'reactors': 2, 'hrc3oxquik': 1, 'wnptvbm5t7': 1, 'finnish': 8, 'financing': 3, 'secured': 3, 'uhkxmxab9l': 1, 'indo': 3, 'pact': 3, 'reactor': 37, 'mvwdm9zbcv': 1, '74jppek6o7': 1, 'ancient': 27, 'qadufo8zxg': 1, 'circuit': 3, '5hkgxzjlmx': 1, 'v1mtr517ue': 1, 'sealed': 1, 'fs9w33aczp': 1, '7sywmf0equ': 1, 'fmxmnnrdfe': 1, 'sidelines': 9, 'newest': 9, 'qmafzalxpl': 1, 'guvtizyche': 1, 'defensenews': 1, 'comus': 1, 'subsd': 1, 'sy2whxt0k5': 1, 'gigawatts': 1, 'installed': 1, '_one': 1, 'gwatt': 1, 'leczolkmsv': 1, 'maximeristavi': 1, 'finland': 1, 'rosatom': 1, 'ogkoefvzrj': 1, 'okamsczbwg': 1, 'railguns': 1, 't1000s': 1, 'robertharding': 1, 'repjohnkatko': 1, 'flush': 1, 'ministers': 4, 'fennovoima': 4, 'rclgi3twai': 1, 'nuclearpower': 1, 'bxpjjeqdrg': 1, 'construct': 1, 'ukâ': 1, 'e9d9lk5fdw': 1, 'xkurdr3yev': 1, 'ys3nmwwyvc': 1, 'alpotnb7q3': 1, 'restart': 1, 'fleet': 1, 'dbaujp29ub': 1, 'mistaken': 1, 'cataclysmic': 1, 'reator': 1, 'melts': 1, 'willie_am_i': 1, 'justthebottle': 1, 'cooling': 1, 'winechat': 1, 'thorcon': 1, 'k90m1qoe9q': 1, 'nuclearrcsa': 1, 'sideline': 1, 'submarines': 2, 'l8qfrdwbpg': 1, 'jrzjtqjsi7': 1, 'magnetic': 1, 'electrostatic': 1, 'fusion': 1, 'em5opytbpg': 1, 'stunckle': 1, 'gordon_r74': 1, 'crazydoctorlady': 1, 'rods': 1, 'creatures': 1, 'frkodestuk': 1, 'gpvzv0249y': 1, 'inspections': 4, 'defense_news': 1, 'writes': 1, 'ztm4kpklun': 1, '9wqixgmhfh': 1, 'sandunes': 1, 'gentle': 1, 'lapping': 1, 'gulls': 1, 'sizewell': 1, 'x9cuihib5n': 1, 'd8awx2okke': 1, '40mln': 1, '0dxvz7fdh3': 1, 'filming': 1, 'sonyprousa': 1, 'lumixusa': 1, 'djiglobal': 1, 'profbriancox': 1, 'rt_america': 2, '2gljhvead9': 1, 'fission': 1, 'lqjjy1ptwt': 1, 'vb3vfm76ke': 1, 's9jhcf3ld7': 1, 'jukkaoksaharju': 1, 'ollirehn': 1, 'juhasipila': 1, '98o2kc3a1z': 1, 'tgdonttkty': 1, 'mqmcolwbzc': 1, 'albertbrooks': 1, 'ayatollah': 1, 'khomeini': 1, 'calhoun': 1, 'nrc': 1, 'pztbqimpuw': 1, 'n6semm2m6i': 1, 'onofre': 1, 'buried': 5, 'payer': 1, 'snowywolf5': 1, 'thegreenparty': 1, 'hamptonroadsfor': 1, '9qnq45zduw': 1, 'dhyljllrhl': 1, 'scout': 1, 'dicehateme': 1, 'puppyshogun': 1, 'obliterate': 49, 'trinityfox_': 1, 'sarah': 6, 'palin': 4, 'bb4sp': 4, 'jwfaau1my5': 1, 'proc': 1, 'philippine': 1, 'pd14gsrfsc': 1, 'changepilipinas': 1, 'insanity': 1, 'aa6s66huxh': 1, 'notion': 1, 'seemly': 1, 'narcissism': 1, 'richhomeydon': 1, 'swag': 1, 'instagramers': 1, 'm3njvvtygn': 1, 'buâ': 1, 'battyafterdawn': 1, 'drawliomdraw': 1, 'souda': 1, 'kneelbot': 1, 'klavierstuk': 1, 'lvg': 1, 'smaller': 1, 'lcb': 1, 'whereas': 1, 'jez': 1, 'printing': 1, 'reffbkvg9r': 1, 'plymouth': 1, 'litterâ': 1, 'gdrssjbh8q': 1, 'combiningâ': 1, 'xfccvmxuwb': 1, 'josebasedgod': 1, 'realm': 1, 'jonvoyage': 2, 'mccainenl': 1, 'spectacular': 3, 'stonewall': 1, 'dm0uupqgwy': 1, 'nathaniel': 1, 'rateliff': 1, 'sweats': 1, 'phbt1nwnzt': 1, 'v1yh353emj': 1, 'mileswithtate': 1, 'skynews': 2, '149': 1, '0oms8ri3l1': 1, 'weaponry': 1, 'lunacy': 1, 'tbhisukfvn': 1, 'gymflow': 1, 'insâ': 1, 'muhj8cbdqb': 1, 'paulosergiomdc': 1, 'theirandeal': 1, 'vowed': 1, 'gargron': 1, 'holymileyray': 1, 'mooniighthunty': 1, 'mirajane': 1, 'lionofjudah1948': 1, 'americanjewry': 1, 'pursued': 1, 'ambitions': 1, 'religion': 4, 'obedience': 1, 'trials': 3, 'gap': 1, 'itstiimothy': 1, 'bhill': 1, 'beez': 1, 'superstition': 1, 'swami': 1, 'agnivesh': 1, 'xomi4zqzgp': 1, '0m1tw3datd': 1, 'satisfying': 1, 'battleship': 3, 'cwn2gt0r5p': 1, 'cavaliers': 1, 'lakers': 1, 'fqmyprlg9g': 1, 'rubs': 1, 'greets': 1, 'genie': 1, 'youcantsitwithus': 1, 'dates': 4, 'f6zeiykzrl': 1, 'wadeycakes': 1, 'thundercasttv': 1, 'heyooo': 1, 'freshness': 1, 'cilo9pmleb': 1, 'macbreck': 1, 'math': 1, 'sayzt2oagm': 1, 'enterprise': 1, 'ohnoeunhae': 1, 'hyukkie': 1, 'chullie': 1, 'eunhae': 1, 'horiikawa': 1, 'obliterated': 49, 'koscielnyfc': 1, 'gabriel': 1, 'fibula': 1, 'rizzo': 1, 'its2015america': 1, 'constitution': 2, 'interracial': 2, 'kjh99czhfe': 1, 'derek': 2, 'skeeter': 1, 'hasnâ': 1, 'alloutash23_sn': 1, 'accordingly': 1, 'sunrays': 1, 'hairy': 1, 'spiderweb': 1, 'roquey': 1, 'mollusk': 1, '1qnrbxfr2v': 1, 'breakingnewslh': 1, 'bree_mars': 1, 'seventies': 1, 'dinnerwithjulie': 1, 'wackoes': 1, 'michelebachman': 2, 'predict': 4, 'firey': 2, 'inferno': 2, 'fishtails': 1, 'cent': 1, 'natty': 1, 'babmf0w2yw': 1, 'qvs7o10bg3': 1, 'm19ivwrdkk': 1, 'zimmerman': 1, 'rzimmermanjr': 1, 'renewsit': 1, 'reduced': 5, 'sock': 1, 'acc': 2, 'ybshleie3p': 1, 'davies': 1, 'cz65ruogxb': 1, 'stripped': 1, 'mixes': 1, 'byebyesoundcloud': 1, '2b57re5mzn': 1, 'cocky': 1, 'strutted': 1, 'batters': 3, '301': 1, 'feature': 2, '1g9s3keasl': 1, 'wackos': 1, 'wj0u59mppb': 1, 'leonc1963': 1, 'romangaul': 1, 'makrina91': 1, 'conventional': 1, 'yanks': 1, 'nuks': 1, 'cya5jbwgge': 1, 'silverhusky': 1, 'shtap': 1, 'salted': 1, 't_t': 1, '3idfkzfxi9': 1, 'poway': 1, 'hcg': 1, 'ensures': 1, 'whensoever': 1, 'nevermore': 1, 'sizygwwf': 1, 'endurance': 2, 'wormhole': 1, 'devastating': 1, 'czpjvjgxrp': 1, 'theevilolives': 1, 'hypo': 1, 'jlput7va3s': 1, 'deserved': 1, 'kevinbacon': 1, 'soz': 1, 'ayewj8marn': 1, 'accustomed': 2, 'obliteration': 50, 'canaanites': 14, 'dire': 2, 'wac5k25gbc': 1, 'kontrolled': 1, 'ww3': 1, 'dice': 1, 'demonization': 1, 'xqmjhiozxg': 1, 'worldnetdaily': 6, 'lieâ': 1, '3esqlk8xy1': 1, 'oeri3uwnry': 1, 'cte': 2, 'lame': 2, 'laurenjauregui': 1, 'nckogwjq61': 1, 'teamhennessy': 1, 'tprimo24': 1, 'djeddygnj': 1, 'colombian': 1, 'festivalâ': 1, 'mrv54fidfn': 1, 'schematization': 1, 'dependable': 1, 'virtue': 1, 'xmwte': 1, 'insanelimits': 2, 'plugin': 2, 'ru': 2, 'limits': 2, 'arcade': 1, 'overpriced': 1, 'thatsabinegirl': 1, 'sis': 2, 'dose': 3, 'slab': 1, 'ripping': 1, 'labourleadership': 1, 'contest': 1, 'auntiedote': 1, 'rioslade': 1, 'locke_wiggins': 1, 'akarb74': 1, 'renovation': 2, 'nntkiy7axv': 1, 'smallbiz': 2, 'startup': 4, 'ikuggvbyei': 1, 'mindkiller': 1, 'dune': 2, 'tiggr_': 1, 'bradohearne': 1, 'nlk1dyd2tp': 1, 'yfn5ywkeye': 1, 'ozx5pmnq6k': 1, 'bcwilliams92': 1, 'overturn': 2, 'scotus': 1, 'piuo0azroq': 1, 'eganator2000': 1, 'p7dlx1wfmc': 1, 'michael_0000': 1, 'oppression': 1, 'retaliation': 1, 'ashberxo': 1, 'mind_mischief': 1, 'traces': 1, 'sf2vwqvjya': 1, 'hz4lkffc59': 1, '1vjalja1sx': 1, 'truths': 1, 'alhaji': 1, 'sha': 1, 'ibeto': 1, 'competitor': 1, 'imminent': 1, 'xjb0dcaahf': 1, 'extent': 1, 'privilege': 1, 'unfair': 1, 'favoritism': 1, 'pq3ipugkuy': 1, '8gqcearcai': 1, '3jdlehxz2v': 1, 'kdonhoops': 1, 'raps': 1, 'oldfolkexplainstuff': 1, 'renderings': 1, 'gallups': 1, 'biltz': 1, 'weigh': 2, 'siff4itjz0': 1, 'jethro_harrup': 1, 'hangarback': 1, 'walkers': 1, 'opponent': 1, 'timey': 1, 'fvkekft4rs': 1, 'pkkcdwjyg0': 1, 'justifying': 2, 'quarrel': 1, 'z8ij8ktkyk': 1, 'beautifully': 2, 'rapturous': 1, 'facade': 1, 'deplorable': 1, 'bene': 1, 'gesserit': 1, 'litany': 1, 'atgrannyshouse': 1, 'kylewappler': 1, 'thisishavehope': 1, '1pdnlsp8xw': 1, 'refugio': 27, 'costlier': 27, 'plains': 8, 'pipelineâ': 1, 'sryafqj9gz': 1, 'globetrottingwino': 1, 'sb57': 1, 'distribution': 1, 'dkpsrkg6pc': 1, 'larger': 6, 'xwxbyhtuzc': 1, 'wzedxefblg': 1, 'pipeline': 6, 'yhmregauxz': 1, '6auot9vais': 1, 'j2syewbhe2': 1, '5uecmcv2pk': 2, 'g37hujx6et': 1, '6cx46e7qb7': 1, '41l8tqcaey': 1, 'rqu5ub8plf': 1, 'osjurfddkt': 1, 'briefing': 4, 'disclos': 2, 'psywdxccmj': 1, 'lzob8qoh1b': 1, 'splash': 2, 'wvdavxtdaq': 1, 'bieyguqpb1': 1, 'gpkkhhbriy': 1, 'bankstown': 3, 'wattle': 3, 'sydtraffic': 1, 'trafficnetwork': 1, 'spilled': 2, 'crude': 2, 'ksbynews': 1, 'lilitan': 1, 'pegibiqk2w': 1, 'syd': 1, 'tzyhdbw9f5': 1, 'wendell': 1, 'berry': 1, 'gulf': 2, 'tn1ax1xmbb': 1, 'lcqfi3lmaf': 1, 'wbi7laq18e': 1, 'oi': 1, 'pdosrg8cf7': 1, 'hannah': 1, 'ap30pszkvx': 1, 'tcsolvwhxq': 1, 'disclosed': 1, 'zqihnhdwpv': 1, 'osi2016': 1, 'gthddzavhg': 1, 'losangelestimes': 1, 'norris': 1, 'plugged': 1, 'htxai05y7b': 1, 'wezjqc4cf2': 1, 'kinder_morgan': 1, 'twon': 1, 'cityofkamloops': 1, 'sec': 1, 'kamloops': 1, 'ta6n9szyfp': 1, 'jhpdssvhve': 2, 'troyslaby22': 1, 'slicker': 2, 'ccvcte3lcw': 1, 'xcolwugfjg': 1, 'fpaoulwu3n': 1, 'sqoa1wv4um': 1, 'gusramzp1s': 1, '7l6bhexixv': 1, 'emosrmuvqa': 1, 'efcn9ivnfg': 1, '38am': 1, '54am': 1, '5ze5z6bjli': 1, 'd7fdclu404': 1, 'zdtcw9fsx1': 1, 'kuiecetk2z': 1, '1ct0pugz69': 1, 'voices': 1, 'mfsbwpj0ce': 1, 'zdpa4dbtsu': 1, 'outbreak': 52, 'disea': 25, '02elqlopfk': 1, 'urbl692syj': 1, '8lcbdw7m2z': 1, 'yfsd4xs7lc': 1, 'ajzy19vepu': 1, 'bronx': 3, 'jtzefipdbo': 1, 'vsoxiooy78': 1, 'jgdlx4faw8': 1, 'ivwtynoujk': 1, '2mwc9ywjzy': 1, 'legionnairesdisease': 1, 'pneumonia': 1, 'americanlegion': 1, 'convention': 1, 'fftokd0vts': 1, '81hvv3n3rs': 1, '2ao97o2a9d': 1, '3snyoohseq': 1, 'vbsj8tniv1': 1, 'z16jnx3lqe': 1, 'so81ab3a1x': 1, 'ud96b7thsv': 1, 'legio': 2, 'ucbfgibfor': 1, 'muhamadjabal': 1, 'legionna': 1, 'rsv9atj9vh': 1, 'mumps': 1, '7xykujylx0': 1, 'sebee': 2, 'senatemajldr': 1, 'ojyw7jkuh5': 1, 'rv9dv6joew': 1, 'legionnaire': 1, 'cxi82rfifs': 1, 'a6xrni8xhg': 1, '1h7zk6uyze': 1, 'rjen6imwpi': 1, 'bozfh1m3wb': 1, 'dratomic420': 1, 'trophies': 1, 'mnsy1qr7bq': 1, 'kkdx8zmv4g': 1, '13w8cyukkz': 1, 'hkxyzhvmqe': 1, 'fjdm8qhyai': 1, '0ubg9wfyge': 1, 'losangeles': 1, 'za4axfjsvb': 1, 'rm6cnzkszl': 1, 'zfyqsawvrk': 1, '6opysf87k2': 1, '3htj2pypsg': 1, 'nq77efmf88': 1, 'lfbdhtgqwg': 1, 'fo': 2, '7evyelw4lc': 1, 'paje5mxn1z': 1, 'xpvkqme5ls': 1, 'bi_video': 1, 'erj7yanjxm': 1, 'vbrpeujanl': 1, 'txrswi0efg': 1, 'pandemonium': 46, 's9fjtsgbmd': 1, 'lyxnjlxl8s': 1, 'cxyfqn3ue4': 1, 'misslyndaleigh': 1, 'leigh': 1, 'banve2xw4n': 1, 'element': 2, '7hanpcr5rk': 3, 'hashtagteaclub': 1, 'pars': 1, 'tod': 1, 'ensued': 1, 'c5u9qshhnb': 1, 'j3lyon': 1, 'ffvii': 1, 'exclamation': 1, 'midweek': 1, 'westmarch': 1, 'arreat': 1, 'bills': 2, 'upa': 1, 'westmeath': 1, 'carefully': 2, 'nwfnxs4rie': 1, 'sfa': 2, 'rw8b50xz9m': 1, 'joegoodmanjr': 1, 'copalibertadores': 1, 'argentinean': 1, '8tygo0kizz': 1, 'wrqf6u55hh': 1, 'iso': 1, 'psp': 1, 'hbpnfoawii': 1, '6whugaem3c': 1, 'acfi2rhz4n': 1, 'xrp0rtkffj': 1, 'tgirl': 2, 'iwcu3dgi1a': 1, 'faceã': 2, 'bukdvkurtw': 1, 'requiem': 1, 'cplyrewfz3': 1, '4xscjtvmmm': 1, '2ttstvbgix': 1, 'hzhoa6vzas': 1, 'hillside': 2, 'srckawandm': 1, 'iblmapleleafs': 1, 'ibl1919': 1, 'dtimtsqu7z': 1, 'khalidkkazi': 1, 'di5arr6hq6': 1, 'gidiexclusixe': 1, 'facelessâ': 1, 'rgtyzbnkeo': 1, 'bennycapricon': 1, 'ma7cbwucpd': 1, '69rjxt5y5t': 1, 'c5u9qsysej': 1, 'dr_baseball41': 1, 'granttamane8': 1, 'drewwtaylor': 1, 'dtop77': 1, 'lq4lxgs2xu': 1, 'shestooyoung': 1, 'fails': 1, 'transact': 1, 'stp2rsm3af': 1, 'dx8zbwar4k': 1, 'jbxbi93clu': 1, 'exquisite': 1, 'sto': 1, 'y9w0v6te9o': 1, 'lc1cmx1mpb': 1, 'ykdsp0nrdq': 1, '8j4rdwyjwu': 1, '9mkzpzfkl2': 1, 'bxdatwjnhs': 1, 'ogbor': 1, 'ljyig8rboq': 1, '36gccapaak': 1, 'nqjzs6wkun': 1, 'pbohanna': 1, 'justaguess': 1, 'deadgirltalking': 1, 'unfortunemelody': 1, 'jaylenejoybeligan': 1, 'tarynel': 1, 'dredougie': 1, 'santanico': 1, 'pvkgo79jni': 1, 'bm0sxzbnke': 1, 'frenzy': 1, 'disorder': 1, 'mania': 3, 'astounding': 1, 'catovitch': 1, 'pmhmmkspaq': 1, 'ps1': 1, '0gknpy4lua': 1, 'sublime': 1, 'obligatory': 1, 'brokenscnecal': 1, 'spokes': 1, 'raptors': 1, 'beg': 2, 'differ': 1, 'rang': 1, 'goodlook': 1, 'autismawareness': 1, 'jesse': 1, 'suffers': 1, 'r4utnewlna': 1, 'tim_micallef': 1, 'troubleonmymind': 1, 'jetixrestored': 1, 'teamo': 1, 'supremo': 1, 'pogo': 1, 'wblimlmt2x': 1, 'orxdqfz0j0': 1, 'kayhow21': 1, 'coinflip': 1, 'sixsecondcov': 1, 'qsekoeubmd': 1, '4get': 1, 'spawns': 1, 'concentrate': 1, 'relates': 1, 'elielcruz': 1, 'streams': 1, 'venezuela': 5, 'shtfplan': 1, 'qbstqxa6qx': 1, 'puzzledtriangle': 1, 'inform': 1, 'accurately': 1, 'hleon4klnr': 1, 'sins': 3, 'tragedies': 1, 'fairly': 2, 'adjusted': 2, 'alabama': 19, 'cy0ciu2u1c': 1, '4914njpio3': 1, 'lolo': 1, 'strain': 1, 'roppongi': 1, 'candydulfer': 1, 'ozod1fdgas': 1, '8izn6fw2qe': 1, 'uhghpuiivf': 1, 'acoustic': 3, 'vcq2icptki': 1, 'headdesk': 1, 'smoked': 1, 'meca': 1, 'savs': 1, 'convinced': 1, 'guage': 1, 'eyeball': 1, 'james_justus': 1, 'flakes': 1, 'montetjwitter11': 2, 'nolesfan05': 1, 'nutsandboltssp': 1, 'audreyp77': 1, 'teena_797': 1, 'darryl_brooks': 1, 'elitesportsny': 1, 'lopezandthelion': 1, 'natsnation': 1, 'biggangvh1': 1, 'rabbi': 1, '7heafogkou': 1, '6bj2yf7pc7': 1, 'lite': 1, 'cure': 1, '073izwx0lb': 1, 'lind': 1, 'okmlagvkjv': 1, 'yi9bbbx3fe': 1, 'dressed': 2, 'afycso': 1, 'romantic': 1, 'sensei': 1, 'attic': 2, 'vxegcmmvbv': 1, 'collar': 1, 'dzhdbiajs5': 1, 'ballad': 1, 'mona': 1, 'lisa': 1, 'amo': 1, 'laughtraders': 1, 'panicking': 50, 'capitulation': 1, 'quotesttg': 1, 'helios': 1, 'underrrtow': 1, 'molly': 1, 'dirk_nomissski': 1, 'faints': 1, 'bexrayandvav': 1, 'freshers': 1, 'pkfv8lksld': 1, 'mumbling': 1, 'cackling': 1, 'shook': 3, 'istg': 1, 'highlight': 2, 'estrella': 1, 'stall': 1, 'bizinsider': 1, 'x0xnpc1y3t': 1, 'boua80z5wf': 1, 'fcfsslxmy2': 1, '9xfzkpdmqz': 1, 'medal': 1, 'idm': 1, 'gotham': 1, 'bcs': 1, 'theyre': 3, 'ian_bartlett': 1, 'hs2': 1, 'astroturfers': 1, 'crumbling': 1, 'df9fjonvep': 1, 'scarfacedcully': 1, 'bbjls1fsad': 1, 'adumbbb': 1, 'beauscoven': 1, 'debbie': 1, 'tindering': 1, '20mins': 1, 'ushiocomics': 1, 'submitting': 1, 'brits': 1, 'hsdbgciyrs': 1, 'redeemer': 1, '4h8qyvvd0e': 1, 'romanticsuspense': 1, 'fundwhen': 1, 'yyj76wbc9y': 1, 'ranefihbuk': 1, 'mflrvbh4qa': 1, 'sawyer_daa': 1, 'guerrilladawg': 1, 'chug': 1, 'estus': 1, 'rudyhavenstein': 1, 'zerohedge': 2, 'readers': 1, 'alarmingly': 1, 'milefromhome': 1, 'c_pinto001': 1, 'orpik': 1, 'w6o0uizf8p': 1, 'jeannathomas': 1, 'vic': 1, 'hardy': 5, 'freeman': 1, 'practicing': 1, 'lcnw4ead8v': 1, 'p49ocqkutj': 1, 'sitc': 1, 'organisation': 1, 'ogtomd': 1, 'zvre6ffnyd': 1, 'giyaad7dcc': 1, 'worrying': 2, 'uvxlzhig4r': 1, 'carmi': 1, 'kqvn1utpmm': 1, 'breaking411': 1, 'abusing': 2, 'obispo': 2, 'onlvf2fyoy': 1, 'qld': 1, 'msgnndxoek': 1, 'aã': 1, 'aged': 1, 'manã': 1, 'tyd47nfl5x': 1, 'drain': 1, 'dccc': 1, 'vj44': 1, 'jbouie': 1, 'mmfa': 1, 'dh30000': 1, 'sponsor': 3, 'y35qtvdsoh': 1, 'qhujajctr5': 1, 'ana': 1, 'holistic': 2, 'dispensary': 1, 'yvv1rlghft': 1, 'smartnews': 1, 'abc7': 2, 'qpwotugui9': 1, 'punched': 1, 'vinnie': 1, 'northumbria': 1, 'up30aqgnlf': 1, 'trending': 3, 'ruler': 2, 'informantâ': 2, '93infxzhx0': 1, 'provocation': 1, 'lhw4vtbhzg': 1, 'dailykos': 2, 'beloeil': 1, 'richelieu': 1, 'laurent': 1, 'expanding': 1, 'hmuyzmv8qh': 1, '4700': 1, '11th': 1, 'pg15000044153': 1, 'bayonets': 1, 'distributed': 2, 'randpaul': 1, 'xb8nfxabum': 1, 'evilempire': 1, 'jadehelm15': 1, 'unwanted': 1, '12th': 1, 'pp15000266818': 1, 'priests': 1, 'harrowing': 1, 'harment': 1, 'rg4jishybs': 1, 'bounty': 5, 'yprjwmighl': 1, '3rrkrcjyw7': 1, 'fife': 1, 'hu5cxqnobf': 1, 'dt': 1, 'georgegalloway': 1, 'galloway4mayor': 1, 'pickpocket': 1, 'stree': 1, 'vxin1goq4q': 1, '7vnrb5kuru': 1, 'brandonmulcahy': 1, 'fpine': 1, 'tgxutuoyhl': 1, 'k8bexkgwr2': 1, 'u30n3ffx8y': 1, 'robbiewilliams': 1, 'wipe': 1, 'killers': 1, 'karma': 2, 'milwaukee': 2, 'policeâ': 1, 'cedjdlpdan': 1, 'eff': 1, 'muckrock': 1, 'biometrics': 1, 'va9pvps9dj': 1, 'pio': 1, 'febu2dh9hs': 1, 'dsxv9p4ebz': 1, 'cthodzplw3': 1, 'philcollinsfeed': 1, 'latenitemix': 1, 'corporation': 1, 'ubc': 1, '98fm': 1, 'mbblive': 1, 'arizonadot': 1, 'salado': 1, 'crackin': 1, 'bridgeport': 1, 'burglar': 1, '7mlcd0l0b8': 1, 'tcbinaflash77': 1, 'chanelwestcoast': 1, '1oak': 1, 'blowin': 1, 'grandmother': 1, 'ndcy8q7r6i': 1, 'lastma': 1, 'lagos': 1, '8vzsftr1bg': 1, 'dqhpm4a5qy': 1, 'helpme': 1, 'ticketed': 1, 'cycle': 1, 'pf8dxwibdp': 1, 'di8elzswnr': 1, 'dgelj8ryt9': 1, 'assist': 1, 'lloyd': 2, 'pp15000266835': 1, 'longshipdriver': 1, 'slosheriff': 1, 'huntington': 1, 'gents': 1, 'jm85c2uxqy': 1, 'srogobpiiv': 1, 'chickmt123': 1, 'quarantine': 51, 'offensive': 30, 'wvn6griypq': 2, 'httpâ': 1, 'pgihchdurj': 1, 'callofduty': 1, 'advancedwarfare': 1, 'reckoning': 1, 'hunmyhyahp': 1, 'quarantineâ': 1, 'pkuamxw6pm': 1, 'onlinecommunities': 3, 'amageddon': 2, 'freespeech': 2, 'pawvnj4sap': 1, 'g8ef8du9cy': 1, 'u9bkqt6xhr': 1, '8s0mtwrumq': 1, 'technews': 2, 'puledo_tech_update': 1, 'promises': 6, 'offensiveâ': 6, 'ehgtzhkan4': 1, 'thnexicgqe': 1, 'h0xunj3c7c': 1, 'uuew4mjlesâ': 1, 'wosypvqufi': 1, 'xw8sds1tjp': 1, 'astolfialessio': 1, 'xqkcd0qv3c': 1, 'kirillzubovsky': 1, 'e90j3vjolc': 2, 'changelessly': 1, 'folders': 1, 'solemnity': 1, 'hjt': 1, 'cctt1my7fa': 1, 'ew5wzc07fo': 1, 'bangalore': 1, 'of3q75fgeu': 1, 'startups': 2, 'zuytibdirk': 1, 'kmtwa3n1gf': 1, 'aannnnd': 1, 'p1jlurgwbu': 1, 'wcizstxk4f': 1, 'cnshlnjuqx': 1, 'offensiveã': 3, 'vygh2ni4ah': 1, 'rei3puwp84â': 1, 'founder': 8, 'huffman': 7, 'specif': 6, 'ljmgdpdlvs': 1, 'kdc97prqcc': 1, 'enforced': 1, 'contamination': 1, 'pmcp8czpnd': 1, 'zhzvprzbgq': 1, 'zlagv1u5za': 1, 'feikc9fxed': 1, 'ekzmmxu9gn': 1, 'abyhrgss1s': 1, 'missambear': 1, 'censor': 1, 'pg4y3i5ciu': 1, 'shooters': 1, 'weirdos': 1, 'tdeukjzzii': 1, 'wjwyjbncat': 1, '0erisq25kt': 1, 't7ge0j3cay': 1, 'nas3ipm5vh': 1, 'jgra7ooisn': 1, '0ltjzyrds3': 1, 'gvkdaq4vkh': 1, 'unnx71v8qc': 1, 'epd8pltrwp': 1, 'gllawb2fsk': 1, '3kaafuoztc': 1, 'klvxyn2ejk': 1, 'mcgtech': 1, 'plmiwofpom': 1, 'gjkcaliuhk': 1, 'lodormtfsq': 1, 'mjbiuvbmo6': 1, 'i5cdtd8ftj': 1, 'ltmgdp6jaf': 1, 'quarantined': 51, 'lcpr20usyl': 1, 'subreddits': 24, 'axqgukn8yz': 1, 'p1usssv5wa': 1, 'u9ao3a4ogc': 1, 'ohbv7yvtl5': 1, 'ymuti3nd9r': 1, 'o8xvtlp4mf': 1, 'uisnqiu3if': 1, 'uyugfg3k1h': 1, 'vdvlatelsj': 1, 'ok2sfdn1i8': 1, 'algtcn8baf': 1, 'm4tczaawpt': 1, 'sqhdrl7ukg': 1, 'aaarrrgghhh': 1, 'g2uimbekge': 1, 'hycmg4zky1': 1, 'ebolaã': 2, 'cgky5rw9cw': 1, 'zsxqbduzbn': 1, '6ncfjxploy': 1, 'antipozi': 1, 'cucks': 1, 'ngkrzpza45': 1, 'lfw4kuukem': 1, 'k3mnk9hnz5': 1, '9nly2tovud': 1, 'rb2s0jmlej': 1, 'admins': 1, 'volatile': 1, '__scrambledeggs': 1, 'kia': 1, 'qnij2p8zv6': 1, 'gmtty': 1, 'bjvfk1ete9': 1, '4onvxncz8w': 1, 'tnggxnm6k8': 1, 'zcp5cszsll': 1, 'ztonvgubvm': 1, 'bluehand': 1, 'hm': 1, 'ebolatrends': 1, 'ihvmtmzxne': 1, 'jliemrsnnj': 1, 'juw5wtoqb0': 1, 'meowing': 2, 'louder': 1, 'exposure': 3, 'hzpx6vaqpz': 1, 'l4w0pcorbs': 1, 'aylatpe073': 1, 'lnjd4ey40j': 1, '0npzp': 1, 'y2jt1amyfj': 1, 'hqdczzdmbn': 1, 'gix1gaynxz': 1, 'p93s2rfhx6': 1, 'famoushorse': 1, 'jew': 1, 'wander': 1, 'jr4k7iisbu': 1, 'biigd1leq3': 1, 'oc73x': 1, '0lpu0gr2j0': 1, 'freeagent1717': 1, 'chaseingram': 1, 'amandagiroux28': 1, 'dl': 2, 'symantec': 1, 'fepjk1wejd': 1, 'cd2ng2awql': 1, 'vhrlswvzql': 1, 'x5xumtoeke': 1, 'monitoring': 3, 'lifesaving': 1, 'haiti': 1, '49n6yzajvd': 1, 'v57nugmgkt': 1, 'wipp': 2, 'sejorg': 1, 'proposes': 1, 'msv': 1, 'situations': 1, 'iqb8yh6hht': 1, 'gangs': 1, 'pollution': 1, 'unemployment': 1, 'admitted': 1, 'reform': 2, 'raise': 3, '6btesv9cdm': 1, '47km': 1, 'doe': 2, 'filter': 1, 'offsite': 1, 'sb228': 1, 'relating': 1, 'd1xlfknjsm': 1, 'israelâ': 1, 'ashdod': 1, 'emittin': 1, 'swq5lmydka': 1, 'rffpqbaz2f': 1, 'hxwfbpp1b3': 1, 'kf74o2mcsc': 1, 'n2zhrchcgv': 1, 'rainstorm': 44, 'decorating': 1, 'iwk': 1, 'earonlwifh': 1, 'gloucester': 2, 'capeann': 1, 'seagulls': 1, 'triciaoneill': 1, 'triciaoneillphoto': 1, 'ols6qdi9um': 1, '1d': 2, 'tmh': 1, 'brining': 1, 'myrtlegroggins': 1, 'gasp': 1, 'pipeliners': 1, 'pst5bbq0av': 1, 'yobe': 5, 'damatu': 1, 'rzxqssun02': 1, 'alves': 1, 'fejs0bu0sq': 1, 'newrelease': 1, 'jimmy': 1, 'lapaka': 1, '4l8h2fklno': 1, 'zitqkdfxjy': 1, 'haxj6go2ac': 1, '3yreo3spnu': 1, 'ski': 2, 'dzkokka1eh': 1, '2pz9t2fnsz': 1, 'robot_rainstorm': 4, 'uzwxjbg0zh': 1, 'ireporter': 1, '0rny349unt': 1, 'i1i1qp5vro': 1, 'crowned': 1, 'tends': 1, 'brooks': 1, 'nearã': 1, 'dinosaur': 1, 'provincial': 1, 'mp9eccqvlt': 1, 'gx1uxey57b': 1, 'drift': 1, 'storming': 1, 'bebacksoon': 1, 'boygbp0jw9': 1, 'roar': 1, 'rollingâ': 1, 'dlvyfvnqee': 1, 'vacancies': 1, '50vdq7a1m5': 1, 'qh6oxft9ir': 1, 'damaturu': 1, '600â': 1, 'bbqnk76qus': 1, 'smkznf52za': 1, 'soaker': 1, 'jqfcy9guqv': 1, 'tn65puhfhw': 1, 'nathanfillion': 1, 'receives': 1, 'impacting': 1, 'drvm8isote': 1, 'sylvia': 1, 'plath': 1, 'petrichour': 1, 'uls9oekx8m': 1, 'fonts': 1, 'lizzie363': 1, 'cstsmith': 1, '14000': 1, 'thnk': 1, 'float': 2, 'mbpwr0fuvj': 1, 'werdemup': 1, 'avery': 1, '0lw6gyeagb': 1, 'kooks': 1, 'gearing': 1, 'deadgrandflowers': 1, 'leagues': 1, 'cards': 2, 'nu0d3uannz': 1, 'savanahresnik': 1, 'cbs12': 1, 'coldstone': 1, 'monterrey': 1, 'italianã': 1, '8bhvxx2xl9': 1, '4ou8s82hxj': 1, 'spa': 1, 'razed': 45, 'ex6jzqj3ni': 1, 'aknbtuyaef': 1, 'vi05yq85ly': 1, 'harare': 1, 'officeâ': 1, 'razedã': 1, 'ikpeazu': 1, 'apga': 1, 'react': 2, 'akzzoe5ce6': 1, '0keh2treny': 1, 'rdf0zuw7lz': 1, 'ntswuayeji': 1, 'wgefbuk4jk': 1, 'ipnhsiyorc': 1, 'oae9lgtcti': 1, 'zbzc8905gl': 1, 'ly8x7rqbwn': 1, 'ixiybap8qa': 1, 'lynchburg': 1, 'zepzqydby4': 1, '5kbrzzmf8c': 1, 'tafs': 1, 'fb100': 1, 'd1vjoyg52a': 1, 'dofrh5yb01': 1, '55idft20a2': 1, 'razed_': 1, '2nip3d15dx': 1, 'egyfnlaoqv': 1, 'bsgr67dywy': 1, 'ndggr6xyqd': 1, '5fcjvml520': 1, 'fvyrwhux8p': 1, 'atokcd74ba': 1, 'petereallen': 1, 'huffpostuk': 1, 'bbc5live': 1, 'substantial': 1, '3tnuaciv3c': 1, 'sakorgdqul': 1, 'p3g3bqbczu': 1, 'rpbxdfnx5k': 1, 'x1xj0xvtj7': 1, 'sincere': 1, 'rruns5rdz5': 1, 'm6ok4eh3ob': 1, 'vga0ohb6xf': 1, 'rg9yaybosa': 1, '2872j5d4hb': 1, 'ecxmoinzgu': 1, 'ntwwdwednb': 1, 'u52rw9ji2r': 1, 'sandiego': 4, 'gx75w3q9ye': 1, 'njenga': 2, 'razing': 2, 'ywkk26arag': 1, 'dualcom': 1, 'im_razed': 1, 'yesterdays': 1, 'todays': 2, 'easter': 1, 'anterior': 1, '7arn4obiyc': 1, 'bksyymvisg': 1, 'gn': 1, 'sfgate': 2, '65hunplhyb': 1, 'rlpttkbg4w': 1, 'razedonit': 1, 'honeystaysuper': 1, 'ikrhib9x0a': 1, 'ordokfuibm': 1, '6acswzo7cw': 1, 'hckxj8eukt': 1, 'northerncalifornia': 1, 'monijjth7v': 1, 'zippednews': 2, '0yxbb5dzw5': 1, 'r1cnsjuayq': 1, 'dq1ylcrf9k': 1, 'us8r6qsn0p': 1, 'lj4j54vxq3': 1, 'irqujaesck': 1, 'qdweknrmi9': 1, 'auezxza5ak': 1, 'vp6wbxmzmj': 1, 'valboro': 1, 'gazebo': 1, 'petel_mcguire': 1, 'uuewccdtow': 1, 'ibed3xg7fy': 1, 'jihadis': 1, '1wcofmlub9': 1, 'freedomoutpost': 1, 'aisle': 2, 'dedicated': 3, 'serbian': 2, 'foods': 2, 'clothing': 2, 'newlyweds': 5, 'gesture': 1, 'o1enhjrkjd': 1, 'arkmc7vcln': 1, 'repatriated': 16, 'cameroon': 19, 'lelya0vdog': 1, 'repulsive': 1, 'victimiser': 1, 'dutton': 2, 'evangelical': 1, 'liar': 1, 'lnp': 2, 'dupe': 1, 'overdrive': 1, 'choppergate': 1, 'bronwynbishop': 1, 'repatriating': 1, 'wvvgmeja7l': 1, 'qu8s89pvvt': 1, 'wowo': 3, 'ytw9slwvmg': 1, 'whao': 5, 'bae0ap4g9y': 1, 'refugeesâ': 3, 'qayayzh0fl': 1, 'otqbhd2akn': 1, 'i1vpkq9yag': 1, 'ty5gavn7uk': 1, 'reaad': 4, 'plsss': 4, 'a2tiivnjdy': 1, 'fw2xifj6ec': 1, 'connections': 1, 'indiegogo': 1, 'krbpf4tp4i': 1, 'avwe1lbvhn': 2, 'overboard': 1, 'tonyabbottmhr': 2, '6nqru2q5tz': 1, 'christianvalues': 1, 'kp5dpoaf58': 1, 'marrie': 1, 'igll3ph6o1': 1, '9qpg0z3rh9': 1, 'huhwpmrywz': 1, '96p3hujntj': 1, 'ehlq3zsptd': 1, 'djx5elbrv1': 1, 'fadelurker': 1, 'dalinthanelan': 1, 'camped': 1, 'redcliffe': 1, 'aidan': 1, 'banquet': 2, 'egcv7ybjae': 1, 'flee': 1, 'burundi': 1, 'vice': 3, 'jojnq2oopi': 1, 'dskui6mmgl': 1, '5lmo710d5f': 1, 'g9lrealtoj': 1, 'fvtj8qwjzw': 1, 'kristindavis': 1, 'ypvjgzqqqb': 1, 'xzv0lt9zzk': 1, 'maintaining': 2, 'ehklp12yip': 1, 'paci': 1, 'rsf': 1, 'gag': 1, 'dgjbugxh9e': 1, 'changetheworld': 1, 'syrianrefugees': 1, 'po19h8ycnd': 2, 'hindu': 2, 'gjsaaf3u6k': 1, 'anywhere': 5, 'boarders': 1, '3mjte74aiw': 1, 'dirtylying': 1, 'dishonest': 1, '3m7amh1e33': 1, 'whitegenocide': 1, 'fzov8wcbyi': 1, 'generous': 1, 'ms8e8mnddb': 1, 'thedailybeast': 1, 'presser': 1, 'chpsre': 1, 'rezaphotography': 1, 'rpmtropsvr': 1, 'bcook28': 1, 'zacktiller30': 1, 'policyholders': 1, 'clico': 1, 'e4dvi9vuxz': 1, 'jycpf8iyhg': 1, 'panik': 1, 'kelbytomlinson': 1, 'hujvgsflus': 1, 'oc': 4, 'shared': 4, 'p85nwcmkqu': 1, 'animalrescue': 8, 'wudlkq7ncx': 2, 'shaft': 1, 'rvkffcxbvc': 1, 'ud': 2, 'structural': 52, 'ypres': 2, 'oqb7dasmvy': 1, 'newbeginningsanimalrescue': 1, 'meds': 1, '35qwnglkos': 1, 'is2idc3ubj': 2, 'ecstatic': 1, 'racco': 1, 't8q6dzvgwx': 1, 'suggs': 1, 'vivian': 1, 'psychrewatch': 1, 'lengths': 1, 'amrox4y4nx': 1, 'f1tcbg1mki': 1, 'x_man_kitty': 1, 'wolvenbeauty': 1, '_nickwilson__': 1, 'kiildu8gpo': 1, 'sammy': 2, 'kfc': 1, 'qteqa5kvpy': 1, 'ec46lyqqc6': 2, 'wcvh01': 1, '1233newcastle': 1, 'aaronkearneyaus': 1, 'lesmckeownuk': 1, 'kitties': 1, '9caignpr6s': 1, 'noagenda': 1, 'mvdint': 1, 'kayaking': 1, 'mtech': 1, 'isted': 1, 'a801bl': 1, 'zix': 1, '51n2rzebis': 1, 'p4lnbjdo0x': 1, 'plantations': 1, 'cic7h64qv8': 1, 'rainforestresq': 1, 'eud317eptp': 1, '4552': 1, '50mixed': 1, 'colors': 1, 'scissors': 2, 'firstaid': 1, 'trâ': 1, 'mahkv79smw': 1, 'rosvxqelqj': 1, 'raheel': 1, 'sharif': 1, 'chitral': 1, 'lauded': 1, 'fwo': 1, 'opera': 2, 'lexington': 1, 'veterinarian': 1, 'y8dy39ohal': 1, '1eb2dauyfn': 1, 'lisavanderpump': 1, 'revel8ion': 1, 'haxz4xls8d': 1, '2jxkmkpalp': 1, 'selfish': 1, 'sabrina': 1, '1k2phqcuw8': 1, 'britons': 3, 'himalaya': 3, 'wgrxly9pdo': 1, 'bj4haavaye': 1, '59p3aoiqus': 1, 'xyyev89wiz': 1, 'z8xiqngulc': 1, 'tennoatax': 1, 'tenno': 1, 'dojo': 1, 'summerside': 1, 'mkmlctymee': 1, 'summervibes': 1, 'pitmix': 1, 'brixton': 1, 'banksy': 1, 'mybabies': 1, '7vovktxspo': 1, 'sahq5uoahw': 1, 'coastguard': 2, 'kjuzjc6igd': 2, 'skyrim': 1, 'awaits': 2, 'nekm1rpohu': 1, 'fusionfestival': 1, 'i6ldetwb6h': 1, 'xuns3zhixa': 1, 'mgs': 1, 'zeroes': 1, 'hideo_kojima_en': 1, 'pioneer': 1, 'paleface': 1, 'raft': 1, 'container': 1, 'enkelbiljett': 1, 'menolippu': 1, 'bovines': 1, 'smugglersã': 1, 'e7fn5g5ruu': 1, 'cocker': 1, 'spaniels': 1, 'rjrmw7nzy5': 1, '45twhj0l6m': 1, 'romanatwoodvlogs': 1, 'kittens': 2, 'kepznhxhxd': 1, 'intention': 1, 'sanctuary': 1, 'exxtboah8h': 1, 'suspects': 2, 'kidnapping': 1, 'trafficking': 1, '4month': 1, 'kontagora': 1, 'inspi': 1, 'jywfygclhm': 1, 'stray': 1, 'qhfqlui6ry': 1, 'reshareworthy': 1, 'brittanypetko': 1, 'giorgio': 1, 'hiatt': 1, 'yhyy3o609u': 1, 'qgyn2u1up3': 1, 'rescuedâ': 1, 'wis3h9tqrm': 1, 'forby6mmkp': 1, 'nigeriantribune': 1, '7hmhpl1z4y': 1, 'c4news': 2, 'pmggavtokp': 1, 'nairobi': 2, 'kot9zvd2h7': 1, 'irishtimesworld': 1, 'springer': 1, 'spaniel': 1, 'g03dkpoonp': 1, 'go0hpi0b4c': 1, 'beached': 2, 'rqbspucjdf': 1, 'incheon': 1, 'prosecutors': 1, 'nami': 1, 'kim': 1, 'hangi': 1, 'vwzx2p6dnk': 1, 'ribbon': 1, 'pa5sslefec': 1, 'offtrackhorse': 1, '8f2ybus2vk': 1, 'swept': 3, 'isaiah': 1, '44': 2, 'contemporary': 1, 'fnpdjwvw1j': 1, 'cardboard': 1, 'heartwarming': 1, 'mistrustful': 1, 'vaunps6wja': 1, 'onegreenplanet': 1, 'piglet': 1, 'oink': 1, 'dorset': 1, 'domvox2oui': 1, 'ievdj6kbu2': 1, 'await': 1, 'disembarkment': 1, 'naval': 2, 'tconnellyrâ': 1, 'aim5cyhl0y': 1, 'p4doa5yyje': 1, 'bs6pjt09tc': 1, 'mediterran': 12, 's5nuegswyj': 1, 'ciwwuqthin': 1, 'vulcan': 2, 'arausjvsy9': 1, 'u7zwlk8thx': 1, 'geu4h46csz': 1, 'yhqu5uv6ok': 1, 'e48syd5n1e': 1, '6ds67xai5e': 1, 'durban_knight': 1, 'carr': 2, 'cwcvbubs01': 1, 'nosy_be': 1, 'wvmhx5tiel': 1, 'peopleâ': 1, 'nfktvvlwhm': 1, 'unexplainable': 1, 'childhooddefined': 1, 'roddypiperautos': 1, '97b8avgewu': 1, 'andygilder': 1, 'infomercial': 1, 'crept': 1, 'netflixâ': 1, 'carryi': 5, 'womanâ': 2, 'guides': 3, 'uojy4e2sv4': 1, 'migrantsâ': 3, 'uuhnc8zkow': 1, 'zg1yddywa5': 1, 'puezv6bd37': 1, 'awtscucbbv': 1, 'oekucq4zl0': 1, 'shaolin': 1, 'shen': 1, 'nan': 2, 'chiang': 1, 'venoms': 1, 'kung': 1, 'favori': 1, 'xjm6snk1g0': 1, '6hhmbdk9yo': 1, 'zfwmjh6slh': 1, 'xlfi7ovhfj': 1, 'hundredsâ': 1, 'raq4zpdvke': 1, 'mazing': 1, 'ficd5qbqwl': 1, 'hkv8xktu2k': 1, 'biiiyi7dae': 1, 'tx51oybrn6': 1, 'thenewshype': 1, 'pspm3ahgkq': 1, 'lnitvt7b53': 1, 'theonion': 1, 'heroically': 1, 'oceanã': 1, 'ycsmt7ovoc': 1, 'yvo6q6w442': 1, 'allergic': 1, 'vecmsiuuh1': 1, 'gx9skuau9j': 1, 'iz9u8bhfaa': 1, 'stdcdhqxjx': 1, 'xfs3pjhfh9': 1, 'v9ftyb30ei': 1, 'i8sj1kws1d': 1, 'gaehr9bhek': 1, 'ixfne5jlep': 1, 'uymxocfs33': 1, 'chold': 1, 'rsl': 1, 'bateman': 1, 'scores': 1, 'zupz8zlo2x': 1, 'cazorlaplay': 1, 'fem': 1, 'kmndkfa7me': 1, 'alexandbondarev': 1, 'nickcannon': 5, 'itunesmusic': 5, 'dehmym5lpk': 5, 'blowmandyup': 5, 'figures': 2, '2umwmg7lvn': 1, 'hawk_nancy': 1, 'tni5scpbma': 1, 'oftj2sxypf': 1, 'lvyemk99uv': 1, 'piprhys': 1, 'teamvodg': 1, 'um3wtl5r7k': 1, '2lqyxzq5dn': 1, 'cxb55h37jn': 1, 'rascal': 1, 'flatts': 1, 'h6tyysgr30': 1, 'hasã': 1, 'udqa53kfqu': 1, '7tmbbgxsk8': 1, 'owenharris82': 1, 'mk9zip2ro7': 1, 'tactical': 1, 'headquarters': 2, 'dani_riot': 1, 'hxox7o42rq': 1, 'live_workshop': 1, 'booth': 1, 'kappa': 1, 'acaciapenn': 1, 'shidddd': 1, 'bah': 1, 'menswear': 1, 'urbanfashionâ': 1, 'ccwzdtfbus': 1, 'abran_caballero': 1, '5fr41tpzte': 1, 'thorin': 1, 'sandbox': 1, 'zgsjwxdrcm': 1, 'silverman': 1, 'sarahksilverman': 1, 'soundtrack': 2, 'tracey': 1, 'ullman': 1, 'tiost8okvx': 1, 'teemo': 1, 'tytpbc4gwi': 1, 'riot_sweet': 1, 'jfwong': 1, 'mtgodoc': 1, 'joshleekwai': 1, 'msg': 2, 'pax': 1, 'lamsdzkcuz': 1, 'rc22r1xlis': 1, 'bytorrecilla': 1, 'torrecilla': 1, 'transwomen': 1, 'drag': 3, 'butch': 1, 'credited': 1, 'inciting': 1, 'eac4au': 1, 'fvp3wnid4l': 1, 'bwdhibtiks': 1, 'qelroci7by': 1, 'incompetent': 2, 'ulzzang': 1, 'hyung': 1, 'seok': 1, 'liners': 1, 'bleased': 1, 'mogytsxvoa': 1, 'baume': 1, 'digs': 1, 'controversial': 1, 'stonewallâ': 1, 'hroxd1qpua': 1, 'intervene': 3, 'vitesse': 3, 'supporters': 3, 'buildup': 3, 'legâ': 1, 'i8gx67wbgv': 1, 'fried': 1, 'ravioliã': 1, 'porcini': 1, 'ricottaâ': 1, 'n6mcpgvwq2': 1, 's8oinfgxyx': 1, 'skaausjpo4': 1, 'oliviamiles01': 1, 'obbcomkawf': 1, 'davidjordan88': 1, 'stephanenny': 1, 'particular': 1, 'trollkrattos': 1, 'juan': 1, 'salvador': 5, 'crowns': 2, 'champions': 1, 'championsblackfoot': 1, 'v9i4pfxo0c': 1, 'sweetpea': 1, 'allotment': 1, 'brightening': 1, 'rainy': 1, '6ndbfopk5m': 1, 'skvnmtzgeg': 1, 'jwalkerlyle': 1, 'cracker': 1, 'cc7d0wxk0m': 1, 'protestors': 1, 'skyscrapers': 1, 'doco': 1, 'setanta': 1, 'freeview': 1, 'clapton': 1, 'hyperbole': 1, 'saintsfc': 1, 'shootn': 1, 'ghee': 1, 'o423u56yph': 1, 'bhramabull': 3, 'jewels': 3, 'socially': 3, 'duo': 3, '9ip2vqhfwi': 1, 'rio2016': 1, '9mtrq5jf4d': 1, 'runjewels': 2, 'relations': 1, 'loveislove': 1, '6ce1vwovhs': 1, 'wspuxorewb': 1, 'cindy': 3, 'noonan': 3, 'cindynoonan': 3, 'yahistorical': 3, 'undergroundrailraod': 3, 'faker': 1, 'kog': 1, 'embra': 1, 'tier': 1, 'dee': 1, 'dum': 1, 'cloydrivers': 1, 'tosu': 1, 'championship': 2, 'evacide': 1, 'y9etxhcvjr': 1, 'contr': 1, 'ld5p1sia2n': 1, 'amiestager': 1, 'invented': 1, 'insomniacs': 1, 'wee': 4, 'misogyny': 1, 'racism': 1, 'blutz10': 2, 'gmail': 1, 'allahuakbar': 1, 'abbydphillip': 1, 'dahboo7': 1, 'shh': 1, 'jasalhad': 1, 'brianboru67': 1, 'jimskiv92': 1, 'hijinks1967': 1, 'ryleedowns02': 1, 'nevaehburton33': 1, 'foxandfriends': 1, 'brownblaze': 1, 'elsewere': 1, 'directed': 1, 'grâ': 1, 'gjfd85vuf2': 1, 'outnumber': 1, 'lobbyists': 1, 'wakeupamerica': 1, 'cleanpowerplan': 1, 'sonjy4hk46': 1, 'davidolszak': 1, 't0az5d9bhk': 1, 'aelinrhee': 1, 'mascara': 1, 'smeared': 1, 'signing': 2, 'nffc': 1, 'wesley': 1, 'verhoek': 1, 'tpanic': 1, 'georgous__': 1, 'demonstration': 1, 'appear': 1, 'veh1sevdko': 1, 'h2gziefjxt': 1, 'extras': 1, 'aboriginal': 1, 'cricketer': 1, 'halljh1720': 1, 'decision': 5, 'indictment': 1, 'pointâ': 1, 'usami': 1, 'hooligan': 1, 'uknews': 1, 'q5mp2q6hy8': 1, 'jmzcaqydfa': 1, 'insurers163': 1, 'dykypy3va5': 1, 'fa07af174a71408': 1, 'tolerated': 1, 'rubble': 46, 'shovel': 1, 'expirehc': 1, 'vrnrrpohm8': 1, 'chinaâ': 11, 'su': 1, 'kabk3tcjnl': 1, 'forbes': 5, 'churchill': 1, 's0eyq1wehe': 1, 'go0pkrfzmf': 1, 'impulsive': 1, 'redesigned': 1, 'jpmorgan': 1, 'wamu': 1, 'it6wxicorl': 1, 'badcredit': 1, 'bricks': 1, 'crazyideascollege': 1, 'dh0s4buuk7': 1, '360wisenews': 7, 'eatfro3d5x': 1, 'qdwrjmmk89': 1, '7r7addvbsx': 1, 'q4grdpajr5': 1, 'pemantaujkt48': 1, 'g0en3elvcl': 1, 'melodyjktâ': 1, 'khrish3bp0': 1, 'clearing': 1, 'oajw6rtfnc': 1, 'epnju0pzjm': 1, 'c0slabbp7j': 1, 'bulls': 1, 'betting': 1, 'rebound': 1, 'dâ': 1, '1yggzziz9o': 1, 'jasonpope2': 1, 'johnfugelsang': 1, '3pbfyjx0ya': 1, 'firms': 2, 'alibaba': 1, 'baba': 1, 'tencent': 1, '7vccheic5g': 1, 'jd': 1, 'revenue': 1, 'gqge7wem3w': 1, '9naw3qoqol': 1, 'jun': 1, 'yemenis': 1, 'sanâ': 1, 'âªa': 1, '11juzhlgmt': 1, 'vtj1eoslru': 1, 'j4ggmkiney': 1, 'forbesasia': 1, 'buscemi': 1, 'firefightr': 1, 'workd': 1, '12hr': 1, 'shifts': 1, 'diggin': 1, 'wtc': 1, 'lookg': 1, 'l9fjpnszuo': 1, 'rococo': 1, 'alan': 1, 'perlis': 1, 'o6onsjhcsd': 1, 'pe2r3ln16o': 1, 'smothered': 1, 'jayelectronica': 1, 'eurpoe': 1, 'mustered': 1, 'collecting': 1, 'nickelodeon': 1, 'paw': 1, 'pup': 2, 'n7tg7roamu': 1, 'u12hhyu1dc': 1, 'lifes': 1, 'g4wipbg0jx': 1, 'lyricaleyes': 1, '6ygpwjkr4t': 1, 'tnn': 1, '9lo0hzwjpz': 1, 'bqblwiw08g': 1, 'roimentor': 1, 'yycwalks': 1, 'qen1z5uoeh': 1, 'ox3qb15lwq': 1, '8u07foqjzw': 1, 'tg5fqc8zey': 1, 'screams': 51, 'buries': 1, 'aleppo': 1, '7gcptcdx7o': 1, 'aod2ftbmgu': 1, '6cadrhioxp': 1, 'eko50hd5gz': 1, '2oqsgzqlbz': 1, 'r0flxjx5vx': 1, 'postapocalypticflimflam': 1, 'prodding': 1, 'bgy4i47j70': 1, 'vzdqq9ypn1': 1, 'gqskwqzuul': 1, 'orianaarzola': 1, 'manners': 1, 'jfc': 2, 'peens': 1, 'okgabby_': 1, 'suh': 2, 'carpooling': 1, 'slc27emugm': 1, 'uncomfortable': 1, 'smokers': 1, 'chrisdyson16': 1, 'mta': 1, 'sorrybutitstrue': 1, 'yuppies': 1, 'tourists': 1, 'fic': 1, 'raunchy': 1, 'phenomenally': 1, 'raised': 3, 'beings': 2, 'unhappy': 1, 'purposely': 1, 'mf9ngfphbn': 1, 'lookss': 1, 't2kk8fya77': 1, 'savannahross_4': 1, 'terrific': 1, 'zu9yydf5di': 1, 'holidays': 2, 'wordk': 1, 'zmne': 1, 'rc6eejme17': 1, 'wale': 1, 'bleed': 1, 'masterpiece': 1, 'foo': 1, '9tarbox': 1, 'sour': 1, 'freezer': 1, 'harvey': 1, 'burger': 3, 'metaphor': 1, 'nooo': 1, 's107ee7cyc': 1, 'batch': 1, 'connormidd': 1, 'krsy54xmmc': 1, 'greedy': 2, 'bastards': 1, 'fullscreen': 1, 'censorship': 1, 'nmtlpo4b58': 1, 'spoiler': 1, 'juliechen': 1, 'clnv_': 1, 'reboot': 1, 'bel': 1, 'cervix': 1, 'odell': 1, 'babe': 1, 'ctaztrophe31': 1, 'sandstorm': 49, 'swallowed': 36, 'mkwyvm3i8r': 1, 'azl4xydvzk': 1, 'ofhjcn36o1': 1, 'hienshi': 1, 'gbay99': 1, 'wouldnt': 1, 'z2ph0arzyi': 1, 'nvsjhdgdgz': 1, 'xr3xjj8gjb': 1, 'darude': 6, 'brctmnybjy': 1, 'nx2d83a4du': 1, 'gaotrg4mtr': 1, 'rku0idm6aq': 1, '7ijlz6bcsp': 1, 'coated': 1, 'eastâ': 1, 'layer': 1, 'grit': 1, 'hvjmuualxv': 1, 't8nz6h9zz4': 1, 'ysrskuyasw': 1, 'woo': 1, 'hoo': 1, 'vzpkn23rx4': 1, 'rm50vcvjsh': 1, '1tr2kvxctw': 1, 'q0x7e84r4e': 1, 'eldcp3vo7c': 1, 'booze': 1, 'socialwots': 1, 'globi_inclusion': 1, 'nrc_middleeast': 1, 'engulfs': 1, 'caravans': 1, 'tents': 1, 'zaatari': 1, 'xbnlsbzzgi': 1, 'h84r1tih8j': 1, '1oemjto9dp': 1, 'sequwmvfx4': 1, 'aknynpv461': 1, 'jqtmwedw33': 1, 'centralupload': 1, 'ewlhrtreep': 1, 'c9t2f6dltm': 1, 'xszicdwxq0': 1, 'tr8ychefgq': 1, 'sundercr': 1, 'remixes': 1, 'merged': 1, '1zdrktgogd': 1, 'tlcwezpukw': 1, 'qr6btdcqcj': 1, 'wd9odwjj9l': 1, 'efkcoegjck': 1, '87h5mba3n1': 1, '8l4rffzd0p': 1, 'tvyqczgjdy': 1, '15th': 2, 'tryout': 2, '6pm': 2, 'bb7ttdvjwe': 1, 'villicanaalicia': 1, 'airhorns': 1, 'fkb7iuaul8': 1, 'negatively': 1, 'dudairbbpo': 1, 'padosfyxnm': 1, 'bgm4csrbvd': 1, 'g_montani': 1, 'jessemontani': 1, 'amazingracecanada': 1, 'ahahahga': 1, 'infinitegrace7': 1, 'lyrics': 2, 'sidjsjdjekdjskdjd': 1, '0vcsafx9by': 1, 'godof_mischief_': 1, 'daggers': 1, 'jammed': 1, 'mina': 2, 'thigh': 1, 'sif': 1, 'rosie': 1, 'oâ': 1, 'âªdonnell': 1, 'fosters': 1, 'awe': 1, 'vzcvadkcqp': 1, 'microchip': 1, 'steven': 1, 'mogacola': 1, 'zamtriossu': 1, 'chonce': 2, 'cryibg': 1, 'loudest': 2, 'higuain': 1, 'offside': 1, 'whyyyy': 1, 'redwedding': 1, 'politely': 1, 'jared': 1, 'cortezera': 1, 'wahlburgers': 1, 'mommys': 1, 'joshshatsays': 1, 'brooke': 2, 'timed': 1, 'femnism': 1, 'r7pvtsduma': 1, 'aunts': 1, 'keller': 1, 'dnofwtakat': 1, 'theboysftvines': 1, 'yessss': 1, 'properly': 3, 'omlette': 1, 'twenty': 1, 'cedarglade2015': 1, 'beachboyirh': 1, 'gma': 2, 'ooorrrr': 1, 'sbujdjsjs': 1, 'xuskak': 1, 'kdqtqgk5pi': 1, 'asb': 1, 'fierce': 2, 'frailnerves': 1, 'wwa': 1, 'languages': 3, 'ldjet9tfmk': 1, 'oamsgajagahahah': 1, 'laighign': 1, 'etkbw1rcrv': 1, 'pc3h1ne4g0': 1, 'gxyivswki7': 1, 'mo_ganwilson': 1, 'verrry': 1, 'topherbreezy': 1, 'real_liam_payne': 1, 'addtexastonext1dtour': 1, 'thatwitchem': 1, 'emmachosenone': 1, 'jessienovoarp': 1, 'jessie_novoa_': 1, 'liana_novoa': 1, 'cokeboys__': 1, 'hond': 1, 'troylwiggins': 1, 'toddyrockstar': 1, 'jdtpirnm76': 1, 'msuy4qtpk9': 1, 'slsp': 1, 'encore': 2, 'camilacabello97': 4, 'externally': 3, 'quiet': 1, 'phandom': 1, 'fangirling': 1, 'wdvqlewybs': 1, 'mannequin': 1, 'shawn': 1, 'akfnejf': 1, 'gotdamn': 1, 'jariana': 1, 'bizzlemahomie': 1, 'estellasrevenge': 1, 'swiming': 1, 'mariahcarey': 1, 'xxzd1nmb1i': 1, 'lhh': 1, 'mastered': 1, 'biexwdldwc': 1, 'noahshack': 1, 'jwdfpyg3nt': 1, 'harshness': 1, 'pacing': 1, 'prontouo91': 1, 'cp7c1ch0zu': 1, 'tyleroakley': 1, 'scalpium': 1, 'camila': 1, 'spree': 1, 'stvmlly': 1, 'safferoonicle': 1, 'yell': 1, 'chords': 1, 'axvq80rbyj': 1, 'funnydadcoach': 1, 'missdaoh': 1, 'hsbfuckjsj': 1, 'idols': 1, '22days': 1, 'wdym': 1, 'h3mrqrrgfe': 1, 'kamkasteiiano': 1, 'bluntedjayt': 1, 'beyoncã': 1, 'fy': 1, 'tunes': 2, 'yaas': 1, 'xfactor': 1, 'rendition': 1, 'burna': 1, 'bfehx84lrj': 1, 'nochilllukehammings': 1, 'imm': 1, 'advertise': 1, 'prodigy': 1, 'graphic': 1, 'blanksocietyx': 1, 'gabrielleaplin': 1, 'lordminion777': 1, 'meganrestivo': 1, 'rdfaakkbnj': 1, 'y678xsnvj6': 1, 'omgggg': 2, 'trombonetristan': 1, 'ooooohshit': 1, 'ooohshit': 1, 'danemillar1': 1, 'kitchen': 3, 'avocado': 2, 'patiently': 1, 'luuay2jsjn': 1, 'cfe9huqn0h': 1, 'worstoverdose': 1, 'jaileens': 1, 'caked': 1, 'lydia': 1, '4x11': 1, 'loft': 1, 'pu7c4hhbxj': 1, 'mckenzieblackw1': 1, 'himeruisu': 1, 'ram': 1, 'shove': 1, 'pillows': 2, 'muffle': 1, 'xrlzvfeilh': 1, 'rhiannon': 1, 'hungover': 1, 'uhmmmm': 1, 'tailor': 1, 'kay': 1, 'attached': 1, 'drag0nking0201': 1, 'scare': 2, 'animatronics': 1, 'echoes': 1, 'jimin': 1, 'casually': 1, 'jasmine': 1, 'simplyysacred': 1, 'sugayiffer': 1, 'hanayo': 1, 'shojo': 1, 'curvaceous': 1, 'kot': 1, 'mature': 2, '1szi9x22cr': 1, 'realjaxclone': 1, '8bhaejsuut': 1, 'atpworldtour': 1, 'scream': 3, 'citiopen': 1, 'rly': 22, 'vibrates': 1, 'saku_uchiha_': 1, 'ya_boi_luke': 1, 'saku': 1, 'genitals': 1, 'heyot6': 1, 'melodores': 1, 'hozier': 1, 'lawsonofficial': 1, 'followed': 1, 'thankyou': 1, '4tiles': 1, 'zacb_': 1, 'dell': 1, 'win10': 2, 'ollymursaus': 1, 'appropriation': 2, 'buddhas': 1, 'griffin': 1, 'mash': 1, 'queenwendy_': 1, 'pknbzlhosc': 1, 'anytime': 1, 'wisdc': 1, 'death2usa': 1, 'serarcnrby': 1, 'harveymaine': 1, 'aaaa': 1, 'roomr': 1, 'dicks': 1, 'touches': 1, 'u5iu6pfnh6': 1, 'gbepdi0wzt': 1, 'elephino_': 1, 'thrusta1': 1, 'convenient': 1, 'bury': 2, 'enhance': 1, '15t': 2, 'sa15t': 2, 'padded': 2, 'speaker': 8, 'qty': 2, '6ovxu5cy35': 1, 'faobg3i1zm': 1, 'subcontractor': 2, 'cgg': 2, 'wâ': 2, 'exploration': 12, 'pckf0nl2yn': 1, 'oppose': 1, 'updating': 1, 'delivering': 1, 'sales': 2, 'seismicsoftware': 2, 'q4fltg7tzt': 1, 'studies': 1, 'calabria': 1, 'malta': 1, 'hmrtqeykyi': 1, 'hebrooon': 1, 'derivative': 1, 'formula': 1, 'gabon': 9, 'somalia': 10, 'sy8nqtlmd3': 1, 'fj': 1, 'yjdhoddjox': 1, 'migration': 1, 'humane': 1, 'kc8ysl': 1, 'andreas': 1, 'lancashire': 1, 'zzbqmgnusl': 1, 'y23xzl3fzv': 1, 'axwave': 1, 'enables': 1, '2d': 3, 'gpu': 1, 'omx1nxaqpz': 1, '27jst': 1, 'aug06': 1, 'chiba': 1, 'pref': 1, '10km': 4, '8140': 1, 'kltit88as3': 1, 'insight': 2, 'ey': 1, 'qamgvqafzc': 1, 'worldoil': 1, 'subscription': 2, 'kqvevuutdj': 1, 'alabamaquake': 1, 'summary': 2, 'zm6vczqvwk': 1, 'dknlznom6n': 1, 'channels': 2, 'zqmtrbkas0': 1, 'yeqq3bzx3g': 1, 'kmvrzasxy4': 1, 'vibrating': 1, 'mri': 1, 'readout': 1, 'faultline': 1, 'marek1330': 1, 'zar': 1, 'cringes': 1, 'marek': 1, 'toss': 2, '2jbibeib9g': 1, 'p5ktaqw5qg': 1, 'tbi': 2, 'aging': 1, 'analogy': 1, 'xs1qhfjag4': 1, 'deetelecare': 1, 'braininjury': 2, 'detectado': 5, 'japã': 5, '_n': 5, 'jst': 5, 'worldoilã': 1, 'hs6ohrfsa9': 1, 'retrofitting': 1, 'fukushima_actu': 1, 'lcdkteoukj': 1, 'perforated': 1, 'shear': 1, 'sfor': 1, 'cx5ojh2dr4': 1, 'm3': 2, 'ibaraki': 1, 'prefecture': 1, 'offing': 1, 'm5': 1, '60km': 1, 'benson': 1, 'clegg': 1, 'btdjgwekqx': 3, 'kml': 2, 'vessels': 2, 'offshore': 2, 'bekrpjnyhs': 1, 'kakajambori': 1, 'yor': 1, 'powered': 1, 'briere': 1, '76mkidoolh': 1, 'oilandgas': 2, '9vd6x4wdoy': 1, 'ipa': 1, 'radler': 1, 'a8nmdkd3rv': 1, 'oddball': 2, 'observer': 2, 'aowvfabl0a': 1, 'ohholj9vev': 1, 'stellar': 1, 'undercard': 1, 'filler': 1, 'xs6aa2c6jb': 1, 'ltf6jl5keu': 1, 'zlq8thctkw': 1, 'dmvr2h2fkm': 1, 'enablement': 1, 'kwmrcekvtf': 1, 'panoramic': 1, 'cuts': 1, 'muwmfjgzyh': 1, 'dogger': 1, 'westward': 1, 'regent': 1, 'towing': 1, '8400': 1, 'metre': 1, 'w0xr5gp8cw': 1, 'miyagi': 2, 'statoilasa': 1, 'visualise': 1, 've2ebqm21b': 1, 'belie': 2, 'a3b5n3rcr5': 1, 'mrw': 1, 'beneath': 2, 'ifunny': 1, 'xiydyfptru': 1, 'goz': 1, 'manually': 1, 'domains': 1, 'ok9ebhurfl': 1, 'sen': 2, 'yarbrough': 1, 'surprises': 1, 'zdpvqmeezs': 1, 'swallows': 11, 'lowndes': 7, 'sinkholeâ': 1, 'bcldqmmehg': 1, 'occasion2b': 1, '10news': 1, 'disrupts': 6, 'trolley': 5, 'paug7a68i0': 1, 'evansville': 3, 'usage': 2, 'lw6neqjrot': 1, 'falmer': 1, '6tvvlg2fni': 1, 'crater': 5, 'gkprvzq6lk': 1, 'vspkhg3nzy': 1, 'azimel': 1, 'scientist': 1, 'deceased': 1, 'gaping': 1, '0xa6fcjyec': 1, 'nycbuildings': 1, 'm78ir0ik01â': 1, 'wctv': 1, 'wkpzp1jcau': 1, 'yonews': 2, 'accidentalprophecy': 1, '3glyoyf6oc': 1, 'moorlandschmbr': 1, 'xvco7slxhw': 1, 'jbvmgeg522': 1, '0yaxrjicrr': 1, 'rvmmut3gvc': 1, 'algeria': 1, 'qwo7q1amh8': 1, 'esrkmazeq9': 1, 'n3ow73oasw': 1, 'gs9bmplbhh': 1, 'lomasvisto': 1, 'hipsters': 1, 'devours': 1, 'intersectio': 1, 'qwtk1b2fmc': 1, 'cadenadeseguidores': 1, 'caved': 1, '64th': 1, 'eukhlkggdo': 1, 'cbaxcuba0h': 1, '9tb82zmr2x': 1, '1ybe5mgzl4': 1, '7zog3dpdu9': 1, 'ofebakatnh': 1, '20gi4gyud5': 1, 'kff8ojrzp4': 1, 'job4ggtpal': 1, 'uiqkddvwkz': 1, 'aa8fwtohyj': 1, 'twit_san_diego': 1, 'asphalt': 1, 'saâ': 1, 'anriombhqn': 1, 'sel': 1, 'oyy9mgw7hn': 1, 'hinterestin': 1, 'ozizdsdwp4': 1, 'newsbeatsocial': 1, 'ltlh53arn4': 1, 'sjnyfszcu1': 1, 'davidcovucci': 1, '28r2igxmie': 1, 'wews': 1, 's7grbznwlr': 1, 'cpeqv52lna': 1, 'heiekfchdm': 1, 'leaking': 1, 'sewage': 1, 'benwu5iara': 1, 'dwu8qqys0v': 1, 'mtsalert': 1, 'largeâ': 1, 'hvbj30aj9s': 1, 'jvjalyg2n1': 1, 'qxmweljbc0': 1, 'afloat': 1, 'pension': 1, '4ceeuzwhvf': 1, 'orjb3j803f': 1, 'mwdhxyfrag': 1, 'hogan': 1, 'thanking': 1, 'publicity': 1, 'supernovalester': 1, 'unsigned': 1, 'qymalttvzp': 1, 'realise': 8, 'snapping': 1, '9stlkh59fb': 1, 'abandonedpics': 1, 'abbandoned': 1, 'darsena': 1, 'castello': 1, 'scaligero': 1, 'sirmione': 1, 'muh': 1, 'kua48gdrel': 1, 'hoke': 1, 'excepting': 1, 'versus': 2, 'dfljev': 1, 'currency': 1, 'transgress': 1, 'ward': 1, 'unsecured': 1, 'jbumzqpk': 1, 'andreajmarkley': 1, 'edjschenk': 1, 'cesspool': 1, 'onnnn': 1, 'zv60chjclf': 1, 'plank': 1, 'sinkingshipindy': 1, 'scarlet': 1, 'lenore': 1, 'saison': 1, 'stonebrewingco': 1, 'lnzz0zfrom': 1, 'tgkpnqabhh': 1, 'titanic': 4, 'blunt': 5, 'gander': 2, 'tna': 1, 'appease': 1, 'morbid': 1, 'destinationimpact': 1, 'exercised': 2, 'att': 1, 'bjojvm0pjx': 1, 'whoc7lhb5f': 1, 'keurig': 1, 'gtdnw1spvi': 1, 'wccorosen': 1, 'lloyds': 1, 'insure': 1, 'corycove': 1, 'slipper': 1, 'b1bx0eruep': 1, 'darkest': 2, 'jota': 1, 'esse': 1, 'consultative': 1, 'subconscious': 1, 'xkdrx': 1, 'buildingmuseum': 1, 'thebeachdc': 1, 'vscocam': 1, 'acreativedc': 1, 'dctography': 1, 'vscodcâ': 1, 'ssd9ign6ho': 1, '3cxprdjffe': 1, 'clawing': 1, 'j43nwkx0x3': 1, 'wonderfully': 1, 'mafia': 2, 'installment': 1, 'btjpeo0bto': 1, 'clyj32l333': 1, 'wasting': 1, 'tribe': 1, 't0c1f2ledv': 1, 'u0mexo4uhh': 1, 'pitched': 1, 'siren': 31, 'ofnsixjks': 1, 'corii': 1, 'spoil': 1, 'l3gizrucy4': 1, 'wishlist': 1, 'hgedwxtdjn': 1, 'ma3route': 1, 'imeshika': 1, 'hapa': 1, 'mats': 1, 'bumper': 2, 'aar': 1, 'bonnieg434': 1, 'piga': 1, 'kijan': 1, 'stacedemon': 1, 'ibeyiofficial': 1, 'olnk1ti1nm': 1, 'amateur': 1, 'reprises': 1, 'horrormovies': 1, 'w9cd6offcj': 1, 'kundalini121': 1, 'manyvids': 1, '_defreitas': 1, 'revs': 1, 'j2bone': 1, 'foxy__siren': 5, 'coursing': 2, 'weyrey_gidi': 2, 'nv7rk63pgc': 1, 'reviving': 1, 'demoness': 1, 'beckoning': 1, 'thisâ': 1, 'nps3xpbkaq': 1, 'whelen': 4, '295ss': 3, 'amplifier': 3, 'a5iwus8evq': 1, 'gi82n2juwn': 1, 'a0v1ybysod': 1, 'siren_voice': 1, 'liveonstreamate': 1, 'siren_six': 1, 'b30wu1f2': 2, 'frusciante': 1, '00cy9vxeff': 1, 'jennifer': 3, 'aniston': 3, 'tui9uwbvvp': 1, 'announce': 1, 'dull': 1, 'monotonous': 1, 'hunterston': 1, 'process': 1, 'smithereens': 1, 'tomarse99': 1, 'intending': 1, 'signal': 1, 'cybersecurity': 1, 'laftj2gyly': 1, 'wishes': 2, 'boo': 1, 'q3yyqi4a27': 1, 'whereofyax': 1, 'angelina': 1, 'jolie': 1, 'sef': 1, '612bsbvw8k': 1, 'kronykal': 1, 'countering': 1, 'skewed': 1, 'optich3cz': 1, 'askh3cz': 1, 'elgato': 1, 'bday': 1, 'ugr6refzpt': 1, 'eyyuqx4tbt': 1, 'crhedrys': 1, 'nko': 1, 'fre': 1, 'blwntmyqmq': 1, 'ayhoka_': 1, 'envyseven': 1, 'aquarius': 2, 'queenmy': 1, 'pretenses': 1, 'overtures': 1, 'songfor': 1, 'pharma': 1, 'overloaded': 1, 'siren_song21': 1, 'bucks': 1, 'nsf': 1, 'argue': 1, 'snipe': 2, 'trw1omykqz': 1, '314': 1, 'bracket': 1, 'screws': 1, 'dyersburg': 1, 'heavydirtysoul': 1, 'concluded': 2, 'serephina': 1, 'k6uetsnlht': 1, 'la_siren': 1, 'vvorm': 1, 'fgcu': 1, 'soonermagic_': 1, 'indyfest': 1, 'breachgamingorg': 1, 'fevwarrior': 2, 'screeching': 1, 'accompanying': 1, 'wjozlqbie0': 1, 'warped': 1, 'attila': 2, 'thu': 2, '0000': 1, 'millcityio': 1, '20150613': 1, 'theramin': 1, 'husnaavhora': 1, 'raychielovesu': 1, 'lemonade': 1, 'semi': 1, 'bobbycakes50': 1, 'anthology': 1, 'lqjmuaxjuu': 1, '_dangdaddy': 1, 'qaqqrjv9gu': 1, 'thinner': 1, 'bnwygx6luh': 1, 'netflix': 2, 'awn': 1, 'sirensicebreaker': 1, 'diverse': 2, 'hpljur0obo': 1, 'kiro7seattle': 1, 'hago': 1, 'escuchando': 1, 'goo': 4, 'dolls': 3, 'dill': 1, 'pickle': 1, 'kaewtkj06o': 1, 'tqxlqukq7z': 1, 'marketforce': 1, 'perth': 1, 'iinet': 1, 'nbn': 1, 'buffering': 1, 'ggperglvki': 1, 'travelelixir': 1, 'helo': 1, 'goooooooo': 1, 'fz5ew4ihmb': 1, 'reminding': 2, 'complained': 1, 'wails': 1, 'chord': 1, 'jy_curtis': 1, 'fckng': 1, 'midfield': 1, 'soni': 1, 'soner': 1, 'sonisoner': 1, 'devffptcvj': 1, 'spookyerica': 1, 'hakogaku': 1, 'kurd': 2, 'gunfire': 9, 'obp595w7tm': 1, 'salem_police': 1, 'underskirt': 1, 'ik4len': 1, 'cancelled': 3, 'abc7eyewitness': 1, 'hometownglory': 1, 'connor': 1, 'franta': 1, 'howell': 1, 'sonic': 1, 'postcards': 2, 'polaroids': 2, 'gostei': 1, 'um': 3, '_deo': 1, 'christinartnd': 1, 'bwe9kjcept': 1, 'marketforceâ': 1, 'sharkâ': 1, '6f9afql6wp': 1, 'f2tqmfh1yb': 1, 'cher': 1, 'vai': 1, 'vir': 1, 'pra': 1, 'halfhourhotel': 1, 'edgarsgift': 1, 'promotion': 1, 'zrn30a78ir': 1, 'lifeaintfairkid': 1, 'blunts': 1, 'snoop': 1, 'collie': 1, 'buddz': 1, 'wizkhalifa': 1, 'tre': 1, 'hmmm': 1, 'radneck': 1, 'kidneys': 1, 'sidelinesavage': 1, 'crqck': 1, 'becyme': 1, 'mayor': 1, 'includes': 1, 'foursquare': 1, 'burp': 1, 'smokes': 2, 'selling': 2, 'misocapnist': 1, 'tobacco': 1, 'unusualwords': 1, 'jmcffa3toq': 1, 'youngins': 1, 'pianohands': 1, 'taxis': 1, '55436': 1, '1950': 2, 'locomotives': 3, 'magne': 3, 'traction': 3, 'instructions': 4, 'xezbs3sq0y': 1, 'c2x0qokgly': 1, 'sammysosita': 1, 'ciggs': 1, 'toooooo': 1, 'bck': 1, '55433': 1, '1954': 1, '2w2etbtgdr': 1, 'mws8130h8n': 1, 'thetshirtkid': 1, 'trynna': 1, 'tj': 1, 'billmccabe': 1, 'asthma': 1, 'cigars': 1, 'ctac2xz8dy': 1, 'austin': 2, 'umzkc9azwd': 1, 'ounce': 1, 'disrespectful': 1, 'spliff': 1, '79upydcemp': 1, '55432': 1, '8s2gxmhisj': 1, 'gawvhg5asb': 1, 'cigs': 1, 'tray': 1, 'zouis': 1, 'bre_morrow': 1, 'josie': 1, 'splifs': 1, 'reminders': 1, 'teamatowinner': 1, 'mino': 1, 'commas': 1, 'snowstorm': 48, 'x36': 1, 'rczalru05o': 1, 'manuel': 1, 'hoping': 3, 'accuracy': 1, 'improves': 1, 'm75fclutf2': 1, 'chann': 1, 'tess': 1, 'unyurr8baw': 1, 'vbac': 1, 'naturalbirth': 1, 'lofty': 1, 'position': 2, 'transported': 1, 'oz': 1, '3am': 1, 'footed': 1, 'pajamas': 1, 'irishirr': 2, 'mchapmanwsaz': 1, 'wsaz_brittany': 2, 'kellyannwx': 2, 'lily_bell82': 1, 'toed': 1, 'sy': 3, 'hunk': 3, 'smoky': 3, 'aoms': 3, 'nkkctttsd9': 1, 'ibooklove': 3, 'bookboost': 3, 'groupon_uk': 1, 'creepy': 2, '676': 2, '76': 1, 'overp': 1, 'hk9yf72ova': 1, 'southdowns': 4, 'treeporn': 3, 'purified': 1, 'pale': 1, 'moonlight': 1, 'lalaloopsy': 1, 'seed': 1, 'sunburst': 1, 'seashore': 1, 'sweater': 2, 'spice': 1, 'nyty7fcqo6': 1, 'hyypspn0yq': 1, 'habbo': 1, 'tic': 1, 'tac': 1, 'battleships': 1, 'matchwood': 1, 'woodelijah': 1, 'writerslife': 1, 'rtphotographyuk': 1, 'gwokzelq5q': 2, 'artâ': 1, 'casey': 1, 'veggies': 2, 'cone': 1, 'zdj2hyf6ro': 1, 'dirk_trossen': 1, 'pnaqxprweg': 1, 'bigbang_cbs': 1, 'lordbrathwaite': 1, 'growingupincoloradoâ': 1, 'erincandy': 1, 'snowstormi': 1, 'snowmobiles': 1, 'numb': 1, 'thermostat': 1, 'wsaz': 1, 'technically': 1, 'geologic': 1, 'cacheadvance': 1, 'sippin': 1, 'lakeeffect': 2, 'twill': 2, 'denim': 2, 'jackets': 2, 'qmtdxuykty': 1, 'transportation': 1, 'wheelers': 1, 'amssummer': 1, 'hdjs9rntj4': 1, 'pyrbliss': 1, 'inches': 1, '40urty': 1, 'donof_niketown': 1, 'whistlerblckcmb': 1, 'snowbacksunday': 1, 'momentumcamps': 1, 'johkymv9el': 1, 'shining': 1, 'btjl9jkvxz': 1, 'benjamin': 1, 'leftwich': 1, '5kjy8g0i4y': 1, 'asda': 1, 'bnzm8k2aim': 1, 'jhscgda2g8': 1, 'treescape': 1, 'z8cp77lvza': 1, 'boeing': 3, '737': 1, 'takeoff': 1, 'cockpit': 2, 'atc': 1, 'thundersnow': 1, 'uncommon': 1, 'eydapaupvg': 1, 'goâ': 1, 'txtpx4umqh': 1, 'parallel': 1, 'refer': 1, 'boi': 1, 'heâ': 1, 'sippinâ': 1, 'effective': 2, 'prablematicla': 1, 'adweek': 1, 'orphan': 1, 'gazing': 1, 'cozy': 1, 'affluent': 1, 'lobster': 1, '358': 1, 'au': 3, 'eqeeuvprqq': 1, 'gamefeed': 1, 'inspired': 4, 'gx1kz3c2tc': 1, 'videogame': 1, 'dggm5b0w4l': 1, 'eyr2xx5l1p': 1, 'trooper': 1, 'bobble': 1, 'funko': 1, 'kjbxieypma': 1, 'enpjcfma8l': 1, 'khyqqsi6my': 1, 'g6vs3xeinb': 1, '848cvwwdot': 1, 'kesabaran': 1, 'membuahkan': 1, 'hasil': 1, 'indah': 1, 'pada': 1, 'saat': 1, 'tepat': 1, 'jenniferarri_': 1, 'comeeeee': 1, 'flaunt': 1, 'tonyhsieh': 1, 'vortex': 2, 'catcher': 1, 'oiywrzl79z': 1, 'happenings': 1, 'huzrhgmksy': 1, 'eventspalmbeach': 1, 'yhzo0l7vtv': 1, 'gamechanger': 1, 'ama': 1, '8qc8bcxoko': 1, 'jvai5vkmsy': 1, 'nr8jjmpmos': 1, '0ap7montjf': 1, 'hawaiianpaddlesports': 1, 'lgpgajgomy': 1, 'fkd1mbtb68': 1, 'pillow': 3, 'prints': 1, 'lulu': 1, 'mypillowstudio': 1, 'm4pqkkeevc': 1, 'robthier_en': 1, 'wz55nbyao3': 1, 'l7pmdmejs1': 1, 'mdp2ni1pqu': 1, 'expanded': 1, 'slight': 1, 'twcnews': 1, 'ncwx': 1, 'dgbeh5l9ds': 1, 'calgarians': 1, 'fkfa9vsssz': 1, 'finna': 2, 'boutta': 1, 'hurting': 2, '2qvgimro0r': 1, 'vtrocihsne': 1, '45pm': 2, 'xwoevmk0aa': 1, 'throwbackthursday': 1, 'kristy': 1, 'kylesalive': 1, 'rehearsing': 1, 'doinghashtagsright': 1, 'uj9hxug7qs': 1, 'sara': 1, 'nasahurricane': 5, 'satellite': 9, 'hilda': 1, 'thâ': 1, 'ksxto8nknl': 1, 'dovahswag': 1, 'gray_greymane': 1, 'dota': 1, 'legends': 1, 'lesley_mariiee': 1, 'cm5u55miol': 1, 'temp': 1, 'doves': 1, 'proms': 1, 'pt4': 1, 'xjtpv4oydl': 1, 'tomorrowâ': 1, 'greet': 1, 'bask': 1, 'warmth': 1, 'bliss': 1, 'sexistâ': 1, 'wo2t0k4zxi': 1, 'timeshighered': 1, 'violently': 1, 'periodstories': 1, 'coach_keith44': 1, 'hannomottola': 1, 'trpreston01': 1, 'mlrydalch': 1, 'b231ul1o1k': 1, 'lumbar': 1, 'extender': 2, 'renewing': 1, 'cabinets': 1, 'lys6p5bmdl': 1, 'elfzsrgxro': 1, 'invalid': 5, 'grazed': 5, 'rexyy': 5, 'sdotjr_': 1, 'ofentse_tsie': 2, 'ou_wbball': 1, 'ferno': 1, 'engineering': 1, 'inspect': 1, 'components': 1, 'gted6ldwho': 1, 'siding': 2, 'mhl7pfr7kb': 1, 'lou8lbla1f': 1, 'min': 8, 'gxgjqqu3hu': 1, 'pctool': 1, 'niggaeven': 1, 'eewizzryji': 1, 'expander': 1, 'nvzdilrfgj': 1, 'u9cd0txe7z': 1, 'q5mdsnbcmh': 1, 'fujiwara': 1, 'shunichiro': 1, 'pllolz': 2, 'witter': 4, 'freeze': 1, 'met0mtpr3s': 1, 'wnba': 2, 'jwm87uvbef': 1, 'thejasontaylorr': 1, 'stablize': 1, 'homemade': 1, 'yogurt': 1, 'yzazf4ceoa': 1, 'x5rc5nuamh': 1, 'aiden': 1, 'salivation': 1, 'beds': 1, 'kegm': 1, '1pack': 1, '2pack': 1, '3pack': 1, 'fleek': 1, 'natz5ipv1x': 1, 'leaeby6cr2': 1, 'jimmiejohnson': 1, 'deckâ': 2, 'fblnifda1c': 1, 'hyhofddwl7': 1, '0518': 1, '169': 1, 'wedneâ': 1, 'rmdfx6y0ho': 1, 'capoeira': 1, 'bearer': 1, 'diwlbiahvp': 1, 'favorited': 1, 'stressing': 1, 'mxaaaa': 1, 'adjust': 1, 'shaper': 1, 'width': 1, 'adjustable': 1, '8cpcz2xohb': 1, '0yo2l38ozr': 1, 'niqqa': 1, 'yc': 1, 'bearers': 1, 'yerct4j244': 1, 'hc': 1, 'georgegallagher': 1, 'robinâ': 1, 'wz4xvzyqjd': 1, 'vkthhboqjs': 1, 'rdxzsl5eac': 1, 'qwijrriyif': 1, 'daretotaha': 1, '7qpg80ud7v': 1, 'galactic': 27, 'spaceship': 16, 'braking': 5, 'foxpvpttta': 1, 'spacex': 1, 'musk': 1, 'lvizo9cssr': 1, 'lizbon': 1, 'kidicalmdc': 1, 'kp1hdchfnz': 1, 'qos0de9bkq': 1, 'nlzbhcfxcm': 1, 'ntsb': 4, 'mgig4ux7dm': 1, 'failureâ': 1, 'imawvmzs3a': 1, 'fprt7nwrot': 1, 'rightways': 3, 'vz1irh0nmm': 2, 'rightwaystan': 2, 'sirtitan45': 1, 'defects': 3, 'testing': 3, 'a1kn4u3yua': 1, 'correcting': 1, 'dvieablofz': 1, 'excessive': 1, 'emerging': 1, 'examiner': 2, 'ocmcvfdzkv': 1, 'coercion': 1, 'weakness': 1, 'ensuring': 1, 'gnorijnsva': 1, 'coâ': 1, 'preventative': 1, 'cabling': 1, 'bracing': 1, '905': 1, '877': 1, '8591': 1, 'cts': 1, 'paulmyerscough': 1, 'imagination': 1, 'institutional': 1, '3ylsq1fsef': 1, 'abpmlymhnk': 1, 'syl7ou7qvw': 1, 'spaceshiptwo': 1, 'eysblyx6l6': 1, 'kpcc': 1, 'nsa4kfn2rb': 1, 'imprudent': 1, 'lookout': 1, 'newshour': 1, 'm8hretro31â': 1, 'x3mknith7k': 1, 'pnhpljho8e': 1, 'adz8kburt7': 1, 'vsapkwjtea': 1, 'wc69xajis4': 1, 'bbclive': 1, 'u5suyvlfzj': 1, 'sirtophamhat': 1, 'scynic1': 1, 'nafeezahmed': 1, 'jeremyduns': 1, 'represents': 1, 'shortfalls': 1, 'cdxe5vmzoj': 1, 'sabcnewsroom': 1, 'sabotage': 1, 'deeply': 1, 'solved': 1, 'h2xcax4jbu': 1, 'slums': 1, 'manifestation': 2, 'illegality': 1, 'discourse': 1, 'confounds': 1, 'stopevictions': 1, 'bgrab7lk8d': 1, 'whvholst': 1, 'leashless': 1, 'competence': 1, 'soc': 1, 'illogical': 1, 'qu1iug3e9r': 1, 'x3vqxdouvt': 1, 'virg': 1, 'cy1lfenyv8': 1, 'iknyok9zzr': 1, 'qckqcx4hw9': 1, 'gazellebundchen': 1, 'negate': 1, 'mttdvy6141': 2, 'foxnewsinsider': 1, 'vest': 3, 'rembr': 1, 'bestnaijamade': 32, '16yr': 42, 'ksawlyux02': 8, 'beâ': 9, '1yb8sizarg': 1, '69iizvyqyc': 1, 'uwfvwmjepu': 1, 'pxonlrqusm': 1, 'alfapedia': 1, 'ujnrgfangj': 1, 'tmipegqyev': 1, 'pol92mn8yz': 1, 'tuvbr4lep3': 1, 'committing': 1, 'vtvxa0srmw': 1, 'qq70gf99ba': 1, 'iuh718kcy0': 1, '9pqyx4xool': 1, 'trenchâ': 1, 'zdieodwbog': 1, 'msoreo_': 2, 'v6nylvdped': 1, 'grupdates': 3, 'hucyi6nrbb': 1, 'sj57boksib': 2, '8vbgg9iy7i': 1, 'fqsk7qcawo': 1, '5v29w19tfx': 2, '6jzcedayrg': 1, 'homs': 3, 'zaman': 1, 'alwsl': 1, 'v8juc5ek1a': 1, 'mgzslzz1wf': 1, '5ortb8p51c': 1, 'n7yst76ku3': 1, 'gnynjhne6j': 1, '1funemes7m': 1, 'harun': 3, 'ekdar': 3, 'v0ntqyzlpk': 1, 'fvxhopdf3w': 1, 'hashd': 1, 'shaabi': 1, 'theft': 1, '2ag9auabr3': 1, 'qna4tubnwh': 1, 'uonebahh3h': 1, 'mmklapx2ok': 1, 'p5yasktq0k': 1, 'fqcdphccg7': 1, 'i3cesn7kxi': 1, '2ycm0dlq2f': 1, '19th': 1, 'jul': 1, '64': 2, 'o2cdkpsdfp': 1, 'h3sxfv5mtc': 1, 'iewdrenauk': 1, 'fmoqk26him': 1, 'lwdcrpehtn': 1, 'etyzy8gb2a': 1, 'mercados': 2, 'oz1ds3xu0d': 1, 'tripoli': 1, 'explosives': 3, 'rigged': 1, 'compound': 2, 'wpilp4mymf': 1, '8nhd9idajs': 1, 'axhclfersu': 1, 'noticias': 1, 'oipt1ubaxo': 1, 'jlmicj6je5': 1, 'mpoaefql6k': 1, 'josephjett': 1, 'shi': 1, 'ite': 1, 'saud': 1, 'flrovkanc0': 1, 'saudiarabia': 1, 'lwane9vupg': 1, 'cpqgufzb28': 1, '1i62jjk6pt': 1, 'qtszg': 1, 'canadasuicide': 1, 'ktd5ig9m5o': 1, 'n6njdg6r9l': 1, 'yytkp1z5kg': 1, 'vijfnhl630': 1, 'ycuv4ktgrl': 1, 'âªarabia': 1, 'aseer': 1, 'pmtqhivsxx': 1, 'detonates': 2, 'bnvcvnyxxj': 1, 'gigw51izpk': 1, 'ke6djxanmm': 1, 'vhqed0go0n': 1, 'xyckgxzv9s': 1, 'barbarism': 1, 'ux5ya1csg3': 1, 'fy0r9o7xsl': 1, 'zeenews': 1, 'qn': 1, 'asir': 1, 'i1626mnnd9': 1, '37dqvjhncv': 1, 'kcobrzbvds': 1, 'y62hsfviaq': 1, 'lgpne5hkao': 1, '9k1tqsaarm': 1, 'ev3nx9scx3': 1, 'deai': 1, 'sqydkslfzp': 1, 'pioy1o54f4': 1, 'tqvpusafjq': 1, 'saudiã': 1, 'h99bhb29xt': 1, 'jou': 1, 'mawd20regb': 1, 'axk9xno6yz': 1, 'dn5buo7gsk': 1, 'bbclaurak': 1, 'stowing': 1, 'aboard': 1, 'noahj456': 1, 'xnto3jmmts': 1, 'sticky': 1, 'thursd': 1, 'ibype1kaz5': 1, 'ebggmfxoby': 1, 'guaj2t910b': 1, '0bznfdg0ar': 1, 'kabari': 1, 'jihadist': 1, 'h2ctpg4oyz': 1, 'd5cudwuhww': 1, 'twnswk0hfj': 1, 'detona': 1, 'yoxzfbrvzi': 1, 'txg7k2do9v': 1, 'taught': 2, '1970s': 1, 'piracy': 1, 'slavery': 1, 'purely': 1, 'suruã': 2, 'launches': 1, 'airstrikes': 1, 'kurdistan': 1, 'daisycuttertz': 1, 'grogparty': 1, 'tony_burke': 1, 'imam': 1, 'sonofbobbob': 1, 'shimmyfab': 1, 'trickxie': 1, 'chopping': 1, 'rooftops': 1, 'psychos': 1, 'esh': 3, 'rightly': 1, 'despicable': 1, 'ocalan': 1, 'marxism': 1, 'gs0km0vlgk': 1, 'jrehling': 1, 'myytwocentss': 1, 'reprisal': 1, 'erdoganâ': 1, 'zirngast': 1, 'jacobin': 1, 'l1vn8zxlgg': 1, 'samfbiddle': 1, 'gawker': 1, 'f35': 1, 'capabilities': 1, 't4': 1, 'airbase': 1, 'qoau2qlj3b': 1, 'offshoot': 1, 'etitgpsrun': 1, 'wasthe': 1, 'smartest': 2, 'thing2': 1, 'godjesus': 1, 'muhammad': 1, 'killedsomebody': 1, 'tgfwuvvhxj': 1, 'kurdish': 6, 'huffington': 1, '03bjm4orow': 1, 'premonitions': 2, 'iikssjgbdn': 2, 'jewhaditm': 1, 'ibazrhlsur': 1, 'b6wwq2nyqi': 1, 'wd7s6s0vci': 1, 'rebecca': 1, 'roga': 1, 'hamas': 4, 'egged': 4, '361': 4, 'infographic': 1, 'suruc': 2, 'uvaojzcycz': 1, 'pierocastellano': 1, 'nipped': 1, 'sgt': 1, 'roni': 1, 'ghanem': 1, 'maghar': 1, 'saadthe': 1, 'kpdied': 1, '2007he': 1, 'kppolice': 1, 'zoipkpbd6o': 1, 'kabul': 1, 'o6armcgvbs': 1, 'rayquazaerk': 1, 'employed': 1, 'nvp6wrkl1e': 1, '7cibxls55f': 1, 'joined': 1, 'confesses': 1, 'tmz6x1n2gq': 1, 'haji_hunter762': 1, 'middleeasteye': 1, 'muzzies': 1, 'payback': 1, 'reached': 1, 'opjwunuvg8': 1, 'q1eixnjjpt': 1, 'erdogan': 1, 'socialists': 1, 'z6xauidrxu': 1, 'shareaholic': 1, 'mehdirhasan': 1, 'percentages': 1, 'pew': 1, 'dfanudwsq3': 1, 'yaounde': 1, 'mosques': 1, 'ghghqm9e6d': 1, 'nbcpolitics': 1, '911bombing': 1, 'barracks': 1, 'bombers': 1, 'zfivvxydzy': 1, '61_alvin': 1, 'craigyb74': 1, 'nomar4eva': 1, 'shahasda80': 1, 'wherepond': 1, 'trensabby': 1, 'parallelpond': 1, '7old5mjwph': 1, 'regime': 3, 'checkpoints': 1, 'qaryatayn': 1, 'hara': 1, 'kiri': 1, 'uo0aqk9kr8': 1, 'mordechai': 1, 'yehuda': 1, 'friedman': 1, 'ramat': 1, 'shemesh': 1, 'marlene': 1, 'menahem': 1, 'moshav': 1, 'safsufa': 1, 'absence': 1, 'interactions': 1, 'hmspypozln': 1, 'gabbyogbechie1tpgazette': 1, 'sunk': 47, 'hfzk09mcen': 1, 'tabloids': 1, 'iceberg': 1, 'backty': 1, 'swarmed': 1, 'vengefulknave': 1, 'canines': 1, 'peeped': 1, 'frontin': 1, 'jeepã': 1, 'tinted': 1, 'bumpin': 1, 'diver': 1, 'steamship': 1, 'qp3gvvfofq': 1, 'shattered': 1, 'visage': 1, '0kccg1bt06': 1, 'aquarium': 2, 'ornament': 3, 'sailing': 2, 'destroyer': 2, 'kncm9jc8i9': 1, 'swviazsphk': 1, 'aphyr': 1, 'longâ': 1, 'somethinâ': 1, 'descended': 1, 'shadowed': 1, 'harshly': 1, 'capsize': 1, 'fuso': 1, 'yamashiro': 1, 'cachet': 1, 'aq5zlim7l4': 1, 'fvr9jdq71a': 1, '1941': 2, 'kumasian': 1, 'torpedoed': 1, 'crewlist': 1, 'blaaaaaaa': 1, 'vibrate': 1, 'resolutevanity': 1, 'widow_elena': 1, 'stelena_always': 1, 'marr': 1, 'primal': 1, 'codemew': 1, 'sunkâ': 2, '_1': 1, 'sideâ': 1, 'pullâ': 1, '_oneâ': 1, '_you': 1, 'ii2spvp89b': 1, 'saintrobinho86': 1, 'demonstrated': 1, 'idol': 2, 'untameddirewolf': 1, 'sansa': 1, 'blinked': 1, 'benaffleck': 1, 'stil': 1, 'collaborating': 1, 'time4me_sews': 1, 'lonelyness': 1, 'nosa8jjjin': 1, 'wukvdavuju': 1, 'courtâ': 1, 'prestige': 1, 'prosser': 1, 'h09nydbzov': 1, 'resoluteshield': 1, 'jeezus': 1, 'xj5bklbxwi': 1, 'shekhargupta': 1, 'mihirssharma': 1, 'trp': 1, 'mockery': 1, 'bonhomme37': 1, 'lightroom': 1, 'jordyne': 1, 'lincoln': 2, 'kvbedkglgw': 1, 'birdyword': 1, 'rbs': 1, 'disposition': 1, 'uivpe74kui': 1, 'ldpruf2wur': 1, 'unrealtouch': 1, 'silverstar58200': 1, 'romero': 1, 'dreaming': 2, 'mlk': 1, 'seas': 1, 'giannis': 1, 'submerged': 1, 'reef': 1, 'gn3whnsfib': 1, 'fwpof5twoc': 1, 'ta': 1, 'thinkin': 1, 'yal': 1, 'hank': 1, 'you7wn9xvs': 1, 'parental': 2, 'offspring': 2, 'preconditioning': 1, 'corals': 1, 'n9c3i9v8go': 1, 'lucypalladino': 1, 'asolidrighthook': 1, 'idek': 2, 'ish': 1, 'ayhhhhhdjjfjrjjrdjjeks': 1, 'martial': 1, 'biuey7buts': 1, 'jwqybe4ep1': 1, 'amyschumer': 1, 'admired': 1, 'lnzi7o166y': 1, 'trading': 2, 'tmpfwjpi6i': 1, 'thruuu': 1, 'xcom': 1, 'tootrue': 1, 'mcwd37iof9': 1, 'superheroes': 1, 'theyll': 1, 'repopulate': 1, 'superior': 1, 'thewalkingdead': 1, 'pbafmalgtb': 1, 'dorrian': 1, 'marketers': 1, 'marketer': 1, 'kpmyqujsue': 1, 'thezlong': 1, 'energyqfor': 1, 'elitist': 1, 'sciencedaily': 1, 'm2tjoxkcou': 1, 'thomassmonson': 1, 'lds': 1, 'mormon': 1, 'chim': 1, 'gloria': 2, 'gaynor': 1, 'oktaviana': 1, 'devi': 1, 'hukjz1wt36': 1, 'rookiebluetv': 1, 'rookieblue_abc': 1, 'mperegrym': 1, 'captors': 1, 'recluse': 1, '0q040stkcv': 1, 'driverless': 3, 'zeartxboft': 1, 'stylishly': 1, 'au3dbci7nf': 1, 'bovjrf62t7': 1, 'separated': 1, 'pizzeria': 1, 'kgswhsr7mn': 1, 'teamsurvivors': 1, 'zombiefunrun2014': 1, 'mochichiiiii': 1, 'hikagezero': 1, 'ww': 1, 'wew': 1, 'wildestsdream': 1, 'idkidk': 1, 'purchases': 1, 'definition': 1, 'sgm': 1, 't34': 1, 'psz22ky0fm': 1, 'ddnewslive': 1, 'nitishkumar': 1, 'arvindkejriwal': 2, 'narendramodi': 2, 'zeros': 1, 'adriennetomah': 1, 'autoinsurance': 2, 'clueless': 2, 'healthinsurance': 1, 'ydetwgribk': 2, 'driverlesscars': 1, 'lanparty': 1, 'superpower': 1, '2025': 1, 'buchana': 1, 'emtwirknyq': 1, 'm9k08oazve': 1, 'navigating': 1, 'fastest': 1, 'thedailyshow': 1, 'mahalo': 1, 'nui': 1, 'loa': 1, '20s': 1, 'holomua': 1, 'thoutaylorbrown': 1, 'drawn': 8, 'taaylordarr': 1, 'pnssia5e46': 1, 'lsvsyspdxx': 1, 'bombeffects': 1, 'scofield': 1, 'hotbox': 1, 'sona': 1, 'miracle': 1, 'rainstorms': 1, 'xegntxnh3b': 1, 'pompey': 1, 'thesmallclark': 1, 'trigger': 1, 'zigdpacq5b': 1, 'dreamland': 1, 'babypicturethis': 1, 'flights': 2, 'bucket': 1, 'presentations': 1, 'daubt': 1, 'chubychux': 1, '71vdjhjnwv': 1, 'rjkrraj': 1, 'karnakarank': 1, 'vimvith': 1, 'wud': 2, 'thalapathi': 1, 'destination': 1, 'citymapper': 1, '390': 2, 'keira8ma3k': 1, 'sessions': 1, 'klitschko': 1, 'jszzqst3xs': 1, 'justgetawayx': 1, 'om': 1, 'pleased': 1, 'makinmemories': 1, 'gm8p0bd8mt': 1, '2am': 1, 'bonsai': 1, 'jid4ro34gb': 1, 'natgeo': 1, 'tsutomi': 1, 'yamaguchi': 1, 'otd': 1, 'daalpenzp0': 1, 'xsx26oo16s': 1, 'chronicillness': 1, 'mylifestory': 1, 'fyjwjdkm5i': 1, 'livin': 1, 'zoom': 1, 'achievements': 1, 'x7r2lnjsh8': 1, 'pow': 1, 'talked': 1, 'sudkk1weez': 1, 'pixeljanosz': 1, 'angelheartnight': 1, 'thr': 1, 'thrarchives': 1, '1928': 1, 'wpkl2qniqw': 1, 'bd52fxdvhq': 1, 'duchovbutt': 1, 'starbuck_scully': 1, 'madmakny': 1, 'davidduchovny': 1, 'plotted': 1, 'ritual': 1, 'iniqzfyioi': 1, 'l3y3x2cats': 1, 'ibg4ynjsw8': 1, 'bbcwomanshour': 1, 'setsuko': 1, 'thurlow': 1, 'cvjyml7krm': 1, 'fph01u3eiiâ': 1, 'juliepower': 1, 'j2s4ng7wgt': 1, 'croakeyblog': 1, 'qmif0blwoa': 1, 'l6pif3lpen': 1, 'haunting': 7, 'a4h2e5xhik': 1, 'glzmgbm7w0': 1, 'tricycle': 1, 'ljeryhitwh': 1, 'xtvrjmrres': 1, 'ndvlapjvql': 1, 'zendvsgymd': 1, 'incubusband': 1, 'thematthewcooke': 1, 'survivorsguidetoearth': 1, 'incubustour2015': 1, 'qw5xcxenrd': 1, 'metastatic': 1, 'colorectal': 1, '5yl4dc1tqt': 1, 'humanityi': 1, 'apologized': 1, 'nuclearweapons': 1, 'twykzn4rlc': 1, 'coppednews': 1, 'wx11d69gez': 1, 'kotowsa': 1, 'sudanâ': 1, 'mexwohd3tg': 1, 'gb46fid2we': 1, 'praro2owia': 1, 'e7shtylbnl': 1, 'aya': 1, 'kanoâ': 1, 'kcx9w2ej8a': 1, 'ac50jw3xmw': 1, 'yogal700': 1, 'thejournal_ie': 1, 'lã': 1, 'niamh': 1, 'takgauq6pd': 1, 'ijobz3mzp0': 1, 'mithitennis': 1, 'crackedgem': 1, 'orlando': 1, 'shanghai': 4, 'ghetto': 2, 'reunite': 2, 'f8pe52zeyx': 1, 'n8f2dxvdud': 1, 'lqd1wefpqd': 1, 'ggnbvzohwu': 1, 'bums': 1, 'bowel': 1, 'womensweeklymag': 1, 'qjba3etfhv': 1, 'pcjbvrs7xw': 1, 'molecularly': 1, 'lungcancer': 1, 'twi3pym7us': 1, 'qt8jmd9pi1': 1, 'violators': 1, 'improved': 1, 'hurled': 1, 'nuked': 1, 'kdh4evywpt': 1, 'uo8grdauat': 1, 'uvm975yha2': 1, 'dannic': 2, 'remake': 1, 'flp': 1, 'flp_family': 1, 'ygvmztp1rt': 1, 'syedihusain': 1, 'penelopephoto': 1, 'qfinwd7ls7': 1, 'arovolturi3000': 1, 'xkafgsgmz5': 1, 'thenerdsofcolor': 1, 'georgetakei': 1, 'narrates': 1, '33rfrc7zqt': 1, 'progessive': 1, 's3jhxidslz': 1, 'fedporn': 1, 'absurd': 1, 'satire': 1, 'indistinguishable': 1, 'faceless': 1, 'sisterâ': 1, '918eqmtkrl': 1, '1ki8lgvay4': 1, 'schoolgirls': 1, '32izxxrudp': 1, 'documentary': 1, 'narrated': 1, 'parter': 1, 'lawfulsurvivor': 1, 'holed': 2, 'glenn': 2, 'morales': 1, 'andrea': 1, 'jacqui': 1, 'merle': 1, 'stemming': 1, 'cubs': 2, 'rosters': 1, 'arizzo44': 1, 'jlester34': 1, 'xgnjgle9eq': 1, 'nof8f0rscb': 1, 'wj7ujfs8fd': 1, 'haley': 1, 'richardson': 1, 'oobscfoktq': 1, 'isabel': 1, 'hodgins': 1, 'danny': 2, 'miller': 1, 'laura': 2, 'norton': 1, 'charnock': 1, 'behindthescenes': 1, 'qukpvpwrfv': 1, 'ii4ewe1qir': 1, 'h3vusqzyqo': 1, 'handed': 5, 'ffbnluiy0f': 1, 'timesofindia': 3, 'bbcnewsasia': 1, 'sponsored': 1, 'judges': 1, 'radicalisation': 1, 'egwu4mjv0a': 1, 'h6amecx5k7': 1, 'quran': 10, 'b8iwrdxcm0': 1, 'news786': 1, 'islamist': 1, 'anjem': 1, 'choudary': 1, 'u7bbenxwyk': 1, 'kteqjrxzpc': 1, 'yzxlqemkpf': 1, 'robpulsenews': 1, 'huyovoetripolye': 1, 'ldnr': 1, 'xwnjysv9v9': 1, 'nxs3z1kxid': 1, 'udkmadkuzy': 1, 'preacher': 1, 'daplllfuqk': 1, 'sneaks': 1, '1w58ehv9s1': 1, 'p8ih0hni3l': 1, '2y5morpugt': 1, 'democracyâ': 1, 'dawabsha': 1, 'erode': 1, 'homegrown': 1, 'q8n5tn8wme': 1, 'bejftygjil': 1, 'jlczidz7vu': 1, 'explores': 2, 'rayner': 2, 'utc7pdidfo': 1, 'newsarama': 2, 'udj50j3mv4': 1, 'ctd': 2, 'orangi': 1, 'sindh': 1, 'le4brduau9': 1, 'gevrmbvznb': 1, 'appraisal': 2, 'pakistanâ': 2, 'aeru3nstpn': 1, 'diretube': 1, 'fightã': 1, 'v6ijxccd2i': 1, 'ysxhfwmgod': 1, 'glzggdjqeh': 1, 'mytcbj6nmh': 1, 'combating': 1, 'terrorismturn': 1, 'vfp': 1, 'yppg4kzips': 1, 'cbfdi6lf2x': 1, 'catholicism': 1, 'homophobia': 1, 'nvgnf9acuu': 1, 'jihadi': 1, 'proto': 1, 'd5h4jif1y3': 1, 'chattanooga': 4, 'terrorismâ': 1, 'u8rgb51d22': 1, '2tnu95vgfe': 1, 'ajpbdcalew': 1, 'ifs': 1, 'ands': 1, 'buts': 1, 'hfgjgfgfel': 1, 'incitement': 1, 'beinart': 1, 'ot2oooedts': 1, 'hr88cwxpgz': 1, 'urges': 2, 'critics': 2, 'r0w85x3b0z': 1, 'vuuqqbo6mp': 1, 'adamnibloe': 1, 'jkdjh2zw8s': 1, 'zfdcwv4ch0': 1, 'supporter': 1, 'kix1j4zygx': 1, 'pi6qn7y7ql': 1, 'mvn6t9vhul': 1, '7lufjx684i': 1, '2y4rgob7pj': 1, 'mves6vssyn': 1, 'unity': 2, 'hhpvpael4n': 1, 'p5zicjudxo': 1, 'kzhb8zx6yc': 1, 'daggy1': 1, '1980s': 1, 'negotiating': 1, 'eqjcpwilvn': 1, 'initiative': 1, 'k44tl3rfmy': 1, 'ipt0honoti': 1, 'n1k5nlib9x': 1, 'cgz84muocz': 1, 'szeapueuvy': 1, 'mrospd9878': 1, '4zqrsaqrrt': 1, '6ar3ukvsxw': 1, 'uiqsfgzoox': 1, 'naved': 5, '0fs9ksv5xk': 1, 'lubrication': 1, 'metrofmtalk': 5, 'officialmqm': 1, 'convivted': 1, 'nia': 2, 'quizzed': 2, 'denies': 2, 'i3glzabegl': 1, 'haaretz': 2, 'mwd1ipmowt': 1, 'mohammed': 2, '3mtwh0jjns': 1, 'pulwama': 2, 'm5rjekvddp': 1, 'f7wqpcekg2': 1, 'oef123l5rc': 1, 'vsoxkbt6nq': 1, 'fy30fv0qbx': 1, 'ogzjokd7sv': 1, 'elections': 1, 'achedin': 1, 'lupe': 1, 'bjpsamvad': 1, 'warra': 1, 'rahulkanwal': 1, 'jammu': 2, 'cwgcciw3v6': 1, 'disowned': 1, 'disowns': 1, 'anâ': 1, 'hgdrk81sn4': 1, 'polls': 1, 'unborn': 1, 'mothers': 1, 'spared': 1, '3skw0dqz0r': 1, 'kasabwe': 1, 'biryani': 1, 'overnight': 5, 'j5mkcbkcov': 3, 'faisal': 1, 'devji': 1, 'extremists': 1, 'sympathyonlf': 1, 'affiliated': 1, 'shabab': 1, 'ph2xli8nve': 2, '22fuxhn7el': 2, 'tltltltltlttlt': 1, 'p_grolsh': 1, 'gymnastics': 2, 'wololo': 1, 'shipsxanchors': 1, 'roles': 1, 'ximpnczxth': 1, 'whom': 1, 'tht': 2, 'bldy': 1, 'swiftycommissh': 1, 'taoistinsight': 1, 'immortaltech': 1, 'killin': 1, 'bstrd': 1, 'takig': 1, 'sculrismfinis': 1, 'mccainâ': 1, 'whoops': 2, 'photographed': 1, 'isisâ': 1, 'jnromse1z2': 1, 'acmilan': 1, 'w6yu7qs4cv': 1, 'u4gsbnu8wc': 1, 'deres': 1, 'anoder': 1, 'contingency': 1, 'mvhjselv5z': 1, 'layers': 2, 'su4zvwadj7': 1, 'congi': 1, 'presstitutes': 1, 'sympathising': 1, 'udhampuragain': 1, 'regajha': 1, 'sethiankit': 1, 'perturbs': 1, '6ndherpbot': 1, 'lovemywife1983': 1, 'shedid': 1, '4the': 1, 'washard': 1, 'acquire': 2, 'traitor': 1, '9tyucdwh3g': 1, 'alipaper': 1, 'keepingtheviginaclean': 1, 'threatconnect': 1, 'hrl4xnj9k7': 1, 'dfir': 1, 'threatintel': 1, 'szuniverse': 1, 'slowed': 1, 'devices': 2, 'pose': 1, 'lawmakers': 1, 'kz240r8qp9': 1, 'bqzhpjotf5': 1, 'cider': 1, 'exploding': 2, 'bottles': 1, 'oxgefsof2b': 1, 'te5tdlyimn': 1, 'kinggerudo_': 1, 'moblin': 1, 'barrel': 1, 'c8yyuwmefg': 1, 'bsmz4qllbn': 1, 'duh': 1, '7paovyzttw': 1, 'generational': 2, 'schismâ': 1, 'privacy': 2, 'dqtmtpqmbr': 1, 'dmsnyptscy': 1, 'bhusa': 1, 'islamaphobe': 1, 'hwnyxxkczz': 1, 'dma5': 1, 'definite': 1, 'crown': 1, 'drakeâ': 1, 'qqskybarng': 1, 'prescient': 1, 'tropic': 1, 'comedies': 1, 'illusoria': 1, 'icarus': 1, 'e2wgreicmz': 1, 'ws': 1, 'darshanravaldz': 1, 'xvrbkvannu': 1, 'playingnow': 1, 'bloodbound': 1, 'dly6ruusqk': 1, 'kristyleemusic': 1, 'b7zwevsrgo': 1, 'devinjoslyn': 1, 'types': 2, 'etuuyislhw': 1, 'atl_events': 1, 'convection': 1, 'spits': 1, 'nlwx': 1, 'lightumupbeast': 1, 'goddess': 1, 'perk': 1, 'nas': 1, 'praamâ': 1, '_ius': 1, 'dievas': 1, 'originalfunko': 2, 'spencers': 2, 'buddys': 3, 'waldo': 1, '12u': 1, 'cooperstown': 1, 'joestrong': 1, 'gokitgo': 1, 'esk4yvzvap': 1, 'heheh': 1, 'interrupted': 1, 'frequent': 1, 'uptown': 1, 'midtown': 1, 'kqjevyqzlv': 1, 'cn': 1, 'hmwhob7prs': 1, 'slqnph34nt': 1, '8960': 1, 'driller': 1, 'boxed': 1, 'torrential': 1, 'relaxing': 1, 'soothmyslumber': 1, 'watermeloann': 1, 'populardemand': 1, 'thewebbeffect19': 1, 'f0qirs5lja': 1, 'fatloss': 1, 'czcc7nieox': 1, 'wc': 1, 'os1wjrvx5c': 1, 'weebly': 1, 'bolts': 1, 'mkmsv54ev2': 1, 'l9udest': 1, 'asimtanvir': 1, 'nemesisk_pes': 1, 'kevr_7': 1, 'sheeting': 1, 'aaaaaand': 1, 'mama': 5, 'essenceofme': 1, 'gloomy': 1, 'shakes': 3, 'x4ecggvnsn': 1, 'flowers': 2, 'icouldsitinthismomentforever': 1, 'durant': 2, 'adidas': 1, 'swingman': 1, 't81oayjowc': 1, 'ithats': 1, 'trashcans': 1, 'rumbling': 1, 'haydnexists': 1, 'didnâ': 1, '2hv2y2m2oz': 1, 'lorr': 1, 'noah': 1, 'usnwsgov': 3, '40pm': 2, 'tq1ruqd4lg': 1, '31pm': 1, 'h9i6mozask': 1, 'oun': 3, 'bti8jamfiu': 1, 'deer': 1, '05th': 2, 'zriyna6f6m': 1, 'myswc': 1, '38pm': 2, 'epzgg4uqji': 1, 'museawayfic': 1, 'beenghosting': 1, 'xylodemon': 1, 'rachelrofe': 1, '5cwuylnfum': 1, '1tyyqfz13d': 1, 'continued': 4, 'tryin': 1, 'settling': 1, 'okc': 1, 'k2gjbok6ft': 1, 'gsp': 2, 'portions': 3, 'northeastern': 2, 'pickens': 8, '1115': 2, 'greater': 3, 'mountainâ': 2, 'ir3oxeh7id': 1, 'buren': 1, 'kjsvw06gbv': 1, 'iyq8gf437p': 1, 'inws': 1, 'spsgsp': 1, 'ldcwkyuaff': 1, 'livingsafely': 5, 'fwqfckncqw': 2, 'kimr0l24fb': 1, 'cest': 1, 'fforecast': 1, '61': 1, '33pm': 1, '1eof1wxnpj': 1, 'skywarn': 1, 'do6h2pvub4': 1, 'russellville': 1, 'clarksville': 1, 'dardanelle': 1, 'n844h1aspj': 1, 'ulqer1ytpx': 1, 'kea5l3b1ae': 1, 'rsdkwzrc8g': 1, 'vivaargentina': 1, 'pea': 1, 'scwx': 1, 'tsaletftkt': 1, 'oim6po8xcu': 1, 'choctaw': 1, 'ogxsy4gwd1': 1, 'uzwlgjqzns': 1, 'he4qh2i5wf': 1, 'lethbridge': 1, 'yqyiwjn8ez': 1, '1145': 1, 'mjstefggu5': 1, 'helsinki': 1, 'lightningstrike': 1, 'helsinkiâ': 1, 'rjjxucx5pm': 1, 'mainly': 1, 'cloudy': 1, '7huen4rwrn': 1, 'ocd': 1, 'soonergrunt': 1, 'brrookkllyynnr': 1, 'chadbourn': 1, 'gas4ss3dks': 1, 'zlhvyartcu': 1, 'tornadogiveaway': 3, 'thebookclub': 2, 'ljomctuzfy': 1, '2zgvslox5p': 1, 'ticklemeshawn': 1, 'evebrigid': 1, 'lily': 1, 'xo': 1, 'courtney': 1, 'laudner': 1, 'goode': 1, 'championships': 1, 'pgkbt3mbap': 1, '12pm': 1, 'ayfdjeb7hy': 1, 'sundayâ': 1, 'ffnzit7kgn': 1, 'singapore': 1, 'cookbook': 1, 'rgam3eqown': 1, 'x6zjpzb8up': 1, 'juicy': 1, '29pm': 1, 'o8x4m5er6b': 1, 'itnkbxgwlh': 1, 'lexi': 1, 'belle': 1, 'sakhalintribune': 1, 'eastward': 2, 'dg0ecbykjl': 1, 'hammer': 1, 'headlinesapp': 1, '44pm': 1, 'bviyy8bmsb': 1, 'superman': 1, 'slowpoke': 1, 'poc': 1, 'saam': 1, 'olilafont': 1, 'mythology': 1, 'izghpyqko4': 1, 'xaibgo445o': 1, 'x8zqbwnfo1': 1, 'zqmzai8yiz': 1, 'woken': 1, 'y8h5v1j2y7': 1, 'marquisdespade': 1, 'yer': 1, 'hymn': 1, 'abba': 1, 'tornado_chick': 1, 'kunalkapoor': 1, 'chaser': 1, '4wjy7sehmw': 1, 'pod': 1, 'heather': 1, 'ava': 1, 'sparxxx': 1, 'brunette': 2, 'stretches': 1, 'victorian': 1, 'sofa': 1, 'sarahnandola': 1, 'libertyville': 1, 'rebelmage2': 1, 'reference': 1, 'heller': 1, 'marley': 1, 'brinx': 1, 'striptease': 1, 'pounding': 2, 'dead_last': 1, '8qucf6sgoc': 1, '5u1t8hc4uf': 1, 'distinct': 5, 'rotation': 1, 'condenses': 1, 'mcv': 1, 'fd9dzspugk': 1, 'lo': 1, 'ayshun_tornado': 1, 'giselle': 1, 'endâ': 1, 'st9jpz8y24': 1, 'amanda': 1, 'p4kofytkdx': 1, 'izjk6kpwiz': 1, 'toocodtodd': 1, 'wyattb23': 1, 'homers': 1, 'tulowitzki': 1, 'poses': 1, 'strips': 1, 'recount': 20, 'ttb9oil8r2': 1, 'soulja': 1, 'maaaaan': 1, 'plunging': 18, 'kixrcbnjls': 1, 'enjoltair': 1, 'gajtugaui7': 1, 'phfoeozyps': 1, '72ix7vm87w': 1, 'sorrowful': 1, 'redemption': 1, 'platt': 1, 'forâ': 2, '86v81dv00e': 1, 'calk5nv5vc': 1, 'homeworldgym': 1, 'thisisperidot': 1, 'tedmed': 1, 'weisberg': 1, 'gat': 1, 'statistic': 1, 'kampx4eos9': 1, 'monica': 1, 'railways': 2, 'abortions': 2, 'theocracy': 1, 'qiks2futb1': 1, 'mindfulyoga': 1, '5tpz7lollx': 1, 'hugger_mugger': 1, 'mhif6mpnts': 1, 'owe': 1, 'apology': 1, 'vulnerableâ': 1, 'ub1jzskmrc': 1, 'toiindianews': 1, 'ofcourse': 1, 'caued': 1, 'washing': 1, 's43we7oe2i': 1, 'vscpgmsjxy': 1, 'tanehisicoates': 1, 'laced': 1, 'monologue': 1, 'charlize': 1, 'coulda': 1, 'tbr': 1, 'browsing': 1, 'homepage': 1, 'wk63tm34a0': 1, 'remedyyyy': 1, 'sriramk': 1, 'dlin71': 1, 'ownership': 1, 'eyorbmf3o3': 1, 'itss_selenaluna': 1, '0xh758onup': 1, 'jiwa': 1, 'loepkbs38j': 1, 'bdlqasd0wb': 1, 'bonded': 1, 'car5qeuvhh': 1, 'gagnon': 1, 'imposing': 1, 'hipklxphnp': 1, 'myâ': 1, 'gdjtzkpchk': 1, 'cspamwto6t': 1, 'awwg8knmzg': 1, 'gunning': 1, 'heartache': 1, 'jhupogbvs8': 1, 'hr4gnygsic': 1, 'zkgqspwyj3': 1, '21hsrrqzou': 1, 'xtljz7bjgl': 1, 'hirochii0': 1, 'and1btizao': 1, 'ariana': 1, 'grande': 2, 'csaresu': 1, 'sdmrzgeryx': 1, 'laurae303b': 1, 'sheilagunnreid': 1, 'yezidi': 1, 'leitchfield': 1, 'bella': 1, 'rosalie': 1, 'sponsorships': 1, 'ajay0snplg': 1, 'almusafirah_': 1, 'suvs': 1, 'dickheads': 1, 'prettyboyshyflizzy': 1, 'fkxcsztezb': 1, 'chile': 22, 'starring': 5, 'kk8cnppzmk': 1, 'onihimedesu': 1, 'explosive': 1, 'tween': 1, 'quell': 1, 'introvert': 1, 'battleroyalemod': 1, 'teleported': 1, 'somewhere': 2, 'decides': 1, 'yeljpqhmed': 1, 'r18autnlsd': 1, 'cnqae9foj6': 1, 'billionaires': 1, 'blakeschmidt': 1, 'gbqtc7sp9c': 1, 'westie': 1, 'believes': 1, 'awzonryc9y': 1, 'hwj7gwavvb': 1, 'eudrylantiqua': 2, 'holly': 2, 'us1dmdxzvb': 1, 'victorious': 1, 'rv': 1, 'teambrianmundial': 2, 'ama6avulna': 1, 'santiago': 2, 'hollyw': 1, 'c22ecvl4hw': 1, 'exqkmlg4nj': 1, 'remodeled': 1, 'dramaa_llama': 1, 'lilourry': 1, 'stan': 1, 'zarry': 2, 'narry': 1, 'qkrltrd39b': 1, 'slrqxcrls': 1, 'n3i79qlbss': 1, 'grlxurko8d': 1, 'x8moyevjsj': 1, 'binnjwobtu': 1, 'fk1vyh5qlk': 1, 'boyinahorsemask': 1, 'tyyfg4qqvm': 1, '0ajisa5531': 1, 'hugomatz': 1, 'lilithsaintcrow': 1, 'eswnsetftf': 1, '0f8xa4ih1u': 1, 'razfkxbhmn': 1, 'mottas': 1, '5jqmwaf6vp': 1, '3yu26v19zh': 1, 'jjl89f9o3v': 1, 'pandamoanimum': 1, 'duly': 1, 'involuntary': 1, 'wince': 1, 'holibobs': 1, '1961': 1, 'wozni': 1, '7rr4lo1lfw': 1, 'iolofaphsv': 1, 'trapping': 1, 'jetsetextra': 1, 'circumstances': 1, 'jsett': 1, 'xe0ee1fzfh': 1, 'lavenderpoetrycafe': 2, 'encoded': 1, 'sensory': 1, 'cognitive': 1, 'dmb6xp966d': 1, 'divorce': 1, 'mdacuj9w1q': 1, 'addicts': 1, 'defensive': 1, 'decreases': 1, 'vulnerability': 1, 'mme_austin': 1, 't6fuahfp7p': 2, 'hempoil': 3, 'cannâ': 1, 'rhe7dxm7ey': 2, 'knbv2ytnwc': 1, 'qz': 2, 'taraswart': 1, 'vivian_giang': 1, 'nissannews': 1, 'a1a': 1, 'bing': 1, '9dwyjqvfy4': 1, 'sickmund': 1, 'ncjfcj': 2, 'byrne': 1, 'nat': 1, 'clevelâ': 1, '1rzxqpugfg': 1, 'raabchar_28': 1, 'drphil': 1, 'morganlawgrp': 1, 'inflict': 1, 'consistent': 1, 'dimensions': 1, 'agdq': 1, 'kororinpa': 1, 'marble': 1, 'tloz': 1, 'oracle': 1, 'metroid': 1, 'fjwqdthaih': 1, 'crazyindapeg': 1, 'vets78734': 1, 'understandable': 1, 'ptsdchat': 2, 'ptsd_chat': 1, 'unaddressed': 2, 'counciling': 1, 'newauthors': 1, 'gxq1auhzcy': 1, 'eighty': 2, 'spe7u8t40k': 1, 'affliction': 1, 'u2es0uk1u3': 1, 'maimonides': 1, 'rts30zuvht': 1, '0dqjeretxu': 1, 'mountsinainyc': 1, 'beingtweets': 1, 'susancares2x': 1, 'onbeingwithkristatippett': 1, 'extraordinaire': 1, 'rosenthal': 1, 'communicate': 1, 'gravitychat': 1, 'ashghebranious': 1, '60s': 1, 'trans': 1, 'thetimepast': 1, 'saalon': 1, 'resolved': 1, 'theirs': 1, 'fricken': 1, 'cannabis': 2, 'marijuanaâ': 1, 'intragenerational': 1, 'sandra': 1, 'bland': 1, 'zweygphpf7': 1, 'haircuts': 1, 'minimal': 1, 'arobotlegion': 1, 'oppressed': 1, 'keithboykin': 1, 'randallpinkston': 1, 'pozarmy': 1, 'gxq1auzb18': 1, 'vhmbn4bn0b': 1, 'parent': 1, 'fmj8mxjy8a': 1, 'usg': 1, 'paeds': 1, 'imaging': 1, 'foamed': 1, 'foamcc': 1, 'angstattack': 1, '5prq6fve5z': 1, 'marijuananews': 1, 'hcvbwtklmt': 1, 'wvq0rf6uam': 1, 'partially': 1, 'rav8imvvzb': 1, 'gutted': 1, 'fracture': 1, 'clinic': 1, 'gnr': 1, 'sageuk': 1, 'wa3siutoi0': 1, 'mustachemurse': 1, 'dateswhitecoats': 1, 'mocked': 1, 'simmering': 1, 'pioneerpress': 1, 'zl7fhucxhl': 1, 'ptlgpqqeuq': 1, 'refill': 1, 'tourniquet': 1, 'ipok': 1, 'wrxwca35ez': 1, 've0vxvjokz': 1, 'uchicago': 1, 'faculty': 1, 'ta1yqclpsc': 1, 'xtohi1hexy': 1, 'aims': 1, '1922': 1, 'grdebwx70f': 1, 'judithabarrow': 1, '0ocrotmkhm': 1, '2zgrvnmdw9': 1, 'defines': 1, 'perpetrators': 1, 'oneborn': 1, 'parisian': 1, 'ruddyyyyyy': 1, 'jamiegriff97': 1, 'jamie': 1, 'vzgslepkkh': 1, 'spell': 2, 'annmarieronan': 1, 'niamhosullivanx': 1, 'tat': 1, 'makoto': 1, 'dub': 2, 'pyramidhead76': 1, 'ianokavo96': 1, 'tremendoustroye': 1, 'orphanage': 1, 'dja4relcns': 1, 'mprnews': 1, 'yessum': 1, 'stare': 2, 'perkpearl': 1, 'vienna_butcher': 1, 'royale': 1, 'jamesbond': 1, 'wrongdejavu': 1, 'malabamiandsons': 1, 'michellemccann': 1, 'dawg': 1, 'huddling': 1, 'david_williamso': 1, 'disneyirh': 1, 'tatzfk63ch': 1, 'snapchatselfie': 1, 'wrongperson': 1, 'emily4everever': 1, 'efg8rth9rb': 1, 'jude_mugabi': 1, '_keits': 1, 'liva_gotta': 1, 'understandâ': 1, 'ciaramckendry': 1, 'renewed': 1, 'agqo1479xm': 1, 'tanishaa_': 1, 'measly': 1, '3million': 1, 'lisajdavidson1': 1, 'nataliealana87': 1, 'westendshiv': 1, 'fringe': 1, 'vickybrush': 1, 'topic': 1, 'kushwush': 1, 'hogging': 1, 'sunakawa': 1, 'cwheate': 1, 'lovestheworld55': 1, 'semimooch': 1, 'dandoherty_': 1, 'tomcenci': 1, 'hrwright': 1, 'ibautumn': 1, 'megancoopy': 1, 'laurathorne97': 1, 'mesqtvdu63': 1, 'argentaelite': 1, 'brookesddl': 1, 'titusoreily': 1, 'varagesale': 1, 'candace_dx': 1, 'shaznlmsfe': 1, 'rotations': 1, 'leaning': 1, 'learni': 1, 'wgl4lubnw1': 1, 'lucysforsale': 1, 'hiss': 1, 'edsa': 2, 'cubao': 2, 'occupied': 2, 'afrikaan': 1, 'preorder': 1, 'thebargain': 1, 'uml5jztmcb': 1, 'canagal': 1, 'boonew': 1, 'boonewâ': 1, 'doubleâ': 1, 'plâ': 1, 'midi': 1, 'badastronomer': 1, 'farther': 1, 'noel': 1, 'smoak_queen': 1, 'hrnzku66mm': 1, 'jusstdoitgirl': 1, 'wbu': 1, 'tribulation': 1, 'yltkawhf9o': 1, 'comcastcares': 1, 'happing': 1, 'wrld': 1, 'a5bkmsasje': 1, 'sauntered': 1, 'fred': 1, 'shallwedance': 1, 'summerunderthestars': 1, 'tcmparty': 1, 'bribe': 1, 'efcc': 1, 'operatives': 1, 'obchpsmhdo': 1, 'annajhm': 1, 'jcomanse': 1, 'paul_staubs': 1, 'rslm72254': 1, 'blanktgt': 1, 'fartanxiety': 1, 'ryans': 1, 'adip0unxhu': 1, 'boyd': 1, '3ugfpwmy2x': 1, 'detroitnews': 1, 'mqydxrlae7': 1, 'epjjkb4be9': 1, 'juliekragt': 1, 'wildwestsixgun': 1, 'stable': 1, 'buffett': 2, 'sectors': 2, 'j4dqpflmkr': 1, 'mouna': 1, 'caaaaaall': 1, 'niallhariss': 1, 'simply_vain': 1, 'iahjj0agq6': 1, 'modcloth': 1, 'dnkkyifsvt': 1, 'cspan': 1, 'nikki': 1, '_charleyisqueen': 1, 'barber': 1, 'egg': 1, 'trashed': 1, 'kerrykatona7': 1, 'bak': 1, 'tj_robertson2': 1, 'charlieputh': 1, '4wa9cms3cz': 1, 'yo3t8qho9h': 1, 'nkulw': 1, '8odtzmvqar': 1, 'astros': 1, 'stunningly': 1, 'pitcher': 2, 'bats': 1, 'mia': 1, 'princeoffencing': 1, 'frickin': 1, 'corcoran30': 1, 'kmurphalurph': 1, 'greatâ': 1, 'ds7ms8g1yr': 1, 'motivated': 1, 'donnelly': 1, 'puth': 1, 'redditâ': 1, 'ws0xohnb7v': 1, 'xaermbmvlv': 1, 'kian': 1, 'pretended': 1, 'ashniggas': 1, 'tink': 1, 'nopower': 1, 'helene_yancey': 1, 'helene': 1, 'team0epiphany': 1, 'kui6ig2epz': 1, 'mods': 1, 'freefromwolves': 1, 'baan': 1, 'thai': 1, 'sushi': 1, 'udp10frxrl': 1, 'thediyhacks': 1, 'illusionimagess': 1, 'h6t4x1evtx': 1, 'terrif77': 1, 'bbshelli': 1, 'crptotech': 1, 'banks': 1, 'khztevedja': 1, 'banking': 1, 'bitcoing': 1, 'blockchain': 1, 'ukqybhxmqi': 1, 'idws2zgysa': 1, 'optical': 1, 'illusion': 1, 'switzerland': 1, 'eyevziopg1': 1, 'wasabi': 1, 'tjyyft6nv0': 1, 'borgeous': 1, 'arceen': 1, '743joqazrt': 1, 'ia44nczlif': 1, 'ogtuv1plht': 1, 'snowman': 1, 'tsunami_esh': 2, 'tyewzf3hqa': 1, 'trends': 1, 'sjh0hsrp4s': 1, 'y518jyrzav': 1, 'tsunami_nopeach': 1, 'slone': 1, 'ripples': 1, 'clears': 1, 'author_mike': 1, 'tides': 2, 'eyesss': 1, '18aasfmvbl': 1, 'ghosts': 2, 'walktrough': 1, '1rreo2jg9u': 1, 'dang': 1, 'stlcards': 1, 'ta7lplays': 1, 'twitch_bang': 1, 'maliceqt': 1, 'zelse007': 1, 'rhyareegaming': 1, 'dougiedabandit': 1, 'kamunt': 1, 'nostalgia': 2, 'youuu': 1, 'sphere': 1, 'kwlpfqrbvp': 1, '0h7oua1pns': 1, 'campanha': 1, 'brinco': 1, 'nxkum9h7wd': 1, 'bbmeg': 1, 'eric_tsunami': 1, 'o5gbpbqh': 1, 'mn5wnxf0': 1, 'hope4japan': 1, 'pray4japan': 1, 'alil': 1, 'twister': 49, 'gail': 1, 'russell': 1, 'dalroy': 1, '3vfkedgrso': 1, '964dk4rwwe': 1, 'notherâ': 1, '950': 1, 'tumbles': 1, 'todayi': 1, 'sweeps': 1, '1061thetwister': 2, 'maddie': 1, 'tae': 1, 'oktxduo': 1, 'homefolks': 1, 'opinionated': 1, 'proposal': 1, 'modernized': 1, 'omw': 1, 'parson': 2, 'parse': 2, 'woodchucks': 2, 'friend59': 1, 't94lnfwf34': 1, 'rocyyei2dm': 1, 'sharper': 1, 'viper': 1, 'hardside': 1, 'fxk3zsj2pe': 1, 'qct6fb8won': 1, 'quezon': 2, 'ehjv0gvo47': 1, 'pzjcrnrbsr': 1, 'structuring': 1, 'edcxo': 1, 'dunking': 1, 'lizjillies': 1, 'sarahmcpants': 1, 'justjon': 1, 'otto': 1, 'reggie': 1, 'outbid': 2, 'lbpx8bucnv': 1, 'catlow': 1, 'c720': 1, 'swivels': 1, '3dc': 1, 'shar': 1, 'recentlu': 1, 'oneself': 2, 'discount': 1, 'redesigning': 1, 'itrawcwb': 1, '3geroq49o1': 1, 'riser': 1, 'dierks': 1, 'bentley': 1, 'iheartradio': 1, 'zqoscqd64h': 1, 'ylvvf139bb': 1, 'bulgarian': 1, 'tittie': 1, 'noemotion': 1, 'edk': 1, 'pathfinders': 1, '9odqryjncf': 1, 'ellenfromnowon': 1, 'nexus': 1, 'shifter': 1, 'rjpjbwvfck': 1, 'toosoon': 1, '7ifpmfssmu': 1, 'friend50': 1, 'hy5pbe12tm': 1, 'c1njpli5or': 1, 'briannafrost': 1, 'paxton': 1, 'helen': 1, 'carolinagutierr': 1, 'sticking': 1, 'ttq9ilhp8w': 1, 'hew': 2, 'cj76k0yayj': 1, 'boost': 1, 'agycutkbnn': 1, 'elianaraquel': 1, 'wilden': 1, 'llegaste': 1, 'tu': 1, 'kady': 1, 'm6x1': 1, 'thread': 1, 'sqpshaws0w': 1, 'udlebh88uz': 1, 'bcsxyec4ji': 1, 'dfxi76kvx0': 1, 'bamagaga': 1, 'kipmooremusic': 1, 'skv3o4teni': 1, 'rodarmer21': 1, 'dolla': 1, 'potter': 1, 'oj5cubshgz': 1, 'mrsbinker': 1, 'emiliorivera48': 1, 'davidlabrava': 1, 'breed': 1, 'pug': 1, 'shortest': 1, 'thebuffshow': 1, 'thetwisterokc': 1, 'shaniatwain': 1, 'twisterlovesshania': 1, 'o61h2taae4': 1, 'curls': 1, 'repped': 1, 'milne': 1, 'thejonesesvoice': 1, 'liguistic': 1, 'jrlallo': 1, 'narrator': 1, 'chemically': 1, 'lavatory': 1, 'db5': 1, 'breaking144': 1, 'declarat': 1, 'm8ciks60bx': 1, 'acenewsdesk': 1, 'landfall': 5, 'jdvsgvhlis': 1, 'devpeace': 1, 'jwxrx1lsqo': 1, 'precipitation': 4, 'measurement': 4, 'sqn4girdvz': 1, 'makurazaki': 1, 'fmp0jsh4wx': 1, 'x3totyzaze': 1, 'hni4v2zuk3': 1, 'usvyhdg9og': 1, 'pgd7uxtvgg': 1, '20dncthr4d': 1, 'q3dtoqo04c': 1, 'territory': 2, '0ipavkjgdc': 1, 'qjuu0wcwpx': 1, 'cnmi': 1, '2slow2report': 1, 'cwzhgezaj4': 1, 'fc3bxrthpg': 1, 'biu4kowglz': 1, '3ac5wuy1r0': 1, 'igcetumkcw': 1, 'caneyttwev': 1, 'pg0bhl6fqc': 1, 'nbanews': 1, 'typhoonâ': 1, 'pc8bvuflfj': 1, 'bhzr9ugus2': 1, 'vts9cayibc': 1, 'vegetables': 1, 'gei58vhbw6': 1, 'remnants': 1, 'jxocfzkyw7': 1, 'szx1v2mk8k': 1, 'yvafi3zujx': 1, 'andã': 2, '3og66nfsig': 1, 'spies': 1, 'vbhu2t8wgb': 1, 'na2ey64vsg': 1, 'gpm': 2, 'bullseye': 2, '7vcezi6cbb': 1, 'mvsrjd4x3d': 1, 'viral': 1, 'rumblevideo': 1, 'vkf0gkz9n3': 1, '5sudxgnda3': 1, 'hsjp6hoffe': 1, 'ubak5uoi48': 1, '0xcb7yeqmw': 1, 'piveupirky': 1, '4yygb': 1, 'strongest': 1, 'uehfzteyhu': 1, 'dobzc3pitm': 1, 'sa5cdwvdxt': 1, 'sushmaswaraj': 1, 'upheaval': 40, 'buddha': 1, 'urbanisation': 1, 'brahmans': 1, 'dominance': 1, 'gzekqwzijq': 1, 'usw': 1, 'abandoning': 1, 'uncertainty': 1, 'lyeh': 1, '829n4hjhol': 1, 'fergusonâ': 2, 'g5zsru0zvq': 1, 'finale': 1, 'thegame': 2, 'newberg': 2, 'jacque': 2, 'betz': 2, 'answerâ': 1, 'lzasr05ljo': 1, 'iemxgse2be': 1, 'companionship': 1, 'chester': 1, 'chestertweetsuk': 1, 'aladdin': 2, 'braoubgec2': 1, 'awpu0gae0b': 1, 'indepth': 1, 'economies': 2, 'ayp6zvhm2a': 1, 'mayan': 9, 'hieroglyphics': 6, 'honors': 6, 'lowly': 6, 'xh4dz1gpyw': 1, 'g0hsyh7yav': 1, '0blkwcupzq': 1, 'timbering': 1, 'entryway': 1, 'fjizztxk': 1, 'bharat': 1, 'fulfill': 1, 'retired': 1, 'dgm': 1, 'nabard': 1, 'tbqsqtmqv4': 1, 'rich': 2, 'entershikari': 1, 'tt': 1, 'kettlebell': 1, 'lopez': 1, 'hindsight': 1, 'jhmnye': 1, 'roman': 1, 'gw0cxoojyv': 1, 'mgs4': 1, 'mgsv': 1, 'iffy': 1, 'foreclosed': 1, 'tejc': 1, 'jungle': 1, 'qp6q8rs8on': 1, 'buzz': 1, 'pvdrdljvc': 1, 'postexistence': 1, 'elevation': 1, 'perquisite': 2, 'brzjc': 1, '5j8vhuxzrp': 1, 'livescience': 2, 'n3aqxomubu': 1, 'permutable': 1, 'qwkd': 1, 'abcnetwork': 1, 'shondarhimes': 1, 'ellenpompeo': 1, 'hq5tdxkqhb': 1, 'im6m4xaen2': 1, 'wqikqx9e3w': 1, 'diageo': 2, 'stresses': 2, 'impacted': 3, 'gfs7usulgq': 1, 'dpgdnaoy4p': 1, '4fcjfdkdzs': 1, 'glpfu0uriz': 1, 'm4tui0p9nt': 1, 'lmumzkltln': 1, 'yebxxarybf': 1, 'srruqfffr6': 1, 'cadzxagmsi': 1, 'horoscope': 1, 'gk4unpznhn': 1, 'lyf': 1, 'qwsbvflpe1': 1, 'yb7ijktlnb': 1, 'winik': 1, 'ef4swp9sxz': 1, 'nb7maaaofs': 1, 'navigate': 1, 'audit': 1, 'je86vetdxh': 1, 'stpoda901u': 1, 'orcot': 1, 'orpol': 1, 'dazqamoo0c': 1, 'prognosis': 1, 'tpoptwmwfr': 1, 'retailers': 1, 'wocpji5uq1': 1, 'consumers': 1, 'jelxftopu5': 1, 'vxuftvt9au': 1, 'scandal': 1, 'parliamentary': 1, 'expenses': 1, 'subsequent': 1, 'sackings': 1, 'roxyunkfalls': 1, '1915': 1, 'jjns0yjala': 1, 'manayunk': 1, 'pov': 6, 'amsterdam': 7, 'nqxqyi70w4': 1, 'yx8odrrinr': 1, 'hippiexox': 1, 'cyclonic': 1, 'sumthng': 1, 'evng': 1, 'approachng': 1, 'watertown': 2, '3zasz6wxjj': 1, 'jwsllsukjg': 1, 'tyaoyepelz': 1, 'suddendly': 1, 'proclaims': 1, 's6rc7dbal1': 1, 'pounds': 1, 'bruise': 2, 'stormchase': 2, 'ef': 2, '3sicroaanz': 2, 'i27oa0hisp': 2, 'calgarysun': 1, 'dryden': 1, 'spotted': 1, 'spun': 1, 'sylvan': 1, 'w0bz0jngvb': 1, 'schiphol': 3, 'alumrgl40e': 1, '8h2kctfb8i': 1, 'northland': 2, 'battered': 2, 'uprooting': 1, 'enrpgrgtts': 1, 'agony': 1, 'tunein': 4, 'xssgedsbh4': 4, 'nasasolarsystem': 2, 'jupiter': 3, '2lbtshxi3c': 1, '0jmkdtcymj': 1, '6peeip4y7w': 1, 'i5k3vjicmg': 1, 'cizjafnm4e': 1, 'trophy': 1, 'neqw47e1uj': 1, 'badchoices': 1, 'bantrophyhunting': 1, 'bravo': 1, 'xb0bw8h8ur': 1, 'scourgue': 1, 'j0saxekbta': 1, 'disappears': 1, 'skarletan': 1, 'swell': 1, 'vickie627': 1, 'unqualified': 1, 'treaty': 1, 'evergreen': 1, 'kxewlhh7uw': 1, 'i0tvl15coz': 1, 'igtxhapo0k': 1, 'kjc': 1, 'teafrystlik': 1, 'darken': 1, 'ungodly': 1, 'jppir3zzka': 1, 'nv5gcdpiba': 1, 'oq0lnf2yug': 1, 'tzdbcgpsag': 1, 'xrgpdlswfd': 1, 'slightest': 1, 'stirring': 1, 'fkv5qxdcy3': 1, 'blitzes': 1, 'traverse': 2, 'seminars': 1, 'blitzed': 1, 'tra': 1, 'nkaw9ezqgg': 1, 'axegressor': 1, 'psalm': 1, 'belligerent': 1, 'unfold': 1, 'iateyourfood': 1, 'yikes': 1, 'uninformed': 1, 'uprootin': 1, 'fhvokmphed': 1, 'clap': 1, 'cgvuy3rcxo': 1, 'rotating': 1, 'massive': 1, 'j3di85ist5': 1, 'rj9gkjkjjn': 1, 'drilling': 1, 'towline': 1, 'drifted': 1, 'shellno': 1, 'seshqn5dsk': 1, 'byj5dfa2rv': 1, 'jetstar': 1, 'bali': 1, 'raung': 2, 'jtjofltms4': 1, 'nside': 1, 'kamchatka': 1, 'korzhonov': 1, '8t36hwgoqd': 1, 'aogashima': 2, 'oegfqbiqiq': 1, '16eclwrw84': 1, 'asics': 3, 'fieg': 3, 'kith': 3, '3m': 3, 'etswuod3om': 1, 'maailiss': 1, 'diaporama': 2, 'sixpenceee': 2, 'karymsky': 4, 'located': 2, 'volcanoã': 2, '4o460fm8hn': 1, 'auf4j4owj1': 1, '120': 1, 'capsule': 1, 'hewutdldqh': 1, '8etxxzbdua': 1, 'indonesian': 1, '7mug2kahl7': 1, 'ns1aggfnxz': 1, 'od250zshfy': 1, 'catholicmomva': 1, 'disrwhqgym': 1, 'mrmikeeaton': 1, 'muazimus_prime': 1, 'hil': 1, 'humidifier': 1, 'sicklife': 1, 'tedru4hg3i': 1, '7uf7tst9zx': 1, 'jesssssssee': 1, 'eevans17': 1, 'illuminati': 1, 'wymv9cyxzk': 1, 'zdtoyd8ebj': 2, 'ketep': 2, 'pass': 1, 'idbnkxu80l': 1, '3nuih6pkui': 1, '2ufcc6gh3m': 1, 'mevvkaxcde': 1, 'songhey89': 1, 'earthquakes': 3, 'rnb': 1, 'starz': 1, 'dpbfuu2gd6': 1, 'y2mt6v13e8': 1, 'kiddo': 1, 'gi': 1, 'sang': 1, 'epicente': 1, 'k28mgwtzcv': 1, 'alextucker': 1, 'hickson': 1, 'kenneth': 1, 'faried': 1, 'lamarcus': 1, 'aldridge': 1, '20twgpmm7d': 1, '2gldshraii': 1, 'westâ': 1, 'musbik7ejf': 1, 'zeal': 1, 'indecisiveness': 1, 'lexi_purduee': 1, 'volcano_tornado': 1, 'rtuetdfbqb': 1, 'csismica': 1, '3qjuexx0y0': 1, 'r3pddjpiee': 1, 'latechwatch': 1, 'cityofmemphis': 1, 'enders': 1, 'mgs2': 1, 'd_pagexxi': 1, 'ps2': 1, 'punisher': 2, 'scegnews': 1, 'thuggin': 2, 'hnxrfqrk3p': 1, 'roving': 1, 'raccoons': 1, 'toughens': 1, 'ojus08yzrq': 1, 'gears': 1, '6sdgz5dxnt': 1, 'jasmines': 1, 'littlewomenla': 1, 'jamal': 1, '2cppfprxog': 1, 'thelovatoagent': 1, 'sundays': 2, 'seasonfrom': 2, 'thugging': 1, 'scone': 1, 'tackle': 1, 'condom': 1, 'packets': 1, 'homies': 1, 'inmate': 1, 'worldwatchesferguson': 1, 'govjaynixon': 1, 'clairecmc': 1, 'changin': 1, 'z0poyr096j': 1, 'packing': 1, 'kasiakosek': 1, 'flour': 1, 'dandre_5': 1, 'robertoneill31': 1, 'frying': 1, '1qhnqczvod': 1, 'resistance': 1, 'guerrilla': 1, 'kpa': 1, 'torn': 1, 'wfxawqvvjr': 1, 'pty9hrcuzh': 1, 'whooped': 1, 'teamduval': 1, 'terrellt': 1, 'sf9ufv7w6c': 1, 'decisionâ': 1, 'jsdf': 1, 'reiterate': 1, '2lgtzkwmqw': 1, 'coats': 1, 'sprite': 1, 'n9snjmevi6': 1, 'roguewatson': 1, 'lethal': 6, '212': 1, 'surgeon': 1, 'neutron': 1, 'callofmini': 1, 'doubleshot': 1, 'junsuisengen': 1, 'dwarfonjetpack': 1, 'xii': 1, 'nightmarishly': 1, 'brutal': 1, 'ritualistic': 1, 'nmaumydke1': 1, 'vector': 1, 'cutter': 1, 'sdogef3kft': 1, 'x0giy85bs8': 1, 'rapid': 1, 'slosher': 3, 'splattling': 1, 'rosemarytravale': 1, 'weapon_x_music': 1, 'muttatek': 1, 'kwwwkwwwk': 1, 'jiahahahha': 1, 'yeyeulala': 1, 'snqfhpym3o': 1, 'rjcaxjp4os': 1, 'esoteric': 1, 'astrologian': 1, 'pulse': 1, 'uwobuuw2mk': 1, 'fucboi': 1, 't6obvwaphw': 1, 'es': 1, 'dhrvytjlfl': 1, 'tps': 1, 'tdm': 1, '400t': 1, 'camilla_33': 1, 'craykain': 1, 'shatter': 1, 'delusions': 1, 'choppas': 1, 'vickysuewrites': 1, 'boyxboy': 1, 'zgc3eslnps': 1, 'splatdown': 1, 'switching': 1, 'splatling': 1, 'thatrussianman': 1, 'splatoon': 1, 'default': 1, 'splattershot': 1, 'nelson': 1, 'mandela': 1, 'qr1l2jyuez': 1, 'salmanmydarling': 1, 'knavetbe': 1, 'snazzychipz': 1, 'sindy642498': 1, 'nowlike': 1, 'usthe': 1, 'truely': 2, 'connected': 1, 'catalogue': 1, 'citing': 1, 'casing': 1, 'infested': 1, 'wimp': 1, 'servicin': 1, 'lurkin': 1, 'cgfzk8ha1r': 1, 'danagould': 1, 'waynesteratl': 1, 'equalizer': 1, 'hendrixonfire': 1, 'blackcats': 1, 'noob': 1, 'violated': 1, 'legitimate': 1, 'needing': 1, 'argus_99': 1, 'heidia1438': 1, 'easier': 1, 'hgb1mc3irk': 1, '6ysxghc8gz': 1, 'incredulous': 1, 'outcry': 1, 'taxpayers': 1, 'objection': 1, '100bn': 1, 'lcc': 1, '96355': 1, 'lknu8902je': 1, 'jpens4real21': 1, 'geno': 1, 'benefit': 1, 'believer': 1, '7qrepylluk': 1, 'bloggers': 1, 'ineedexposure': 1, 'dannyonpc': 4, 'engineer': 1, 'rpm': 1, 'helpful': 1, 'nuking': 1, 'gwrsga9ujv': 1, 'aauizggc9q': 1, 'hardline': 3, 'throwingknifes': 3, 'ndxrk2ncln': 1, 'uswarcrimes': 1, 'wooooooo': 1, 'gamerant': 1, '76ehhmqq6r': 1, 'umtffa9jjb': 1, 'dismantling': 1, 'vn0accf6d4': 1, 'knives': 1, 'ojoubot': 1, 'typewriters': 1, 'dgnbusfxkw': 1, 'nro': 1, 'unauthorized': 1, 'kill': 1, 'italians': 1, 'excel': 1, 'ck1mmvhu0t': 1, 'deray': 1, 'marstu67': 1, 'salary': 1, 'impunity': 1, 'argues': 1, 'pelosi': 1, 'jnn0krnxvy': 1, '5loiwuyv5r': 1, 'dorismatsui': 1, 'supporting': 1, 'mere': 1, 'n4neuiyt2k': 1, 'conflicts': 1, 'tactics': 1, 'infiltration': 1, 'cyu8zxw1oh': 1, 'byow': 1, 'abolishing': 1, 'a6ir8rkuws': 1, 'router': 1, 'ddos': 1, 'vxxmvgtzvg': 1, 'eyecuts': 1, 'erasuterism': 1, 'deco': 1, 'trickier': 1, '1942': 1, 'xbmm7ite9q': 1, 'retirement': 1, 'instruction': 1, 'bookmobile': 1, 'libraries': 1, 'l2nmywrmq2': 1, 'bigbrother': 1, '37b': 1, '6m': 1, '0migwcmtje': 1, 'cmdr': 1, 'sidearm': 1, 'nosc': 1, 'vccdkc4qt2': 1, 'pledged': 1, 'cbxnhhz6kd': 1, 'david_hurn': 1, 'tokteacher': 1, 'skynet': 1, '73umw2igrz': 1, 'upgrad': 1, 'bokoharm': 1, 'adamantly': 1, 'opposed': 1, 'mtgfx3efiv': 1, 'ad38kwoglh': 1, 'kirstiealley': 1, '_animaladvocate': 1, 'finsup': 1, 'i1eeuxxz3a': 1, 'glosblue66': 1, 'certificates': 1, 'safes': 1, 'kmdqm3nlns': 1, 'pyvrprnhop': 1, 'hddbmu2yca': 1, 'arranged': 1, 'guatemalan': 1, '4fynq1hwwb': 1, 'j3cirxjfa6': 1, 'submissions': 1, 'whirlwind': 47, 'bombarded': 1, 'kunais': 1, 'moan': 1, 'demeanor': 1, 'staid': 1, 'barstoolbigcat': 1, 'louisan': 1, 'bld0nhkzbh': 1, 'cramming': 1, 'to0bpieyms': 1, 'rukjyjg9oq': 1, 'jaiden': 1, 'referential': 1, 'affair': 1, 'luhan': 3, 'exo': 1, 'y7o55by36f': 1, 'chelsea_rosette': 1, 'millennium': 1, 'plaza': 1, 'layzba9y8h': 1, 'pawsox': 2, 'durham': 2, '9ckgggyvou': 1, 'u0vdbrxfia': 1, 'peek': 1, '3dk5zyyq1f': 1, 'wip': 1, 'amwriting': 1, '07nkmo7vas': 1, 'drmartyfox': 1, 'tacoma': 1, 'qwhinbni8e': 1, 'vixmeldrew': 1, 'a5ytaw9vih': 1, 'rona': 1, 'easlgea1b7': 1, 'medusa': 1, 'snake': 1, 'inputs': 1, 'mxkalmqpdb': 1, '8kznhtytt9': 1, 'baekhyun': 1, 'suho': 1, 'syjexo': 1, 'oazjpwueyr': 1, 'byuwnbeki': 1, 'tacit': 1, 'mantra': 1, 'southâ': 1, 'geht4ski86': 1, 'lasted': 1, 'standstill': 1, 'wmoyibwec1': 1, 'lucymayofficial': 1, '0rsverlztm': 1, 'krnw0wxhe5': 1, '30pcs': 1, '12mm': 1, 'ab': 1, 'resin': 1, 'flatback': 1, 'rhinestone': 1, 'decoration': 1, '150806': 1, 'youku': 1, 'w7yezkqlcj': 1, 'c0qwz0ishr': 1, 'scissor': 1, 'alexhammerstone': 1, 'kttape': 1, 'ktfounder': 1, 'remymarcel': 1, 'frofrofroâ': 1, 'b19z8vi3td': 1, 'drained': 1, 'l8w30wfw3r': 1, 'theemobrago': 1, 'jitsu': 1, 'hexagon': 1, 'yelled': 1, 'freshoutofthebox': 1, 'getitbeforeitsgone': 1, 'under50': 1, 'newnewnew': 1, '8butsc4zyn': 1, 'ckosova': 1, 'edfringe': 1, 'm00nf00l': 1, 'titania': 1, 'summerhallery': 1, 'reimagining': 1, 'shakespeare': 1, 'midsummer': 1, 'iiaigzkbnj': 1, 'scourge': 1, 'whedonesque': 1, 'fanged': 1, 'q0jhdcu6ly': 1, 'cantwaittoplayinminneapolis': 1, 'picthis': 1, 'br7gmmh5ek': 1, 'amazingness': 1, 'finallâ': 1, 'athens': 1, 'lisowski': 1, 'whitewashes': 1, 'masters': 1, 'quals': 1, 'mligpuhvoh': 1, 'snooker': 1, 'tcs2cd5y6y': 1, 'saddles': 1, 'blacken': 1, 'parched': 1, 'harris': 1, 'i2lwty5yup': 1, '4zsiy7eo2o': 1, 'complain': 1, 'articals': 1, 'qd3dssfwue': 1, 'opted': 1, 'historically': 1, 'lanahillman': 1, 'bonfires': 1, 'riooooos': 1, '463p0ys0eb': 1, '2m1gneaifl': 1, 'uqh85mip0v': 1, 'cal': 1, '0x8jaqtowm': 1, 'm1rosi2wcs': 1, 'bernardino': 1, 'qcyqhvn2ha': 1, 'cmsgexm4fc': 1, 'sanonofre': 1, 'netnewsledger': 1, 'thereã': 1, 'jflxgembda': 1, 'j2pykyo0en': 1, 'foxdebatequestions': 1, 'sharia': 1, 'darwinism': 1, 'myralynn24': 1, 'becuase': 1, 'macys': 1, 'swdjnypcxk': 1, 'excess': 1, 'jennife29916207': 1, 'cnni': 1, 'prisonplanet': 1, 'noting': 1, '0szwlwl9qu': 1, 'senfeinstein': 1, 'uncontrolled': 1, 'mrrat395': 1, 'droughts': 1, 'stampedes': 1, 'tame': 1, 'audiobook': 1, '2dpkqaftbr': 1, 'bynr': 1, 'beingauthor': 1, 'connecticut': 1, 'qwpuxpywbf': 1, '8jlxz6fkxy': 1, 'qkz2sp06xn': 1, 'thedayct': 1, 'aria_ahrary': 2, 'thetawniest': 2, 'troubling': 2, 'wn': 1, '9ikhdyhvnc': 1, 'morels': 1, 'ambleside': 1, 'farmr': 1, 'mushroom': 1, 'foragesecret': 1, 'randerson62': 1, 'egrmdkxpoi': 1, 'nkcmib9wl0': 1, 'cpmgbwvdxm': 1, 'jacobhoggard': 1, 'therealmattleaf': 1, 'enzasbargains': 1, 'donated': 1, 'handi': 1, 'wipes': 1, 'profittothepeople': 1, 'wbcshirl2': 1, 'doessnt': 1, 'rejoice': 1, 'calamities': 1, 'ect': 1, 'effected': 1, 'foliage': 1, 'ignited': 1, 'hiker': 1, 'fingerrockfire': 2, 'ex8a5jyzm5': 1, 'azwx': 1, 'deeekobmxa': 1, 'kc5kh': 1, 'wsoc': 1, 'djufkrrtft': 1, 'ns5lbs5zup': 1, 'sheet': 2, '208': 2, '267': 2, '6773': 2, 'ezeisasm0c': 1, 'idfire': 5, 'matt_kroschel': 1, 'vail': 1, 'swwylrk0fv': 1, '57am': 1, 'mynabirds': 1, 'lovers': 1, 'hearths': 1, 'of3td6dglb': 1, 'zsxgei1nxf': 1, 'd6e7iicw5w': 1, 'taviiikenney': 1, 'freaks': 1, 'anodgxzr3e': 1, 'timelapse': 1, '1am': 1, '75000': 1, 'd2veppeh8s': 1, 'ember': 1, 'lzml1xb2nh': 1, '7xq8jrtl7i': 1, 'j90dt2qnxb': 1, 'wawildfire': 1, 'chelan': 1, 'wolverine': 3, 'yeplnzpowu': 1, 'zggpacjp7d': 1, 'kcrw': 1, '6agmkx2ww4': 1, 'salad': 1, 'alynacarol': 1, 'scariest': 2, 'lec1vms7x2': 1, 'u2do2mc2ri': 1, '3om3xw6cz8': 1, 'wwnl8fvfmm': 1, 'bengston': 1, 'upward': 1, 'smem': 1, 'ht8fyimjlr': 1, 'kobavdekwn': 1, 'khq': 1, 'anlhw2izkz': 1, '8wdttzptxh': 1, '15fhvii9qp': 1, 'h9v4howtip': 1, '8icseshbj3': 1, 'gzgpwsqymw': 1, 'firenews': 1, 'ay49mtyyl8': 1, 'uci8stqug1': 1, 'spt54kfa9q': 1, '4esbsa8int': 1, 'utfire': 1, 'lancasteronline': 1, 'ph7wllkrfi': 1, 'qwrrfdgxcc': 1, 'sstj2bepqn': 1, 'easternoregonâ': 2, 'v6qxnfhrxf': 1, '_wildfire__': 1, 'mulan': 1, 'calwildfires': 1, 'wwxbgubww5': 1, 'uorxff0nfx': 1, 'ytpipxpqr9': 1, 'hcuq6jpbtl': 1, 'slows': 1, 'p0gos5urxg': 1, 'smhrn': 1, 'hikers': 1, 'trailheads': 1, 'ablz20mgzv': 1, 'scfd': 1, 'lakecounty': 1, '3pu0000v5o': 1, 'ekt456jy1s': 1, 'katu': 1, 'fmbcocs79u': 1, 'wqow': 1, 'hj26sfddfi': 1, '2ppzgpxybi': 1, 'ds9khkffwc': 1, 'windstorm': 49, 'galvnews': 1, 'cm9tve2vsq': 1, 'lastingness': 1, 'acquiesce': 1, 'retreat': 1, 'ziuw': 1, 'irt4kkgsjx': 1, 'fifty': 2, 'dde8gxaqrp': 1, 'nook': 1, 'thebachelorette': 1, 'patricio': 1, 'lozano': 1, 'gqysvkragi': 1, 'sdzlvbifbn': 1, 'jiomnrcygt': 1, 'ei8qqhregz': 1, 'inspection': 2, '3xmlqrpnqr': 1, 'ij': 1, 'h132iul7mu': 1, 'niiiice': 1, 'windstormã': 1, '92fwtobi3u': 1, 'wsvr1686b': 1, 'hull': 1, 'runabout': 1, '8prnhrhb2t': 1, 'oahlthrozy': 1, 'twia': 7, 'approves': 3, 'hike': 4, 'ociation': 3, 'directors': 3, 'nvxljdsnkx': 1, 'ekiti': 2, 'ode': 1, 'gbonyin': 1, 'lga': 1, 'etgqf28mge': 1, 'byvubg0wye': 1, 'wzbt': 1, 'ai6kworbbt': 1, 'txlege': 1, 'wal4frtfka': 1, '2in1': 1, 'marc': 1, 'bolan': 1, 'e3caymmicn': 1, 'erzcxlopdl': 1, 'hardball': 1, 'chriscesq': 1, 'charlesadler': 1, 'browner': 1, 'bp6mfjhars': 1, 'qzrcinaf5z': 1, 'bnnidfzwbd': 1, 'n00dvxega2': 1, 'shirley': 1, 'caesar': 1, 'koch8slasq': 1, 'patio': 1, 'umbrella': 1, 'flipped': 1, 'mystical': 1, 'gcdxydbsc4': 1, 'stillness': 1, 'aspects': 1, 'leelanau': 1, '2b': 1, 'extended': 1, 'oskfyj8ck7': 1, 'besafe': 1, 't_litt44': 1, 'kkeh8qcgc3': 1, 'e1kbludwh5': 1, 'presqu': 1, 'ile': 1, 'pqphistoryweekend': 1, '0tykazyqpf': 1, 'rb02svlppu': 1, 'dhggxo7mcc': 1, 'blakeshelton': 1, 'jeez': 1, 'esemjrn5cc': 1, 'pu': 1, 'ngf9n8jquu': 1, 'bz07c9wthx': 1, 'ijournal': 1, 'rhodeisland': 1, 'bong': 1, '5koho39oje': 1, 'datingtips': 1, 'goodreads': 1, 'rangerkaitimay': 1, 'twpl0nl8cx': 1, 'xqiadg9h2w': 1, 'ypeelmjdzy': 1, 'gunmen': 4, 'salvadoran': 4, 'r8k6rxw6d6': 1, 'exchanging': 15, 'e4wvxqitv4': 1, 'xxfk4khbiw': 1, 'retooled': 1, 'retirees': 1, 'handicapped': 1, 'nomorehandouts': 1, 'pz56zjssft': 1, 'bitâ': 1, 'exc': 2, 'crcn8rwvkj': 1, 'fatally': 2, 'kaky4mpco4': 1, 'm9d2elimzi': 1, 'takeshima': 1, 'fisherman': 1, 'occupies': 1, 'mjcxgku8yt': 1, 'lzwronbtmi': 1, 'twilight': 1, 'jacquie': 1, 'biggar': 1, 'znptdicqxe': 1, 'kindlecountdown': 1, 'mfrwauthor': 1, 'mgtab': 1, 'phillip': 1, 'amritsar': 1, 'exaggerated': 1, 'woundedâ': 1, '3ife1zsop7': 1, 'rz7fbr10xw': 1, 'dime_miloko': 1, 'cntwb6sczj': 1, 'suspe': 1, 'fzqpiqechb': 1, 'claimin': 1, '8acdf4zui6': 1, 'zenit': 1, 'hfvnyft78c': 1, 'bjycrgfh5y': 1, 'asterpuppet': 1, 'academia': 1, 'y0qqs2l7bs': 1, 'iphazv47g7': 1, 'bre2lgmn7c': 1, 'an247': 1, 'm1rfbpodi9': 1, 'wocowae': 2, 'oioecbsh1f': 1, 'ushed': 2, 'ured': 1, 'investigated': 1, 'kmxzho5tfm': 1, 'albvdnwjtg': 1, 'lordjewcup': 1, 'helloimivan': 1, 'qpssbafsul': 1, 'chiraq': 1, 'travelled': 1, 'ruralâ': 1, '5uftrxppv0': 1, 'zdhwrn6czc': 1, 'hhsjnavhua': 1, 'hworb1n6vn': 1, 'wwp': 1, 'serving': 1, '75k': 1, '52k': 1, 'oif': 1, 'oef': 1, 'invisible': 1, 'shhlv4dplz': 1, 'ia1hngnhvb': 1, 'azovgv4sb6': 1, 'donations': 1, 'senzu': 1, 'gohanâ': 1, 'pouch': 1, 'qi2bdvkab7': 1, 'w0r8eaoka0': 1, 'gunq7ztun4': 1, 'yikqrqczvz': 1, 'iniquities': 1, 'healed': 2, 'isa': 1, 'gunshot': 3, 'bicep': 2, 'kerricktrial': 6, 'jonathanferrell': 2, 'charlesdagnall': 1, 'rub': 1, 'bkanioros': 1, 'lizeth': 1, 'nout': 1, 'rubbin': 1, 'm8ufjdtlsm': 1, 'unhealed': 1, 'unending': 1, 'kashmir': 2, 'saf9mosksn': 2, 'endoccupation': 1, 'endconflict': 1, 'freekashmir': 1, 'googlefacts': 1, 'lick': 1, 'mirrors': 1, 'reflected': 1, 'cash7nigga': 1, 'insomniac': 1, 'heals': 3, 'conducted': 1, 'skims': 1, 'morethan': 1, 'disorders': 1, 'kashmirconflict': 1, 'fester': 1, 'ydwhmgimoe': 1, 'forgivenwife': 1, 'dianneg': 1, '6vyyer6py0': 1, 'p9dcnulodr': 1, 'worldrunners': 1, 'runningroom': 1, 'offdishduty': 1, 'agkwkaqgos': 1, 'tu6scrsxvg': 1, 'idhj4jbq05': 1, 'yaqrsximph': 1, 'owen': 1, 'twcnewsclt': 1, 'nnbexhklhr': 1, 'mattmosley': 1, 'pour': 1, 'policemen': 1, 'indicate': 1, 'celebrety': 1, 'rams': 2, 'wounding': 1, 'n79bmxqklg': 1, 'emm': 1, 'surgical': 1, 'woodlawn': 2, 'nu3xxn55vs': 1, 'xngrfnqsx3': 1, 'burnin': 1, 'bishopfred': 1, 'fromã': 1, 'ohhkuhtjxm': 1, 'scrolling': 1, 'exact': 1, 'baked': 1, 'alaskan': 1, 'neverforget': 1, 'ego_resolution': 1, 'numbing': 1, 'gums': 1, 'session': 1, 'discussing': 1, 'icymagistrate': 1, 'armâ': 1, 'friggin': 2, 'icicle': 1, 'projectilesâ': 1, 'miniature': 1, 'gopsicp8bm': 1, 'nicolaclements4': 1, 'covering': 1, 'scabs': 1, 'dauntedpsyche': 1, 'gently': 1, 'dabbed': 1, 'rag': 1, 'crawling': 1, 'hea': 1, 'soldi': 1, 'obsz45ybaj': 1, 'sorrower': 1, 'l056yj2ioi': 1, 'utmwmjirty': 1, 'squeaver': 1, 'hangin': 1, 'watchin': 1, 'captainn_morgan': 1, 'destiel': 1, 'mkx6ux4ozt': 1, 'gazette': 1, 'jhc2rt0v9f': 1, 'scratching': 1, 'pedals': 1, 'therapist': 1, 'aqua': 1, 'scghl0piq6': 1, 'memenaar': 1, 'kindof': 1, 'restrospect': 1, 'ralph': 2, 'ftcarsonpao': 1, 'carsonmwr': 1, 'tuypxeobqa': 1, '_pokemoncards_': 1, 'icequeenfroslas': 1, 'rental': 1, 'artectura': 1, 'pop2015': 1, 'nã': 1, 'â¼36': 1, '9le0b19lvf': 1, 'fml': 1, 'gimp': 1, 'newave': 1, 'x0qlgwoymt': 1, 'hqnx8qmeg3': 1, 'km08qiww4g': 1, 'progressives': 1, 'newsâ': 1, 'girlthatsrio': 1, 'uncles': 1, 'georgefoster72': 1, 'edmund': 1, 'fitzgerald': 1, 'w3rga0nkom': 1, '0tzsqe8esd': 1, 'dukeskywalker': 1, 'facialabuse': 1, 'competetion': 1, 'xxxmrbootleg': 1, 'claudiomeloni': 1, 'penetrator': 1, '5xrfhdxtvx': 1, 'blockage': 1, 'woodward': 1, 'davison': 1, 'shoalstraffic': 1, 'upload': 1, 'whatstheimportantvideo': 1, 'blinker': 1, 'wytu7viwsj': 1, 'nervous': 2, 'misscharleywebb': 1, 'uu64wfg17m': 1, 'greer': 1, 'n2qzbmzuly': 1, 'amazondeals': 1, 'skylanders': 1, 'pmbuzfgin3': 1, 'staged': 1, 'locomotive': 1, 'ei9x4h8thm': 1, 'uneven': 1, 'y0we0wxqcp': 1, 'sequel': 2, 'titortau': 1, 'lynch': 1, 'larious': 1, 'ombudsmanship': 1, 'raineishida': 1, 'takeaways': 1, 'amazonâ': 1, 'magnificent': 1, 'dbdwtocgxf': 1, 'herologist': 1, 'sfakqnveta': 1, 'yopeypjkb2': 1, 'grh7zlk979': 1, 'furious': 2, 'carmqivkwu': 1, 'curjat1bqi': 1, 'cs8myauna4': 1, 'se1qknplts': 1, 'dnhrviv1dj': 1, 'janeenorman': 1, 'probability': 1, 'cdohgnjmst': 1, 'v5ogr3f5n9': 1, '4xb4zwyhct': 1, 'kuala': 1, 'lumpur': 1, 'uqva3dfbca': 1, 'kacrlpjc0l': 1, 'yjjbntcazy': 1, 'kfzvmxj9st': 1, 'ptevy815mt': 1, 'ajabrown': 1, 'wmnb5ita5p': 1, '4sf0rgn8wo': 1, 'ledmvezcol': 1, 'qsipl1c9fa': 1, 'o8stw4yn8r': 1, 'ckq7toe82u': 1, 'bptzamjl2k': 1, 'ljylxz1fbi': 1, '1rzskdrrdk': 1, 'janisctv': 1, 'hlww2p5k9o': 1, '777': 1, 'vanished': 1, '239': 1, 'vazpg0ftmu': 1, 'qnvxj2palj': 1, 'dtfswnjzil': 1, 'edekrmqtpq': 1, 'iidkc0jsbx': 1, 'najibrazak': 1, 'malaysiaairlines': 1, 'ub3woz2ut1': 1, 'z2vdgiyowf': 1, '2jr3yo55dr': 1, 'mn130c4e2d': 1, 'rp2dxfkhdq': 1, 'akmihlris1': 1, 'kukmal605a': 1, 'yi54xrhqgb': 1, 'mzb0mkuuo7': 1, 'mssq0svnbm': 1, 'nn6y0fd3l0': 1, 'gy9mrsl6x2': 1, '1yixfg1hdy': 1, 'yahoonewsdigest': 1, '5ebpybfh4d': 1, 'wrecked': 49, 'julian_lage': 1, 'grantgordy': 1, 'rossmartin7': 1, 'industrial': 1, 'costing': 1, 'apiece': 1, 'dtdidinqyf': 1, 'cramer': 9, 'igerâ': 1, 'disneyâ': 1, 'pnlucerp0x': 1, 'iger': 8, '4dgpbaivl7': 1, '8zahavmtt6': 1, 'liv': 1, 'oliviaapalmerr': 1, 'thatswhatfriendsarefor': 1, 'g0r3zr1nqj': 1, 'manner': 1, 'parcel': 1, 'dtom2': 1, 'lj6lzo4isx': 1, 'nathan26_rfc': 1, 'sf5jdnvdw9': 1, 'kunstler': 1, 'ac6i3te8mt': 1, 'residualincome': 1, 'mlm': 1, 'wq0jlshw1g': 1, 'deqqopsp4f': 1, 'lbkvfqrpgt': 1, '3rva5uvt0p': 1, 'ease': 1, 'yakuboobs': 1, 'coleslaw': 1, 'sijnbmczij': 1, 'f0texksqhl': 1, 'ilyslatmgi': 1, 'smackdown': 1, 'tyme': 1, '300k': 1, 'exotic': 1, 'j49xeuj7ps': 1, 'tunes_wgg': 1, '__ohhmyjoshh': 1, 'stevenrulles': 1, 'qvx0vqtpz0': 1, 'vuwbsrsnry': 1, 'thrillhho': 1, 'jsyk': 1, 'abt': 1, 'remus': 1, 'slumped': 1, 'riddler': 1, 'presidential': 1, 'marynmck': 1, 'adorable': 1, 'stighefootball': 1, 'begovic': 1, 'reserve': 1, '3g79prayyc': 1, 'topnews': 1, 'caitsroberts': 1, 'barra': 1, 'kirafrog': 1, 'mount_wario': 1, 'da9lzton1c': 1, 'ud7xobyua1': 1, 'uea0txrhys': 1, 'y46isyzkc8': 1, 'hattrick': 1, 'widda16': 1, 'goner': 1, 'jt_ruff23': 1, 'cameronhacker': 1, 'shoutout': 1, 'fx': 1, '7ennullkzm': 1, 'engineshed': 1, 'omnbatjeao': 1, 'n6rbnhmtd4': 1, 'aawzxykles': 1, 'rsmvgdxriv': 1, 'ebolaoutbreak': 1, 'ala': 1, 'tjpylu9fox': 1, 'boxes': 1, 'gameofkittens': 1, 'explodingkittensâ': 1, 'tfgrayudc5': 1, 'pfavw5qyqe': 1, 'rln09wke9g': 1, 'iwate': 1, 'gmoul9zq2q': 1, 'vz640xoswj': 1, 'm2hpnoak8b': 1, 'thhjjw51pe': 1, 'ayyo': 1, 'dei': 1, 'nz7ackrrji': 1, 'tnwx': 1, '5b7qt2yxda': 1, 'overtaking': 1, 'bathandnortheastsomerset': 1, 'fa3fcnln86': 1, '9km': 1, 'hkut5msdtp': 1, 'rajman': 1, 'hasaka': 1, 'risen': 1, 'forney': 1, 'fasteners': 1, 'xrwn': 1, 'developing': 1, 'symptoms': 1, 'rqkk15uhey': 1, 'nf4iculoje': 1, 'utbxlcbiuy': 1, 'stfmbbzfb5': 1, 'ymy4rskq3d': 1}\n",
      "['t', 'co', 'http', 'in', 'i', 'ã', 's', 'for', 'on', 'that', 'with', 'by', 'at', 'this', 'https', 'from', 'be', 'was', 'â', 'm', '_', 'have', 'amp', 'like', 'as', 'up', 'just', 'we', 'me', 'but', 'not', 'your', 'so', 'out', 'no', 'all', 'will', 'after', 'when', 'fire', 'an', 'can', 'has', 'get', 'new', 'via', 'they', 'more', 'about', 'what', '2', 'now', 'or', 'news', 'one', 'people', 'who', 'there', 'over', 'been', 'do', 'into', 'don', 'emergency', 'video', 'disaster', 'would', '3', 'police', 're', 'her', 'his', 'than', 'u', 'were', 'still', 'some', 'suicide', 'body', 'us', '1', 'why', 'storm', 'burning', 'off', 'first', 'time', 'crash', 'them', 'rt', 'attack', 'had', 'got', 'back', 'california', 'day', 'know', 'fires', 'two', 'man', 'our', 'going', 'see', 'buildings', 'nuclear', 'world', 'today', 'bomb', 'love', 'year', 'hiroshima', 'full', 'go', '5', 'dead', 'life', 'youtube', 'watch', 'old', 'car', 'their', 'killed', 'train', 'think', '4', 'only', 'last', 'âªs', 'down', 'accident', 'war', 'make', 'good', 'being', 'gt', 'say', 'here', '2015', 'could', 'let', 'w', 'way', 'may', 'many', 'families', 'even', 'need', 'years', 'want', 'best', 'because', 've', 'then', 'll', 'did', 'bombing', 'too', 'collapse', 'right', 'home', 'him', 'forest', 'death', 'army', 'water', 'should', 'd', 'take', 'its', 'work', 'black', 'another', 'really', 'please', 'lol', 'wildfire', 'never', 'hot', 'mh370', 'look', 'bomber', 'help', 'fatal', 'am', 'any', 'live', 'where', 'northern', 'those', 'obama', '8', 'pm', 'japan', '11', 'school', 'much', 'feel', 'wild', 'flood', 'city', 'read', 'near', '9', 'stop', 'reddit', 'great', 'night', 'said', 'latest', 'before', '6', 'top', 'injured', 'homes', 'typhoon', 'services', 'floods', 'under', 'hope', 'fear', 'ever', 'during', 'come', 'legionnaires', 'atomic', 'im', 'house', 'flames', 'content', 'while', 'truck', 'post', 'getting', '10', 'wreck', 'state', 'p', '15', 'everyone', 'every', 'change', 'red', 'earthquake', 'damage', 'cross', '7', 'weather', 'summer', 'since', 'severe', 'plan', 'oil', 'coming', 'again', 'these', 'military', 'heat', 'found', 'food', 'thunderstorm', 'little', 'family', 'debris', 'without', 'through', 'next', 'natural', 'most', 'lightning', 'gonna', 'evacuation', 'cause', 'always', 'also', 'wounded', 'well', 'smoke', 'set', 'other', 'hit', 'does', 'devastated', 'bad', 'times', 'survive', 'national', 'looks', 'free', 'face', 'destroyed', 'boy', 'terrorist', 'story', 'photo', 'malaysia', 'flooding', 'check', 'bloody', 'which', 'trapped', 'spill', 'someone', 'service', 'says', 'run', 'liked', 'injuries', 'until', 'show', 'rain', 'oh', 'loud', 'fall', 'failure', '70', '08', 'âª', 'women', 'thunder', 'saudi', 'movie', 'landslide', 'game', 'call', 'boat', 'around', 'week', 'weapon', 'tonight', 'terrorism', 'rescue', 'refugees', 'o', 'girl', 'confirmed', 'area', 'air', '30', 'wind', 'survived', 'put', 'injury', 'head', 'drought', 'bag', 'weapons', 'survivors', 'screaming', 'report', 'released', 'panic', 'kills', 'hurricane', 'hostage', 'hail', 'explosion', 'destroy', 'blood', 'big', 'whole', 'warning', 'save', 'mosque', 'missing', 'burned', 'breaking', 'attacked', 'thing', 'rescued', 'past', 'migrants', 'made', 'heard', 'hazard', 'destruction', 'bridge', 'apocalypse', 'against', '40', 'violent', 'trauma', 'sinking', 'responders', 'rescuers', 'ok', 'island', 'drowning', 'sinkhole', 'self', 'saw', 'real', 'keep', 'hundreds', 'high', 'end', 'dust', 'demolished', 'crush', 'crashed', 'collapsed', 'catastrophic', 'bags', '0', 'white', 'use', 'stock', 'river', 'lives', 'lava', 'hazardous', 'explode', 'evacuate', 'due', 'deaths', 'county', 'blown', 'wreckage', 'wave', 'very', 'update', 'trouble', 'traumatised', 'tragedy', 'structural', 'screamed', 'outbreak', 'must', 'market', 'macre', 'light', 'exploded', 'drown', 'displaced', 'derailment', 'collision', 'collided', 'china', 'charged', 'catastrophe', 'bang', 'away', 'august', 'ambulance', 'wounds', 'screams', 'ruin', 'quarantined', 'quarantine', 'meltdown', 'long', 'least', 'electrocuted', 'calgary', 'bombed', 'blew', 'bleeding', 'battle', 'b', '05', '00', 'three', 'suspect', 'riot', 'part', 'panicking', 'obliteration', 'mudslide', 'investigators', 'inundated', 'harm', 'group', 'flattened', 'engulfed', 'deluged', 'curfew', 'crushed', 'caused', 'blast', 'better', 'anniversary', 'airplane', 'wrecked', 'windstorm', 'twister', 'thought', 'something', 'seismic', 'sandstorm', 'rioting', 'obliterated', 'obliterate', 'n', 'hostages', 'horrible', 'hijacking', 'half', 'detonation', 'desolation', 'danger', 'cyclone']\n"
     ]
    }
   ],
   "source": [
    "hash_map = make_hash_map(df) #create hash map (words and frequency) from tokenized dataset\n",
    "\n",
    "vocab=frequent_vocab(hash_map, 500)\n",
    "print(hash_map)\n",
    "print(vocab)"
   ]
  },
  {
   "cell_type": "markdown",
   "metadata": {
    "id": "InPR7W12H1A2"
   },
   "source": [
    "### Experiment! Change max_feature to 100. Check out what do you get. \n",
    "Remember to change it back to 500 or more afterwards"
   ]
  },
  {
   "cell_type": "markdown",
   "metadata": {
    "id": "k-mBkUQSH1A2"
   },
   "source": [
    "### Finally we build our bag of words"
   ]
  },
  {
   "cell_type": "code",
   "execution_count": null,
   "metadata": {
    "id": "_3sDF895H1A3"
   },
   "outputs": [],
   "source": [
    "# define a function bagofwords with the following input: sentence and words\n",
    "def bagofwords(sentence, words):\n",
    "    sentence_words = extract_words(sentence) #tokenize sentences/ tweets and assign it to variable sentence_words\n",
    "    # frequency word count\n",
    "    bag = np.zeros(len(words)) #create a NumPy array made up of zeroes with size len(words)\n",
    "    # loop through data and add value of 1 when token is present in the tweet\n",
    "    for sw in sentence_words:\n",
    "        for i,word in enumerate(words):\n",
    "            if word == sw: \n",
    "                bag[i] += 1\n",
    "                \n",
    "    return np.array(bag) # return the bag of word for one tweet"
   ]
  },
  {
   "cell_type": "markdown",
   "metadata": {
    "id": "f5GK50H2H1A3"
   },
   "source": [
    "### Task: Test your function using a made up text data.\n",
    "Look at the list of words above to see what words you might want to add into your sample text"
   ]
  },
  {
   "cell_type": "code",
   "execution_count": null,
   "metadata": {
    "colab": {
     "base_uri": "https://localhost:8080/"
    },
    "executionInfo": {
     "elapsed": 4,
     "status": "ok",
     "timestamp": 1654166245267,
     "user": {
      "displayName": "Mohit Ahuja",
      "userId": "05773503373517638884"
     },
     "user_tz": -330
    },
    "id": "ku4_XhzAH1A3",
    "outputId": "7950883b-864f-4efe-aabe-e7746bf33cd3",
    "scrolled": true
   },
   "outputs": [
    {
     "data": {
      "text/plain": [
       "array([1., 1., 1., 1., 0., 0., 0., 1., 0., 0., 0., 0., 0., 0., 0., 0., 0.,\n",
       "       0., 0., 0., 0., 0., 0., 0., 0., 0., 0., 0., 0., 0., 0., 0., 0., 0.,\n",
       "       0., 0., 0., 0., 0., 0., 0., 0., 0., 0., 0., 0., 0., 0., 0., 0., 0.,\n",
       "       0., 0., 0., 0., 0., 0., 0., 0., 0., 0., 0., 0., 0., 0., 0., 0., 0.,\n",
       "       0., 0., 0., 0., 0., 0., 0., 0., 0., 0., 0., 0., 0., 0., 0., 0., 0.,\n",
       "       0., 0., 0., 0., 0., 0., 0., 0., 0., 0., 0., 0., 0., 0., 0., 0., 0.,\n",
       "       0., 0., 0., 0., 0., 0., 0., 0., 0., 0., 0., 0., 0., 0., 0., 0., 0.,\n",
       "       0., 0., 0., 0., 0., 0., 0., 0., 0., 0., 0., 0., 0., 0., 0., 0., 0.,\n",
       "       0., 0., 0., 0., 0., 0., 0., 0., 0., 0., 0., 0., 0., 0., 0., 0., 0.,\n",
       "       0., 0., 0., 0., 0., 0., 0., 0., 0., 0., 0., 0., 0., 0., 0., 0., 0.,\n",
       "       0., 0., 0., 0., 0., 0., 0., 0., 0., 0., 0., 0., 0., 0., 0., 0., 0.,\n",
       "       0., 0., 0., 0., 0., 0., 0., 0., 0., 0., 0., 0., 0., 0., 0., 0., 0.,\n",
       "       0., 0., 0., 0., 0., 0., 0., 0., 0., 0., 0., 0., 0., 0., 0., 0., 0.,\n",
       "       0., 0., 0., 0., 0., 0., 0., 0., 0., 0., 0., 0., 0., 0., 0., 0., 0.,\n",
       "       0., 0., 0., 0., 0., 0., 0., 0., 0., 0., 0., 0., 0., 0., 0., 0., 0.,\n",
       "       0., 0., 0., 0., 0., 0., 0., 0., 0., 0., 0., 0., 0., 0., 0., 0., 0.,\n",
       "       0., 0., 0., 0., 0., 0., 0., 0., 0., 0., 0., 0., 0., 0., 0., 0., 0.,\n",
       "       0., 0., 0., 0., 0., 0., 0., 0., 0., 0., 0., 0., 0., 0., 0., 0., 0.,\n",
       "       0., 0., 0., 0., 0., 0., 0., 0., 0., 0., 0., 0., 0., 0., 0., 0., 0.,\n",
       "       0., 0., 0., 0., 0., 0., 0., 0., 0., 0., 0., 0., 0., 0., 0., 0., 0.,\n",
       "       0., 0., 0., 0., 0., 0., 0., 0., 0., 0., 0., 0., 0., 0., 0., 0., 0.,\n",
       "       0., 0., 0., 0., 0., 0., 0., 0., 0., 0., 0., 0., 0., 0., 0., 0., 0.,\n",
       "       0., 0., 0., 0., 0., 0., 0., 0., 0., 0., 0., 0., 0., 0., 0., 0., 0.,\n",
       "       0., 0., 0., 0., 0., 0., 0., 0., 0., 0., 0., 0., 0., 0., 0., 0., 0.,\n",
       "       0., 0., 0., 0., 0., 0., 0., 0., 0., 0., 0., 0., 0., 0., 0., 0., 0.,\n",
       "       0., 0., 0., 0., 0., 0., 0., 0., 0., 0., 0., 0., 0., 0., 0., 0., 0.,\n",
       "       0., 0., 0., 0., 0., 0., 0., 0., 0., 0., 0., 0., 0., 0., 0., 0., 0.,\n",
       "       0., 0., 0., 0., 0., 0., 0., 0., 0., 0., 0., 0., 0., 0., 0., 0., 0.,\n",
       "       0., 0., 0., 0., 0., 0., 0., 0., 0., 0., 0., 0., 0., 0., 0., 0., 0.,\n",
       "       0., 0., 0., 0., 0., 0., 0.])"
      ]
     },
     "execution_count": 30,
     "metadata": {},
     "output_type": "execute_result"
    }
   ],
   "source": [
    "text = 't co http  in for'\n",
    "bagofwords(text, vocab)"
   ]
  },
  {
   "cell_type": "markdown",
   "metadata": {
    "id": "DGXKMY5gH1A3"
   },
   "source": [
    "Notice your one row of bag of words! \n",
    "\n",
    "Now, we want to loop this function through our whole dataset. See below for how we do this. "
   ]
  },
  {
   "cell_type": "code",
   "execution_count": null,
   "metadata": {
    "id": "X1gQH34fH1A3"
   },
   "outputs": [],
   "source": [
    "# set up a NumPy array with the specified dimension to contain the bag of words\n",
    "n_words = len(vocab)\n",
    "n_docs = len(df)\n",
    "bag_o = np.zeros([n_docs,n_words])\n",
    "# use loop function to add new row for each tweet. \n",
    "for ii in range(n_docs): \n",
    "    #call out the previous function 'bagofwords'. see the inputs: sentence and words\n",
    "    bag_o[ii,:] = bagofwords(df['text'].iloc[ii], vocab) "
   ]
  },
  {
   "cell_type": "markdown",
   "metadata": {
    "id": "VzFu8xkZH1A4"
   },
   "source": [
    "Now, find out the [dimension](https://stackoverflow.com/questions/14847457/how-do-i-find-the-length-or-dimensions-size-of-a-numpy-matrix-in-python) of the numpy array. Does it make sense to you?"
   ]
  },
  {
   "cell_type": "code",
   "execution_count": null,
   "metadata": {
    "colab": {
     "base_uri": "https://localhost:8080/"
    },
    "executionInfo": {
     "elapsed": 14,
     "status": "ok",
     "timestamp": 1654166250890,
     "user": {
      "displayName": "Mohit Ahuja",
      "userId": "05773503373517638884"
     },
     "user_tz": -330
    },
    "id": "OekgIvAWH1A4",
    "outputId": "caee3627-b964-46db-dfb8-f20cb847e80b"
   },
   "outputs": [
    {
     "data": {
      "text/plain": [
       "(10860, 500)"
      ]
     },
     "execution_count": 32,
     "metadata": {},
     "output_type": "execute_result"
    }
   ],
   "source": [
    "# your code here\n",
    "bag_o.shape"
   ]
  },
  {
   "cell_type": "markdown",
   "metadata": {
    "id": "etTb_LM6H1A4"
   },
   "source": [
    "## 2. Find out the total frequency, inverse document frequency\n",
    "\n",
    "Here, we would like to work with words that provide us with the most meaning in the sentences/ tweets. Does it make sense to think that the words that are used most often are important?\n",
    "\n",
    "We first take a look at the words inside our bag of words. Print the 20 most frequent words.  \n",
    "hint: Your hash_map is a dictionary of all words with each word as a key, and its frequency as a value aka dict{word: frequency}. What do you notice about these most common words?\n",
    "\n",
    "See [this article](https://docs.python.org/3/howto/sorting.html) under 'Key Functions' to find out. Use object’s indices as keys."
   ]
  },
  {
   "cell_type": "code",
   "execution_count": null,
   "metadata": {
    "colab": {
     "base_uri": "https://localhost:8080/"
    },
    "executionInfo": {
     "elapsed": 11,
     "status": "ok",
     "timestamp": 1654166250891,
     "user": {
      "displayName": "Mohit Ahuja",
      "userId": "05773503373517638884"
     },
     "user_tz": -330
    },
    "id": "AxrFOSdnH1A4",
    "outputId": "a7c07bc0-e674-46da-8a69-9437bb9686be"
   },
   "outputs": [
    {
     "data": {
      "text/plain": [
       "[('t', 7442),\n",
       " ('co', 6799),\n",
       " ('http', 6153),\n",
       " ('in', 2805),\n",
       " ('i', 2486),\n",
       " ('ã', 1633),\n",
       " ('s', 1272),\n",
       " ('for', 1243),\n",
       " ('on', 1236),\n",
       " ('that', 844),\n",
       " ('with', 798),\n",
       " ('by', 768),\n",
       " ('at', 745),\n",
       " ('this', 702),\n",
       " ('https', 618),\n",
       " ('from', 613),\n",
       " ('be', 587),\n",
       " ('was', 554),\n",
       " ('â', 535),\n",
       " ('m', 531)]"
      ]
     },
     "execution_count": 33,
     "metadata": {},
     "output_type": "execute_result"
    }
   ],
   "source": [
    "# Your code here\n",
    "sorted(hash_map.items(), key=lambda item: item[1], reverse=True)[:20]"
   ]
  },
  {
   "cell_type": "markdown",
   "metadata": {
    "id": "xneW4wfeH1A4"
   },
   "source": [
    "What is key=lambda for? See [this article](https://stackoverflow.com/questions/13669252/what-is-key-lambda/13669294) to find out."
   ]
  },
  {
   "cell_type": "markdown",
   "metadata": {
    "id": "0bT4N7wLH1A5"
   },
   "source": [
    "See the top 20 words above. What do you notice?\n"
   ]
  },
  {
   "cell_type": "markdown",
   "metadata": {
    "id": "KWj0F9rDH1A5"
   },
   "source": [
    "### Choosing features\n",
    "The 20 most common words give almost NO information about the tweets. They are remains of twitter urls, as well as some common words frequently found in all text. We can hardly consider them 'important features'. It seems then that to improve the model, we should do more than just look at the most frequent words. \n",
    "\n",
    "Perhaps we should look for words that appear frequently in some documents, but not in all documents. Why do you think this makes sense?\n",
    "\n",
    "This is the intuition behind what is known as 'total frequency-inverse document frequency', or tfidf.  \n",
    "\n",
    "\n",
    "The tfidf formula is below: \n",
    "$$w_{i,j}=tf_{i,j}*log(\\frac{N}{df_i})$$  \n",
    "In this formula, $i$ is a word indexer and $j$ is a document indexer.  \n",
    "In your bag of words, each row is a document, while each column is the frequency of a word in that document. This is already the 'term frequency' portion of tfidf ($tf_{i,j}$). \n",
    "\n",
    "### Inverse document frequency\n",
    "\n",
    "We now want to calculate the inverse document frequency, which can be understood in the following way: for each word, count the number of documents it appears in, and then take the log of the inverse of that number.  \n",
    "\n",
    "Build the idf vector in 2 parts. \n",
    "1. First, build the word frequency for each word. \n",
    "2. Then divide the number of documents (N) by the word frequency and take the log of the result.\n",
    "\n",
    "Remember what we have done during the acquire phase?"
   ]
  },
  {
   "cell_type": "code",
   "execution_count": null,
   "metadata": {
    "id": "ZS6qsmUIH1A5"
   },
   "outputs": [],
   "source": [
    "#initialize 2 variables representing the number of tweets (numdocs) and the number of tokens/words (numwords)\n",
    "numdocs, numwords = np.shape(bag_o)\n",
    "\n",
    "#Changing into the tfidf formula as above\n",
    "N = numdocs\n",
    "word_frequency = np.empty(numwords)\n",
    "\n",
    "#Count the number of documents the word appears in.\n",
    "for word in range(numwords):\n",
    "    word_frequency[word]=np.sum((bag_o[:,word]>0)) \n",
    "\n",
    "idf = np.log(N/word_frequency)"
   ]
  },
  {
   "cell_type": "code",
   "execution_count": null,
   "metadata": {
    "colab": {
     "base_uri": "https://localhost:8080/"
    },
    "executionInfo": {
     "elapsed": 11,
     "status": "ok",
     "timestamp": 1654166251370,
     "user": {
      "displayName": "Mohit Ahuja",
      "userId": "05773503373517638884"
     },
     "user_tz": -330
    },
    "id": "SZ424hLtH1A5",
    "outputId": "38cb1193-3f9b-48d6-cec5-161616c28862"
   },
   "outputs": [
    {
     "data": {
      "text/plain": [
       "(500,)"
      ]
     },
     "execution_count": 35,
     "metadata": {},
     "output_type": "execute_result"
    }
   ],
   "source": [
    "idf.shape"
   ]
  },
  {
   "cell_type": "markdown",
   "metadata": {
    "id": "-hwWoKKkH1A5"
   },
   "source": [
    "Now we will complete our tfidf by nultiplying our bag of words (term frequency) with the idf"
   ]
  },
  {
   "cell_type": "code",
   "execution_count": null,
   "metadata": {
    "id": "bfk308njH1A5"
   },
   "outputs": [],
   "source": [
    "#initializs tfidf array\n",
    "tfidf = np.empty([numdocs, numwords])\n",
    "\n",
    "#loop through the tweets, multiply term frequency (represented by bag of words) with idf\n",
    "for doc in range(numdocs):\n",
    "    tfidf[doc, :]=bag_o[doc, :]*idf"
   ]
  },
  {
   "cell_type": "code",
   "execution_count": null,
   "metadata": {
    "colab": {
     "base_uri": "https://localhost:8080/"
    },
    "executionInfo": {
     "elapsed": 8,
     "status": "ok",
     "timestamp": 1654166251371,
     "user": {
      "displayName": "Mohit Ahuja",
      "userId": "05773503373517638884"
     },
     "user_tz": -330
    },
    "id": "xV25aye1H1A6",
    "outputId": "c5195806-5ac7-4500-955f-1676e70381df"
   },
   "outputs": [
    {
     "data": {
      "text/plain": [
       "(10860, 500)"
      ]
     },
     "execution_count": 37,
     "metadata": {},
     "output_type": "execute_result"
    }
   ],
   "source": [
    "tfidf.shape"
   ]
  },
  {
   "cell_type": "code",
   "execution_count": null,
   "metadata": {
    "colab": {
     "base_uri": "https://localhost:8080/"
    },
    "executionInfo": {
     "elapsed": 8,
     "status": "ok",
     "timestamp": 1654166251371,
     "user": {
      "displayName": "Mohit Ahuja",
      "userId": "05773503373517638884"
     },
     "user_tz": -330
    },
    "id": "hpxmyMOxH1A6",
    "outputId": "e840261e-59c6-40fd-9c3b-8febbe5df8b0",
    "scrolled": false
   },
   "outputs": [
    {
     "name": "stdout",
     "output_type": "stream",
     "text": [
      "[[0.         0.         0.         ... 0.         0.         0.        ]\n",
      " [0.         0.         0.         ... 0.         0.         0.        ]\n",
      " [0.         0.         0.         ... 0.         0.         0.        ]\n",
      " ...\n",
      " [0.56037575 0.64356806 0.74842242 ... 0.         0.         0.        ]\n",
      " [0.56037575 0.64356806 0.74842242 ... 0.         0.         0.        ]\n",
      " [0.         0.         0.         ... 0.         0.         0.        ]]\n"
     ]
    }
   ],
   "source": [
    "print (tfidf)"
   ]
  },
  {
   "cell_type": "markdown",
   "metadata": {
    "id": "gjEDnzkpH1A6"
   },
   "source": [
    "How would you describe the tfidf array? It is made of the tfidf value of each of the 500 token in the 10860 tweets."
   ]
  },
  {
   "cell_type": "markdown",
   "metadata": {
    "id": "DsSOAacDH1A6"
   },
   "source": [
    "## 3. Train your model with Machine Learning\n",
    "Now that you finally have your tfidf array. It is time to train your model and to make predictions! We will be using the scikit learn library, which provides a number of machine learning models. \n",
    "\n",
    "Do you remember what is machine learning? It is an application of AI that allows a system to automatically learn without being explicitly programmed. \n",
    "\n",
    "Now, we are using what we call the supervised learning. Do you remember what this is?\n",
    "This is the type of learning that enable us to make models to predict certain system, given a given training set. In this case, we want to predict if a text relates to news about disaster or not. We have already downloaded text data from twitter, and we have labelled the data with several labels i.e. 'Relevant', 'Not Relevant', and 'Can't decide'. These data will be used to train our model. Let's find out how we can do this!\n",
    "\n",
    "Let's first download the libraries required to do this. The scikit learn library contains numerous useful functions to be used for machine learning problem. \n",
    "\n",
    "### Import Libraries"
   ]
  },
  {
   "cell_type": "code",
   "execution_count": null,
   "metadata": {
    "id": "NBgtv16lH1A6"
   },
   "outputs": [],
   "source": [
    "from sklearn.linear_model import LogisticRegression #to import logistic regression model\n",
    "from sklearn.model_selection import train_test_split #to split data into training and testing set\n",
    "from sklearn.model_selection import GridSearchCV #to find out the best parameter for our model"
   ]
  },
  {
   "cell_type": "markdown",
   "metadata": {
    "id": "WlMHel1uH1A7"
   },
   "source": [
    "### Step 1. Split data into training and test set\n",
    "\n",
    "Before training our model, we will split our dataset into 2: a training set, and a test set.\n",
    "\n",
    "We will then train our model on the training set, and then test the model generated during the training stage on the test set. This is to ensure that the testing is done on dataset that the model has never 'seen'/ processed. \n",
    "\n",
    "A good starting point for the split is to have 80% of your data in the train set, and 20% of the data in the test set.  \n",
    "\n",
    "Let's do this now!"
   ]
  },
  {
   "cell_type": "code",
   "execution_count": null,
   "metadata": {
    "id": "RyVKxTX6H1A7"
   },
   "outputs": [],
   "source": [
    "# split X_all and y_all into training and testing sets\n",
    "X_train,X_test,y_train,y_test = train_test_split(tfidf,df['relevance'].values,shuffle=True)"
   ]
  },
  {
   "cell_type": "markdown",
   "metadata": {
    "id": "GBrUXKaeH1A7"
   },
   "source": [
    "Could you explain what is happening on the code above?. We are using the train_test_split function to split the tfidf array and part of the initial dataframe which include the 'relevance' value of our tweet. What does [shuffle=True](https://scikit-learn.org/stable/modules/generated/sklearn.model_selection.train_test_split.html) means?\n",
    "\n",
    "Let's learn more about the dataset we are working with! print tfidf and df['relevance'] below to see them. Meanwhile, find out what is [.value](https://www.geeksforgeeks.org/python-pandas-dataframe-values/) for. "
   ]
  },
  {
   "cell_type": "code",
   "execution_count": null,
   "metadata": {
    "colab": {
     "base_uri": "https://localhost:8080/"
    },
    "executionInfo": {
     "elapsed": 8,
     "status": "ok",
     "timestamp": 1654166251372,
     "user": {
      "displayName": "Mohit Ahuja",
      "userId": "05773503373517638884"
     },
     "user_tz": -330
    },
    "id": "1d8XzOE6H1A7",
    "outputId": "b18acbd4-ea8c-4e49-b734-ab0a23fb8676"
   },
   "outputs": [
    {
     "name": "stdout",
     "output_type": "stream",
     "text": [
      "[[0.         0.         0.         ... 0.         0.         0.        ]\n",
      " [0.         0.         0.         ... 0.         0.         0.        ]\n",
      " [0.         0.         0.         ... 0.         0.         0.        ]\n",
      " ...\n",
      " [0.56037575 0.64356806 0.74842242 ... 0.         0.         0.        ]\n",
      " [0.56037575 0.64356806 0.74842242 ... 0.         0.         0.        ]\n",
      " [0.         0.         0.         ... 0.         0.         0.        ]]\n",
      "0        1\n",
      "1        1\n",
      "2        1\n",
      "3        1\n",
      "4        1\n",
      "        ..\n",
      "10871    1\n",
      "10872    1\n",
      "10873    1\n",
      "10874    1\n",
      "10875    1\n",
      "Name: relevance, Length: 10860, dtype: int64\n"
     ]
    }
   ],
   "source": [
    "print (tfidf)\n",
    "print (df['relevance'])"
   ]
  },
  {
   "cell_type": "markdown",
   "metadata": {
    "id": "Hu2nd6ckH1A7"
   },
   "source": [
    "Great! Now that we have already split our dataset, let's see what data we have now. Print the shape of X_train, X_test, y_train and y_test! "
   ]
  },
  {
   "cell_type": "code",
   "execution_count": null,
   "metadata": {
    "colab": {
     "base_uri": "https://localhost:8080/"
    },
    "executionInfo": {
     "elapsed": 7,
     "status": "ok",
     "timestamp": 1654166251372,
     "user": {
      "displayName": "Mohit Ahuja",
      "userId": "05773503373517638884"
     },
     "user_tz": -330
    },
    "id": "5MmHVJHIH1A7",
    "outputId": "3446b30a-f307-43e3-a916-18eed481ce04"
   },
   "outputs": [
    {
     "name": "stdout",
     "output_type": "stream",
     "text": [
      "(8145, 500)\n",
      "(2715, 500)\n",
      "(8145,)\n",
      "(2715,)\n"
     ]
    }
   ],
   "source": [
    "print(X_train.shape)\n",
    "print(X_test.shape)\n",
    "\n",
    "print(y_train.shape)\n",
    "print(y_test.shape)"
   ]
  },
  {
   "cell_type": "markdown",
   "metadata": {
    "id": "s4nilCKYH1A8"
   },
   "source": [
    "Compare X_train and X_test, and also compare y_train and y_test. What do you notice about the difference in shape? "
   ]
  },
  {
   "cell_type": "code",
   "execution_count": null,
   "metadata": {
    "id": "HhUAzMtNH1A8"
   },
   "outputs": [],
   "source": [
    "# your answer here\n",
    "# They are split 80% and 20%"
   ]
  },
  {
   "cell_type": "markdown",
   "metadata": {
    "id": "gUY-AP61H1A8"
   },
   "source": [
    "### Step 2. Create a model instance\n",
    "After splitting the data, we will make an instance of the model i.e. we are simply initialising the model. In this task, we are using the logistic regressor, which is useful when we want to categorise data. Read [here](https://towardsdatascience.com/understanding-logistic-regression-9b02c2aec102) to find out more!"
   ]
  },
  {
   "cell_type": "code",
   "execution_count": null,
   "metadata": {
    "id": "oKIw1PyfH1A9"
   },
   "outputs": [],
   "source": [
    "# Create a model instance\n",
    "logreg = LogisticRegression(solver = 'lbfgs')"
   ]
  },
  {
   "cell_type": "markdown",
   "metadata": {
    "id": "pomvQaOQH1A9"
   },
   "source": [
    "### Step 3. Train the model on data, store the information learnt from data"
   ]
  },
  {
   "cell_type": "code",
   "execution_count": null,
   "metadata": {
    "colab": {
     "base_uri": "https://localhost:8080/"
    },
    "executionInfo": {
     "elapsed": 980,
     "status": "ok",
     "timestamp": 1654166252346,
     "user": {
      "displayName": "Mohit Ahuja",
      "userId": "05773503373517638884"
     },
     "user_tz": -330
    },
    "id": "Fwr4bt-TH1A9",
    "outputId": "70e8e997-e3fa-47eb-e578-e2cbde5b989f",
    "scrolled": true
   },
   "outputs": [
    {
     "name": "stderr",
     "output_type": "stream",
     "text": [
      "/usr/local/lib/python3.7/dist-packages/sklearn/linear_model/_logistic.py:818: ConvergenceWarning: lbfgs failed to converge (status=1):\n",
      "STOP: TOTAL NO. of ITERATIONS REACHED LIMIT.\n",
      "\n",
      "Increase the number of iterations (max_iter) or scale the data as shown in:\n",
      "    https://scikit-learn.org/stable/modules/preprocessing.html\n",
      "Please also refer to the documentation for alternative solver options:\n",
      "    https://scikit-learn.org/stable/modules/linear_model.html#logistic-regression\n",
      "  extra_warning_msg=_LOGISTIC_SOLVER_CONVERGENCE_MSG,\n"
     ]
    },
    {
     "data": {
      "text/plain": [
       "LogisticRegression()"
      ]
     },
     "execution_count": 45,
     "metadata": {},
     "output_type": "execute_result"
    }
   ],
   "source": [
    "#Fit the model on the training set\n",
    "logreg.fit(X_train,y_train)"
   ]
  },
  {
   "cell_type": "markdown",
   "metadata": {
    "id": "LJFtDdtxH1A9"
   },
   "source": [
    "Do not worry about understanding the parameters shown above for now. You can still create projects with the logistic regressor even if you do not know every parameter involved. "
   ]
  },
  {
   "cell_type": "markdown",
   "metadata": {
    "id": "7WQlKkB1H1A9"
   },
   "source": [
    "## Step 4. Use model to predict relevance based on test data"
   ]
  },
  {
   "cell_type": "code",
   "execution_count": null,
   "metadata": {
    "colab": {
     "base_uri": "https://localhost:8080/"
    },
    "executionInfo": {
     "elapsed": 6,
     "status": "ok",
     "timestamp": 1654166252346,
     "user": {
      "displayName": "Mohit Ahuja",
      "userId": "05773503373517638884"
     },
     "user_tz": -330
    },
    "id": "hq5ND0igH1A9",
    "outputId": "73cbe148-1400-4b5a-ae52-310bd7d0b8ec",
    "scrolled": true
   },
   "outputs": [
    {
     "name": "stdout",
     "output_type": "stream",
     "text": [
      "[0 0 1 ... 0 0 0]\n"
     ]
    }
   ],
   "source": [
    "y_pred=logreg.predict(X_test)\n",
    "print (y_pred)"
   ]
  },
  {
   "cell_type": "markdown",
   "metadata": {
    "id": "KR7mfiLAH1A9"
   },
   "source": [
    "What does the y_pred mean?"
   ]
  },
  {
   "cell_type": "markdown",
   "metadata": {
    "id": "H-siTPaNH1A-"
   },
   "source": [
    "We will now measure our model performance by finding out the accuracy value of the model. Remember, accuracy is defined as:\n",
    "\n",
    "Fraction of correct predictions = correct predictions / total number of data points"
   ]
  },
  {
   "cell_type": "code",
   "execution_count": null,
   "metadata": {
    "colab": {
     "base_uri": "https://localhost:8080/"
    },
    "executionInfo": {
     "elapsed": 6,
     "status": "ok",
     "timestamp": 1654166252347,
     "user": {
      "displayName": "Mohit Ahuja",
      "userId": "05773503373517638884"
     },
     "user_tz": -330
    },
    "id": "xZEnMQ5AH1A-",
    "outputId": "0b659f72-9854-4ce8-c517-933c9fbc8fa1"
   },
   "outputs": [
    {
     "name": "stdout",
     "output_type": "stream",
     "text": [
      "0.7686924493554328\n",
      "Accuracy of logistic regression classifier on test set: 0.769\n"
     ]
    }
   ],
   "source": [
    "# Use score method to get accuracy of model\n",
    "score = logreg.score(X_test, y_test)\n",
    "print(score)\n",
    "\n",
    "print('Accuracy of logistic regression classifier on test set: {:.3f}'.format(score))"
   ]
  },
  {
   "cell_type": "markdown",
   "metadata": {
    "id": "cdy93LdhH1A-"
   },
   "source": [
    "Awesome! we have collected our data, process them, split them into training and testing data, train our model, and evaluate performance of our model. Next, we will define a function that will help us do all these task in one go! "
   ]
  },
  {
   "cell_type": "markdown",
   "metadata": {
    "id": "u18uOKtYH1A-"
   },
   "source": [
    "### Model Training Pipeline\n",
    "\n",
    "Your task is to build a function that will:\n",
    "1. Take in the untrained model, tfidf array, and the values from the training target.\n",
    "2. Randomly split the two into a train and test set\n",
    "3. Fit the model on the training set\n",
    "4. Print the accuracy score on the test set\n",
    "5. Return the trained model."
   ]
  },
  {
   "cell_type": "code",
   "execution_count": null,
   "metadata": {
    "id": "XNMdWP6IH1A-"
   },
   "outputs": [],
   "source": [
    "def classify(rf, X_all, y_all): #Take in the untrained model, tfidf array, and the values from the training target.\n",
    "    X_train,X_test,y_train,y_test = train_test_split(X_all,y_all,shuffle=True) #Randomly split the two into a train and test set\n",
    "    logreg.fit(X_train,y_train) #Fit the model on the training set\n",
    "    print(rf.score(X_test,y_test)) #Print the accuracy score on the test set\n",
    "    return logreg #Return the trained model."
   ]
  },
  {
   "cell_type": "markdown",
   "metadata": {
    "id": "BHLDZeAUH1A-"
   },
   "source": [
    "Now we can apply the function into our dataset"
   ]
  },
  {
   "cell_type": "code",
   "execution_count": null,
   "metadata": {
    "colab": {
     "base_uri": "https://localhost:8080/"
    },
    "executionInfo": {
     "elapsed": 722,
     "status": "ok",
     "timestamp": 1654166253066,
     "user": {
      "displayName": "Mohit Ahuja",
      "userId": "05773503373517638884"
     },
     "user_tz": -330
    },
    "id": "HSLCxYs2H1A_",
    "outputId": "c14eb6bb-58fd-4ce7-a32b-260beba04129"
   },
   "outputs": [
    {
     "name": "stdout",
     "output_type": "stream",
     "text": [
      "0.7731123388581952\n"
     ]
    },
    {
     "name": "stderr",
     "output_type": "stream",
     "text": [
      "/usr/local/lib/python3.7/dist-packages/sklearn/linear_model/_logistic.py:818: ConvergenceWarning: lbfgs failed to converge (status=1):\n",
      "STOP: TOTAL NO. of ITERATIONS REACHED LIMIT.\n",
      "\n",
      "Increase the number of iterations (max_iter) or scale the data as shown in:\n",
      "    https://scikit-learn.org/stable/modules/preprocessing.html\n",
      "Please also refer to the documentation for alternative solver options:\n",
      "    https://scikit-learn.org/stable/modules/linear_model.html#logistic-regression\n",
      "  extra_warning_msg=_LOGISTIC_SOLVER_CONVERGENCE_MSG,\n"
     ]
    }
   ],
   "source": [
    "logreg = LogisticRegression(solver = 'lbfgs')\n",
    "#logreg = LogisticRegression()\n",
    "\n",
    "X_all = tfidf\n",
    "y_all = df['relevance'].values\n",
    "logreg = classify(logreg, X_all, y_all)"
   ]
  },
  {
   "cell_type": "markdown",
   "metadata": {
    "id": "vKEHsBjCH1A_"
   },
   "source": [
    "### Tuning parameters (Optional)\n",
    "If you have implemented this right, you should have a test score of at least 0.75. \n",
    "\n",
    "Let us try to improve this score by tuning the hyperparameters. We first take a look at the parameters in your logistic regressor. Feel free to read more about its parameters [here](https://scikit-learn.org/stable/modules/generated/sklearn.linear_model.LogisticRegression.html). Again, don't stress yourself out if you do not understand these parameters now. It will come with more reading and practise!"
   ]
  },
  {
   "cell_type": "code",
   "execution_count": null,
   "metadata": {
    "colab": {
     "base_uri": "https://localhost:8080/"
    },
    "executionInfo": {
     "elapsed": 4,
     "status": "ok",
     "timestamp": 1654166253066,
     "user": {
      "displayName": "Mohit Ahuja",
      "userId": "05773503373517638884"
     },
     "user_tz": -330
    },
    "id": "d69ROVxBH1A_",
    "outputId": "5555d29b-f500-43a0-fbd7-c1088795f431"
   },
   "outputs": [
    {
     "data": {
      "text/plain": [
       "LogisticRegression()"
      ]
     },
     "execution_count": 50,
     "metadata": {},
     "output_type": "execute_result"
    }
   ],
   "source": [
    "logreg"
   ]
  },
  {
   "cell_type": "markdown",
   "metadata": {
    "id": "VVtsVVKEH1A_"
   },
   "source": [
    "Parameters can be automatically tuned using scikit-learn's GridSearchCV. This function takes in a model, as well as a dictionary of parameters with values to test, and runs tests each combination of parameters to find the optimal combination for the highest score. Learn more [here](https://scikit-learn.org/stable/modules/generated/sklearn.model_selection.GridSearchCV.html#sklearn.model_selection.GridSearchCV.)"
   ]
  },
  {
   "cell_type": "code",
   "execution_count": null,
   "metadata": {
    "id": "H916bJF1H1A_"
   },
   "outputs": [],
   "source": [
    "# Define your hyperparameters here\n",
    "parameters = {'C':[0.001, 0.01, 0.1, 1, 10], 'tol':[0.0001, 0.001, 0.01], 'max_iter':[100, 1000]}"
   ]
  },
  {
   "cell_type": "code",
   "execution_count": null,
   "metadata": {
    "id": "uOI70wJ7H1A_"
   },
   "outputs": [],
   "source": [
    "clf = GridSearchCV(logreg, parameters, cv=3, return_train_score=True)"
   ]
  },
  {
   "cell_type": "code",
   "execution_count": null,
   "metadata": {
    "colab": {
     "base_uri": "https://localhost:8080/"
    },
    "executionInfo": {
     "elapsed": 50998,
     "status": "ok",
     "timestamp": 1654166304061,
     "user": {
      "displayName": "Mohit Ahuja",
      "userId": "05773503373517638884"
     },
     "user_tz": -330
    },
    "id": "mYzVasJPH1BA",
    "outputId": "ab708993-3a02-4a03-ebc6-c7a20491c008",
    "scrolled": true
   },
   "outputs": [
    {
     "name": "stderr",
     "output_type": "stream",
     "text": [
      "/usr/local/lib/python3.7/dist-packages/sklearn/linear_model/_logistic.py:818: ConvergenceWarning: lbfgs failed to converge (status=1):\n",
      "STOP: TOTAL NO. of ITERATIONS REACHED LIMIT.\n",
      "\n",
      "Increase the number of iterations (max_iter) or scale the data as shown in:\n",
      "    https://scikit-learn.org/stable/modules/preprocessing.html\n",
      "Please also refer to the documentation for alternative solver options:\n",
      "    https://scikit-learn.org/stable/modules/linear_model.html#logistic-regression\n",
      "  extra_warning_msg=_LOGISTIC_SOLVER_CONVERGENCE_MSG,\n",
      "/usr/local/lib/python3.7/dist-packages/sklearn/linear_model/_logistic.py:818: ConvergenceWarning: lbfgs failed to converge (status=1):\n",
      "STOP: TOTAL NO. of ITERATIONS REACHED LIMIT.\n",
      "\n",
      "Increase the number of iterations (max_iter) or scale the data as shown in:\n",
      "    https://scikit-learn.org/stable/modules/preprocessing.html\n",
      "Please also refer to the documentation for alternative solver options:\n",
      "    https://scikit-learn.org/stable/modules/linear_model.html#logistic-regression\n",
      "  extra_warning_msg=_LOGISTIC_SOLVER_CONVERGENCE_MSG,\n",
      "/usr/local/lib/python3.7/dist-packages/sklearn/linear_model/_logistic.py:818: ConvergenceWarning: lbfgs failed to converge (status=1):\n",
      "STOP: TOTAL NO. of ITERATIONS REACHED LIMIT.\n",
      "\n",
      "Increase the number of iterations (max_iter) or scale the data as shown in:\n",
      "    https://scikit-learn.org/stable/modules/preprocessing.html\n",
      "Please also refer to the documentation for alternative solver options:\n",
      "    https://scikit-learn.org/stable/modules/linear_model.html#logistic-regression\n",
      "  extra_warning_msg=_LOGISTIC_SOLVER_CONVERGENCE_MSG,\n",
      "/usr/local/lib/python3.7/dist-packages/sklearn/linear_model/_logistic.py:818: ConvergenceWarning: lbfgs failed to converge (status=1):\n",
      "STOP: TOTAL NO. of ITERATIONS REACHED LIMIT.\n",
      "\n",
      "Increase the number of iterations (max_iter) or scale the data as shown in:\n",
      "    https://scikit-learn.org/stable/modules/preprocessing.html\n",
      "Please also refer to the documentation for alternative solver options:\n",
      "    https://scikit-learn.org/stable/modules/linear_model.html#logistic-regression\n",
      "  extra_warning_msg=_LOGISTIC_SOLVER_CONVERGENCE_MSG,\n",
      "/usr/local/lib/python3.7/dist-packages/sklearn/linear_model/_logistic.py:818: ConvergenceWarning: lbfgs failed to converge (status=1):\n",
      "STOP: TOTAL NO. of ITERATIONS REACHED LIMIT.\n",
      "\n",
      "Increase the number of iterations (max_iter) or scale the data as shown in:\n",
      "    https://scikit-learn.org/stable/modules/preprocessing.html\n",
      "Please also refer to the documentation for alternative solver options:\n",
      "    https://scikit-learn.org/stable/modules/linear_model.html#logistic-regression\n",
      "  extra_warning_msg=_LOGISTIC_SOLVER_CONVERGENCE_MSG,\n",
      "/usr/local/lib/python3.7/dist-packages/sklearn/linear_model/_logistic.py:818: ConvergenceWarning: lbfgs failed to converge (status=1):\n",
      "STOP: TOTAL NO. of ITERATIONS REACHED LIMIT.\n",
      "\n",
      "Increase the number of iterations (max_iter) or scale the data as shown in:\n",
      "    https://scikit-learn.org/stable/modules/preprocessing.html\n",
      "Please also refer to the documentation for alternative solver options:\n",
      "    https://scikit-learn.org/stable/modules/linear_model.html#logistic-regression\n",
      "  extra_warning_msg=_LOGISTIC_SOLVER_CONVERGENCE_MSG,\n",
      "/usr/local/lib/python3.7/dist-packages/sklearn/linear_model/_logistic.py:818: ConvergenceWarning: lbfgs failed to converge (status=1):\n",
      "STOP: TOTAL NO. of ITERATIONS REACHED LIMIT.\n",
      "\n",
      "Increase the number of iterations (max_iter) or scale the data as shown in:\n",
      "    https://scikit-learn.org/stable/modules/preprocessing.html\n",
      "Please also refer to the documentation for alternative solver options:\n",
      "    https://scikit-learn.org/stable/modules/linear_model.html#logistic-regression\n",
      "  extra_warning_msg=_LOGISTIC_SOLVER_CONVERGENCE_MSG,\n",
      "/usr/local/lib/python3.7/dist-packages/sklearn/linear_model/_logistic.py:818: ConvergenceWarning: lbfgs failed to converge (status=1):\n",
      "STOP: TOTAL NO. of ITERATIONS REACHED LIMIT.\n",
      "\n",
      "Increase the number of iterations (max_iter) or scale the data as shown in:\n",
      "    https://scikit-learn.org/stable/modules/preprocessing.html\n",
      "Please also refer to the documentation for alternative solver options:\n",
      "    https://scikit-learn.org/stable/modules/linear_model.html#logistic-regression\n",
      "  extra_warning_msg=_LOGISTIC_SOLVER_CONVERGENCE_MSG,\n",
      "/usr/local/lib/python3.7/dist-packages/sklearn/linear_model/_logistic.py:818: ConvergenceWarning: lbfgs failed to converge (status=1):\n",
      "STOP: TOTAL NO. of ITERATIONS REACHED LIMIT.\n",
      "\n",
      "Increase the number of iterations (max_iter) or scale the data as shown in:\n",
      "    https://scikit-learn.org/stable/modules/preprocessing.html\n",
      "Please also refer to the documentation for alternative solver options:\n",
      "    https://scikit-learn.org/stable/modules/linear_model.html#logistic-regression\n",
      "  extra_warning_msg=_LOGISTIC_SOLVER_CONVERGENCE_MSG,\n",
      "/usr/local/lib/python3.7/dist-packages/sklearn/linear_model/_logistic.py:818: ConvergenceWarning: lbfgs failed to converge (status=1):\n",
      "STOP: TOTAL NO. of ITERATIONS REACHED LIMIT.\n",
      "\n",
      "Increase the number of iterations (max_iter) or scale the data as shown in:\n",
      "    https://scikit-learn.org/stable/modules/preprocessing.html\n",
      "Please also refer to the documentation for alternative solver options:\n",
      "    https://scikit-learn.org/stable/modules/linear_model.html#logistic-regression\n",
      "  extra_warning_msg=_LOGISTIC_SOLVER_CONVERGENCE_MSG,\n",
      "/usr/local/lib/python3.7/dist-packages/sklearn/linear_model/_logistic.py:818: ConvergenceWarning: lbfgs failed to converge (status=1):\n",
      "STOP: TOTAL NO. of ITERATIONS REACHED LIMIT.\n",
      "\n",
      "Increase the number of iterations (max_iter) or scale the data as shown in:\n",
      "    https://scikit-learn.org/stable/modules/preprocessing.html\n",
      "Please also refer to the documentation for alternative solver options:\n",
      "    https://scikit-learn.org/stable/modules/linear_model.html#logistic-regression\n",
      "  extra_warning_msg=_LOGISTIC_SOLVER_CONVERGENCE_MSG,\n",
      "/usr/local/lib/python3.7/dist-packages/sklearn/linear_model/_logistic.py:818: ConvergenceWarning: lbfgs failed to converge (status=1):\n",
      "STOP: TOTAL NO. of ITERATIONS REACHED LIMIT.\n",
      "\n",
      "Increase the number of iterations (max_iter) or scale the data as shown in:\n",
      "    https://scikit-learn.org/stable/modules/preprocessing.html\n",
      "Please also refer to the documentation for alternative solver options:\n",
      "    https://scikit-learn.org/stable/modules/linear_model.html#logistic-regression\n",
      "  extra_warning_msg=_LOGISTIC_SOLVER_CONVERGENCE_MSG,\n",
      "/usr/local/lib/python3.7/dist-packages/sklearn/linear_model/_logistic.py:818: ConvergenceWarning: lbfgs failed to converge (status=1):\n",
      "STOP: TOTAL NO. of ITERATIONS REACHED LIMIT.\n",
      "\n",
      "Increase the number of iterations (max_iter) or scale the data as shown in:\n",
      "    https://scikit-learn.org/stable/modules/preprocessing.html\n",
      "Please also refer to the documentation for alternative solver options:\n",
      "    https://scikit-learn.org/stable/modules/linear_model.html#logistic-regression\n",
      "  extra_warning_msg=_LOGISTIC_SOLVER_CONVERGENCE_MSG,\n",
      "/usr/local/lib/python3.7/dist-packages/sklearn/linear_model/_logistic.py:818: ConvergenceWarning: lbfgs failed to converge (status=1):\n",
      "STOP: TOTAL NO. of ITERATIONS REACHED LIMIT.\n",
      "\n",
      "Increase the number of iterations (max_iter) or scale the data as shown in:\n",
      "    https://scikit-learn.org/stable/modules/preprocessing.html\n",
      "Please also refer to the documentation for alternative solver options:\n",
      "    https://scikit-learn.org/stable/modules/linear_model.html#logistic-regression\n",
      "  extra_warning_msg=_LOGISTIC_SOLVER_CONVERGENCE_MSG,\n",
      "/usr/local/lib/python3.7/dist-packages/sklearn/linear_model/_logistic.py:818: ConvergenceWarning: lbfgs failed to converge (status=1):\n",
      "STOP: TOTAL NO. of ITERATIONS REACHED LIMIT.\n",
      "\n",
      "Increase the number of iterations (max_iter) or scale the data as shown in:\n",
      "    https://scikit-learn.org/stable/modules/preprocessing.html\n",
      "Please also refer to the documentation for alternative solver options:\n",
      "    https://scikit-learn.org/stable/modules/linear_model.html#logistic-regression\n",
      "  extra_warning_msg=_LOGISTIC_SOLVER_CONVERGENCE_MSG,\n",
      "/usr/local/lib/python3.7/dist-packages/sklearn/linear_model/_logistic.py:818: ConvergenceWarning: lbfgs failed to converge (status=1):\n",
      "STOP: TOTAL NO. of ITERATIONS REACHED LIMIT.\n",
      "\n",
      "Increase the number of iterations (max_iter) or scale the data as shown in:\n",
      "    https://scikit-learn.org/stable/modules/preprocessing.html\n",
      "Please also refer to the documentation for alternative solver options:\n",
      "    https://scikit-learn.org/stable/modules/linear_model.html#logistic-regression\n",
      "  extra_warning_msg=_LOGISTIC_SOLVER_CONVERGENCE_MSG,\n",
      "/usr/local/lib/python3.7/dist-packages/sklearn/linear_model/_logistic.py:818: ConvergenceWarning: lbfgs failed to converge (status=1):\n",
      "STOP: TOTAL NO. of ITERATIONS REACHED LIMIT.\n",
      "\n",
      "Increase the number of iterations (max_iter) or scale the data as shown in:\n",
      "    https://scikit-learn.org/stable/modules/preprocessing.html\n",
      "Please also refer to the documentation for alternative solver options:\n",
      "    https://scikit-learn.org/stable/modules/linear_model.html#logistic-regression\n",
      "  extra_warning_msg=_LOGISTIC_SOLVER_CONVERGENCE_MSG,\n",
      "/usr/local/lib/python3.7/dist-packages/sklearn/linear_model/_logistic.py:818: ConvergenceWarning: lbfgs failed to converge (status=1):\n",
      "STOP: TOTAL NO. of ITERATIONS REACHED LIMIT.\n",
      "\n",
      "Increase the number of iterations (max_iter) or scale the data as shown in:\n",
      "    https://scikit-learn.org/stable/modules/preprocessing.html\n",
      "Please also refer to the documentation for alternative solver options:\n",
      "    https://scikit-learn.org/stable/modules/linear_model.html#logistic-regression\n",
      "  extra_warning_msg=_LOGISTIC_SOLVER_CONVERGENCE_MSG,\n"
     ]
    },
    {
     "data": {
      "text/plain": [
       "GridSearchCV(cv=3, estimator=LogisticRegression(),\n",
       "             param_grid={'C': [0.001, 0.01, 0.1, 1, 10],\n",
       "                         'max_iter': [100, 1000],\n",
       "                         'tol': [0.0001, 0.001, 0.01]},\n",
       "             return_train_score=True)"
      ]
     },
     "execution_count": 53,
     "metadata": {},
     "output_type": "execute_result"
    }
   ],
   "source": [
    "clf.fit(X_all, y_all)"
   ]
  },
  {
   "cell_type": "code",
   "execution_count": null,
   "metadata": {
    "colab": {
     "base_uri": "https://localhost:8080/"
    },
    "executionInfo": {
     "elapsed": 43,
     "status": "ok",
     "timestamp": 1654166304062,
     "user": {
      "displayName": "Mohit Ahuja",
      "userId": "05773503373517638884"
     },
     "user_tz": -330
    },
    "id": "2E3mzyh8H1BA",
    "outputId": "5622c201-772d-4381-f197-64fd5e1444a6"
   },
   "outputs": [
    {
     "name": "stdout",
     "output_type": "stream",
     "text": [
      "{'C': 0.01, 'max_iter': 100, 'tol': 0.0001} 0.7179558011049724\n"
     ]
    }
   ],
   "source": [
    "# You can view the raw results using clf.cv_results_\n",
    "print(clf.best_params_, clf.best_score_)"
   ]
  },
  {
   "cell_type": "markdown",
   "metadata": {
    "id": "Dv8ZrPEgH1BA"
   },
   "source": [
    "See the accuracy result. Do you notice that it drops? Why do think this is so?\n",
    "\n",
    "The accuracy might be different because we split our models randomly. What we can do is to repeat the model fitting multiple times and get the average accuracy result. "
   ]
  },
  {
   "cell_type": "markdown",
   "metadata": {
    "id": "-kN8h4WEH1BA"
   },
   "source": [
    "## 4. Build your pipeline\n",
    "At this point you have a trained and optimized model ready to predict tweets. You will now tie it all together to build a pipeline for prediction. \n",
    "\n",
    "This will be a function that:\n",
    "1. Take in a tweet in the form of a string\n",
    "2. Prints a prediction on whether the tweet is relevant"
   ]
  },
  {
   "cell_type": "code",
   "execution_count": null,
   "metadata": {
    "id": "4a_tKtt1H1BA"
   },
   "outputs": [],
   "source": [
    "def twitter_predictor(tweet):\n",
    "    # your code here\n",
    "    word_vector = bagofwords(tweet, vocab) # set a variable with bag of words. Remember the bagofwords function you have created?\n",
    "    word_tfidf = word_vector*idf #find tfidf value\n",
    "    prediction = logreg.predict(word_tfidf.reshape(1, -1)) #predict wether a tweet is relevant or not relevant to natural disaster\n",
    "    results = {1:'Relevant', 0:'Not Relevant'} #creating a set containing the potential results. You can change the 'Relevant' and 'Not relevant' tag\n",
    "    print(results[int(prediction)])"
   ]
  },
  {
   "cell_type": "code",
   "execution_count": null,
   "metadata": {
    "colab": {
     "base_uri": "https://localhost:8080/"
    },
    "executionInfo": {
     "elapsed": 31,
     "status": "ok",
     "timestamp": 1654166304063,
     "user": {
      "displayName": "Mohit Ahuja",
      "userId": "05773503373517638884"
     },
     "user_tz": -330
    },
    "id": "7xo0FtixH1BA",
    "outputId": "f873b9b7-a1f4-49b3-e42a-2919731cf245"
   },
   "outputs": [
    {
     "name": "stdout",
     "output_type": "stream",
     "text": [
      "Relevant\n",
      "Not Relevant\n"
     ]
    }
   ],
   "source": [
    "tweet1 = 'When the earthquake happened (Nepal) we were the last intl team still there; in a way we were 1st responders'\n",
    "tweet2 = 'NLP is fun and I learnt so much today.'\n",
    "twitter_predictor(tweet1)\n",
    "twitter_predictor(tweet2)"
   ]
  },
  {
   "cell_type": "markdown",
   "metadata": {
    "id": "x-wrjnxvH1BA"
   },
   "source": [
    "### Task: Write your own tweets and see if your model can classify them!"
   ]
  },
  {
   "cell_type": "code",
   "execution_count": null,
   "metadata": {
    "colab": {
     "base_uri": "https://localhost:8080/"
    },
    "executionInfo": {
     "elapsed": 31,
     "status": "ok",
     "timestamp": 1654166304063,
     "user": {
      "displayName": "Mohit Ahuja",
      "userId": "05773503373517638884"
     },
     "user_tz": -330
    },
    "id": "xSj5_-opH1BB",
    "outputId": "d7c0f297-dd36-4e42-85c3-83f8a3f1a5a4",
    "scrolled": true
   },
   "outputs": [
    {
     "name": "stdout",
     "output_type": "stream",
     "text": [
      "Relevant\n",
      "Not Relevant\n"
     ]
    }
   ],
   "source": [
    "tweet1 = '200 houses were on fire after an electric spark burns the stack of wood'\n",
    "tweet2 = 'Michael curry is on the roll as he scored the fifth goal on the football tournament.'\n",
    "#tweet2 = 'Michael curry is on fire as he scored the fifth goal on the football tournament.'\n",
    "twitter_predictor(tweet1)\n",
    "twitter_predictor(tweet2)"
   ]
  },
  {
   "cell_type": "markdown",
   "metadata": {
    "id": "ftGzyeFCH1BB"
   },
   "source": [
    "Is your model able to give you the right result? \n",
    "\n",
    "What do you think we can do to improve the model performance?\n",
    "\n",
    "Remember that we only use the top 500 tokens earlier? What do you think will happen if we choose more/ less tokens?"
   ]
  },
  {
   "cell_type": "markdown",
   "metadata": {
    "id": "eAv3B2soH1BB"
   },
   "source": [
    "Congratulations! You have now built your very own machine learning NLP model.  \n",
    "  \n",
    "# 5. NLP classification challenge!\n",
    "Now that you have learnt the basics of using the bag-of-words normalized by TFIDF to do classification of natural language data, it is time put your skills to the test!  \n",
    "\n",
    "## Sentiment analysis\n",
    "An important application of the classification of natural text is in _sentiment analysis_. Sentiment analysis is the process of categorizing opinions in a piece of text in order to identify the writer's attitude toward a particular topic.  \n",
    "  \n",
    "In this challenge, we will be classifying movie reviews from [imdb](https://www.imdb.com/). The data has already been stored as two .pkl files (for now, just understand these as file types that can be read using python), one for the training data, and one on the test data. \n",
    "\n",
    "You will have to process and train your model on the train dataset of movie reviews `df_raw.pkl`, and then report the accuracy of your model on the test move reviews `df_raw_test.pkl`.  \n",
    "  \n",
    "You will be predicting if a review has either a positive or negative sentiment. Positive sentiments are labeled as 1, while negative sentiments are labeled as 0.\n",
    "  \n",
    "In this segment we utilize a few new functions provided by sklearn. \n",
    "1. You can generate your bag of words and condition it using TFIDF with the functions you have built earlier. \n",
    "2. Alternatively, the [`CountVectorizer`](https://scikit-learn.org/stable/modules/generated/sklearn.feature_extraction.text.CountVectorizer.html) function can be used to create your bag of words. Use the `max_features=5000` argument to only select the top 5000 most common words. \n",
    "3. You can also use the [`TfidfTransformer`](https://scikit-learn.org/stable/modules/generated/sklearn.feature_extraction.text.TfidfVectorizer.html#sklearn.feature_extraction.text.TfidfVectorizer) to help transform your bag of words with TFIDF.  \n",
    "  \n",
    "The dataframes for the train and test dataset has already been imported for you. You will have to make use of the skills you have learnt earlier and in Experience 1 to preprocess, vectorize (with the bag of words), transform (with TFIDF), fit, and predict the movie review sentiments."
   ]
  },
  {
   "cell_type": "code",
   "execution_count": null,
   "metadata": {
    "colab": {
     "base_uri": "https://localhost:8080/",
     "height": 380
    },
    "executionInfo": {
     "elapsed": 32,
     "status": "error",
     "timestamp": 1654166304066,
     "user": {
      "displayName": "Mohit Ahuja",
      "userId": "05773503373517638884"
     },
     "user_tz": -330
    },
    "id": "O-ybEpBHH1BB",
    "outputId": "2c524a0c-3f8a-4bea-d665-baf51d086a81"
   },
   "outputs": [
    {
     "ename": "FileNotFoundError",
     "evalue": "ignored",
     "output_type": "error",
     "traceback": [
      "\u001b[0;31m---------------------------------------------------------------------------\u001b[0m",
      "\u001b[0;31mFileNotFoundError\u001b[0m                         Traceback (most recent call last)",
      "\u001b[0;32m<ipython-input-58-509bb666517e>\u001b[0m in \u001b[0;36m<module>\u001b[0;34m()\u001b[0m\n\u001b[1;32m      5\u001b[0m \u001b[0;32mfrom\u001b[0m \u001b[0msklearn\u001b[0m\u001b[0;34m.\u001b[0m\u001b[0mfeature_extraction\u001b[0m\u001b[0;34m.\u001b[0m\u001b[0mtext\u001b[0m \u001b[0;32mimport\u001b[0m \u001b[0mCountVectorizer\u001b[0m \u001b[0;31m# This function helps you create your bag of words\u001b[0m\u001b[0;34m\u001b[0m\u001b[0;34m\u001b[0m\u001b[0m\n\u001b[1;32m      6\u001b[0m \u001b[0;32mfrom\u001b[0m \u001b[0msklearn\u001b[0m\u001b[0;34m.\u001b[0m\u001b[0mfeature_extraction\u001b[0m\u001b[0;34m.\u001b[0m\u001b[0mtext\u001b[0m \u001b[0;32mimport\u001b[0m \u001b[0mTfidfTransformer\u001b[0m \u001b[0;31m# This function automatically normalizes your bag of words\u001b[0m\u001b[0;34m\u001b[0m\u001b[0;34m\u001b[0m\u001b[0m\n\u001b[0;32m----> 7\u001b[0;31m \u001b[0mdf_raw\u001b[0m \u001b[0;34m=\u001b[0m \u001b[0mpd\u001b[0m\u001b[0;34m.\u001b[0m\u001b[0mread_pickle\u001b[0m\u001b[0;34m(\u001b[0m\u001b[0;34m'./imdb/df_raw.pkl'\u001b[0m\u001b[0;34m)\u001b[0m\u001b[0;34m\u001b[0m\u001b[0;34m\u001b[0m\u001b[0m\n\u001b[0m\u001b[1;32m      8\u001b[0m \u001b[0mdf_raw_test\u001b[0m \u001b[0;34m=\u001b[0m \u001b[0mpd\u001b[0m\u001b[0;34m.\u001b[0m\u001b[0mread_pickle\u001b[0m\u001b[0;34m(\u001b[0m\u001b[0;34m'./imdb/df_raw_test.pkl'\u001b[0m\u001b[0;34m)\u001b[0m\u001b[0;34m\u001b[0m\u001b[0;34m\u001b[0m\u001b[0m\n",
      "\u001b[0;32m/usr/local/lib/python3.7/dist-packages/pandas/io/pickle.py\u001b[0m in \u001b[0;36mread_pickle\u001b[0;34m(filepath_or_buffer, compression, storage_options)\u001b[0m\n\u001b[1;32m    199\u001b[0m         \u001b[0mcompression\u001b[0m\u001b[0;34m=\u001b[0m\u001b[0mcompression\u001b[0m\u001b[0;34m,\u001b[0m\u001b[0;34m\u001b[0m\u001b[0;34m\u001b[0m\u001b[0m\n\u001b[1;32m    200\u001b[0m         \u001b[0mis_text\u001b[0m\u001b[0;34m=\u001b[0m\u001b[0;32mFalse\u001b[0m\u001b[0;34m,\u001b[0m\u001b[0;34m\u001b[0m\u001b[0;34m\u001b[0m\u001b[0m\n\u001b[0;32m--> 201\u001b[0;31m         \u001b[0mstorage_options\u001b[0m\u001b[0;34m=\u001b[0m\u001b[0mstorage_options\u001b[0m\u001b[0;34m,\u001b[0m\u001b[0;34m\u001b[0m\u001b[0;34m\u001b[0m\u001b[0m\n\u001b[0m\u001b[1;32m    202\u001b[0m     ) as handles:\n\u001b[1;32m    203\u001b[0m \u001b[0;34m\u001b[0m\u001b[0m\n",
      "\u001b[0;32m/usr/local/lib/python3.7/dist-packages/pandas/io/common.py\u001b[0m in \u001b[0;36mget_handle\u001b[0;34m(path_or_buf, mode, encoding, compression, memory_map, is_text, errors, storage_options)\u001b[0m\n\u001b[1;32m    709\u001b[0m         \u001b[0;32melse\u001b[0m\u001b[0;34m:\u001b[0m\u001b[0;34m\u001b[0m\u001b[0;34m\u001b[0m\u001b[0m\n\u001b[1;32m    710\u001b[0m             \u001b[0;31m# Binary mode\u001b[0m\u001b[0;34m\u001b[0m\u001b[0;34m\u001b[0m\u001b[0;34m\u001b[0m\u001b[0m\n\u001b[0;32m--> 711\u001b[0;31m             \u001b[0mhandle\u001b[0m \u001b[0;34m=\u001b[0m \u001b[0mopen\u001b[0m\u001b[0;34m(\u001b[0m\u001b[0mhandle\u001b[0m\u001b[0;34m,\u001b[0m \u001b[0mioargs\u001b[0m\u001b[0;34m.\u001b[0m\u001b[0mmode\u001b[0m\u001b[0;34m)\u001b[0m\u001b[0;34m\u001b[0m\u001b[0;34m\u001b[0m\u001b[0m\n\u001b[0m\u001b[1;32m    712\u001b[0m         \u001b[0mhandles\u001b[0m\u001b[0;34m.\u001b[0m\u001b[0mappend\u001b[0m\u001b[0;34m(\u001b[0m\u001b[0mhandle\u001b[0m\u001b[0;34m)\u001b[0m\u001b[0;34m\u001b[0m\u001b[0;34m\u001b[0m\u001b[0m\n\u001b[1;32m    713\u001b[0m \u001b[0;34m\u001b[0m\u001b[0m\n",
      "\u001b[0;31mFileNotFoundError\u001b[0m: [Errno 2] No such file or directory: './imdb/df_raw.pkl'"
     ]
    }
   ],
   "source": [
    "import pandas as pd\n",
    "import numpy as np\n",
    "import nltk\n",
    "import re\n",
    "from sklearn.feature_extraction.text import CountVectorizer # This function helps you create your bag of words\n",
    "from sklearn.feature_extraction.text import TfidfTransformer # This function automatically normalizes your bag of words\n",
    "df_raw = pd.read_pickle('./imdb/df_raw.pkl')\n",
    "df_raw_test = pd.read_pickle('./imdb/df_raw_test.pkl')"
   ]
  },
  {
   "cell_type": "markdown",
   "metadata": {
    "id": "LZXJLWe1H1BB"
   },
   "source": [
    "To start off, try printing a sample of the test dataset. What are the names of the columns?"
   ]
  },
  {
   "cell_type": "code",
   "execution_count": null,
   "metadata": {
    "id": "04js84uJH1BC"
   },
   "outputs": [],
   "source": [
    "# your code here\n",
    "df_raw_test"
   ]
  },
  {
   "cell_type": "markdown",
   "metadata": {
    "id": "z9RBi1kgH1BC"
   },
   "source": [
    "Now, process your text using the `CountVectorizer` to create your bag of words. you can create a class of `CountVectorizer()`, and use the method `.fit_transform()` with the text as argument to build your bag of words."
   ]
  },
  {
   "cell_type": "code",
   "execution_count": null,
   "metadata": {
    "id": "TsZld7LYH1BC"
   },
   "outputs": [],
   "source": [
    "vectorizer = CountVectorizer(analyzer = \"word\", strip_accents=None, tokenizer = None, \\\n",
    "                             preprocessor = None, stop_words = None, max_features = 5000) \n",
    "train_data_features = vectorizer.fit_transform(df_raw['text'])\n",
    "test_data_features = vectorizer.transform(df_raw_test['text'])"
   ]
  },
  {
   "cell_type": "markdown",
   "metadata": {
    "id": "rCH82044H1BC"
   },
   "source": [
    "Now normalize your bag of words using the `TfidfTransformer`. Use it the same way as above. Create a class, and use the `.fit_transform()` method with the bag of words as your argument to create your TFIDF."
   ]
  },
  {
   "cell_type": "code",
   "execution_count": null,
   "metadata": {
    "id": "m4_LyRL4H1BD"
   },
   "outputs": [],
   "source": [
    "tfidfier = TfidfTransformer()\n",
    "tfidf = tfidfier.fit_transform(train_data_features)\n",
    "tfidf_test = tfidfier.transform(test_data_features)"
   ]
  },
  {
   "cell_type": "markdown",
   "metadata": {
    "id": "zCGzW0xeH1BD"
   },
   "source": [
    "Now, use your transformed bag of words as the features to train and test your model like we did before."
   ]
  },
  {
   "cell_type": "code",
   "execution_count": null,
   "metadata": {
    "id": "8WgMydnIH1BD"
   },
   "outputs": [],
   "source": [
    "X_all = tfidf.toarray()\n",
    "y_all = df_raw['positive'].values\n",
    "X_test = tfidf_test.toarray()\n",
    "y_test = df_raw_test['positive'].values\n",
    "def classify():\n",
    "    rf = LogisticRegression()\n",
    "    rf.fit(X_all,y_all)\n",
    "    print(rf.score(X_test,y_test))\n",
    "    return rf\n",
    "classify()"
   ]
  },
  {
   "cell_type": "markdown",
   "metadata": {
    "id": "vDBLSYU6H1BD"
   },
   "source": [
    "You should have an accuracy of 80% without any hyperparameter tuning. Try and get the best accuracy on the test set that you can! This dataset is one of the hallmarks of natural language processing and is the entry-point for many aspiring data scientists and engineers. You can [see the original competition here](https://www.kaggle.com/c/word2vec-nlp-tutorial), and look at the different solutions other people have created!  \n",
    "\n",
    "## Next up, you can create a function to input your own review and get the model to predict if your sentence is positive or negative!\n",
    "\n",
    "# Congratulations!\n",
    "You have learnt how to build a natural language text classifier! "
   ]
  }
 ],
 "metadata": {
  "colab": {
   "name": "[Jupyter - Coach] Module 23.ipynb",
   "provenance": []
  },
  "kernelspec": {
   "display_name": "Python 3 (ipykernel)",
   "language": "python",
   "name": "python3"
  },
  "language_info": {
   "codemirror_mode": {
    "name": "ipython",
    "version": 3
   },
   "file_extension": ".py",
   "mimetype": "text/x-python",
   "name": "python",
   "nbconvert_exporter": "python",
   "pygments_lexer": "ipython3",
   "version": "3.9.12"
  }
 },
 "nbformat": 4,
 "nbformat_minor": 1
}
